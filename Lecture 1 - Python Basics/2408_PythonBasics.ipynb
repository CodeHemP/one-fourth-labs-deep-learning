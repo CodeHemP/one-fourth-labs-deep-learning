{
  "nbformat": 4,
  "nbformat_minor": 0,
  "metadata": {
    "colab": {
      "name": "2408_PythonBasics.ipynb",
      "version": "0.3.2",
      "provenance": [],
      "collapsed_sections": [
        "JcUg29a-yBoS",
        "HuV8q602ycUL",
        "qaUa91iqyjo7"
      ],
      "toc_visible": true,
      "machine_shape": "hm"
    },
    "kernelspec": {
      "name": "python3",
      "display_name": "Python 3"
    },
    "accelerator": "GPU"
  },
  "cells": [
    {
      "cell_type": "markdown",
      "metadata": {
        "id": "JcUg29a-yBoS",
        "colab_type": "text"
      },
      "source": [
        "# Simple Data Types and Basic Operators"
      ]
    },
    {
      "cell_type": "code",
      "metadata": {
        "id": "mdgekZkyrDIb",
        "colab_type": "code",
        "colab": {}
      },
      "source": [
        "name = 'iPhone 5S'"
      ],
      "execution_count": 0,
      "outputs": []
    },
    {
      "cell_type": "code",
      "metadata": {
        "id": "ZckRAteJsFYq",
        "colab_type": "code",
        "outputId": "92f6875c-3b28-46ab-ea3f-b63ed52c7053",
        "colab": {
          "base_uri": "https://localhost:8080/",
          "height": 0
        }
      },
      "source": [
        "name"
      ],
      "execution_count": 2,
      "outputs": [
        {
          "output_type": "execute_result",
          "data": {
            "text/plain": [
              "'iPhone 5S'"
            ]
          },
          "metadata": {
            "tags": []
          },
          "execution_count": 2
        }
      ]
    },
    {
      "cell_type": "code",
      "metadata": {
        "id": "qsGwSF1PsMB6",
        "colab_type": "code",
        "outputId": "ea698eeb-6609-4627-89f2-521e975f43bd",
        "colab": {
          "base_uri": "https://localhost:8080/",
          "height": 0
        }
      },
      "source": [
        "type(name)"
      ],
      "execution_count": 3,
      "outputs": [
        {
          "output_type": "execute_result",
          "data": {
            "text/plain": [
              "str"
            ]
          },
          "metadata": {
            "tags": []
          },
          "execution_count": 3
        }
      ]
    },
    {
      "cell_type": "code",
      "metadata": {
        "id": "5FYZm77tuIIM",
        "colab_type": "code",
        "outputId": "c6168617-6479-48f1-f1fc-ca1288a16b6b",
        "colab": {
          "base_uri": "https://localhost:8080/",
          "height": 0
        }
      },
      "source": [
        "screen_size = 4.3\n",
        "type(screen_size)"
      ],
      "execution_count": 4,
      "outputs": [
        {
          "output_type": "execute_result",
          "data": {
            "text/plain": [
              "float"
            ]
          },
          "metadata": {
            "tags": []
          },
          "execution_count": 4
        }
      ]
    },
    {
      "cell_type": "code",
      "metadata": {
        "id": "eHkEKKqruQsz",
        "colab_type": "code",
        "outputId": "69e37862-bd84-4ddd-bcdd-c185b1a49408",
        "colab": {
          "base_uri": "https://localhost:8080/",
          "height": 0
        }
      },
      "source": [
        "num_of_speakers = 1\n",
        "type(num_of_speakers)"
      ],
      "execution_count": 5,
      "outputs": [
        {
          "output_type": "execute_result",
          "data": {
            "text/plain": [
              "int"
            ]
          },
          "metadata": {
            "tags": []
          },
          "execution_count": 5
        }
      ]
    },
    {
      "cell_type": "code",
      "metadata": {
        "id": "lZiuX_cyuddP",
        "colab_type": "code",
        "outputId": "25209b66-93b4-4c8e-aaaa-b13fbe6c3429",
        "colab": {
          "base_uri": "https://localhost:8080/",
          "height": 0
        }
      },
      "source": [
        "print(\"I just bought an\",name)"
      ],
      "execution_count": 6,
      "outputs": [
        {
          "output_type": "stream",
          "text": [
            "I just bought an iPhone 5S\n"
          ],
          "name": "stdout"
        }
      ]
    },
    {
      "cell_type": "code",
      "metadata": {
        "id": "T7g-9YeMu0Uk",
        "colab_type": "code",
        "outputId": "a574a1fa-bab3-4edd-ab68-846a7a852eaf",
        "colab": {
          "base_uri": "https://localhost:8080/",
          "height": 0
        }
      },
      "source": [
        "print(\"I just bought an \"+name)"
      ],
      "execution_count": 7,
      "outputs": [
        {
          "output_type": "stream",
          "text": [
            "I just bought an iPhone 5S\n"
          ],
          "name": "stdout"
        }
      ]
    },
    {
      "cell_type": "code",
      "metadata": {
        "id": "Qcl8NFzku45Q",
        "colab_type": "code",
        "outputId": "e4879b49-1edd-439b-f1bc-fd09b2ee1187",
        "colab": {
          "base_uri": "https://localhost:8080/",
          "height": 0
        }
      },
      "source": [
        "is_android = False\n",
        "type(is_android)"
      ],
      "execution_count": 8,
      "outputs": [
        {
          "output_type": "execute_result",
          "data": {
            "text/plain": [
              "bool"
            ]
          },
          "metadata": {
            "tags": []
          },
          "execution_count": 8
        }
      ]
    },
    {
      "cell_type": "code",
      "metadata": {
        "id": "VTwRkav2vAO0",
        "colab_type": "code",
        "outputId": "e015c679-6a08-42a7-9740-a8a7d826d58b",
        "colab": {
          "base_uri": "https://localhost:8080/",
          "height": 0
        }
      },
      "source": [
        "is_android==True"
      ],
      "execution_count": 9,
      "outputs": [
        {
          "output_type": "execute_result",
          "data": {
            "text/plain": [
              "False"
            ]
          },
          "metadata": {
            "tags": []
          },
          "execution_count": 9
        }
      ]
    },
    {
      "cell_type": "code",
      "metadata": {
        "id": "Ee-dRcvEvGXU",
        "colab_type": "code",
        "outputId": "aa5d8860-e435-4410-baf5-c37972d6c6d2",
        "colab": {
          "base_uri": "https://localhost:8080/",
          "height": 0
        }
      },
      "source": [
        "print(is_android==False and num_of_speakers>1)"
      ],
      "execution_count": 10,
      "outputs": [
        {
          "output_type": "stream",
          "text": [
            "False\n"
          ],
          "name": "stdout"
        }
      ]
    },
    {
      "cell_type": "markdown",
      "metadata": {
        "id": "HuV8q602ycUL",
        "colab_type": "text"
      },
      "source": [
        "# Code Blocks - If, for, while"
      ]
    },
    {
      "cell_type": "code",
      "metadata": {
        "id": "kgxaXkShyP8y",
        "colab_type": "code",
        "outputId": "1b5aea5e-1221-4e34-aeff-127eb55483ca",
        "colab": {
          "base_uri": "https://localhost:8080/",
          "height": 0
        }
      },
      "source": [
        "if is_android==True:\n",
        "  print(\"inside the if condition\")\n",
        "print(\"outside if\")"
      ],
      "execution_count": 11,
      "outputs": [
        {
          "output_type": "stream",
          "text": [
            "outside if\n"
          ],
          "name": "stdout"
        }
      ]
    },
    {
      "cell_type": "code",
      "metadata": {
        "id": "GNqiRl6dyYC6",
        "colab_type": "code",
        "outputId": "bc4a8968-bbd3-41e0-9554-b438fae2980a",
        "colab": {
          "base_uri": "https://localhost:8080/",
          "height": 0
        }
      },
      "source": [
        "for i in range(5):\n",
        "  print(i)"
      ],
      "execution_count": 12,
      "outputs": [
        {
          "output_type": "stream",
          "text": [
            "0\n",
            "1\n",
            "2\n",
            "3\n",
            "4\n"
          ],
          "name": "stdout"
        }
      ]
    },
    {
      "cell_type": "code",
      "metadata": {
        "id": "5L2UDggsvTYy",
        "colab_type": "code",
        "colab": {}
      },
      "source": [
        "range?"
      ],
      "execution_count": 0,
      "outputs": []
    },
    {
      "cell_type": "markdown",
      "metadata": {
        "id": "qaUa91iqyjo7",
        "colab_type": "text"
      },
      "source": [
        "# Functions"
      ]
    },
    {
      "cell_type": "code",
      "metadata": {
        "id": "WpFPqKimv97l",
        "colab_type": "code",
        "colab": {}
      },
      "source": [
        "def print_squares_with_startval(stopval,startval=0):\n",
        "  \"\"\"Prints the squares of the numbers in the given range, with stopval(exclusive) and startval(inclusive)\"\"\"\n",
        "  \n",
        "  for i in range(startval,stopval):\n",
        "    print(i,i**2)"
      ],
      "execution_count": 0,
      "outputs": []
    },
    {
      "cell_type": "code",
      "metadata": {
        "id": "8EFaq4H4xdpN",
        "colab_type": "code",
        "outputId": "d9c0fcc5-5365-46d0-dc14-f75da28dc343",
        "colab": {
          "base_uri": "https://localhost:8080/",
          "height": 0
        }
      },
      "source": [
        "print_squares_with_startval(5,2)"
      ],
      "execution_count": 15,
      "outputs": [
        {
          "output_type": "stream",
          "text": [
            "2 4\n",
            "3 9\n",
            "4 16\n"
          ],
          "name": "stdout"
        }
      ]
    },
    {
      "cell_type": "code",
      "metadata": {
        "id": "TeY07echxfv-",
        "colab_type": "code",
        "outputId": "cc478185-9e78-4323-895b-e4037a6ac880",
        "colab": {
          "base_uri": "https://localhost:8080/",
          "height": 0
        }
      },
      "source": [
        "help(print_squares_with_startval)"
      ],
      "execution_count": 16,
      "outputs": [
        {
          "output_type": "stream",
          "text": [
            "Help on function print_squares_with_startval in module __main__:\n",
            "\n",
            "print_squares_with_startval(stopval, startval=0)\n",
            "    Prints the squares of the numbers in the given range, with stopval(exclusive) and startval(inclusive)\n",
            "\n"
          ],
          "name": "stdout"
        }
      ]
    },
    {
      "cell_type": "code",
      "metadata": {
        "id": "gbzVFQj2xjk_",
        "colab_type": "code",
        "colab": {}
      },
      "source": [
        "print_squares_with_startval?"
      ],
      "execution_count": 0,
      "outputs": []
    },
    {
      "cell_type": "code",
      "metadata": {
        "id": "PQKZViiCxvWS",
        "colab_type": "code",
        "colab": {}
      },
      "source": [
        ""
      ],
      "execution_count": 0,
      "outputs": []
    },
    {
      "cell_type": "markdown",
      "metadata": {
        "id": "qVs2_1FZyquP",
        "colab_type": "text"
      },
      "source": [
        "# Lists"
      ]
    },
    {
      "cell_type": "code",
      "metadata": {
        "id": "EBES335uyrp7",
        "colab_type": "code",
        "colab": {}
      },
      "source": [
        "my_phone = [name, is_android, screen_size]"
      ],
      "execution_count": 0,
      "outputs": []
    },
    {
      "cell_type": "code",
      "metadata": {
        "id": "w7xieyAOzCaj",
        "colab_type": "code",
        "outputId": "7498b2db-770d-41ca-9186-3c295edd8d79",
        "colab": {
          "base_uri": "https://localhost:8080/",
          "height": 34
        }
      },
      "source": [
        "my_phone"
      ],
      "execution_count": 19,
      "outputs": [
        {
          "output_type": "execute_result",
          "data": {
            "text/plain": [
              "['iPhone 5S', False, 4.3]"
            ]
          },
          "metadata": {
            "tags": []
          },
          "execution_count": 19
        }
      ]
    },
    {
      "cell_type": "code",
      "metadata": {
        "id": "aXEvrsTTzDSP",
        "colab_type": "code",
        "outputId": "9cbd4cb7-6dcf-4dc1-dee5-5465826f64b6",
        "colab": {
          "base_uri": "https://localhost:8080/",
          "height": 34
        }
      },
      "source": [
        "type(my_phone)"
      ],
      "execution_count": 20,
      "outputs": [
        {
          "output_type": "execute_result",
          "data": {
            "text/plain": [
              "list"
            ]
          },
          "metadata": {
            "tags": []
          },
          "execution_count": 20
        }
      ]
    },
    {
      "cell_type": "code",
      "metadata": {
        "id": "sh-DYz3KzFtW",
        "colab_type": "code",
        "outputId": "9ea1b148-06c7-4c06-f3f0-a5f7ca4ce54f",
        "colab": {
          "base_uri": "https://localhost:8080/",
          "height": 34
        }
      },
      "source": [
        "type(my_phone[0])"
      ],
      "execution_count": 21,
      "outputs": [
        {
          "output_type": "execute_result",
          "data": {
            "text/plain": [
              "str"
            ]
          },
          "metadata": {
            "tags": []
          },
          "execution_count": 21
        }
      ]
    },
    {
      "cell_type": "code",
      "metadata": {
        "id": "y6P3CSA-zS15",
        "colab_type": "code",
        "outputId": "d56c2e98-d50a-4cc5-e123-e4c1a1e1767b",
        "colab": {
          "base_uri": "https://localhost:8080/",
          "height": 34
        }
      },
      "source": [
        "my_phone[:2]"
      ],
      "execution_count": 22,
      "outputs": [
        {
          "output_type": "execute_result",
          "data": {
            "text/plain": [
              "['iPhone 5S', False]"
            ]
          },
          "metadata": {
            "tags": []
          },
          "execution_count": 22
        }
      ]
    },
    {
      "cell_type": "code",
      "metadata": {
        "id": "RGrYay51zVS6",
        "colab_type": "code",
        "outputId": "4819446b-6b01-4003-f62d-3bfb81488d29",
        "colab": {
          "base_uri": "https://localhost:8080/",
          "height": 34
        }
      },
      "source": [
        "my_phone[1:3]"
      ],
      "execution_count": 23,
      "outputs": [
        {
          "output_type": "execute_result",
          "data": {
            "text/plain": [
              "[False, 4.3]"
            ]
          },
          "metadata": {
            "tags": []
          },
          "execution_count": 23
        }
      ]
    },
    {
      "cell_type": "code",
      "metadata": {
        "id": "Cu1MYueMzYbx",
        "colab_type": "code",
        "outputId": "78848724-3eb5-4bbb-e4a6-0699c98f34c7",
        "colab": {
          "base_uri": "https://localhost:8080/",
          "height": 34
        }
      },
      "source": [
        "my_phone[1:]"
      ],
      "execution_count": 24,
      "outputs": [
        {
          "output_type": "execute_result",
          "data": {
            "text/plain": [
              "[False, 4.3]"
            ]
          },
          "metadata": {
            "tags": []
          },
          "execution_count": 24
        }
      ]
    },
    {
      "cell_type": "code",
      "metadata": {
        "id": "c2PHBa9qzZ_k",
        "colab_type": "code",
        "colab": {}
      },
      "source": [
        "my_dad_phone = my_phone"
      ],
      "execution_count": 0,
      "outputs": []
    },
    {
      "cell_type": "code",
      "metadata": {
        "id": "duLrn-Suzd-c",
        "colab_type": "code",
        "outputId": "831a29ea-0ecd-4ba3-9a31-afbd869ab2f5",
        "colab": {
          "base_uri": "https://localhost:8080/",
          "height": 34
        }
      },
      "source": [
        "print(my_dad_phone)"
      ],
      "execution_count": 26,
      "outputs": [
        {
          "output_type": "stream",
          "text": [
            "['iPhone 5S', False, 4.3]\n"
          ],
          "name": "stdout"
        }
      ]
    },
    {
      "cell_type": "code",
      "metadata": {
        "id": "PI1nCkWMzfqS",
        "colab_type": "code",
        "colab": {}
      },
      "source": [
        "my_phone[2] = 4"
      ],
      "execution_count": 0,
      "outputs": []
    },
    {
      "cell_type": "code",
      "metadata": {
        "id": "sbHlnwo7zo3t",
        "colab_type": "code",
        "outputId": "7e6fb7dc-9765-4b7d-d233-79991e2472ab",
        "colab": {
          "base_uri": "https://localhost:8080/",
          "height": 34
        }
      },
      "source": [
        "my_phone"
      ],
      "execution_count": 28,
      "outputs": [
        {
          "output_type": "execute_result",
          "data": {
            "text/plain": [
              "['iPhone 5S', False, 4]"
            ]
          },
          "metadata": {
            "tags": []
          },
          "execution_count": 28
        }
      ]
    },
    {
      "cell_type": "code",
      "metadata": {
        "id": "D71dZnCMzp8X",
        "colab_type": "code",
        "outputId": "4786c064-fb54-4fb1-b4e7-7f52070a628f",
        "colab": {
          "base_uri": "https://localhost:8080/",
          "height": 34
        }
      },
      "source": [
        "##Changes in my_phone get reflected here, i.e. the copy is shallow, or the reference is being shared between the two objects\n",
        "print(my_dad_phone)"
      ],
      "execution_count": 29,
      "outputs": [
        {
          "output_type": "stream",
          "text": [
            "['iPhone 5S', False, 4]\n"
          ],
          "name": "stdout"
        }
      ]
    },
    {
      "cell_type": "code",
      "metadata": {
        "id": "ubpHZUTRzuWS",
        "colab_type": "code",
        "colab": {}
      },
      "source": [
        "my_dad_phone2 = list(my_phone)"
      ],
      "execution_count": 0,
      "outputs": []
    },
    {
      "cell_type": "code",
      "metadata": {
        "id": "w-A7XzOt0KL8",
        "colab_type": "code",
        "outputId": "efdd686f-dfa9-496c-96e5-2a3ad549285f",
        "colab": {
          "base_uri": "https://localhost:8080/",
          "height": 34
        }
      },
      "source": [
        "my_dad_phone2"
      ],
      "execution_count": 31,
      "outputs": [
        {
          "output_type": "execute_result",
          "data": {
            "text/plain": [
              "['iPhone 5S', False, 4]"
            ]
          },
          "metadata": {
            "tags": []
          },
          "execution_count": 31
        }
      ]
    },
    {
      "cell_type": "code",
      "metadata": {
        "id": "dB4Qga1F0MbK",
        "colab_type": "code",
        "colab": {}
      },
      "source": [
        "my_phone[2] = 4.2"
      ],
      "execution_count": 0,
      "outputs": []
    },
    {
      "cell_type": "code",
      "metadata": {
        "id": "BTSN1oJl0OH2",
        "colab_type": "code",
        "outputId": "791bb831-a447-49a3-9118-30b50a28bc4a",
        "colab": {
          "base_uri": "https://localhost:8080/",
          "height": 34
        }
      },
      "source": [
        "my_dad_phone2"
      ],
      "execution_count": 33,
      "outputs": [
        {
          "output_type": "execute_result",
          "data": {
            "text/plain": [
              "['iPhone 5S', False, 4]"
            ]
          },
          "metadata": {
            "tags": []
          },
          "execution_count": 33
        }
      ]
    },
    {
      "cell_type": "code",
      "metadata": {
        "id": "eCG82vW00QEv",
        "colab_type": "code",
        "colab": {}
      },
      "source": [
        "my_dad_phone3 = my_phone.copy()"
      ],
      "execution_count": 0,
      "outputs": []
    },
    {
      "cell_type": "code",
      "metadata": {
        "id": "vAzJVm5h0TG3",
        "colab_type": "code",
        "outputId": "6d11679e-c1a4-418b-e350-35634535221a",
        "colab": {
          "base_uri": "https://localhost:8080/",
          "height": 34
        }
      },
      "source": [
        "my_dad_phone3"
      ],
      "execution_count": 35,
      "outputs": [
        {
          "output_type": "execute_result",
          "data": {
            "text/plain": [
              "['iPhone 5S', False, 4.2]"
            ]
          },
          "metadata": {
            "tags": []
          },
          "execution_count": 35
        }
      ]
    },
    {
      "cell_type": "code",
      "metadata": {
        "id": "BIrzJZyd0UpZ",
        "colab_type": "code",
        "colab": {}
      },
      "source": [
        "my_phone[2] = 5"
      ],
      "execution_count": 0,
      "outputs": []
    },
    {
      "cell_type": "code",
      "metadata": {
        "id": "DiK0qNBu0WVx",
        "colab_type": "code",
        "outputId": "74675f3e-e1a4-4a75-f467-d7dde3240090",
        "colab": {
          "base_uri": "https://localhost:8080/",
          "height": 34
        }
      },
      "source": [
        "my_dad_phone3"
      ],
      "execution_count": 37,
      "outputs": [
        {
          "output_type": "execute_result",
          "data": {
            "text/plain": [
              "['iPhone 5S', False, 4.2]"
            ]
          },
          "metadata": {
            "tags": []
          },
          "execution_count": 37
        }
      ]
    },
    {
      "cell_type": "code",
      "metadata": {
        "id": "Q8sK16dj0XvD",
        "colab_type": "code",
        "outputId": "97e5ef3e-5827-4840-869a-6eeae874d7f7",
        "colab": {
          "base_uri": "https://localhost:8080/",
          "height": 34
        }
      },
      "source": [
        "##Returns the no. of elements in the list\n",
        "len(my_phone)"
      ],
      "execution_count": 38,
      "outputs": [
        {
          "output_type": "execute_result",
          "data": {
            "text/plain": [
              "3"
            ]
          },
          "metadata": {
            "tags": []
          },
          "execution_count": 38
        }
      ]
    },
    {
      "cell_type": "code",
      "metadata": {
        "id": "IfZWuA_i0hiO",
        "colab_type": "code",
        "colab": {}
      },
      "source": [
        "my_phone.append('3g')"
      ],
      "execution_count": 0,
      "outputs": []
    },
    {
      "cell_type": "code",
      "metadata": {
        "id": "x8Ylwg0g1HCc",
        "colab_type": "code",
        "outputId": "4353ff6a-5e5b-4133-802f-62a9f8b75da2",
        "colab": {
          "base_uri": "https://localhost:8080/",
          "height": 34
        }
      },
      "source": [
        "len(my_phone)"
      ],
      "execution_count": 40,
      "outputs": [
        {
          "output_type": "execute_result",
          "data": {
            "text/plain": [
              "4"
            ]
          },
          "metadata": {
            "tags": []
          },
          "execution_count": 40
        }
      ]
    },
    {
      "cell_type": "code",
      "metadata": {
        "id": "ipMrG1nt1IBg",
        "colab_type": "code",
        "outputId": "792e9fe1-e098-46ae-cb71-816db483f6c1",
        "colab": {
          "base_uri": "https://localhost:8080/",
          "height": 34
        }
      },
      "source": [
        "my_phone"
      ],
      "execution_count": 41,
      "outputs": [
        {
          "output_type": "execute_result",
          "data": {
            "text/plain": [
              "['iPhone 5S', False, 5, '3g']"
            ]
          },
          "metadata": {
            "tags": []
          },
          "execution_count": 41
        }
      ]
    },
    {
      "cell_type": "code",
      "metadata": {
        "id": "R_KFiplh1I_-",
        "colab_type": "code",
        "colab": {}
      },
      "source": [
        "iphone_some_prefs = ['single_sim',35000]"
      ],
      "execution_count": 0,
      "outputs": []
    },
    {
      "cell_type": "code",
      "metadata": {
        "id": "XTWsa6971YeR",
        "colab_type": "code",
        "colab": {}
      },
      "source": [
        "my_phone+=iphone_some_prefs"
      ],
      "execution_count": 0,
      "outputs": []
    },
    {
      "cell_type": "code",
      "metadata": {
        "id": "QToqERJ71adi",
        "colab_type": "code",
        "outputId": "94fe59d8-26bb-4d9b-e7bc-8e2d80924057",
        "colab": {
          "base_uri": "https://localhost:8080/",
          "height": 34
        }
      },
      "source": [
        "##Concatenates the two lists into the first\n",
        "my_phone"
      ],
      "execution_count": 44,
      "outputs": [
        {
          "output_type": "execute_result",
          "data": {
            "text/plain": [
              "['iPhone 5S', False, 5, '3g', 'single_sim', 35000]"
            ]
          },
          "metadata": {
            "tags": []
          },
          "execution_count": 44
        }
      ]
    },
    {
      "cell_type": "code",
      "metadata": {
        "id": "iqvWzamPK9cR",
        "colab_type": "code",
        "colab": {}
      },
      "source": [
        "## Doesn't work\n",
        "# my_phone+=5"
      ],
      "execution_count": 0,
      "outputs": []
    },
    {
      "cell_type": "code",
      "metadata": {
        "id": "iZPymZdoLK6l",
        "colab_type": "code",
        "colab": {}
      },
      "source": [
        "## Doesn't work even if all member elements are integers\n",
        "\n",
        "# my_list = [10,15]\n",
        "# my_list+=5"
      ],
      "execution_count": 0,
      "outputs": []
    },
    {
      "cell_type": "code",
      "metadata": {
        "id": "6CgwPqA_1bSh",
        "colab_type": "code",
        "outputId": "78f8ddb0-616a-479b-b988-8a2a9337d10c",
        "colab": {
          "base_uri": "https://localhost:8080/",
          "height": 119
        }
      },
      "source": [
        "for data in my_phone:\n",
        "  print(data)"
      ],
      "execution_count": 47,
      "outputs": [
        {
          "output_type": "stream",
          "text": [
            "iPhone 5S\n",
            "False\n",
            "5\n",
            "3g\n",
            "single_sim\n",
            "35000\n"
          ],
          "name": "stdout"
        }
      ]
    },
    {
      "cell_type": "code",
      "metadata": {
        "id": "Q6iVPEaX1rBB",
        "colab_type": "code",
        "outputId": "bef1a77b-016f-48e3-a002-d9e604ce9d5e",
        "colab": {
          "base_uri": "https://localhost:8080/",
          "height": 34
        }
      },
      "source": [
        "list(range(5))"
      ],
      "execution_count": 48,
      "outputs": [
        {
          "output_type": "execute_result",
          "data": {
            "text/plain": [
              "[0, 1, 2, 3, 4]"
            ]
          },
          "metadata": {
            "tags": []
          },
          "execution_count": 48
        }
      ]
    },
    {
      "cell_type": "code",
      "metadata": {
        "id": "DDf456SO1yK-",
        "colab_type": "code",
        "colab": {}
      },
      "source": [
        "'''map() function returns a list of the results after applying the given function to each item of a given iterable (list, tuple etc.)'''\n",
        "\n",
        "a = list(range(5))\n",
        "b = list(map(lambda x:x**2, a))"
      ],
      "execution_count": 0,
      "outputs": []
    },
    {
      "cell_type": "code",
      "metadata": {
        "id": "zvMV7ubG5DCO",
        "colab_type": "code",
        "outputId": "9f3d0507-8af7-4534-abba-b7cb624f9fb4",
        "colab": {
          "base_uri": "https://localhost:8080/",
          "height": 34
        }
      },
      "source": [
        "b"
      ],
      "execution_count": 50,
      "outputs": [
        {
          "output_type": "execute_result",
          "data": {
            "text/plain": [
              "[0, 1, 4, 9, 16]"
            ]
          },
          "metadata": {
            "tags": []
          },
          "execution_count": 50
        }
      ]
    },
    {
      "cell_type": "code",
      "metadata": {
        "id": "Z1SpukP95E4n",
        "colab_type": "code",
        "colab": {}
      },
      "source": [
        "#applies the function sent in as parameter on each element of the list and includes the one which returns true \n",
        "c = list(filter(lambda x : x%2==0,b))"
      ],
      "execution_count": 0,
      "outputs": []
    },
    {
      "cell_type": "code",
      "metadata": {
        "id": "pCGXxf1i6FAE",
        "colab_type": "code",
        "outputId": "43c5b64e-1737-4509-e6e2-d138a1bc031c",
        "colab": {
          "base_uri": "https://localhost:8080/",
          "height": 34
        }
      },
      "source": [
        "c"
      ],
      "execution_count": 52,
      "outputs": [
        {
          "output_type": "execute_result",
          "data": {
            "text/plain": [
              "[0, 4, 16]"
            ]
          },
          "metadata": {
            "tags": []
          },
          "execution_count": 52
        }
      ]
    },
    {
      "cell_type": "code",
      "metadata": {
        "id": "98tOsjTk6F-D",
        "colab_type": "code",
        "colab": {}
      },
      "source": [
        ""
      ],
      "execution_count": 0,
      "outputs": []
    },
    {
      "cell_type": "markdown",
      "metadata": {
        "id": "gyq8GgymDcnr",
        "colab_type": "text"
      },
      "source": [
        "# Tuples"
      ]
    },
    {
      "cell_type": "code",
      "metadata": {
        "id": "iuZ4C3urDeyW",
        "colab_type": "code",
        "colab": {}
      },
      "source": [
        "##Tuples are immutable\n",
        "my_phone_tuple = (name,is_android,screen_size)"
      ],
      "execution_count": 0,
      "outputs": []
    },
    {
      "cell_type": "code",
      "metadata": {
        "id": "ipaIIxELDr-c",
        "colab_type": "code",
        "outputId": "c21dd6eb-f12e-4a6e-c8b3-0a40cfe3f272",
        "colab": {
          "base_uri": "https://localhost:8080/",
          "height": 34
        }
      },
      "source": [
        "type(my_phone_tuple)"
      ],
      "execution_count": 54,
      "outputs": [
        {
          "output_type": "execute_result",
          "data": {
            "text/plain": [
              "tuple"
            ]
          },
          "metadata": {
            "tags": []
          },
          "execution_count": 54
        }
      ]
    },
    {
      "cell_type": "code",
      "metadata": {
        "id": "fmjF8pFyDvGz",
        "colab_type": "code",
        "outputId": "0079f50b-38ff-45db-f862-a5bbe763aa71",
        "colab": {
          "base_uri": "https://localhost:8080/",
          "height": 34
        }
      },
      "source": [
        "import time\n",
        "\n",
        "tic = time.time()\n",
        "print(tic)"
      ],
      "execution_count": 55,
      "outputs": [
        {
          "output_type": "stream",
          "text": [
            "1566894020.1242611\n"
          ],
          "name": "stdout"
        }
      ]
    },
    {
      "cell_type": "code",
      "metadata": {
        "id": "AbF3ahb5D9A_",
        "colab_type": "code",
        "colab": {}
      },
      "source": [
        "\"\"\"Return the current time in seconds since the Epoch.\n",
        "Fractions of a second may be present if the system clock provides them.\"\"\"\n",
        "\n",
        "time.time?"
      ],
      "execution_count": 0,
      "outputs": []
    },
    {
      "cell_type": "code",
      "metadata": {
        "id": "vaO5XRioD-lU",
        "colab_type": "code",
        "outputId": "d97d888b-48e7-4642-ac24-f812720ddc91",
        "colab": {
          "base_uri": "https://localhost:8080/",
          "height": 34
        }
      },
      "source": [
        "tic = time.time()\n",
        "toc = time.time()\n",
        "\n",
        "print(\"elapsed time:\", toc-tic)"
      ],
      "execution_count": 57,
      "outputs": [
        {
          "output_type": "stream",
          "text": [
            "elapsed time: 1.6450881958007812e-05\n"
          ],
          "name": "stdout"
        }
      ]
    },
    {
      "cell_type": "code",
      "metadata": {
        "id": "Ok34Ih2cEQPD",
        "colab_type": "code",
        "outputId": "614fe6ba-056a-497e-ba84-b7ddb04eac8e",
        "colab": {
          "base_uri": "https://localhost:8080/",
          "height": 34
        }
      },
      "source": [
        "my_list = list(range(10000000))\n",
        "tic = time.time()\n",
        "my_list_squared = list(map(lambda x:x**2,my_list))\n",
        "toc = time.time()\n",
        "print(toc-tic)"
      ],
      "execution_count": 58,
      "outputs": [
        {
          "output_type": "stream",
          "text": [
            "2.799013137817383\n"
          ],
          "name": "stdout"
        }
      ]
    },
    {
      "cell_type": "code",
      "metadata": {
        "id": "_TO64R8fEYC6",
        "colab_type": "code",
        "outputId": "74950ff4-8317-457b-9747-fd0ac8130b75",
        "colab": {
          "base_uri": "https://localhost:8080/",
          "height": 34
        }
      },
      "source": [
        "my_tuple = tuple(range(10000000))\n",
        "tic = time.time()\n",
        "my_tuple_squared = tuple(map(lambda x:x**2,my_tuple))\n",
        "toc = time.time()\n",
        "print(toc-tic)"
      ],
      "execution_count": 59,
      "outputs": [
        {
          "output_type": "stream",
          "text": [
            "2.7645246982574463\n"
          ],
          "name": "stdout"
        }
      ]
    },
    {
      "cell_type": "markdown",
      "metadata": {
        "id": "6IKfJst4GqI5",
        "colab_type": "text"
      },
      "source": [
        "# Sets"
      ]
    },
    {
      "cell_type": "code",
      "metadata": {
        "id": "FvCereLYEwUc",
        "colab_type": "code",
        "colab": {}
      },
      "source": [
        "my_set = set(my_phone)"
      ],
      "execution_count": 0,
      "outputs": []
    },
    {
      "cell_type": "code",
      "metadata": {
        "id": "6Ou5i_F6GsOi",
        "colab_type": "code",
        "outputId": "a33b9b78-ce86-47ab-b1bf-37e3abc4fa49",
        "colab": {
          "base_uri": "https://localhost:8080/",
          "height": 34
        }
      },
      "source": [
        "my_set"
      ],
      "execution_count": 61,
      "outputs": [
        {
          "output_type": "execute_result",
          "data": {
            "text/plain": [
              "{35000, '3g', 5, False, 'iPhone 5S', 'single_sim'}"
            ]
          },
          "metadata": {
            "tags": []
          },
          "execution_count": 61
        }
      ]
    },
    {
      "cell_type": "code",
      "metadata": {
        "id": "34PbIG7oGxeU",
        "colab_type": "code",
        "colab": {}
      },
      "source": [
        "my_set2 = {1,2,3,4,1,2,2,3}"
      ],
      "execution_count": 0,
      "outputs": []
    },
    {
      "cell_type": "code",
      "metadata": {
        "id": "1_gvToesG1yV",
        "colab_type": "code",
        "outputId": "cf3c9c17-8799-47e1-b6b3-2424e7e177f8",
        "colab": {
          "base_uri": "https://localhost:8080/",
          "height": 34
        }
      },
      "source": [
        "my_set2"
      ],
      "execution_count": 63,
      "outputs": [
        {
          "output_type": "execute_result",
          "data": {
            "text/plain": [
              "{1, 2, 3, 4}"
            ]
          },
          "metadata": {
            "tags": []
          },
          "execution_count": 63
        }
      ]
    },
    {
      "cell_type": "code",
      "metadata": {
        "id": "SBxOjyC9G2n-",
        "colab_type": "code",
        "outputId": "acfbe5c6-831f-4245-c5d7-f6b55ffc7389",
        "colab": {
          "base_uri": "https://localhost:8080/",
          "height": 85
        }
      },
      "source": [
        "my_list = list(range(10000000))\n",
        "tic = time.time()\n",
        "print(10098 in my_list)\n",
        "print(1000000000 in my_list)\n",
        "print(988821 in my_list)\n",
        "\n",
        "toc = time.time()\n",
        "print(toc-tic)"
      ],
      "execution_count": 64,
      "outputs": [
        {
          "output_type": "stream",
          "text": [
            "True\n",
            "False\n",
            "True\n",
            "0.11363792419433594\n"
          ],
          "name": "stdout"
        }
      ]
    },
    {
      "cell_type": "code",
      "metadata": {
        "id": "tT6WSABiIktL",
        "colab_type": "code",
        "outputId": "6f78e842-a662-4203-ee88-70d1c08ab009",
        "colab": {
          "base_uri": "https://localhost:8080/",
          "height": 85
        }
      },
      "source": [
        "##Queries to sets are much faster than in lists, where also sets store unique values only\n",
        "\n",
        "my_set = set(range(10000000))\n",
        "tic = time.time()\n",
        "print(10098 in my_set)\n",
        "print(1000000000 in my_set)\n",
        "print(988821 in my_set)\n",
        "\n",
        "toc = time.time()\n",
        "print(toc-tic)"
      ],
      "execution_count": 65,
      "outputs": [
        {
          "output_type": "stream",
          "text": [
            "True\n",
            "False\n",
            "True\n",
            "0.0009565353393554688\n"
          ],
          "name": "stdout"
        }
      ]
    },
    {
      "cell_type": "code",
      "metadata": {
        "id": "ERPia8quJp8g",
        "colab_type": "code",
        "colab": {}
      },
      "source": [
        "my_set = set()\n",
        "my_set.add(10)"
      ],
      "execution_count": 0,
      "outputs": []
    },
    {
      "cell_type": "code",
      "metadata": {
        "id": "iJn9QyVkN54l",
        "colab_type": "code",
        "outputId": "bd667c0e-4f8c-4b08-8f40-d1c5b5dd0e64",
        "colab": {
          "base_uri": "https://localhost:8080/",
          "height": 34
        }
      },
      "source": [
        "##Set stores object in sorted order\n",
        "\n",
        "aux = {10,8,9,6,5,6,4}\n",
        "aux"
      ],
      "execution_count": 67,
      "outputs": [
        {
          "output_type": "execute_result",
          "data": {
            "text/plain": [
              "{4, 5, 6, 8, 9, 10}"
            ]
          },
          "metadata": {
            "tags": []
          },
          "execution_count": 67
        }
      ]
    },
    {
      "cell_type": "markdown",
      "metadata": {
        "id": "scJmHI5sJKMq",
        "colab_type": "text"
      },
      "source": [
        "# Dicts"
      ]
    },
    {
      "cell_type": "code",
      "metadata": {
        "id": "AUU23DUrIt9i",
        "colab_type": "code",
        "colab": {}
      },
      "source": [
        "my_dict = {}"
      ],
      "execution_count": 0,
      "outputs": []
    },
    {
      "cell_type": "code",
      "metadata": {
        "id": "96BqSOnDJL7q",
        "colab_type": "code",
        "outputId": "3c67f271-684b-47f2-e107-9e81c7bebebe",
        "colab": {
          "base_uri": "https://localhost:8080/",
          "height": 34
        }
      },
      "source": [
        "type(my_dict)"
      ],
      "execution_count": 69,
      "outputs": [
        {
          "output_type": "execute_result",
          "data": {
            "text/plain": [
              "dict"
            ]
          },
          "metadata": {
            "tags": []
          },
          "execution_count": 69
        }
      ]
    },
    {
      "cell_type": "code",
      "metadata": {
        "id": "PSLdB5c0JZQa",
        "colab_type": "code",
        "colab": {}
      },
      "source": [
        "my_dict[\"name\"] = \"iPhone 5s\"\n",
        "my_dict[\"isAndroid\"] = False\n",
        "my_dict[\"screen_size\"] = 4.3"
      ],
      "execution_count": 0,
      "outputs": []
    },
    {
      "cell_type": "code",
      "metadata": {
        "id": "RAmx6ZhvJl6U",
        "colab_type": "code",
        "outputId": "8f63eb20-fbe3-4c8f-8477-c6e5a0e8a191",
        "colab": {
          "base_uri": "https://localhost:8080/",
          "height": 34
        }
      },
      "source": [
        "my_dict.keys()"
      ],
      "execution_count": 71,
      "outputs": [
        {
          "output_type": "execute_result",
          "data": {
            "text/plain": [
              "dict_keys(['name', 'isAndroid', 'screen_size'])"
            ]
          },
          "metadata": {
            "tags": []
          },
          "execution_count": 71
        }
      ]
    },
    {
      "cell_type": "code",
      "metadata": {
        "id": "oFNa-NeeO5-w",
        "colab_type": "code",
        "outputId": "375a922e-38fc-4a49-e860-f38f62acdedc",
        "colab": {
          "base_uri": "https://localhost:8080/",
          "height": 34
        }
      },
      "source": [
        "list(my_dict.keys())"
      ],
      "execution_count": 72,
      "outputs": [
        {
          "output_type": "execute_result",
          "data": {
            "text/plain": [
              "['name', 'isAndroid', 'screen_size']"
            ]
          },
          "metadata": {
            "tags": []
          },
          "execution_count": 72
        }
      ]
    },
    {
      "cell_type": "code",
      "metadata": {
        "id": "kJncLk5xKNat",
        "colab_type": "code",
        "outputId": "c5031513-a581-408f-cb98-2589ca342162",
        "colab": {
          "base_uri": "https://localhost:8080/",
          "height": 34
        }
      },
      "source": [
        "my_dict.values()"
      ],
      "execution_count": 73,
      "outputs": [
        {
          "output_type": "execute_result",
          "data": {
            "text/plain": [
              "dict_values(['iPhone 5s', False, 4.3])"
            ]
          },
          "metadata": {
            "tags": []
          },
          "execution_count": 73
        }
      ]
    },
    {
      "cell_type": "code",
      "metadata": {
        "id": "nXXqJSfvKQTW",
        "colab_type": "code",
        "outputId": "4affea1e-2890-4fd1-d7f3-7eaad57790e8",
        "colab": {
          "base_uri": "https://localhost:8080/",
          "height": 34
        }
      },
      "source": [
        "my_dict[\"name\"]"
      ],
      "execution_count": 74,
      "outputs": [
        {
          "output_type": "execute_result",
          "data": {
            "text/plain": [
              "'iPhone 5s'"
            ]
          },
          "metadata": {
            "tags": []
          },
          "execution_count": 74
        }
      ]
    },
    {
      "cell_type": "code",
      "metadata": {
        "id": "L82rJ-KYKXkb",
        "colab_type": "code",
        "outputId": "ada69f5b-39dd-40e7-ee98-b5af6e7a5ce7",
        "colab": {
          "base_uri": "https://localhost:8080/",
          "height": 34
        }
      },
      "source": [
        "my_dict.items()"
      ],
      "execution_count": 75,
      "outputs": [
        {
          "output_type": "execute_result",
          "data": {
            "text/plain": [
              "dict_items([('name', 'iPhone 5s'), ('isAndroid', False), ('screen_size', 4.3)])"
            ]
          },
          "metadata": {
            "tags": []
          },
          "execution_count": 75
        }
      ]
    },
    {
      "cell_type": "markdown",
      "metadata": {
        "id": "nuoNdJ4HLhqR",
        "colab_type": "text"
      },
      "source": [
        "# Python packages"
      ]
    },
    {
      "cell_type": "code",
      "metadata": {
        "id": "vYNh4ckSLjqJ",
        "colab_type": "code",
        "colab": {}
      },
      "source": [
        "import math"
      ],
      "execution_count": 0,
      "outputs": []
    },
    {
      "cell_type": "code",
      "metadata": {
        "id": "WMawLo1ZLoBU",
        "colab_type": "code",
        "outputId": "ece771b6-a5fd-4fd4-8a04-ac633d007b9e",
        "colab": {
          "base_uri": "https://localhost:8080/",
          "height": 34
        }
      },
      "source": [
        "math.sqrt(16)"
      ],
      "execution_count": 77,
      "outputs": [
        {
          "output_type": "execute_result",
          "data": {
            "text/plain": [
              "4.0"
            ]
          },
          "metadata": {
            "tags": []
          },
          "execution_count": 77
        }
      ]
    },
    {
      "cell_type": "code",
      "metadata": {
        "id": "Gs6Tyl0uLpL1",
        "colab_type": "code",
        "outputId": "aa089ad0-9ddf-4056-c26e-d882bf2c060c",
        "colab": {
          "base_uri": "https://localhost:8080/",
          "height": 34
        }
      },
      "source": [
        "math.pow(4,2)"
      ],
      "execution_count": 78,
      "outputs": [
        {
          "output_type": "execute_result",
          "data": {
            "text/plain": [
              "16.0"
            ]
          },
          "metadata": {
            "tags": []
          },
          "execution_count": 78
        }
      ]
    },
    {
      "cell_type": "code",
      "metadata": {
        "id": "QLWtiW-bLq2h",
        "colab_type": "code",
        "colab": {}
      },
      "source": [
        "import math as m"
      ],
      "execution_count": 0,
      "outputs": []
    },
    {
      "cell_type": "code",
      "metadata": {
        "id": "biYCDzN9MHxM",
        "colab_type": "code",
        "outputId": "6cb8039b-f6d5-42ff-e7b2-c32b7656e130",
        "colab": {
          "base_uri": "https://localhost:8080/",
          "height": 34
        }
      },
      "source": [
        "m.factorial(10)"
      ],
      "execution_count": 80,
      "outputs": [
        {
          "output_type": "execute_result",
          "data": {
            "text/plain": [
              "3628800"
            ]
          },
          "metadata": {
            "tags": []
          },
          "execution_count": 80
        }
      ]
    },
    {
      "cell_type": "code",
      "metadata": {
        "id": "X3zzS67YMI8l",
        "colab_type": "code",
        "colab": {}
      },
      "source": [
        "from math import factorial as fact"
      ],
      "execution_count": 0,
      "outputs": []
    },
    {
      "cell_type": "code",
      "metadata": {
        "id": "otOx9QEqMOh-",
        "colab_type": "code",
        "outputId": "058ec528-b552-4b9b-8919-a1cb1af8c848",
        "colab": {
          "base_uri": "https://localhost:8080/",
          "height": 34
        }
      },
      "source": [
        "fact(12)"
      ],
      "execution_count": 82,
      "outputs": [
        {
          "output_type": "execute_result",
          "data": {
            "text/plain": [
              "479001600"
            ]
          },
          "metadata": {
            "tags": []
          },
          "execution_count": 82
        }
      ]
    },
    {
      "cell_type": "code",
      "metadata": {
        "id": "9irlx9lbMPer",
        "colab_type": "code",
        "outputId": "e7949176-52eb-49fc-8ff7-ec226ab2b479",
        "colab": {
          "base_uri": "https://localhost:8080/",
          "height": 34
        }
      },
      "source": [
        "m.pi"
      ],
      "execution_count": 83,
      "outputs": [
        {
          "output_type": "execute_result",
          "data": {
            "text/plain": [
              "3.141592653589793"
            ]
          },
          "metadata": {
            "tags": []
          },
          "execution_count": 83
        }
      ]
    },
    {
      "cell_type": "markdown",
      "metadata": {
        "id": "IlQxL3KkORvI",
        "colab_type": "text"
      },
      "source": [
        "Creating own package from psuedo terminal."
      ]
    },
    {
      "cell_type": "code",
      "metadata": {
        "id": "y2ER5q5eNsHX",
        "colab_type": "code",
        "colab": {}
      },
      "source": [
        "!touch my_first_package.py"
      ],
      "execution_count": 0,
      "outputs": []
    },
    {
      "cell_type": "code",
      "metadata": {
        "id": "zn-ws2UtMyQ7",
        "colab_type": "code",
        "colab": {}
      },
      "source": [
        "!echo \"def hello():\" >> my_first_package.py"
      ],
      "execution_count": 0,
      "outputs": []
    },
    {
      "cell_type": "code",
      "metadata": {
        "id": "0BeF84p8Nosu",
        "colab_type": "code",
        "outputId": "d157988c-888c-4ab4-d12d-58e91775935b",
        "colab": {
          "base_uri": "https://localhost:8080/",
          "height": 34
        }
      },
      "source": [
        "!cat my_first_package.py"
      ],
      "execution_count": 86,
      "outputs": [
        {
          "output_type": "stream",
          "text": [
            "def hello():\n"
          ],
          "name": "stdout"
        }
      ]
    },
    {
      "cell_type": "code",
      "metadata": {
        "id": "tNGAdyuiN12E",
        "colab_type": "code",
        "colab": {}
      },
      "source": [
        "!echo \"  print('This is my city')\" >> my_first_package.py"
      ],
      "execution_count": 0,
      "outputs": []
    },
    {
      "cell_type": "code",
      "metadata": {
        "id": "O1Oe6G3vOFgi",
        "colab_type": "code",
        "outputId": "5c3f9799-6f4f-48c8-e308-99ab43d50046",
        "colab": {
          "base_uri": "https://localhost:8080/",
          "height": 51
        }
      },
      "source": [
        "!cat my_first_package.py"
      ],
      "execution_count": 88,
      "outputs": [
        {
          "output_type": "stream",
          "text": [
            "def hello():\n",
            "  print('This is my city')\n"
          ],
          "name": "stdout"
        }
      ]
    },
    {
      "cell_type": "code",
      "metadata": {
        "id": "YdeKVdyUOHuZ",
        "colab_type": "code",
        "colab": {}
      },
      "source": [
        "import my_first_package as mi"
      ],
      "execution_count": 0,
      "outputs": []
    },
    {
      "cell_type": "code",
      "metadata": {
        "id": "oui0shcjOKQ0",
        "colab_type": "code",
        "outputId": "33a7290a-6167-4f21-d518-a463663dfae5",
        "colab": {
          "base_uri": "https://localhost:8080/",
          "height": 34
        }
      },
      "source": [
        "mi.hello()"
      ],
      "execution_count": 90,
      "outputs": [
        {
          "output_type": "stream",
          "text": [
            "This is my city\n"
          ],
          "name": "stdout"
        }
      ]
    },
    {
      "cell_type": "markdown",
      "metadata": {
        "id": "kpuJAxP_V9sD",
        "colab_type": "text"
      },
      "source": [
        "# File Handling"
      ]
    },
    {
      "cell_type": "code",
      "metadata": {
        "id": "DTEwVSUoOMy6",
        "colab_type": "code",
        "outputId": "1adc2cf0-4f7d-4a32-bf62-1439a0c8cc6e",
        "colab": {
          "base_uri": "https://localhost:8080/",
          "height": 34
        }
      },
      "source": [
        "!ls"
      ],
      "execution_count": 91,
      "outputs": [
        {
          "output_type": "stream",
          "text": [
            "my_first_package.py  __pycache__  sample_data\n"
          ],
          "name": "stdout"
        }
      ]
    },
    {
      "cell_type": "code",
      "metadata": {
        "id": "L0cvx33zWFn7",
        "colab_type": "code",
        "outputId": "bb147963-49a1-4e37-906d-e302f87a09f1",
        "colab": {
          "base_uri": "https://localhost:8080/",
          "height": 204
        }
      },
      "source": [
        "!wget https://s3.amazonaws.com/thinkific-import/153034/mobile_cleaned-1549119762886.csv"
      ],
      "execution_count": 92,
      "outputs": [
        {
          "output_type": "stream",
          "text": [
            "--2019-08-27 08:20:50--  https://s3.amazonaws.com/thinkific-import/153034/mobile_cleaned-1549119762886.csv\n",
            "Resolving s3.amazonaws.com (s3.amazonaws.com)... 52.216.10.53\n",
            "Connecting to s3.amazonaws.com (s3.amazonaws.com)|52.216.10.53|:443... connected.\n",
            "HTTP request sent, awaiting response... 200 OK\n",
            "Length: 14044 (14K) [text/csv]\n",
            "Saving to: ‘mobile_cleaned-1549119762886.csv’\n",
            "\n",
            "\r          mobile_cl   0%[                    ]       0  --.-KB/s               \rmobile_cleaned-1549 100%[===================>]  13.71K  --.-KB/s    in 0s      \n",
            "\n",
            "2019-08-27 08:20:50 (298 MB/s) - ‘mobile_cleaned-1549119762886.csv’ saved [14044/14044]\n",
            "\n"
          ],
          "name": "stdout"
        }
      ]
    },
    {
      "cell_type": "code",
      "metadata": {
        "id": "W_8TUnZnWuHW",
        "colab_type": "code",
        "outputId": "745179fd-e25e-482d-888b-2d8530f326be",
        "colab": {
          "base_uri": "https://localhost:8080/",
          "height": 34
        }
      },
      "source": [
        "!ls"
      ],
      "execution_count": 93,
      "outputs": [
        {
          "output_type": "stream",
          "text": [
            "mobile_cleaned-1549119762886.csv  my_first_package.py  __pycache__  sample_data\n"
          ],
          "name": "stdout"
        }
      ]
    },
    {
      "cell_type": "code",
      "metadata": {
        "id": "g4s70xe3W3AD",
        "colab_type": "code",
        "colab": {}
      },
      "source": [
        "!mv mobile_cleaned-1549119762886.csv mobile_cleaned.csv"
      ],
      "execution_count": 0,
      "outputs": []
    },
    {
      "cell_type": "code",
      "metadata": {
        "id": "vdZnPBmFQU08",
        "colab_type": "code",
        "outputId": "b040f853-3990-480e-d973-dc77dc587b23",
        "colab": {
          "base_uri": "https://localhost:8080/",
          "height": 34
        }
      },
      "source": [
        "!ls"
      ],
      "execution_count": 95,
      "outputs": [
        {
          "output_type": "stream",
          "text": [
            "mobile_cleaned.csv  my_first_package.py  __pycache__  sample_data\n"
          ],
          "name": "stdout"
        }
      ]
    },
    {
      "cell_type": "code",
      "metadata": {
        "id": "C277hVrDQWLH",
        "colab_type": "code",
        "colab": {}
      },
      "source": [
        "file = open(\"mobile_cleaned.csv\",'r')"
      ],
      "execution_count": 0,
      "outputs": []
    },
    {
      "cell_type": "code",
      "metadata": {
        "id": "ya_BQdexS22k",
        "colab_type": "code",
        "colab": {}
      },
      "source": [
        "s = file.readline()"
      ],
      "execution_count": 0,
      "outputs": []
    },
    {
      "cell_type": "code",
      "metadata": {
        "id": "XpmacKT2S4g4",
        "colab_type": "code",
        "outputId": "423c6fd0-4f37-4da5-cb01-93975832042a",
        "colab": {
          "base_uri": "https://localhost:8080/",
          "height": 54
        }
      },
      "source": [
        "s"
      ],
      "execution_count": 98,
      "outputs": [
        {
          "output_type": "execute_result",
          "data": {
            "text/plain": [
              "'sim_type,aperture,gpu_rank,weight,stand_by_time,processor_frequency,thickness,flash_type,front_camera_resolution,auto_focus,screen_size,frames_per_second,FM,no_of_reviews_in_gsmarena_in_week,os,phone_height,screen_protection,sim_size,price,talk_time,video_resolution,display_resolution,removable_battery,display_type,primary_camera_resolution,battery_type,ram_memory,internal_memory,brand_rank,no_of_cores,micro_sd_slot,screen_pixel_density,water_proof_rate,phone_width,expandable_memory,version,usb_type,battery_capacity,processor_rank,is_liked\\n'"
            ]
          },
          "metadata": {
            "tags": []
          },
          "execution_count": 98
        }
      ]
    },
    {
      "cell_type": "code",
      "metadata": {
        "id": "02MGkGt3S5KB",
        "colab_type": "code",
        "outputId": "beea29e0-4819-4463-b371-a56ac19f9f2f",
        "colab": {
          "base_uri": "https://localhost:8080/",
          "height": 697
        }
      },
      "source": [
        "s.split(',')"
      ],
      "execution_count": 99,
      "outputs": [
        {
          "output_type": "execute_result",
          "data": {
            "text/plain": [
              "['sim_type',\n",
              " 'aperture',\n",
              " 'gpu_rank',\n",
              " 'weight',\n",
              " 'stand_by_time',\n",
              " 'processor_frequency',\n",
              " 'thickness',\n",
              " 'flash_type',\n",
              " 'front_camera_resolution',\n",
              " 'auto_focus',\n",
              " 'screen_size',\n",
              " 'frames_per_second',\n",
              " 'FM',\n",
              " 'no_of_reviews_in_gsmarena_in_week',\n",
              " 'os',\n",
              " 'phone_height',\n",
              " 'screen_protection',\n",
              " 'sim_size',\n",
              " 'price',\n",
              " 'talk_time',\n",
              " 'video_resolution',\n",
              " 'display_resolution',\n",
              " 'removable_battery',\n",
              " 'display_type',\n",
              " 'primary_camera_resolution',\n",
              " 'battery_type',\n",
              " 'ram_memory',\n",
              " 'internal_memory',\n",
              " 'brand_rank',\n",
              " 'no_of_cores',\n",
              " 'micro_sd_slot',\n",
              " 'screen_pixel_density',\n",
              " 'water_proof_rate',\n",
              " 'phone_width',\n",
              " 'expandable_memory',\n",
              " 'version',\n",
              " 'usb_type',\n",
              " 'battery_capacity',\n",
              " 'processor_rank',\n",
              " 'is_liked\\n']"
            ]
          },
          "metadata": {
            "tags": []
          },
          "execution_count": 99
        }
      ]
    },
    {
      "cell_type": "code",
      "metadata": {
        "id": "MlD8v-U0S6tp",
        "colab_type": "code",
        "colab": {}
      },
      "source": [
        "file.close()"
      ],
      "execution_count": 0,
      "outputs": []
    },
    {
      "cell_type": "code",
      "metadata": {
        "id": "nQuG5D1mTLwk",
        "colab_type": "code",
        "outputId": "a87229ed-b44e-4508-957f-d83be11bcfa7",
        "colab": {
          "base_uri": "https://localhost:8080/",
          "height": 54
        }
      },
      "source": [
        "with open('mobile_cleaned.csv','r') as file:\n",
        "  line = file.readline().split(',')\n",
        "  print(line)"
      ],
      "execution_count": 101,
      "outputs": [
        {
          "output_type": "stream",
          "text": [
            "['sim_type', 'aperture', 'gpu_rank', 'weight', 'stand_by_time', 'processor_frequency', 'thickness', 'flash_type', 'front_camera_resolution', 'auto_focus', 'screen_size', 'frames_per_second', 'FM', 'no_of_reviews_in_gsmarena_in_week', 'os', 'phone_height', 'screen_protection', 'sim_size', 'price', 'talk_time', 'video_resolution', 'display_resolution', 'removable_battery', 'display_type', 'primary_camera_resolution', 'battery_type', 'ram_memory', 'internal_memory', 'brand_rank', 'no_of_cores', 'micro_sd_slot', 'screen_pixel_density', 'water_proof_rate', 'phone_width', 'expandable_memory', 'version', 'usb_type', 'battery_capacity', 'processor_rank', 'is_liked\\n']\n"
          ],
          "name": "stdout"
        }
      ]
    },
    {
      "cell_type": "code",
      "metadata": {
        "id": "7NS2xCjLUb6L",
        "colab_type": "code",
        "colab": {
          "base_uri": "https://localhost:8080/",
          "height": 1000
        },
        "outputId": "99ac1354-251b-4e3a-9962-6b67b158e3ae"
      },
      "source": [
        "with open('mobile_cleaned.csv','r') as file:\n",
        "  print(file.read())"
      ],
      "execution_count": 102,
      "outputs": [
        {
          "output_type": "stream",
          "text": [
            "sim_type,aperture,gpu_rank,weight,stand_by_time,processor_frequency,thickness,flash_type,front_camera_resolution,auto_focus,screen_size,frames_per_second,FM,no_of_reviews_in_gsmarena_in_week,os,phone_height,screen_protection,sim_size,price,talk_time,video_resolution,display_resolution,removable_battery,display_type,primary_camera_resolution,battery_type,ram_memory,internal_memory,brand_rank,no_of_cores,micro_sd_slot,screen_pixel_density,water_proof_rate,phone_width,expandable_memory,version,usb_type,battery_capacity,processor_rank,is_liked\n",
            "0,12,55,155.0,250,1.3,10.5,5,2.0,0,4.5,15,3,0,0,132.9,26,3,3870,9,480,12,3,11,5.0,1,1,7,29,6,4,2,3,67.8,64.0,5,3,2000,125,1\n",
            "0,1,55,132.0,300,1.3,10.6,5,0.3,1,4.0,30,2,6,0,124.5,26,5,4059,9,720,15,3,11,5.0,1,1,7,11,6,4,4,6,64.0,32.0,5,3,2000,165,1\n",
            "0,9,55,142.0,329,1.5,8.5,5,2.0,3,5.0,30,2,20,0,145.5,4,3,4777,10,1080,4,3,1,5.04,2,1,7,27,6,4,9,6,72.0,32.0,6,3,2500,164,0\n",
            "0,8,55,152.0,385,1.3,8.0,5,2.0,3,5.0,15,3,0,0,147.5,26,3,5799,19,720,17,3,2,5.0,1,1,7,4,6,4,1,3,75.1,32.0,6,3,3000,165,1\n",
            "1,1,55,234.0,385,1.3,7.9,5,1.92,3,5.0,15,3,0,0,179.0,18,3,5990,11,720,17,3,1,5.0,1,1,7,4,6,4,1,6,91.0,32.0,6,3,3000,165,0\n",
            "0,14,55,179.0,280,1.3,7.9,5,5.0,3,5.5,30,3,6,0,150.0,5,3,5999,22,720,0,0,2,8.0,1,1,7,4,6,4,7,3,71.0,32.0,6,3,2900,165,0\n",
            "1,1,56,124.0,230,1.3,8.8,5,2.0,3,4.0,30,3,0,0,123.0,26,3,5999,11,1080,16,3,2,5.0,1,512,5,30,0,4,4,3,62.5,128.0,2,3,1700,163,1\n",
            "0,8,41,154.0,182,1.0,8.1,5,2.0,3,5.0,30,5,0,0,132.0,26,3,6599,7,720,4,3,2,8.0,0,2,2,4,6,4,9,3,78.0,32.0,6,3,2000,92,1\n",
            "1,8,41,214.0,182,1.0,8.2,5,2.0,3,5.0,30,3,39,0,172.0,18,3,6599,6,720,14,3,2,8.0,1,2,2,4,6,4,9,6,80.0,32.0,6,7,2000,92,1\n",
            "0,1,55,155.0,435,1.3,11.6,5,2.0,3,5.0,15,2,5,0,142.1,5,3,6649,9,720,4,1,2,8.0,1,2,7,4,6,4,9,6,72.4,32.0,5,3,3000,125,1\n",
            "0,1,55,169.0,514,1.3,7.9,2,2.0,3,5.0,30,3,5,0,152.0,26,3,6749,14,720,4,1,2,8.0,2,2,7,4,6,4,9,3,75.0,32.0,5,4,4000,126,1\n",
            "0,10,55,137.0,300,1.3,7.9,5,5.0,3,5.0,30,2,42,1,141.6,18,3,6990,15,720,3,3,7,8.0,1,1,7,2,6,3,9,6,70.0,128.0,0,3,2600,166,0\n",
            "0,1,50,135.0,280,1.4,8.0,7,5.0,3,5.3,30,3,10,0,148.0,26,3,6999,8,1080,4,3,2,13.0,1,1,7,20,4,4,8,2,74.0,32.0,4,3,2500,79,1\n",
            "0,11,43,133.0,198,1.2,9.0,5,2.0,3,4.7,30,2,139,0,134.0,5,3,6999,7,1080,14,3,2,8.0,2,2,2,6,6,4,11,6,67.0,32.0,4,8,2200,94,1\n",
            "0,8,41,142.0,200,1.3,8.9,5,5.0,3,5.0,30,3,94,0,140.8,21,3,6999,10,1080,4,1,2,13.0,1,3,2,18,6,6,9,6,70.4,32.0,6,3,2500,92,1\n",
            "1,10,41,131.0,680,1.3,8.7,5,5.0,3,5.0,30,1,10,0,140.1,1,11,6999,23,1080,14,1,1,13.0,1,2,2,30,6,2,9,3,68.9,256.0,6,3,2500,92,1\n",
            "1,10,47,152.0,576,1.2,8.6,5,5.0,3,5.0,30,3,28,3,144.0,26,3,7340,26,480,4,3,2,8.0,1,1,7,7,6,4,9,3,73.7,128.0,13,3,2200,132,1\n",
            "0,10,43,128.0,264,1.2,8.2,5,2.0,3,5.0,30,2,126,0,141.0,26,3,7499,13,720,4,3,1,8.0,2,2,2,11,6,4,9,6,70.0,32.0,4,3,2300,94,1\n",
            "0,10,41,130.0,180,1.3,8.4,5,2.0,3,4.5,30,3,0,0,69.0,18,3,7590,11,1080,4,3,7,5.0,1,1,7,2,6,6,5,6,136.5,128.0,6,7,2000,100,1\n",
            "0,10,43,143.0,160,1.2,8.2,5,5.0,3,5.0,30,3,142,0,142.4,6,3,7790,7,1080,4,3,2,8.0,1,2,2,17,6,6,9,3,73.0,32.0,5,3,2230,94,1\n",
            "0,1,55,152.0,450,1.2,9.4,2,5.0,3,5.0,30,2,0,0,143.0,5,3,7899,14,1080,4,1,2,8.0,1,2,7,4,6,4,9,6,71.8,32.0,6,3,4000,94,1\n",
            "0,10,34,140.0,264,1.5,8.0,5,5.0,3,5.5,30,5,184,0,152.6,26,3,7914,39,1080,4,3,2,8.0,2,2,7,11,4,4,7,3,76.2,32.0,5,3,2900,16,1\n",
            "2,1,38,125.0,354,1.3,7.6,5,5.0,3,5.0,30,5,10,0,144.6,14,11,7999,12,1080,9,1,2,13.0,2,3,4,27,4,2,23,6,72.0,128.0,6,5,2400,19,0\n",
            "3,1,43,97.0,345,1.2,5.1,5,5.0,3,4.8,30,3,0,0,141.9,5,9,8490,8,1080,14,1,0,8.0,2,2,2,4,6,2,10,2,68.1,0.0,5,3,2000,94,1\n",
            "0,10,29,150.0,322,1.5,8.2,5,5.0,3,5.0,30,3,113,0,142.0,2,12,8499,15,1080,9,3,2,13.0,2,2,2,11,4,6,23,6,71.0,32.0,6,4,2750,21,1\n",
            "0,8,43,202.0,914,1.2,10.6,2,5.0,3,5.5,30,4,34,0,156.0,18,3,8999,38,1080,4,1,2,13.0,2,2,2,16,6,6,7,6,77.5,64.0,5,4,5000,94,1\n",
            "0,8,43,170.0,456,1.2,10.8,2,5.0,3,5.5,30,2,189,0,152.5,7,3,8999,21,1080,9,3,2,13.0,2,2,2,16,6,4,7,6,77.2,128.0,5,3,3000,94,1\n",
            "0,8,38,155.0,350,1.3,9.3,5,5.0,3,5.5,30,3,122,0,151.0,18,3,8999,38,1080,4,1,2,13.0,1,2,2,18,4,6,7,6,77.0,64.0,6,4,3000,19,1\n",
            "0,1,44,160.0,617,1.7,9.6,5,5.0,3,5.0,30,3,0,0,150.1,26,12,9399,12,1080,4,3,9,8.0,2,1,7,5,4,4,9,3,72.7,32.0,5,3,2100,79,1\n",
            "0,10,43,185.0,775,1.2,9.4,5,5.0,3,5.5,30,2,87,0,154.0,26,3,9499,38,1080,4,3,2,13.0,2,2,2,6,6,4,7,6,78.7,32.0,4,3,3100,94,1\n",
            "0,8,55,141.0,218,1.2,7.6,5,8.0,3,5.0,30,2,9,0,142.7,26,10,9700,16,1080,18,1,11,8.0,3,1,2,10,6,4,3,6,71.7,128.0,1,3,2420,94,1\n",
            "0,8,34,150.0,270,1.7,8.0,2,5.0,3,5.5,30,2,0,0,152.6,19,3,9715,30,1080,1,3,1,13.0,1,2,2,11,4,4,16,6,76.2,32.0,5,3,2900,16,1\n",
            "0,8,43,155.0,250,1.4,11.6,2,5.0,3,5.0,30,2,760,0,142.1,5,3,9999,22,1080,4,1,2,13.0,1,2,2,3,6,4,9,7,72.4,32.0,6,3,2470,94,1\n",
            "0,10,28,164.0,264,1.4,8.7,2,5.0,3,5.5,30,2,420,0,150.0,26,3,9999,20,1080,9,1,2,16.0,2,2,4,6,2,1,16,6,76.0,0.0,6,3,4050,12,1\n",
            "0,10,28,164.0,265,1.4,8.7,2,5.0,3,5.5,30,2,420,0,150.0,18,3,9999,20,1080,9,1,2,16.0,2,2,4,6,2,3,16,6,76.0,0.0,6,3,4050,12,1\n",
            "0,8,34,150.0,750,1.7,8.0,2,5.0,3,5.5,30,3,608,0,152.6,26,3,9999,36,1080,9,3,2,13.0,1,2,2,11,4,6,16,6,76.2,32.0,5,4,3000,90,1\n",
            "0,10,34,138.0,521,1.7,8.2,5,5.0,3,5.0,30,3,20,0,146.9,26,9,9999,23,1080,4,3,2,13.0,2,1,7,5,4,4,9,6,70.9,32.0,4,3,2000,16,1\n",
            "1,10,38,149.0,360,1.3,8.7,2,5.0,3,5.5,30,1,0,0,150.9,1,11,9999,20,1080,9,1,2,13.0,6,2,4,30,4,4,18,3,75.2,128.0,5,3,3100,19,1\n",
            "2,0,27,128.0,490,1.7,8.8,5,5.0,3,5.0,30,3,0,0,140.8,18,11,9999,12,720,5,2,2,13.0,6,3,2,4,9,4,9,3,70.4,32.0,6,3,2100,19,0\n",
            "0,4,41,172.0,350,1.2,8.2,5,5.0,3,5.5,30,5,0,0,151.8,18,3,10190,21,1080,4,3,12,13.0,1,2,7,2,6,6,7,6,77.5,128.0,6,3,3000,94,1\n",
            "0,1,38,143.0,275,1.3,8.5,5,5.0,3,5.2,30,3,21,0,148.0,18,3,10899,10,1080,9,1,2,13.0,2,3,2,4,4,5,20,6,73.6,0.0,6,3,2900,90,1\n",
            "0,8,28,169.0,496,2.2,7.5,5,5.0,3,5.5,30,1,26,0,151.1,17,2,10999,20,2160,9,1,2,13.0,2,3,4,19,4,1,9,6,74.2,0.0,8,1,3000,14,1\n",
            "0,8,34,149.0,696,1.7,8.9,5,5.0,3,5.0,30,3,43,0,142.0,26,3,11090,46,1080,4,1,2,13.0,2,2,2,11,4,4,9,3,71.8,32.0,4,4,4000,16,1\n",
            "0,8,41,153.2,261,1.3,8.3,2,8.0,3,5.5,30,3,0,0,151.9,5,3,11299,28,1080,0,3,2,13.0,2,3,2,14,6,4,7,3,76.7,32.0,6,3,3000,92,1\n",
            "0,8,29,130.0,384,1.7,7.8,2,5.0,3,5.0,30,3,385,0,138.1,13,0,11999,35,1080,1,1,2,13.0,1,2,2,6,4,2,23,6,69.6,0.0,5,3,3120,22,1\n",
            "0,10,38,160.0,265,1.3,9.2,2,5.0,3,5.5,30,2,1016,0,153.6,18,3,11999,22,1080,9,1,2,13.0,2,3,2,11,2,3,17,6,76.5,128.0,6,3,3300,12,1\n",
            "0,10,29,155.0,342,1.5,11.6,2,5.0,3,5.0,30,3,0,0,142.1,5,0,12499,28,1080,4,1,12,13.0,1,2,2,3,4,4,34,5,72.4,32.0,6,2,2470,22,1\n",
            "0,13,34,138.0,761,1.7,8.2,5,5.0,3,5.0,30,4,2,0,146.9,18,11,13349,30,1080,3,1,2,13.0,1,2,2,5,4,3,9,6,70.9,32.0,4,3,2000,16,1\n",
            "0,3,41,148.0,566,1.0,9.3,5,5.0,3,5.0,30,2,0,0,141.0,5,3,13349,16,720,4,1,2,8.0,2,2,2,11,6,3,9,6,71.8,32.0,6,3,4000,92,1\n",
            "0,8,29,155.0,620,1.5,9.8,2,5.0,3,5.5,30,3,671,0,153.0,5,3,13499,24,1080,9,4,1,16.0,2,3,3,3,9,4,16,3,76.6,128.0,9,3,3000,72,1\n",
            "0,7,29,171.0,354,1.6,7.5,5,5.0,3,5.5,30,2,73,0,152.4,26,3,13990,23,1080,4,3,7,13.0,1,2,0,2,4,3,16,6,78.6,128.0,6,3,3000,72,1\n",
            "0,8,28,150.0,337,2.0,8.7,5,5.0,3,5.5,30,2,25,0,156.8,5,4,13999,9,1080,9,1,2,13.0,1,4,2,4,4,3,16,6,78.1,64.0,6,3,3000,14,1\n",
            "0,10,30,170.0,354,1.6,7.8,2,5.0,3,5.5,30,2,301,0,151.7,18,3,14249,23,1080,9,3,7,13.0,1,3,2,2,4,3,16,6,76.0,128.0,9,3,3300,72,1\n",
            "0,9,43,141.0,345,1.2,7.3,6,5.0,4,5.5,30,5,0,0,151.3,7,11,14300,18,1080,4,4,7,13.0,1,2,2,2,11,4,7,3,77.2,64.0,4,3,2950,94,0\n",
            "0,1,44,154.5,560,1.7,7.7,5,8.0,3,5.5,30,2,12,0,157.7,26,9,14614,12,1080,4,1,2,13.0,2,1,2,5,4,4,7,6,78.7,32.0,4,3,2600,79,1\n",
            "1,1,44,171.8,1093,1.4,7.7,5,1.1,3,6.0,30,3,24,0,165.2,26,3,14880,30,1080,4,1,11,13.0,1,1,7,8,6,4,6,6,83.8,32.0,3,3,3000,129,1\n",
            "1,10,29,229.0,480,1.5,7.6,4,5.0,3,6.8,30,3,0,0,186.6,18,3,14990,24,1080,1,1,1,13.0,2,2,4,11,4,4,12,6,96.6,64.0,5,3,3500,22,1\n",
            "0,10,16,160.0,200,2.3,6.9,5,8.0,3,5.0,30,3,175,0,140.0,5,9,14999,24,1080,9,1,0,13.0,2,3,2,12,6,1,23,6,69.0,0.0,6,4,2525,15,1\n",
            "3,6,16,149.0,280,2.5,8.9,5,8.0,3,5.0,30,2,33,0,139.2,26,3,14999,18,2160,1,1,2,13.0,1,3,2,6,6,2,23,6,68.5,0.0,4,3,3080,15,1\n",
            "3,3,16,144.0,250,2.5,10.0,2,13.0,3,5.2,30,4,188,0,140.8,5,11,14999,24,2160,9,1,5,13.0,1,2,2,3,6,1,20,4,72.4,0.0,4,3,2300,15,1\n",
            "2,10,16,175.0,840,2.5,8.9,3,8.0,3,5.5,30,1,6,0,155.7,15,11,15689,48,1080,9,1,4,13.0,2,3,6,11,6,0,16,3,77.3,0.0,6,14,4100,15,0\n",
            "0,8,29,134.0,380,1.7,7.3,5,8.0,3,5.0,30,1,0,0,143.5,8,2,15950,20,1080,9,1,2,13.0,1,3,2,10,4,3,9,6,71.0,128.0,6,3,2500,21,1\n",
            "0,7,30,170.0,354,1.6,7.8,5,5.0,3,5.5,30,3,301,0,151.7,26,3,15990,23,1080,0,3,7,13.0,1,3,2,2,4,4,7,6,76.0,32.0,9,3,3300,72,1\n",
            "0,13,29,189.0,600,1.5,9.9,2,5.0,3,5.5,30,2,137,0,152.9,5,11,15999,44,1080,9,1,2,13.0,2,2,4,11,4,3,16,6,75.6,128.0,6,3,5000,22,1\n",
            "3,10,15,130.0,370,1.6,7.9,5,2.0,3,5.0,30,1,347,0,136.6,5,3,16999,17,1080,9,3,7,13.0,1,2,2,2,4,4,23,3,69.8,64.0,2,10,2600,20,1\n",
            "0,10,29,145.0,456,1.7,7.3,2,8.0,3,5.0,30,2,22,0,142.0,5,3,17810,21,1080,1,1,2,16.0,2,3,4,11,4,4,23,6,70.0,128.0,5,3,3000,22,1\n",
            "0,8,29,169.0,330,1.7,10.9,2,5.0,3,5.5,30,2,48,0,148.0,5,11,18499,18,1080,9,1,2,21.0,1,2,4,3,6,4,16,7,75.0,128.0,6,3,3630,22,1\n",
            "1,8,29,135.0,488,1.5,7.3,5,5.0,3,5.0,30,3,0,0,145.5,21,9,18798,13,1080,6,1,2,13.0,1,2,2,8,6,4,9,0,72.6,128.0,5,3,2400,22,1\n",
            "0,10,34,147.0,682,1.7,7.9,5,5.0,3,5.5,30,3,0,0,150.3,20,9,19000,11,1080,1,1,3,13.0,1,2,2,8,4,4,0,3,77.4,128.0,5,7,2600,16,1\n",
            "0,8,38,150.0,420,1.5,8.0,5,4.0,3,5.5,30,3,18,0,157.7,26,9,19490,12,1080,9,1,2,13.0,2,2,2,5,4,4,16,3,78.9,2048.0,6,3,2800,19,1\n",
            "0,10,34,165.0,170,1.5,7.6,5,4.0,3,5.5,30,1,13,0,157.7,26,9,19890,7,1080,4,3,2,13.0,6,2,2,5,4,4,7,3,79.7,128.0,5,3,2600,16,1\n",
            "3,8,16,162.0,360,2.5,8.9,2,5.0,3,5.5,30,4,22,0,152.9,5,3,19999,38,2160,9,1,2,13.0,2,3,6,12,6,1,16,6,75.9,0.0,4,4,3100,15,1\n",
            "3,10,17,112.0,250,1.3,7.6,2,1.2,3,4.0,30,1,1304,2,123.8,12,11,20397,10,1080,2,1,2,8.0,2,1,2,1,0,1,13,6,58.6,0.0,11,13,1560,13,1\n",
            "0,8,29,183.0,687,1.7,8.0,5,4.0,3,5.5,30,2,131,0,158.0,26,11,21300,19,1080,9,1,9,13.0,2,2,2,5,4,4,16,6,77.5,128.0,5,3,2600,22,1\n",
            "3,10,16,145.0,390,1.9,8.1,5,2.0,3,5.1,30,1,22,0,142.0,5,9,21999,21,2160,1,3,7,16.0,1,2,2,2,6,4,22,7,72.5,128.0,4,9,2800,15,0\n",
            "0,8,34,187.0,635,1.7,8.2,5,13.0,3,6.0,30,3,26,0,164.2,20,9,21999,13,1080,1,1,2,13.0,1,2,2,8,4,4,14,3,79.6,200.0,5,3,2930,16,1\n",
            "0,8,9,175.0,360,1.8,9.9,2,5.0,3,5.5,30,4,100,0,151.8,5,9,22999,38,2160,9,1,2,13.0,2,4,6,12,6,1,16,6,74.9,0.0,6,12,3300,5,1\n",
            "1,8,24,157.0,620,2.2,8.5,1,8.0,3,5.2,30,3,29,0,143.2,26,9,22999,23,1080,9,4,2,20.0,2,3,2,15,4,4,20,6,71.9,128.0,5,3,3100,11,0\n",
            "0,8,14,175.0,618,1.8,9.3,2,8.0,4,5.5,30,2,0,0,154.0,5,11,24499,31,2160,9,4,1,21.0,4,3,6,11,8,6,16,6,76.5,0.0,6,3,3600,8,0\n",
            "3,7,41,155.0,180,1.6,7.1,5,5.0,3,5.2,30,3,75,0,144.8,7,9,24900,16,1080,1,0,7,13.0,2,2,2,2,4,4,20,3,71.0,128.0,6,3,2900,72,1\n",
            "1,8,3,129.0,598,1.8,7.3,2,4.0,3,5.15,30,1,0,0,144.6,7,9,24999,27,2160,1,1,2,16.0,2,4,4,6,6,2,21,6,69.2,0.0,9,0,3000,2,0\n",
            "4,8,14,179.0,410,1.8,11.1,0,5.0,3,5.7,30,1,4,0,153.9,5,9,24999,19,2160,10,4,12,21.0,1,3,6,3,8,4,26,6,76.2,128.0,6,3,3000,3,1\n",
            "3,8,9,144.0,590,2.0,6.9,5,2.2,3,5.2,30,2,126,0,146.0,25,3,25500,17,2160,1,1,1,20.7,1,3,4,8,6,4,20,7,72.0,128.0,5,3,2930,5,1\n",
            "1,10,28,142.6,504,2.0,7.6,5,13.0,3,5.0,30,3,69,0,145.0,21,9,25500,12,216,1,1,2,21.2,1,3,2,8,4,4,23,1,72.0,200.0,5,3,2600,14,0\n",
            "0,10,25,145.0,250,2.0,6.6,5,16.0,3,5.5,30,4,19,0,151.8,7,11,27580,24,1080,9,1,0,13.0,2,4,6,10,4,3,16,6,74.3,128.0,6,3,2850,90,1\n",
            "3,10,11,176.0,200,2.7,8.5,5,3.7,3,5.7,30,1,226,0,153.5,0,3,29900,20,216,10,3,7,16.0,1,3,4,2,6,4,24,6,78.6,128.0,4,3,3220,9,1\n",
            "0,10,21,168.0,420,2.3,8.3,5,2.0,3,5.7,30,0,502,0,151.2,5,3,29990,21,2160,9,3,7,13.0,1,3,4,2,6,4,15,3,79.2,64.0,3,9,3200,52,1\n",
            "4,6,14,155.0,410,1.8,6.3,2,8.0,3,5.5,30,3,0,0,148.9,10,9,30947,19,2160,10,5,1,16.0,1,3,4,9,8,4,28,6,76.1,2048.0,6,3,3000,8,1\n",
            "3,8,9,178.0,440,2.0,7.3,2,8.0,3,5.7,30,1,87,0,159.3,11,9,31999,23,2160,8,1,0,12.3,2,3,4,15,4,2,25,6,77.8,0.0,9,3,3450,5,1\n",
            "3,7,8,138.0,354,2.1,6.8,2,5.0,3,5.1,30,1,349,0,143.4,7,9,33900,17,2160,10,1,7,16.0,1,3,4,2,6,2,31,3,70.5,0.0,5,3,2550,4,1\n",
            "3,8,9,169.0,500,2.0,9.2,2,5.0,3,5.4,30,4,22,0,149.8,23,11,34999,25,2160,10,1,0,21.0,1,3,4,3,6,1,29,6,78.0,0.0,7,3,3760,5,0\n",
            "3,10,6,113.0,240,1.84,7.6,2,1.2,3,4.0,30,1,0,2,123.8,3,6,34999,14,2160,13,1,1,12.0,2,1,2,1,1,2,13,6,58.6,0.0,14,13,1624,1,0\n",
            "4,8,14,136.0,360,1.8,7.9,1,5.0,3,5.2,30,1,24,0,147.0,5,9,35900,14,2160,9,4,2,12.3,4,2,2,9,8,2,19,6,72.6,0.0,9,11,2700,8,1\n",
            "3,10,12,129.0,250,1.4,6.9,2,1.3,3,4.7,60,1,410,2,138.1,16,9,36499,14,1080,7,1,2,8.0,2,1,2,1,0,2,13,3,67.0,0.0,12,6,1810,7,1\n",
            "3,10,12,129.0,250,1.4,6.9,2,1.2,3,4.7,60,4,39,2,138.1,16,11,36999,14,1080,9,1,2,8.0,2,1,2,1,0,1,13,6,67.0,0.0,12,13,1810,7,1\n",
            "3,10,28,168.0,580,2.2,9.6,2,4.0,3,5.2,30,3,11,0,151.0,7,7,37766,20,2160,10,4,10,20.0,4,3,4,5,10,4,30,6,72.0,256.0,5,3,2840,56,0\n",
            "3,12,16,149.0,410,2.5,8.9,3,2.1,3,5.5,30,3,0,0,146.3,5,1,38000,19,2160,10,3,1,13.0,5,3,4,9,7,4,28,6,74.6,32.0,4,3,3000,15,1\n",
            "0,8,9,154.0,340,2.0,7.3,6,5.0,2,5.2,30,3,9,0,146.0,24,7,39890,13,2160,9,4,1,23.0,4,3,4,8,5,6,20,1,72.0,256.0,6,3,2900,5,1\n",
            "3,2,8,132.0,362,1.5,7.0,5,5.0,4,5.1,30,1,0,0,142.1,9,7,40900,14,2160,10,1,7,16.0,1,3,4,2,7,4,32,6,70.1,64.0,5,3,2600,4,1\n",
            "3,10,12,129.0,250,1.4,6.9,2,1.2,3,4.7,60,4,39,2,138.1,16,11,48329,14,1080,7,1,2,8.0,2,1,6,1,0,1,13,6,67.0,0.0,12,13,1810,7,1\n",
            "0,5,3,152.0,242,2.3,7.9,5,5.0,3,5.1,30,4,150,0,142.4,7,9,48900,22,2160,10,1,8,12.0,1,4,4,2,6,6,32,1,69.6,200.0,9,3,3000,101,1\n",
            "3,10,6,143.0,240,1.8,7.1,2,5.0,3,4.7,30,4,100,2,138.3,16,11,49499,14,2160,7,1,2,12.0,2,2,2,1,0,1,13,6,67.1,0.0,14,13,1715,1,1\n",
            "0,7,43,171.0,330,2.1,7.6,5,5.0,3,5.7,30,1,107,0,153.2,7,9,50895,22,2160,8,1,7,16.0,2,4,4,2,4,2,25,6,76.1,0.0,6,3,3450,4,1\n",
            "3,8,9,180.0,600,2.0,7.8,6,5.0,2,5.5,30,3,0,0,154.4,22,7,52699,19,2160,11,4,2,23.0,4,3,4,8,12,6,33,1,75.8,256.0,6,3,3430,5,1\n",
            "3,10,14,192.0,540,1.8,9.4,2,2.0,2,5.4,30,1,0,0,147.0,26,7,54900,15,2160,10,4,0,18.0,4,3,4,25,3,4,29,6,77.2,256.0,6,3,3410,8,1\n",
            "0,5,3,157.0,400,2.3,7.7,5,5.0,3,5.5,30,4,144,0,150.9,7,9,56900,27,2160,10,1,8,12.0,1,4,4,2,6,6,27,1,72.6,200.0,9,3,3600,101,1\n",
            "3,10,6,192.0,384,1.8,7.3,2,5.0,3,5.5,30,4,81,2,158.2,16,11,59000,24,2160,7,1,2,12.0,2,2,2,1,0,1,16,6,77.9,0.0,14,13,2750,1,1\n",
            "3,10,12,129.0,250,1.4,6.9,2,1.2,3,4.7,60,4,39,2,138.1,16,11,64500,14,1080,7,1,2,8.0,2,1,1,1,0,1,13,6,67.0,0.0,12,13,1810,7,1\n",
            "2,8,3,158.0,400,2.2,7.4,6,8.0,3,5.5,30,1,0,0,152.7,7,8,27999,40,2160,9,1,6,16.0,4,6,6,12,6,5,16,6,74.7,0.0,10,12,3000,2,0\n",
            "\n"
          ],
          "name": "stdout"
        }
      ]
    },
    {
      "cell_type": "code",
      "metadata": {
        "id": "Vkge4AoSUjgH",
        "colab_type": "code",
        "colab": {
          "base_uri": "https://localhost:8080/",
          "height": 1000
        },
        "outputId": "00fee98d-8855-4c0b-f9e4-b43ba230faca"
      },
      "source": [
        "with open('mobile_cleaned.csv','r') as file:\n",
        "  for line in file:\n",
        "    for word in line.split(','):\n",
        "      print(word,end=\" \")\n",
        "    print()"
      ],
      "execution_count": 103,
      "outputs": [
        {
          "output_type": "stream",
          "text": [
            "sim_type aperture gpu_rank weight stand_by_time processor_frequency thickness flash_type front_camera_resolution auto_focus screen_size frames_per_second FM no_of_reviews_in_gsmarena_in_week os phone_height screen_protection sim_size price talk_time video_resolution display_resolution removable_battery display_type primary_camera_resolution battery_type ram_memory internal_memory brand_rank no_of_cores micro_sd_slot screen_pixel_density water_proof_rate phone_width expandable_memory version usb_type battery_capacity processor_rank is_liked\n",
            " \n",
            "0 12 55 155.0 250 1.3 10.5 5 2.0 0 4.5 15 3 0 0 132.9 26 3 3870 9 480 12 3 11 5.0 1 1 7 29 6 4 2 3 67.8 64.0 5 3 2000 125 1\n",
            " \n",
            "0 1 55 132.0 300 1.3 10.6 5 0.3 1 4.0 30 2 6 0 124.5 26 5 4059 9 720 15 3 11 5.0 1 1 7 11 6 4 4 6 64.0 32.0 5 3 2000 165 1\n",
            " \n",
            "0 9 55 142.0 329 1.5 8.5 5 2.0 3 5.0 30 2 20 0 145.5 4 3 4777 10 1080 4 3 1 5.04 2 1 7 27 6 4 9 6 72.0 32.0 6 3 2500 164 0\n",
            " \n",
            "0 8 55 152.0 385 1.3 8.0 5 2.0 3 5.0 15 3 0 0 147.5 26 3 5799 19 720 17 3 2 5.0 1 1 7 4 6 4 1 3 75.1 32.0 6 3 3000 165 1\n",
            " \n",
            "1 1 55 234.0 385 1.3 7.9 5 1.92 3 5.0 15 3 0 0 179.0 18 3 5990 11 720 17 3 1 5.0 1 1 7 4 6 4 1 6 91.0 32.0 6 3 3000 165 0\n",
            " \n",
            "0 14 55 179.0 280 1.3 7.9 5 5.0 3 5.5 30 3 6 0 150.0 5 3 5999 22 720 0 0 2 8.0 1 1 7 4 6 4 7 3 71.0 32.0 6 3 2900 165 0\n",
            " \n",
            "1 1 56 124.0 230 1.3 8.8 5 2.0 3 4.0 30 3 0 0 123.0 26 3 5999 11 1080 16 3 2 5.0 1 512 5 30 0 4 4 3 62.5 128.0 2 3 1700 163 1\n",
            " \n",
            "0 8 41 154.0 182 1.0 8.1 5 2.0 3 5.0 30 5 0 0 132.0 26 3 6599 7 720 4 3 2 8.0 0 2 2 4 6 4 9 3 78.0 32.0 6 3 2000 92 1\n",
            " \n",
            "1 8 41 214.0 182 1.0 8.2 5 2.0 3 5.0 30 3 39 0 172.0 18 3 6599 6 720 14 3 2 8.0 1 2 2 4 6 4 9 6 80.0 32.0 6 7 2000 92 1\n",
            " \n",
            "0 1 55 155.0 435 1.3 11.6 5 2.0 3 5.0 15 2 5 0 142.1 5 3 6649 9 720 4 1 2 8.0 1 2 7 4 6 4 9 6 72.4 32.0 5 3 3000 125 1\n",
            " \n",
            "0 1 55 169.0 514 1.3 7.9 2 2.0 3 5.0 30 3 5 0 152.0 26 3 6749 14 720 4 1 2 8.0 2 2 7 4 6 4 9 3 75.0 32.0 5 4 4000 126 1\n",
            " \n",
            "0 10 55 137.0 300 1.3 7.9 5 5.0 3 5.0 30 2 42 1 141.6 18 3 6990 15 720 3 3 7 8.0 1 1 7 2 6 3 9 6 70.0 128.0 0 3 2600 166 0\n",
            " \n",
            "0 1 50 135.0 280 1.4 8.0 7 5.0 3 5.3 30 3 10 0 148.0 26 3 6999 8 1080 4 3 2 13.0 1 1 7 20 4 4 8 2 74.0 32.0 4 3 2500 79 1\n",
            " \n",
            "0 11 43 133.0 198 1.2 9.0 5 2.0 3 4.7 30 2 139 0 134.0 5 3 6999 7 1080 14 3 2 8.0 2 2 2 6 6 4 11 6 67.0 32.0 4 8 2200 94 1\n",
            " \n",
            "0 8 41 142.0 200 1.3 8.9 5 5.0 3 5.0 30 3 94 0 140.8 21 3 6999 10 1080 4 1 2 13.0 1 3 2 18 6 6 9 6 70.4 32.0 6 3 2500 92 1\n",
            " \n",
            "1 10 41 131.0 680 1.3 8.7 5 5.0 3 5.0 30 1 10 0 140.1 1 11 6999 23 1080 14 1 1 13.0 1 2 2 30 6 2 9 3 68.9 256.0 6 3 2500 92 1\n",
            " \n",
            "1 10 47 152.0 576 1.2 8.6 5 5.0 3 5.0 30 3 28 3 144.0 26 3 7340 26 480 4 3 2 8.0 1 1 7 7 6 4 9 3 73.7 128.0 13 3 2200 132 1\n",
            " \n",
            "0 10 43 128.0 264 1.2 8.2 5 2.0 3 5.0 30 2 126 0 141.0 26 3 7499 13 720 4 3 1 8.0 2 2 2 11 6 4 9 6 70.0 32.0 4 3 2300 94 1\n",
            " \n",
            "0 10 41 130.0 180 1.3 8.4 5 2.0 3 4.5 30 3 0 0 69.0 18 3 7590 11 1080 4 3 7 5.0 1 1 7 2 6 6 5 6 136.5 128.0 6 7 2000 100 1\n",
            " \n",
            "0 10 43 143.0 160 1.2 8.2 5 5.0 3 5.0 30 3 142 0 142.4 6 3 7790 7 1080 4 3 2 8.0 1 2 2 17 6 6 9 3 73.0 32.0 5 3 2230 94 1\n",
            " \n",
            "0 1 55 152.0 450 1.2 9.4 2 5.0 3 5.0 30 2 0 0 143.0 5 3 7899 14 1080 4 1 2 8.0 1 2 7 4 6 4 9 6 71.8 32.0 6 3 4000 94 1\n",
            " \n",
            "0 10 34 140.0 264 1.5 8.0 5 5.0 3 5.5 30 5 184 0 152.6 26 3 7914 39 1080 4 3 2 8.0 2 2 7 11 4 4 7 3 76.2 32.0 5 3 2900 16 1\n",
            " \n",
            "2 1 38 125.0 354 1.3 7.6 5 5.0 3 5.0 30 5 10 0 144.6 14 11 7999 12 1080 9 1 2 13.0 2 3 4 27 4 2 23 6 72.0 128.0 6 5 2400 19 0\n",
            " \n",
            "3 1 43 97.0 345 1.2 5.1 5 5.0 3 4.8 30 3 0 0 141.9 5 9 8490 8 1080 14 1 0 8.0 2 2 2 4 6 2 10 2 68.1 0.0 5 3 2000 94 1\n",
            " \n",
            "0 10 29 150.0 322 1.5 8.2 5 5.0 3 5.0 30 3 113 0 142.0 2 12 8499 15 1080 9 3 2 13.0 2 2 2 11 4 6 23 6 71.0 32.0 6 4 2750 21 1\n",
            " \n",
            "0 8 43 202.0 914 1.2 10.6 2 5.0 3 5.5 30 4 34 0 156.0 18 3 8999 38 1080 4 1 2 13.0 2 2 2 16 6 6 7 6 77.5 64.0 5 4 5000 94 1\n",
            " \n",
            "0 8 43 170.0 456 1.2 10.8 2 5.0 3 5.5 30 2 189 0 152.5 7 3 8999 21 1080 9 3 2 13.0 2 2 2 16 6 4 7 6 77.2 128.0 5 3 3000 94 1\n",
            " \n",
            "0 8 38 155.0 350 1.3 9.3 5 5.0 3 5.5 30 3 122 0 151.0 18 3 8999 38 1080 4 1 2 13.0 1 2 2 18 4 6 7 6 77.0 64.0 6 4 3000 19 1\n",
            " \n",
            "0 1 44 160.0 617 1.7 9.6 5 5.0 3 5.0 30 3 0 0 150.1 26 12 9399 12 1080 4 3 9 8.0 2 1 7 5 4 4 9 3 72.7 32.0 5 3 2100 79 1\n",
            " \n",
            "0 10 43 185.0 775 1.2 9.4 5 5.0 3 5.5 30 2 87 0 154.0 26 3 9499 38 1080 4 3 2 13.0 2 2 2 6 6 4 7 6 78.7 32.0 4 3 3100 94 1\n",
            " \n",
            "0 8 55 141.0 218 1.2 7.6 5 8.0 3 5.0 30 2 9 0 142.7 26 10 9700 16 1080 18 1 11 8.0 3 1 2 10 6 4 3 6 71.7 128.0 1 3 2420 94 1\n",
            " \n",
            "0 8 34 150.0 270 1.7 8.0 2 5.0 3 5.5 30 2 0 0 152.6 19 3 9715 30 1080 1 3 1 13.0 1 2 2 11 4 4 16 6 76.2 32.0 5 3 2900 16 1\n",
            " \n",
            "0 8 43 155.0 250 1.4 11.6 2 5.0 3 5.0 30 2 760 0 142.1 5 3 9999 22 1080 4 1 2 13.0 1 2 2 3 6 4 9 7 72.4 32.0 6 3 2470 94 1\n",
            " \n",
            "0 10 28 164.0 264 1.4 8.7 2 5.0 3 5.5 30 2 420 0 150.0 26 3 9999 20 1080 9 1 2 16.0 2 2 4 6 2 1 16 6 76.0 0.0 6 3 4050 12 1\n",
            " \n",
            "0 10 28 164.0 265 1.4 8.7 2 5.0 3 5.5 30 2 420 0 150.0 18 3 9999 20 1080 9 1 2 16.0 2 2 4 6 2 3 16 6 76.0 0.0 6 3 4050 12 1\n",
            " \n",
            "0 8 34 150.0 750 1.7 8.0 2 5.0 3 5.5 30 3 608 0 152.6 26 3 9999 36 1080 9 3 2 13.0 1 2 2 11 4 6 16 6 76.2 32.0 5 4 3000 90 1\n",
            " \n",
            "0 10 34 138.0 521 1.7 8.2 5 5.0 3 5.0 30 3 20 0 146.9 26 9 9999 23 1080 4 3 2 13.0 2 1 7 5 4 4 9 6 70.9 32.0 4 3 2000 16 1\n",
            " \n",
            "1 10 38 149.0 360 1.3 8.7 2 5.0 3 5.5 30 1 0 0 150.9 1 11 9999 20 1080 9 1 2 13.0 6 2 4 30 4 4 18 3 75.2 128.0 5 3 3100 19 1\n",
            " \n",
            "2 0 27 128.0 490 1.7 8.8 5 5.0 3 5.0 30 3 0 0 140.8 18 11 9999 12 720 5 2 2 13.0 6 3 2 4 9 4 9 3 70.4 32.0 6 3 2100 19 0\n",
            " \n",
            "0 4 41 172.0 350 1.2 8.2 5 5.0 3 5.5 30 5 0 0 151.8 18 3 10190 21 1080 4 3 12 13.0 1 2 7 2 6 6 7 6 77.5 128.0 6 3 3000 94 1\n",
            " \n",
            "0 1 38 143.0 275 1.3 8.5 5 5.0 3 5.2 30 3 21 0 148.0 18 3 10899 10 1080 9 1 2 13.0 2 3 2 4 4 5 20 6 73.6 0.0 6 3 2900 90 1\n",
            " \n",
            "0 8 28 169.0 496 2.2 7.5 5 5.0 3 5.5 30 1 26 0 151.1 17 2 10999 20 2160 9 1 2 13.0 2 3 4 19 4 1 9 6 74.2 0.0 8 1 3000 14 1\n",
            " \n",
            "0 8 34 149.0 696 1.7 8.9 5 5.0 3 5.0 30 3 43 0 142.0 26 3 11090 46 1080 4 1 2 13.0 2 2 2 11 4 4 9 3 71.8 32.0 4 4 4000 16 1\n",
            " \n",
            "0 8 41 153.2 261 1.3 8.3 2 8.0 3 5.5 30 3 0 0 151.9 5 3 11299 28 1080 0 3 2 13.0 2 3 2 14 6 4 7 3 76.7 32.0 6 3 3000 92 1\n",
            " \n",
            "0 8 29 130.0 384 1.7 7.8 2 5.0 3 5.0 30 3 385 0 138.1 13 0 11999 35 1080 1 1 2 13.0 1 2 2 6 4 2 23 6 69.6 0.0 5 3 3120 22 1\n",
            " \n",
            "0 10 38 160.0 265 1.3 9.2 2 5.0 3 5.5 30 2 1016 0 153.6 18 3 11999 22 1080 9 1 2 13.0 2 3 2 11 2 3 17 6 76.5 128.0 6 3 3300 12 1\n",
            " \n",
            "0 10 29 155.0 342 1.5 11.6 2 5.0 3 5.0 30 3 0 0 142.1 5 0 12499 28 1080 4 1 12 13.0 1 2 2 3 4 4 34 5 72.4 32.0 6 2 2470 22 1\n",
            " \n",
            "0 13 34 138.0 761 1.7 8.2 5 5.0 3 5.0 30 4 2 0 146.9 18 11 13349 30 1080 3 1 2 13.0 1 2 2 5 4 3 9 6 70.9 32.0 4 3 2000 16 1\n",
            " \n",
            "0 3 41 148.0 566 1.0 9.3 5 5.0 3 5.0 30 2 0 0 141.0 5 3 13349 16 720 4 1 2 8.0 2 2 2 11 6 3 9 6 71.8 32.0 6 3 4000 92 1\n",
            " \n",
            "0 8 29 155.0 620 1.5 9.8 2 5.0 3 5.5 30 3 671 0 153.0 5 3 13499 24 1080 9 4 1 16.0 2 3 3 3 9 4 16 3 76.6 128.0 9 3 3000 72 1\n",
            " \n",
            "0 7 29 171.0 354 1.6 7.5 5 5.0 3 5.5 30 2 73 0 152.4 26 3 13990 23 1080 4 3 7 13.0 1 2 0 2 4 3 16 6 78.6 128.0 6 3 3000 72 1\n",
            " \n",
            "0 8 28 150.0 337 2.0 8.7 5 5.0 3 5.5 30 2 25 0 156.8 5 4 13999 9 1080 9 1 2 13.0 1 4 2 4 4 3 16 6 78.1 64.0 6 3 3000 14 1\n",
            " \n",
            "0 10 30 170.0 354 1.6 7.8 2 5.0 3 5.5 30 2 301 0 151.7 18 3 14249 23 1080 9 3 7 13.0 1 3 2 2 4 3 16 6 76.0 128.0 9 3 3300 72 1\n",
            " \n",
            "0 9 43 141.0 345 1.2 7.3 6 5.0 4 5.5 30 5 0 0 151.3 7 11 14300 18 1080 4 4 7 13.0 1 2 2 2 11 4 7 3 77.2 64.0 4 3 2950 94 0\n",
            " \n",
            "0 1 44 154.5 560 1.7 7.7 5 8.0 3 5.5 30 2 12 0 157.7 26 9 14614 12 1080 4 1 2 13.0 2 1 2 5 4 4 7 6 78.7 32.0 4 3 2600 79 1\n",
            " \n",
            "1 1 44 171.8 1093 1.4 7.7 5 1.1 3 6.0 30 3 24 0 165.2 26 3 14880 30 1080 4 1 11 13.0 1 1 7 8 6 4 6 6 83.8 32.0 3 3 3000 129 1\n",
            " \n",
            "1 10 29 229.0 480 1.5 7.6 4 5.0 3 6.8 30 3 0 0 186.6 18 3 14990 24 1080 1 1 1 13.0 2 2 4 11 4 4 12 6 96.6 64.0 5 3 3500 22 1\n",
            " \n",
            "0 10 16 160.0 200 2.3 6.9 5 8.0 3 5.0 30 3 175 0 140.0 5 9 14999 24 1080 9 1 0 13.0 2 3 2 12 6 1 23 6 69.0 0.0 6 4 2525 15 1\n",
            " \n",
            "3 6 16 149.0 280 2.5 8.9 5 8.0 3 5.0 30 2 33 0 139.2 26 3 14999 18 2160 1 1 2 13.0 1 3 2 6 6 2 23 6 68.5 0.0 4 3 3080 15 1\n",
            " \n",
            "3 3 16 144.0 250 2.5 10.0 2 13.0 3 5.2 30 4 188 0 140.8 5 11 14999 24 2160 9 1 5 13.0 1 2 2 3 6 1 20 4 72.4 0.0 4 3 2300 15 1\n",
            " \n",
            "2 10 16 175.0 840 2.5 8.9 3 8.0 3 5.5 30 1 6 0 155.7 15 11 15689 48 1080 9 1 4 13.0 2 3 6 11 6 0 16 3 77.3 0.0 6 14 4100 15 0\n",
            " \n",
            "0 8 29 134.0 380 1.7 7.3 5 8.0 3 5.0 30 1 0 0 143.5 8 2 15950 20 1080 9 1 2 13.0 1 3 2 10 4 3 9 6 71.0 128.0 6 3 2500 21 1\n",
            " \n",
            "0 7 30 170.0 354 1.6 7.8 5 5.0 3 5.5 30 3 301 0 151.7 26 3 15990 23 1080 0 3 7 13.0 1 3 2 2 4 4 7 6 76.0 32.0 9 3 3300 72 1\n",
            " \n",
            "0 13 29 189.0 600 1.5 9.9 2 5.0 3 5.5 30 2 137 0 152.9 5 11 15999 44 1080 9 1 2 13.0 2 2 4 11 4 3 16 6 75.6 128.0 6 3 5000 22 1\n",
            " \n",
            "3 10 15 130.0 370 1.6 7.9 5 2.0 3 5.0 30 1 347 0 136.6 5 3 16999 17 1080 9 3 7 13.0 1 2 2 2 4 4 23 3 69.8 64.0 2 10 2600 20 1\n",
            " \n",
            "0 10 29 145.0 456 1.7 7.3 2 8.0 3 5.0 30 2 22 0 142.0 5 3 17810 21 1080 1 1 2 16.0 2 3 4 11 4 4 23 6 70.0 128.0 5 3 3000 22 1\n",
            " \n",
            "0 8 29 169.0 330 1.7 10.9 2 5.0 3 5.5 30 2 48 0 148.0 5 11 18499 18 1080 9 1 2 21.0 1 2 4 3 6 4 16 7 75.0 128.0 6 3 3630 22 1\n",
            " \n",
            "1 8 29 135.0 488 1.5 7.3 5 5.0 3 5.0 30 3 0 0 145.5 21 9 18798 13 1080 6 1 2 13.0 1 2 2 8 6 4 9 0 72.6 128.0 5 3 2400 22 1\n",
            " \n",
            "0 10 34 147.0 682 1.7 7.9 5 5.0 3 5.5 30 3 0 0 150.3 20 9 19000 11 1080 1 1 3 13.0 1 2 2 8 4 4 0 3 77.4 128.0 5 7 2600 16 1\n",
            " \n",
            "0 8 38 150.0 420 1.5 8.0 5 4.0 3 5.5 30 3 18 0 157.7 26 9 19490 12 1080 9 1 2 13.0 2 2 2 5 4 4 16 3 78.9 2048.0 6 3 2800 19 1\n",
            " \n",
            "0 10 34 165.0 170 1.5 7.6 5 4.0 3 5.5 30 1 13 0 157.7 26 9 19890 7 1080 4 3 2 13.0 6 2 2 5 4 4 7 3 79.7 128.0 5 3 2600 16 1\n",
            " \n",
            "3 8 16 162.0 360 2.5 8.9 2 5.0 3 5.5 30 4 22 0 152.9 5 3 19999 38 2160 9 1 2 13.0 2 3 6 12 6 1 16 6 75.9 0.0 4 4 3100 15 1\n",
            " \n",
            "3 10 17 112.0 250 1.3 7.6 2 1.2 3 4.0 30 1 1304 2 123.8 12 11 20397 10 1080 2 1 2 8.0 2 1 2 1 0 1 13 6 58.6 0.0 11 13 1560 13 1\n",
            " \n",
            "0 8 29 183.0 687 1.7 8.0 5 4.0 3 5.5 30 2 131 0 158.0 26 11 21300 19 1080 9 1 9 13.0 2 2 2 5 4 4 16 6 77.5 128.0 5 3 2600 22 1\n",
            " \n",
            "3 10 16 145.0 390 1.9 8.1 5 2.0 3 5.1 30 1 22 0 142.0 5 9 21999 21 2160 1 3 7 16.0 1 2 2 2 6 4 22 7 72.5 128.0 4 9 2800 15 0\n",
            " \n",
            "0 8 34 187.0 635 1.7 8.2 5 13.0 3 6.0 30 3 26 0 164.2 20 9 21999 13 1080 1 1 2 13.0 1 2 2 8 4 4 14 3 79.6 200.0 5 3 2930 16 1\n",
            " \n",
            "0 8 9 175.0 360 1.8 9.9 2 5.0 3 5.5 30 4 100 0 151.8 5 9 22999 38 2160 9 1 2 13.0 2 4 6 12 6 1 16 6 74.9 0.0 6 12 3300 5 1\n",
            " \n",
            "1 8 24 157.0 620 2.2 8.5 1 8.0 3 5.2 30 3 29 0 143.2 26 9 22999 23 1080 9 4 2 20.0 2 3 2 15 4 4 20 6 71.9 128.0 5 3 3100 11 0\n",
            " \n",
            "0 8 14 175.0 618 1.8 9.3 2 8.0 4 5.5 30 2 0 0 154.0 5 11 24499 31 2160 9 4 1 21.0 4 3 6 11 8 6 16 6 76.5 0.0 6 3 3600 8 0\n",
            " \n",
            "3 7 41 155.0 180 1.6 7.1 5 5.0 3 5.2 30 3 75 0 144.8 7 9 24900 16 1080 1 0 7 13.0 2 2 2 2 4 4 20 3 71.0 128.0 6 3 2900 72 1\n",
            " \n",
            "1 8 3 129.0 598 1.8 7.3 2 4.0 3 5.15 30 1 0 0 144.6 7 9 24999 27 2160 1 1 2 16.0 2 4 4 6 6 2 21 6 69.2 0.0 9 0 3000 2 0\n",
            " \n",
            "4 8 14 179.0 410 1.8 11.1 0 5.0 3 5.7 30 1 4 0 153.9 5 9 24999 19 2160 10 4 12 21.0 1 3 6 3 8 4 26 6 76.2 128.0 6 3 3000 3 1\n",
            " \n",
            "3 8 9 144.0 590 2.0 6.9 5 2.2 3 5.2 30 2 126 0 146.0 25 3 25500 17 2160 1 1 1 20.7 1 3 4 8 6 4 20 7 72.0 128.0 5 3 2930 5 1\n",
            " \n",
            "1 10 28 142.6 504 2.0 7.6 5 13.0 3 5.0 30 3 69 0 145.0 21 9 25500 12 216 1 1 2 21.2 1 3 2 8 4 4 23 1 72.0 200.0 5 3 2600 14 0\n",
            " \n",
            "0 10 25 145.0 250 2.0 6.6 5 16.0 3 5.5 30 4 19 0 151.8 7 11 27580 24 1080 9 1 0 13.0 2 4 6 10 4 3 16 6 74.3 128.0 6 3 2850 90 1\n",
            " \n",
            "3 10 11 176.0 200 2.7 8.5 5 3.7 3 5.7 30 1 226 0 153.5 0 3 29900 20 216 10 3 7 16.0 1 3 4 2 6 4 24 6 78.6 128.0 4 3 3220 9 1\n",
            " \n",
            "0 10 21 168.0 420 2.3 8.3 5 2.0 3 5.7 30 0 502 0 151.2 5 3 29990 21 2160 9 3 7 13.0 1 3 4 2 6 4 15 3 79.2 64.0 3 9 3200 52 1\n",
            " \n",
            "4 6 14 155.0 410 1.8 6.3 2 8.0 3 5.5 30 3 0 0 148.9 10 9 30947 19 2160 10 5 1 16.0 1 3 4 9 8 4 28 6 76.1 2048.0 6 3 3000 8 1\n",
            " \n",
            "3 8 9 178.0 440 2.0 7.3 2 8.0 3 5.7 30 1 87 0 159.3 11 9 31999 23 2160 8 1 0 12.3 2 3 4 15 4 2 25 6 77.8 0.0 9 3 3450 5 1\n",
            " \n",
            "3 7 8 138.0 354 2.1 6.8 2 5.0 3 5.1 30 1 349 0 143.4 7 9 33900 17 2160 10 1 7 16.0 1 3 4 2 6 2 31 3 70.5 0.0 5 3 2550 4 1\n",
            " \n",
            "3 8 9 169.0 500 2.0 9.2 2 5.0 3 5.4 30 4 22 0 149.8 23 11 34999 25 2160 10 1 0 21.0 1 3 4 3 6 1 29 6 78.0 0.0 7 3 3760 5 0\n",
            " \n",
            "3 10 6 113.0 240 1.84 7.6 2 1.2 3 4.0 30 1 0 2 123.8 3 6 34999 14 2160 13 1 1 12.0 2 1 2 1 1 2 13 6 58.6 0.0 14 13 1624 1 0\n",
            " \n",
            "4 8 14 136.0 360 1.8 7.9 1 5.0 3 5.2 30 1 24 0 147.0 5 9 35900 14 2160 9 4 2 12.3 4 2 2 9 8 2 19 6 72.6 0.0 9 11 2700 8 1\n",
            " \n",
            "3 10 12 129.0 250 1.4 6.9 2 1.3 3 4.7 60 1 410 2 138.1 16 9 36499 14 1080 7 1 2 8.0 2 1 2 1 0 2 13 3 67.0 0.0 12 6 1810 7 1\n",
            " \n",
            "3 10 12 129.0 250 1.4 6.9 2 1.2 3 4.7 60 4 39 2 138.1 16 11 36999 14 1080 9 1 2 8.0 2 1 2 1 0 1 13 6 67.0 0.0 12 13 1810 7 1\n",
            " \n",
            "3 10 28 168.0 580 2.2 9.6 2 4.0 3 5.2 30 3 11 0 151.0 7 7 37766 20 2160 10 4 10 20.0 4 3 4 5 10 4 30 6 72.0 256.0 5 3 2840 56 0\n",
            " \n",
            "3 12 16 149.0 410 2.5 8.9 3 2.1 3 5.5 30 3 0 0 146.3 5 1 38000 19 2160 10 3 1 13.0 5 3 4 9 7 4 28 6 74.6 32.0 4 3 3000 15 1\n",
            " \n",
            "0 8 9 154.0 340 2.0 7.3 6 5.0 2 5.2 30 3 9 0 146.0 24 7 39890 13 2160 9 4 1 23.0 4 3 4 8 5 6 20 1 72.0 256.0 6 3 2900 5 1\n",
            " \n",
            "3 2 8 132.0 362 1.5 7.0 5 5.0 4 5.1 30 1 0 0 142.1 9 7 40900 14 2160 10 1 7 16.0 1 3 4 2 7 4 32 6 70.1 64.0 5 3 2600 4 1\n",
            " \n",
            "3 10 12 129.0 250 1.4 6.9 2 1.2 3 4.7 60 4 39 2 138.1 16 11 48329 14 1080 7 1 2 8.0 2 1 6 1 0 1 13 6 67.0 0.0 12 13 1810 7 1\n",
            " \n",
            "0 5 3 152.0 242 2.3 7.9 5 5.0 3 5.1 30 4 150 0 142.4 7 9 48900 22 2160 10 1 8 12.0 1 4 4 2 6 6 32 1 69.6 200.0 9 3 3000 101 1\n",
            " \n",
            "3 10 6 143.0 240 1.8 7.1 2 5.0 3 4.7 30 4 100 2 138.3 16 11 49499 14 2160 7 1 2 12.0 2 2 2 1 0 1 13 6 67.1 0.0 14 13 1715 1 1\n",
            " \n",
            "0 7 43 171.0 330 2.1 7.6 5 5.0 3 5.7 30 1 107 0 153.2 7 9 50895 22 2160 8 1 7 16.0 2 4 4 2 4 2 25 6 76.1 0.0 6 3 3450 4 1\n",
            " \n",
            "3 8 9 180.0 600 2.0 7.8 6 5.0 2 5.5 30 3 0 0 154.4 22 7 52699 19 2160 11 4 2 23.0 4 3 4 8 12 6 33 1 75.8 256.0 6 3 3430 5 1\n",
            " \n",
            "3 10 14 192.0 540 1.8 9.4 2 2.0 2 5.4 30 1 0 0 147.0 26 7 54900 15 2160 10 4 0 18.0 4 3 4 25 3 4 29 6 77.2 256.0 6 3 3410 8 1\n",
            " \n",
            "0 5 3 157.0 400 2.3 7.7 5 5.0 3 5.5 30 4 144 0 150.9 7 9 56900 27 2160 10 1 8 12.0 1 4 4 2 6 6 27 1 72.6 200.0 9 3 3600 101 1\n",
            " \n",
            "3 10 6 192.0 384 1.8 7.3 2 5.0 3 5.5 30 4 81 2 158.2 16 11 59000 24 2160 7 1 2 12.0 2 2 2 1 0 1 16 6 77.9 0.0 14 13 2750 1 1\n",
            " \n",
            "3 10 12 129.0 250 1.4 6.9 2 1.2 3 4.7 60 4 39 2 138.1 16 11 64500 14 1080 7 1 2 8.0 2 1 1 1 0 1 13 6 67.0 0.0 12 13 1810 7 1\n",
            " \n",
            "2 8 3 158.0 400 2.2 7.4 6 8.0 3 5.5 30 1 0 0 152.7 7 8 27999 40 2160 9 1 6 16.0 4 6 6 12 6 5 16 6 74.7 0.0 10 12 3000 2 0\n",
            " \n"
          ],
          "name": "stdout"
        }
      ]
    },
    {
      "cell_type": "code",
      "metadata": {
        "id": "OHY0SncWUuFW",
        "colab_type": "code",
        "colab": {}
      },
      "source": [
        "with open('my_out.txt','w') as file:\n",
        "  file.write(\"hello from python code\")"
      ],
      "execution_count": 0,
      "outputs": []
    },
    {
      "cell_type": "code",
      "metadata": {
        "id": "uxrKfrVXVC9Y",
        "colab_type": "code",
        "outputId": "6874e67b-2aa9-459e-dc91-812b73502254",
        "colab": {
          "base_uri": "https://localhost:8080/",
          "height": 34
        }
      },
      "source": [
        "!cat my_out.txt"
      ],
      "execution_count": 105,
      "outputs": [
        {
          "output_type": "stream",
          "text": [
            "hello from python code"
          ],
          "name": "stdout"
        }
      ]
    },
    {
      "cell_type": "code",
      "metadata": {
        "id": "9kCvhFCwVFtb",
        "colab_type": "code",
        "colab": {}
      },
      "source": [
        ""
      ],
      "execution_count": 0,
      "outputs": []
    },
    {
      "cell_type": "markdown",
      "metadata": {
        "id": "lEbkMj69VXmv",
        "colab_type": "text"
      },
      "source": [
        "# Class"
      ]
    },
    {
      "cell_type": "code",
      "metadata": {
        "id": "b8EYHBcaVYwc",
        "colab_type": "code",
        "colab": {}
      },
      "source": [
        "class MobilePhone:\n",
        "  \n",
        "  \"\"\"This class defines mobile phone class with specific variable and functions\"\"\"\n",
        "  def __init__(self,name,is_android=False,screen_size=4.3):\n",
        "    self.name = name\n",
        "    self.is_android = is_android\n",
        "    self.screen_size = screen_size\n",
        "    \n",
        "  def __repr__(self):\n",
        "    return self.name\n",
        "  \n",
        "  def __str__(self):\n",
        "    return self.name + \" \" + self.is_android"
      ],
      "execution_count": 0,
      "outputs": []
    },
    {
      "cell_type": "code",
      "metadata": {
        "id": "kTdOqq4IYBAv",
        "colab_type": "code",
        "colab": {}
      },
      "source": [
        "new_phone = MobilePhone(\"iPhone 5s\")"
      ],
      "execution_count": 0,
      "outputs": []
    },
    {
      "cell_type": "code",
      "metadata": {
        "id": "UsQYZhq4YD0c",
        "colab_type": "code",
        "outputId": "78c121ad-5172-4ae0-8f9d-cf5db975687c",
        "colab": {
          "base_uri": "https://localhost:8080/",
          "height": 34
        }
      },
      "source": [
        "##Returns the object that the repr function has been asked to return.\n",
        "\n",
        "new_phone"
      ],
      "execution_count": 108,
      "outputs": [
        {
          "output_type": "execute_result",
          "data": {
            "text/plain": [
              "iPhone 5s"
            ]
          },
          "metadata": {
            "tags": []
          },
          "execution_count": 108
        }
      ]
    },
    {
      "cell_type": "code",
      "metadata": {
        "id": "hmy7wJ5AYG3Q",
        "colab_type": "code",
        "outputId": "73f59fdd-96b0-48fb-b68b-772cec62a160",
        "colab": {
          "base_uri": "https://localhost:8080/",
          "height": 34
        }
      },
      "source": [
        "type(new_phone)"
      ],
      "execution_count": 109,
      "outputs": [
        {
          "output_type": "execute_result",
          "data": {
            "text/plain": [
              "__main__.MobilePhone"
            ]
          },
          "metadata": {
            "tags": []
          },
          "execution_count": 109
        }
      ]
    },
    {
      "cell_type": "code",
      "metadata": {
        "id": "TSIB4x13YInC",
        "colab_type": "code",
        "outputId": "77dcac84-82f5-4936-afb7-da40cf84a2c3",
        "colab": {
          "base_uri": "https://localhost:8080/",
          "height": 34
        }
      },
      "source": [
        "new_phone.name"
      ],
      "execution_count": 110,
      "outputs": [
        {
          "output_type": "execute_result",
          "data": {
            "text/plain": [
              "'iPhone 5s'"
            ]
          },
          "metadata": {
            "tags": []
          },
          "execution_count": 110
        }
      ]
    },
    {
      "cell_type": "code",
      "metadata": {
        "id": "61qVSKYsYKxj",
        "colab_type": "code",
        "outputId": "8eb83e2b-44ed-46b0-b8a5-ca07e937fce9",
        "colab": {
          "base_uri": "https://localhost:8080/",
          "height": 34
        }
      },
      "source": [
        "##Accessing the docstring of the object\n",
        "\n",
        "MobilePhone.__doc__"
      ],
      "execution_count": 111,
      "outputs": [
        {
          "output_type": "execute_result",
          "data": {
            "text/plain": [
              "'This class defines mobile phone class with specific variable and functions'"
            ]
          },
          "metadata": {
            "tags": []
          },
          "execution_count": 111
        }
      ]
    },
    {
      "cell_type": "code",
      "metadata": {
        "id": "j25ZXlNYYYdo",
        "colab_type": "code",
        "colab": {}
      },
      "source": [
        "class iPhone(MobilePhone):\n",
        "  \n",
        "  def __init__(self,name):\n",
        "    \n",
        "    MobilePhone.__init__(self,name,False,3.9)"
      ],
      "execution_count": 0,
      "outputs": []
    },
    {
      "cell_type": "code",
      "metadata": {
        "id": "q-okZGe5ZYJK",
        "colab_type": "code",
        "colab": {}
      },
      "source": [
        "current_phone = iPhone(\"iPhone 5\")"
      ],
      "execution_count": 0,
      "outputs": []
    },
    {
      "cell_type": "code",
      "metadata": {
        "id": "3Le5OcrGZcF4",
        "colab_type": "code",
        "outputId": "b6c41b49-7c38-444b-ca9e-4d75773faf26",
        "colab": {
          "base_uri": "https://localhost:8080/",
          "height": 34
        }
      },
      "source": [
        "current_phone"
      ],
      "execution_count": 114,
      "outputs": [
        {
          "output_type": "execute_result",
          "data": {
            "text/plain": [
              "iPhone 5"
            ]
          },
          "metadata": {
            "tags": []
          },
          "execution_count": 114
        }
      ]
    },
    {
      "cell_type": "markdown",
      "metadata": {
        "id": "ESiSOtBnZ5BD",
        "colab_type": "text"
      },
      "source": [
        "# Numpy"
      ]
    },
    {
      "cell_type": "code",
      "metadata": {
        "id": "OrFCoFQyZdE3",
        "colab_type": "code",
        "colab": {}
      },
      "source": [
        "import numpy as np"
      ],
      "execution_count": 0,
      "outputs": []
    },
    {
      "cell_type": "code",
      "metadata": {
        "id": "3CP_UWqnehsb",
        "colab_type": "code",
        "colab": {}
      },
      "source": [
        "l = [3,4,5]"
      ],
      "execution_count": 0,
      "outputs": []
    },
    {
      "cell_type": "code",
      "metadata": {
        "id": "4dLWzy78eo7O",
        "colab_type": "code",
        "colab": {}
      },
      "source": [
        "X = np.array(l)"
      ],
      "execution_count": 0,
      "outputs": []
    },
    {
      "cell_type": "code",
      "metadata": {
        "id": "7qgMqvA9eqAt",
        "colab_type": "code",
        "outputId": "ac638969-3ddb-4607-c3b9-116d602e096b",
        "colab": {
          "base_uri": "https://localhost:8080/",
          "height": 34
        }
      },
      "source": [
        "X"
      ],
      "execution_count": 118,
      "outputs": [
        {
          "output_type": "execute_result",
          "data": {
            "text/plain": [
              "array([3, 4, 5])"
            ]
          },
          "metadata": {
            "tags": []
          },
          "execution_count": 118
        }
      ]
    },
    {
      "cell_type": "code",
      "metadata": {
        "id": "ID9gfpqdeqZI",
        "colab_type": "code",
        "outputId": "cd73b7d2-8402-4bdc-cb97-c35c493e5546",
        "colab": {
          "base_uri": "https://localhost:8080/",
          "height": 34
        }
      },
      "source": [
        "type(X)"
      ],
      "execution_count": 119,
      "outputs": [
        {
          "output_type": "execute_result",
          "data": {
            "text/plain": [
              "numpy.ndarray"
            ]
          },
          "metadata": {
            "tags": []
          },
          "execution_count": 119
        }
      ]
    },
    {
      "cell_type": "code",
      "metadata": {
        "id": "z_a5_Gq8erJn",
        "colab_type": "code",
        "colab": {}
      },
      "source": [
        "Y = np.asarray(l,float)"
      ],
      "execution_count": 0,
      "outputs": []
    },
    {
      "cell_type": "code",
      "metadata": {
        "id": "hTCSPx3XeuCy",
        "colab_type": "code",
        "outputId": "73efba51-2889-43a8-ec10-1b20e0a605ef",
        "colab": {
          "base_uri": "https://localhost:8080/",
          "height": 34
        }
      },
      "source": [
        "Y"
      ],
      "execution_count": 121,
      "outputs": [
        {
          "output_type": "execute_result",
          "data": {
            "text/plain": [
              "array([3., 4., 5.])"
            ]
          },
          "metadata": {
            "tags": []
          },
          "execution_count": 121
        }
      ]
    },
    {
      "cell_type": "code",
      "metadata": {
        "id": "4mTbXwopeub_",
        "colab_type": "code",
        "outputId": "2e37de07-153b-497c-84df-250dc011f46b",
        "colab": {
          "base_uri": "https://localhost:8080/",
          "height": 34
        }
      },
      "source": [
        "type(Y)"
      ],
      "execution_count": 122,
      "outputs": [
        {
          "output_type": "execute_result",
          "data": {
            "text/plain": [
              "numpy.ndarray"
            ]
          },
          "metadata": {
            "tags": []
          },
          "execution_count": 122
        }
      ]
    },
    {
      "cell_type": "code",
      "metadata": {
        "id": "yLCpQTCsevsf",
        "colab_type": "code",
        "outputId": "20a64a16-79e3-4c64-fa57-47a458d99e42",
        "colab": {
          "base_uri": "https://localhost:8080/",
          "height": 51
        }
      },
      "source": [
        "print(X.shape)\n",
        "print(Y.shape)"
      ],
      "execution_count": 123,
      "outputs": [
        {
          "output_type": "stream",
          "text": [
            "(3,)\n",
            "(3,)\n"
          ],
          "name": "stdout"
        }
      ]
    },
    {
      "cell_type": "code",
      "metadata": {
        "id": "hsitUfgDex2H",
        "colab_type": "code",
        "colab": {}
      },
      "source": [
        "l2 = [[1,2,3,4],[5,6,7,8],[9,10,11,12]]"
      ],
      "execution_count": 0,
      "outputs": []
    },
    {
      "cell_type": "code",
      "metadata": {
        "id": "a9DgBPNffBeY",
        "colab_type": "code",
        "colab": {}
      },
      "source": [
        "Z = np.array(l2)"
      ],
      "execution_count": 0,
      "outputs": []
    },
    {
      "cell_type": "code",
      "metadata": {
        "id": "RjoeNbMQfDTC",
        "colab_type": "code",
        "outputId": "b1eda1e1-9ab9-4ef0-a985-6ae0a79476c9",
        "colab": {
          "base_uri": "https://localhost:8080/",
          "height": 34
        }
      },
      "source": [
        "Z.shape"
      ],
      "execution_count": 126,
      "outputs": [
        {
          "output_type": "execute_result",
          "data": {
            "text/plain": [
              "(3, 4)"
            ]
          },
          "metadata": {
            "tags": []
          },
          "execution_count": 126
        }
      ]
    },
    {
      "cell_type": "code",
      "metadata": {
        "id": "liOfsZKjfD2e",
        "colab_type": "code",
        "outputId": "380f7abd-865a-42e8-b98b-7877a82696e9",
        "colab": {
          "base_uri": "https://localhost:8080/",
          "height": 68
        }
      },
      "source": [
        "Z"
      ],
      "execution_count": 127,
      "outputs": [
        {
          "output_type": "execute_result",
          "data": {
            "text/plain": [
              "array([[ 1,  2,  3,  4],\n",
              "       [ 5,  6,  7,  8],\n",
              "       [ 9, 10, 11, 12]])"
            ]
          },
          "metadata": {
            "tags": []
          },
          "execution_count": 127
        }
      ]
    },
    {
      "cell_type": "code",
      "metadata": {
        "id": "BtkPyl0RfE8_",
        "colab_type": "code",
        "outputId": "f252f92f-c8c0-43d4-cd2c-0d7bf6e0b10b",
        "colab": {
          "base_uri": "https://localhost:8080/",
          "height": 34
        }
      },
      "source": [
        "Z.sum()"
      ],
      "execution_count": 128,
      "outputs": [
        {
          "output_type": "execute_result",
          "data": {
            "text/plain": [
              "78"
            ]
          },
          "metadata": {
            "tags": []
          },
          "execution_count": 128
        }
      ]
    },
    {
      "cell_type": "code",
      "metadata": {
        "id": "R9cxHH6LfKJn",
        "colab_type": "code",
        "outputId": "eeead443-0478-4c01-b1d1-02d1bc6273c4",
        "colab": {
          "base_uri": "https://localhost:8080/",
          "height": 34
        }
      },
      "source": [
        "Z.sum(axis=1)"
      ],
      "execution_count": 129,
      "outputs": [
        {
          "output_type": "execute_result",
          "data": {
            "text/plain": [
              "array([10, 26, 42])"
            ]
          },
          "metadata": {
            "tags": []
          },
          "execution_count": 129
        }
      ]
    },
    {
      "cell_type": "code",
      "metadata": {
        "id": "_AzIeBTrfL1K",
        "colab_type": "code",
        "outputId": "8a00a478-25db-4d01-f0f1-f28d0b32d90f",
        "colab": {
          "base_uri": "https://localhost:8080/",
          "height": 34
        }
      },
      "source": [
        "Z.sum(axis=0)"
      ],
      "execution_count": 130,
      "outputs": [
        {
          "output_type": "execute_result",
          "data": {
            "text/plain": [
              "array([15, 18, 21, 24])"
            ]
          },
          "metadata": {
            "tags": []
          },
          "execution_count": 130
        }
      ]
    },
    {
      "cell_type": "code",
      "metadata": {
        "id": "SNyv7caHfOHS",
        "colab_type": "code",
        "outputId": "b7ff04d1-f5d5-4226-fc47-d15a89894c33",
        "colab": {
          "base_uri": "https://localhost:8080/",
          "height": 34
        }
      },
      "source": [
        "Z.max(axis=1)"
      ],
      "execution_count": 131,
      "outputs": [
        {
          "output_type": "execute_result",
          "data": {
            "text/plain": [
              "array([ 4,  8, 12])"
            ]
          },
          "metadata": {
            "tags": []
          },
          "execution_count": 131
        }
      ]
    },
    {
      "cell_type": "code",
      "metadata": {
        "id": "oax2mirBfPlW",
        "colab_type": "code",
        "outputId": "62cbbb59-5de9-48c6-fa1b-ad743ce16052",
        "colab": {
          "base_uri": "https://localhost:8080/",
          "height": 34
        }
      },
      "source": [
        "Z.mean()"
      ],
      "execution_count": 132,
      "outputs": [
        {
          "output_type": "execute_result",
          "data": {
            "text/plain": [
              "6.5"
            ]
          },
          "metadata": {
            "tags": []
          },
          "execution_count": 132
        }
      ]
    },
    {
      "cell_type": "code",
      "metadata": {
        "id": "rBuZUYMmffbA",
        "colab_type": "code",
        "outputId": "a48b3e8c-ffb1-434b-a310-f3eb9b4bc8b0",
        "colab": {
          "base_uri": "https://localhost:8080/",
          "height": 34
        }
      },
      "source": [
        "Z.mean(axis=1)"
      ],
      "execution_count": 133,
      "outputs": [
        {
          "output_type": "execute_result",
          "data": {
            "text/plain": [
              "array([ 2.5,  6.5, 10.5])"
            ]
          },
          "metadata": {
            "tags": []
          },
          "execution_count": 133
        }
      ]
    },
    {
      "cell_type": "code",
      "metadata": {
        "id": "2YKF14AafhQo",
        "colab_type": "code",
        "outputId": "574f2297-823d-460b-95c3-ee6f7cc60414",
        "colab": {
          "base_uri": "https://localhost:8080/",
          "height": 34
        }
      },
      "source": [
        "Z.mean(axis=0)"
      ],
      "execution_count": 134,
      "outputs": [
        {
          "output_type": "execute_result",
          "data": {
            "text/plain": [
              "array([5., 6., 7., 8.])"
            ]
          },
          "metadata": {
            "tags": []
          },
          "execution_count": 134
        }
      ]
    },
    {
      "cell_type": "code",
      "metadata": {
        "id": "SHheHbnVfivY",
        "colab_type": "code",
        "colab": {}
      },
      "source": [
        "l3 = [[[1,2,3,4],[5,6,7,8]],[[9,10,11,12],[13,14,15,16]],[[17,18,19,20],[21,22,23,24]]]"
      ],
      "execution_count": 0,
      "outputs": []
    },
    {
      "cell_type": "code",
      "metadata": {
        "id": "rHqDs6Lgf5jp",
        "colab_type": "code",
        "colab": {}
      },
      "source": [
        "U = np.array(l3)"
      ],
      "execution_count": 0,
      "outputs": []
    },
    {
      "cell_type": "code",
      "metadata": {
        "id": "2y9q-WB6f7bi",
        "colab_type": "code",
        "outputId": "17b7bd6e-99c4-48ad-8ed1-2dafb328d170",
        "colab": {
          "base_uri": "https://localhost:8080/",
          "height": 34
        }
      },
      "source": [
        "U.shape"
      ],
      "execution_count": 137,
      "outputs": [
        {
          "output_type": "execute_result",
          "data": {
            "text/plain": [
              "(3, 2, 4)"
            ]
          },
          "metadata": {
            "tags": []
          },
          "execution_count": 137
        }
      ]
    },
    {
      "cell_type": "code",
      "metadata": {
        "id": "LgUtEiIqf8JP",
        "colab_type": "code",
        "outputId": "e7b7ad4e-5d1b-4031-c294-c7a0a6febd38",
        "colab": {
          "base_uri": "https://localhost:8080/",
          "height": 68
        }
      },
      "source": [
        "U.sum(axis=1)"
      ],
      "execution_count": 138,
      "outputs": [
        {
          "output_type": "execute_result",
          "data": {
            "text/plain": [
              "array([[ 6,  8, 10, 12],\n",
              "       [22, 24, 26, 28],\n",
              "       [38, 40, 42, 44]])"
            ]
          },
          "metadata": {
            "tags": []
          },
          "execution_count": 138
        }
      ]
    },
    {
      "cell_type": "code",
      "metadata": {
        "id": "ApYRoJKlgAu_",
        "colab_type": "code",
        "outputId": "a141e0f8-8f81-480a-8c89-15ba5ccdf2ea",
        "colab": {
          "base_uri": "https://localhost:8080/",
          "height": 51
        }
      },
      "source": [
        "U.sum(axis=0)"
      ],
      "execution_count": 139,
      "outputs": [
        {
          "output_type": "execute_result",
          "data": {
            "text/plain": [
              "array([[27, 30, 33, 36],\n",
              "       [39, 42, 45, 48]])"
            ]
          },
          "metadata": {
            "tags": []
          },
          "execution_count": 139
        }
      ]
    },
    {
      "cell_type": "code",
      "metadata": {
        "id": "c2LJ1bd-gCQS",
        "colab_type": "code",
        "outputId": "3cb75f4f-69b9-4772-955f-d5403c9669f3",
        "colab": {
          "base_uri": "https://localhost:8080/",
          "height": 68
        }
      },
      "source": [
        "U.sum(axis=2)"
      ],
      "execution_count": 140,
      "outputs": [
        {
          "output_type": "execute_result",
          "data": {
            "text/plain": [
              "array([[10, 26],\n",
              "       [42, 58],\n",
              "       [74, 90]])"
            ]
          },
          "metadata": {
            "tags": []
          },
          "execution_count": 140
        }
      ]
    },
    {
      "cell_type": "code",
      "metadata": {
        "id": "GHBA2BkjgIy1",
        "colab_type": "code",
        "colab": {}
      },
      "source": [
        "l4 = [[[[1,2,3,4],[5,6,7,8]],[[9,10,11,12],[13,14,15,16]],[[17,18,19,20],[21,22,23,24]]],[[[1,2,3,4],[5,6,7,8]],[[9,10,11,12],[13,14,15,16]],[[17,18,19,20],[21,22,23,24]]]]"
      ],
      "execution_count": 0,
      "outputs": []
    },
    {
      "cell_type": "code",
      "metadata": {
        "id": "M9Lco7v7jakK",
        "colab_type": "code",
        "colab": {}
      },
      "source": [
        "V = np.array(l4)"
      ],
      "execution_count": 0,
      "outputs": []
    },
    {
      "cell_type": "code",
      "metadata": {
        "id": "1BWS_DrJjcNE",
        "colab_type": "code",
        "outputId": "178a7285-a321-42a0-8c79-f54f3ea0daa1",
        "colab": {
          "base_uri": "https://localhost:8080/",
          "height": 323
        }
      },
      "source": [
        "V"
      ],
      "execution_count": 143,
      "outputs": [
        {
          "output_type": "execute_result",
          "data": {
            "text/plain": [
              "array([[[[ 1,  2,  3,  4],\n",
              "         [ 5,  6,  7,  8]],\n",
              "\n",
              "        [[ 9, 10, 11, 12],\n",
              "         [13, 14, 15, 16]],\n",
              "\n",
              "        [[17, 18, 19, 20],\n",
              "         [21, 22, 23, 24]]],\n",
              "\n",
              "\n",
              "       [[[ 1,  2,  3,  4],\n",
              "         [ 5,  6,  7,  8]],\n",
              "\n",
              "        [[ 9, 10, 11, 12],\n",
              "         [13, 14, 15, 16]],\n",
              "\n",
              "        [[17, 18, 19, 20],\n",
              "         [21, 22, 23, 24]]]])"
            ]
          },
          "metadata": {
            "tags": []
          },
          "execution_count": 143
        }
      ]
    },
    {
      "cell_type": "code",
      "metadata": {
        "id": "soGlxLCVjc80",
        "colab_type": "code",
        "outputId": "fa1b47f0-4f65-4ba7-af4f-1945b7481720",
        "colab": {
          "base_uri": "https://localhost:8080/",
          "height": 34
        }
      },
      "source": [
        "V.shape"
      ],
      "execution_count": 144,
      "outputs": [
        {
          "output_type": "execute_result",
          "data": {
            "text/plain": [
              "(2, 3, 2, 4)"
            ]
          },
          "metadata": {
            "tags": []
          },
          "execution_count": 144
        }
      ]
    },
    {
      "cell_type": "code",
      "metadata": {
        "id": "-L_EtGQ3jef_",
        "colab_type": "code",
        "outputId": "e877af16-e464-4378-ef41-db41d59d642f",
        "colab": {
          "base_uri": "https://localhost:8080/",
          "height": 153
        }
      },
      "source": [
        "V.sum(axis=0)"
      ],
      "execution_count": 145,
      "outputs": [
        {
          "output_type": "execute_result",
          "data": {
            "text/plain": [
              "array([[[ 2,  4,  6,  8],\n",
              "        [10, 12, 14, 16]],\n",
              "\n",
              "       [[18, 20, 22, 24],\n",
              "        [26, 28, 30, 32]],\n",
              "\n",
              "       [[34, 36, 38, 40],\n",
              "        [42, 44, 46, 48]]])"
            ]
          },
          "metadata": {
            "tags": []
          },
          "execution_count": 145
        }
      ]
    },
    {
      "cell_type": "code",
      "metadata": {
        "id": "GY_sSGXEjhxk",
        "colab_type": "code",
        "outputId": "14e181e6-e30d-42f3-fc16-0b6aa85eaf7e",
        "colab": {
          "base_uri": "https://localhost:8080/",
          "height": 102
        }
      },
      "source": [
        "V.sum(axis=1)"
      ],
      "execution_count": 146,
      "outputs": [
        {
          "output_type": "execute_result",
          "data": {
            "text/plain": [
              "array([[[27, 30, 33, 36],\n",
              "        [39, 42, 45, 48]],\n",
              "\n",
              "       [[27, 30, 33, 36],\n",
              "        [39, 42, 45, 48]]])"
            ]
          },
          "metadata": {
            "tags": []
          },
          "execution_count": 146
        }
      ]
    },
    {
      "cell_type": "code",
      "metadata": {
        "id": "Fgmz8da1jmFc",
        "colab_type": "code",
        "outputId": "dea6fa1d-954e-4ede-dd7b-b05479a54c42",
        "colab": {
          "base_uri": "https://localhost:8080/",
          "height": 136
        }
      },
      "source": [
        "V.sum(axis=2)"
      ],
      "execution_count": 147,
      "outputs": [
        {
          "output_type": "execute_result",
          "data": {
            "text/plain": [
              "array([[[ 6,  8, 10, 12],\n",
              "        [22, 24, 26, 28],\n",
              "        [38, 40, 42, 44]],\n",
              "\n",
              "       [[ 6,  8, 10, 12],\n",
              "        [22, 24, 26, 28],\n",
              "        [38, 40, 42, 44]]])"
            ]
          },
          "metadata": {
            "tags": []
          },
          "execution_count": 147
        }
      ]
    },
    {
      "cell_type": "code",
      "metadata": {
        "id": "fQNrji3VjqPZ",
        "colab_type": "code",
        "outputId": "486c2964-66f9-4ec2-ad90-31040a653b9e",
        "colab": {
          "base_uri": "https://localhost:8080/",
          "height": 136
        }
      },
      "source": [
        "V.sum(axis=3)"
      ],
      "execution_count": 148,
      "outputs": [
        {
          "output_type": "execute_result",
          "data": {
            "text/plain": [
              "array([[[10, 26],\n",
              "        [42, 58],\n",
              "        [74, 90]],\n",
              "\n",
              "       [[10, 26],\n",
              "        [42, 58],\n",
              "        [74, 90]]])"
            ]
          },
          "metadata": {
            "tags": []
          },
          "execution_count": 148
        }
      ]
    },
    {
      "cell_type": "code",
      "metadata": {
        "id": "O_PlbHA9jsDM",
        "colab_type": "code",
        "colab": {}
      },
      "source": [
        "Q = np.ones((3,4))"
      ],
      "execution_count": 0,
      "outputs": []
    },
    {
      "cell_type": "code",
      "metadata": {
        "id": "IHXrrchKkEHs",
        "colab_type": "code",
        "colab": {}
      },
      "source": [
        "##to create array with diagonal elements as 1\n",
        "\n",
        "W = np.eye(4,4)"
      ],
      "execution_count": 0,
      "outputs": []
    },
    {
      "cell_type": "code",
      "metadata": {
        "id": "2x-gL1kPkGUx",
        "colab_type": "code",
        "outputId": "2605809e-ef51-4925-8bde-9485f1db86ac",
        "colab": {
          "base_uri": "https://localhost:8080/",
          "height": 85
        }
      },
      "source": [
        "W"
      ],
      "execution_count": 151,
      "outputs": [
        {
          "output_type": "execute_result",
          "data": {
            "text/plain": [
              "array([[1., 0., 0., 0.],\n",
              "       [0., 1., 0., 0.],\n",
              "       [0., 0., 1., 0.],\n",
              "       [0., 0., 0., 1.]])"
            ]
          },
          "metadata": {
            "tags": []
          },
          "execution_count": 151
        }
      ]
    },
    {
      "cell_type": "code",
      "metadata": {
        "id": "MyESNb-JkHeg",
        "colab_type": "code",
        "colab": {}
      },
      "source": [
        "C = np.ones((3,4))"
      ],
      "execution_count": 0,
      "outputs": []
    },
    {
      "cell_type": "code",
      "metadata": {
        "id": "ioi0QTJKkWTT",
        "colab_type": "code",
        "outputId": "fbf61e1d-61df-45ee-9d18-2c92030c662f",
        "colab": {
          "base_uri": "https://localhost:8080/",
          "height": 136
        }
      },
      "source": [
        "print(Q)\n",
        "print()\n",
        "print(C)"
      ],
      "execution_count": 153,
      "outputs": [
        {
          "output_type": "stream",
          "text": [
            "[[1. 1. 1. 1.]\n",
            " [1. 1. 1. 1.]\n",
            " [1. 1. 1. 1.]]\n",
            "\n",
            "[[1. 1. 1. 1.]\n",
            " [1. 1. 1. 1.]\n",
            " [1. 1. 1. 1.]]\n"
          ],
          "name": "stdout"
        }
      ]
    },
    {
      "cell_type": "code",
      "metadata": {
        "id": "AKrYx1vdkQ3P",
        "colab_type": "code",
        "colab": {}
      },
      "source": [
        "p = np.inner(Q,C)"
      ],
      "execution_count": 0,
      "outputs": []
    },
    {
      "cell_type": "code",
      "metadata": {
        "id": "rW_DH1jlkS19",
        "colab_type": "code",
        "outputId": "2efa58ef-8151-4357-fdc5-cc9291131834",
        "colab": {
          "base_uri": "https://localhost:8080/",
          "height": 68
        }
      },
      "source": [
        "p"
      ],
      "execution_count": 155,
      "outputs": [
        {
          "output_type": "execute_result",
          "data": {
            "text/plain": [
              "array([[4., 4., 4.],\n",
              "       [4., 4., 4.],\n",
              "       [4., 4., 4.]])"
            ]
          },
          "metadata": {
            "tags": []
          },
          "execution_count": 155
        }
      ]
    },
    {
      "cell_type": "code",
      "metadata": {
        "id": "cvDGReYAkTgu",
        "colab_type": "code",
        "colab": {}
      },
      "source": [
        "o = np.outer(Q,C)"
      ],
      "execution_count": 0,
      "outputs": []
    },
    {
      "cell_type": "code",
      "metadata": {
        "id": "hBUQdHQxkzr0",
        "colab_type": "code",
        "outputId": "e491c952-fecb-43fa-e461-73fa5cf666c5",
        "colab": {
          "base_uri": "https://localhost:8080/",
          "height": 221
        }
      },
      "source": [
        "o"
      ],
      "execution_count": 157,
      "outputs": [
        {
          "output_type": "execute_result",
          "data": {
            "text/plain": [
              "array([[1., 1., 1., 1., 1., 1., 1., 1., 1., 1., 1., 1.],\n",
              "       [1., 1., 1., 1., 1., 1., 1., 1., 1., 1., 1., 1.],\n",
              "       [1., 1., 1., 1., 1., 1., 1., 1., 1., 1., 1., 1.],\n",
              "       [1., 1., 1., 1., 1., 1., 1., 1., 1., 1., 1., 1.],\n",
              "       [1., 1., 1., 1., 1., 1., 1., 1., 1., 1., 1., 1.],\n",
              "       [1., 1., 1., 1., 1., 1., 1., 1., 1., 1., 1., 1.],\n",
              "       [1., 1., 1., 1., 1., 1., 1., 1., 1., 1., 1., 1.],\n",
              "       [1., 1., 1., 1., 1., 1., 1., 1., 1., 1., 1., 1.],\n",
              "       [1., 1., 1., 1., 1., 1., 1., 1., 1., 1., 1., 1.],\n",
              "       [1., 1., 1., 1., 1., 1., 1., 1., 1., 1., 1., 1.],\n",
              "       [1., 1., 1., 1., 1., 1., 1., 1., 1., 1., 1., 1.],\n",
              "       [1., 1., 1., 1., 1., 1., 1., 1., 1., 1., 1., 1.]])"
            ]
          },
          "metadata": {
            "tags": []
          },
          "execution_count": 157
        }
      ]
    },
    {
      "cell_type": "code",
      "metadata": {
        "id": "LTRaty4lmFM1",
        "colab_type": "code",
        "outputId": "b1d4ed5f-42b4-4d8a-8d90-00e617559ddf",
        "colab": {
          "base_uri": "https://localhost:8080/",
          "height": 34
        }
      },
      "source": [
        "o.shape"
      ],
      "execution_count": 158,
      "outputs": [
        {
          "output_type": "execute_result",
          "data": {
            "text/plain": [
              "(12, 12)"
            ]
          },
          "metadata": {
            "tags": []
          },
          "execution_count": 158
        }
      ]
    },
    {
      "cell_type": "code",
      "metadata": {
        "id": "Q5sRnLtSk0Pk",
        "colab_type": "code",
        "colab": {}
      },
      "source": [
        "d = np.dot(Q,C.T)"
      ],
      "execution_count": 0,
      "outputs": []
    },
    {
      "cell_type": "code",
      "metadata": {
        "id": "DcZ6F0rHk6g8",
        "colab_type": "code",
        "outputId": "cb07662a-4973-4734-db08-59562528708a",
        "colab": {
          "base_uri": "https://localhost:8080/",
          "height": 68
        }
      },
      "source": [
        "d"
      ],
      "execution_count": 160,
      "outputs": [
        {
          "output_type": "execute_result",
          "data": {
            "text/plain": [
              "array([[4., 4., 4.],\n",
              "       [4., 4., 4.],\n",
              "       [4., 4., 4.]])"
            ]
          },
          "metadata": {
            "tags": []
          },
          "execution_count": 160
        }
      ]
    },
    {
      "cell_type": "code",
      "metadata": {
        "id": "OkVW7JRkk9w9",
        "colab_type": "code",
        "colab": {}
      },
      "source": [
        "e = np.ones(4)"
      ],
      "execution_count": 0,
      "outputs": []
    },
    {
      "cell_type": "code",
      "metadata": {
        "id": "LGXHmuPolCQd",
        "colab_type": "code",
        "colab": {}
      },
      "source": [
        "f = np.ones(4)"
      ],
      "execution_count": 0,
      "outputs": []
    },
    {
      "cell_type": "code",
      "metadata": {
        "id": "XZm7Z5OilDel",
        "colab_type": "code",
        "outputId": "aab08bde-203c-49a1-b19f-39cdf36169bb",
        "colab": {
          "base_uri": "https://localhost:8080/",
          "height": 34
        }
      },
      "source": [
        "np.inner(e,f)"
      ],
      "execution_count": 163,
      "outputs": [
        {
          "output_type": "execute_result",
          "data": {
            "text/plain": [
              "4.0"
            ]
          },
          "metadata": {
            "tags": []
          },
          "execution_count": 163
        }
      ]
    },
    {
      "cell_type": "code",
      "metadata": {
        "id": "RmBqPKCslESV",
        "colab_type": "code",
        "outputId": "1698c60f-7115-4cfc-f6da-26c70e66f8d3",
        "colab": {
          "base_uri": "https://localhost:8080/",
          "height": 102
        }
      },
      "source": [
        "a = np.ones((5,4))\n",
        "b = np.ones((3,4))\n",
        "\n",
        "np.inner(a,b)"
      ],
      "execution_count": 164,
      "outputs": [
        {
          "output_type": "execute_result",
          "data": {
            "text/plain": [
              "array([[4., 4., 4.],\n",
              "       [4., 4., 4.],\n",
              "       [4., 4., 4.],\n",
              "       [4., 4., 4.],\n",
              "       [4., 4., 4.]])"
            ]
          },
          "metadata": {
            "tags": []
          },
          "execution_count": 164
        }
      ]
    },
    {
      "cell_type": "code",
      "metadata": {
        "id": "eKkyeJJdmItt",
        "colab_type": "code",
        "outputId": "5439f283-9cdf-4a81-8e76-338f705f7e3c",
        "colab": {
          "base_uri": "https://localhost:8080/",
          "height": 34
        }
      },
      "source": [
        "np.outer(a,b).shape"
      ],
      "execution_count": 165,
      "outputs": [
        {
          "output_type": "execute_result",
          "data": {
            "text/plain": [
              "(20, 12)"
            ]
          },
          "metadata": {
            "tags": []
          },
          "execution_count": 165
        }
      ]
    },
    {
      "cell_type": "code",
      "metadata": {
        "id": "HMPYmri2laTp",
        "colab_type": "code",
        "colab": {}
      },
      "source": [
        "c = np.array([3,3,3])\n",
        "d = np.array([[4,4,4],[5,5,5]])"
      ],
      "execution_count": 0,
      "outputs": []
    },
    {
      "cell_type": "code",
      "metadata": {
        "id": "RJ0AoOALlvP3",
        "colab_type": "code",
        "outputId": "90b9599e-230e-4ea8-9e48-5564df732d6a",
        "colab": {
          "base_uri": "https://localhost:8080/",
          "height": 34
        }
      },
      "source": [
        "np.inner(c,d)"
      ],
      "execution_count": 167,
      "outputs": [
        {
          "output_type": "execute_result",
          "data": {
            "text/plain": [
              "array([36, 45])"
            ]
          },
          "metadata": {
            "tags": []
          },
          "execution_count": 167
        }
      ]
    },
    {
      "cell_type": "code",
      "metadata": {
        "id": "Gk_864ndlwka",
        "colab_type": "code",
        "outputId": "9ccae967-b23a-4bad-9646-abb73b4cad35",
        "colab": {
          "base_uri": "https://localhost:8080/",
          "height": 68
        }
      },
      "source": [
        "np.outer(c,d)"
      ],
      "execution_count": 168,
      "outputs": [
        {
          "output_type": "execute_result",
          "data": {
            "text/plain": [
              "array([[12, 12, 12, 15, 15, 15],\n",
              "       [12, 12, 12, 15, 15, 15],\n",
              "       [12, 12, 12, 15, 15, 15]])"
            ]
          },
          "metadata": {
            "tags": []
          },
          "execution_count": 168
        }
      ]
    },
    {
      "cell_type": "code",
      "metadata": {
        "id": "Iprt9--HmRFX",
        "colab_type": "code",
        "colab": {}
      },
      "source": [
        "g = np.random.random((4,5))"
      ],
      "execution_count": 0,
      "outputs": []
    },
    {
      "cell_type": "code",
      "metadata": {
        "id": "cCjnm6EfmoJ0",
        "colab_type": "code",
        "outputId": "1396ec7a-dfea-46d6-98fb-a1a691b2beb5",
        "colab": {
          "base_uri": "https://localhost:8080/",
          "height": 85
        }
      },
      "source": [
        "g"
      ],
      "execution_count": 170,
      "outputs": [
        {
          "output_type": "execute_result",
          "data": {
            "text/plain": [
              "array([[0.39976354, 0.16567835, 0.93054871, 0.45035409, 0.70272101],\n",
              "       [0.14597079, 0.56938791, 0.81379285, 0.82313507, 0.80313944],\n",
              "       [0.49463661, 0.00922193, 0.73972981, 0.59273914, 0.44457425],\n",
              "       [0.85355345, 0.8854994 , 0.04051561, 0.09388705, 0.75526589]])"
            ]
          },
          "metadata": {
            "tags": []
          },
          "execution_count": 170
        }
      ]
    },
    {
      "cell_type": "code",
      "metadata": {
        "id": "tYrPRd4ymogJ",
        "colab_type": "code",
        "outputId": "d58fb2ef-d674-428d-cf21-409a7c3368de",
        "colab": {
          "base_uri": "https://localhost:8080/",
          "height": 85
        }
      },
      "source": [
        "g+1"
      ],
      "execution_count": 171,
      "outputs": [
        {
          "output_type": "execute_result",
          "data": {
            "text/plain": [
              "array([[1.39976354, 1.16567835, 1.93054871, 1.45035409, 1.70272101],\n",
              "       [1.14597079, 1.56938791, 1.81379285, 1.82313507, 1.80313944],\n",
              "       [1.49463661, 1.00922193, 1.73972981, 1.59273914, 1.44457425],\n",
              "       [1.85355345, 1.8854994 , 1.04051561, 1.09388705, 1.75526589]])"
            ]
          },
          "metadata": {
            "tags": []
          },
          "execution_count": 171
        }
      ]
    },
    {
      "cell_type": "code",
      "metadata": {
        "id": "uxgqY6n0mpZT",
        "colab_type": "code",
        "outputId": "75416904-af23-49ce-be07-91ee75ffc6c2",
        "colab": {
          "base_uri": "https://localhost:8080/",
          "height": 102
        }
      },
      "source": [
        "h = np.floor(np.random.random((5,6))*10)\n",
        "h"
      ],
      "execution_count": 172,
      "outputs": [
        {
          "output_type": "execute_result",
          "data": {
            "text/plain": [
              "array([[7., 6., 8., 3., 3., 7.],\n",
              "       [1., 7., 9., 3., 2., 5.],\n",
              "       [3., 7., 9., 4., 0., 1.],\n",
              "       [9., 5., 5., 4., 3., 0.],\n",
              "       [7., 8., 9., 1., 1., 2.]])"
            ]
          },
          "metadata": {
            "tags": []
          },
          "execution_count": 172
        }
      ]
    },
    {
      "cell_type": "markdown",
      "metadata": {
        "id": "3FDaRFdKnHpw",
        "colab_type": "text"
      },
      "source": [
        "# Plotting"
      ]
    },
    {
      "cell_type": "code",
      "metadata": {
        "id": "oirnbsL6mtH3",
        "colab_type": "code",
        "colab": {}
      },
      "source": [
        "import matplotlib.pyplot as plt"
      ],
      "execution_count": 0,
      "outputs": []
    },
    {
      "cell_type": "code",
      "metadata": {
        "id": "LCvZhp1bnJye",
        "colab_type": "code",
        "colab": {}
      },
      "source": [
        "x = np.random.random((10,1))"
      ],
      "execution_count": 0,
      "outputs": []
    },
    {
      "cell_type": "code",
      "metadata": {
        "id": "1-wFa3vELeH1",
        "colab_type": "code",
        "colab": {
          "base_uri": "https://localhost:8080/",
          "height": 269
        },
        "outputId": "cff3cbca-c542-45f5-dfd6-7479a5854e21"
      },
      "source": [
        "plt.plot(x)\n",
        "plt.show()"
      ],
      "execution_count": 4,
      "outputs": [
        {
          "output_type": "display_data",
          "data": {
            "image/png": "[encoded data removed]",
            "text/plain": [
              "<Figure size 432x288 with 1 Axes>"
            ]
          },
          "metadata": {
            "tags": []
          }
        }
      ]
    },
    {
      "cell_type": "code",
      "metadata": {
        "id": "9Al-0OoLL1os",
        "colab_type": "code",
        "colab": {
          "base_uri": "https://localhost:8080/",
          "height": 269
        },
        "outputId": "96cf3e01-29d2-41fa-d210-bf43d8912c2f"
      },
      "source": [
        "y = [2,3,8,6]\n",
        "plt.plot(y)\n",
        "plt.show()"
      ],
      "execution_count": 5,
      "outputs": [
        {
          "output_type": "display_data",
          "data": {
            "image/png": "[encoded data removed]",
            "text/plain": [
              "<Figure size 432x288 with 1 Axes>"
            ]
          },
          "metadata": {
            "tags": []
          }
        }
      ]
    },
    {
      "cell_type": "code",
      "metadata": {
        "id": "XkfQ69yTL8RT",
        "colab_type": "code",
        "colab": {
          "base_uri": "https://localhost:8080/",
          "height": 269
        },
        "outputId": "90a6d6cc-45f7-4906-add0-ff3578531f27"
      },
      "source": [
        "x = np.floor(np.random.random((10,1))*10)\n",
        "y = np.floor(np.random.random((10,1))*10)\n",
        "plt.scatter(x,y)\n",
        "plt.show()"
      ],
      "execution_count": 6,
      "outputs": [
        {
          "output_type": "display_data",
          "data": {
            "image/png": "[encoded data removed]",
            "text/plain": [
              "<Figure size 432x288 with 1 Axes>"
            ]
          },
          "metadata": {
            "tags": []
          }
        }
      ]
    },
    {
      "cell_type": "code",
      "metadata": {
        "id": "zezkccVhMCT8",
        "colab_type": "code",
        "colab": {
          "base_uri": "https://localhost:8080/",
          "height": 269
        },
        "outputId": "ccc72f4f-0d1d-4f15-ad14-e8fe9a8a9586"
      },
      "source": [
        "plt.plot(x,'*')\n",
        "plt.show()"
      ],
      "execution_count": 8,
      "outputs": [
        {
          "output_type": "display_data",
          "data": {
            "image/png": "[encoded data removed]",
            "text/plain": [
              "<Figure size 432x288 with 1 Axes>"
            ]
          },
          "metadata": {
            "tags": []
          }
        }
      ]
    },
    {
      "cell_type": "code",
      "metadata": {
        "id": "u_AQpngKNqyK",
        "colab_type": "code",
        "colab": {
          "base_uri": "https://localhost:8080/",
          "height": 269
        },
        "outputId": "ad984509-5408-4c79-db20-c78d7a96c9ad"
      },
      "source": [
        "plt.plot(x,'x')\n",
        "plt.show()"
      ],
      "execution_count": 9,
      "outputs": [
        {
          "output_type": "display_data",
          "data": {
            "image/png": "[encoded data removed]",
            "text/plain": [
              "<Figure size 432x288 with 1 Axes>"
            ]
          },
          "metadata": {
            "tags": []
          }
        }
      ]
    },
    {
      "cell_type": "code",
      "metadata": {
        "id": "ydzErZRlN8LD",
        "colab_type": "code",
        "colab": {
          "base_uri": "https://localhost:8080/",
          "height": 269
        },
        "outputId": "24a88b73-092d-4fee-81ce-205cd0a77796"
      },
      "source": [
        "plt.plot(x,'-')\n",
        "plt.show()"
      ],
      "execution_count": 10,
      "outputs": [
        {
          "output_type": "display_data",
          "data": {
            "image/png": "[encoded data removed]",
            "text/plain": [
              "<Figure size 432x288 with 1 Axes>"
            ]
          },
          "metadata": {
            "tags": []
          }
        }
      ]
    },
    {
      "cell_type": "code",
      "metadata": {
        "id": "svIIFX71OxPx",
        "colab_type": "code",
        "colab": {
          "base_uri": "https://localhost:8080/",
          "height": 269
        },
        "outputId": "91752d4f-9b2d-4736-fd55-54528329fbeb"
      },
      "source": [
        "plt.plot(x,'*-')\n",
        "plt.show()"
      ],
      "execution_count": 11,
      "outputs": [
        {
          "output_type": "display_data",
          "data": {
            "image/png": "[encoded data removed]",
            "text/plain": [
              "<Figure size 432x288 with 1 Axes>"
            ]
          },
          "metadata": {
            "tags": []
          }
        }
      ]
    },
    {
      "cell_type": "code",
      "metadata": {
        "id": "AMah5P29O1j_",
        "colab_type": "code",
        "colab": {
          "base_uri": "https://localhost:8080/",
          "height": 269
        },
        "outputId": "f87dc3c6-ab5b-43e6-ad17-03f8dd70671f"
      },
      "source": [
        "x = np.linspace(0,10,100)\n",
        "y = np.power(x,2)\n",
        "\n",
        "plt.plot(x,y)\n",
        "plt.show()"
      ],
      "execution_count": 12,
      "outputs": [
        {
          "output_type": "display_data",
          "data": {
            "image/png": "[encoded data removed]",
            "text/plain": [
              "<Figure size 432x288 with 1 Axes>"
            ]
          },
          "metadata": {
            "tags": []
          }
        }
      ]
    },
    {
      "cell_type": "code",
      "metadata": {
        "id": "eaGqdMTBQClh",
        "colab_type": "code",
        "colab": {
          "base_uri": "https://localhost:8080/",
          "height": 269
        },
        "outputId": "ba2acdc5-5984-46a7-d2e7-5b8e98c7fe67"
      },
      "source": [
        "z = np.power(x,0.5)\n",
        "plt.plot(x,z)\n",
        "plt.show()"
      ],
      "execution_count": 13,
      "outputs": [
        {
          "output_type": "display_data",
          "data": {
            "image/png": "[encoded data removed]",
            "text/plain": [
              "<Figure size 432x288 with 1 Axes>"
            ]
          },
          "metadata": {
            "tags": []
          }
        }
      ]
    },
    {
      "cell_type": "code",
      "metadata": {
        "id": "7bKpgHHpQHpi",
        "colab_type": "code",
        "colab": {
          "base_uri": "https://localhost:8080/",
          "height": 269
        },
        "outputId": "3de13981-2e2e-44b8-fe78-488f29a8b766"
      },
      "source": [
        "a = np.linspace(-5,5,100)\n",
        "b = np.power(a,3)\n",
        "\n",
        "plt.plot(a,b)\n",
        "plt.show()"
      ],
      "execution_count": 14,
      "outputs": [
        {
          "output_type": "display_data",
          "data": {
            "image/png": "[encoded data removed]",
            "text/plain": [
              "<Figure size 432x288 with 1 Axes>"
            ]
          },
          "metadata": {
            "tags": []
          }
        }
      ]
    },
    {
      "cell_type": "code",
      "metadata": {
        "id": "9_JBnbgUQQeJ",
        "colab_type": "code",
        "colab": {}
      },
      "source": [
        ""
      ],
      "execution_count": 0,
      "outputs": []
    }
  ]
}