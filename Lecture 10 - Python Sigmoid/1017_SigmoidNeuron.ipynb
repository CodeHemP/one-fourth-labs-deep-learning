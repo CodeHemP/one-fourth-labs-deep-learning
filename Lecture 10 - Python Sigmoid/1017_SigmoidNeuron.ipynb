{
  "nbformat": 4,
  "nbformat_minor": 0,
  "metadata": {
    "colab": {
      "name": "1017_SigmoidNeuron.ipynb",
      "provenance": []
    },
    "kernelspec": {
      "name": "python3",
      "display_name": "Python 3"
    },
    "accelerator": "GPU"
  },
  "cells": [
    {
      "cell_type": "markdown",
      "metadata": {
        "id": "BjCGNpWdV_Zw",
        "colab_type": "text"
      },
      "source": [
        "# Imports"
      ]
    },
    {
      "cell_type": "code",
      "metadata": {
        "id": "zPgAh8n0P2h-",
        "colab_type": "code",
        "colab": {}
      },
      "source": [
        "import numpy as np\n",
        "import matplotlib.pyplot as plt"
      ],
      "execution_count": 0,
      "outputs": []
    },
    {
      "cell_type": "code",
      "metadata": {
        "id": "Kh--cc0lV6WB",
        "colab_type": "code",
        "colab": {}
      },
      "source": [
        "import seaborn as sns"
      ],
      "execution_count": 0,
      "outputs": []
    },
    {
      "cell_type": "code",
      "metadata": {
        "id": "YqAcsVXsV8Y9",
        "colab_type": "code",
        "colab": {}
      },
      "source": [
        "sns.set()"
      ],
      "execution_count": 0,
      "outputs": []
    },
    {
      "cell_type": "markdown",
      "metadata": {
        "id": "u_d-CmJ7WC5V",
        "colab_type": "text"
      },
      "source": [
        "# Plotting sigmoid function"
      ]
    },
    {
      "cell_type": "markdown",
      "metadata": {
        "id": "rVXPKutDWIin",
        "colab_type": "text"
      },
      "source": [
        "$S_{w,b}(x) = \\frac{1}{1+e^{-(wx+b)}}$"
      ]
    },
    {
      "cell_type": "code",
      "metadata": {
        "id": "zbHbd0U8V9jM",
        "colab_type": "code",
        "colab": {}
      },
      "source": [
        "def sigmoid(X,w,b):\n",
        "\n",
        "  return 1/(1+np.exp(-((w*X)+b)))"
      ],
      "execution_count": 0,
      "outputs": []
    },
    {
      "cell_type": "code",
      "metadata": {
        "id": "JkX0iunNWfN_",
        "colab_type": "code",
        "colab": {
          "base_uri": "https://localhost:8080/",
          "height": 34
        },
        "outputId": "ff80270a-01a9-4b45-b874-59bd7ebcdd9a"
      },
      "source": [
        "sigmoid(1,0.5,0)"
      ],
      "execution_count": 5,
      "outputs": [
        {
          "output_type": "execute_result",
          "data": {
            "text/plain": [
              "0.6224593312018546"
            ]
          },
          "metadata": {
            "tags": []
          },
          "execution_count": 5
        }
      ]
    },
    {
      "cell_type": "code",
      "metadata": {
        "id": "ncXolo69Wh9o",
        "colab_type": "code",
        "colab": {}
      },
      "source": [
        "w = -0.5 #@param{type:\"slider\", min:-2,max:2,step:0.1}\n",
        "b = 0.1 #@param{type:\"slider\", min:-2,max:2,step:0.1}\n",
        "X = np.linspace(-10,10,100)\n",
        "Y = sigmoid(X,w,b)"
      ],
      "execution_count": 0,
      "outputs": []
    },
    {
      "cell_type": "code",
      "metadata": {
        "id": "tapsTcMjWoeb",
        "colab_type": "code",
        "colab": {
          "base_uri": "https://localhost:8080/",
          "height": 274
        },
        "outputId": "5babfaf6-2c68-4ea1-fecb-aed6c1b9302a"
      },
      "source": [
        "plt.plot(X,Y)\n",
        "plt.show()"
      ],
      "execution_count": 14,
      "outputs": [
        {
          "output_type": "display_data",
          "data": {
            "image/png": "[encoded data removed]",
            "text/plain": [
              "<Figure size 432x288 with 1 Axes>"
            ]
          },
          "metadata": {
            "tags": []
          }
        }
      ]
    },
    {
      "cell_type": "code",
      "metadata": {
        "id": "F40sXf-AWsTd",
        "colab_type": "code",
        "colab": {}
      },
      "source": [
        ""
      ],
      "execution_count": 0,
      "outputs": []
    }
  ]
}