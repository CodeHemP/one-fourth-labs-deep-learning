{
  "nbformat": 4,
  "nbformat_minor": 0,
  "metadata": {
    "colab": {
      "name": "0922_MPNeuronAndPerceptron.ipynb",
      "provenance": [],
      "toc_visible": true
    },
    "kernelspec": {
      "name": "python3",
      "display_name": "Python 3"
    },
    "accelerator": "GPU"
  },
  "cells": [
    {
      "cell_type": "markdown",
      "metadata": {
        "id": "6Yo4uLb4-_Au",
        "colab_type": "text"
      },
      "source": [
        "# Loading Dataset"
      ]
    },
    {
      "cell_type": "code",
      "metadata": {
        "id": "utT2dIMV5qmg",
        "colab_type": "code",
        "colab": {}
      },
      "source": [
        "import sklearn.datasets\n",
        "import numpy as np"
      ],
      "execution_count": 0,
      "outputs": []
    },
    {
      "cell_type": "code",
      "metadata": {
        "id": "OqOJkuy47FLx",
        "colab_type": "code",
        "colab": {}
      },
      "source": [
        "breast_cancer = sklearn.datasets.load_breast_cancer()"
      ],
      "execution_count": 0,
      "outputs": []
    },
    {
      "cell_type": "code",
      "metadata": {
        "id": "aqos5aOo7WSb",
        "colab_type": "code",
        "outputId": "1f838a80-8ce9-4681-d0f0-c8a90c43f3a9",
        "colab": {
          "base_uri": "https://localhost:8080/",
          "height": 34
        }
      },
      "source": [
        "type(breast_cancer)"
      ],
      "execution_count": 3,
      "outputs": [
        {
          "output_type": "execute_result",
          "data": {
            "text/plain": [
              "sklearn.utils.Bunch"
            ]
          },
          "metadata": {
            "tags": []
          },
          "execution_count": 3
        }
      ]
    },
    {
      "cell_type": "code",
      "metadata": {
        "id": "Gd-75xsK7YnC",
        "colab_type": "code",
        "colab": {}
      },
      "source": [
        "x = breast_cancer.data\n",
        "y = breast_cancer.target"
      ],
      "execution_count": 0,
      "outputs": []
    },
    {
      "cell_type": "code",
      "metadata": {
        "id": "kawmBWRV7p-U",
        "colab_type": "code",
        "outputId": "7af5219c-1ad6-4e53-8880-595ca5dc8fc3",
        "colab": {
          "base_uri": "https://localhost:8080/",
          "height": 34
        }
      },
      "source": [
        "type(x)"
      ],
      "execution_count": 5,
      "outputs": [
        {
          "output_type": "execute_result",
          "data": {
            "text/plain": [
              "numpy.ndarray"
            ]
          },
          "metadata": {
            "tags": []
          },
          "execution_count": 5
        }
      ]
    },
    {
      "cell_type": "code",
      "metadata": {
        "id": "qu8TN6jW7q8s",
        "colab_type": "code",
        "outputId": "ec7b233d-a1a2-4cd0-9cce-d360931a65d3",
        "colab": {
          "base_uri": "https://localhost:8080/",
          "height": 34
        }
      },
      "source": [
        "x.shape, y.shape"
      ],
      "execution_count": 6,
      "outputs": [
        {
          "output_type": "execute_result",
          "data": {
            "text/plain": [
              "((569, 30), (569,))"
            ]
          },
          "metadata": {
            "tags": []
          },
          "execution_count": 6
        }
      ]
    },
    {
      "cell_type": "code",
      "metadata": {
        "id": "xAgDl6Me8NMM",
        "colab_type": "code",
        "outputId": "e3a9c6f1-9ae6-4131-b41e-1f125bd69c27",
        "colab": {
          "base_uri": "https://localhost:8080/",
          "height": 170
        }
      },
      "source": [
        "print(breast_cancer.feature_names)"
      ],
      "execution_count": 7,
      "outputs": [
        {
          "output_type": "stream",
          "text": [
            "['mean radius' 'mean texture' 'mean perimeter' 'mean area'\n",
            " 'mean smoothness' 'mean compactness' 'mean concavity'\n",
            " 'mean concave points' 'mean symmetry' 'mean fractal dimension'\n",
            " 'radius error' 'texture error' 'perimeter error' 'area error'\n",
            " 'smoothness error' 'compactness error' 'concavity error'\n",
            " 'concave points error' 'symmetry error' 'fractal dimension error'\n",
            " 'worst radius' 'worst texture' 'worst perimeter' 'worst area'\n",
            " 'worst smoothness' 'worst compactness' 'worst concavity'\n",
            " 'worst concave points' 'worst symmetry' 'worst fractal dimension']\n"
          ],
          "name": "stdout"
        }
      ]
    },
    {
      "cell_type": "code",
      "metadata": {
        "id": "OJb0wr4l72B0",
        "colab_type": "code",
        "colab": {}
      },
      "source": [
        "import pandas as pd"
      ],
      "execution_count": 0,
      "outputs": []
    },
    {
      "cell_type": "code",
      "metadata": {
        "id": "1bvj_KnQ7_SA",
        "colab_type": "code",
        "colab": {}
      },
      "source": [
        "df = pd.DataFrame(breast_cancer.data,columns = breast_cancer.feature_names)"
      ],
      "execution_count": 0,
      "outputs": []
    },
    {
      "cell_type": "code",
      "metadata": {
        "id": "h77lLeKW8Kd2",
        "colab_type": "code",
        "outputId": "a5b406b0-9532-4a83-c141-edec84cdf482",
        "colab": {
          "base_uri": "https://localhost:8080/",
          "height": 258
        }
      },
      "source": [
        "df.head()"
      ],
      "execution_count": 10,
      "outputs": [
        {
          "output_type": "execute_result",
          "data": {
            "text/html": [
              "<div>\n",
              "<style scoped>\n",
              "    .dataframe tbody tr th:only-of-type {\n",
              "        vertical-align: middle;\n",
              "    }\n",
              "\n",
              "    .dataframe tbody tr th {\n",
              "        vertical-align: top;\n",
              "    }\n",
              "\n",
              "    .dataframe thead th {\n",
              "        text-align: right;\n",
              "    }\n",
              "</style>\n",
              "<table border=\"1\" class=\"dataframe\">\n",
              "  <thead>\n",
              "    <tr style=\"text-align: right;\">\n",
              "      <th></th>\n",
              "      <th>mean radius</th>\n",
              "      <th>mean texture</th>\n",
              "      <th>mean perimeter</th>\n",
              "      <th>mean area</th>\n",
              "      <th>mean smoothness</th>\n",
              "      <th>mean compactness</th>\n",
              "      <th>mean concavity</th>\n",
              "      <th>mean concave points</th>\n",
              "      <th>mean symmetry</th>\n",
              "      <th>mean fractal dimension</th>\n",
              "      <th>radius error</th>\n",
              "      <th>texture error</th>\n",
              "      <th>perimeter error</th>\n",
              "      <th>area error</th>\n",
              "      <th>smoothness error</th>\n",
              "      <th>compactness error</th>\n",
              "      <th>concavity error</th>\n",
              "      <th>concave points error</th>\n",
              "      <th>symmetry error</th>\n",
              "      <th>fractal dimension error</th>\n",
              "      <th>worst radius</th>\n",
              "      <th>worst texture</th>\n",
              "      <th>worst perimeter</th>\n",
              "      <th>worst area</th>\n",
              "      <th>worst smoothness</th>\n",
              "      <th>worst compactness</th>\n",
              "      <th>worst concavity</th>\n",
              "      <th>worst concave points</th>\n",
              "      <th>worst symmetry</th>\n",
              "      <th>worst fractal dimension</th>\n",
              "    </tr>\n",
              "  </thead>\n",
              "  <tbody>\n",
              "    <tr>\n",
              "      <th>0</th>\n",
              "      <td>17.99</td>\n",
              "      <td>10.38</td>\n",
              "      <td>122.80</td>\n",
              "      <td>1001.0</td>\n",
              "      <td>0.11840</td>\n",
              "      <td>0.27760</td>\n",
              "      <td>0.3001</td>\n",
              "      <td>0.14710</td>\n",
              "      <td>0.2419</td>\n",
              "      <td>0.07871</td>\n",
              "      <td>1.0950</td>\n",
              "      <td>0.9053</td>\n",
              "      <td>8.589</td>\n",
              "      <td>153.40</td>\n",
              "      <td>0.006399</td>\n",
              "      <td>0.04904</td>\n",
              "      <td>0.05373</td>\n",
              "      <td>0.01587</td>\n",
              "      <td>0.03003</td>\n",
              "      <td>0.006193</td>\n",
              "      <td>25.38</td>\n",
              "      <td>17.33</td>\n",
              "      <td>184.60</td>\n",
              "      <td>2019.0</td>\n",
              "      <td>0.1622</td>\n",
              "      <td>0.6656</td>\n",
              "      <td>0.7119</td>\n",
              "      <td>0.2654</td>\n",
              "      <td>0.4601</td>\n",
              "      <td>0.11890</td>\n",
              "    </tr>\n",
              "    <tr>\n",
              "      <th>1</th>\n",
              "      <td>20.57</td>\n",
              "      <td>17.77</td>\n",
              "      <td>132.90</td>\n",
              "      <td>1326.0</td>\n",
              "      <td>0.08474</td>\n",
              "      <td>0.07864</td>\n",
              "      <td>0.0869</td>\n",
              "      <td>0.07017</td>\n",
              "      <td>0.1812</td>\n",
              "      <td>0.05667</td>\n",
              "      <td>0.5435</td>\n",
              "      <td>0.7339</td>\n",
              "      <td>3.398</td>\n",
              "      <td>74.08</td>\n",
              "      <td>0.005225</td>\n",
              "      <td>0.01308</td>\n",
              "      <td>0.01860</td>\n",
              "      <td>0.01340</td>\n",
              "      <td>0.01389</td>\n",
              "      <td>0.003532</td>\n",
              "      <td>24.99</td>\n",
              "      <td>23.41</td>\n",
              "      <td>158.80</td>\n",
              "      <td>1956.0</td>\n",
              "      <td>0.1238</td>\n",
              "      <td>0.1866</td>\n",
              "      <td>0.2416</td>\n",
              "      <td>0.1860</td>\n",
              "      <td>0.2750</td>\n",
              "      <td>0.08902</td>\n",
              "    </tr>\n",
              "    <tr>\n",
              "      <th>2</th>\n",
              "      <td>19.69</td>\n",
              "      <td>21.25</td>\n",
              "      <td>130.00</td>\n",
              "      <td>1203.0</td>\n",
              "      <td>0.10960</td>\n",
              "      <td>0.15990</td>\n",
              "      <td>0.1974</td>\n",
              "      <td>0.12790</td>\n",
              "      <td>0.2069</td>\n",
              "      <td>0.05999</td>\n",
              "      <td>0.7456</td>\n",
              "      <td>0.7869</td>\n",
              "      <td>4.585</td>\n",
              "      <td>94.03</td>\n",
              "      <td>0.006150</td>\n",
              "      <td>0.04006</td>\n",
              "      <td>0.03832</td>\n",
              "      <td>0.02058</td>\n",
              "      <td>0.02250</td>\n",
              "      <td>0.004571</td>\n",
              "      <td>23.57</td>\n",
              "      <td>25.53</td>\n",
              "      <td>152.50</td>\n",
              "      <td>1709.0</td>\n",
              "      <td>0.1444</td>\n",
              "      <td>0.4245</td>\n",
              "      <td>0.4504</td>\n",
              "      <td>0.2430</td>\n",
              "      <td>0.3613</td>\n",
              "      <td>0.08758</td>\n",
              "    </tr>\n",
              "    <tr>\n",
              "      <th>3</th>\n",
              "      <td>11.42</td>\n",
              "      <td>20.38</td>\n",
              "      <td>77.58</td>\n",
              "      <td>386.1</td>\n",
              "      <td>0.14250</td>\n",
              "      <td>0.28390</td>\n",
              "      <td>0.2414</td>\n",
              "      <td>0.10520</td>\n",
              "      <td>0.2597</td>\n",
              "      <td>0.09744</td>\n",
              "      <td>0.4956</td>\n",
              "      <td>1.1560</td>\n",
              "      <td>3.445</td>\n",
              "      <td>27.23</td>\n",
              "      <td>0.009110</td>\n",
              "      <td>0.07458</td>\n",
              "      <td>0.05661</td>\n",
              "      <td>0.01867</td>\n",
              "      <td>0.05963</td>\n",
              "      <td>0.009208</td>\n",
              "      <td>14.91</td>\n",
              "      <td>26.50</td>\n",
              "      <td>98.87</td>\n",
              "      <td>567.7</td>\n",
              "      <td>0.2098</td>\n",
              "      <td>0.8663</td>\n",
              "      <td>0.6869</td>\n",
              "      <td>0.2575</td>\n",
              "      <td>0.6638</td>\n",
              "      <td>0.17300</td>\n",
              "    </tr>\n",
              "    <tr>\n",
              "      <th>4</th>\n",
              "      <td>20.29</td>\n",
              "      <td>14.34</td>\n",
              "      <td>135.10</td>\n",
              "      <td>1297.0</td>\n",
              "      <td>0.10030</td>\n",
              "      <td>0.13280</td>\n",
              "      <td>0.1980</td>\n",
              "      <td>0.10430</td>\n",
              "      <td>0.1809</td>\n",
              "      <td>0.05883</td>\n",
              "      <td>0.7572</td>\n",
              "      <td>0.7813</td>\n",
              "      <td>5.438</td>\n",
              "      <td>94.44</td>\n",
              "      <td>0.011490</td>\n",
              "      <td>0.02461</td>\n",
              "      <td>0.05688</td>\n",
              "      <td>0.01885</td>\n",
              "      <td>0.01756</td>\n",
              "      <td>0.005115</td>\n",
              "      <td>22.54</td>\n",
              "      <td>16.67</td>\n",
              "      <td>152.20</td>\n",
              "      <td>1575.0</td>\n",
              "      <td>0.1374</td>\n",
              "      <td>0.2050</td>\n",
              "      <td>0.4000</td>\n",
              "      <td>0.1625</td>\n",
              "      <td>0.2364</td>\n",
              "      <td>0.07678</td>\n",
              "    </tr>\n",
              "  </tbody>\n",
              "</table>\n",
              "</div>"
            ],
            "text/plain": [
              "   mean radius  mean texture  ...  worst symmetry  worst fractal dimension\n",
              "0        17.99         10.38  ...          0.4601                  0.11890\n",
              "1        20.57         17.77  ...          0.2750                  0.08902\n",
              "2        19.69         21.25  ...          0.3613                  0.08758\n",
              "3        11.42         20.38  ...          0.6638                  0.17300\n",
              "4        20.29         14.34  ...          0.2364                  0.07678\n",
              "\n",
              "[5 rows x 30 columns]"
            ]
          },
          "metadata": {
            "tags": []
          },
          "execution_count": 10
        }
      ]
    },
    {
      "cell_type": "code",
      "metadata": {
        "id": "mqEvl24o8Se8",
        "colab_type": "code",
        "colab": {}
      },
      "source": [
        "df['class'] = breast_cancer.target"
      ],
      "execution_count": 0,
      "outputs": []
    },
    {
      "cell_type": "code",
      "metadata": {
        "id": "reybcY8x8bgd",
        "colab_type": "code",
        "outputId": "5ce58ba3-8db9-473a-bdd7-070494a0c1b1",
        "colab": {
          "base_uri": "https://localhost:8080/",
          "height": 258
        }
      },
      "source": [
        "df.head()"
      ],
      "execution_count": 12,
      "outputs": [
        {
          "output_type": "execute_result",
          "data": {
            "text/html": [
              "<div>\n",
              "<style scoped>\n",
              "    .dataframe tbody tr th:only-of-type {\n",
              "        vertical-align: middle;\n",
              "    }\n",
              "\n",
              "    .dataframe tbody tr th {\n",
              "        vertical-align: top;\n",
              "    }\n",
              "\n",
              "    .dataframe thead th {\n",
              "        text-align: right;\n",
              "    }\n",
              "</style>\n",
              "<table border=\"1\" class=\"dataframe\">\n",
              "  <thead>\n",
              "    <tr style=\"text-align: right;\">\n",
              "      <th></th>\n",
              "      <th>mean radius</th>\n",
              "      <th>mean texture</th>\n",
              "      <th>mean perimeter</th>\n",
              "      <th>mean area</th>\n",
              "      <th>mean smoothness</th>\n",
              "      <th>mean compactness</th>\n",
              "      <th>mean concavity</th>\n",
              "      <th>mean concave points</th>\n",
              "      <th>mean symmetry</th>\n",
              "      <th>mean fractal dimension</th>\n",
              "      <th>radius error</th>\n",
              "      <th>texture error</th>\n",
              "      <th>perimeter error</th>\n",
              "      <th>area error</th>\n",
              "      <th>smoothness error</th>\n",
              "      <th>compactness error</th>\n",
              "      <th>concavity error</th>\n",
              "      <th>concave points error</th>\n",
              "      <th>symmetry error</th>\n",
              "      <th>fractal dimension error</th>\n",
              "      <th>worst radius</th>\n",
              "      <th>worst texture</th>\n",
              "      <th>worst perimeter</th>\n",
              "      <th>worst area</th>\n",
              "      <th>worst smoothness</th>\n",
              "      <th>worst compactness</th>\n",
              "      <th>worst concavity</th>\n",
              "      <th>worst concave points</th>\n",
              "      <th>worst symmetry</th>\n",
              "      <th>worst fractal dimension</th>\n",
              "      <th>class</th>\n",
              "    </tr>\n",
              "  </thead>\n",
              "  <tbody>\n",
              "    <tr>\n",
              "      <th>0</th>\n",
              "      <td>17.99</td>\n",
              "      <td>10.38</td>\n",
              "      <td>122.80</td>\n",
              "      <td>1001.0</td>\n",
              "      <td>0.11840</td>\n",
              "      <td>0.27760</td>\n",
              "      <td>0.3001</td>\n",
              "      <td>0.14710</td>\n",
              "      <td>0.2419</td>\n",
              "      <td>0.07871</td>\n",
              "      <td>1.0950</td>\n",
              "      <td>0.9053</td>\n",
              "      <td>8.589</td>\n",
              "      <td>153.40</td>\n",
              "      <td>0.006399</td>\n",
              "      <td>0.04904</td>\n",
              "      <td>0.05373</td>\n",
              "      <td>0.01587</td>\n",
              "      <td>0.03003</td>\n",
              "      <td>0.006193</td>\n",
              "      <td>25.38</td>\n",
              "      <td>17.33</td>\n",
              "      <td>184.60</td>\n",
              "      <td>2019.0</td>\n",
              "      <td>0.1622</td>\n",
              "      <td>0.6656</td>\n",
              "      <td>0.7119</td>\n",
              "      <td>0.2654</td>\n",
              "      <td>0.4601</td>\n",
              "      <td>0.11890</td>\n",
              "      <td>0</td>\n",
              "    </tr>\n",
              "    <tr>\n",
              "      <th>1</th>\n",
              "      <td>20.57</td>\n",
              "      <td>17.77</td>\n",
              "      <td>132.90</td>\n",
              "      <td>1326.0</td>\n",
              "      <td>0.08474</td>\n",
              "      <td>0.07864</td>\n",
              "      <td>0.0869</td>\n",
              "      <td>0.07017</td>\n",
              "      <td>0.1812</td>\n",
              "      <td>0.05667</td>\n",
              "      <td>0.5435</td>\n",
              "      <td>0.7339</td>\n",
              "      <td>3.398</td>\n",
              "      <td>74.08</td>\n",
              "      <td>0.005225</td>\n",
              "      <td>0.01308</td>\n",
              "      <td>0.01860</td>\n",
              "      <td>0.01340</td>\n",
              "      <td>0.01389</td>\n",
              "      <td>0.003532</td>\n",
              "      <td>24.99</td>\n",
              "      <td>23.41</td>\n",
              "      <td>158.80</td>\n",
              "      <td>1956.0</td>\n",
              "      <td>0.1238</td>\n",
              "      <td>0.1866</td>\n",
              "      <td>0.2416</td>\n",
              "      <td>0.1860</td>\n",
              "      <td>0.2750</td>\n",
              "      <td>0.08902</td>\n",
              "      <td>0</td>\n",
              "    </tr>\n",
              "    <tr>\n",
              "      <th>2</th>\n",
              "      <td>19.69</td>\n",
              "      <td>21.25</td>\n",
              "      <td>130.00</td>\n",
              "      <td>1203.0</td>\n",
              "      <td>0.10960</td>\n",
              "      <td>0.15990</td>\n",
              "      <td>0.1974</td>\n",
              "      <td>0.12790</td>\n",
              "      <td>0.2069</td>\n",
              "      <td>0.05999</td>\n",
              "      <td>0.7456</td>\n",
              "      <td>0.7869</td>\n",
              "      <td>4.585</td>\n",
              "      <td>94.03</td>\n",
              "      <td>0.006150</td>\n",
              "      <td>0.04006</td>\n",
              "      <td>0.03832</td>\n",
              "      <td>0.02058</td>\n",
              "      <td>0.02250</td>\n",
              "      <td>0.004571</td>\n",
              "      <td>23.57</td>\n",
              "      <td>25.53</td>\n",
              "      <td>152.50</td>\n",
              "      <td>1709.0</td>\n",
              "      <td>0.1444</td>\n",
              "      <td>0.4245</td>\n",
              "      <td>0.4504</td>\n",
              "      <td>0.2430</td>\n",
              "      <td>0.3613</td>\n",
              "      <td>0.08758</td>\n",
              "      <td>0</td>\n",
              "    </tr>\n",
              "    <tr>\n",
              "      <th>3</th>\n",
              "      <td>11.42</td>\n",
              "      <td>20.38</td>\n",
              "      <td>77.58</td>\n",
              "      <td>386.1</td>\n",
              "      <td>0.14250</td>\n",
              "      <td>0.28390</td>\n",
              "      <td>0.2414</td>\n",
              "      <td>0.10520</td>\n",
              "      <td>0.2597</td>\n",
              "      <td>0.09744</td>\n",
              "      <td>0.4956</td>\n",
              "      <td>1.1560</td>\n",
              "      <td>3.445</td>\n",
              "      <td>27.23</td>\n",
              "      <td>0.009110</td>\n",
              "      <td>0.07458</td>\n",
              "      <td>0.05661</td>\n",
              "      <td>0.01867</td>\n",
              "      <td>0.05963</td>\n",
              "      <td>0.009208</td>\n",
              "      <td>14.91</td>\n",
              "      <td>26.50</td>\n",
              "      <td>98.87</td>\n",
              "      <td>567.7</td>\n",
              "      <td>0.2098</td>\n",
              "      <td>0.8663</td>\n",
              "      <td>0.6869</td>\n",
              "      <td>0.2575</td>\n",
              "      <td>0.6638</td>\n",
              "      <td>0.17300</td>\n",
              "      <td>0</td>\n",
              "    </tr>\n",
              "    <tr>\n",
              "      <th>4</th>\n",
              "      <td>20.29</td>\n",
              "      <td>14.34</td>\n",
              "      <td>135.10</td>\n",
              "      <td>1297.0</td>\n",
              "      <td>0.10030</td>\n",
              "      <td>0.13280</td>\n",
              "      <td>0.1980</td>\n",
              "      <td>0.10430</td>\n",
              "      <td>0.1809</td>\n",
              "      <td>0.05883</td>\n",
              "      <td>0.7572</td>\n",
              "      <td>0.7813</td>\n",
              "      <td>5.438</td>\n",
              "      <td>94.44</td>\n",
              "      <td>0.011490</td>\n",
              "      <td>0.02461</td>\n",
              "      <td>0.05688</td>\n",
              "      <td>0.01885</td>\n",
              "      <td>0.01756</td>\n",
              "      <td>0.005115</td>\n",
              "      <td>22.54</td>\n",
              "      <td>16.67</td>\n",
              "      <td>152.20</td>\n",
              "      <td>1575.0</td>\n",
              "      <td>0.1374</td>\n",
              "      <td>0.2050</td>\n",
              "      <td>0.4000</td>\n",
              "      <td>0.1625</td>\n",
              "      <td>0.2364</td>\n",
              "      <td>0.07678</td>\n",
              "      <td>0</td>\n",
              "    </tr>\n",
              "  </tbody>\n",
              "</table>\n",
              "</div>"
            ],
            "text/plain": [
              "   mean radius  mean texture  ...  worst fractal dimension  class\n",
              "0        17.99         10.38  ...                  0.11890      0\n",
              "1        20.57         17.77  ...                  0.08902      0\n",
              "2        19.69         21.25  ...                  0.08758      0\n",
              "3        11.42         20.38  ...                  0.17300      0\n",
              "4        20.29         14.34  ...                  0.07678      0\n",
              "\n",
              "[5 rows x 31 columns]"
            ]
          },
          "metadata": {
            "tags": []
          },
          "execution_count": 12
        }
      ]
    },
    {
      "cell_type": "code",
      "metadata": {
        "id": "8HBw6DVy8chJ",
        "colab_type": "code",
        "outputId": "38669746-40b8-4d76-8ec7-a6ec4620db7d",
        "colab": {
          "base_uri": "https://localhost:8080/",
          "height": 34
        }
      },
      "source": [
        "df.shape"
      ],
      "execution_count": 13,
      "outputs": [
        {
          "output_type": "execute_result",
          "data": {
            "text/plain": [
              "(569, 31)"
            ]
          },
          "metadata": {
            "tags": []
          },
          "execution_count": 13
        }
      ]
    },
    {
      "cell_type": "code",
      "metadata": {
        "id": "waeKl5iX8fmE",
        "colab_type": "code",
        "outputId": "205ff687-bb62-4459-ec81-005a3854ab62",
        "colab": {
          "base_uri": "https://localhost:8080/",
          "height": 351
        }
      },
      "source": [
        "df.describe()"
      ],
      "execution_count": 14,
      "outputs": [
        {
          "output_type": "execute_result",
          "data": {
            "text/html": [
              "<div>\n",
              "<style scoped>\n",
              "    .dataframe tbody tr th:only-of-type {\n",
              "        vertical-align: middle;\n",
              "    }\n",
              "\n",
              "    .dataframe tbody tr th {\n",
              "        vertical-align: top;\n",
              "    }\n",
              "\n",
              "    .dataframe thead th {\n",
              "        text-align: right;\n",
              "    }\n",
              "</style>\n",
              "<table border=\"1\" class=\"dataframe\">\n",
              "  <thead>\n",
              "    <tr style=\"text-align: right;\">\n",
              "      <th></th>\n",
              "      <th>mean radius</th>\n",
              "      <th>mean texture</th>\n",
              "      <th>mean perimeter</th>\n",
              "      <th>mean area</th>\n",
              "      <th>mean smoothness</th>\n",
              "      <th>mean compactness</th>\n",
              "      <th>mean concavity</th>\n",
              "      <th>mean concave points</th>\n",
              "      <th>mean symmetry</th>\n",
              "      <th>mean fractal dimension</th>\n",
              "      <th>radius error</th>\n",
              "      <th>texture error</th>\n",
              "      <th>perimeter error</th>\n",
              "      <th>area error</th>\n",
              "      <th>smoothness error</th>\n",
              "      <th>compactness error</th>\n",
              "      <th>concavity error</th>\n",
              "      <th>concave points error</th>\n",
              "      <th>symmetry error</th>\n",
              "      <th>fractal dimension error</th>\n",
              "      <th>worst radius</th>\n",
              "      <th>worst texture</th>\n",
              "      <th>worst perimeter</th>\n",
              "      <th>worst area</th>\n",
              "      <th>worst smoothness</th>\n",
              "      <th>worst compactness</th>\n",
              "      <th>worst concavity</th>\n",
              "      <th>worst concave points</th>\n",
              "      <th>worst symmetry</th>\n",
              "      <th>worst fractal dimension</th>\n",
              "      <th>class</th>\n",
              "    </tr>\n",
              "  </thead>\n",
              "  <tbody>\n",
              "    <tr>\n",
              "      <th>count</th>\n",
              "      <td>569.000000</td>\n",
              "      <td>569.000000</td>\n",
              "      <td>569.000000</td>\n",
              "      <td>569.000000</td>\n",
              "      <td>569.000000</td>\n",
              "      <td>569.000000</td>\n",
              "      <td>569.000000</td>\n",
              "      <td>569.000000</td>\n",
              "      <td>569.000000</td>\n",
              "      <td>569.000000</td>\n",
              "      <td>569.000000</td>\n",
              "      <td>569.000000</td>\n",
              "      <td>569.000000</td>\n",
              "      <td>569.000000</td>\n",
              "      <td>569.000000</td>\n",
              "      <td>569.000000</td>\n",
              "      <td>569.000000</td>\n",
              "      <td>569.000000</td>\n",
              "      <td>569.000000</td>\n",
              "      <td>569.000000</td>\n",
              "      <td>569.000000</td>\n",
              "      <td>569.000000</td>\n",
              "      <td>569.000000</td>\n",
              "      <td>569.000000</td>\n",
              "      <td>569.000000</td>\n",
              "      <td>569.000000</td>\n",
              "      <td>569.000000</td>\n",
              "      <td>569.000000</td>\n",
              "      <td>569.000000</td>\n",
              "      <td>569.000000</td>\n",
              "      <td>569.000000</td>\n",
              "    </tr>\n",
              "    <tr>\n",
              "      <th>mean</th>\n",
              "      <td>14.127292</td>\n",
              "      <td>19.289649</td>\n",
              "      <td>91.969033</td>\n",
              "      <td>654.889104</td>\n",
              "      <td>0.096360</td>\n",
              "      <td>0.104341</td>\n",
              "      <td>0.088799</td>\n",
              "      <td>0.048919</td>\n",
              "      <td>0.181162</td>\n",
              "      <td>0.062798</td>\n",
              "      <td>0.405172</td>\n",
              "      <td>1.216853</td>\n",
              "      <td>2.866059</td>\n",
              "      <td>40.337079</td>\n",
              "      <td>0.007041</td>\n",
              "      <td>0.025478</td>\n",
              "      <td>0.031894</td>\n",
              "      <td>0.011796</td>\n",
              "      <td>0.020542</td>\n",
              "      <td>0.003795</td>\n",
              "      <td>16.269190</td>\n",
              "      <td>25.677223</td>\n",
              "      <td>107.261213</td>\n",
              "      <td>880.583128</td>\n",
              "      <td>0.132369</td>\n",
              "      <td>0.254265</td>\n",
              "      <td>0.272188</td>\n",
              "      <td>0.114606</td>\n",
              "      <td>0.290076</td>\n",
              "      <td>0.083946</td>\n",
              "      <td>0.627417</td>\n",
              "    </tr>\n",
              "    <tr>\n",
              "      <th>std</th>\n",
              "      <td>3.524049</td>\n",
              "      <td>4.301036</td>\n",
              "      <td>24.298981</td>\n",
              "      <td>351.914129</td>\n",
              "      <td>0.014064</td>\n",
              "      <td>0.052813</td>\n",
              "      <td>0.079720</td>\n",
              "      <td>0.038803</td>\n",
              "      <td>0.027414</td>\n",
              "      <td>0.007060</td>\n",
              "      <td>0.277313</td>\n",
              "      <td>0.551648</td>\n",
              "      <td>2.021855</td>\n",
              "      <td>45.491006</td>\n",
              "      <td>0.003003</td>\n",
              "      <td>0.017908</td>\n",
              "      <td>0.030186</td>\n",
              "      <td>0.006170</td>\n",
              "      <td>0.008266</td>\n",
              "      <td>0.002646</td>\n",
              "      <td>4.833242</td>\n",
              "      <td>6.146258</td>\n",
              "      <td>33.602542</td>\n",
              "      <td>569.356993</td>\n",
              "      <td>0.022832</td>\n",
              "      <td>0.157336</td>\n",
              "      <td>0.208624</td>\n",
              "      <td>0.065732</td>\n",
              "      <td>0.061867</td>\n",
              "      <td>0.018061</td>\n",
              "      <td>0.483918</td>\n",
              "    </tr>\n",
              "    <tr>\n",
              "      <th>min</th>\n",
              "      <td>6.981000</td>\n",
              "      <td>9.710000</td>\n",
              "      <td>43.790000</td>\n",
              "      <td>143.500000</td>\n",
              "      <td>0.052630</td>\n",
              "      <td>0.019380</td>\n",
              "      <td>0.000000</td>\n",
              "      <td>0.000000</td>\n",
              "      <td>0.106000</td>\n",
              "      <td>0.049960</td>\n",
              "      <td>0.111500</td>\n",
              "      <td>0.360200</td>\n",
              "      <td>0.757000</td>\n",
              "      <td>6.802000</td>\n",
              "      <td>0.001713</td>\n",
              "      <td>0.002252</td>\n",
              "      <td>0.000000</td>\n",
              "      <td>0.000000</td>\n",
              "      <td>0.007882</td>\n",
              "      <td>0.000895</td>\n",
              "      <td>7.930000</td>\n",
              "      <td>12.020000</td>\n",
              "      <td>50.410000</td>\n",
              "      <td>185.200000</td>\n",
              "      <td>0.071170</td>\n",
              "      <td>0.027290</td>\n",
              "      <td>0.000000</td>\n",
              "      <td>0.000000</td>\n",
              "      <td>0.156500</td>\n",
              "      <td>0.055040</td>\n",
              "      <td>0.000000</td>\n",
              "    </tr>\n",
              "    <tr>\n",
              "      <th>25%</th>\n",
              "      <td>11.700000</td>\n",
              "      <td>16.170000</td>\n",
              "      <td>75.170000</td>\n",
              "      <td>420.300000</td>\n",
              "      <td>0.086370</td>\n",
              "      <td>0.064920</td>\n",
              "      <td>0.029560</td>\n",
              "      <td>0.020310</td>\n",
              "      <td>0.161900</td>\n",
              "      <td>0.057700</td>\n",
              "      <td>0.232400</td>\n",
              "      <td>0.833900</td>\n",
              "      <td>1.606000</td>\n",
              "      <td>17.850000</td>\n",
              "      <td>0.005169</td>\n",
              "      <td>0.013080</td>\n",
              "      <td>0.015090</td>\n",
              "      <td>0.007638</td>\n",
              "      <td>0.015160</td>\n",
              "      <td>0.002248</td>\n",
              "      <td>13.010000</td>\n",
              "      <td>21.080000</td>\n",
              "      <td>84.110000</td>\n",
              "      <td>515.300000</td>\n",
              "      <td>0.116600</td>\n",
              "      <td>0.147200</td>\n",
              "      <td>0.114500</td>\n",
              "      <td>0.064930</td>\n",
              "      <td>0.250400</td>\n",
              "      <td>0.071460</td>\n",
              "      <td>0.000000</td>\n",
              "    </tr>\n",
              "    <tr>\n",
              "      <th>50%</th>\n",
              "      <td>13.370000</td>\n",
              "      <td>18.840000</td>\n",
              "      <td>86.240000</td>\n",
              "      <td>551.100000</td>\n",
              "      <td>0.095870</td>\n",
              "      <td>0.092630</td>\n",
              "      <td>0.061540</td>\n",
              "      <td>0.033500</td>\n",
              "      <td>0.179200</td>\n",
              "      <td>0.061540</td>\n",
              "      <td>0.324200</td>\n",
              "      <td>1.108000</td>\n",
              "      <td>2.287000</td>\n",
              "      <td>24.530000</td>\n",
              "      <td>0.006380</td>\n",
              "      <td>0.020450</td>\n",
              "      <td>0.025890</td>\n",
              "      <td>0.010930</td>\n",
              "      <td>0.018730</td>\n",
              "      <td>0.003187</td>\n",
              "      <td>14.970000</td>\n",
              "      <td>25.410000</td>\n",
              "      <td>97.660000</td>\n",
              "      <td>686.500000</td>\n",
              "      <td>0.131300</td>\n",
              "      <td>0.211900</td>\n",
              "      <td>0.226700</td>\n",
              "      <td>0.099930</td>\n",
              "      <td>0.282200</td>\n",
              "      <td>0.080040</td>\n",
              "      <td>1.000000</td>\n",
              "    </tr>\n",
              "    <tr>\n",
              "      <th>75%</th>\n",
              "      <td>15.780000</td>\n",
              "      <td>21.800000</td>\n",
              "      <td>104.100000</td>\n",
              "      <td>782.700000</td>\n",
              "      <td>0.105300</td>\n",
              "      <td>0.130400</td>\n",
              "      <td>0.130700</td>\n",
              "      <td>0.074000</td>\n",
              "      <td>0.195700</td>\n",
              "      <td>0.066120</td>\n",
              "      <td>0.478900</td>\n",
              "      <td>1.474000</td>\n",
              "      <td>3.357000</td>\n",
              "      <td>45.190000</td>\n",
              "      <td>0.008146</td>\n",
              "      <td>0.032450</td>\n",
              "      <td>0.042050</td>\n",
              "      <td>0.014710</td>\n",
              "      <td>0.023480</td>\n",
              "      <td>0.004558</td>\n",
              "      <td>18.790000</td>\n",
              "      <td>29.720000</td>\n",
              "      <td>125.400000</td>\n",
              "      <td>1084.000000</td>\n",
              "      <td>0.146000</td>\n",
              "      <td>0.339100</td>\n",
              "      <td>0.382900</td>\n",
              "      <td>0.161400</td>\n",
              "      <td>0.317900</td>\n",
              "      <td>0.092080</td>\n",
              "      <td>1.000000</td>\n",
              "    </tr>\n",
              "    <tr>\n",
              "      <th>max</th>\n",
              "      <td>28.110000</td>\n",
              "      <td>39.280000</td>\n",
              "      <td>188.500000</td>\n",
              "      <td>2501.000000</td>\n",
              "      <td>0.163400</td>\n",
              "      <td>0.345400</td>\n",
              "      <td>0.426800</td>\n",
              "      <td>0.201200</td>\n",
              "      <td>0.304000</td>\n",
              "      <td>0.097440</td>\n",
              "      <td>2.873000</td>\n",
              "      <td>4.885000</td>\n",
              "      <td>21.980000</td>\n",
              "      <td>542.200000</td>\n",
              "      <td>0.031130</td>\n",
              "      <td>0.135400</td>\n",
              "      <td>0.396000</td>\n",
              "      <td>0.052790</td>\n",
              "      <td>0.078950</td>\n",
              "      <td>0.029840</td>\n",
              "      <td>36.040000</td>\n",
              "      <td>49.540000</td>\n",
              "      <td>251.200000</td>\n",
              "      <td>4254.000000</td>\n",
              "      <td>0.222600</td>\n",
              "      <td>1.058000</td>\n",
              "      <td>1.252000</td>\n",
              "      <td>0.291000</td>\n",
              "      <td>0.663800</td>\n",
              "      <td>0.207500</td>\n",
              "      <td>1.000000</td>\n",
              "    </tr>\n",
              "  </tbody>\n",
              "</table>\n",
              "</div>"
            ],
            "text/plain": [
              "       mean radius  mean texture  ...  worst fractal dimension       class\n",
              "count   569.000000    569.000000  ...               569.000000  569.000000\n",
              "mean     14.127292     19.289649  ...                 0.083946    0.627417\n",
              "std       3.524049      4.301036  ...                 0.018061    0.483918\n",
              "min       6.981000      9.710000  ...                 0.055040    0.000000\n",
              "25%      11.700000     16.170000  ...                 0.071460    0.000000\n",
              "50%      13.370000     18.840000  ...                 0.080040    1.000000\n",
              "75%      15.780000     21.800000  ...                 0.092080    1.000000\n",
              "max      28.110000     39.280000  ...                 0.207500    1.000000\n",
              "\n",
              "[8 rows x 31 columns]"
            ]
          },
          "metadata": {
            "tags": []
          },
          "execution_count": 14
        }
      ]
    },
    {
      "cell_type": "code",
      "metadata": {
        "id": "mc5R53Lx8nCr",
        "colab_type": "code",
        "outputId": "b421a5a9-a9e2-4093-e230-5f507e7ae85f",
        "colab": {
          "base_uri": "https://localhost:8080/",
          "height": 68
        }
      },
      "source": [
        "df['class'].value_counts()"
      ],
      "execution_count": 15,
      "outputs": [
        {
          "output_type": "execute_result",
          "data": {
            "text/plain": [
              "1    357\n",
              "0    212\n",
              "Name: class, dtype: int64"
            ]
          },
          "metadata": {
            "tags": []
          },
          "execution_count": 15
        }
      ]
    },
    {
      "cell_type": "code",
      "metadata": {
        "id": "jem3N0-987mt",
        "colab_type": "code",
        "outputId": "22f16ceb-363b-4929-f9d7-801ff4c0fe1d",
        "colab": {
          "base_uri": "https://localhost:8080/",
          "height": 34
        }
      },
      "source": [
        "print(breast_cancer.target_names)"
      ],
      "execution_count": 16,
      "outputs": [
        {
          "output_type": "stream",
          "text": [
            "['malignant' 'benign']\n"
          ],
          "name": "stdout"
        }
      ]
    },
    {
      "cell_type": "code",
      "metadata": {
        "id": "PvvA6XDaT7as",
        "colab_type": "code",
        "outputId": "2748c6ee-de69-46be-e557-53e9baa24679",
        "colab": {
          "base_uri": "https://localhost:8080/",
          "height": 196
        }
      },
      "source": [
        "df.groupby('class').mean()"
      ],
      "execution_count": 17,
      "outputs": [
        {
          "output_type": "execute_result",
          "data": {
            "text/html": [
              "<div>\n",
              "<style scoped>\n",
              "    .dataframe tbody tr th:only-of-type {\n",
              "        vertical-align: middle;\n",
              "    }\n",
              "\n",
              "    .dataframe tbody tr th {\n",
              "        vertical-align: top;\n",
              "    }\n",
              "\n",
              "    .dataframe thead th {\n",
              "        text-align: right;\n",
              "    }\n",
              "</style>\n",
              "<table border=\"1\" class=\"dataframe\">\n",
              "  <thead>\n",
              "    <tr style=\"text-align: right;\">\n",
              "      <th></th>\n",
              "      <th>mean radius</th>\n",
              "      <th>mean texture</th>\n",
              "      <th>mean perimeter</th>\n",
              "      <th>mean area</th>\n",
              "      <th>mean smoothness</th>\n",
              "      <th>mean compactness</th>\n",
              "      <th>mean concavity</th>\n",
              "      <th>mean concave points</th>\n",
              "      <th>mean symmetry</th>\n",
              "      <th>mean fractal dimension</th>\n",
              "      <th>radius error</th>\n",
              "      <th>texture error</th>\n",
              "      <th>perimeter error</th>\n",
              "      <th>area error</th>\n",
              "      <th>smoothness error</th>\n",
              "      <th>compactness error</th>\n",
              "      <th>concavity error</th>\n",
              "      <th>concave points error</th>\n",
              "      <th>symmetry error</th>\n",
              "      <th>fractal dimension error</th>\n",
              "      <th>worst radius</th>\n",
              "      <th>worst texture</th>\n",
              "      <th>worst perimeter</th>\n",
              "      <th>worst area</th>\n",
              "      <th>worst smoothness</th>\n",
              "      <th>worst compactness</th>\n",
              "      <th>worst concavity</th>\n",
              "      <th>worst concave points</th>\n",
              "      <th>worst symmetry</th>\n",
              "      <th>worst fractal dimension</th>\n",
              "    </tr>\n",
              "    <tr>\n",
              "      <th>class</th>\n",
              "      <th></th>\n",
              "      <th></th>\n",
              "      <th></th>\n",
              "      <th></th>\n",
              "      <th></th>\n",
              "      <th></th>\n",
              "      <th></th>\n",
              "      <th></th>\n",
              "      <th></th>\n",
              "      <th></th>\n",
              "      <th></th>\n",
              "      <th></th>\n",
              "      <th></th>\n",
              "      <th></th>\n",
              "      <th></th>\n",
              "      <th></th>\n",
              "      <th></th>\n",
              "      <th></th>\n",
              "      <th></th>\n",
              "      <th></th>\n",
              "      <th></th>\n",
              "      <th></th>\n",
              "      <th></th>\n",
              "      <th></th>\n",
              "      <th></th>\n",
              "      <th></th>\n",
              "      <th></th>\n",
              "      <th></th>\n",
              "      <th></th>\n",
              "      <th></th>\n",
              "    </tr>\n",
              "  </thead>\n",
              "  <tbody>\n",
              "    <tr>\n",
              "      <th>0</th>\n",
              "      <td>17.462830</td>\n",
              "      <td>21.604906</td>\n",
              "      <td>115.365377</td>\n",
              "      <td>978.376415</td>\n",
              "      <td>0.102898</td>\n",
              "      <td>0.145188</td>\n",
              "      <td>0.160775</td>\n",
              "      <td>0.087990</td>\n",
              "      <td>0.192909</td>\n",
              "      <td>0.062680</td>\n",
              "      <td>0.609083</td>\n",
              "      <td>1.210915</td>\n",
              "      <td>4.323929</td>\n",
              "      <td>72.672406</td>\n",
              "      <td>0.006780</td>\n",
              "      <td>0.032281</td>\n",
              "      <td>0.041824</td>\n",
              "      <td>0.015060</td>\n",
              "      <td>0.020472</td>\n",
              "      <td>0.004062</td>\n",
              "      <td>21.134811</td>\n",
              "      <td>29.318208</td>\n",
              "      <td>141.370330</td>\n",
              "      <td>1422.286321</td>\n",
              "      <td>0.144845</td>\n",
              "      <td>0.374824</td>\n",
              "      <td>0.450606</td>\n",
              "      <td>0.182237</td>\n",
              "      <td>0.323468</td>\n",
              "      <td>0.091530</td>\n",
              "    </tr>\n",
              "    <tr>\n",
              "      <th>1</th>\n",
              "      <td>12.146524</td>\n",
              "      <td>17.914762</td>\n",
              "      <td>78.075406</td>\n",
              "      <td>462.790196</td>\n",
              "      <td>0.092478</td>\n",
              "      <td>0.080085</td>\n",
              "      <td>0.046058</td>\n",
              "      <td>0.025717</td>\n",
              "      <td>0.174186</td>\n",
              "      <td>0.062867</td>\n",
              "      <td>0.284082</td>\n",
              "      <td>1.220380</td>\n",
              "      <td>2.000321</td>\n",
              "      <td>21.135148</td>\n",
              "      <td>0.007196</td>\n",
              "      <td>0.021438</td>\n",
              "      <td>0.025997</td>\n",
              "      <td>0.009858</td>\n",
              "      <td>0.020584</td>\n",
              "      <td>0.003636</td>\n",
              "      <td>13.379801</td>\n",
              "      <td>23.515070</td>\n",
              "      <td>87.005938</td>\n",
              "      <td>558.899440</td>\n",
              "      <td>0.124959</td>\n",
              "      <td>0.182673</td>\n",
              "      <td>0.166238</td>\n",
              "      <td>0.074444</td>\n",
              "      <td>0.270246</td>\n",
              "      <td>0.079442</td>\n",
              "    </tr>\n",
              "  </tbody>\n",
              "</table>\n",
              "</div>"
            ],
            "text/plain": [
              "       mean radius  mean texture  ...  worst symmetry  worst fractal dimension\n",
              "class                             ...                                         \n",
              "0        17.462830     21.604906  ...        0.323468                 0.091530\n",
              "1        12.146524     17.914762  ...        0.270246                 0.079442\n",
              "\n",
              "[2 rows x 30 columns]"
            ]
          },
          "metadata": {
            "tags": []
          },
          "execution_count": 17
        }
      ]
    },
    {
      "cell_type": "markdown",
      "metadata": {
        "id": "o2nAwqwl_CfQ",
        "colab_type": "text"
      },
      "source": [
        "# Split Data"
      ]
    },
    {
      "cell_type": "code",
      "metadata": {
        "id": "K_p951AE_JUe",
        "colab_type": "code",
        "colab": {}
      },
      "source": [
        "from sklearn.model_selection import train_test_split"
      ],
      "execution_count": 0,
      "outputs": []
    },
    {
      "cell_type": "code",
      "metadata": {
        "id": "HSCNZ0TtBUCV",
        "colab_type": "code",
        "colab": {}
      },
      "source": [
        "x = df.drop('class',axis = 1)\n",
        "y = df['class']"
      ],
      "execution_count": 0,
      "outputs": []
    },
    {
      "cell_type": "code",
      "metadata": {
        "id": "_3DRG8sa_nzS",
        "colab_type": "code",
        "colab": {}
      },
      "source": [
        "x_train,x_test, y_train,y_test = train_test_split(x,y)"
      ],
      "execution_count": 0,
      "outputs": []
    },
    {
      "cell_type": "code",
      "metadata": {
        "id": "O__Lr9oxBQ-y",
        "colab_type": "code",
        "outputId": "1cf6715c-8e52-4259-945c-fdbb5cc00141",
        "colab": {
          "base_uri": "https://localhost:8080/",
          "height": 34
        }
      },
      "source": [
        "x_train.shape"
      ],
      "execution_count": 21,
      "outputs": [
        {
          "output_type": "execute_result",
          "data": {
            "text/plain": [
              "(426, 30)"
            ]
          },
          "metadata": {
            "tags": []
          },
          "execution_count": 21
        }
      ]
    },
    {
      "cell_type": "code",
      "metadata": {
        "id": "-kvPG1P5BcVl",
        "colab_type": "code",
        "outputId": "d7bf2c6b-e1f0-42be-cf87-eb06b635b8c8",
        "colab": {
          "base_uri": "https://localhost:8080/",
          "height": 258
        }
      },
      "source": [
        "x_train.head()"
      ],
      "execution_count": 22,
      "outputs": [
        {
          "output_type": "execute_result",
          "data": {
            "text/html": [
              "<div>\n",
              "<style scoped>\n",
              "    .dataframe tbody tr th:only-of-type {\n",
              "        vertical-align: middle;\n",
              "    }\n",
              "\n",
              "    .dataframe tbody tr th {\n",
              "        vertical-align: top;\n",
              "    }\n",
              "\n",
              "    .dataframe thead th {\n",
              "        text-align: right;\n",
              "    }\n",
              "</style>\n",
              "<table border=\"1\" class=\"dataframe\">\n",
              "  <thead>\n",
              "    <tr style=\"text-align: right;\">\n",
              "      <th></th>\n",
              "      <th>mean radius</th>\n",
              "      <th>mean texture</th>\n",
              "      <th>mean perimeter</th>\n",
              "      <th>mean area</th>\n",
              "      <th>mean smoothness</th>\n",
              "      <th>mean compactness</th>\n",
              "      <th>mean concavity</th>\n",
              "      <th>mean concave points</th>\n",
              "      <th>mean symmetry</th>\n",
              "      <th>mean fractal dimension</th>\n",
              "      <th>radius error</th>\n",
              "      <th>texture error</th>\n",
              "      <th>perimeter error</th>\n",
              "      <th>area error</th>\n",
              "      <th>smoothness error</th>\n",
              "      <th>compactness error</th>\n",
              "      <th>concavity error</th>\n",
              "      <th>concave points error</th>\n",
              "      <th>symmetry error</th>\n",
              "      <th>fractal dimension error</th>\n",
              "      <th>worst radius</th>\n",
              "      <th>worst texture</th>\n",
              "      <th>worst perimeter</th>\n",
              "      <th>worst area</th>\n",
              "      <th>worst smoothness</th>\n",
              "      <th>worst compactness</th>\n",
              "      <th>worst concavity</th>\n",
              "      <th>worst concave points</th>\n",
              "      <th>worst symmetry</th>\n",
              "      <th>worst fractal dimension</th>\n",
              "    </tr>\n",
              "  </thead>\n",
              "  <tbody>\n",
              "    <tr>\n",
              "      <th>467</th>\n",
              "      <td>9.668</td>\n",
              "      <td>18.10</td>\n",
              "      <td>61.06</td>\n",
              "      <td>286.3</td>\n",
              "      <td>0.08311</td>\n",
              "      <td>0.05428</td>\n",
              "      <td>0.01479</td>\n",
              "      <td>0.005769</td>\n",
              "      <td>0.1680</td>\n",
              "      <td>0.06412</td>\n",
              "      <td>0.3416</td>\n",
              "      <td>1.3120</td>\n",
              "      <td>2.275</td>\n",
              "      <td>20.98</td>\n",
              "      <td>0.010980</td>\n",
              "      <td>0.01257</td>\n",
              "      <td>0.01031</td>\n",
              "      <td>0.003934</td>\n",
              "      <td>0.02693</td>\n",
              "      <td>0.002979</td>\n",
              "      <td>11.15</td>\n",
              "      <td>24.62</td>\n",
              "      <td>71.11</td>\n",
              "      <td>380.2</td>\n",
              "      <td>0.1388</td>\n",
              "      <td>0.1255</td>\n",
              "      <td>0.06409</td>\n",
              "      <td>0.02500</td>\n",
              "      <td>0.3057</td>\n",
              "      <td>0.07875</td>\n",
              "    </tr>\n",
              "    <tr>\n",
              "      <th>528</th>\n",
              "      <td>13.940</td>\n",
              "      <td>13.17</td>\n",
              "      <td>90.31</td>\n",
              "      <td>594.2</td>\n",
              "      <td>0.12480</td>\n",
              "      <td>0.09755</td>\n",
              "      <td>0.10100</td>\n",
              "      <td>0.066150</td>\n",
              "      <td>0.1976</td>\n",
              "      <td>0.06457</td>\n",
              "      <td>0.5461</td>\n",
              "      <td>2.6350</td>\n",
              "      <td>4.091</td>\n",
              "      <td>44.74</td>\n",
              "      <td>0.010040</td>\n",
              "      <td>0.03247</td>\n",
              "      <td>0.04763</td>\n",
              "      <td>0.028530</td>\n",
              "      <td>0.01715</td>\n",
              "      <td>0.005528</td>\n",
              "      <td>14.62</td>\n",
              "      <td>15.38</td>\n",
              "      <td>94.52</td>\n",
              "      <td>653.3</td>\n",
              "      <td>0.1394</td>\n",
              "      <td>0.1364</td>\n",
              "      <td>0.15590</td>\n",
              "      <td>0.10150</td>\n",
              "      <td>0.2160</td>\n",
              "      <td>0.07253</td>\n",
              "    </tr>\n",
              "    <tr>\n",
              "      <th>220</th>\n",
              "      <td>13.650</td>\n",
              "      <td>13.16</td>\n",
              "      <td>87.88</td>\n",
              "      <td>568.9</td>\n",
              "      <td>0.09646</td>\n",
              "      <td>0.08711</td>\n",
              "      <td>0.03888</td>\n",
              "      <td>0.025630</td>\n",
              "      <td>0.1360</td>\n",
              "      <td>0.06344</td>\n",
              "      <td>0.2102</td>\n",
              "      <td>0.4336</td>\n",
              "      <td>1.391</td>\n",
              "      <td>17.40</td>\n",
              "      <td>0.004133</td>\n",
              "      <td>0.01695</td>\n",
              "      <td>0.01652</td>\n",
              "      <td>0.006659</td>\n",
              "      <td>0.01371</td>\n",
              "      <td>0.002735</td>\n",
              "      <td>15.34</td>\n",
              "      <td>16.35</td>\n",
              "      <td>99.71</td>\n",
              "      <td>706.2</td>\n",
              "      <td>0.1311</td>\n",
              "      <td>0.2474</td>\n",
              "      <td>0.17590</td>\n",
              "      <td>0.08056</td>\n",
              "      <td>0.2380</td>\n",
              "      <td>0.08718</td>\n",
              "    </tr>\n",
              "    <tr>\n",
              "      <th>62</th>\n",
              "      <td>14.250</td>\n",
              "      <td>22.15</td>\n",
              "      <td>96.42</td>\n",
              "      <td>645.7</td>\n",
              "      <td>0.10490</td>\n",
              "      <td>0.20080</td>\n",
              "      <td>0.21350</td>\n",
              "      <td>0.086530</td>\n",
              "      <td>0.1949</td>\n",
              "      <td>0.07292</td>\n",
              "      <td>0.7036</td>\n",
              "      <td>1.2680</td>\n",
              "      <td>5.373</td>\n",
              "      <td>60.78</td>\n",
              "      <td>0.009407</td>\n",
              "      <td>0.07056</td>\n",
              "      <td>0.06899</td>\n",
              "      <td>0.018480</td>\n",
              "      <td>0.01700</td>\n",
              "      <td>0.006113</td>\n",
              "      <td>17.67</td>\n",
              "      <td>29.51</td>\n",
              "      <td>119.10</td>\n",
              "      <td>959.5</td>\n",
              "      <td>0.1640</td>\n",
              "      <td>0.6247</td>\n",
              "      <td>0.69220</td>\n",
              "      <td>0.17850</td>\n",
              "      <td>0.2844</td>\n",
              "      <td>0.11320</td>\n",
              "    </tr>\n",
              "    <tr>\n",
              "      <th>203</th>\n",
              "      <td>13.810</td>\n",
              "      <td>23.75</td>\n",
              "      <td>91.56</td>\n",
              "      <td>597.8</td>\n",
              "      <td>0.13230</td>\n",
              "      <td>0.17680</td>\n",
              "      <td>0.15580</td>\n",
              "      <td>0.091760</td>\n",
              "      <td>0.2251</td>\n",
              "      <td>0.07421</td>\n",
              "      <td>0.5648</td>\n",
              "      <td>1.9300</td>\n",
              "      <td>3.909</td>\n",
              "      <td>52.72</td>\n",
              "      <td>0.008824</td>\n",
              "      <td>0.03108</td>\n",
              "      <td>0.03112</td>\n",
              "      <td>0.012910</td>\n",
              "      <td>0.01998</td>\n",
              "      <td>0.004506</td>\n",
              "      <td>19.20</td>\n",
              "      <td>41.85</td>\n",
              "      <td>128.50</td>\n",
              "      <td>1153.0</td>\n",
              "      <td>0.2226</td>\n",
              "      <td>0.5209</td>\n",
              "      <td>0.46460</td>\n",
              "      <td>0.20130</td>\n",
              "      <td>0.4432</td>\n",
              "      <td>0.10860</td>\n",
              "    </tr>\n",
              "  </tbody>\n",
              "</table>\n",
              "</div>"
            ],
            "text/plain": [
              "     mean radius  mean texture  ...  worst symmetry  worst fractal dimension\n",
              "467        9.668         18.10  ...          0.3057                  0.07875\n",
              "528       13.940         13.17  ...          0.2160                  0.07253\n",
              "220       13.650         13.16  ...          0.2380                  0.08718\n",
              "62        14.250         22.15  ...          0.2844                  0.11320\n",
              "203       13.810         23.75  ...          0.4432                  0.10860\n",
              "\n",
              "[5 rows x 30 columns]"
            ]
          },
          "metadata": {
            "tags": []
          },
          "execution_count": 22
        }
      ]
    },
    {
      "cell_type": "code",
      "metadata": {
        "id": "vloBctdYBerI",
        "colab_type": "code",
        "outputId": "87d7e2cd-3450-4acc-bb8b-8cfb29e51844",
        "colab": {
          "base_uri": "https://localhost:8080/",
          "height": 351
        }
      },
      "source": [
        "x_train.describe()"
      ],
      "execution_count": 23,
      "outputs": [
        {
          "output_type": "execute_result",
          "data": {
            "text/html": [
              "<div>\n",
              "<style scoped>\n",
              "    .dataframe tbody tr th:only-of-type {\n",
              "        vertical-align: middle;\n",
              "    }\n",
              "\n",
              "    .dataframe tbody tr th {\n",
              "        vertical-align: top;\n",
              "    }\n",
              "\n",
              "    .dataframe thead th {\n",
              "        text-align: right;\n",
              "    }\n",
              "</style>\n",
              "<table border=\"1\" class=\"dataframe\">\n",
              "  <thead>\n",
              "    <tr style=\"text-align: right;\">\n",
              "      <th></th>\n",
              "      <th>mean radius</th>\n",
              "      <th>mean texture</th>\n",
              "      <th>mean perimeter</th>\n",
              "      <th>mean area</th>\n",
              "      <th>mean smoothness</th>\n",
              "      <th>mean compactness</th>\n",
              "      <th>mean concavity</th>\n",
              "      <th>mean concave points</th>\n",
              "      <th>mean symmetry</th>\n",
              "      <th>mean fractal dimension</th>\n",
              "      <th>radius error</th>\n",
              "      <th>texture error</th>\n",
              "      <th>perimeter error</th>\n",
              "      <th>area error</th>\n",
              "      <th>smoothness error</th>\n",
              "      <th>compactness error</th>\n",
              "      <th>concavity error</th>\n",
              "      <th>concave points error</th>\n",
              "      <th>symmetry error</th>\n",
              "      <th>fractal dimension error</th>\n",
              "      <th>worst radius</th>\n",
              "      <th>worst texture</th>\n",
              "      <th>worst perimeter</th>\n",
              "      <th>worst area</th>\n",
              "      <th>worst smoothness</th>\n",
              "      <th>worst compactness</th>\n",
              "      <th>worst concavity</th>\n",
              "      <th>worst concave points</th>\n",
              "      <th>worst symmetry</th>\n",
              "      <th>worst fractal dimension</th>\n",
              "    </tr>\n",
              "  </thead>\n",
              "  <tbody>\n",
              "    <tr>\n",
              "      <th>count</th>\n",
              "      <td>426.000000</td>\n",
              "      <td>426.000000</td>\n",
              "      <td>426.000000</td>\n",
              "      <td>426.000000</td>\n",
              "      <td>426.000000</td>\n",
              "      <td>426.000000</td>\n",
              "      <td>426.000000</td>\n",
              "      <td>426.000000</td>\n",
              "      <td>426.000000</td>\n",
              "      <td>426.000000</td>\n",
              "      <td>426.000000</td>\n",
              "      <td>426.000000</td>\n",
              "      <td>426.000000</td>\n",
              "      <td>426.000000</td>\n",
              "      <td>426.000000</td>\n",
              "      <td>426.000000</td>\n",
              "      <td>426.000000</td>\n",
              "      <td>426.000000</td>\n",
              "      <td>426.000000</td>\n",
              "      <td>426.000000</td>\n",
              "      <td>426.000000</td>\n",
              "      <td>426.000000</td>\n",
              "      <td>426.000000</td>\n",
              "      <td>426.000000</td>\n",
              "      <td>426.000000</td>\n",
              "      <td>426.000000</td>\n",
              "      <td>426.000000</td>\n",
              "      <td>426.000000</td>\n",
              "      <td>426.000000</td>\n",
              "      <td>426.000000</td>\n",
              "    </tr>\n",
              "    <tr>\n",
              "      <th>mean</th>\n",
              "      <td>13.845413</td>\n",
              "      <td>19.216620</td>\n",
              "      <td>90.018826</td>\n",
              "      <td>624.886620</td>\n",
              "      <td>0.095786</td>\n",
              "      <td>0.101691</td>\n",
              "      <td>0.083923</td>\n",
              "      <td>0.046268</td>\n",
              "      <td>0.180658</td>\n",
              "      <td>0.062852</td>\n",
              "      <td>0.389676</td>\n",
              "      <td>1.226937</td>\n",
              "      <td>2.773620</td>\n",
              "      <td>36.652005</td>\n",
              "      <td>0.007136</td>\n",
              "      <td>0.025371</td>\n",
              "      <td>0.031955</td>\n",
              "      <td>0.011870</td>\n",
              "      <td>0.020524</td>\n",
              "      <td>0.003825</td>\n",
              "      <td>15.885838</td>\n",
              "      <td>25.550657</td>\n",
              "      <td>104.695798</td>\n",
              "      <td>832.952582</td>\n",
              "      <td>0.131688</td>\n",
              "      <td>0.245080</td>\n",
              "      <td>0.262393</td>\n",
              "      <td>0.111075</td>\n",
              "      <td>0.287950</td>\n",
              "      <td>0.083400</td>\n",
              "    </tr>\n",
              "    <tr>\n",
              "      <th>std</th>\n",
              "      <td>3.268113</td>\n",
              "      <td>4.211651</td>\n",
              "      <td>22.443059</td>\n",
              "      <td>309.445764</td>\n",
              "      <td>0.013786</td>\n",
              "      <td>0.050135</td>\n",
              "      <td>0.073917</td>\n",
              "      <td>0.035673</td>\n",
              "      <td>0.027889</td>\n",
              "      <td>0.007109</td>\n",
              "      <td>0.230211</td>\n",
              "      <td>0.574439</td>\n",
              "      <td>1.696108</td>\n",
              "      <td>31.436865</td>\n",
              "      <td>0.003112</td>\n",
              "      <td>0.017751</td>\n",
              "      <td>0.031931</td>\n",
              "      <td>0.006482</td>\n",
              "      <td>0.008242</td>\n",
              "      <td>0.002830</td>\n",
              "      <td>4.483784</td>\n",
              "      <td>6.064944</td>\n",
              "      <td>31.082704</td>\n",
              "      <td>504.764390</td>\n",
              "      <td>0.022038</td>\n",
              "      <td>0.143584</td>\n",
              "      <td>0.198292</td>\n",
              "      <td>0.062742</td>\n",
              "      <td>0.059824</td>\n",
              "      <td>0.017018</td>\n",
              "    </tr>\n",
              "    <tr>\n",
              "      <th>min</th>\n",
              "      <td>6.981000</td>\n",
              "      <td>9.710000</td>\n",
              "      <td>43.790000</td>\n",
              "      <td>143.500000</td>\n",
              "      <td>0.052630</td>\n",
              "      <td>0.019380</td>\n",
              "      <td>0.000000</td>\n",
              "      <td>0.000000</td>\n",
              "      <td>0.106000</td>\n",
              "      <td>0.049960</td>\n",
              "      <td>0.114400</td>\n",
              "      <td>0.360200</td>\n",
              "      <td>0.757000</td>\n",
              "      <td>6.802000</td>\n",
              "      <td>0.001713</td>\n",
              "      <td>0.002252</td>\n",
              "      <td>0.000000</td>\n",
              "      <td>0.000000</td>\n",
              "      <td>0.007882</td>\n",
              "      <td>0.000895</td>\n",
              "      <td>7.930000</td>\n",
              "      <td>12.020000</td>\n",
              "      <td>50.410000</td>\n",
              "      <td>185.200000</td>\n",
              "      <td>0.071170</td>\n",
              "      <td>0.027290</td>\n",
              "      <td>0.000000</td>\n",
              "      <td>0.000000</td>\n",
              "      <td>0.156500</td>\n",
              "      <td>0.055040</td>\n",
              "    </tr>\n",
              "    <tr>\n",
              "      <th>25%</th>\n",
              "      <td>11.602500</td>\n",
              "      <td>16.092500</td>\n",
              "      <td>74.262500</td>\n",
              "      <td>410.400000</td>\n",
              "      <td>0.086443</td>\n",
              "      <td>0.065525</td>\n",
              "      <td>0.029240</td>\n",
              "      <td>0.020103</td>\n",
              "      <td>0.161525</td>\n",
              "      <td>0.057682</td>\n",
              "      <td>0.232900</td>\n",
              "      <td>0.836950</td>\n",
              "      <td>1.648250</td>\n",
              "      <td>18.067500</td>\n",
              "      <td>0.005172</td>\n",
              "      <td>0.013455</td>\n",
              "      <td>0.014693</td>\n",
              "      <td>0.007621</td>\n",
              "      <td>0.014960</td>\n",
              "      <td>0.002218</td>\n",
              "      <td>12.850000</td>\n",
              "      <td>20.992500</td>\n",
              "      <td>83.625000</td>\n",
              "      <td>506.450000</td>\n",
              "      <td>0.117025</td>\n",
              "      <td>0.147325</td>\n",
              "      <td>0.112975</td>\n",
              "      <td>0.064943</td>\n",
              "      <td>0.250050</td>\n",
              "      <td>0.071318</td>\n",
              "    </tr>\n",
              "    <tr>\n",
              "      <th>50%</th>\n",
              "      <td>13.310000</td>\n",
              "      <td>18.770000</td>\n",
              "      <td>85.980000</td>\n",
              "      <td>544.600000</td>\n",
              "      <td>0.095200</td>\n",
              "      <td>0.090435</td>\n",
              "      <td>0.059105</td>\n",
              "      <td>0.032935</td>\n",
              "      <td>0.177600</td>\n",
              "      <td>0.061545</td>\n",
              "      <td>0.323950</td>\n",
              "      <td>1.139500</td>\n",
              "      <td>2.285500</td>\n",
              "      <td>24.610000</td>\n",
              "      <td>0.006431</td>\n",
              "      <td>0.019960</td>\n",
              "      <td>0.025580</td>\n",
              "      <td>0.010815</td>\n",
              "      <td>0.018765</td>\n",
              "      <td>0.003103</td>\n",
              "      <td>14.845000</td>\n",
              "      <td>25.335000</td>\n",
              "      <td>96.675000</td>\n",
              "      <td>674.950000</td>\n",
              "      <td>0.131350</td>\n",
              "      <td>0.210700</td>\n",
              "      <td>0.221300</td>\n",
              "      <td>0.098380</td>\n",
              "      <td>0.281100</td>\n",
              "      <td>0.079900</td>\n",
              "    </tr>\n",
              "    <tr>\n",
              "      <th>75%</th>\n",
              "      <td>15.460000</td>\n",
              "      <td>21.695000</td>\n",
              "      <td>102.475000</td>\n",
              "      <td>742.750000</td>\n",
              "      <td>0.104400</td>\n",
              "      <td>0.127975</td>\n",
              "      <td>0.120125</td>\n",
              "      <td>0.066322</td>\n",
              "      <td>0.196350</td>\n",
              "      <td>0.066350</td>\n",
              "      <td>0.464350</td>\n",
              "      <td>1.473750</td>\n",
              "      <td>3.216500</td>\n",
              "      <td>43.490000</td>\n",
              "      <td>0.008324</td>\n",
              "      <td>0.031992</td>\n",
              "      <td>0.041403</td>\n",
              "      <td>0.014975</td>\n",
              "      <td>0.023797</td>\n",
              "      <td>0.004547</td>\n",
              "      <td>17.962500</td>\n",
              "      <td>29.410000</td>\n",
              "      <td>121.350000</td>\n",
              "      <td>987.825000</td>\n",
              "      <td>0.144600</td>\n",
              "      <td>0.313225</td>\n",
              "      <td>0.365475</td>\n",
              "      <td>0.155275</td>\n",
              "      <td>0.313225</td>\n",
              "      <td>0.091865</td>\n",
              "    </tr>\n",
              "    <tr>\n",
              "      <th>max</th>\n",
              "      <td>25.220000</td>\n",
              "      <td>39.280000</td>\n",
              "      <td>171.500000</td>\n",
              "      <td>1878.000000</td>\n",
              "      <td>0.163400</td>\n",
              "      <td>0.345400</td>\n",
              "      <td>0.426400</td>\n",
              "      <td>0.184500</td>\n",
              "      <td>0.304000</td>\n",
              "      <td>0.095750</td>\n",
              "      <td>1.370000</td>\n",
              "      <td>4.885000</td>\n",
              "      <td>11.070000</td>\n",
              "      <td>199.700000</td>\n",
              "      <td>0.031130</td>\n",
              "      <td>0.106400</td>\n",
              "      <td>0.396000</td>\n",
              "      <td>0.052790</td>\n",
              "      <td>0.078950</td>\n",
              "      <td>0.029840</td>\n",
              "      <td>32.490000</td>\n",
              "      <td>49.540000</td>\n",
              "      <td>214.000000</td>\n",
              "      <td>3432.000000</td>\n",
              "      <td>0.222600</td>\n",
              "      <td>1.058000</td>\n",
              "      <td>1.252000</td>\n",
              "      <td>0.291000</td>\n",
              "      <td>0.577400</td>\n",
              "      <td>0.207500</td>\n",
              "    </tr>\n",
              "  </tbody>\n",
              "</table>\n",
              "</div>"
            ],
            "text/plain": [
              "       mean radius  mean texture  ...  worst symmetry  worst fractal dimension\n",
              "count   426.000000    426.000000  ...      426.000000               426.000000\n",
              "mean     13.845413     19.216620  ...        0.287950                 0.083400\n",
              "std       3.268113      4.211651  ...        0.059824                 0.017018\n",
              "min       6.981000      9.710000  ...        0.156500                 0.055040\n",
              "25%      11.602500     16.092500  ...        0.250050                 0.071318\n",
              "50%      13.310000     18.770000  ...        0.281100                 0.079900\n",
              "75%      15.460000     21.695000  ...        0.313225                 0.091865\n",
              "max      25.220000     39.280000  ...        0.577400                 0.207500\n",
              "\n",
              "[8 rows x 30 columns]"
            ]
          },
          "metadata": {
            "tags": []
          },
          "execution_count": 23
        }
      ]
    },
    {
      "cell_type": "code",
      "metadata": {
        "id": "KI_nuPLPBhvA",
        "colab_type": "code",
        "outputId": "bbbefd75-bf9c-466d-8759-3673e33c478f",
        "colab": {
          "base_uri": "https://localhost:8080/",
          "height": 34
        }
      },
      "source": [
        "print(x.shape,x_train.shape,x_test.shape)"
      ],
      "execution_count": 24,
      "outputs": [
        {
          "output_type": "stream",
          "text": [
            "(569, 30) (426, 30) (143, 30)\n"
          ],
          "name": "stdout"
        }
      ]
    },
    {
      "cell_type": "code",
      "metadata": {
        "id": "nhmAK6mSB7Po",
        "colab_type": "code",
        "colab": {}
      },
      "source": [
        "x_train,x_test,y_train,y_test = train_test_split(x,y,test_size=0.1)"
      ],
      "execution_count": 0,
      "outputs": []
    },
    {
      "cell_type": "code",
      "metadata": {
        "id": "FK87TIiBCEAx",
        "colab_type": "code",
        "outputId": "82cb6339-85c4-4c37-960e-2be4c47d297f",
        "colab": {
          "base_uri": "https://localhost:8080/",
          "height": 34
        }
      },
      "source": [
        "print(x.shape,x_train.shape,x_test.shape)"
      ],
      "execution_count": 26,
      "outputs": [
        {
          "output_type": "stream",
          "text": [
            "(569, 30) (512, 30) (57, 30)\n"
          ],
          "name": "stdout"
        }
      ]
    },
    {
      "cell_type": "code",
      "metadata": {
        "id": "kQpO0fkVCFgq",
        "colab_type": "code",
        "outputId": "68d89cce-128f-4a7d-eade-48ce6291af3b",
        "colab": {
          "base_uri": "https://localhost:8080/",
          "height": 34
        }
      },
      "source": [
        "print(y.mean(),y_train.mean(),y_test.mean())"
      ],
      "execution_count": 27,
      "outputs": [
        {
          "output_type": "stream",
          "text": [
            "0.6274165202108963 0.642578125 0.49122807017543857\n"
          ],
          "name": "stdout"
        }
      ]
    },
    {
      "cell_type": "markdown",
      "metadata": {
        "id": "MymAIFfDCj6L",
        "colab_type": "text"
      },
      "source": [
        "Maintaining class ratios in train and test split as in the main dataset as much as possible."
      ]
    },
    {
      "cell_type": "code",
      "metadata": {
        "id": "YswJLI8GCYQN",
        "colab_type": "code",
        "colab": {}
      },
      "source": [
        "x_train,x_test,y_train,y_test = train_test_split(x,y,test_size=0.1,stratify=y)"
      ],
      "execution_count": 0,
      "outputs": []
    },
    {
      "cell_type": "code",
      "metadata": {
        "id": "H9ZcDaFuCggI",
        "colab_type": "code",
        "outputId": "b55de324-e75e-492b-b818-f0228a3c0c37",
        "colab": {
          "base_uri": "https://localhost:8080/",
          "height": 34
        }
      },
      "source": [
        "print(y.mean(),y_train.mean(),y_test.mean())"
      ],
      "execution_count": 29,
      "outputs": [
        {
          "output_type": "stream",
          "text": [
            "0.6274165202108963 0.626953125 0.631578947368421\n"
          ],
          "name": "stdout"
        }
      ]
    },
    {
      "cell_type": "markdown",
      "metadata": {
        "id": "htzWQsK4DQHk",
        "colab_type": "text"
      },
      "source": [
        "To have same split always (so that results are reproducible in future runs of the algorithm), we need to send random state argument, which is also referred to as seed of the splitter. The state doesn't matter. "
      ]
    },
    {
      "cell_type": "code",
      "metadata": {
        "id": "FvhA56OQCh6t",
        "colab_type": "code",
        "colab": {}
      },
      "source": [
        "x_train,x_test,y_train,y_test = train_test_split(x,y,test_size=0.1,stratify=y,random_state=1)"
      ],
      "execution_count": 0,
      "outputs": []
    },
    {
      "cell_type": "markdown",
      "metadata": {
        "id": "oVm9kyRPHXp8",
        "colab_type": "text"
      },
      "source": [
        "# Binarisation of input"
      ]
    },
    {
      "cell_type": "code",
      "metadata": {
        "id": "FMa1dEanHb_-",
        "colab_type": "code",
        "colab": {}
      },
      "source": [
        "import matplotlib.pyplot as plt\n",
        "import seaborn as sns\n",
        "sns.set()"
      ],
      "execution_count": 0,
      "outputs": []
    },
    {
      "cell_type": "markdown",
      "metadata": {
        "id": "y8_uZI69FIsP",
        "colab_type": "text"
      },
      "source": [
        "Each feature represented by a different color, with the samples over the x-axis."
      ]
    },
    {
      "cell_type": "code",
      "metadata": {
        "id": "roOXdidiEGsL",
        "colab_type": "code",
        "outputId": "dcbd6596-4614-4578-948e-8573b7b5d63d",
        "colab": {
          "base_uri": "https://localhost:8080/",
          "height": 274
        }
      },
      "source": [
        "plt.plot(x_train,'*')\n",
        "plt.show()"
      ],
      "execution_count": 32,
      "outputs": [
        {
          "output_type": "display_data",
          "data": {
            "image/png": "[encoded data removed]",
            "text/plain": [
              "<Figure size 432x288 with 1 Axes>"
            ]
          },
          "metadata": {
            "tags": []
          }
        }
      ]
    },
    {
      "cell_type": "markdown",
      "metadata": {
        "id": "E3UocWe0Fj0O",
        "colab_type": "text"
      },
      "source": [
        "Plotting the transpose of training set. Will showcase the different values for each feature i.e. the spread for each feature of the training set."
      ]
    },
    {
      "cell_type": "code",
      "metadata": {
        "id": "nmwrUZGFENkX",
        "colab_type": "code",
        "outputId": "118c23d8-4896-49ea-986b-a501a951f6dc",
        "colab": {
          "base_uri": "https://localhost:8080/",
          "height": 395
        }
      },
      "source": [
        "plt.plot(x_train.T, 'x')\n",
        "plt.xticks(rotation='vertical')\n",
        "plt.show()"
      ],
      "execution_count": 33,
      "outputs": [
        {
          "output_type": "display_data",
          "data": {
            "image/png": "[encoded data removed]",
            "text/plain": [
              "<Figure size 432x288 with 1 Axes>"
            ]
          },
          "metadata": {
            "tags": []
          }
        }
      ]
    },
    {
      "cell_type": "markdown",
      "metadata": {
        "id": "4k3GJAPXGn5e",
        "colab_type": "text"
      },
      "source": [
        "To binarise we can select a threshold value, above which the feature can take the value of 1, and below which it can take 0. The value can be the mean or median. "
      ]
    },
    {
      "cell_type": "code",
      "metadata": {
        "id": "oP2jItsDFiLO",
        "colab_type": "code",
        "colab": {}
      },
      "source": [
        "sample_col = x_train['mean area'].map(lambda x: 1 if x<1000 else 0)"
      ],
      "execution_count": 0,
      "outputs": []
    },
    {
      "cell_type": "code",
      "metadata": {
        "id": "dhRL63mcKYGS",
        "colab_type": "code",
        "outputId": "e2bb02fd-3587-4fc7-bba4-1cc6c32b9a2c",
        "colab": {
          "base_uri": "https://localhost:8080/",
          "height": 274
        }
      },
      "source": [
        "plt.plot(sample_col,'*')\n",
        "plt.show()"
      ],
      "execution_count": 35,
      "outputs": [
        {
          "output_type": "display_data",
          "data": {
            "image/png": "[encoded data removed]",
            "text/plain": [
              "<Figure size 432x288 with 1 Axes>"
            ]
          },
          "metadata": {
            "tags": []
          }
        }
      ]
    },
    {
      "cell_type": "markdown",
      "metadata": {
        "id": "br56H0DWKkJa",
        "colab_type": "text"
      },
      "source": [
        "Not required to do it manually for each column of the dataframe, can be done using the cut function of the pandas module, which splits the column values into given number of bins with given set of labels."
      ]
    },
    {
      "cell_type": "code",
      "metadata": {
        "id": "h_V9EKTLQ5Zj",
        "colab_type": "code",
        "colab": {}
      },
      "source": [
        "pd.cut?"
      ],
      "execution_count": 0,
      "outputs": []
    },
    {
      "cell_type": "code",
      "metadata": {
        "id": "z2LLHAZXKhBH",
        "colab_type": "code",
        "colab": {}
      },
      "source": [
        "x_btrain = x_train.apply(pd.cut,bins=2,labels=[1,0])"
      ],
      "execution_count": 0,
      "outputs": []
    },
    {
      "cell_type": "code",
      "metadata": {
        "id": "hTY5cEM2XTV9",
        "colab_type": "code",
        "colab": {}
      },
      "source": [
        "x_btest = x_test.apply(pd.cut,bins=2,labels=[1,0])"
      ],
      "execution_count": 0,
      "outputs": []
    },
    {
      "cell_type": "code",
      "metadata": {
        "id": "0WkzAlFFK1DZ",
        "colab_type": "code",
        "outputId": "432ac184-36a1-48a7-f954-20bbc8d9b0c3",
        "colab": {
          "base_uri": "https://localhost:8080/",
          "height": 395
        }
      },
      "source": [
        "plt.plot(x_btrain.T,'*')\n",
        "plt.xticks(rotation='vertical')\n",
        "plt.savefig('Binarised Input.png')\n",
        "plt.show()\n"
      ],
      "execution_count": 38,
      "outputs": [
        {
          "output_type": "display_data",
          "data": {
            "image/png": "[encoded data removed]",
            "text/plain": [
              "<Figure size 432x288 with 1 Axes>"
            ]
          },
          "metadata": {
            "tags": []
          }
        }
      ]
    },
    {
      "cell_type": "code",
      "metadata": {
        "id": "wLWtxF4_WRQR",
        "colab_type": "code",
        "colab": {}
      },
      "source": [
        "x_btrain = x_btrain.values"
      ],
      "execution_count": 0,
      "outputs": []
    },
    {
      "cell_type": "code",
      "metadata": {
        "id": "Pd2B8fzbYIG2",
        "colab_type": "code",
        "colab": {}
      },
      "source": [
        "x_btest = x_btest.values"
      ],
      "execution_count": 0,
      "outputs": []
    },
    {
      "cell_type": "markdown",
      "metadata": {
        "id": "O2RGK9i5VpA-",
        "colab_type": "text"
      },
      "source": [
        "# MPNeuron"
      ]
    },
    {
      "cell_type": "code",
      "metadata": {
        "id": "kCsj4Xc8Vm6F",
        "colab_type": "code",
        "colab": {}
      },
      "source": [
        "from random import randint"
      ],
      "execution_count": 0,
      "outputs": []
    },
    {
      "cell_type": "code",
      "metadata": {
        "id": "VQPI_oB8V6zf",
        "colab_type": "code",
        "outputId": "b7f19cd6-1f1a-446f-ba3a-416b13560d3c",
        "colab": {
          "base_uri": "https://localhost:8080/",
          "height": 274
        }
      },
      "source": [
        "y_train_preds = []\n",
        "optimal_train_b = 0\n",
        "max_train_accuracy = 0\n",
        "\n",
        "train_accuracies = []\n",
        "for b in range(x_btrain.shape[1]):\n",
        "  correct = 0\n",
        "  for x,y in zip(x_btrain,y_train):\n",
        "    y_pred = (np.sum(x)>=b)\n",
        "    y_preds.append(y_pred)\n",
        "    if y_pred==y:\n",
        "      correct+=1\n",
        "  accuracy = correct/x_btrain.shape[0]\n",
        "  train_accuracies.append(accuracy)\n",
        "  if accuracy>max_accuracy:\n",
        "    max_accuracy = accuracy\n",
        "    optimal_b = b\n",
        "  # print(b,accuracy)\n",
        "\n",
        "y_test_preds = []\n",
        "optimal_test_b = 0\n",
        "max_test_accuracy = 0\n",
        "\n",
        "test_accuracies = []\n",
        "for b in range(x_btest.shape[1]):\n",
        "  correct = 0\n",
        "  for x,y in zip(x_btest,y_test):\n",
        "    y_pred = (np.sum(x)>=b)\n",
        "    y_preds.append(y_pred)\n",
        "    if y_pred==y:\n",
        "      correct+=1\n",
        "  accuracy = correct/x_btest.shape[0]\n",
        "  test_accuracies.append(accuracy)\n",
        "  if accuracy>max_accuracy:\n",
        "    max_accuracy = accuracy\n",
        "    optimal_b = b\n",
        "  # print(b,accuracy)\n",
        "\n",
        "\n",
        "# fig, axs = plt.subplots(2)\n",
        "# fig.suptitle('Training and Testing Accuracies compared')\n",
        "# axs[0].plot(list(range(b+1)),train_accuracies)\n",
        "# axs[1].plot(list(range(b+1)),test_accuracies)\n",
        "\n",
        "plt.plot(train_accuracies)\n",
        "plt.plot(test_accuracies)\n",
        "plt.ylim([0,1])\n",
        "plt.show()"
      ],
      "execution_count": 98,
      "outputs": [
        {
          "output_type": "display_data",
          "data": {
            "image/png": "[encoded data removed]",
            "text/plain": [
              "<Figure size 432x288 with 1 Axes>"
            ]
          },
          "metadata": {
            "tags": []
          }
        }
      ]
    },
    {
      "cell_type": "code",
      "metadata": {
        "id": "kxOjFejfWlKR",
        "colab_type": "code",
        "outputId": "ee69bff2-ff33-4483-b9c9-a767fd8829f7",
        "colab": {
          "base_uri": "https://localhost:8080/",
          "height": 34
        }
      },
      "source": [
        "print(optimal_b, max_accuracy)"
      ],
      "execution_count": 99,
      "outputs": [
        {
          "output_type": "stream",
          "text": [
            "22 0.9122807017543859\n"
          ],
          "name": "stdout"
        }
      ]
    },
    {
      "cell_type": "code",
      "metadata": {
        "id": "7XX-F4-fXI0N",
        "colab_type": "code",
        "outputId": "6141a813-80de-484c-d58c-a9e850f34ed8",
        "colab": {
          "base_uri": "https://localhost:8080/",
          "height": 34
        }
      },
      "source": [
        "correct = 0\n",
        "y_pred_test = []\n",
        "for x,y in zip(x_btest,y_test):\n",
        "  y_pred = (np.sum(x)>=optimal_b)\n",
        "  y_pred_test.append(y_pred)\n",
        "  if y_pred==y:\n",
        "    correct+=1\n",
        "  \n",
        "print(\"test accuracy = \", correct/x_btest.shape[0])"
      ],
      "execution_count": 100,
      "outputs": [
        {
          "output_type": "stream",
          "text": [
            "test accuracy =  0.9122807017543859\n"
          ],
          "name": "stdout"
        }
      ]
    },
    {
      "cell_type": "code",
      "metadata": {
        "id": "K0T2Y9EqX0t5",
        "colab_type": "code",
        "colab": {}
      },
      "source": [
        "from sklearn.metrics import accuracy_score"
      ],
      "execution_count": 0,
      "outputs": []
    },
    {
      "cell_type": "code",
      "metadata": {
        "id": "VkHYNiuMgFG6",
        "colab_type": "code",
        "colab": {}
      },
      "source": [
        "accuracy = accuracy_score(y_pred_test,y_test)"
      ],
      "execution_count": 0,
      "outputs": []
    },
    {
      "cell_type": "code",
      "metadata": {
        "id": "Wn31vhV0gJ4m",
        "colab_type": "code",
        "outputId": "95c45a53-2aaa-489d-d56b-f402b4651fc7",
        "colab": {
          "base_uri": "https://localhost:8080/",
          "height": 34
        }
      },
      "source": [
        "accuracy"
      ],
      "execution_count": 103,
      "outputs": [
        {
          "output_type": "execute_result",
          "data": {
            "text/plain": [
              "0.9122807017543859"
            ]
          },
          "metadata": {
            "tags": []
          },
          "execution_count": 103
        }
      ]
    },
    {
      "cell_type": "markdown",
      "metadata": {
        "id": "Jm-Yfg88gjep",
        "colab_type": "text"
      },
      "source": [
        "#MP Neuron Class"
      ]
    },
    {
      "cell_type": "code",
      "metadata": {
        "id": "dzwCdw0SglOr",
        "colab_type": "code",
        "colab": {}
      },
      "source": [
        "class MPNeuron:\n",
        "\n",
        "  def __init__(self):\n",
        "    self.b = None\n",
        "\n",
        "  def model(self,x):\n",
        "    return np.sum(x)>=self.b\n",
        "  \n",
        "  def predict(self,X):\n",
        "    y_pred = []\n",
        "    for x in X:\n",
        "      result = self.model(x)\n",
        "      y_pred.append(result)\n",
        "    return np.array(y_pred)\n",
        "\n",
        "  def fit(self,X,Y):\n",
        "    accuracy = {}\n",
        "\n",
        "    for b in range(X.shape[1]):\n",
        "      self.b = b\n",
        "      accuracy[b] = accuracy_score(self.predict(X),Y)\n",
        "    best_b = max(accuracy, key = accuracy.get)\n",
        "    self.b = best_b\n",
        "\n",
        "    print(\"Optimal b\", best_b)\n",
        "    print(\"Max accuracy\", accuracy[best_b])\n",
        "\n",
        "  def train_test_analyse(self,X_train,Y_train,X_test,Y_test):\n",
        "    y_train_preds = []\n",
        "    y_test_preds = []\n",
        "    optimal_train_b = 0\n",
        "    optimal_test_b = 0\n",
        "    max_train_accuracy = 0\n",
        "    max_test_accuracy = 0 \n",
        "    train_accuracies = []\n",
        "    test_accuracies = []\n",
        "    for b in range(x_btrain.shape[1]):\n",
        "      train_correct = 0\n",
        "      test_correct = 0\n",
        "      for x,y in zip(x_btrain,y_train):\n",
        "        y_pred = (np.sum(x)>=b)\n",
        "        y_train_preds.append(y_pred)\n",
        "        if y_pred==y:\n",
        "          train_correct+=1\n",
        "      accuracy = train_correct/x_btrain.shape[0]\n",
        "      train_accuracies.append(accuracy)\n",
        "      if accuracy>max_train_accuracy:\n",
        "        max_train_accuracy = accuracy\n",
        "        optimal_train_b = b\n",
        "      # print(b,accuracy)\n",
        "\n",
        "      for x,y in zip(x_btest,y_test):\n",
        "        y_pred = (np.sum(x)>=b)\n",
        "        y_test_preds.append(y_pred)\n",
        "        if y_pred==y:\n",
        "          test_correct+=1\n",
        "      accuracy = test_correct/x_btest.shape[0]\n",
        "      test_accuracies.append(accuracy)\n",
        "      if accuracy>max_test_accuracy:\n",
        "        max_test_accuracy = accuracy\n",
        "        optimal_test_b = b\n",
        "\n",
        "    plt.plot(train_accuracies)\n",
        "    plt.plot(test_accuracies)\n",
        "    plt.ylim([0,1])\n",
        "    plt.show()\n"
      ],
      "execution_count": 0,
      "outputs": []
    },
    {
      "cell_type": "code",
      "metadata": {
        "id": "Ud7PjUQvj4UF",
        "colab_type": "code",
        "colab": {}
      },
      "source": [
        "mp_neuron = MPNeuron()"
      ],
      "execution_count": 0,
      "outputs": []
    },
    {
      "cell_type": "code",
      "metadata": {
        "id": "PMOAHd_TUBnG",
        "colab_type": "code",
        "colab": {
          "base_uri": "https://localhost:8080/",
          "height": 274
        },
        "outputId": "c08c4204-dd8d-4b32-b294-8a701ee8ed63"
      },
      "source": [
        "mp_neuron.train_test_analyse(x_btrain,y_train,x_btest,y_test)"
      ],
      "execution_count": 121,
      "outputs": [
        {
          "output_type": "display_data",
          "data": {
            "image/png": "[encoded data removed]",
            "text/plain": [
              "<Figure size 432x288 with 1 Axes>"
            ]
          },
          "metadata": {
            "tags": []
          }
        }
      ]
    },
    {
      "cell_type": "code",
      "metadata": {
        "id": "Zz4ifHQ-j6H4",
        "colab_type": "code",
        "outputId": "0d458703-3316-4bbe-958a-6930fbd9d25c",
        "colab": {
          "base_uri": "https://localhost:8080/",
          "height": 51
        }
      },
      "source": [
        "mp_neuron.fit(x_btrain,y_train)"
      ],
      "execution_count": 106,
      "outputs": [
        {
          "output_type": "stream",
          "text": [
            "Optimal b 28\n",
            "Max accuracy 0.849609375\n"
          ],
          "name": "stdout"
        }
      ]
    },
    {
      "cell_type": "code",
      "metadata": {
        "id": "-CEW4fhij-OA",
        "colab_type": "code",
        "outputId": "ffee52f5-a49e-43ff-f40a-ea1f46fa91fe",
        "colab": {
          "base_uri": "https://localhost:8080/",
          "height": 51
        }
      },
      "source": [
        "print(accuracy_score(mp_neuron.predict(x_btest),y_test))\n",
        "print(mp_neuron.b)"
      ],
      "execution_count": 51,
      "outputs": [
        {
          "output_type": "stream",
          "text": [
            "0.8947368421052632\n",
            "27\n"
          ],
          "name": "stdout"
        }
      ]
    },
    {
      "cell_type": "markdown",
      "metadata": {
        "id": "Hm7qg36NpN6V",
        "colab_type": "text"
      },
      "source": [
        "# Perceptron Class"
      ]
    },
    {
      "cell_type": "markdown",
      "metadata": {
        "id": "6i9bwyTS2Wcw",
        "colab_type": "text"
      },
      "source": [
        "The class contains two hyperparameters, i.e. epochs, and learning rate. The class also contains the use of the concept of checkpoint s to extract the best possible weights correspoding to the highest training accuracy rather than relying on the last epoch for sub-optimal parameters for the model.\n",
        "\n",
        "Observation : initialisation with 0 gave unstable learning with learning rate,  whereas 1 led to stable learning with learning rate."
      ]
    },
    {
      "cell_type": "code",
      "metadata": {
        "id": "eV3Rz_m7kKdu",
        "colab_type": "code",
        "colab": {}
      },
      "source": [
        "class Perceptron:\n",
        "\n",
        "  def __init__(self):\n",
        "    self.b = None\n",
        "    self.w = None\n",
        "\n",
        "  def model(self,x):\n",
        "    return np.dot(self.w,x)>=self.b\n",
        "  \n",
        "  def predict(self,X):\n",
        "    y_pred = []\n",
        "\n",
        "    for x in X:\n",
        "      result = self.model(x)\n",
        "      y_pred.append(result)\n",
        "\n",
        "    return np.array(y_pred)\n",
        "\n",
        "  def fit(self,X,Y,epochs,lr):\n",
        "\n",
        "    accuracy = []\n",
        "    self.b = 0\n",
        "    self.w = np.ones(X.shape[1])\n",
        "    max_accuracy = 0\n",
        "\n",
        "    wt_matrix = []\n",
        "    for i in range(epochs):\n",
        "      for x,y in zip(X,Y):\n",
        "        y_pred = self.model(x)\n",
        "        if y==1 and y_pred==0:\n",
        "          self.w= self.w + lr*x\n",
        "          self.b= self.b + (lr)*1\n",
        "        elif y==0 and y_pred==1:\n",
        "          self.w= self.w - lr*x\n",
        "          self.b= self.b - (lr)*1     \n",
        "      plt.plot(self.w)\n",
        "      latest_accuracy = accuracy_score(self.predict(X),Y)\n",
        "      accuracy.append(latest_accuracy)\n",
        "      wt_matrix.append(self.w)\n",
        "      if latest_accuracy > max_accuracy:\n",
        "        max_accuracy = latest_accuracy\n",
        "        checkptw = self.w\n",
        "        checkptb = self.b\n",
        "\n",
        "      print(\"Completed epoch\", i+1, \", Training Accuracy:\",accuracy_score(self.predict(X),Y))\n",
        "      print()\n",
        "    plt.savefig(\"Weight Transition.png\")\n",
        "    plt.show()\n",
        "\n",
        "    plt.plot(accuracy)\n",
        "    plt.ylim([0,1])\n",
        "    plt.savefig(\"Accuracy Transition\")\n",
        "    plt.show()\n",
        "\n",
        "    self.w = checkptw\n",
        "    self.b = checkptb\n",
        "\n",
        "    return np.array(wt_matrix)"
      ],
      "execution_count": 0,
      "outputs": []
    },
    {
      "cell_type": "code",
      "metadata": {
        "id": "vSihEZINqmJW",
        "colab_type": "code",
        "colab": {}
      },
      "source": [
        "perceptron = Perceptron()"
      ],
      "execution_count": 0,
      "outputs": []
    },
    {
      "cell_type": "code",
      "metadata": {
        "id": "Fhbn1MRaqpIp",
        "colab_type": "code",
        "colab": {}
      },
      "source": [
        "x_train = x_train.values\n",
        "x_test = x_test.values"
      ],
      "execution_count": 0,
      "outputs": []
    },
    {
      "cell_type": "code",
      "metadata": {
        "id": "Vn8QMZCFqs1v",
        "colab_type": "code",
        "outputId": "6759fa59-a1d9-4214-f6d2-008a00479349",
        "colab": {
          "base_uri": "https://localhost:8080/",
          "height": 1000
        }
      },
      "source": [
        "wt_matrix = perceptron.fit(x_train,y_train,100,0.01)"
      ],
      "execution_count": 84,
      "outputs": [
        {
          "output_type": "stream",
          "text": [
            "Completed epoch 1 , Training Accuracy: 0.7889447236180904\n",
            "\n",
            "Completed epoch 2 , Training Accuracy: 0.37185929648241206\n",
            "\n",
            "Completed epoch 3 , Training Accuracy: 0.7763819095477387\n",
            "\n",
            "Completed epoch 4 , Training Accuracy: 0.37185929648241206\n",
            "\n",
            "Completed epoch 5 , Training Accuracy: 0.8668341708542714\n",
            "\n",
            "Completed epoch 6 , Training Accuracy: 0.8819095477386935\n",
            "\n",
            "Completed epoch 7 , Training Accuracy: 0.8693467336683417\n",
            "\n",
            "Completed epoch 8 , Training Accuracy: 0.8819095477386935\n",
            "\n",
            "Completed epoch 9 , Training Accuracy: 0.8969849246231156\n",
            "\n",
            "Completed epoch 10 , Training Accuracy: 0.8994974874371859\n",
            "\n",
            "Completed epoch 11 , Training Accuracy: 0.8894472361809045\n",
            "\n",
            "Completed epoch 12 , Training Accuracy: 0.8919597989949749\n",
            "\n",
            "Completed epoch 13 , Training Accuracy: 0.9020100502512562\n",
            "\n",
            "Completed epoch 14 , Training Accuracy: 0.9020100502512562\n",
            "\n",
            "Completed epoch 15 , Training Accuracy: 0.9020100502512562\n",
            "\n",
            "Completed epoch 16 , Training Accuracy: 0.8618090452261307\n",
            "\n",
            "Completed epoch 17 , Training Accuracy: 0.8567839195979899\n",
            "\n",
            "Completed epoch 18 , Training Accuracy: 0.8618090452261307\n",
            "\n",
            "Completed epoch 19 , Training Accuracy: 0.8768844221105527\n",
            "\n",
            "Completed epoch 20 , Training Accuracy: 0.8618090452261307\n",
            "\n",
            "Completed epoch 21 , Training Accuracy: 0.9045226130653267\n",
            "\n",
            "Completed epoch 22 , Training Accuracy: 0.8693467336683417\n",
            "\n",
            "Completed epoch 23 , Training Accuracy: 0.9045226130653267\n",
            "\n",
            "Completed epoch 24 , Training Accuracy: 0.9045226130653267\n",
            "\n",
            "Completed epoch 25 , Training Accuracy: 0.9045226130653267\n",
            "\n",
            "Completed epoch 26 , Training Accuracy: 0.8442211055276382\n",
            "\n",
            "Completed epoch 27 , Training Accuracy: 0.8492462311557789\n",
            "\n",
            "Completed epoch 28 , Training Accuracy: 0.8567839195979899\n",
            "\n",
            "Completed epoch 29 , Training Accuracy: 0.8819095477386935\n",
            "\n",
            "Completed epoch 30 , Training Accuracy: 0.8768844221105527\n",
            "\n",
            "Completed epoch 31 , Training Accuracy: 0.8768844221105527\n",
            "\n",
            "Completed epoch 32 , Training Accuracy: 0.8668341708542714\n",
            "\n",
            "Completed epoch 33 , Training Accuracy: 0.864321608040201\n",
            "\n",
            "Completed epoch 34 , Training Accuracy: 0.8768844221105527\n",
            "\n",
            "Completed epoch 35 , Training Accuracy: 0.8693467336683417\n",
            "\n",
            "Completed epoch 36 , Training Accuracy: 0.8618090452261307\n",
            "\n",
            "Completed epoch 37 , Training Accuracy: 0.864321608040201\n",
            "\n",
            "Completed epoch 38 , Training Accuracy: 0.871859296482412\n",
            "\n",
            "Completed epoch 39 , Training Accuracy: 0.8618090452261307\n",
            "\n",
            "Completed epoch 40 , Training Accuracy: 0.8693467336683417\n",
            "\n",
            "Completed epoch 41 , Training Accuracy: 0.8618090452261307\n",
            "\n",
            "Completed epoch 42 , Training Accuracy: 0.8668341708542714\n",
            "\n",
            "Completed epoch 43 , Training Accuracy: 0.8618090452261307\n",
            "\n",
            "Completed epoch 44 , Training Accuracy: 0.8693467336683417\n",
            "\n",
            "Completed epoch 45 , Training Accuracy: 0.9095477386934674\n",
            "\n",
            "Completed epoch 46 , Training Accuracy: 0.8693467336683417\n",
            "\n",
            "Completed epoch 47 , Training Accuracy: 0.9095477386934674\n",
            "\n",
            "Completed epoch 48 , Training Accuracy: 0.8366834170854272\n",
            "\n",
            "Completed epoch 49 , Training Accuracy: 0.9095477386934674\n",
            "\n",
            "Completed epoch 50 , Training Accuracy: 0.9095477386934674\n",
            "\n",
            "Completed epoch 51 , Training Accuracy: 0.8341708542713567\n",
            "\n",
            "Completed epoch 52 , Training Accuracy: 0.9095477386934674\n",
            "\n",
            "Completed epoch 53 , Training Accuracy: 0.8467336683417085\n",
            "\n",
            "Completed epoch 54 , Training Accuracy: 0.9095477386934674\n",
            "\n",
            "Completed epoch 55 , Training Accuracy: 0.8366834170854272\n",
            "\n",
            "Completed epoch 56 , Training Accuracy: 0.9095477386934674\n",
            "\n",
            "Completed epoch 57 , Training Accuracy: 0.8517587939698492\n",
            "\n",
            "Completed epoch 58 , Training Accuracy: 0.8467336683417085\n",
            "\n",
            "Completed epoch 59 , Training Accuracy: 0.9195979899497487\n",
            "\n",
            "Completed epoch 60 , Training Accuracy: 0.8467336683417085\n",
            "\n",
            "Completed epoch 61 , Training Accuracy: 0.914572864321608\n",
            "\n",
            "Completed epoch 62 , Training Accuracy: 0.8517587939698492\n",
            "\n",
            "Completed epoch 63 , Training Accuracy: 0.8467336683417085\n",
            "\n",
            "Completed epoch 64 , Training Accuracy: 0.9195979899497487\n",
            "\n",
            "Completed epoch 65 , Training Accuracy: 0.8492462311557789\n",
            "\n",
            "Completed epoch 66 , Training Accuracy: 0.914572864321608\n",
            "\n",
            "Completed epoch 67 , Training Accuracy: 0.9120603015075377\n",
            "\n",
            "Completed epoch 68 , Training Accuracy: 0.9195979899497487\n",
            "\n",
            "Completed epoch 69 , Training Accuracy: 0.9120603015075377\n",
            "\n",
            "Completed epoch 70 , Training Accuracy: 0.914572864321608\n",
            "\n",
            "Completed epoch 71 , Training Accuracy: 0.8542713567839196\n",
            "\n",
            "Completed epoch 72 , Training Accuracy: 0.9120603015075377\n",
            "\n",
            "Completed epoch 73 , Training Accuracy: 0.9195979899497487\n",
            "\n",
            "Completed epoch 74 , Training Accuracy: 0.914572864321608\n",
            "\n",
            "Completed epoch 75 , Training Accuracy: 0.8517587939698492\n",
            "\n",
            "Completed epoch 76 , Training Accuracy: 0.8517587939698492\n",
            "\n",
            "Completed epoch 77 , Training Accuracy: 0.9195979899497487\n",
            "\n",
            "Completed epoch 78 , Training Accuracy: 0.914572864321608\n",
            "\n",
            "Completed epoch 79 , Training Accuracy: 0.9195979899497487\n",
            "\n",
            "Completed epoch 80 , Training Accuracy: 0.914572864321608\n",
            "\n",
            "Completed epoch 81 , Training Accuracy: 0.9045226130653267\n",
            "\n",
            "Completed epoch 82 , Training Accuracy: 0.914572864321608\n",
            "\n",
            "Completed epoch 83 , Training Accuracy: 0.907035175879397\n",
            "\n",
            "Completed epoch 84 , Training Accuracy: 0.9045226130653267\n",
            "\n",
            "Completed epoch 85 , Training Accuracy: 0.914572864321608\n",
            "\n",
            "Completed epoch 86 , Training Accuracy: 0.8994974874371859\n",
            "\n",
            "Completed epoch 87 , Training Accuracy: 0.9095477386934674\n",
            "\n",
            "Completed epoch 88 , Training Accuracy: 0.9045226130653267\n",
            "\n",
            "Completed epoch 89 , Training Accuracy: 0.907035175879397\n",
            "\n",
            "Completed epoch 90 , Training Accuracy: 0.9195979899497487\n",
            "\n",
            "Completed epoch 91 , Training Accuracy: 0.9195979899497487\n",
            "\n",
            "Completed epoch 92 , Training Accuracy: 0.914572864321608\n",
            "\n",
            "Completed epoch 93 , Training Accuracy: 0.907035175879397\n",
            "\n",
            "Completed epoch 94 , Training Accuracy: 0.9221105527638191\n",
            "\n",
            "Completed epoch 95 , Training Accuracy: 0.9221105527638191\n",
            "\n",
            "Completed epoch 96 , Training Accuracy: 0.9221105527638191\n",
            "\n",
            "Completed epoch 97 , Training Accuracy: 0.9020100502512562\n",
            "\n",
            "Completed epoch 98 , Training Accuracy: 0.9221105527638191\n",
            "\n",
            "Completed epoch 99 , Training Accuracy: 0.9221105527638191\n",
            "\n",
            "Completed epoch 100 , Training Accuracy: 0.9221105527638191\n",
            "\n"
          ],
          "name": "stdout"
        },
        {
          "output_type": "display_data",
          "data": {
            "image/png": "[encoded data removed]",
            "text/plain": [
              "<Figure size 432x288 with 1 Axes>"
            ]
          },
          "metadata": {
            "tags": []
          }
        },
        {
          "output_type": "display_data",
          "data": {
            "image/png": "[encoded data removed]",
            "text/plain": [
              "<Figure size 432x288 with 1 Axes>"
            ]
          },
          "metadata": {
            "tags": []
          }
        }
      ]
    },
    {
      "cell_type": "code",
      "metadata": {
        "id": "4STpoUxzr9_E",
        "colab_type": "code",
        "outputId": "b5a7fd24-999b-4ad0-96fd-7ff6207bec00",
        "colab": {
          "base_uri": "https://localhost:8080/",
          "height": 34
        }
      },
      "source": [
        "accuracy_score(perceptron.predict(x_train),y_train)"
      ],
      "execution_count": 85,
      "outputs": [
        {
          "output_type": "execute_result",
          "data": {
            "text/plain": [
              "0.9221105527638191"
            ]
          },
          "metadata": {
            "tags": []
          },
          "execution_count": 85
        }
      ]
    },
    {
      "cell_type": "code",
      "metadata": {
        "id": "up0LAR36qyxE",
        "colab_type": "code",
        "outputId": "e138e54b-60cf-4707-d04f-269931761640",
        "colab": {
          "base_uri": "https://localhost:8080/",
          "height": 34
        }
      },
      "source": [
        "accuracy_score(perceptron.predict(x_test),y_test)"
      ],
      "execution_count": 86,
      "outputs": [
        {
          "output_type": "execute_result",
          "data": {
            "text/plain": [
              "0.935672514619883"
            ]
          },
          "metadata": {
            "tags": []
          },
          "execution_count": 86
        }
      ]
    },
    {
      "cell_type": "code",
      "metadata": {
        "id": "HIjCWU6qrIUq",
        "colab_type": "code",
        "outputId": "301163de-4c8f-4321-ef20-c6257b3e9900",
        "colab": {
          "base_uri": "https://localhost:8080/",
          "height": 274
        }
      },
      "source": [
        "plt.plot(perceptron.w)\n",
        "plt.savefig(\"Final Weight Graph for Perceptron\")\n",
        "plt.show()"
      ],
      "execution_count": 87,
      "outputs": [
        {
          "output_type": "display_data",
          "data": {
            "image/png": "[encoded data removed]",
            "text/plain": [
              "<Figure size 432x288 with 1 Axes>"
            ]
          },
          "metadata": {
            "tags": []
          }
        }
      ]
    },
    {
      "cell_type": "code",
      "metadata": {
        "id": "hAeKI7HQBs0J",
        "colab_type": "code",
        "outputId": "5911a5b9-7822-4f2c-bf07-94f32df6eb1c",
        "colab": {
          "base_uri": "https://localhost:8080/",
          "height": 274
        }
      },
      "source": [
        "plt.plot(wt_matrix[-1,:])\n",
        "plt.show()"
      ],
      "execution_count": 88,
      "outputs": [
        {
          "output_type": "display_data",
          "data": {
            "image/png": "[encoded data removed]",
            "text/plain": [
              "<Figure size 432x288 with 1 Axes>"
            ]
          },
          "metadata": {
            "tags": []
          }
        }
      ]
    },
    {
      "cell_type": "markdown",
      "metadata": {
        "id": "fjjUQ97t9ksC",
        "colab_type": "text"
      },
      "source": [
        "https://matplotlib.org/3.1.1/gallery/subplots_axes_and_figures/subplots_demo.html : Refer for subplots and multiple plots with good handle for each\n",
        "\n",
        "http://louistiao.me/posts/notebooks/embedding-matplotlib-animations-in-jupyter-notebooks/: Refer for animations in jupyter notebook"
      ]
    },
    {
      "cell_type": "code",
      "metadata": {
        "id": "j1xUhR2lrik7",
        "colab_type": "code",
        "colab": {}
      },
      "source": [
        "%matplotlib inline"
      ],
      "execution_count": 0,
      "outputs": []
    },
    {
      "cell_type": "code",
      "metadata": {
        "id": "mvhNVRTcA7G3",
        "colab_type": "code",
        "colab": {}
      },
      "source": [
        "from matplotlib import animation, rc\n",
        "from IPython.display import HTML"
      ],
      "execution_count": 0,
      "outputs": []
    },
    {
      "cell_type": "code",
      "metadata": {
        "id": "xGJzaBrQA9CN",
        "colab_type": "code",
        "colab": {}
      },
      "source": [
        "# First set up the figure, the axis, and the plot element we want to animate\n",
        "fig, ax = plt.subplots()\n",
        "\n",
        "ax.set_xlim(( 0, wt_matrix.shape[1]))\n",
        "ax.set_ylim((-1500, 2500))\n",
        "\n",
        "line, = ax.plot([], [], lw=2)"
      ],
      "execution_count": 0,
      "outputs": []
    },
    {
      "cell_type": "code",
      "metadata": {
        "id": "xhXOnEYrBA8r",
        "colab_type": "code",
        "colab": {}
      },
      "source": [
        "# animation function. This is called sequentially\n",
        "def animate(i):\n",
        "    x = list(range(wt_matrix.shape[1]))\n",
        "    y = wt_matrix[i,:]\n",
        "    line.set_data(x, y)\n",
        "    return (line,)"
      ],
      "execution_count": 0,
      "outputs": []
    },
    {
      "cell_type": "code",
      "metadata": {
        "id": "_qFzaR0PBMs9",
        "colab_type": "code",
        "colab": {}
      },
      "source": [
        "# call the animator. blit=True means only re-draw the parts that have changed.\n",
        "anim = animation.FuncAnimation(fig, animate,frames=100, interval=200, blit=True)"
      ],
      "execution_count": 0,
      "outputs": []
    },
    {
      "cell_type": "code",
      "metadata": {
        "id": "PZKR_A1eBPYx",
        "colab_type": "code",
        "colab": {}
      },
      "source": [
        "HTML(anim.to_html5_video())"
      ],
      "execution_count": 0,
      "outputs": []
    },
    {
      "cell_type": "code",
      "metadata": {
        "id": "Hs4x3kzGDdBs",
        "colab_type": "code",
        "colab": {}
      },
      "source": [
        ""
      ],
      "execution_count": 0,
      "outputs": []
    }
  ]
}