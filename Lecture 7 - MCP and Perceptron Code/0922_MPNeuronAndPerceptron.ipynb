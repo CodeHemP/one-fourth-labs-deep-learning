{
  "nbformat": 4,
  "nbformat_minor": 0,
  "metadata": {
    "colab": {
      "name": "0922_MPNeuronAndPerceptron.ipynb",
      "provenance": [],
      "toc_visible": true
    },
    "kernelspec": {
      "name": "python3",
      "display_name": "Python 3"
    },
    "accelerator": "GPU"
  },
  "cells": [
    {
      "cell_type": "markdown",
      "metadata": {
        "id": "6Yo4uLb4-_Au",
        "colab_type": "text"
      },
      "source": [
        "# Loading Dataset"
      ]
    },
    {
      "cell_type": "code",
      "metadata": {
        "id": "utT2dIMV5qmg",
        "colab_type": "code",
        "colab": {}
      },
      "source": [
        "import sklearn.datasets\n",
        "import numpy as np"
      ],
      "execution_count": 0,
      "outputs": []
    },
    {
      "cell_type": "code",
      "metadata": {
        "id": "OqOJkuy47FLx",
        "colab_type": "code",
        "colab": {}
      },
      "source": [
        "breast_cancer = sklearn.datasets.load_breast_cancer()"
      ],
      "execution_count": 0,
      "outputs": []
    },
    {
      "cell_type": "code",
      "metadata": {
        "id": "aqos5aOo7WSb",
        "colab_type": "code",
        "outputId": "2486b2ac-d72b-4091-d642-2a34e019e4ad",
        "colab": {
          "base_uri": "https://localhost:8080/",
          "height": 0
        }
      },
      "source": [
        "type(breast_cancer)"
      ],
      "execution_count": 3,
      "outputs": [
        {
          "output_type": "execute_result",
          "data": {
            "text/plain": [
              "sklearn.utils.Bunch"
            ]
          },
          "metadata": {
            "tags": []
          },
          "execution_count": 3
        }
      ]
    },
    {
      "cell_type": "code",
      "metadata": {
        "id": "Gd-75xsK7YnC",
        "colab_type": "code",
        "colab": {}
      },
      "source": [
        "x = breast_cancer.data\n",
        "y = breast_cancer.target"
      ],
      "execution_count": 0,
      "outputs": []
    },
    {
      "cell_type": "code",
      "metadata": {
        "id": "kawmBWRV7p-U",
        "colab_type": "code",
        "outputId": "dc676754-12d8-454a-9cc0-309f88337624",
        "colab": {
          "base_uri": "https://localhost:8080/",
          "height": 0
        }
      },
      "source": [
        "type(x)"
      ],
      "execution_count": 5,
      "outputs": [
        {
          "output_type": "execute_result",
          "data": {
            "text/plain": [
              "numpy.ndarray"
            ]
          },
          "metadata": {
            "tags": []
          },
          "execution_count": 5
        }
      ]
    },
    {
      "cell_type": "code",
      "metadata": {
        "id": "qu8TN6jW7q8s",
        "colab_type": "code",
        "outputId": "08541fde-5dc8-4118-d7de-176021720241",
        "colab": {
          "base_uri": "https://localhost:8080/",
          "height": 0
        }
      },
      "source": [
        "x.shape, y.shape"
      ],
      "execution_count": 6,
      "outputs": [
        {
          "output_type": "execute_result",
          "data": {
            "text/plain": [
              "((569, 30), (569,))"
            ]
          },
          "metadata": {
            "tags": []
          },
          "execution_count": 6
        }
      ]
    },
    {
      "cell_type": "code",
      "metadata": {
        "id": "xAgDl6Me8NMM",
        "colab_type": "code",
        "outputId": "4e490901-c08d-4f85-b5d1-85dd8c6580f6",
        "colab": {
          "base_uri": "https://localhost:8080/",
          "height": 0
        }
      },
      "source": [
        "print(breast_cancer.feature_names)"
      ],
      "execution_count": 7,
      "outputs": [
        {
          "output_type": "stream",
          "text": [
            "['mean radius' 'mean texture' 'mean perimeter' 'mean area'\n",
            " 'mean smoothness' 'mean compactness' 'mean concavity'\n",
            " 'mean concave points' 'mean symmetry' 'mean fractal dimension'\n",
            " 'radius error' 'texture error' 'perimeter error' 'area error'\n",
            " 'smoothness error' 'compactness error' 'concavity error'\n",
            " 'concave points error' 'symmetry error' 'fractal dimension error'\n",
            " 'worst radius' 'worst texture' 'worst perimeter' 'worst area'\n",
            " 'worst smoothness' 'worst compactness' 'worst concavity'\n",
            " 'worst concave points' 'worst symmetry' 'worst fractal dimension']\n"
          ],
          "name": "stdout"
        }
      ]
    },
    {
      "cell_type": "code",
      "metadata": {
        "id": "OJb0wr4l72B0",
        "colab_type": "code",
        "colab": {}
      },
      "source": [
        "import pandas as pd"
      ],
      "execution_count": 0,
      "outputs": []
    },
    {
      "cell_type": "code",
      "metadata": {
        "id": "1bvj_KnQ7_SA",
        "colab_type": "code",
        "colab": {}
      },
      "source": [
        "df = pd.DataFrame(breast_cancer.data,columns = breast_cancer.feature_names)"
      ],
      "execution_count": 0,
      "outputs": []
    },
    {
      "cell_type": "code",
      "metadata": {
        "id": "h77lLeKW8Kd2",
        "colab_type": "code",
        "outputId": "da0afbd7-1e22-4f55-e464-86cbd4e84f87",
        "colab": {
          "base_uri": "https://localhost:8080/",
          "height": 0
        }
      },
      "source": [
        "df.head()"
      ],
      "execution_count": 10,
      "outputs": [
        {
          "output_type": "execute_result",
          "data": {
            "text/html": [
              "<div>\n",
              "<style scoped>\n",
              "    .dataframe tbody tr th:only-of-type {\n",
              "        vertical-align: middle;\n",
              "    }\n",
              "\n",
              "    .dataframe tbody tr th {\n",
              "        vertical-align: top;\n",
              "    }\n",
              "\n",
              "    .dataframe thead th {\n",
              "        text-align: right;\n",
              "    }\n",
              "</style>\n",
              "<table border=\"1\" class=\"dataframe\">\n",
              "  <thead>\n",
              "    <tr style=\"text-align: right;\">\n",
              "      <th></th>\n",
              "      <th>mean radius</th>\n",
              "      <th>mean texture</th>\n",
              "      <th>mean perimeter</th>\n",
              "      <th>mean area</th>\n",
              "      <th>mean smoothness</th>\n",
              "      <th>mean compactness</th>\n",
              "      <th>mean concavity</th>\n",
              "      <th>mean concave points</th>\n",
              "      <th>mean symmetry</th>\n",
              "      <th>mean fractal dimension</th>\n",
              "      <th>radius error</th>\n",
              "      <th>texture error</th>\n",
              "      <th>perimeter error</th>\n",
              "      <th>area error</th>\n",
              "      <th>smoothness error</th>\n",
              "      <th>compactness error</th>\n",
              "      <th>concavity error</th>\n",
              "      <th>concave points error</th>\n",
              "      <th>symmetry error</th>\n",
              "      <th>fractal dimension error</th>\n",
              "      <th>worst radius</th>\n",
              "      <th>worst texture</th>\n",
              "      <th>worst perimeter</th>\n",
              "      <th>worst area</th>\n",
              "      <th>worst smoothness</th>\n",
              "      <th>worst compactness</th>\n",
              "      <th>worst concavity</th>\n",
              "      <th>worst concave points</th>\n",
              "      <th>worst symmetry</th>\n",
              "      <th>worst fractal dimension</th>\n",
              "    </tr>\n",
              "  </thead>\n",
              "  <tbody>\n",
              "    <tr>\n",
              "      <th>0</th>\n",
              "      <td>17.99</td>\n",
              "      <td>10.38</td>\n",
              "      <td>122.80</td>\n",
              "      <td>1001.0</td>\n",
              "      <td>0.11840</td>\n",
              "      <td>0.27760</td>\n",
              "      <td>0.3001</td>\n",
              "      <td>0.14710</td>\n",
              "      <td>0.2419</td>\n",
              "      <td>0.07871</td>\n",
              "      <td>1.0950</td>\n",
              "      <td>0.9053</td>\n",
              "      <td>8.589</td>\n",
              "      <td>153.40</td>\n",
              "      <td>0.006399</td>\n",
              "      <td>0.04904</td>\n",
              "      <td>0.05373</td>\n",
              "      <td>0.01587</td>\n",
              "      <td>0.03003</td>\n",
              "      <td>0.006193</td>\n",
              "      <td>25.38</td>\n",
              "      <td>17.33</td>\n",
              "      <td>184.60</td>\n",
              "      <td>2019.0</td>\n",
              "      <td>0.1622</td>\n",
              "      <td>0.6656</td>\n",
              "      <td>0.7119</td>\n",
              "      <td>0.2654</td>\n",
              "      <td>0.4601</td>\n",
              "      <td>0.11890</td>\n",
              "    </tr>\n",
              "    <tr>\n",
              "      <th>1</th>\n",
              "      <td>20.57</td>\n",
              "      <td>17.77</td>\n",
              "      <td>132.90</td>\n",
              "      <td>1326.0</td>\n",
              "      <td>0.08474</td>\n",
              "      <td>0.07864</td>\n",
              "      <td>0.0869</td>\n",
              "      <td>0.07017</td>\n",
              "      <td>0.1812</td>\n",
              "      <td>0.05667</td>\n",
              "      <td>0.5435</td>\n",
              "      <td>0.7339</td>\n",
              "      <td>3.398</td>\n",
              "      <td>74.08</td>\n",
              "      <td>0.005225</td>\n",
              "      <td>0.01308</td>\n",
              "      <td>0.01860</td>\n",
              "      <td>0.01340</td>\n",
              "      <td>0.01389</td>\n",
              "      <td>0.003532</td>\n",
              "      <td>24.99</td>\n",
              "      <td>23.41</td>\n",
              "      <td>158.80</td>\n",
              "      <td>1956.0</td>\n",
              "      <td>0.1238</td>\n",
              "      <td>0.1866</td>\n",
              "      <td>0.2416</td>\n",
              "      <td>0.1860</td>\n",
              "      <td>0.2750</td>\n",
              "      <td>0.08902</td>\n",
              "    </tr>\n",
              "    <tr>\n",
              "      <th>2</th>\n",
              "      <td>19.69</td>\n",
              "      <td>21.25</td>\n",
              "      <td>130.00</td>\n",
              "      <td>1203.0</td>\n",
              "      <td>0.10960</td>\n",
              "      <td>0.15990</td>\n",
              "      <td>0.1974</td>\n",
              "      <td>0.12790</td>\n",
              "      <td>0.2069</td>\n",
              "      <td>0.05999</td>\n",
              "      <td>0.7456</td>\n",
              "      <td>0.7869</td>\n",
              "      <td>4.585</td>\n",
              "      <td>94.03</td>\n",
              "      <td>0.006150</td>\n",
              "      <td>0.04006</td>\n",
              "      <td>0.03832</td>\n",
              "      <td>0.02058</td>\n",
              "      <td>0.02250</td>\n",
              "      <td>0.004571</td>\n",
              "      <td>23.57</td>\n",
              "      <td>25.53</td>\n",
              "      <td>152.50</td>\n",
              "      <td>1709.0</td>\n",
              "      <td>0.1444</td>\n",
              "      <td>0.4245</td>\n",
              "      <td>0.4504</td>\n",
              "      <td>0.2430</td>\n",
              "      <td>0.3613</td>\n",
              "      <td>0.08758</td>\n",
              "    </tr>\n",
              "    <tr>\n",
              "      <th>3</th>\n",
              "      <td>11.42</td>\n",
              "      <td>20.38</td>\n",
              "      <td>77.58</td>\n",
              "      <td>386.1</td>\n",
              "      <td>0.14250</td>\n",
              "      <td>0.28390</td>\n",
              "      <td>0.2414</td>\n",
              "      <td>0.10520</td>\n",
              "      <td>0.2597</td>\n",
              "      <td>0.09744</td>\n",
              "      <td>0.4956</td>\n",
              "      <td>1.1560</td>\n",
              "      <td>3.445</td>\n",
              "      <td>27.23</td>\n",
              "      <td>0.009110</td>\n",
              "      <td>0.07458</td>\n",
              "      <td>0.05661</td>\n",
              "      <td>0.01867</td>\n",
              "      <td>0.05963</td>\n",
              "      <td>0.009208</td>\n",
              "      <td>14.91</td>\n",
              "      <td>26.50</td>\n",
              "      <td>98.87</td>\n",
              "      <td>567.7</td>\n",
              "      <td>0.2098</td>\n",
              "      <td>0.8663</td>\n",
              "      <td>0.6869</td>\n",
              "      <td>0.2575</td>\n",
              "      <td>0.6638</td>\n",
              "      <td>0.17300</td>\n",
              "    </tr>\n",
              "    <tr>\n",
              "      <th>4</th>\n",
              "      <td>20.29</td>\n",
              "      <td>14.34</td>\n",
              "      <td>135.10</td>\n",
              "      <td>1297.0</td>\n",
              "      <td>0.10030</td>\n",
              "      <td>0.13280</td>\n",
              "      <td>0.1980</td>\n",
              "      <td>0.10430</td>\n",
              "      <td>0.1809</td>\n",
              "      <td>0.05883</td>\n",
              "      <td>0.7572</td>\n",
              "      <td>0.7813</td>\n",
              "      <td>5.438</td>\n",
              "      <td>94.44</td>\n",
              "      <td>0.011490</td>\n",
              "      <td>0.02461</td>\n",
              "      <td>0.05688</td>\n",
              "      <td>0.01885</td>\n",
              "      <td>0.01756</td>\n",
              "      <td>0.005115</td>\n",
              "      <td>22.54</td>\n",
              "      <td>16.67</td>\n",
              "      <td>152.20</td>\n",
              "      <td>1575.0</td>\n",
              "      <td>0.1374</td>\n",
              "      <td>0.2050</td>\n",
              "      <td>0.4000</td>\n",
              "      <td>0.1625</td>\n",
              "      <td>0.2364</td>\n",
              "      <td>0.07678</td>\n",
              "    </tr>\n",
              "  </tbody>\n",
              "</table>\n",
              "</div>"
            ],
            "text/plain": [
              "   mean radius  mean texture  ...  worst symmetry  worst fractal dimension\n",
              "0        17.99         10.38  ...          0.4601                  0.11890\n",
              "1        20.57         17.77  ...          0.2750                  0.08902\n",
              "2        19.69         21.25  ...          0.3613                  0.08758\n",
              "3        11.42         20.38  ...          0.6638                  0.17300\n",
              "4        20.29         14.34  ...          0.2364                  0.07678\n",
              "\n",
              "[5 rows x 30 columns]"
            ]
          },
          "metadata": {
            "tags": []
          },
          "execution_count": 10
        }
      ]
    },
    {
      "cell_type": "code",
      "metadata": {
        "id": "mqEvl24o8Se8",
        "colab_type": "code",
        "colab": {}
      },
      "source": [
        "df['class'] = breast_cancer.target"
      ],
      "execution_count": 0,
      "outputs": []
    },
    {
      "cell_type": "code",
      "metadata": {
        "id": "reybcY8x8bgd",
        "colab_type": "code",
        "outputId": "3180f6cf-5099-4cd1-a758-fb4d6cd235af",
        "colab": {
          "base_uri": "https://localhost:8080/",
          "height": 0
        }
      },
      "source": [
        "df.head()"
      ],
      "execution_count": 12,
      "outputs": [
        {
          "output_type": "execute_result",
          "data": {
            "text/html": [
              "<div>\n",
              "<style scoped>\n",
              "    .dataframe tbody tr th:only-of-type {\n",
              "        vertical-align: middle;\n",
              "    }\n",
              "\n",
              "    .dataframe tbody tr th {\n",
              "        vertical-align: top;\n",
              "    }\n",
              "\n",
              "    .dataframe thead th {\n",
              "        text-align: right;\n",
              "    }\n",
              "</style>\n",
              "<table border=\"1\" class=\"dataframe\">\n",
              "  <thead>\n",
              "    <tr style=\"text-align: right;\">\n",
              "      <th></th>\n",
              "      <th>mean radius</th>\n",
              "      <th>mean texture</th>\n",
              "      <th>mean perimeter</th>\n",
              "      <th>mean area</th>\n",
              "      <th>mean smoothness</th>\n",
              "      <th>mean compactness</th>\n",
              "      <th>mean concavity</th>\n",
              "      <th>mean concave points</th>\n",
              "      <th>mean symmetry</th>\n",
              "      <th>mean fractal dimension</th>\n",
              "      <th>radius error</th>\n",
              "      <th>texture error</th>\n",
              "      <th>perimeter error</th>\n",
              "      <th>area error</th>\n",
              "      <th>smoothness error</th>\n",
              "      <th>compactness error</th>\n",
              "      <th>concavity error</th>\n",
              "      <th>concave points error</th>\n",
              "      <th>symmetry error</th>\n",
              "      <th>fractal dimension error</th>\n",
              "      <th>worst radius</th>\n",
              "      <th>worst texture</th>\n",
              "      <th>worst perimeter</th>\n",
              "      <th>worst area</th>\n",
              "      <th>worst smoothness</th>\n",
              "      <th>worst compactness</th>\n",
              "      <th>worst concavity</th>\n",
              "      <th>worst concave points</th>\n",
              "      <th>worst symmetry</th>\n",
              "      <th>worst fractal dimension</th>\n",
              "      <th>class</th>\n",
              "    </tr>\n",
              "  </thead>\n",
              "  <tbody>\n",
              "    <tr>\n",
              "      <th>0</th>\n",
              "      <td>17.99</td>\n",
              "      <td>10.38</td>\n",
              "      <td>122.80</td>\n",
              "      <td>1001.0</td>\n",
              "      <td>0.11840</td>\n",
              "      <td>0.27760</td>\n",
              "      <td>0.3001</td>\n",
              "      <td>0.14710</td>\n",
              "      <td>0.2419</td>\n",
              "      <td>0.07871</td>\n",
              "      <td>1.0950</td>\n",
              "      <td>0.9053</td>\n",
              "      <td>8.589</td>\n",
              "      <td>153.40</td>\n",
              "      <td>0.006399</td>\n",
              "      <td>0.04904</td>\n",
              "      <td>0.05373</td>\n",
              "      <td>0.01587</td>\n",
              "      <td>0.03003</td>\n",
              "      <td>0.006193</td>\n",
              "      <td>25.38</td>\n",
              "      <td>17.33</td>\n",
              "      <td>184.60</td>\n",
              "      <td>2019.0</td>\n",
              "      <td>0.1622</td>\n",
              "      <td>0.6656</td>\n",
              "      <td>0.7119</td>\n",
              "      <td>0.2654</td>\n",
              "      <td>0.4601</td>\n",
              "      <td>0.11890</td>\n",
              "      <td>0</td>\n",
              "    </tr>\n",
              "    <tr>\n",
              "      <th>1</th>\n",
              "      <td>20.57</td>\n",
              "      <td>17.77</td>\n",
              "      <td>132.90</td>\n",
              "      <td>1326.0</td>\n",
              "      <td>0.08474</td>\n",
              "      <td>0.07864</td>\n",
              "      <td>0.0869</td>\n",
              "      <td>0.07017</td>\n",
              "      <td>0.1812</td>\n",
              "      <td>0.05667</td>\n",
              "      <td>0.5435</td>\n",
              "      <td>0.7339</td>\n",
              "      <td>3.398</td>\n",
              "      <td>74.08</td>\n",
              "      <td>0.005225</td>\n",
              "      <td>0.01308</td>\n",
              "      <td>0.01860</td>\n",
              "      <td>0.01340</td>\n",
              "      <td>0.01389</td>\n",
              "      <td>0.003532</td>\n",
              "      <td>24.99</td>\n",
              "      <td>23.41</td>\n",
              "      <td>158.80</td>\n",
              "      <td>1956.0</td>\n",
              "      <td>0.1238</td>\n",
              "      <td>0.1866</td>\n",
              "      <td>0.2416</td>\n",
              "      <td>0.1860</td>\n",
              "      <td>0.2750</td>\n",
              "      <td>0.08902</td>\n",
              "      <td>0</td>\n",
              "    </tr>\n",
              "    <tr>\n",
              "      <th>2</th>\n",
              "      <td>19.69</td>\n",
              "      <td>21.25</td>\n",
              "      <td>130.00</td>\n",
              "      <td>1203.0</td>\n",
              "      <td>0.10960</td>\n",
              "      <td>0.15990</td>\n",
              "      <td>0.1974</td>\n",
              "      <td>0.12790</td>\n",
              "      <td>0.2069</td>\n",
              "      <td>0.05999</td>\n",
              "      <td>0.7456</td>\n",
              "      <td>0.7869</td>\n",
              "      <td>4.585</td>\n",
              "      <td>94.03</td>\n",
              "      <td>0.006150</td>\n",
              "      <td>0.04006</td>\n",
              "      <td>0.03832</td>\n",
              "      <td>0.02058</td>\n",
              "      <td>0.02250</td>\n",
              "      <td>0.004571</td>\n",
              "      <td>23.57</td>\n",
              "      <td>25.53</td>\n",
              "      <td>152.50</td>\n",
              "      <td>1709.0</td>\n",
              "      <td>0.1444</td>\n",
              "      <td>0.4245</td>\n",
              "      <td>0.4504</td>\n",
              "      <td>0.2430</td>\n",
              "      <td>0.3613</td>\n",
              "      <td>0.08758</td>\n",
              "      <td>0</td>\n",
              "    </tr>\n",
              "    <tr>\n",
              "      <th>3</th>\n",
              "      <td>11.42</td>\n",
              "      <td>20.38</td>\n",
              "      <td>77.58</td>\n",
              "      <td>386.1</td>\n",
              "      <td>0.14250</td>\n",
              "      <td>0.28390</td>\n",
              "      <td>0.2414</td>\n",
              "      <td>0.10520</td>\n",
              "      <td>0.2597</td>\n",
              "      <td>0.09744</td>\n",
              "      <td>0.4956</td>\n",
              "      <td>1.1560</td>\n",
              "      <td>3.445</td>\n",
              "      <td>27.23</td>\n",
              "      <td>0.009110</td>\n",
              "      <td>0.07458</td>\n",
              "      <td>0.05661</td>\n",
              "      <td>0.01867</td>\n",
              "      <td>0.05963</td>\n",
              "      <td>0.009208</td>\n",
              "      <td>14.91</td>\n",
              "      <td>26.50</td>\n",
              "      <td>98.87</td>\n",
              "      <td>567.7</td>\n",
              "      <td>0.2098</td>\n",
              "      <td>0.8663</td>\n",
              "      <td>0.6869</td>\n",
              "      <td>0.2575</td>\n",
              "      <td>0.6638</td>\n",
              "      <td>0.17300</td>\n",
              "      <td>0</td>\n",
              "    </tr>\n",
              "    <tr>\n",
              "      <th>4</th>\n",
              "      <td>20.29</td>\n",
              "      <td>14.34</td>\n",
              "      <td>135.10</td>\n",
              "      <td>1297.0</td>\n",
              "      <td>0.10030</td>\n",
              "      <td>0.13280</td>\n",
              "      <td>0.1980</td>\n",
              "      <td>0.10430</td>\n",
              "      <td>0.1809</td>\n",
              "      <td>0.05883</td>\n",
              "      <td>0.7572</td>\n",
              "      <td>0.7813</td>\n",
              "      <td>5.438</td>\n",
              "      <td>94.44</td>\n",
              "      <td>0.011490</td>\n",
              "      <td>0.02461</td>\n",
              "      <td>0.05688</td>\n",
              "      <td>0.01885</td>\n",
              "      <td>0.01756</td>\n",
              "      <td>0.005115</td>\n",
              "      <td>22.54</td>\n",
              "      <td>16.67</td>\n",
              "      <td>152.20</td>\n",
              "      <td>1575.0</td>\n",
              "      <td>0.1374</td>\n",
              "      <td>0.2050</td>\n",
              "      <td>0.4000</td>\n",
              "      <td>0.1625</td>\n",
              "      <td>0.2364</td>\n",
              "      <td>0.07678</td>\n",
              "      <td>0</td>\n",
              "    </tr>\n",
              "  </tbody>\n",
              "</table>\n",
              "</div>"
            ],
            "text/plain": [
              "   mean radius  mean texture  ...  worst fractal dimension  class\n",
              "0        17.99         10.38  ...                  0.11890      0\n",
              "1        20.57         17.77  ...                  0.08902      0\n",
              "2        19.69         21.25  ...                  0.08758      0\n",
              "3        11.42         20.38  ...                  0.17300      0\n",
              "4        20.29         14.34  ...                  0.07678      0\n",
              "\n",
              "[5 rows x 31 columns]"
            ]
          },
          "metadata": {
            "tags": []
          },
          "execution_count": 12
        }
      ]
    },
    {
      "cell_type": "code",
      "metadata": {
        "id": "8HBw6DVy8chJ",
        "colab_type": "code",
        "outputId": "7b168d8a-1ce7-4596-de50-94aa00e1293b",
        "colab": {
          "base_uri": "https://localhost:8080/",
          "height": 0
        }
      },
      "source": [
        "df.shape"
      ],
      "execution_count": 13,
      "outputs": [
        {
          "output_type": "execute_result",
          "data": {
            "text/plain": [
              "(569, 31)"
            ]
          },
          "metadata": {
            "tags": []
          },
          "execution_count": 13
        }
      ]
    },
    {
      "cell_type": "code",
      "metadata": {
        "id": "waeKl5iX8fmE",
        "colab_type": "code",
        "outputId": "0ff88939-198e-4d4b-f522-aae27b461774",
        "colab": {
          "base_uri": "https://localhost:8080/",
          "height": 0
        }
      },
      "source": [
        "df.describe()"
      ],
      "execution_count": 14,
      "outputs": [
        {
          "output_type": "execute_result",
          "data": {
            "text/html": [
              "<div>\n",
              "<style scoped>\n",
              "    .dataframe tbody tr th:only-of-type {\n",
              "        vertical-align: middle;\n",
              "    }\n",
              "\n",
              "    .dataframe tbody tr th {\n",
              "        vertical-align: top;\n",
              "    }\n",
              "\n",
              "    .dataframe thead th {\n",
              "        text-align: right;\n",
              "    }\n",
              "</style>\n",
              "<table border=\"1\" class=\"dataframe\">\n",
              "  <thead>\n",
              "    <tr style=\"text-align: right;\">\n",
              "      <th></th>\n",
              "      <th>mean radius</th>\n",
              "      <th>mean texture</th>\n",
              "      <th>mean perimeter</th>\n",
              "      <th>mean area</th>\n",
              "      <th>mean smoothness</th>\n",
              "      <th>mean compactness</th>\n",
              "      <th>mean concavity</th>\n",
              "      <th>mean concave points</th>\n",
              "      <th>mean symmetry</th>\n",
              "      <th>mean fractal dimension</th>\n",
              "      <th>radius error</th>\n",
              "      <th>texture error</th>\n",
              "      <th>perimeter error</th>\n",
              "      <th>area error</th>\n",
              "      <th>smoothness error</th>\n",
              "      <th>compactness error</th>\n",
              "      <th>concavity error</th>\n",
              "      <th>concave points error</th>\n",
              "      <th>symmetry error</th>\n",
              "      <th>fractal dimension error</th>\n",
              "      <th>worst radius</th>\n",
              "      <th>worst texture</th>\n",
              "      <th>worst perimeter</th>\n",
              "      <th>worst area</th>\n",
              "      <th>worst smoothness</th>\n",
              "      <th>worst compactness</th>\n",
              "      <th>worst concavity</th>\n",
              "      <th>worst concave points</th>\n",
              "      <th>worst symmetry</th>\n",
              "      <th>worst fractal dimension</th>\n",
              "      <th>class</th>\n",
              "    </tr>\n",
              "  </thead>\n",
              "  <tbody>\n",
              "    <tr>\n",
              "      <th>count</th>\n",
              "      <td>569.000000</td>\n",
              "      <td>569.000000</td>\n",
              "      <td>569.000000</td>\n",
              "      <td>569.000000</td>\n",
              "      <td>569.000000</td>\n",
              "      <td>569.000000</td>\n",
              "      <td>569.000000</td>\n",
              "      <td>569.000000</td>\n",
              "      <td>569.000000</td>\n",
              "      <td>569.000000</td>\n",
              "      <td>569.000000</td>\n",
              "      <td>569.000000</td>\n",
              "      <td>569.000000</td>\n",
              "      <td>569.000000</td>\n",
              "      <td>569.000000</td>\n",
              "      <td>569.000000</td>\n",
              "      <td>569.000000</td>\n",
              "      <td>569.000000</td>\n",
              "      <td>569.000000</td>\n",
              "      <td>569.000000</td>\n",
              "      <td>569.000000</td>\n",
              "      <td>569.000000</td>\n",
              "      <td>569.000000</td>\n",
              "      <td>569.000000</td>\n",
              "      <td>569.000000</td>\n",
              "      <td>569.000000</td>\n",
              "      <td>569.000000</td>\n",
              "      <td>569.000000</td>\n",
              "      <td>569.000000</td>\n",
              "      <td>569.000000</td>\n",
              "      <td>569.000000</td>\n",
              "    </tr>\n",
              "    <tr>\n",
              "      <th>mean</th>\n",
              "      <td>14.127292</td>\n",
              "      <td>19.289649</td>\n",
              "      <td>91.969033</td>\n",
              "      <td>654.889104</td>\n",
              "      <td>0.096360</td>\n",
              "      <td>0.104341</td>\n",
              "      <td>0.088799</td>\n",
              "      <td>0.048919</td>\n",
              "      <td>0.181162</td>\n",
              "      <td>0.062798</td>\n",
              "      <td>0.405172</td>\n",
              "      <td>1.216853</td>\n",
              "      <td>2.866059</td>\n",
              "      <td>40.337079</td>\n",
              "      <td>0.007041</td>\n",
              "      <td>0.025478</td>\n",
              "      <td>0.031894</td>\n",
              "      <td>0.011796</td>\n",
              "      <td>0.020542</td>\n",
              "      <td>0.003795</td>\n",
              "      <td>16.269190</td>\n",
              "      <td>25.677223</td>\n",
              "      <td>107.261213</td>\n",
              "      <td>880.583128</td>\n",
              "      <td>0.132369</td>\n",
              "      <td>0.254265</td>\n",
              "      <td>0.272188</td>\n",
              "      <td>0.114606</td>\n",
              "      <td>0.290076</td>\n",
              "      <td>0.083946</td>\n",
              "      <td>0.627417</td>\n",
              "    </tr>\n",
              "    <tr>\n",
              "      <th>std</th>\n",
              "      <td>3.524049</td>\n",
              "      <td>4.301036</td>\n",
              "      <td>24.298981</td>\n",
              "      <td>351.914129</td>\n",
              "      <td>0.014064</td>\n",
              "      <td>0.052813</td>\n",
              "      <td>0.079720</td>\n",
              "      <td>0.038803</td>\n",
              "      <td>0.027414</td>\n",
              "      <td>0.007060</td>\n",
              "      <td>0.277313</td>\n",
              "      <td>0.551648</td>\n",
              "      <td>2.021855</td>\n",
              "      <td>45.491006</td>\n",
              "      <td>0.003003</td>\n",
              "      <td>0.017908</td>\n",
              "      <td>0.030186</td>\n",
              "      <td>0.006170</td>\n",
              "      <td>0.008266</td>\n",
              "      <td>0.002646</td>\n",
              "      <td>4.833242</td>\n",
              "      <td>6.146258</td>\n",
              "      <td>33.602542</td>\n",
              "      <td>569.356993</td>\n",
              "      <td>0.022832</td>\n",
              "      <td>0.157336</td>\n",
              "      <td>0.208624</td>\n",
              "      <td>0.065732</td>\n",
              "      <td>0.061867</td>\n",
              "      <td>0.018061</td>\n",
              "      <td>0.483918</td>\n",
              "    </tr>\n",
              "    <tr>\n",
              "      <th>min</th>\n",
              "      <td>6.981000</td>\n",
              "      <td>9.710000</td>\n",
              "      <td>43.790000</td>\n",
              "      <td>143.500000</td>\n",
              "      <td>0.052630</td>\n",
              "      <td>0.019380</td>\n",
              "      <td>0.000000</td>\n",
              "      <td>0.000000</td>\n",
              "      <td>0.106000</td>\n",
              "      <td>0.049960</td>\n",
              "      <td>0.111500</td>\n",
              "      <td>0.360200</td>\n",
              "      <td>0.757000</td>\n",
              "      <td>6.802000</td>\n",
              "      <td>0.001713</td>\n",
              "      <td>0.002252</td>\n",
              "      <td>0.000000</td>\n",
              "      <td>0.000000</td>\n",
              "      <td>0.007882</td>\n",
              "      <td>0.000895</td>\n",
              "      <td>7.930000</td>\n",
              "      <td>12.020000</td>\n",
              "      <td>50.410000</td>\n",
              "      <td>185.200000</td>\n",
              "      <td>0.071170</td>\n",
              "      <td>0.027290</td>\n",
              "      <td>0.000000</td>\n",
              "      <td>0.000000</td>\n",
              "      <td>0.156500</td>\n",
              "      <td>0.055040</td>\n",
              "      <td>0.000000</td>\n",
              "    </tr>\n",
              "    <tr>\n",
              "      <th>25%</th>\n",
              "      <td>11.700000</td>\n",
              "      <td>16.170000</td>\n",
              "      <td>75.170000</td>\n",
              "      <td>420.300000</td>\n",
              "      <td>0.086370</td>\n",
              "      <td>0.064920</td>\n",
              "      <td>0.029560</td>\n",
              "      <td>0.020310</td>\n",
              "      <td>0.161900</td>\n",
              "      <td>0.057700</td>\n",
              "      <td>0.232400</td>\n",
              "      <td>0.833900</td>\n",
              "      <td>1.606000</td>\n",
              "      <td>17.850000</td>\n",
              "      <td>0.005169</td>\n",
              "      <td>0.013080</td>\n",
              "      <td>0.015090</td>\n",
              "      <td>0.007638</td>\n",
              "      <td>0.015160</td>\n",
              "      <td>0.002248</td>\n",
              "      <td>13.010000</td>\n",
              "      <td>21.080000</td>\n",
              "      <td>84.110000</td>\n",
              "      <td>515.300000</td>\n",
              "      <td>0.116600</td>\n",
              "      <td>0.147200</td>\n",
              "      <td>0.114500</td>\n",
              "      <td>0.064930</td>\n",
              "      <td>0.250400</td>\n",
              "      <td>0.071460</td>\n",
              "      <td>0.000000</td>\n",
              "    </tr>\n",
              "    <tr>\n",
              "      <th>50%</th>\n",
              "      <td>13.370000</td>\n",
              "      <td>18.840000</td>\n",
              "      <td>86.240000</td>\n",
              "      <td>551.100000</td>\n",
              "      <td>0.095870</td>\n",
              "      <td>0.092630</td>\n",
              "      <td>0.061540</td>\n",
              "      <td>0.033500</td>\n",
              "      <td>0.179200</td>\n",
              "      <td>0.061540</td>\n",
              "      <td>0.324200</td>\n",
              "      <td>1.108000</td>\n",
              "      <td>2.287000</td>\n",
              "      <td>24.530000</td>\n",
              "      <td>0.006380</td>\n",
              "      <td>0.020450</td>\n",
              "      <td>0.025890</td>\n",
              "      <td>0.010930</td>\n",
              "      <td>0.018730</td>\n",
              "      <td>0.003187</td>\n",
              "      <td>14.970000</td>\n",
              "      <td>25.410000</td>\n",
              "      <td>97.660000</td>\n",
              "      <td>686.500000</td>\n",
              "      <td>0.131300</td>\n",
              "      <td>0.211900</td>\n",
              "      <td>0.226700</td>\n",
              "      <td>0.099930</td>\n",
              "      <td>0.282200</td>\n",
              "      <td>0.080040</td>\n",
              "      <td>1.000000</td>\n",
              "    </tr>\n",
              "    <tr>\n",
              "      <th>75%</th>\n",
              "      <td>15.780000</td>\n",
              "      <td>21.800000</td>\n",
              "      <td>104.100000</td>\n",
              "      <td>782.700000</td>\n",
              "      <td>0.105300</td>\n",
              "      <td>0.130400</td>\n",
              "      <td>0.130700</td>\n",
              "      <td>0.074000</td>\n",
              "      <td>0.195700</td>\n",
              "      <td>0.066120</td>\n",
              "      <td>0.478900</td>\n",
              "      <td>1.474000</td>\n",
              "      <td>3.357000</td>\n",
              "      <td>45.190000</td>\n",
              "      <td>0.008146</td>\n",
              "      <td>0.032450</td>\n",
              "      <td>0.042050</td>\n",
              "      <td>0.014710</td>\n",
              "      <td>0.023480</td>\n",
              "      <td>0.004558</td>\n",
              "      <td>18.790000</td>\n",
              "      <td>29.720000</td>\n",
              "      <td>125.400000</td>\n",
              "      <td>1084.000000</td>\n",
              "      <td>0.146000</td>\n",
              "      <td>0.339100</td>\n",
              "      <td>0.382900</td>\n",
              "      <td>0.161400</td>\n",
              "      <td>0.317900</td>\n",
              "      <td>0.092080</td>\n",
              "      <td>1.000000</td>\n",
              "    </tr>\n",
              "    <tr>\n",
              "      <th>max</th>\n",
              "      <td>28.110000</td>\n",
              "      <td>39.280000</td>\n",
              "      <td>188.500000</td>\n",
              "      <td>2501.000000</td>\n",
              "      <td>0.163400</td>\n",
              "      <td>0.345400</td>\n",
              "      <td>0.426800</td>\n",
              "      <td>0.201200</td>\n",
              "      <td>0.304000</td>\n",
              "      <td>0.097440</td>\n",
              "      <td>2.873000</td>\n",
              "      <td>4.885000</td>\n",
              "      <td>21.980000</td>\n",
              "      <td>542.200000</td>\n",
              "      <td>0.031130</td>\n",
              "      <td>0.135400</td>\n",
              "      <td>0.396000</td>\n",
              "      <td>0.052790</td>\n",
              "      <td>0.078950</td>\n",
              "      <td>0.029840</td>\n",
              "      <td>36.040000</td>\n",
              "      <td>49.540000</td>\n",
              "      <td>251.200000</td>\n",
              "      <td>4254.000000</td>\n",
              "      <td>0.222600</td>\n",
              "      <td>1.058000</td>\n",
              "      <td>1.252000</td>\n",
              "      <td>0.291000</td>\n",
              "      <td>0.663800</td>\n",
              "      <td>0.207500</td>\n",
              "      <td>1.000000</td>\n",
              "    </tr>\n",
              "  </tbody>\n",
              "</table>\n",
              "</div>"
            ],
            "text/plain": [
              "       mean radius  mean texture  ...  worst fractal dimension       class\n",
              "count   569.000000    569.000000  ...               569.000000  569.000000\n",
              "mean     14.127292     19.289649  ...                 0.083946    0.627417\n",
              "std       3.524049      4.301036  ...                 0.018061    0.483918\n",
              "min       6.981000      9.710000  ...                 0.055040    0.000000\n",
              "25%      11.700000     16.170000  ...                 0.071460    0.000000\n",
              "50%      13.370000     18.840000  ...                 0.080040    1.000000\n",
              "75%      15.780000     21.800000  ...                 0.092080    1.000000\n",
              "max      28.110000     39.280000  ...                 0.207500    1.000000\n",
              "\n",
              "[8 rows x 31 columns]"
            ]
          },
          "metadata": {
            "tags": []
          },
          "execution_count": 14
        }
      ]
    },
    {
      "cell_type": "code",
      "metadata": {
        "id": "mc5R53Lx8nCr",
        "colab_type": "code",
        "outputId": "26a57476-7801-4563-f823-720daae9f5f9",
        "colab": {
          "base_uri": "https://localhost:8080/",
          "height": 0
        }
      },
      "source": [
        "df['class'].value_counts()"
      ],
      "execution_count": 15,
      "outputs": [
        {
          "output_type": "execute_result",
          "data": {
            "text/plain": [
              "1    357\n",
              "0    212\n",
              "Name: class, dtype: int64"
            ]
          },
          "metadata": {
            "tags": []
          },
          "execution_count": 15
        }
      ]
    },
    {
      "cell_type": "code",
      "metadata": {
        "id": "jem3N0-987mt",
        "colab_type": "code",
        "outputId": "7a78b6aa-168b-486f-ce05-982b047d85f8",
        "colab": {
          "base_uri": "https://localhost:8080/",
          "height": 0
        }
      },
      "source": [
        "print(breast_cancer.target_names)"
      ],
      "execution_count": 16,
      "outputs": [
        {
          "output_type": "stream",
          "text": [
            "['malignant' 'benign']\n"
          ],
          "name": "stdout"
        }
      ]
    },
    {
      "cell_type": "code",
      "metadata": {
        "id": "PvvA6XDaT7as",
        "colab_type": "code",
        "colab": {
          "base_uri": "https://localhost:8080/",
          "height": 0
        },
        "outputId": "bbe7f299-3c0e-4b2a-d894-d5510dece511"
      },
      "source": [
        "df.groupby('class').mean()"
      ],
      "execution_count": 17,
      "outputs": [
        {
          "output_type": "execute_result",
          "data": {
            "text/html": [
              "<div>\n",
              "<style scoped>\n",
              "    .dataframe tbody tr th:only-of-type {\n",
              "        vertical-align: middle;\n",
              "    }\n",
              "\n",
              "    .dataframe tbody tr th {\n",
              "        vertical-align: top;\n",
              "    }\n",
              "\n",
              "    .dataframe thead th {\n",
              "        text-align: right;\n",
              "    }\n",
              "</style>\n",
              "<table border=\"1\" class=\"dataframe\">\n",
              "  <thead>\n",
              "    <tr style=\"text-align: right;\">\n",
              "      <th></th>\n",
              "      <th>mean radius</th>\n",
              "      <th>mean texture</th>\n",
              "      <th>mean perimeter</th>\n",
              "      <th>mean area</th>\n",
              "      <th>mean smoothness</th>\n",
              "      <th>mean compactness</th>\n",
              "      <th>mean concavity</th>\n",
              "      <th>mean concave points</th>\n",
              "      <th>mean symmetry</th>\n",
              "      <th>mean fractal dimension</th>\n",
              "      <th>radius error</th>\n",
              "      <th>texture error</th>\n",
              "      <th>perimeter error</th>\n",
              "      <th>area error</th>\n",
              "      <th>smoothness error</th>\n",
              "      <th>compactness error</th>\n",
              "      <th>concavity error</th>\n",
              "      <th>concave points error</th>\n",
              "      <th>symmetry error</th>\n",
              "      <th>fractal dimension error</th>\n",
              "      <th>worst radius</th>\n",
              "      <th>worst texture</th>\n",
              "      <th>worst perimeter</th>\n",
              "      <th>worst area</th>\n",
              "      <th>worst smoothness</th>\n",
              "      <th>worst compactness</th>\n",
              "      <th>worst concavity</th>\n",
              "      <th>worst concave points</th>\n",
              "      <th>worst symmetry</th>\n",
              "      <th>worst fractal dimension</th>\n",
              "    </tr>\n",
              "    <tr>\n",
              "      <th>class</th>\n",
              "      <th></th>\n",
              "      <th></th>\n",
              "      <th></th>\n",
              "      <th></th>\n",
              "      <th></th>\n",
              "      <th></th>\n",
              "      <th></th>\n",
              "      <th></th>\n",
              "      <th></th>\n",
              "      <th></th>\n",
              "      <th></th>\n",
              "      <th></th>\n",
              "      <th></th>\n",
              "      <th></th>\n",
              "      <th></th>\n",
              "      <th></th>\n",
              "      <th></th>\n",
              "      <th></th>\n",
              "      <th></th>\n",
              "      <th></th>\n",
              "      <th></th>\n",
              "      <th></th>\n",
              "      <th></th>\n",
              "      <th></th>\n",
              "      <th></th>\n",
              "      <th></th>\n",
              "      <th></th>\n",
              "      <th></th>\n",
              "      <th></th>\n",
              "      <th></th>\n",
              "    </tr>\n",
              "  </thead>\n",
              "  <tbody>\n",
              "    <tr>\n",
              "      <th>0</th>\n",
              "      <td>17.462830</td>\n",
              "      <td>21.604906</td>\n",
              "      <td>115.365377</td>\n",
              "      <td>978.376415</td>\n",
              "      <td>0.102898</td>\n",
              "      <td>0.145188</td>\n",
              "      <td>0.160775</td>\n",
              "      <td>0.087990</td>\n",
              "      <td>0.192909</td>\n",
              "      <td>0.062680</td>\n",
              "      <td>0.609083</td>\n",
              "      <td>1.210915</td>\n",
              "      <td>4.323929</td>\n",
              "      <td>72.672406</td>\n",
              "      <td>0.006780</td>\n",
              "      <td>0.032281</td>\n",
              "      <td>0.041824</td>\n",
              "      <td>0.015060</td>\n",
              "      <td>0.020472</td>\n",
              "      <td>0.004062</td>\n",
              "      <td>21.134811</td>\n",
              "      <td>29.318208</td>\n",
              "      <td>141.370330</td>\n",
              "      <td>1422.286321</td>\n",
              "      <td>0.144845</td>\n",
              "      <td>0.374824</td>\n",
              "      <td>0.450606</td>\n",
              "      <td>0.182237</td>\n",
              "      <td>0.323468</td>\n",
              "      <td>0.091530</td>\n",
              "    </tr>\n",
              "    <tr>\n",
              "      <th>1</th>\n",
              "      <td>12.146524</td>\n",
              "      <td>17.914762</td>\n",
              "      <td>78.075406</td>\n",
              "      <td>462.790196</td>\n",
              "      <td>0.092478</td>\n",
              "      <td>0.080085</td>\n",
              "      <td>0.046058</td>\n",
              "      <td>0.025717</td>\n",
              "      <td>0.174186</td>\n",
              "      <td>0.062867</td>\n",
              "      <td>0.284082</td>\n",
              "      <td>1.220380</td>\n",
              "      <td>2.000321</td>\n",
              "      <td>21.135148</td>\n",
              "      <td>0.007196</td>\n",
              "      <td>0.021438</td>\n",
              "      <td>0.025997</td>\n",
              "      <td>0.009858</td>\n",
              "      <td>0.020584</td>\n",
              "      <td>0.003636</td>\n",
              "      <td>13.379801</td>\n",
              "      <td>23.515070</td>\n",
              "      <td>87.005938</td>\n",
              "      <td>558.899440</td>\n",
              "      <td>0.124959</td>\n",
              "      <td>0.182673</td>\n",
              "      <td>0.166238</td>\n",
              "      <td>0.074444</td>\n",
              "      <td>0.270246</td>\n",
              "      <td>0.079442</td>\n",
              "    </tr>\n",
              "  </tbody>\n",
              "</table>\n",
              "</div>"
            ],
            "text/plain": [
              "       mean radius  mean texture  ...  worst symmetry  worst fractal dimension\n",
              "class                             ...                                         \n",
              "0        17.462830     21.604906  ...        0.323468                 0.091530\n",
              "1        12.146524     17.914762  ...        0.270246                 0.079442\n",
              "\n",
              "[2 rows x 30 columns]"
            ]
          },
          "metadata": {
            "tags": []
          },
          "execution_count": 17
        }
      ]
    },
    {
      "cell_type": "markdown",
      "metadata": {
        "id": "o2nAwqwl_CfQ",
        "colab_type": "text"
      },
      "source": [
        "# Split Data"
      ]
    },
    {
      "cell_type": "code",
      "metadata": {
        "id": "K_p951AE_JUe",
        "colab_type": "code",
        "colab": {}
      },
      "source": [
        "from sklearn.model_selection import train_test_split"
      ],
      "execution_count": 0,
      "outputs": []
    },
    {
      "cell_type": "code",
      "metadata": {
        "id": "HSCNZ0TtBUCV",
        "colab_type": "code",
        "colab": {}
      },
      "source": [
        "x = df.drop('class',axis = 1)\n",
        "y = df['class']"
      ],
      "execution_count": 0,
      "outputs": []
    },
    {
      "cell_type": "code",
      "metadata": {
        "id": "_3DRG8sa_nzS",
        "colab_type": "code",
        "colab": {}
      },
      "source": [
        "x_train,x_test, y_train,y_test = train_test_split(x,y)"
      ],
      "execution_count": 0,
      "outputs": []
    },
    {
      "cell_type": "code",
      "metadata": {
        "id": "O__Lr9oxBQ-y",
        "colab_type": "code",
        "outputId": "1e41e0df-5ceb-4d7c-d24b-8d5781a8deb4",
        "colab": {
          "base_uri": "https://localhost:8080/",
          "height": 0
        }
      },
      "source": [
        "x_train.shape"
      ],
      "execution_count": 21,
      "outputs": [
        {
          "output_type": "execute_result",
          "data": {
            "text/plain": [
              "(426, 30)"
            ]
          },
          "metadata": {
            "tags": []
          },
          "execution_count": 21
        }
      ]
    },
    {
      "cell_type": "code",
      "metadata": {
        "id": "-kvPG1P5BcVl",
        "colab_type": "code",
        "outputId": "b839a127-9542-42e0-c97f-e00416409fbc",
        "colab": {
          "base_uri": "https://localhost:8080/",
          "height": 0
        }
      },
      "source": [
        "x_train.head()"
      ],
      "execution_count": 22,
      "outputs": [
        {
          "output_type": "execute_result",
          "data": {
            "text/html": [
              "<div>\n",
              "<style scoped>\n",
              "    .dataframe tbody tr th:only-of-type {\n",
              "        vertical-align: middle;\n",
              "    }\n",
              "\n",
              "    .dataframe tbody tr th {\n",
              "        vertical-align: top;\n",
              "    }\n",
              "\n",
              "    .dataframe thead th {\n",
              "        text-align: right;\n",
              "    }\n",
              "</style>\n",
              "<table border=\"1\" class=\"dataframe\">\n",
              "  <thead>\n",
              "    <tr style=\"text-align: right;\">\n",
              "      <th></th>\n",
              "      <th>mean radius</th>\n",
              "      <th>mean texture</th>\n",
              "      <th>mean perimeter</th>\n",
              "      <th>mean area</th>\n",
              "      <th>mean smoothness</th>\n",
              "      <th>mean compactness</th>\n",
              "      <th>mean concavity</th>\n",
              "      <th>mean concave points</th>\n",
              "      <th>mean symmetry</th>\n",
              "      <th>mean fractal dimension</th>\n",
              "      <th>radius error</th>\n",
              "      <th>texture error</th>\n",
              "      <th>perimeter error</th>\n",
              "      <th>area error</th>\n",
              "      <th>smoothness error</th>\n",
              "      <th>compactness error</th>\n",
              "      <th>concavity error</th>\n",
              "      <th>concave points error</th>\n",
              "      <th>symmetry error</th>\n",
              "      <th>fractal dimension error</th>\n",
              "      <th>worst radius</th>\n",
              "      <th>worst texture</th>\n",
              "      <th>worst perimeter</th>\n",
              "      <th>worst area</th>\n",
              "      <th>worst smoothness</th>\n",
              "      <th>worst compactness</th>\n",
              "      <th>worst concavity</th>\n",
              "      <th>worst concave points</th>\n",
              "      <th>worst symmetry</th>\n",
              "      <th>worst fractal dimension</th>\n",
              "    </tr>\n",
              "  </thead>\n",
              "  <tbody>\n",
              "    <tr>\n",
              "      <th>275</th>\n",
              "      <td>11.89</td>\n",
              "      <td>17.36</td>\n",
              "      <td>76.20</td>\n",
              "      <td>435.6</td>\n",
              "      <td>0.12250</td>\n",
              "      <td>0.07210</td>\n",
              "      <td>0.05929</td>\n",
              "      <td>0.07404</td>\n",
              "      <td>0.2015</td>\n",
              "      <td>0.05875</td>\n",
              "      <td>0.6412</td>\n",
              "      <td>2.2930</td>\n",
              "      <td>4.021</td>\n",
              "      <td>48.84</td>\n",
              "      <td>0.014180</td>\n",
              "      <td>0.01489</td>\n",
              "      <td>0.01267</td>\n",
              "      <td>0.019100</td>\n",
              "      <td>0.02678</td>\n",
              "      <td>0.003002</td>\n",
              "      <td>12.40</td>\n",
              "      <td>18.99</td>\n",
              "      <td>79.46</td>\n",
              "      <td>472.4</td>\n",
              "      <td>0.1359</td>\n",
              "      <td>0.08368</td>\n",
              "      <td>0.07153</td>\n",
              "      <td>0.08946</td>\n",
              "      <td>0.2220</td>\n",
              "      <td>0.06033</td>\n",
              "    </tr>\n",
              "    <tr>\n",
              "      <th>154</th>\n",
              "      <td>13.15</td>\n",
              "      <td>15.34</td>\n",
              "      <td>85.31</td>\n",
              "      <td>538.9</td>\n",
              "      <td>0.09384</td>\n",
              "      <td>0.08498</td>\n",
              "      <td>0.09293</td>\n",
              "      <td>0.03483</td>\n",
              "      <td>0.1822</td>\n",
              "      <td>0.06207</td>\n",
              "      <td>0.2710</td>\n",
              "      <td>0.7927</td>\n",
              "      <td>1.819</td>\n",
              "      <td>22.79</td>\n",
              "      <td>0.008584</td>\n",
              "      <td>0.02017</td>\n",
              "      <td>0.03047</td>\n",
              "      <td>0.009536</td>\n",
              "      <td>0.02769</td>\n",
              "      <td>0.003479</td>\n",
              "      <td>14.77</td>\n",
              "      <td>20.50</td>\n",
              "      <td>97.67</td>\n",
              "      <td>677.3</td>\n",
              "      <td>0.1478</td>\n",
              "      <td>0.22560</td>\n",
              "      <td>0.30090</td>\n",
              "      <td>0.09722</td>\n",
              "      <td>0.3849</td>\n",
              "      <td>0.08633</td>\n",
              "    </tr>\n",
              "    <tr>\n",
              "      <th>499</th>\n",
              "      <td>20.59</td>\n",
              "      <td>21.24</td>\n",
              "      <td>137.80</td>\n",
              "      <td>1320.0</td>\n",
              "      <td>0.10850</td>\n",
              "      <td>0.16440</td>\n",
              "      <td>0.21880</td>\n",
              "      <td>0.11210</td>\n",
              "      <td>0.1848</td>\n",
              "      <td>0.06222</td>\n",
              "      <td>0.5904</td>\n",
              "      <td>1.2160</td>\n",
              "      <td>4.206</td>\n",
              "      <td>75.09</td>\n",
              "      <td>0.006666</td>\n",
              "      <td>0.02791</td>\n",
              "      <td>0.04062</td>\n",
              "      <td>0.014790</td>\n",
              "      <td>0.01117</td>\n",
              "      <td>0.003727</td>\n",
              "      <td>23.86</td>\n",
              "      <td>30.76</td>\n",
              "      <td>163.20</td>\n",
              "      <td>1760.0</td>\n",
              "      <td>0.1464</td>\n",
              "      <td>0.35970</td>\n",
              "      <td>0.51790</td>\n",
              "      <td>0.21130</td>\n",
              "      <td>0.2480</td>\n",
              "      <td>0.08999</td>\n",
              "    </tr>\n",
              "    <tr>\n",
              "      <th>297</th>\n",
              "      <td>11.76</td>\n",
              "      <td>18.14</td>\n",
              "      <td>75.00</td>\n",
              "      <td>431.1</td>\n",
              "      <td>0.09968</td>\n",
              "      <td>0.05914</td>\n",
              "      <td>0.02685</td>\n",
              "      <td>0.03515</td>\n",
              "      <td>0.1619</td>\n",
              "      <td>0.06287</td>\n",
              "      <td>0.6450</td>\n",
              "      <td>2.1050</td>\n",
              "      <td>4.138</td>\n",
              "      <td>49.11</td>\n",
              "      <td>0.005596</td>\n",
              "      <td>0.01005</td>\n",
              "      <td>0.01272</td>\n",
              "      <td>0.014320</td>\n",
              "      <td>0.01575</td>\n",
              "      <td>0.002758</td>\n",
              "      <td>13.36</td>\n",
              "      <td>23.39</td>\n",
              "      <td>85.10</td>\n",
              "      <td>553.6</td>\n",
              "      <td>0.1137</td>\n",
              "      <td>0.07974</td>\n",
              "      <td>0.06120</td>\n",
              "      <td>0.07160</td>\n",
              "      <td>0.1978</td>\n",
              "      <td>0.06915</td>\n",
              "    </tr>\n",
              "    <tr>\n",
              "      <th>328</th>\n",
              "      <td>16.27</td>\n",
              "      <td>20.71</td>\n",
              "      <td>106.90</td>\n",
              "      <td>813.7</td>\n",
              "      <td>0.11690</td>\n",
              "      <td>0.13190</td>\n",
              "      <td>0.14780</td>\n",
              "      <td>0.08488</td>\n",
              "      <td>0.1948</td>\n",
              "      <td>0.06277</td>\n",
              "      <td>0.4375</td>\n",
              "      <td>1.2320</td>\n",
              "      <td>3.270</td>\n",
              "      <td>44.41</td>\n",
              "      <td>0.006697</td>\n",
              "      <td>0.02083</td>\n",
              "      <td>0.03248</td>\n",
              "      <td>0.013920</td>\n",
              "      <td>0.01536</td>\n",
              "      <td>0.002789</td>\n",
              "      <td>19.28</td>\n",
              "      <td>30.38</td>\n",
              "      <td>129.80</td>\n",
              "      <td>1121.0</td>\n",
              "      <td>0.1590</td>\n",
              "      <td>0.29470</td>\n",
              "      <td>0.35970</td>\n",
              "      <td>0.15830</td>\n",
              "      <td>0.3103</td>\n",
              "      <td>0.08200</td>\n",
              "    </tr>\n",
              "  </tbody>\n",
              "</table>\n",
              "</div>"
            ],
            "text/plain": [
              "     mean radius  mean texture  ...  worst symmetry  worst fractal dimension\n",
              "275        11.89         17.36  ...          0.2220                  0.06033\n",
              "154        13.15         15.34  ...          0.3849                  0.08633\n",
              "499        20.59         21.24  ...          0.2480                  0.08999\n",
              "297        11.76         18.14  ...          0.1978                  0.06915\n",
              "328        16.27         20.71  ...          0.3103                  0.08200\n",
              "\n",
              "[5 rows x 30 columns]"
            ]
          },
          "metadata": {
            "tags": []
          },
          "execution_count": 22
        }
      ]
    },
    {
      "cell_type": "code",
      "metadata": {
        "id": "vloBctdYBerI",
        "colab_type": "code",
        "outputId": "5d178b57-4fec-4a06-832f-e20cf0e0c7b1",
        "colab": {
          "base_uri": "https://localhost:8080/",
          "height": 0
        }
      },
      "source": [
        "x_train.describe()"
      ],
      "execution_count": 23,
      "outputs": [
        {
          "output_type": "execute_result",
          "data": {
            "text/html": [
              "<div>\n",
              "<style scoped>\n",
              "    .dataframe tbody tr th:only-of-type {\n",
              "        vertical-align: middle;\n",
              "    }\n",
              "\n",
              "    .dataframe tbody tr th {\n",
              "        vertical-align: top;\n",
              "    }\n",
              "\n",
              "    .dataframe thead th {\n",
              "        text-align: right;\n",
              "    }\n",
              "</style>\n",
              "<table border=\"1\" class=\"dataframe\">\n",
              "  <thead>\n",
              "    <tr style=\"text-align: right;\">\n",
              "      <th></th>\n",
              "      <th>mean radius</th>\n",
              "      <th>mean texture</th>\n",
              "      <th>mean perimeter</th>\n",
              "      <th>mean area</th>\n",
              "      <th>mean smoothness</th>\n",
              "      <th>mean compactness</th>\n",
              "      <th>mean concavity</th>\n",
              "      <th>mean concave points</th>\n",
              "      <th>mean symmetry</th>\n",
              "      <th>mean fractal dimension</th>\n",
              "      <th>radius error</th>\n",
              "      <th>texture error</th>\n",
              "      <th>perimeter error</th>\n",
              "      <th>area error</th>\n",
              "      <th>smoothness error</th>\n",
              "      <th>compactness error</th>\n",
              "      <th>concavity error</th>\n",
              "      <th>concave points error</th>\n",
              "      <th>symmetry error</th>\n",
              "      <th>fractal dimension error</th>\n",
              "      <th>worst radius</th>\n",
              "      <th>worst texture</th>\n",
              "      <th>worst perimeter</th>\n",
              "      <th>worst area</th>\n",
              "      <th>worst smoothness</th>\n",
              "      <th>worst compactness</th>\n",
              "      <th>worst concavity</th>\n",
              "      <th>worst concave points</th>\n",
              "      <th>worst symmetry</th>\n",
              "      <th>worst fractal dimension</th>\n",
              "    </tr>\n",
              "  </thead>\n",
              "  <tbody>\n",
              "    <tr>\n",
              "      <th>count</th>\n",
              "      <td>426.000000</td>\n",
              "      <td>426.000000</td>\n",
              "      <td>426.000000</td>\n",
              "      <td>426.00000</td>\n",
              "      <td>426.000000</td>\n",
              "      <td>426.000000</td>\n",
              "      <td>426.000000</td>\n",
              "      <td>426.000000</td>\n",
              "      <td>426.000000</td>\n",
              "      <td>426.000000</td>\n",
              "      <td>426.000000</td>\n",
              "      <td>426.000000</td>\n",
              "      <td>426.000000</td>\n",
              "      <td>426.000000</td>\n",
              "      <td>426.000000</td>\n",
              "      <td>426.000000</td>\n",
              "      <td>426.000000</td>\n",
              "      <td>426.000000</td>\n",
              "      <td>426.000000</td>\n",
              "      <td>426.000000</td>\n",
              "      <td>426.000000</td>\n",
              "      <td>426.000000</td>\n",
              "      <td>426.000000</td>\n",
              "      <td>426.000000</td>\n",
              "      <td>426.000000</td>\n",
              "      <td>426.000000</td>\n",
              "      <td>426.000000</td>\n",
              "      <td>426.000000</td>\n",
              "      <td>426.000000</td>\n",
              "      <td>426.000000</td>\n",
              "    </tr>\n",
              "    <tr>\n",
              "      <th>mean</th>\n",
              "      <td>14.158711</td>\n",
              "      <td>19.414554</td>\n",
              "      <td>92.223404</td>\n",
              "      <td>658.55939</td>\n",
              "      <td>0.096297</td>\n",
              "      <td>0.105503</td>\n",
              "      <td>0.089880</td>\n",
              "      <td>0.049240</td>\n",
              "      <td>0.181146</td>\n",
              "      <td>0.062956</td>\n",
              "      <td>0.404201</td>\n",
              "      <td>1.218001</td>\n",
              "      <td>2.885614</td>\n",
              "      <td>40.504038</td>\n",
              "      <td>0.006969</td>\n",
              "      <td>0.025668</td>\n",
              "      <td>0.031883</td>\n",
              "      <td>0.011767</td>\n",
              "      <td>0.020793</td>\n",
              "      <td>0.003812</td>\n",
              "      <td>16.278678</td>\n",
              "      <td>25.836315</td>\n",
              "      <td>107.531315</td>\n",
              "      <td>880.640376</td>\n",
              "      <td>0.132237</td>\n",
              "      <td>0.258007</td>\n",
              "      <td>0.277094</td>\n",
              "      <td>0.115334</td>\n",
              "      <td>0.291604</td>\n",
              "      <td>0.084371</td>\n",
              "    </tr>\n",
              "    <tr>\n",
              "      <th>std</th>\n",
              "      <td>3.561886</td>\n",
              "      <td>4.256999</td>\n",
              "      <td>24.552464</td>\n",
              "      <td>355.94278</td>\n",
              "      <td>0.014064</td>\n",
              "      <td>0.052837</td>\n",
              "      <td>0.079215</td>\n",
              "      <td>0.038987</td>\n",
              "      <td>0.026915</td>\n",
              "      <td>0.007179</td>\n",
              "      <td>0.288501</td>\n",
              "      <td>0.559779</td>\n",
              "      <td>2.142002</td>\n",
              "      <td>48.196863</td>\n",
              "      <td>0.002839</td>\n",
              "      <td>0.017752</td>\n",
              "      <td>0.027001</td>\n",
              "      <td>0.005998</td>\n",
              "      <td>0.008381</td>\n",
              "      <td>0.002528</td>\n",
              "      <td>4.815856</td>\n",
              "      <td>6.058033</td>\n",
              "      <td>33.656863</td>\n",
              "      <td>561.834942</td>\n",
              "      <td>0.022665</td>\n",
              "      <td>0.158489</td>\n",
              "      <td>0.212254</td>\n",
              "      <td>0.065736</td>\n",
              "      <td>0.060727</td>\n",
              "      <td>0.018202</td>\n",
              "    </tr>\n",
              "    <tr>\n",
              "      <th>min</th>\n",
              "      <td>6.981000</td>\n",
              "      <td>10.380000</td>\n",
              "      <td>43.790000</td>\n",
              "      <td>143.50000</td>\n",
              "      <td>0.052630</td>\n",
              "      <td>0.019380</td>\n",
              "      <td>0.000000</td>\n",
              "      <td>0.000000</td>\n",
              "      <td>0.106000</td>\n",
              "      <td>0.049960</td>\n",
              "      <td>0.111500</td>\n",
              "      <td>0.362100</td>\n",
              "      <td>0.757000</td>\n",
              "      <td>6.802000</td>\n",
              "      <td>0.001713</td>\n",
              "      <td>0.002252</td>\n",
              "      <td>0.000000</td>\n",
              "      <td>0.000000</td>\n",
              "      <td>0.010130</td>\n",
              "      <td>0.000895</td>\n",
              "      <td>7.930000</td>\n",
              "      <td>14.200000</td>\n",
              "      <td>50.410000</td>\n",
              "      <td>185.200000</td>\n",
              "      <td>0.071170</td>\n",
              "      <td>0.027290</td>\n",
              "      <td>0.000000</td>\n",
              "      <td>0.000000</td>\n",
              "      <td>0.156600</td>\n",
              "      <td>0.055250</td>\n",
              "    </tr>\n",
              "    <tr>\n",
              "      <th>25%</th>\n",
              "      <td>11.752500</td>\n",
              "      <td>16.342500</td>\n",
              "      <td>75.560000</td>\n",
              "      <td>426.85000</td>\n",
              "      <td>0.086013</td>\n",
              "      <td>0.063930</td>\n",
              "      <td>0.029773</td>\n",
              "      <td>0.020413</td>\n",
              "      <td>0.162250</td>\n",
              "      <td>0.057802</td>\n",
              "      <td>0.231575</td>\n",
              "      <td>0.831650</td>\n",
              "      <td>1.598250</td>\n",
              "      <td>17.820000</td>\n",
              "      <td>0.005091</td>\n",
              "      <td>0.013097</td>\n",
              "      <td>0.015110</td>\n",
              "      <td>0.007586</td>\n",
              "      <td>0.015283</td>\n",
              "      <td>0.002259</td>\n",
              "      <td>13.052500</td>\n",
              "      <td>21.400000</td>\n",
              "      <td>84.480000</td>\n",
              "      <td>516.425000</td>\n",
              "      <td>0.116600</td>\n",
              "      <td>0.147325</td>\n",
              "      <td>0.117250</td>\n",
              "      <td>0.064945</td>\n",
              "      <td>0.252225</td>\n",
              "      <td>0.072220</td>\n",
              "    </tr>\n",
              "    <tr>\n",
              "      <th>50%</th>\n",
              "      <td>13.400000</td>\n",
              "      <td>18.855000</td>\n",
              "      <td>86.545000</td>\n",
              "      <td>553.75000</td>\n",
              "      <td>0.095720</td>\n",
              "      <td>0.095670</td>\n",
              "      <td>0.064905</td>\n",
              "      <td>0.033285</td>\n",
              "      <td>0.179900</td>\n",
              "      <td>0.061485</td>\n",
              "      <td>0.315600</td>\n",
              "      <td>1.094000</td>\n",
              "      <td>2.250500</td>\n",
              "      <td>23.685000</td>\n",
              "      <td>0.006209</td>\n",
              "      <td>0.020790</td>\n",
              "      <td>0.026245</td>\n",
              "      <td>0.011000</td>\n",
              "      <td>0.018975</td>\n",
              "      <td>0.003131</td>\n",
              "      <td>14.995000</td>\n",
              "      <td>25.470000</td>\n",
              "      <td>97.930000</td>\n",
              "      <td>688.750000</td>\n",
              "      <td>0.131150</td>\n",
              "      <td>0.216850</td>\n",
              "      <td>0.230600</td>\n",
              "      <td>0.103500</td>\n",
              "      <td>0.282450</td>\n",
              "      <td>0.080420</td>\n",
              "    </tr>\n",
              "    <tr>\n",
              "      <th>75%</th>\n",
              "      <td>16.125000</td>\n",
              "      <td>21.862500</td>\n",
              "      <td>105.925000</td>\n",
              "      <td>799.70000</td>\n",
              "      <td>0.105250</td>\n",
              "      <td>0.131675</td>\n",
              "      <td>0.133225</td>\n",
              "      <td>0.075022</td>\n",
              "      <td>0.196075</td>\n",
              "      <td>0.066188</td>\n",
              "      <td>0.470600</td>\n",
              "      <td>1.478250</td>\n",
              "      <td>3.277750</td>\n",
              "      <td>45.275000</td>\n",
              "      <td>0.008179</td>\n",
              "      <td>0.032932</td>\n",
              "      <td>0.043103</td>\n",
              "      <td>0.014770</td>\n",
              "      <td>0.023670</td>\n",
              "      <td>0.004614</td>\n",
              "      <td>19.197500</td>\n",
              "      <td>30.122500</td>\n",
              "      <td>127.050000</td>\n",
              "      <td>1134.500000</td>\n",
              "      <td>0.145900</td>\n",
              "      <td>0.345700</td>\n",
              "      <td>0.386400</td>\n",
              "      <td>0.162500</td>\n",
              "      <td>0.319525</td>\n",
              "      <td>0.092155</td>\n",
              "    </tr>\n",
              "    <tr>\n",
              "      <th>max</th>\n",
              "      <td>28.110000</td>\n",
              "      <td>39.280000</td>\n",
              "      <td>188.500000</td>\n",
              "      <td>2501.00000</td>\n",
              "      <td>0.163400</td>\n",
              "      <td>0.345400</td>\n",
              "      <td>0.426400</td>\n",
              "      <td>0.187800</td>\n",
              "      <td>0.304000</td>\n",
              "      <td>0.095750</td>\n",
              "      <td>2.873000</td>\n",
              "      <td>4.885000</td>\n",
              "      <td>21.980000</td>\n",
              "      <td>542.200000</td>\n",
              "      <td>0.021770</td>\n",
              "      <td>0.135400</td>\n",
              "      <td>0.303800</td>\n",
              "      <td>0.040900</td>\n",
              "      <td>0.078950</td>\n",
              "      <td>0.022860</td>\n",
              "      <td>36.040000</td>\n",
              "      <td>45.410000</td>\n",
              "      <td>251.200000</td>\n",
              "      <td>4254.000000</td>\n",
              "      <td>0.222600</td>\n",
              "      <td>1.058000</td>\n",
              "      <td>1.252000</td>\n",
              "      <td>0.291000</td>\n",
              "      <td>0.577400</td>\n",
              "      <td>0.207500</td>\n",
              "    </tr>\n",
              "  </tbody>\n",
              "</table>\n",
              "</div>"
            ],
            "text/plain": [
              "       mean radius  mean texture  ...  worst symmetry  worst fractal dimension\n",
              "count   426.000000    426.000000  ...      426.000000               426.000000\n",
              "mean     14.158711     19.414554  ...        0.291604                 0.084371\n",
              "std       3.561886      4.256999  ...        0.060727                 0.018202\n",
              "min       6.981000     10.380000  ...        0.156600                 0.055250\n",
              "25%      11.752500     16.342500  ...        0.252225                 0.072220\n",
              "50%      13.400000     18.855000  ...        0.282450                 0.080420\n",
              "75%      16.125000     21.862500  ...        0.319525                 0.092155\n",
              "max      28.110000     39.280000  ...        0.577400                 0.207500\n",
              "\n",
              "[8 rows x 30 columns]"
            ]
          },
          "metadata": {
            "tags": []
          },
          "execution_count": 23
        }
      ]
    },
    {
      "cell_type": "code",
      "metadata": {
        "id": "KI_nuPLPBhvA",
        "colab_type": "code",
        "outputId": "e1d3ce64-3c80-4da3-ae54-c4b68f3b6051",
        "colab": {
          "base_uri": "https://localhost:8080/",
          "height": 0
        }
      },
      "source": [
        "print(x.shape,x_train.shape,x_test.shape)"
      ],
      "execution_count": 24,
      "outputs": [
        {
          "output_type": "stream",
          "text": [
            "(569, 30) (426, 30) (143, 30)\n"
          ],
          "name": "stdout"
        }
      ]
    },
    {
      "cell_type": "code",
      "metadata": {
        "id": "nhmAK6mSB7Po",
        "colab_type": "code",
        "colab": {}
      },
      "source": [
        "x_train,x_test,y_train,y_test = train_test_split(x,y,test_size=0.1)"
      ],
      "execution_count": 0,
      "outputs": []
    },
    {
      "cell_type": "code",
      "metadata": {
        "id": "FK87TIiBCEAx",
        "colab_type": "code",
        "outputId": "8952ca63-ec4b-4c05-d881-6aa38c9f82c6",
        "colab": {
          "base_uri": "https://localhost:8080/",
          "height": 0
        }
      },
      "source": [
        "print(x.shape,x_train.shape,x_test.shape)"
      ],
      "execution_count": 26,
      "outputs": [
        {
          "output_type": "stream",
          "text": [
            "(569, 30) (512, 30) (57, 30)\n"
          ],
          "name": "stdout"
        }
      ]
    },
    {
      "cell_type": "code",
      "metadata": {
        "id": "kQpO0fkVCFgq",
        "colab_type": "code",
        "outputId": "cb5d9e9c-dcb7-4cc0-ecbd-f12a722e2e13",
        "colab": {
          "base_uri": "https://localhost:8080/",
          "height": 0
        }
      },
      "source": [
        "print(y.mean(),y_train.mean(),y_test.mean())"
      ],
      "execution_count": 27,
      "outputs": [
        {
          "output_type": "stream",
          "text": [
            "0.6274165202108963 0.62890625 0.6140350877192983\n"
          ],
          "name": "stdout"
        }
      ]
    },
    {
      "cell_type": "markdown",
      "metadata": {
        "id": "MymAIFfDCj6L",
        "colab_type": "text"
      },
      "source": [
        "Maintaining class ratios in train and test split as in the main dataset as much as possible."
      ]
    },
    {
      "cell_type": "code",
      "metadata": {
        "id": "YswJLI8GCYQN",
        "colab_type": "code",
        "colab": {}
      },
      "source": [
        "x_train,x_test,y_train,y_test = train_test_split(x,y,test_size=0.1,stratify=y)"
      ],
      "execution_count": 0,
      "outputs": []
    },
    {
      "cell_type": "code",
      "metadata": {
        "id": "H9ZcDaFuCggI",
        "colab_type": "code",
        "outputId": "4525f999-903d-4b87-d255-e03f8b6e0ea4",
        "colab": {
          "base_uri": "https://localhost:8080/",
          "height": 0
        }
      },
      "source": [
        "print(y.mean(),y_train.mean(),y_test.mean())"
      ],
      "execution_count": 29,
      "outputs": [
        {
          "output_type": "stream",
          "text": [
            "0.6274165202108963 0.626953125 0.631578947368421\n"
          ],
          "name": "stdout"
        }
      ]
    },
    {
      "cell_type": "markdown",
      "metadata": {
        "id": "htzWQsK4DQHk",
        "colab_type": "text"
      },
      "source": [
        "To have same split always (so that results are reproducible in future runs of the algorithm), we need to send random state argument, which is also referred to as seed of the splitter. The state doesn't matter. "
      ]
    },
    {
      "cell_type": "code",
      "metadata": {
        "id": "FvhA56OQCh6t",
        "colab_type": "code",
        "colab": {}
      },
      "source": [
        "x_train,x_test,y_train,y_test = train_test_split(x,y,test_size=0.1,stratify=y,random_state=1)"
      ],
      "execution_count": 0,
      "outputs": []
    },
    {
      "cell_type": "markdown",
      "metadata": {
        "id": "oVm9kyRPHXp8",
        "colab_type": "text"
      },
      "source": [
        "# Binarisation of input"
      ]
    },
    {
      "cell_type": "code",
      "metadata": {
        "id": "FMa1dEanHb_-",
        "colab_type": "code",
        "colab": {}
      },
      "source": [
        "import matplotlib.pyplot as plt\n",
        "import seaborn as sns\n",
        "sns.set()"
      ],
      "execution_count": 0,
      "outputs": []
    },
    {
      "cell_type": "markdown",
      "metadata": {
        "id": "y8_uZI69FIsP",
        "colab_type": "text"
      },
      "source": [
        "Each feature represented by a different color, with the samples over the x-axis."
      ]
    },
    {
      "cell_type": "code",
      "metadata": {
        "id": "roOXdidiEGsL",
        "colab_type": "code",
        "colab": {
          "base_uri": "https://localhost:8080/",
          "height": 0
        },
        "outputId": "087f2ecc-465c-4b5c-a384-c4bc97126126"
      },
      "source": [
        "plt.plot(x_train,'*')\n",
        "plt.show()"
      ],
      "execution_count": 32,
      "outputs": [
        {
          "output_type": "display_data",
          "data": {
            "image/png": "[encoded data removed]",
            "text/plain": [
              "<Figure size 432x288 with 1 Axes>"
            ]
          },
          "metadata": {
            "tags": []
          }
        }
      ]
    },
    {
      "cell_type": "markdown",
      "metadata": {
        "id": "E3UocWe0Fj0O",
        "colab_type": "text"
      },
      "source": [
        "Plotting the transpose of training set. Will showcase the different values for each feature i.e. the spread for each feature of the training set."
      ]
    },
    {
      "cell_type": "code",
      "metadata": {
        "id": "nmwrUZGFENkX",
        "colab_type": "code",
        "colab": {
          "base_uri": "https://localhost:8080/",
          "height": 0
        },
        "outputId": "195c7103-6d87-4866-fd4a-8acbfa1ec283"
      },
      "source": [
        "plt.plot(x_train.T, 'x')\n",
        "plt.xticks(rotation='vertical')\n",
        "plt.show()"
      ],
      "execution_count": 33,
      "outputs": [
        {
          "output_type": "display_data",
          "data": {
            "image/png": "[encoded data removed]",
            "text/plain": [
              "<Figure size 432x288 with 1 Axes>"
            ]
          },
          "metadata": {
            "tags": []
          }
        }
      ]
    },
    {
      "cell_type": "markdown",
      "metadata": {
        "id": "4k3GJAPXGn5e",
        "colab_type": "text"
      },
      "source": [
        "To binarise we can select a threshold value, above which the feature can take the value of 1, and below which it can take 0. The value can be the mean or median. "
      ]
    },
    {
      "cell_type": "code",
      "metadata": {
        "id": "oP2jItsDFiLO",
        "colab_type": "code",
        "colab": {}
      },
      "source": [
        "sample_col = x_train['mean area'].map(lambda x: 1 if x<1000 else 0)"
      ],
      "execution_count": 0,
      "outputs": []
    },
    {
      "cell_type": "code",
      "metadata": {
        "id": "dhRL63mcKYGS",
        "colab_type": "code",
        "colab": {
          "base_uri": "https://localhost:8080/",
          "height": 0
        },
        "outputId": "596f8b1b-d28b-448a-8460-1823e79e9daa"
      },
      "source": [
        "plt.plot(sample_col,'*')\n",
        "plt.show()"
      ],
      "execution_count": 35,
      "outputs": [
        {
          "output_type": "display_data",
          "data": {
            "image/png": "[encoded data removed]",
            "text/plain": [
              "<Figure size 432x288 with 1 Axes>"
            ]
          },
          "metadata": {
            "tags": []
          }
        }
      ]
    },
    {
      "cell_type": "markdown",
      "metadata": {
        "id": "br56H0DWKkJa",
        "colab_type": "text"
      },
      "source": [
        "Not required to do it manually for each column of the dataframe, can be done using the cut function of the pandas module, which splits the column values into given number of bins with given set of labels."
      ]
    },
    {
      "cell_type": "code",
      "metadata": {
        "id": "z2LLHAZXKhBH",
        "colab_type": "code",
        "colab": {}
      },
      "source": [
        "x_btrain = x_train.apply(pd.cut,bins=2,labels=[1,0])"
      ],
      "execution_count": 0,
      "outputs": []
    },
    {
      "cell_type": "code",
      "metadata": {
        "id": "hTY5cEM2XTV9",
        "colab_type": "code",
        "colab": {}
      },
      "source": [
        "x_btest = x_test.apply(pd.cut,bins=2,labels=[1,0])"
      ],
      "execution_count": 0,
      "outputs": []
    },
    {
      "cell_type": "code",
      "metadata": {
        "id": "0WkzAlFFK1DZ",
        "colab_type": "code",
        "colab": {
          "base_uri": "https://localhost:8080/",
          "height": 0
        },
        "outputId": "d3749d8e-0824-4283-ffb5-7f84a50342dd"
      },
      "source": [
        "plt.plot(x_btrain.T,'*')\n",
        "plt.xticks(rotation='vertical')\n",
        "plt.savefig('Binarised Input.png')\n",
        "plt.show()\n"
      ],
      "execution_count": 38,
      "outputs": [
        {
          "output_type": "display_data",
          "data": {
            "image/png": "[encoded data removed]",
            "text/plain": [
              "<Figure size 432x288 with 1 Axes>"
            ]
          },
          "metadata": {
            "tags": []
          }
        }
      ]
    },
    {
      "cell_type": "code",
      "metadata": {
        "id": "wLWtxF4_WRQR",
        "colab_type": "code",
        "colab": {}
      },
      "source": [
        "x_btrain = x_btrain.values"
      ],
      "execution_count": 0,
      "outputs": []
    },
    {
      "cell_type": "code",
      "metadata": {
        "id": "Pd2B8fzbYIG2",
        "colab_type": "code",
        "colab": {}
      },
      "source": [
        "x_btest = x_btest.values"
      ],
      "execution_count": 0,
      "outputs": []
    },
    {
      "cell_type": "markdown",
      "metadata": {
        "id": "O2RGK9i5VpA-",
        "colab_type": "text"
      },
      "source": [
        "# MPNeuron"
      ]
    },
    {
      "cell_type": "code",
      "metadata": {
        "id": "kCsj4Xc8Vm6F",
        "colab_type": "code",
        "colab": {}
      },
      "source": [
        "from random import randint"
      ],
      "execution_count": 0,
      "outputs": []
    },
    {
      "cell_type": "code",
      "metadata": {
        "id": "VQPI_oB8V6zf",
        "colab_type": "code",
        "colab": {
          "base_uri": "https://localhost:8080/",
          "height": 0
        },
        "outputId": "3edc2edc-e65e-4d37-9e42-bded45d9bc02"
      },
      "source": [
        "y_preds = []\n",
        "optimal_b = 0\n",
        "max_accuracy = 0\n",
        "for b in range(x_btrain.shape[1]):\n",
        "  correct = 0\n",
        "  for x,y in zip(x_btrain,y_train):\n",
        "    y_pred = (np.sum(x)>=b)\n",
        "    y_preds.append(y_pred)\n",
        "    if y_pred==y:\n",
        "      correct+=1\n",
        "  accuracy = correct/x_btrain.shape[0]\n",
        "  if accuracy>max_accuracy:\n",
        "    max_accuracy = accuracy\n",
        "    optimal_b = b\n",
        "  print(b,accuracy)"
      ],
      "execution_count": 42,
      "outputs": [
        {
          "output_type": "stream",
          "text": [
            "0 0.626953125\n",
            "1 0.626953125\n",
            "2 0.626953125\n",
            "3 0.626953125\n",
            "4 0.626953125\n",
            "5 0.626953125\n",
            "6 0.626953125\n",
            "7 0.626953125\n",
            "8 0.626953125\n",
            "9 0.626953125\n",
            "10 0.626953125\n",
            "11 0.626953125\n",
            "12 0.626953125\n",
            "13 0.626953125\n",
            "14 0.630859375\n",
            "15 0.6328125\n",
            "16 0.642578125\n",
            "17 0.6484375\n",
            "18 0.65625\n",
            "19 0.6640625\n",
            "20 0.671875\n",
            "21 0.6875\n",
            "22 0.701171875\n",
            "23 0.724609375\n",
            "24 0.755859375\n",
            "25 0.78515625\n",
            "26 0.818359375\n",
            "27 0.845703125\n",
            "28 0.849609375\n",
            "29 0.814453125\n"
          ],
          "name": "stdout"
        }
      ]
    },
    {
      "cell_type": "code",
      "metadata": {
        "id": "kxOjFejfWlKR",
        "colab_type": "code",
        "colab": {
          "base_uri": "https://localhost:8080/",
          "height": 0
        },
        "outputId": "6a7c835a-4d28-4c22-eb5f-80c70d5e7afe"
      },
      "source": [
        "print(optimal_b, max_accuracy)"
      ],
      "execution_count": 43,
      "outputs": [
        {
          "output_type": "stream",
          "text": [
            "28 0.849609375\n"
          ],
          "name": "stdout"
        }
      ]
    },
    {
      "cell_type": "code",
      "metadata": {
        "id": "7XX-F4-fXI0N",
        "colab_type": "code",
        "colab": {
          "base_uri": "https://localhost:8080/",
          "height": 0
        },
        "outputId": "a3df212e-772f-4715-c4fc-cce3d860a0af"
      },
      "source": [
        "correct = 0\n",
        "y_pred_test = []\n",
        "for x,y in zip(x_btest,y_test):\n",
        "  y_pred = (np.sum(x)>=optimal_b)\n",
        "  y_pred_test.append(y_pred)\n",
        "  if y_pred==y:\n",
        "    correct+=1\n",
        "  \n",
        "print(\"test accuracy = \", correct/x_btest.shape[0])"
      ],
      "execution_count": 44,
      "outputs": [
        {
          "output_type": "stream",
          "text": [
            "test accuracy =  0.7894736842105263\n"
          ],
          "name": "stdout"
        }
      ]
    },
    {
      "cell_type": "code",
      "metadata": {
        "id": "K0T2Y9EqX0t5",
        "colab_type": "code",
        "colab": {}
      },
      "source": [
        "from sklearn.metrics import accuracy_score"
      ],
      "execution_count": 0,
      "outputs": []
    },
    {
      "cell_type": "code",
      "metadata": {
        "id": "VkHYNiuMgFG6",
        "colab_type": "code",
        "colab": {}
      },
      "source": [
        "accuracy = accuracy_score(y_pred_test,y_test)"
      ],
      "execution_count": 0,
      "outputs": []
    },
    {
      "cell_type": "code",
      "metadata": {
        "id": "Wn31vhV0gJ4m",
        "colab_type": "code",
        "colab": {
          "base_uri": "https://localhost:8080/",
          "height": 0
        },
        "outputId": "2b07e25d-f6d0-4b8f-fd84-ff8b77dc3acf"
      },
      "source": [
        "accuracy"
      ],
      "execution_count": 47,
      "outputs": [
        {
          "output_type": "execute_result",
          "data": {
            "text/plain": [
              "0.7894736842105263"
            ]
          },
          "metadata": {
            "tags": []
          },
          "execution_count": 47
        }
      ]
    },
    {
      "cell_type": "markdown",
      "metadata": {
        "id": "Jm-Yfg88gjep",
        "colab_type": "text"
      },
      "source": [
        "#MP Neuron Class"
      ]
    },
    {
      "cell_type": "code",
      "metadata": {
        "id": "dzwCdw0SglOr",
        "colab_type": "code",
        "colab": {}
      },
      "source": [
        "class MPNeuron:\n",
        "\n",
        "  def __init__(self):\n",
        "    self.b = None\n",
        "\n",
        "  def model(self,x):\n",
        "    return np.sum(x)>=self.b\n",
        "  \n",
        "  def predict(self,X):\n",
        "    y_pred = []\n",
        "    for x in X:\n",
        "      result = self.model(x)\n",
        "      y_pred.append(result)\n",
        "    return np.array(y_pred)\n",
        "\n",
        "  def fit(self,X,Y):\n",
        "    accuracy = {}\n",
        "\n",
        "    for b in range(X.shape[1]):\n",
        "      self.b = b\n",
        "      accuracy[b] = accuracy_score(self.predict(X),Y)\n",
        "    best_b = max(accuracy, key = accuracy.get)\n",
        "    self.b = best_b\n",
        "\n",
        "    print(\"Optimal b\", best_b)\n",
        "    print(\"Max accuracy\", accuracy[best_b])"
      ],
      "execution_count": 0,
      "outputs": []
    },
    {
      "cell_type": "code",
      "metadata": {
        "id": "Ud7PjUQvj4UF",
        "colab_type": "code",
        "colab": {}
      },
      "source": [
        "mp_neuron = MPNeuron()"
      ],
      "execution_count": 0,
      "outputs": []
    },
    {
      "cell_type": "code",
      "metadata": {
        "id": "Zz4ifHQ-j6H4",
        "colab_type": "code",
        "colab": {
          "base_uri": "https://localhost:8080/",
          "height": 0
        },
        "outputId": "ddf4e274-77bd-4090-bb96-abd73189f418"
      },
      "source": [
        "mp_neuron.fit(x_btrain,y_train)"
      ],
      "execution_count": 50,
      "outputs": [
        {
          "output_type": "stream",
          "text": [
            "Optimal b 28\n",
            "Max accuracy 0.849609375\n"
          ],
          "name": "stdout"
        }
      ]
    },
    {
      "cell_type": "code",
      "metadata": {
        "id": "-CEW4fhij-OA",
        "colab_type": "code",
        "colab": {
          "base_uri": "https://localhost:8080/",
          "height": 0
        },
        "outputId": "6527acbc-f3bb-40fd-9d67-5b4dac9a7777"
      },
      "source": [
        "print(accuracy_score(mp_neuron.predict(x_btest),y_test))\n",
        "print(mp_neuron.b)"
      ],
      "execution_count": 51,
      "outputs": [
        {
          "output_type": "stream",
          "text": [
            "0.7894736842105263\n",
            "28\n"
          ],
          "name": "stdout"
        }
      ]
    },
    {
      "cell_type": "markdown",
      "metadata": {
        "id": "Hm7qg36NpN6V",
        "colab_type": "text"
      },
      "source": [
        "# Perceptron Class"
      ]
    },
    {
      "cell_type": "markdown",
      "metadata": {
        "id": "6i9bwyTS2Wcw",
        "colab_type": "text"
      },
      "source": [
        "The class contains two hyperparameters, i.e. epochs, and learning rate. The class also contains the use of the concept of checkpoint s to extract the best possible weights correspoding to the highest training accuracy rather than relying on the last epoch for sub-optimal parameters for the model.\n",
        "\n",
        "Observation : initialisation with 0 gave unstable learning with learning rate,  whereas 1 led to stable learning with learning rate."
      ]
    },
    {
      "cell_type": "code",
      "metadata": {
        "id": "eV3Rz_m7kKdu",
        "colab_type": "code",
        "colab": {}
      },
      "source": [
        "class Perceptron:\n",
        "\n",
        "  def __init__(self):\n",
        "    self.b = None\n",
        "    self.w = None\n",
        "\n",
        "  def model(self,x):\n",
        "    return np.dot(self.w,x)>=self.b\n",
        "  \n",
        "  def predict(self,X):\n",
        "    y_pred = []\n",
        "\n",
        "    for x in X:\n",
        "      result = self.model(x)\n",
        "      y_pred.append(result)\n",
        "\n",
        "    return np.array(y_pred)\n",
        "\n",
        "  def fit(self,X,Y,epochs,lr):\n",
        "\n",
        "    accuracy = []\n",
        "    self.b = 0\n",
        "    self.w = np.ones(X.shape[1])\n",
        "    max_accuracy = 0\n",
        "\n",
        "    wt_matrix = []\n",
        "    for i in range(epochs):\n",
        "      for x,y in zip(X,Y):\n",
        "        y_pred = self.model(x)\n",
        "        if y==1 and y_pred==0:\n",
        "          self.w= self.w + lr*x\n",
        "          self.b= self.b + (lr)*1\n",
        "        elif y==0 and y_pred==1:\n",
        "          self.w= self.w - lr*x\n",
        "          self.b= self.b - (lr)*1     \n",
        "      plt.plot(self.w)\n",
        "      latest_accuracy = accuracy_score(self.predict(X),Y)\n",
        "      accuracy.append(latest_accuracy)\n",
        "      wt_matrix.append(self.w)\n",
        "      if latest_accuracy > max_accuracy:\n",
        "        max_accuracy = latest_accuracy\n",
        "        checkptw = self.w\n",
        "        checkptb = self.b\n",
        "\n",
        "      print(\"Completed epoch\", i+1, \", Training Accuracy:\",accuracy_score(self.predict(X),Y))\n",
        "      print()\n",
        "    plt.savefig(\"Weight Transition.png\")\n",
        "    plt.show()\n",
        "\n",
        "    plt.plot(accuracy)\n",
        "    plt.ylim([0,1])\n",
        "    plt.savefig(\"Accuracy Transition\")\n",
        "    plt.show()\n",
        "\n",
        "    self.w = checkptw\n",
        "    self.b = checkptb\n",
        "\n",
        "    return np.array(wt_matrix)"
      ],
      "execution_count": 0,
      "outputs": []
    },
    {
      "cell_type": "code",
      "metadata": {
        "id": "vSihEZINqmJW",
        "colab_type": "code",
        "colab": {}
      },
      "source": [
        "perceptron = Perceptron()"
      ],
      "execution_count": 0,
      "outputs": []
    },
    {
      "cell_type": "code",
      "metadata": {
        "id": "Fhbn1MRaqpIp",
        "colab_type": "code",
        "colab": {}
      },
      "source": [
        "x_train = x_train.values\n",
        "x_test = x_test.values"
      ],
      "execution_count": 0,
      "outputs": []
    },
    {
      "cell_type": "code",
      "metadata": {
        "id": "Vn8QMZCFqs1v",
        "colab_type": "code",
        "colab": {
          "base_uri": "https://localhost:8080/",
          "height": 1000
        },
        "outputId": "b5593cf5-be68-424f-e61f-1c1220aaa09f"
      },
      "source": [
        "wt_matrix = perceptron.fit(x_train,y_train,100,1)"
      ],
      "execution_count": 117,
      "outputs": [
        {
          "output_type": "stream",
          "text": [
            "Completed epoch 1 , Training Accuracy: 0.373046875\n",
            "\n",
            "Completed epoch 2 , Training Accuracy: 0.91015625\n",
            "\n",
            "Completed epoch 3 , Training Accuracy: 0.373046875\n",
            "\n",
            "Completed epoch 4 , Training Accuracy: 0.87890625\n",
            "\n",
            "Completed epoch 5 , Training Accuracy: 0.888671875\n",
            "\n",
            "Completed epoch 6 , Training Accuracy: 0.91015625\n",
            "\n",
            "Completed epoch 7 , Training Accuracy: 0.86328125\n",
            "\n",
            "Completed epoch 8 , Training Accuracy: 0.859375\n",
            "\n",
            "Completed epoch 9 , Training Accuracy: 0.890625\n",
            "\n",
            "Completed epoch 10 , Training Accuracy: 0.900390625\n",
            "\n",
            "Completed epoch 11 , Training Accuracy: 0.90234375\n",
            "\n",
            "Completed epoch 12 , Training Accuracy: 0.89453125\n",
            "\n",
            "Completed epoch 13 , Training Accuracy: 0.87109375\n",
            "\n",
            "Completed epoch 14 , Training Accuracy: 0.8984375\n",
            "\n",
            "Completed epoch 15 , Training Accuracy: 0.89453125\n",
            "\n",
            "Completed epoch 16 , Training Accuracy: 0.89453125\n",
            "\n",
            "Completed epoch 17 , Training Accuracy: 0.900390625\n",
            "\n",
            "Completed epoch 18 , Training Accuracy: 0.8984375\n",
            "\n",
            "Completed epoch 19 , Training Accuracy: 0.904296875\n",
            "\n",
            "Completed epoch 20 , Training Accuracy: 0.904296875\n",
            "\n",
            "Completed epoch 21 , Training Accuracy: 0.904296875\n",
            "\n",
            "Completed epoch 22 , Training Accuracy: 0.90234375\n",
            "\n",
            "Completed epoch 23 , Training Accuracy: 0.904296875\n",
            "\n",
            "Completed epoch 24 , Training Accuracy: 0.904296875\n",
            "\n",
            "Completed epoch 25 , Training Accuracy: 0.904296875\n",
            "\n",
            "Completed epoch 26 , Training Accuracy: 0.91015625\n",
            "\n",
            "Completed epoch 27 , Training Accuracy: 0.8984375\n",
            "\n",
            "Completed epoch 28 , Training Accuracy: 0.91015625\n",
            "\n",
            "Completed epoch 29 , Training Accuracy: 0.8984375\n",
            "\n",
            "Completed epoch 30 , Training Accuracy: 0.8984375\n",
            "\n",
            "Completed epoch 31 , Training Accuracy: 0.8984375\n",
            "\n",
            "Completed epoch 32 , Training Accuracy: 0.896484375\n",
            "\n",
            "Completed epoch 33 , Training Accuracy: 0.916015625\n",
            "\n",
            "Completed epoch 34 , Training Accuracy: 0.8984375\n",
            "\n",
            "Completed epoch 35 , Training Accuracy: 0.91796875\n",
            "\n",
            "Completed epoch 36 , Training Accuracy: 0.8984375\n",
            "\n",
            "Completed epoch 37 , Training Accuracy: 0.900390625\n",
            "\n",
            "Completed epoch 38 , Training Accuracy: 0.90234375\n",
            "\n",
            "Completed epoch 39 , Training Accuracy: 0.900390625\n",
            "\n",
            "Completed epoch 40 , Training Accuracy: 0.91796875\n",
            "\n",
            "Completed epoch 41 , Training Accuracy: 0.91796875\n",
            "\n",
            "Completed epoch 42 , Training Accuracy: 0.8984375\n",
            "\n",
            "Completed epoch 43 , Training Accuracy: 0.919921875\n",
            "\n",
            "Completed epoch 44 , Training Accuracy: 0.921875\n",
            "\n",
            "Completed epoch 45 , Training Accuracy: 0.91796875\n",
            "\n",
            "Completed epoch 46 , Training Accuracy: 0.91796875\n",
            "\n",
            "Completed epoch 47 , Training Accuracy: 0.919921875\n",
            "\n",
            "Completed epoch 48 , Training Accuracy: 0.916015625\n",
            "\n",
            "Completed epoch 49 , Training Accuracy: 0.916015625\n",
            "\n",
            "Completed epoch 50 , Training Accuracy: 0.919921875\n",
            "\n",
            "Completed epoch 51 , Training Accuracy: 0.921875\n",
            "\n",
            "Completed epoch 52 , Training Accuracy: 0.921875\n",
            "\n",
            "Completed epoch 53 , Training Accuracy: 0.91796875\n",
            "\n",
            "Completed epoch 54 , Training Accuracy: 0.91796875\n",
            "\n",
            "Completed epoch 55 , Training Accuracy: 0.919921875\n",
            "\n",
            "Completed epoch 56 , Training Accuracy: 0.921875\n",
            "\n",
            "Completed epoch 57 , Training Accuracy: 0.921875\n",
            "\n",
            "Completed epoch 58 , Training Accuracy: 0.921875\n",
            "\n",
            "Completed epoch 59 , Training Accuracy: 0.919921875\n",
            "\n",
            "Completed epoch 60 , Training Accuracy: 0.91796875\n",
            "\n",
            "Completed epoch 61 , Training Accuracy: 0.927734375\n",
            "\n",
            "Completed epoch 62 , Training Accuracy: 0.921875\n",
            "\n",
            "Completed epoch 63 , Training Accuracy: 0.921875\n",
            "\n",
            "Completed epoch 64 , Training Accuracy: 0.921875\n",
            "\n",
            "Completed epoch 65 , Training Accuracy: 0.921875\n",
            "\n",
            "Completed epoch 66 , Training Accuracy: 0.921875\n",
            "\n",
            "Completed epoch 67 , Training Accuracy: 0.91796875\n",
            "\n",
            "Completed epoch 68 , Training Accuracy: 0.921875\n",
            "\n",
            "Completed epoch 69 , Training Accuracy: 0.91796875\n",
            "\n",
            "Completed epoch 70 , Training Accuracy: 0.91796875\n",
            "\n",
            "Completed epoch 71 , Training Accuracy: 0.923828125\n",
            "\n",
            "Completed epoch 72 , Training Accuracy: 0.908203125\n",
            "\n",
            "Completed epoch 73 , Training Accuracy: 0.865234375\n",
            "\n",
            "Completed epoch 74 , Training Accuracy: 0.923828125\n",
            "\n",
            "Completed epoch 75 , Training Accuracy: 0.90625\n",
            "\n",
            "Completed epoch 76 , Training Accuracy: 0.90625\n",
            "\n",
            "Completed epoch 77 , Training Accuracy: 0.91015625\n",
            "\n",
            "Completed epoch 78 , Training Accuracy: 0.908203125\n",
            "\n",
            "Completed epoch 79 , Training Accuracy: 0.91015625\n",
            "\n",
            "Completed epoch 80 , Training Accuracy: 0.923828125\n",
            "\n",
            "Completed epoch 81 , Training Accuracy: 0.9140625\n",
            "\n",
            "Completed epoch 82 , Training Accuracy: 0.923828125\n",
            "\n",
            "Completed epoch 83 , Training Accuracy: 0.9140625\n",
            "\n",
            "Completed epoch 84 , Training Accuracy: 0.923828125\n",
            "\n",
            "Completed epoch 85 , Training Accuracy: 0.921875\n",
            "\n",
            "Completed epoch 86 , Training Accuracy: 0.91796875\n",
            "\n",
            "Completed epoch 87 , Training Accuracy: 0.869140625\n",
            "\n",
            "Completed epoch 88 , Training Accuracy: 0.923828125\n",
            "\n",
            "Completed epoch 89 , Training Accuracy: 0.921875\n",
            "\n",
            "Completed epoch 90 , Training Accuracy: 0.921875\n",
            "\n",
            "Completed epoch 91 , Training Accuracy: 0.91796875\n",
            "\n",
            "Completed epoch 92 , Training Accuracy: 0.916015625\n",
            "\n",
            "Completed epoch 93 , Training Accuracy: 0.923828125\n",
            "\n",
            "Completed epoch 94 , Training Accuracy: 0.91796875\n",
            "\n",
            "Completed epoch 95 , Training Accuracy: 0.91796875\n",
            "\n",
            "Completed epoch 96 , Training Accuracy: 0.923828125\n",
            "\n",
            "Completed epoch 97 , Training Accuracy: 0.916015625\n",
            "\n",
            "Completed epoch 98 , Training Accuracy: 0.921875\n",
            "\n",
            "Completed epoch 99 , Training Accuracy: 0.923828125\n",
            "\n",
            "Completed epoch 100 , Training Accuracy: 0.92578125\n",
            "\n"
          ],
          "name": "stdout"
        },
        {
          "output_type": "display_data",
          "data": {
            "image/png": "[encoded data removed]",
            "text/plain": [
              "<Figure size 432x288 with 1 Axes>"
            ]
          },
          "metadata": {
            "tags": []
          }
        },
        {
          "output_type": "display_data",
          "data": {
            "image/png": "[encoded data removed]",
            "text/plain": [
              "<Figure size 432x288 with 1 Axes>"
            ]
          },
          "metadata": {
            "tags": []
          }
        }
      ]
    },
    {
      "cell_type": "code",
      "metadata": {
        "id": "4STpoUxzr9_E",
        "colab_type": "code",
        "colab": {
          "base_uri": "https://localhost:8080/",
          "height": 34
        },
        "outputId": "e09d649f-0619-4810-83d9-de0ea3e5fe89"
      },
      "source": [
        "accuracy_score(perceptron.predict(x_train),y_train)"
      ],
      "execution_count": 118,
      "outputs": [
        {
          "output_type": "execute_result",
          "data": {
            "text/plain": [
              "0.927734375"
            ]
          },
          "metadata": {
            "tags": []
          },
          "execution_count": 118
        }
      ]
    },
    {
      "cell_type": "code",
      "metadata": {
        "id": "up0LAR36qyxE",
        "colab_type": "code",
        "colab": {
          "base_uri": "https://localhost:8080/",
          "height": 34
        },
        "outputId": "2edc2573-4ad7-4e9e-f191-1e878e652959"
      },
      "source": [
        "accuracy_score(perceptron.predict(x_test),y_test)"
      ],
      "execution_count": 119,
      "outputs": [
        {
          "output_type": "execute_result",
          "data": {
            "text/plain": [
              "0.9473684210526315"
            ]
          },
          "metadata": {
            "tags": []
          },
          "execution_count": 119
        }
      ]
    },
    {
      "cell_type": "code",
      "metadata": {
        "id": "HIjCWU6qrIUq",
        "colab_type": "code",
        "colab": {
          "base_uri": "https://localhost:8080/",
          "height": 274
        },
        "outputId": "257e75be-05ef-46b6-9979-878796281b32"
      },
      "source": [
        "plt.plot(perceptron.w)\n",
        "plt.savefig(\"Final Weight Graph for Perceptron\")\n",
        "plt.show()"
      ],
      "execution_count": 120,
      "outputs": [
        {
          "output_type": "display_data",
          "data": {
            "image/png": "[encoded data removed]",
            "text/plain": [
              "<Figure size 432x288 with 1 Axes>"
            ]
          },
          "metadata": {
            "tags": []
          }
        }
      ]
    },
    {
      "cell_type": "code",
      "metadata": {
        "id": "hAeKI7HQBs0J",
        "colab_type": "code",
        "colab": {
          "base_uri": "https://localhost:8080/",
          "height": 274
        },
        "outputId": "11eb39e2-2437-4a83-bd8d-72d137becebd"
      },
      "source": [
        "plt.plot(wt_matrix[-1,:])\n",
        "plt.show()"
      ],
      "execution_count": 121,
      "outputs": [
        {
          "output_type": "display_data",
          "data": {
            "image/png": "[encoded data removed]",
            "text/plain": [
              "<Figure size 432x288 with 1 Axes>"
            ]
          },
          "metadata": {
            "tags": []
          }
        }
      ]
    },
    {
      "cell_type": "markdown",
      "metadata": {
        "id": "fjjUQ97t9ksC",
        "colab_type": "text"
      },
      "source": [
        "https://matplotlib.org/3.1.1/gallery/subplots_axes_and_figures/subplots_demo.html : Refer for subplots and multiple plots with good handle for each\n",
        "\n",
        "http://louistiao.me/posts/notebooks/embedding-matplotlib-animations-in-jupyter-notebooks/: Refer for animations in jupyter notebook"
      ]
    },
    {
      "cell_type": "code",
      "metadata": {
        "id": "j1xUhR2lrik7",
        "colab_type": "code",
        "colab": {}
      },
      "source": [
        "%matplotlib inline"
      ],
      "execution_count": 0,
      "outputs": []
    },
    {
      "cell_type": "code",
      "metadata": {
        "id": "mvhNVRTcA7G3",
        "colab_type": "code",
        "colab": {}
      },
      "source": [
        "from matplotlib import animation, rc\n",
        "from IPython.display import HTML"
      ],
      "execution_count": 0,
      "outputs": []
    },
    {
      "cell_type": "code",
      "metadata": {
        "id": "xGJzaBrQA9CN",
        "colab_type": "code",
        "colab": {
          "base_uri": "https://localhost:8080/",
          "height": 274
        },
        "outputId": "8f75209b-5503-45ef-b8b2-37752795d995"
      },
      "source": [
        "# First set up the figure, the axis, and the plot element we want to animate\n",
        "fig, ax = plt.subplots()\n",
        "\n",
        "ax.set_xlim(( 0, wt_matrix.shape[1]))\n",
        "ax.set_ylim((-15000, 25000))\n",
        "\n",
        "line, = ax.plot([], [], lw=2)"
      ],
      "execution_count": 124,
      "outputs": [
        {
          "output_type": "display_data",
          "data": {
            "image/png": "[encoded data removed]",
            "text/plain": [
              "<Figure size 432x288 with 1 Axes>"
            ]
          },
          "metadata": {
            "tags": []
          }
        }
      ]
    },
    {
      "cell_type": "code",
      "metadata": {
        "id": "xhXOnEYrBA8r",
        "colab_type": "code",
        "colab": {}
      },
      "source": [
        "# animation function. This is called sequentially\n",
        "def animate(i):\n",
        "    x = list(range(wt_matrix.shape[1]))\n",
        "    y = wt_matrix[i,:]\n",
        "    line.set_data(x, y)\n",
        "    return (line,)"
      ],
      "execution_count": 0,
      "outputs": []
    },
    {
      "cell_type": "code",
      "metadata": {
        "id": "_qFzaR0PBMs9",
        "colab_type": "code",
        "colab": {}
      },
      "source": [
        "# call the animator. blit=True means only re-draw the parts that have changed.\n",
        "anim = animation.FuncAnimation(fig, animate,frames=100, interval=200, blit=True)"
      ],
      "execution_count": 0,
      "outputs": []
    },
    {
      "cell_type": "code",
      "metadata": {
        "id": "PZKR_A1eBPYx",
        "colab_type": "code",
        "colab": {
          "base_uri": "https://localhost:8080/",
          "height": 309
        },
        "outputId": "b394a9b8-0882-45fc-f8ce-aeea0ff6b2e7"
      },
      "source": [
        "HTML(anim.to_html5_video())"
      ],
      "execution_count": 129,
      "outputs": [
        {
          "output_type": "execute_result",
          "data": {
            "text/html": [
              "<video width=\"432\" height=\"288\" controls autoplay loop>\n",
              "  <source type=\"video/mp4\" src=\"data:video/mp4;base64,AAAAHGZ0eXBNNFYgAAACAGlzb21pc28yYXZjMQAAAAhmcmVlAACLpm1kYXQAAAKtBgX//6ncRem9\n",
              "5tlIt5Ys2CDZI+7veDI2NCAtIGNvcmUgMTUyIHIyODU0IGU5YTU5MDMgLSBILjI2NC9NUEVHLTQg\n",
              "QVZDIGNvZGVjIC0gQ29weWxlZnQgMjAwMy0yMDE3IC0gaHR0cDovL3d3dy52aWRlb2xhbi5vcmcv\n",
              "eDI2NC5odG1sIC0gb3B0aW9uczogY2FiYWM9MSByZWY9MyBkZWJsb2NrPTE6MDowIGFuYWx5c2U9\n",
              "MHgzOjB4MTEzIG1lPWhleCBzdWJtZT03IHBzeT0xIHBzeV9yZD0xLjAwOjAuMDAgbWl4ZWRfcmVm\n",
              "PTEgbWVfcmFuZ2U9MTYgY2hyb21hX21lPTEgdHJlbGxpcz0xIDh4OGRjdD0xIGNxbT0wIGRlYWR6\n",
              "b25lPTIxLDExIGZhc3RfcHNraXA9MSBjaHJvbWFfcXBfb2Zmc2V0PS0yIHRocmVhZHM9MyBsb29r\n",
              "YWhlYWRfdGhyZWFkcz0xIHNsaWNlZF90aHJlYWRzPTAgbnI9MCBkZWNpbWF0ZT0xIGludGVybGFj\n",
              "ZWQ9MCBibHVyYXlfY29tcGF0PTAgY29uc3RyYWluZWRfaW50cmE9MCBiZnJhbWVzPTMgYl9weXJh\n",
              "bWlkPTIgYl9hZGFwdD0xIGJfYmlhcz0wIGRpcmVjdD0xIHdlaWdodGI9MSBvcGVuX2dvcD0wIHdl\n",
              "aWdodHA9MiBrZXlpbnQ9MjUwIGtleWludF9taW49NSBzY2VuZWN1dD00MCBpbnRyYV9yZWZyZXNo\n",
              "PTAgcmNfbG9va2FoZWFkPTQwIHJjPWNyZiBtYnRyZWU9MSBjcmY9MjMuMCBxY29tcD0wLjYwIHFw\n",
              "bWluPTAgcXBtYXg9NjkgcXBzdGVwPTQgaXBfcmF0aW89MS40MCBhcT0xOjEuMDAAgAAAFVxliIQA\n",
              "Ev/+963fgU3AQO1rulc4tMurlDQ9UfaUpni2SAAAAwAH+v4QTPGoI5ASI4LdT3r7p1K8pBfs1voF\n",
              "5rTmoUAS+cVr015jkMVfg3niKHskFhOkbd8RoKca/IjU9lmRQsoibOluQ81DkQ2srInF+fDhmDiF\n",
              "0OyxpLKSiZMmak5SCqAbMfGiCkBWQdApu7y7fBFPUqmmN+sivVQbiG7EXsaTAPUfz4AAAzf/2k1X\n",
              "PTfb8b9y8wCi/2odfLAy/L435IO1yRpk2meELqqAiIa2YNyBaE/RYC1OXHzrhEBp099zemQmFRSW\n",
              "nV1RlZ/u6c6ngAh5KQM4klt558zV+NeRF0UTKCRwjQUk/2Dz49SssOESvZoIqHiAwf9AtGJgnyNy\n",
              "fnzDN/Dpo1lXvLJefNAcgRPL9pdxbA6mdmDfq50WW72C8xNbDjSpP2w/PqsRyZ/GUU7Lbqb/qzQ2\n",
              "8sWYa/6iyF00IqMDlw6Gxk/oeEayQKyLrme6or6tJunA8k/rzZUNjuKRkvyudmJ6fcbuN+FjExOd\n",
              "TIfcXhYU/C+HnC/7SLOJP9KqECEp/eOQ5PohYtVsWX1X0MWhEg5QhAK6+s9l3C4mGqMhkBW1PTKu\n",
              "si/R12B7bx4s48qShSMPHJHmjOXpobFlXPYFJtx6fMm5k+Blm9RGSJKsKVgfEpXKYZ60gjOXcLdU\n",
              "m/rqnt9WUP/ultAm3xLS/DHid5+0wcx/7ahIFzfiPzm90Wn1S9Z5DbXXb1ssKXFleCRR+ujFbzq9\n",
              "HzrlExY0W6vuxQGmJMPGu46YVimiRhMXLQy6ikl/48QYISvhSiBm1ymMb3EU4ozFPFAvWMTMZmwQ\n",
              "LGjPMmdXsDqqjigNBlhDE6CKnnxrsC7YO+5nWnPsnVw6vgZOpW/x+cIFQAS0z+M9vylcgfKpuZ/8\n",
              "3FADejdjRwGH1lHtP/pW6cKe0SGcTz8w/kpbs9p2+fzPc78E4Yjv3daDK5ITuYVdWD/LqIVxL2ee\n",
              "Qr5tOMioh3GDXLkBN8rNnOPntJ2s8Ssk+Am+VmytPNqj/Z37jr4wjrx6viY+VmzneyyUs7Z7G++6\n",
              "gCvs0+XMFban2EJLiELOHD4gkEhY5xhCMC0xscHy8POOPOdPx0+O+zO4AERa62O4XCTa0hXPpN/A\n",
              "IxSTyasNG3NWWdtZ9yn5HBTCZWhklQdh1FoBbbjgWSBbTVFRHeWcFoMQzTa3WFZy0Og8Cq6PpE9G\n",
              "PFWBlQKSBY4EHWm6jLP5FLZSHFvS7NDCpNy6TD7c1OjuyJB+4xsSBDHwOw69Y8n3HgEPLo4ttdye\n",
              "1Vrw0Rvvzo1zrGfrN4jQ89Ij9W08ricFjH3ojyBLzXf/F16aZOJBxkFddtiaENr8k9Bc8oQEpEVc\n",
              "0leof5lo5eIoK+v71l/LymT7MFC6Zy3hrYTbr1ja1tfkLKEcOPyCv8nj/vRYmFnv4kuLMLYO68zK\n",
              "MY7iaeEC3G1JK1fu/hrOdNcAogSxs6ZjOwNFyyvl7EVADpoj5hq55So90NKEiAgqx7aotyMqSmof\n",
              "D4BmD528/g5/+iR/v1ro3Jo5daB4t85Jr9qpC2Ga8O1oyetj0OzG25HIDQwzkB4WOHRG+0N2oQK1\n",
              "EfXxrQ8/+Cu43fjz8kjI3hS2g+jkFo+hhFT9BtsVv3Y+dF6NpjbNOpbu+FDM09cJujjiQbNJ0+Zc\n",
              "84iRudeRw+/xyls9y+wLJq/lZMJlFJQ+3EPuz6kPOvYtosEtheHwewGOWkKLTUL3WvTe90iAFFkh\n",
              "9XyzxexsyEik3y182EldIgpbvqLj/jLTpzV8s8Z0ldrGPq+Ut2fD3X3FPF4bWG4GtXEVNNYQT219\n",
              "b3hJgy8liY9jDl99tPECtv8oDwj3YR052+2ZRtcssi+btEB8KgymNNH0Sk/6neonYBgVrerMPgna\n",
              "BdXteXNOB7vNjuwoIAkZN72IWrrMscG9zRxRooJZA9Boyof+ngjYeTNB898xz0bss8XbRikwlrDS\n",
              "coXOge132cGFE1JoGZYOPr7V8vzuVvVRQRzfdLXt4PFz8SvIPbx5wSAD9PNQAUP6GusPli3seGeP\n",
              "ognRY+ISjVMI81YdGPEjVG03yBDugCfNWLef/mRM2pWFDkQgsWNGAAAEpVwB46hwDmXYI/dPlaeC\n",
              "l2SdcAtBKbpVo70EKKT1RrckJ2T5o/TT5bUB89t9Ck/EIpDLP76IH2tFyEEd1AWR5idKz1yyb5BR\n",
              "IMmAAAvYjCO9V2YWy1HdsbsmSbUfCocXSHIopg3e0HNoBXNGJcR4PcU53/df8E0cXQ7h7lRXB/b6\n",
              "929wOT/wsndgWe6/CXPPxJTEKLBDnvMVCjqm42BHtMrkz2hvvE7fFk5cAaDn8gnKeno38l21V6dP\n",
              "TRus98PmhE67A6FHupTsIBTETl86x8C1d+2lUqMhdpvcL0jmtELrAETH2/eQbmOicqIv1CCPewRi\n",
              "CRSPdcziocVo4qCJMpAqYd4++dGzKLbcIWe53pOrXzdNbD0sFEkG+Igj+2Oza3RJgn2TGF3mWoHE\n",
              "aOWujEyfc4at1SD0EpLHyu+UaW2GF+NPoYMz4n6k3w5x7tyBVLptVSJNQVmrUAOEiP/pyONpATKi\n",
              "vkpLLrkr3meljQgnL4jdD++MtZB00IboVKiisJJSpPV70dL7ELjemV7yEhnqgJVNYzErrGCGVjVz\n",
              "kS3BMD00+nTdwIofhcpgtIbHLOY67D2VB5tIRBDsbMKa9uPqi1N0E1viq2J2xuOf1wRrn0RjVeq6\n",
              "xhAAFySOS3d4oB+8kpRaZvVnES2XGCt4Z2e4TVJrhF8BuGZLue/iBAaIGQCBPd2aznTeGBZxNfnU\n",
              "byUZNNA795VaYKvIGVkCgUW8jly/2woMlStyD7UiTFyMc5bjoahBFRHBxYx431zG9EJn31FDk8xb\n",
              "t3hy6cZPCFE3fvrkqqF3Y4BkDvnCMlkQD/3kr/QqUzzOjN3bMpaJzkZ7Zc6MKFbfz//688j3Fd5u\n",
              "Lf6RRDVgXd5JePKM9aM1MpVH0ZvJPAI1GULAyvrkdXqGShlmv3Y/TOFFcu6KcU3q2g5LggJG+O7h\n",
              "H152/e1BgXaaxlYNKird6H00CpYgHMZ2COgGmXsZbzoTR0zM9xO7bZSBBLsO3SDasf9l+UGXlxEv\n",
              "5fmQhBl2g37sXEf1AkmHUFBM7ezBwuaLxQeow8foPapPZMgFa/u34iCSN+laSpvC55hlwrRWSavL\n",
              "GD4cTVJlehz1WUExT7Zkl37lYymRDIaqYEVtROepUWXLDzaDFFqkoE7KVfw5h1ESMvv6RKQG3RTu\n",
              "gTN9WUjWVc/5+B+0/YVkF4+KxcJVbPVFrzovLYOpIqu5WUCz1MCmcymURpxdssTUHdvstR2NPO81\n",
              "VNTn1fKg79vb80pb4tkqMtyOB7pRiN/jE0eJVDWYUF47zexGjsDM2ISwSrOI1E0b/4hdFGSMbfyK\n",
              "Q6eW9IlDBLds2EL1bjT4QRIrcI1Jfh6DwEt/rGn4Imvcjh5oV7qbufFprF75odVxkf+xTWt1K5X+\n",
              "992sQ4UgyFaHH7A+wEE2dqnz1FwIETqVWJTTd4Cd/HkgZMfmLrmWMZ2Qx3p4nYPG+kC+pqP6MPqk\n",
              "m3qjFE3yrK5k01VgWs/rS3xW2WHYA4S/dC9hBkDw/W32DK4YRnsaN8nddNaKEVHIjvP6qR0fQ67c\n",
              "nE7A1rPwlyz1rR3i/4tJ/FFVXcQZI322348K35+M4hFbhC6w8xpFNR1oFPQLZdVDiNm6obQ/cgHC\n",
              "VOYup/qpr/CVPZqSNnMLvZQ1H3oa2WhhsGWfZfuF1AQFXLFbQRux7PblwxbnSHCrvngJTjKLvMib\n",
              "Cw7tTJ0EBQ9bksWCfb7CxdyL4OGxqcw0nAcMaKL2ncjOBXA8JcZkE26506WauGarQy6eWmvCGHp7\n",
              "PpNMKKaGmhNcpoIjSoPncJl9m9ub/35OZH/M3lBIvLmUgo+rfQ49f9Be7gmHT23YsV5PzPw1EGbz\n",
              "iYlZG+BGyruH34X/+jqImWOE9tezuD4wXM4Ip/fb8sVdu3oL+Iy5dq17nkJ6PxtUxZMVGvlVHxde\n",
              "EKkeKb82P37OOOBZpwbWb54y4xmsyDTFqllBdhTvFq26xHzWtmmv7biY0PTDTmTfnWfnz8ez2/tF\n",
              "qGnEy/DB72hWOy/aU1nSCLSIl/bxUghx3h50mJIPz8O+d5H4UKQsnkeSKahutiQDgWjyVkHC/1bD\n",
              "PVB1cu9r079BYD1nOpc3y0myW5fewh1p57fnK4jDlNG5KjnG+W/cb8igidKNB9swcu/qqun0yQ7M\n",
              "tqGIsQ0fMunPT4EE0Pfh/LkTtP6JYNSKx272PzClEF+3VaZfjGPCwUqZJpIB16uxkhiua91b7X+x\n",
              "50ESFktpXtzsf7KT5xjwfwkz5xX58NHOYVpDD726X/lmR4LsuUVLV+L/4YIDxCeP8tctAFXwNyqq\n",
              "/rL/5lz/IC/i4uMblriiTNOyIFEzjUcC28GorC/+/zebPw+M+rNdoo2gWoMYpeYUw3O/9HSsvDvM\n",
              "nUfJWzhJIv/fRS1P4AG3bVbTmEazt3zN+vEV8NK7bSELPsv8m9ctjYOeCI7N9p6Gsr21nNrrqUxP\n",
              "lXTDWSvB8f4XrKCLgr7F/5NdwwUHVZnUMQWD6fP3oGz8zyjeIDBwxKZlDnZhliFoieWuw1euwVx7\n",
              "L/TSUCdC/kbp6eQWbfuOXaMyLpgTggkWsJoSc+yzGTmmbAv0OxJ6p6GIPAHM3DT+2M6HCTubXMzA\n",
              "gWxWu3MHx9R5pUWHdgctE/mmU7XPrKhp3fxCYQZzsDtiK3eqXhgNrkt1tk1Y0BztxIGq5Sx8CMfn\n",
              "5eKkt6qX25XqsFlwSOoLkIb3p0APbwu0KUTyyizDB/3sZbjYeMsfkGDaLvMCE1bSBy64x2KlXaiC\n",
              "G57uBH8IOcqEmzlcRcOWEyWYsJ2tRH8BhBUpg2QaRgjhLzQZk1XTg/aVrqc7hDbvU5gmS1rsgEsf\n",
              "mBScQyTN205ozjbpmHd0croul13pX+Jp/47ruSz7eGjdYZqhA6fX5EVALh/3hDVCkzPmj1YcxQK1\n",
              "0nsFcW6D2HvYUyd/rwnOltLjCMHg61ILftgh532KYrjoQjzFPM5+Bv5vRhFJZ1mznFu3+xX2DnX8\n",
              "1+K93tvTmdoFl/bsKp7mFQYT65b6VG3W0qU4tu0gTQwa4YKteO1tTR0Rd+GB5QWh+S4zT/3HRw1Q\n",
              "PSDDdFDm/+8A1ELgoEFQD8a7+yWbhww6xf/2JZ67T4LmK25Zhv4mDo5/mA6lbHmXTQfoSDihRj9c\n",
              "c3jEcYGYsd7mLsN2aR7CjwX0P+iZK5r2Hj/9xQ2y4NzBaQ6ng2HmkxXdw5UbIpaApyFzKaj1x2ml\n",
              "BBX6C5rHg8kl49vpDZEjcXmjXp5i4mN+DUO6XP++DNXHLTlXL6kNigFvvulH/fTW2ftf8xntfT1/\n",
              "3mBVZVU/ozwcJAD4D+OHzbOSm59erc3UYoPvR2Y8/QUKwzDERuD1cKwFnADkh0Cp26mU6Qag1z7f\n",
              "eWIEpp7Y373KW17ef1H3WYdkopZQua8z06kggCZeTUz6TJfdPQhOQAB9Mb/+/G1lfbS69yN1DqPM\n",
              "bIB9GX6FVhzLwTbB+EJJwIRTjKlQBQ/xlSFJ7kpqLOQM9lFtE/xMiXCFV5AI+rHmCcGPwsNBdFIY\n",
              "KN0FpjKZ6PQ2TqsaPqCmPSGATsj2chjXp3e81gbO2FHmGCst38sfOKaE3xjGlkOC83fxFTKC0KDk\n",
              "tZBjm10gMERfS7bBsScNFUugZY1atwUTmCYhy65InCagY0/kDT1r4KeS1ZpFSn9W6COiqRJkD4Hk\n",
              "SDY5gTEumgxV47A7UuYTD9b2U33OzOexUGxGej/dO+XQoGpr4oWkHOzHOLelHhbyZs68GU/GbG4N\n",
              "LIsT//FYyAeSKkLJwpUhfPC4Uo/zS4l/wjXsCjMQOXyxjnMJKoSul+s8HtHcIgforfWa+AAyqrTY\n",
              "tT/+ZZg8TvKTGHit2GWA/zGoCZOp2H9J6UgEcZ+BHbxLSh+hL02KahAzOvR1hqbK4FqNQlJ6/0Ad\n",
              "sOMVAcPoY+1wOzsDbk2+K3WeL9OfKz5ZTofDKJDXAwl/EfV8bFXVIk6VJJJowZGXikv2e8xpe89U\n",
              "9j68oSnN+l7mrJ9CakyvEWNp5HS8XbWfB/SGvP5Af9bDgnYtWcnDeqgJZFZ7UdIz9BUqQ6+BrVWl\n",
              "LfCQ9KhMf/LXi+nu+lZPxpy9S5HE3juZA9U9UmDaVK+QKyJG++bMqLFX5ZgP81bYdaWQyDjcWi6r\n",
              "spirZSg7UsuFFAyCPTZEFZKr9A5N5p7vYVNYPPrtjcgXEsWosMBs8jmo8+AYR78EESKsqYmiRtgx\n",
              "eKybdiZr/hZCw7RRe+aatcOIc/O0LLDh5W+mW3D13CeZUYoBx5BwOz6/PjGv0CPEMZbK+Q6fcuC1\n",
              "5T4R2IMyn67NUTE/sWtUsuD+kcLlhTvfv1X9uxqthjnzfoVwBtylbVcsGSurDCjqvaZ/B6y7zH5N\n",
              "RrnZpAX2T5WHNxBs2dZRJb2PUdwxtQIcCP7PagKLzCivmVTi39sKByQ1m+A40NBXA7/ghHN0hEKO\n",
              "+EpuwVYdSPt8VTeGKMVwa8I0o4Lxy+bES/9EgnqpfJPiPBB3RaY93uDqqQZhdEMqVlvoaIO0p4w5\n",
              "olSCpJF5LHM+ex8M/W9si2v/g639BX8o9rbR7sOjIQalZCCu0HJ+tbkhqLH3fiEcs0UbIidxlRQ8\n",
              "hL43eGVS3z2G6uRUQumv1SzULuBriMvHxfpSVXezSvLiMG6LA4HXOe1TLGsHCPjuJ1hlcImNlIXj\n",
              "EbHpjkEZXZVv7nplpc7y55tXZ5FcALPaQ8AKO8cJHoaSqvv2xcUs0KrZ6Y09eqlC1RjsSotxTttH\n",
              "Rp384FvOurSUBkzAMaxSUNVsZI2XfNY38SK6E9fG7YzlxYQzgT/TE+U6deqQhdvUvtuDVNnYFRvM\n",
              "nU1fJSEiGWO0Q+rZ/3hGixZ/qgH3KboU46n9e4iVg8uRukNDcXMaS0w9q5DjRG2hIj/yxvT509Qu\n",
              "UVz+MU+i/gEk4IQwrr2fVo/Ly5v6kMt0tYEewBc4DW8/t0n9cMg1F59Zkn3ogIQQI3mxVb+C7o6D\n",
              "3uaz/jAGlLdCYIgs+M8KbglNbZVo1uwgHFc9uXv1LLLVBbs3PndZO6iZUqLL8Nf6cEqJ/Z4ylrD4\n",
              "gUVVVWhtsWJmweRPnDz94Na82pjMf/Z+MibH9bsKTEPfXwAYpZoA2ErSuPsBPJUYfHsOHC8BUJ+n\n",
              "MejeUL9okufRgbdZFKnv/XcMU/P/A0X05ciZGYhc7CP2EFioSPCfNRiQmgES4mlAgQAAA6FBmiFs\n",
              "QS/+tSqAIokzESm/G32vffSjbgRIzTTYzqiDTrpeW1VmXRKonupB8R+M+wX85ONYXoTB0rbZkuer\n",
              "QMNgTgzifxVj430CofBfbVMR8Fa62r9y7QQiYv7ZcK3Pvg3cZ3+sSCHDSza4Vni932R7ORzMFtil\n",
              "ULYgYbVEyjw9S0fMrzC/IlfP/qadjX7cmsdxY6kZs6hT76RAMEN9mNbDDjnUXvfpzJmazkwZm4rY\n",
              "t/KDuMCRQd+MSTUZSLpN+XpQnuH7t3+EIj8YNaKoDJm971puFBD+US08GOJ9GmhWIkVzVKcqzY4t\n",
              "/7ySjD0z7j1RA2fzyQssC1/x3Mcq4hFDz6VsCk7kDZJnBb6mb5gOaIc2jnqCyVqgqyjVRMjBPykN\n",
              "DbIldp8+8DyZ8+53zsiRWI4oMETcwPepRx9kp58KoWI/lKVZUkbR1YqglwNucHra8Y7l/PWZtSd5\n",
              "GIk9NPy4H31cg6aZfS++FNkl4F10Cp3xsWqL2JANl9l3o3/SUDprzXz4nOKL3ZDfC3lPpvZA8rRO\n",
              "lJ1hmYsCVWPxWT++lKUDNz5vVew7VU+z46Eyi9SHyiKlq2/3yXYvy19PhmLrst0i0mN8q6ReIkyH\n",
              "OvUg8MLF+SswNyhyX/6JlYaIuUrx2SlpWXrbKJtQGNvDreRVyEIsQAVb2cx7MvH2XQAhZIt73lCQ\n",
              "f8kSiL87F2Mf2T+Hm16khV8eNuvJboByfbe8/kodaNGPQKNWr7DtGkH+NfWX6pInKbVRmcUXEDYk\n",
              "LF7KwI/FGngLsRplZUrzYlFCWu0smbm0tKpj8tb8cBIANfJurOXD4VMmWMlAUj356Z8vuBrAR3Kk\n",
              "Uq992oL9KvWOJDuLhhzgCvsrW4ZBpux1Q8vjDSaKxQAnqv6K2PnxP02cRUtq8k/9cXwik5kqel+c\n",
              "kVC6dpamNMRp1jPjtkihViq12km+wFXEsCANfEXqI36/Pdpiuhp4dnmPPaKYBdAC/CMiwxKL2/l7\n",
              "9cVTbln3W4YDyzhRE6AoUFyR6wlr23IJeH+G4D1wtnBuHKAql+VhfUjDy2IgTzq9Tv/+cjQ2SuCR\n",
              "SkC9z3B5BBZQA39GVxPa/wYl1srYuCtzlOfhmlWrCuSPT5kEBA7r14HxYM8jcmrATXoHvFgTwpra\n",
              "T5isclSqnMo99F2BNoNPsmjwfksGqzP1DT8iI5mu5bSFOQoomkLCcOFa6/QGp+oVYqi4jQ6JW3MD\n",
              "Io2sU5wgtc/zrOvPoAAAA3JBmkI8IZMphBL//rUqgCKBwKAkt+M73IcORnHHjHmJgLFYxjvuYGBf\n",
              "mCLzFX7Cf5GMlbvddtNK0D8J+7ox+Nvdr/YgFpvUqH1Pq9RLmxcucT2OiNDz3HkcFSN0rwhK3mvv\n",
              "c+iZFELv1q79rthl9pd3sV552irG8LidGSlz0IRSMTvfHSfqrHDLgewVSfQH1wZ77dygBtDa+yqZ\n",
              "dbd27zF91y++pf83WrrrE5F5Nok/upxvQLuHi+bk969QjGbNEHoj1J8p+tnTgqKbCCT3599Ibk1U\n",
              "ozOCilzdpirTWviOQ4ktW3KmsK193pqauvR+sQ3k6zLWjpbmF7g/AQKTXGTbKSG50si3QCLYk7ZT\n",
              "1gH0ZbstTzEWYh8A5IBXXVrF7VApSg6rmRhx3JHy+81ijsFeuz8IPsv7eS4drSg1LyEwbALac6HA\n",
              "N/HOndU4lsBC+9a+LfQKM4WjIuCr+YhrPBmvoTpLJ1v3y2kJqwXmwWtQdYHabN7kUwvtsoBmGpn+\n",
              "F2xLlYzf+VCYgqIIDeINI+9FD+2PVZM1/1yc6lT+leuLwqOxhp1YNBpSEcW7ST9DNL2cbC0MJDCe\n",
              "vUBsZ08Knvie/zN+ZvVJfDnQvLLONd+GbUYRyXIrFoK5MDq+Odnqo1af1u5HJmglLMWgVIdLK0Tt\n",
              "zKOlwbCIG9TjiwewODaC5dVZUq3fT5iNwZTQtD0LJjbdGX/84DfUU5O1fLUGH9CtHTjNAr5CfnfF\n",
              "y4N0KizzzL9uJjM92rWFziv6HGRr4laYo4qsB21GFDcOisGu+n8BYWukasamCz8dKGsuxrIyCZbC\n",
              "jFh7mqQ1KykXqAJBYxLfn1ZkXbWZ8L+kBsnfFmyQgVQEXVnYCXkyqMNZ4lDSfQrTs8LKfXdx2bVx\n",
              "Vriwq/vYKOwI7t+Y/KsXjgWndxEYmQquoLaeQQbJsye3md6jI7qZwZ5nRb5VkP+lODgstANv9Pyv\n",
              "QLtv5JBlvJ/YdK+V5paBFelNEHsWyKo0XZV+q1k4//niU6jcKhQDkw/c3Fhj6BanwBAPHTId76+U\n",
              "Kcrcp0jUILCa+u4zeaypumU2t7sjzBfdIRhi0cKYVnapG0//DDDLTXfkqys6d6XNnlWvh2UF+3Yn\n",
              "b52/94slluqAaXKUcezbKjyAagHPNEteF3miR+/WjGKLMarPPkDn5gd5TeEAAAMhQZpjSeEPJlMC\n",
              "CX/+tSqAIoNyMRKb8Ydkr3EQ3gTCKC5NrkAFcPzVPolu6d7AI8yp0xWnPgXmDv37GbyaK8Dx9hLW\n",
              "PJ7pY3Ez2ZR9KpumPdKKIoJKAyxizm5QwbS8dDbM+SLf/0zUhEdWM0rhKeNscEoXRIFVhXePdpQQ\n",
              "2turrEhKPhzFoKKMpluGClpaA0WdMFIs0Gpkgwc5fMLn4pj9eZsC5iM/qL+QiFj0jLT4NwwVgBm7\n",
              "eG5HPtXkvdQT7zKpmdc6lkJp5opHJKkPJjPRXi/boj4d9rth/zqcBSdBlbVXUCj6xSACUvyJByJ4\n",
              "NAYsBz1FkyBIUOMD+sXtIT/FFilqtDcwxsmJq/xpXY/ViYLcG13/KGANPBPAEHr5Fk1YDmDK3hCa\n",
              "T4lI8F0BQpdmowJFBNntVvz+vpJZFHVewEqC0AdkPsweNNw5YORYLnGXjhCZlCd6SF1Km8MgepzP\n",
              "QCtepGXe9ep0+q+SjkPpbej+qkjhNOqIL7j9Opdb/nuzSiX9TqHFuRbA6/pan5dijjmf01yHAQRm\n",
              "P5pOgCArLBxhs9CXfCtD0EhsEvCr/1QIoK0HojdrwIC2NZmTE/ziedfFXkoYAElTCRA1jArPvveA\n",
              "SbtydryRebd0pAvZ5cjr+QMXDyZESr9mWCjMApQKIDMLNIbKRiWFNr+6T2TjWkd5guYdqUAvoJAE\n",
              "icdkbR1lygaCvPpVDP/KjJwlyZmFnguoSsdAIjZpuYyXa1GqSa5c3uCvUP2MOXEGmUB30BM52INq\n",
              "zF5hN7hbVqtzsQ8KwpKpW8f4vnpIPqGoOKypdFWHIIUKAqLcNS4xQTSUKqoGRopLDMnRU3oM/vhU\n",
              "FIxRmvUzeeHN45ajUaby6tRHAijdAm71Op9eUyqrTpRwAid4VnNwdcH+qWVWpAwO1E2hb/GUA0y4\n",
              "svibjhq7bPZ+f5yYSNbO5Gwnp+WJXWPyQPVnvSqOD//P2YyLfttyWIYx2drNqq76jnScl7PsoZQY\n",
              "Xt6p6Sv+oBRihPVwVrf28nxn5wr2BP+SXSg1PF+IOHu7H52bcEoynJwif0GmLE3wxUTcAAAD+EGa\n",
              "hUnhDyZTBRE8Ev/+tSqAAN9tzH8co+QGacGuPwUuWcztxacnR18RaBj22g1Wy/ryW07uSbIqPiae\n",
              "n3Lqo34DxGkaQpujWiT3ttieFw3ewxkDoBMqLpGkX+TqHI33AE4/OA200t3UQ8B/WoESqgVw22lS\n",
              "kDpAElrcCfgqD/U1lP/WAxm2+9HWaV4dqDS3rh5D5nTq4SnjdNO+ZWsJQyvvsqnj4Po9RUuh/7eF\n",
              "qZe+0C9O9efQJdHHa79S60hM5hRVGDn6MD6M/AHBaLnogovjyczH/D+M3jVH6K72xRCAMz8+VGgA\n",
              "3FPeml5tr1y4ckqmFaSiMn46pEJdqvW+akX3ENaLPk5k/rhBup76zhe9sC/Jk69D/rOaUf69zajI\n",
              "U/xySuK3XACsbA4FCoOZqHUprEstbNEzRsbfn5DeJu0RLFiidcWQzCs+lQO2W/BxBfpHOrsrMXDu\n",
              "AWukrDFRsKhKSnSxAPJ2+fg46Ohe6iH9uEgJUQPlEQvSKBq8DFSJmwaogJLMstAty7z1gXW65XvK\n",
              "3cWQTr+ZtHcWgisIh6mfK9Bhr7dD921udaKqxmTeC9/fumDsj1qXmeCGxamgGvWWBeQCKb3X5s09\n",
              "62uesZ02Vn/rw/Vp2gHhjWXJkxsXAnzczZV06llLAY67DBN4Kveuj5IeS3jj4HyH343A9GS0kmhs\n",
              "mq1sq+o1W+LlZ+0IJiAlYxs/pYUJ0FszgPBfsV7RbB9388USMYEtbzk6Y5DN6B2Na18e4sUPuxAM\n",
              "6sbJWN8q7LPwXTdr7HwA9fB04drYFEWs8p2u/VYY24oxeAUcL2fr+gcz1k4imdlHJ5HJAVqKK1x+\n",
              "itVL7j+1SQF/wuoVhGEXNnf/1IQQcfd//TY5PNV2x6Bd4fmy8uRxkf55geOnVbiqAU+fICZo4WUo\n",
              "mwhBM65ONv+IZdtRMxufjuHyDCVAS24JN0F2/N7KK2NmW6+2zcciCdRBypmEAdz6mNbi51skyvGv\n",
              "cUOZVSpRNXV9AsNl+QJFl8pyn0gLGcvqzi2YtGIBQg0h9l1Xxe2/lYqgXC8oZr2K6emmm4mboOc6\n",
              "CUiDFYlmW2bJIwmJh/fOJYF7W3TOBsipnLUKBxCuvwG7foXNCQY40Pv7X9eH6AxKW5TLmWzMBRQ0\n",
              "1z6Y62znB1Fo+qULWMLeDDgPAVnO6X77FW2Pzklmuv62buQ1cqLw5ShM06c024TNZw1C17ACgo6l\n",
              "roqmJwcdxOvbwzSe+ha35cjW3M2m1FlteG92f9rN/sB8t7UbsirKG2ZHFsjiyJbn6ED5DmPEwQUa\n",
              "pP/oxDyoHmXbbgw/yhshZAFiWH4/cSNcM3XvH1ujo3zv9tj6DexmsnnjNNmBAAAAiQGepGpD/wAF\n",
              "DtZxoSaqW4u5Y9VUF+8OPI4RSZ5mhgAGmLBI+NnevbXeRTqkGH2Azi7XjfxVDwLN7/WBHwigC2kl\n",
              "WtMokMGoxXhMIc6hCLnwTmT4WaUvJZH69UfuUXpmjB+11ig3bV92ZWSk5/vsw20i8J72xrbrH0ws\n",
              "VdzjH0Qy81Sq8osb2FtBAAACMkGapknhDyZTAgl//rUqgADfQkaaPAAl6BrlwmnkI+p7v5tNAmJl\n",
              "bqrKKjO9j89nh9IMGgkqevJ9KK/7cA9PNXpzxzYlR8nzBeq81x2YoZVxL0rIkk/JBtT5WiVK9eAX\n",
              "dbDkWebDoN78gU45CZ8eV7WzR9/XanQ/5frfyL9n7pMRibXAbKW1kol5y191yfPFVjI/dO1OVsxC\n",
              "kX0iRfyE2vYw2OVJSjDgd8Ais5OiK8U0ndSjB8yTg4chm3oVCxrOefj0y6Vo2ZoC9wHO1oxu6kfK\n",
              "oZaV6uVc9VACaSVyc88q46PEaNaHtsG/OKY+0QB7/IRCmXS7hNZaO45ecLHuns67tSB6lcPPmZOD\n",
              "fRGS1s/nAL3FW/KieLDbl9KHG585uXVHkMDyN2BkfC+c+nWDpCLi3lJU5oa+u38fqs0jgrpXXuQy\n",
              "4Qtb9AauMvwZYeG9jf1rxfn7dY1dhspnxrhF1OUGSwrESNQCm8X3WcYLH1ILwnp8b7mRyo3YzZMO\n",
              "1y1I+62Q+IVyGSshurjTljkT6FgNhaJbDqIcYJBkHxkiwvLIHpFC+5fg76C+bGPt1KQHkxflgCzX\n",
              "aea9OsRuOjBC5B0Js5HzfJd6RwApuTDndyy9ZQVDEwNdbO/frcYQcwA/1KvdTj8lRkl0XIikXajU\n",
              "sZlzpYZrZ9rERHc7NoN1SqAv7/gqwXrCUWmmRaXhtuCixYaU2IuGi1l3tj2QX5Qw3CbAE35A/xH+\n",
              "n7r74xAKWK9AsoEAAAI+QZrHSeEPJlMCCX/+tSqAAN8PhO8dQB7M5kmCEAQleHXwBpZejjgQhAbE\n",
              "Msz9Qj81aCaAb6J0Dq/ZDlwBvD7wc7zMn9+mBh9xreHRB9NBFeurcFZi6RxAg7Bi4d4JA1ekp8/F\n",
              "fkYBM6T3Lb59FmtI5rvD3nBzqGA5dXACF6FvYl1KcEtSnpQKzxsrcrHzNn06WWhaNTcDPpRisXPC\n",
              "2qVxxbkGt4bql8oIXxiOqMXpVUQyss2XCiPYfP2UdtMNJWwvlbDPDzXj0B6HtQvV6QAD23Rp8kJa\n",
              "aT7whtV3pnAj456hKNGKuj/oxArLZDqzKCyez4cmk+1ui+I9CCeyAfe4y1bbfIeScMRa7zIcG5B1\n",
              "hqauU0G6o9rUF2ECdIh8zJUz6y8ADt5hIp2izwfqatz9trtQ4H4/a0aYQR51gHgzsn0KHxAp2LmQ\n",
              "T8j6T26kpCMQdIYypxpyjYr5CPnA5iD+Yu5j+wsdKA7wXnST8fefpyjj0xavcWBIXhJ1E1mbIdE2\n",
              "FfA+3JtX4yECY1lBk9ouALTYr2K2C9Ep7WXzfpphohznUu6+42STF+VHzlp3jH8EasagTqoZtDuB\n",
              "JMWUlzH6BDmWhy0nG6Rx1SDrhhVnGBwzb02U81qSJresNYrqgqD3VFrbIBZHIQPdHZGjtKzXCYNY\n",
              "flK0xAdbGTXFcHg9GyVIuqXtW77SNDA6GunhSJbjnc+NSCPcj06CKW1AFJF9PJBctHoOCHoz9IeA\n",
              "D/d6WTvFozZcj+3QLuRcCaYUkQAAAtFBmulJ4Q8mUwURPBL//rUqgADeSGLArUMBUAOi4yFCvBl+\n",
              "qBz4kPUWb1PVaiLh0RN8tKNoLxEp4sh8SchQTR3g8XWccjf83L9VS/mJ0rp65WAyM7yYY/tohfMh\n",
              "nH+yKeM3yYXBLEvWeLcZ2yFMB9De0Op8Ta+u7wrszvBnyPW2Co30ftsJT2DX7tjE31t1X32muO0b\n",
              "iL7jFDHDIrANCVsJPkyrNorBFJszuQkIVtkAav2B3jvIYzEx0utD/ofLiD+HY1PTR15AG7ZqdSyu\n",
              "TXVyYs7IgI7Sj3gPstN9kysNf8NctDtoBxpTesW0+KEq96F4cjje4wn/KiJaPpnbNovaojVwd6Pv\n",
              "N7V4LyV8pXlUCkHlaZuEVxRHBy9vqIXQMy3jxtYQp821MOzAsTNUgHDiAdVlEUNjqTiIPxYQCxyQ\n",
              "ar6dbnkXTQj0VV6Ex8YMTaBbJy5BEADvqYbjRqqZDJ/wxk5estziR3hXgAtHL9KmmcR1yrjRI+yR\n",
              "R2SwV42NgS3fJzOeIV9x/C51k9KZ4z9nlgD+9qnfvD+TpRjuzo029P0CBilg4M9NXUJvaTHCrsZp\n",
              "/7zs4Y0lSeCeYQKvNOlaAP74Ceg5ekozJvC+PkZVtbjuShDZpkx7bidlqkniNFdIB6+Ln4seIwJZ\n",
              "DrKhPZxPNgMxy6NHidOJf8OP4M9KwgBBmS3qQasodPHTlv4qm9A/L8r8LFjWWNyD4zVwYaFGOlqm\n",
              "haWAlVdnZ0gHmbnaqp733kFcAzZGph8IXD2B9NmMpTnUkkm7oXUUMUAZvbvxsJJ3RROPTyqb1uJU\n",
              "1FWXVP9YFQGn1QUXI0/2b0vmgWTAgubwkiA+i1FeKOJ451Yc707KBkmEAT5ASSEFDDLjF//5/r44\n",
              "+PHBeudUr6DMfT0ZpbirRatTE4glkMAub4TWA6Kmg79pA1ItGc/sbRqiT9NxdJAmrKV8EYu6+FQ8\n",
              "OVBAAAAAZAGfCGpD/wAFDtZxmdN1rctuSkfACVxnqR/iDQ86ZnbGt9mAbp4FD024rasnhCyozchM\n",
              "9awsRMjRDEUe0vftLCnOaK35QeUh/LPqTr8HN4m05p5VyiH9neQJJ4C+xDLc74nWLXoAAAI2QZsK\n",
              "SeEPJlMCCf/+tSqAA3m0fABZuG2LrTBg2/Hxx1tNsCnxL4gY4MqL2UqLQow3AVJoOCfRva/NiMWw\n",
              "BTXkoZAYbIb8lOtpqBhfxtD9Z5hA+I6bcWgLBT7jaBaxnZXQUcejr8s1YSR1D92e9/AyzWVbXMcL\n",
              "vUbMG8pnKWVwXcek/GBbv9yZOk78oovbGcvvNzy7QmMMcUSfeOMX8yuH9MRHqhGH3YTMVveCoKXK\n",
              "F5BoAsds/sgvvvcKaoRz1an/RiRGv382j9rQsc8XbwKbWgu160lM8jg4FKOC6E2TEgcZsC1IPbk+\n",
              "4rhWKaQQIVME8Wm3mXw1yjfknnuHo2XpKlV1d3l7iJVTgyCQ4yrkovzjXMLqlIEpJHD7imRPu0lJ\n",
              "4VXsgz/4NToD0aH/xxoIW/P5HhNOryzdgcDRFkRDfznSGyQIWFiVjbpoUXzHkhS2eySy3uWwSxxk\n",
              "3vG9g+KZd/pWr9PbrYx94XkKJzc+D0KikYHmNK6CQ6YVyUF7BC1FRxV1AlJlQ85UHtTUBN0FNOLt\n",
              "VBXw49+kZAfLTGd18CeBlvEtbQ609wxaMq3LpY6b0eNmDj4jE/BE2eXVQFXeJNXcMQ7t5phq1HOe\n",
              "yZdofaZkyh3djwmfmznvHcnotMBmQC6QnZrNK4ekyyW0pAOIsbStHC580yqFw4J4XUlR3HAO3LJp\n",
              "mBxRY6csaLNE1EDDnHIDT8VWnMCA0yUmTCQQuwMC1NEgrRF3rcWYk+/Jre/MZcqT4ZUAAAJcQZsr\n",
              "SeEPJlMCCn/+1oywAHHjreqAS5zpHb14wWRyA+qTBWJknVrcLX3J7om0uR2/Hi1d43/oQmhJZszq\n",
              "Bcfc+JuiVvzB16ClOVjHUASG9xJQA4t9nmNFQZWqv3fJnt5tZZwm3roXM/dwVdFsBSNBuqb2jsns\n",
              "gq6GvAGEUNO0xQIksve7NBePjUCpQNH6tiIdjmUOXx98uwyg4yiDdGSHW5qjFla5MdRPQhZ6KdBV\n",
              "++TlnfT0WjNLWp60eWUQEOuOEaG+Gh4XdPPP3xI0ISEFOT29RuxBybQj6riSh/OgN71LlJX6ZtIi\n",
              "OVnkH5YfB9ScQAzBXAU4uH9oFXzHJfy/TXgACqKNHYa77/ur2pqkeUEG/eimJvtXFMviEZ67FYY9\n",
              "/JE8EUs5oNYYNxwFn716rvhsOwyxjHrlu3yjW2YuSNVKhL56byIBgYcCtbB+xf29kdIetoqW9pDV\n",
              "gaPmRhVyqRBz7+St+fupMg5c3Zi6j7qwXcCRH1FPBsVPZrggFB3AvFAPiQpy8xDO8ngv//TIfh04\n",
              "dmBTxRKTgx/36ACyJd7Ut5qCmo4oEE7CQI92zV9lt7zOrQg6r96u9OXwYGsc41tgZ1avmJVfKTrE\n",
              "V3IG0XituRa/2K3JdR2JZoaPjn0wnUrtUsA/rmWz+8/Zov55pRNgNik1sdAf0s5gI8r+0zLdZ7M8\n",
              "3aO3B3UbcAHcHjSAVpPexBiWj8zPzehn2Uxne/LYZ9FvUyBsykImyt3/JB/s+0NIEE77A7Tr1di7\n",
              "oh2g0BLlZU59J7cPW50s0Hi3jyobZF0LbBW1FXjccAAABDNBm09J4Q8mUwIJ//61KoABvJ0hPMjb\n",
              "QA6LjvAX+2/htHgriTbN3dG1vZVUMl/eNFZu9GvkT0fftfsGK3ON0gRHvbjav4EnKB2/W9tfxfZU\n",
              "6e43iYdmPgpaSehm+441JWhfRdKlA/SyuL3sqGbG41VwZazAj1m9LiUI17ZQuCt4eW+JtsPjxwms\n",
              "nV2wLu8QEiwcoEkUwSoVTcfUPdXYEGNQl0VXSkqokJ8cCaL0/D2KqNm34a/dk4FIK7LyIBRwY28s\n",
              "50HL1jILUALA1pSRiEiY0HEDk/6vGu41u0qYm+B2NwKZXakie+BUQ7PrITkUwdILRLs7f+F/hVBp\n",
              "J9hLKgnTBGMkttzutYYcQpfvaMLhEO6ls3yOMR7bT8Es8nbhu3Dsu+uCHEeqNVcfZMTskieUQE4d\n",
              "wZjKaNbNIvtSYt46Ar72qq4COcdoO2uVHMItjqYx4GT/K+Yhti//WPAe6CHuO72H8I7U67NC1/dc\n",
              "TksC9lM5O9JY+DIWHboW7M5k5TeVwnrKKJNgi5rBdeWP23aPdXWBezOHAOEIkq0d5o3Ylwnj60hp\n",
              "SjF44ATs6ue1zfVCTNPsyw5sEghz3MQ+jpBLd8U5gwqFa4m66WlVOb6iIf+GEth12VaC8vKh0qCy\n",
              "rpT1C/IRi9AuXP9KwywJ176isvnvJWnLNGTrd6q9kGb9O5T/7Q37NwEYP6giHBlC7QyB+VNvmwo/\n",
              "neFxXDSCMyxRAClCpK+7tEh38qzhQoBvLomSMq/oYkNdzPYPDJgc3uMj1NPrwk9ubs54LtVQLI70\n",
              "ODFoPs3QE+eORKVF9Q08hmq/tYoOtgdnfzhf4YxpVQD77iWHCfPsY9+yAC03l1QHT3OO+Eqetk+0\n",
              "41W/Kw7ORrwGwYzpqQBB/Y/m+rcT5KU9xzaqqaeIJwOM5OkSoV1uArUmKhx393qi+ym68Oprd9Wg\n",
              "AO8bD7BuxMlD8JENXiwJdneWSKWMyCTETgHt1KlymDSZxyJsjiNI0n3oryYs0zvAYvadNdX1c1DB\n",
              "FD/4HJomDMk1t/S2PIKZoCoipc57pFVBKukXzu6uVXxZQIQ2CCsAm1q/V8Vk3dWaeTP4eluJnIMw\n",
              "vpKt0sbTxhqNhHOHEPNqpsJGMyz26To/UGTAL0KwunJu2F2VBy7A8KQaw6n31xPkgJUsZC1RQAXr\n",
              "ZhjW0SNQtYQNi1fX4CO+wxSZPcoH1RTe0zUP+w1td/lMcaVH49XVOGvKOyAc1HRKWsy3HDyeh0nF\n",
              "jEoSw3/IqYJh9hPSRFtUD0d8b5Q+hMv1FDKiHwS/02rcAnEo4clak/P976rUuez3k4CUi5g1Oixl\n",
              "o601DVDSiISXIIPDqXJNOkVGt+rh1Zwl5qowA2V6cYU//pUi7CfhZU+5BPW94n1r8gT9D+/5aRYp\n",
              "bg6xpf9KGsRIBijNtMFz20ROLUCLGmwa9MsoAAAAt0GfbUURPBD/AAJE41dXTCaUOhgBVLhAvqKn\n",
              "XwUqHIoVgyGoadSKx29kwjDg7SjUnvwUv+Gwf91fyQ6p4cToVJL7bptsZU+23hbip74NzpULSgui\n",
              "slL/I6nVkuPVD4CvRizTkqBMTioG1gPhmHB0Gjl0xZxR2heaBgEllm/PW+KX+EAFtJwf+UVcwbsC\n",
              "fzOzbW5RU1blyEud8RvfqY0nuBemOOdnKmr246FluYyRO/S0onQwSEiWgwAAAGoBn4x0Q/8ABRxc\n",
              "iEnDZUshYQS4etfX5aPm8AFzjGvRZyWGTXlBKG1XWzMwY9jruZ/3htGGLGgkkLHu/CorKxy3NNoz\n",
              "va/Ee1xwGlqqGWIGTl3Scsl39Qcguf1zf0vSHD7yoM2DOXlnjUvVAAAAPwGfjmpD/wAFHR/c55fI\n",
              "CDfMAYrLDBSdlcDSHmIAW0YqrHxNBiYM8QNRMSamFBAEcLVZ6+SZASBzu/v1Fb8t6QAAAz5Bm5JJ\n",
              "qEFomUwIKf/+1oywAHHRScYpK3sYACnSJNCf3l5sWeR080G/CmZBDEir3p73NPCsETCgvgGH7MuA\n",
              "Hwi6ycxq6eaQSSLEc0AtUScF0O7OyXiJ7/HczW/yJta5Lo2WearnlTwBLBi5QybtA4kauDid2nOT\n",
              "9fY4q/aGjK5Ae0/1nMx0hH29GkWT0dBP7EyQ8TPKWOE3f+Xi3FQTTE0Xf9cVx+Sbg8NCTTTUlgl4\n",
              "OnV13RBFSR8EzM7+mP0fOXJQnkMMO1jpJ2bOB8BDYo+1SG4zvvgUgoGKiuV4cioZCQzwOjone4g0\n",
              "Mz0Rg4S9W3tAo8D4O8Jy5a8fIhlNFcIfTWi25l0aq8IDRQllAHeS25uAQJHvxRsxKfZ0g5JJuaee\n",
              "2OxaXaW1nGArt/zLZJLZMFBSbb7jOstOL7+KUP+sYU9/Si/522g6lq0qd8sFJGG1c/RYUkzOjkZP\n",
              "nfQLSzzkcMeVunSMeScdwaEk/AnV7a4tN9GRk1cC5/TJe47UfAQmXOzAj1jVjyZSlFyxh0wSKT6s\n",
              "Lw6p6DJRPvoOkqva3qnWeEUSZ4QuTFnoJZmpiIhdC6vLE5D6R03Wn7gHRJ0aV4J6DVn2FTSsBkfw\n",
              "INEuvYF4M7DlPPdGlRQgaTO/DLSbZeklCuVmkYI3vV5DbjaNnSPefMR37eCiUCm4wXR/UILPqCRk\n",
              "QVoHB1hCB0Fzt/5OQMT7iSTdWLtlqVB30JbiY5EWZCglZrfU6m1LMvJd+za3aHwyuq0i/VkOJHBR\n",
              "rKhY9OnZ2Pyg9cwQOmwtnZI16tuhmnDkFljMcHehoLhXv1LbFLl/6+n9pOJECHT4prWrlW+mVlhq\n",
              "nTTGfBydcsrg9xJHowiglbjHW2ZlYrBUGCGar0qf2qL2i+18vLfLy6xIl2D2uCZ/9TYZsG555/Ko\n",
              "G3ZSbYEv/CSdVsOSfyUcHSDmG0FaV7y+6mS3aR6z+yjnWJEtWsesOeuzZsrlXfvM5Gc7xeI7N8Yz\n",
              "b8j+7I0BYYXzN/PH0Kt/zTc57Dy7Z/LtbC2gO0dvQiF319csWv7sSPmUDRyNOcZ5rb5zP6DJ6hb8\n",
              "wMIn7eI+zVhSbKdUntJrRM6k9yt92/4OSgCLgAAAAHVBn7BFESwQ/wACStsuGHNvbCjgPIz5zvuy\n",
              "ei8rNGIAAnP39zLeCBg+fFhZa9Qoa+qHy5MJdYeNuYU+CZaPZ9kIaZ6WBaxUceHoVuGjABgaCoUx\n",
              "arf23/ehxTxj5cTW6i90wLNrHCwrW+4ckP9DCKHbBnAmfqgAAABBAZ/RakP/AAUdH92GhvGHESPX\n",
              "Ti/V+/b96oRHTQAlYvUMGOSV7VHr85ZNfuyR3c+SO/1IDYWLrU9PcXc9UkhaA6cAAAQXQZvWSahB\n",
              "bJlMCCn//taMsADjoirM3jNwAJYIgg1T221d36iwf93+XTjFtKeLT4Thw/BKOsjJEguuuBCA23d2\n",
              "2TGoP7l6xMCPlP9PY9IDC3Wd9rONjhHBEPHfhFhmPJNW9VOry4Kjx7K4SVXTxxvk+rliIAFvAEzc\n",
              "1WPtdYQITAw7Th5lSYh0BXMP+h/j4MsPFSWnJulFXnmmeyymi7Ns/wSAgfKH/JX1ozec5hOGDhT6\n",
              "fYfhdb+iRiDj+8AcjSd+cei4gl3CLE21FnwUY44iTCorm0Gsq5yU/COMRIr27itE0W6dss3o9IQm\n",
              "5yi8SNiPSpX5e7i9fbHLv5HkOtQRETRPEE7a5g0dCA6Z3fQO9o3qWEeLSEqokz4/xUB8y2EC2uyC\n",
              "iPZl89U+rwziZRFdIZ8tnzpZ4hoXWS5cK7Mv5q7skJvQc3Mp0tu1/nyOACzYk69+JeD8MbEvvvnN\n",
              "Y0kTywjyoj8FjkRfS3IDKFYkUF6cUE/0AzaFnW33NXBrMujzRk2MlzSXYTFax2FrYh9U+ng5/h0A\n",
              "N63odoN6+r00eWiH3pUjHM9XMr0V5ONAyMbpEokG12cOt91aG5+xuRXflBe47Dr6BLer/VM5D91v\n",
              "zX4jZs7FLceNxlTR1Hd+ib0kLDKb+T1URm1aVQU87fb7DdBkvJekCXA24jeKo+G2r3RtwgQYfy+5\n",
              "13AH7TWc19j5GZ/g2YEOPOZZQfVWDhey5v3svVgKJu5/2tdIARC9iZbgJSz7Yd8S9WrxwmRPbZfO\n",
              "pmgQaC7vU6pMOR91kI0DNlJgDLBn6uaX+02ebgRzQJODweTTtpSBi5rleUyGd1q8U+lO8b+po+ap\n",
              "v/lhHvIXHON4N/EEJLOW0zNRbEXVSTgiT7QTw1XNVtOCUUC5KMTXvXi4zXJ48OrsI6ag79pC0G4C\n",
              "H7NdQFl49GDptvlGU1iLZ8DJp5QYNjfiIfrrcmLnMiovKpqr2obStu/g2oQj8Ap0bSJyOcGKcvpt\n",
              "hFbeBhT+CMVCTpfmv2SDLoPUtFS4xm3BNT1I5RmY+nfx1GmulVsZoXji+5J9NU3jEeOPSdocIPUT\n",
              "yvzKEofbNhTGwm2s6xoW2zDn57d08v1eYe0zon46urlwsA0UKmXsmBo80Ds/lXJhHGOEl94L0mnj\n",
              "biFgRokJAifIWbXflslgB3HJyLW3GDffzsss0Hpg/b5bDncDRfp4Y/mgfzLO4i9bkGiibI9w6OvW\n",
              "hXc0eB6JyySfvi6NGMGkYViN3XlhMjqUc+TDLQGcXZdchfxizXWRLKsB3pBI5Yj/A6bsA1T3bY4x\n",
              "iQ6gcRakx6KIRKf9l5GpQLdekBE6sGxFPtIKTgSeW2MfX0GUECyZa+WjTNPWtBKu1nBO5F/hpYDp\n",
              "GqeVMFkxH1mpfDieVQogAAAAjUGf9EUVLBD/AARKr32g38CAHxbZKdX/0U70+/1eyp5j9HXPZ8Mb\n",
              "ppWtpLUMThgV2HYCyvUuBYbgbxkMpUBJIukcCFg4DQ9ygvPDPs2F9SpubejR7bq4Rufr6suMIAto\n",
              "SUEaJvy3/5tRGIW+r+GYOy0IMg8jLINnYF/WQh2bdvRArCBYUr58sv9bktErggAAADABnhN0Q/8A\n",
              "Caxmml4w1lNU9wOj6jEH7MGEPhQS5zrqx9vgDS8Ne/kOBFJUbH4k8YEAAAA5AZ4VakP/AAmnv4ZR\n",
              "wAnvn/MkV/aMjvyIbCZiEQEoCNd+4eiS/tJ/43ptvA/CIORuvHKNEvolfZuAAAADc0GaGkmoQWyZ\n",
              "TAgp//7WjLAA46HYeVSCgA6W+/SgNftHw/xsGPdfRyc//pu7krYL6vdvsFGrHDig8G8dUkJVH8P8\n",
              "rfM+uxSRQOQasGputkhGesrd3OZNdWpwJAVvl4i9XhBkJQQgc8Ciuu6xB3XekNEj0/w349xa/adb\n",
              "uhilSG7UkIF7xoPC1AGd798d3hdJVuy7Omkx/ng1cIKAbtNupnuBoPggJd4ncsuprlIkl5C1eSRo\n",
              "EF3LmXv5jC6/VtvJwXAkDLaY9HHh7fsTau0AFFoLd0S3/p+N6pQrOOyQCOq3YhuFOhUeo2aMe+TJ\n",
              "4T10TP0tW0W5UWS3YAh/wBdWsLzun/Jl0FDU0LgiVyuI1suMUvjBVxRHRstki2/ul+fh6mM4vfjp\n",
              "dtHOHeZZ3vnAEChcSLppsSymD33wELQ/k+Z/+mF0h7IqT0leNNHa3O5m6zkSJWqBdnsPImwBQXqN\n",
              "cfMJZ4947/RNOIkv63NusnO/5Ye5ucQpozUlMF41ALgJ5RF/KjIsu06L7lEhpOeD+6hVzwll53sg\n",
              "rHcRVUFTCYTfd3fqWhv2opMNBut50FxcKczQAUq02kjNX+MEQcSlpbmk9dw4YJA38D6+4xNKWgA0\n",
              "OHLMga5lFimWAQyYiQVX8SnUh1yUJFLBTUFns84G9f1S6JAOIMGa956vYNrBOEcyqVOBHkwNqLQG\n",
              "f5BXFBjk7ZyMJZao+FeKphkJIT04IyyndNg5/2kibxc+5YTPC1U9zukgxY4F1BJbIKhVkVa0MCe0\n",
              "wEARbwGKKXPZIbJmwiqfCmOOaT0EBePiLeSZGBFwTqrPRax09xt5VB1CMl9BALiNJR4foUBrB/7a\n",
              "BB8nJf3YAecyRm9E/5nJQT7757XU+xmXM2Xpfs5/T+qhoDIz0ZWOwV0lfYsH4MQPQlAXt+UHIn+V\n",
              "+71y7dhxZbOayScKHHlMEOKVgwZ1dXdxXFWpnzvKMtKYMxdC3CqOzWY57oilmbVo5z4J6I4/9Dt1\n",
              "x5DYuCrc6KAri4rn8Ya8uAbhEjE+JIr6g0ysHJTA+dNwd0KrhdsLInseQ4foztEvHr9OUW8q4H5P\n",
              "AfNQo6K/E5uIGKQMjuFsRdTqczdpl/9VV2bfPhhsr+QBOOoMJXUl7ySaPiDTwl0U2Vo6cId93S9r\n",
              "8ikKOJmMeTeBqsIoBgI4KseRtYEAAACVQZ44RRUsEP8ABEcENYNNjIAAbLb2JMKGlz/fdhSffWTJ\n",
              "sdQ0eJb5nso3HB0r9J0axSKtpSrW8HEYjumODexABmG6vO/N58IAUWUKxcaYFvUGb1ei9ds2s7G3\n",
              "8v9D/6irEGTzZMdQ366s+/4FB3Tx2Q5FMZEP33F9XBQ+Su3z8TkIuHtKmG79Y7INmlgOUcj4AoCe\n",
              "S00AAAA+AZ5XdEP/AAmo5LDKOAD7RzpZHad9eenozp7Gtgv09Yv3565GDuEmYc86S9i5FXfEHT0T\n",
              "HkoEoP1FZAP1qNwAAABJAZ5ZakP/AAmhuD1N9nB5LQAgJ8tVVPFO9x/nZztNUf3Svv5MfdsV/Hit\n",
              "wOdd23YP36WNrvc+os8hpWawUeUfBqnkwiKUdl+QcQAAA1FBml5JqEFsmUwIKf/+1oywA5PlHAB7\n",
              "KzBg5fjly4IWDNj6xksgY+FvxqFUAi0EDn7dIlQnf34fbmwvz8tdP+SU20g/ZHuWz9U/As4igFKw\n",
              "tv5dB7LnOOO/HQP5lh9ipxIFGfE0H9IJZbOxB2IzLxvTmb1KJ9ZA41LXoGob/DIvmRHs2QvPqSqa\n",
              "UZVmzc5rxQBJbOFDt+ezngLzu2gZ9cbPrfw7kKvqmKvO3mHnhpELGH0lz4Nne7hsA5ARLY4jo1Lk\n",
              "of2NQfaM9oJgOwU0ZkgVp+J/Fg7Uf//C5xIPdEvZtYqT9V6q8IqO4nuQjc+CpNPDeSSfpbthNNll\n",
              "FOEqku6wFuvJgsfeUBUHGychkoFFVKcZKn5BgTiPwuXK4hJkyeEdWevJAI1WLP7LtUGUNgOwkluG\n",
              "EPVUGJfU5GPCZwqIq5XAVb9Wz/bJhHBU6vZYqwcG/0FrhNdlyto7COpEozgY7ti/06/aV0fn/xbn\n",
              "qmdjLjRdEUZUuy+4I2pxxNk165aBZ+k9FxPrqtpOKyBDyQMiH/gw4klCoX2CWNnhhtR3IxgDA5Ii\n",
              "0+IpquGa347Bl8n/4z7SuPCgup9BReTNu4irS6zR83nvaAqy4HjxT2FR/ebQV95zy2JjGqNtUWR6\n",
              "/ezLuvIX3ciH+k7bGsx5UWnlE0FYIxYN4b5g0YO4byvHMQ3jEWjPXhggIV0u08EDlG1xIg0Qsbe3\n",
              "4JyT+H9lr02O3NyBXPYKlN6gWUdMOA1DCZ4xOCGCSm/7c+cCLO4gF87ROx5NnaDtQ/VUPJaAQEYR\n",
              "FOgiRylSom6X6dJUAEipL2dgPmgLQ0MvNjfEeO8ULw97fI1ESNLRWTFMn0/wJc+gSU4vQXG+O245\n",
              "AkN1EyUb3vchSOQRLTAbHihh7g9+IKwnWzVqZNTfPVHZ5UfzyHcNNHJPHW9cvluf7o5kUAGt4NOX\n",
              "Ok8l5MIoxhDoNcumS9eyeJRGU+do4sBw/MKW9cg/6OviN4lmhqBzLsoyd6sxPXVzyL1hFivY0D4s\n",
              "XCjAc8GFq6xKVFT/R0IOLt8XPTODVrhG8vRfEgo6lNyw2VWDiEYxL118N/X0JtTv5jlO0iHFG1Kw\n",
              "QXP7DNXXP1+n8EjBlUgE0cSLgK9h2f3pENarf7AAAAB9QZ58RRUsEP8AEVQ9vNBQaIhIt+AAhNrn\n",
              "SXaw+IaKFugUUIAYMZ4C/nnIUQYQXVKvkiMFNJg6qC+H5oxoCAjzEOjYQYtsygrBf4gtSYfI65T2\n",
              "AOnhlzroGc0j08mtYejoQtqtdjx+tR+pFYdXjwVD4c3HuVJkSmE+MoK2VB0AAAB6AZ6bdEP/ACar\n",
              "lTASTv3+GW+WTwAC6rosIFsd3C8PjF6lSi3f8UKnV0hsHEymG0Zk46THAcoKbu79MVs7d2zBgUZd\n",
              "iCP/qdnRtFc+W29IKmqw36QF7CnirzGibm7MUkK34II4R4lM+WGkqphP4T0+8zSnHROoNq4z+gkA\n",
              "AAA8AZ6dakP/AAo5PhR2MXPFABGOlxNKircH7CB0Q077kT/iSrBC4/ukq9CCkZxFccMkmG/1eFpr\n",
              "1OrztwXcAAADnUGagkmoQWyZTAgp//7WjLADjwREAFpH3bP2YSAJdzmuKmoYUSvaRoiFkOPdn7M6\n",
              "Op+OCueSaweZ7npb5W+BuAtJKeb89mYUOqd5lEhdlJyd0KZa8T319dVfHhi/taULiOov+T/ib4Ve\n",
              "gB6TS6M+GybdFTNZKPZYG5p4LySn3+xw4QM5KpOpd+PvEsqarjluY1jDfiOCBbra4Lb6EVf6qsw5\n",
              "Odb9X/elHct1fu6MHhKkZ3quRIWIZIMh+/E39EudrJ91KrxaFrdZEYt/XIB6olOQ7oLvFdsw57PM\n",
              "tiMJWfJxJjOXlr8115gp6FxoO7Rho5yGTFhkEpkcHB+vrpMNp2KaqGDMhH63dTOdGg7o1h91sHhv\n",
              "gW0wHCHJT1RC6V9P+9EoYYVtX8aoa1mZ0c2ZsSumO8LcjWw2o3BVZmep7eIujUz9Tt5rHV6YXClm\n",
              "DOhjLEtF/tOcDJviSZxgJ83/+lRxJJ/b64AOMXuQwTViGVAMa45hb+tYZseEz10VxJBhjY1cSmlr\n",
              "e/ZRkz7bwEh5eTEg+nBEKwwdDNHEqJ37H3/v10FDSuhWGkWTu8rinS1iHOuuhs6t6j8REQH1hhuR\n",
              "Jb2sUv1Wf2cGWmkuG1WPYwWXLumNWEWfXitcOyVXbpo744VA4YPoPRxTRpbeQ3ctXQzNuGEq9rEn\n",
              "zA3x8yu0n6mdODl6cp0QeSAMx+0q3B59NrRhjelJIGlzTQ4ItIKah3B2VRMpl5N7ox3AaZb4P5wd\n",
              "hSGw5kZCtzB+LLiRskoaYaxObvpxfaBOVrUBAHw8DHKgy2ziuDZbvGB6RvzHlk3hEvGZGUbqxXU/\n",
              "iZ8cmYLp1+p9gV4wafsEHXAsVIASX60+A2A1X7owfa3ZSWghRKNHPeLLlihtdFx2OcDXJWNp6O6e\n",
              "BasEwHe47Fu2l6rMKSjxeuhJb80QMM34hD17a0jlhfYmYUum+tL+ORPGd9M2Bhaerl2YuK8YHCvz\n",
              "JGh4y6E4LxRZqnzTYzqE5JkIFsPNQKJ5yN8WmXkIXrP2FW3VRlVKCOu2YP5ot++tObLTHiUuaX7j\n",
              "EdVzACyLlZdfwPfvTzOXIMnPPRPGUbaUECoXu9xa4NXiX4HcRFNPOkz6kBLDtOjCN9XrYmhW+r6L\n",
              "b6f1hustjW3q+hk8Ww3iQXqcXnsH8vPFK/OWynINA6lNXepbzGv0JCPgc1wb3AXWEW8j2Q925t97\n",
              "fvffyzzEaH5bs1mQl+xUxMKjzuBa9RgAAACHQZ6gRRUsEP8ACKreF+Rah7U85jjTyk6AChdf4pmM\n",
              "BbD+E9AIPM+rOt6BnJixLTwAI3uL+Qn7ZQHrGgzZhUrMy6DDsNuoyTK41pfPpS9Yc0GYUZHWAZD0\n",
              "ezXUskcpfZhuCGBC4dPOIKxChNSxhyHu++9bINTyOfPQjC+8SjwSxmtRrr054ONBAAAAPgGe33RD\n",
              "/wATWM01BCrQlDTQcLsTgV3eaRg5tvgnYwUz/mQDk01+qcBxL2ED3J/S+2ip7x7aAzi1fbZR3YSm\n",
              "AAAAaAGewWpD/wATUqboBTvyaQ6oe/gIvFWacxlKUvCQpYAGPch+UAR5Xc0ADdhGu/jk8TAVMpn4\n",
              "UVwTPak6A26Hhv2GhuM+UpW7rLxV/3INNqryWp7uhYv7x21sWv9H8HJmE8gYDhI8ToWBAAAD0UGa\n",
              "xkmoQWyZTAgp//7WjLAByNcnPcADYkI3srfe7F4uTQfmRRksgZA4pu8ocqSgv5Pf06xdd+mL0JLa\n",
              "IQVsSCytbocDqi50WV8xf2SjqGQBJd69jiKUvBpYukEXRph2PVPLXvk7twy3iiPp+A2RCVT4o+xI\n",
              "5qVa0/nDz10Hy30WMvfExNcU3HlDyy6H51+Isa3xzMPsS8RJAnu6kT7LYSYB5SGlLInv05YaLT2t\n",
              "1SYC7O4kWpYSx66ssB2ee+ukSAIlYRLUrOEvsyNsY23z2P4FMXtk9O1j1zXp+ikfZHPjVUG2CPxf\n",
              "svtKexGbph7j4ic8ftvjaNfAQ8VDKF08q/7edkLiPA3DyQzO1LeU+Ncs7EM565+lx0qiH800kVLM\n",
              "T8vOLBazuI8Y8qg3r65KW9/mS0plLChCrje5Ud8WTTW3H/lYVExrtf/kv1q1IS5/GPirlifodYxC\n",
              "9HHWT48hGnA1dx4Gqh2gMGOvxKtKsOEvBej3mcUMRpBaeCvNxLJw20dAb1xdRYn+4dKUeKNlh9K5\n",
              "UNBLQJpMjQvgp4pJWtpRl+5yc3cx3LpkioSRb94DPCm57SxNedSXbyu9MLGCQAFfqL7ki16umQOs\n",
              "2vmSNmdKgYhNq+bUOZTCuRGytXHxKeeT+t//vh6JCmo3c14lVti3usTbw65sobuklyH8AZAgA63T\n",
              "AMo1HZNTLSUcNXuOtl0ZnFPvrnWdEnzaP7udf+eQ3nHm3k1nqIL6FDHzT7pbtF8oFITA8AeC1nFr\n",
              "aKd2Mn7PyesH63zY5OYZnkWl5suh+eVVfKT7fjQ4p9Gr7qhriQYjxkjYwKrVHD1RQCdZNre/2K4o\n",
              "PpUe2MCLa9Q8yYR+ndtEpZhU/MqTfUvdqRbh2qL0I8tI1Pk8QpHwL1H3mp453gR6J1fBPnMK43T1\n",
              "YzlGSxX7Vm99ZXBHKmrgtjcz8zqODb9ZAh+dD3/6+lu5OZtw8Q9tLOyuItmuEXf57//xyiSC/s9d\n",
              "4owcNGZkehNfSuNMiQWMomGp78vAoa8Kon/9+Sxi/XCAej4ad+tt7mS3DROwRYzv8fjjUevNvo3Q\n",
              "px6ERW9Gg8UNtQNw8A9Ou9wH76YWyZPUjmOrXkqT281CveZXOFXrUPx4L0FxCEwBloMaH1/cIBKy\n",
              "qSqio4J9strEDesJrJ/pqH45skLqsO9Vb+PEKwqP/0K+2nSjsvhv3InsRcLJwzz1Hubh2Q7TV2/P\n",
              "EgwJAxPCxwOdygTBUR5G6/zSeMBuTQOU8nc6xaHcgZaScgE1kFBcEvHsOS4ylA1hSaoCEf+TMSL9\n",
              "udtePkroAAAATUGe5EUVLBD/AAirAvFyfyhhijEYUGOHgVi2aXHFQxa21ACu6LmPtXeE/GY7fd8h\n",
              "gwXMDva++nwedLZ4a3ebnDbXDScU+bpCuEyI/N0xAAAAMAGfA3RD/wATWXbHGH7yuoSsoAjNpnUx\n",
              "Mfd5X4xmx5TfvYp1bE20sSBdxu3dqpOJ2QAAACEBnwVqQ/8AE1Kn7/FdSnRL2Dn9ezwK66dDT0UF\n",
              "AdKoVsEAAAOZQZsKSahBbJlMCCn//taMsAHHQ7bbo03/AAbgvUVl7HZszMCz7/V/6h1+1oZBaNdx\n",
              "dlJFa/6kPcUdLRUzyTr433oig3rHJLpXpVvXRXyjMFZW69bI/JlA/yV9aSMWCd1IvyZ2YeWLv8ao\n",
              "DV8mJPeocyV1VGF/HUejZdpt9Lvcqw16M1O4NLR/omLEdmEpeNbnfHoGIaAGeXgHk8PAc+eZuX3Q\n",
              "sGzZRbOXbmK8sYn1atFRH8mWD4TlQaxfzm0z9gzfrmikFe9omp9HQw1zTdycO/L8M5vz/3aA3HNq\n",
              "CYHacYttN/5d8s9ssumsU7PBcF8KvDYE3u2/TSyIblSWa95dRLHHddMtjSS0qT3ASs/9QKNbiZxb\n",
              "+/sDozrdZgFHl5fUsvGIyXmTea2zgCcRn2vwW6ebjVlCOixGDoMI61Zugp8/WAjMacBT49CsOQZK\n",
              "HQITd9J2vrFhsq+QtnoyStthBY3aYVU24/am1kvUDq2rgZqB9FnbeDVYbvhLvqRAoIyBNQlyLJVc\n",
              "5x/A+Sg3opHPyjM9nt/MQwULkioTT4X1iEDyq+ASnqapy77XCFugyvJIPCOWMsr+WhdWDjvQzCfU\n",
              "dnU6j1s+fUxXaDcVY+R6ejbSloGypxxlGh4P6EStlCPQnr87XoEc14hWi2YvIzyVl0E9tqF866E/\n",
              "rfAO5aTVQ/IaLt+2tZba8OLfR8vLbOOvg1C/jmyCW1MN2ex8qpWVyypR29HbWJi4P+JVhGHpki6S\n",
              "7QQ+2wTx/HagebLEjEZyOsz8GShQmykg6oYE51j6VL8LokszIkhSEIiOtJCeJYk1/7zk3RbqN5dK\n",
              "rhWs47G2NkrxVb0B2TtxJ1gGuBK6b4Nmoe90AYk9KLGwC/ATSIVThEMeufwbToqARNxVLDAOGPNl\n",
              "KTl/sV5WIpPq37UNtJE3yZkKn9Pm8tqf01eME9v31FZAB8SualDkrvv0q2MAORfsLyJ3yVwBTktU\n",
              "FVwJlKWEh5nQKY/wL8k51YeeDKwJ3z/Gbt9vdJINyW4HiyBwjwZHY3xAmcfx1jraTezr5Xrc2TJx\n",
              "Laj/WLSvVVjtEKZhDbI+5eOB3pyn2sl9xXvSTnv+ThEd3/Bc3KzVQcnGHu7F6gwQQEPBu90oiCNd\n",
              "jY7UdboqwoqjGIIOZY0CB0a2s1VQj36jl73WhyW9sndTt8bmqzWW5AsGDwamgAtpvBMhmpTG6yQw\n",
              "UumNct397CyWnB9uh+f+AYFNAAAAYUGfKEUVLBD/AAirAptaI4DLDAJkyeEV03v04KifvplFNWRk\n",
              "QLI8WpSvbFISpSD/1r/Pv0yUPMRtVJtRfvxjhVbklj8jIwB76ABxyKKGIMw8JpjH5Xil54zcUfdO\n",
              "Xu0Ib0AAAAAyAZ9HdEP/ABNUNW8vaYCNBvKMoPCRCd3RQhnJwkh/0smjUQiWe6CHR+tCH+FranHz\n",
              "hxwAAABXAZ9JakP/ABNQY5I+lIIHXmXeAEdyWbY7EH39s/yM5eH06Zfip+WQlKBwy1OA+TwRD/8B\n",
              "bB3VUIkE8fI6FlnEmjhbR/ufqsRM66m29rIvUTjjZoC3KU1JAAADKUGbTkmoQWyZTAgp//7WjLAB\n",
              "ybU0PAFgBfEJES5BjoA50HlsHiwD2OUgMjf8CtyTFdFONVaptcQy29q+aYUIwga9TZ+eLRNsYtgY\n",
              "sFo7PiHcqDqXf/TYHCG3H0oUVgXNsq1/kJaRCxh66NYgcLu8hW+zIRbFUNLHgq/ZsFi1UGsdnWgP\n",
              "eFlZoK3335FEGQ+LHgGpsL1vqHlJGbKjtwi/fp+EG6KFAjW0ksVcp47pKXv0vUSIrQGesmaivOH9\n",
              "Tn8Y69ZqHV4gDxfs68rI2RjAQJaX/oCmuGXoIfN3vr+74dq+lQkczLcYDpRGtlMH9Xk4dEG+evb5\n",
              "ALAZ1vlxSk1WGzXfeuVFVRjPB4yWgeycxj2zfZwhl2EHVl6DWzanK8gdVbzZN4ILVl66VbeU9olk\n",
              "8vXHCiR6euarbJfQef7OfxB1qu7+rsdsCUS6cFkUe9zTmsmjaIhTYtVctVEhq9YGdmUYASq900Ob\n",
              "104zQ6Pg9gm2mk5STQO1nrOOLcCenDBdNEcsOgxCslwFxinQMgPwHV4fNp82hPMyPN+sOENFo+P/\n",
              "AZkD0vq9jUlhGbQqmrQnwyIMnlexiT6paP4YN0eA7CM4qqW852PwinMARYBFoah2WQwLO3R/M2aG\n",
              "4/dCtAq0uz1BajOCR8b2/QtgIjOskTb2TKrhhc8eN8QQPCV0hz7rglaBhozGzFjqgi6K3chtWcD3\n",
              "ZYdDBGXuUlJlwACDsGsk7q4YfzQq+dL73VGD7Js//YCHjQXVmlANozdKT9MFvm1L+OMACb8EqZSH\n",
              "4tDpVAW0k1o68XoCcWkr4wn7OLnR01NSmztYF/VU/4K4jwGkgMadNkGsSrUr3NZxrhtrdWE/AO8I\n",
              "clSJq7w4l7YDAn8SE1Y+dLVCOjibtrviezQ5lJnH/JJ+RviEDW2jjbqe1gECYSy9wddTxJ8MErVe\n",
              "F5dtxwzm7vI1hhJl37B1JExRPsHaRtYlAlmT56Vpy9oBDAPrIlR1AjsFgNHRQclzo1pIThI59V5a\n",
              "QLv3aKdo38JSXDZsybnghEwQpHwSuFW4NVg+MOdRvxO0udFOxROcEagTAk05HzAGHQAvAAAAR0Gf\n",
              "bEUVLBD/AAiqggaBOPx2j0/5dtinAoR7N3kMN27DIWeqsC5oqAGrBI324Jjvq+1hTlltlVKLlnSp\n",
              "ArnVeGhGOAnBwtusAAAAMwGfi3RD/wATUHi1hPpef689gggSaL2map30vyRgjF2rh9/r9cFhVIIw\n",
              "mNGgvEe4MG3LwQAAACcBn41qQ/8AE1ePBrCmXr9hQF2b6suTndfXtJtrsZHlKBBKFCDyccEAAAMw\n",
              "QZuSSahBbJlMCCn//taMsAHHjklbkAH+bvPDEVg6oUqmpSNSRaVY0comH+0CmYOb761Axr+6ei0d\n",
              "jzbgOz9UnO997nIoqsMyRAkkvmJQbh0Y8gUSL5qgCkX40B5HUan0weEwsipJnugGh91rFNB/gedZ\n",
              "u+EZNxUygq0fP9yMnbUF7EhJtxC1YHsq+tDFqgJhEXPYQz0y0nmQSj/twbuG7Sfb1xlSligo7bFb\n",
              "3E4QMRiXvNuD+Sa+2rVAnIJ5l08AcWmIBXnC/vUBn2iWuwFZC/+Af6rKfABStf47vK1LZzETxSsx\n",
              "5C/Pr62+Jdga+CRjvKYjINGWIff9Byz8XrV7eMZTXAApWx3R2ROY+plw31yXuCyiM5wx/34AM39/\n",
              "JyQ0oA5QTXF3dT5B04Vd9gR/3BNLnXESUmGZh3ffkcr8kqG0wyFQL45/hUZGZwMhik6d1XZB13hi\n",
              "OnCPLybTx+inzOxQydQEbvBEQR7Pbeu8hqC8j2F/CGRpyymSWniJ7NUqbmDTnh6hNAcZ4HKzWFWh\n",
              "MpH6c/4vIWCC+oxMoYsBkaK0Gl2mfUXEncdKAFfbB0XdJIbzlyxOJ+LP3JVMrJ9KPbfJN0d/+Ta8\n",
              "/9UzYvaBVvLsU+JSCDhUP8h1ZlEPjHqxP1yxadh6HUw9dWrQ+l6sxfRQN2UoKL5PXI/jf3R59v4P\n",
              "DE9oYAyUy1C2x1bzLwCuBIkse/3GUsFB+7262f3E+oXgVxxpZu5kq5nvaChxIO+16VHjf1F/dOKc\n",
              "qwObVno7xGUs4kkHzqfuKCXZuafeT8TqZY0qOHP5F04LJi5Yj9T5Ud97R4ze9URW7btwMGN+TmVc\n",
              "53p+oNnADAqFMfeyhL9doWEecfFWqViJQOnHBz+E7/3AQ/ORR6Cb/E9aGqoQIg1zXBeL8G8jVpmo\n",
              "8HehPzmNsKfhUyzWFDM0CO43zYExZFVBwkXRLOV386C57BHw/sXmy1AQxhq6Dob1uKqCJ6DfD36r\n",
              "CTPvCI/X+LIgTyBr/aqIv6psY+Cz13WPiU940r2NC3uZHlJ7tTWU4+lnU8RvZTdAg2/Z6bS/nI9m\n",
              "FsPvMG1GmWulJCnED9sP9rdxAAAAREGfsEUVLBD/AAiqggaBM76u+KLDzjQwAAi44BUJxzhzvEkC\n",
              "IioANvnp8Zzz4virPU5PJJeh1TyrHvJaUk8zveGzwWHTAAAALwGfz3RD/wATWXEfg450XU3ky7jL\n",
              "Ti3vyIeVcJ3Rl3eXmbk5eTNeBtDqmY43+tuOAAAAMAGf0WpD/wATWItcFScm7ACxG5tfEnDY16nt\n",
              "/MM+66+kHq0kCH4PohFPF1g2YLrLUwAAAwpBm9ZJqEFsmUwIKf/+1oywA5PtHDPXrubC4QmNLUX/\n",
              "M4CzkWsfCvA3qGCFJxZB2BKlcDXeurZHkYCMEs1yLWGbyzphL+P6xRI3uldmzkT33lpLToW/k16a\n",
              "DCJdEnIow2myScFzpSyyegGwqe84Iug+W2HqDvzOmDtgbq94fn5q0AT9lkNbOMeMGOHSxuSAk5nF\n",
              "e1iFxYK58qoDE36vTOym0+5L0hoKF/+hXnVfwaUBWlQl6KfG9J61Oz0Rku4etoYAK68br7smJ1DN\n",
              "EJYuhI8zTEwNxSexP34BriwCNBAUFqSzSBnwc/lVphQNgXphEvofuYBKA/3SZt56s7yNuwv8EOZU\n",
              "LIzj6bZMMEOXnunLsxuJMUxDO5q0pa20eDTsch0wuwDMxklySxRV0mC5mRw2GWvdqaQtLWEWWNRJ\n",
              "6EAhoT7sSDWeEiWjTOJQ+1db6jhyQzT2wR7qMqN2P1bgvO1gylq59YR/S1nlY7aMj3EY3+cgQjIM\n",
              "ji1S3QspWMeA0n9Iu+Jc8fDbut6tsI52fvMuN8apxGZag2j32Nkgbaqm9HYFjP+vW+ziOkNBZPOQ\n",
              "4LJXg9HJrgGrHmSZlkpXhe2r6VKRRNNkKriX0nI8e3v7T6pbxELmBf0uwO4eiOtpm2dW9+iRryB3\n",
              "vd699NBu60oGVAEJZMsA0YmAMvZdus6NWbiYOkhjUdVYZZzj1IDZP5axOqAHwceA7oLsyY2uyhwM\n",
              "1fnjxeihfpFnDgHlT8TTOeAUXBeAyqKcaDjFwGJP2yNOjZn2Sny5Haem5AyuDK/8qAtbMB8yPM1m\n",
              "XAIjA8qe5f6ir7W2RlUG8xEW+AqoZ5DePhlDuLNSPUOmZYLrWsWB/faJ48/YqcI8WC/HsnJm2ovn\n",
              "6Qmlpe4Gy6N5Yie25tPXFCXMvCO59oxrzpF40edwF7kM7rsWGOlXP9n6VAB7AMD5D6Z33ZBTLgG8\n",
              "r9+0v/b8lxfYlPdQ2EfI/pt2AUivHZRmaOYuKs945NiHhLdROwy9mtaWd4/sO4ub3GLvpQuB/wTB\n",
              "/G2ypPiwAAAAWEGf9EUVLBD/ABFUPYyboVl9o9OaEI3jMkD5wTeOMIgrKgp/V0gA4fCtISa/W2T9\n",
              "NiOAcO7kk42KIRqVDcgsLQtrgKf65vRPuy1IljHoSAmcKr9XprdmScAAAAA5AZ4TdEP/ACarlVEQ\n",
              "MV0qFPnB7ZYnZ1XV8LydCALWeA14Q0SJJvkzzOCWt9ZBSSvB65dj3HyExkXBAAAAMAGeFWpD/wAT\n",
              "WItcFM23O1k8oZA9jAbyo6waPNj/xGARS0IS/Xqi16k4APhEfSxUfAAAA2dBmhpJqEFsmUwIKf/+\n",
              "1oywA46KQWDMsAbbPwEB6vvN9n3kKb+RdW5Ggxn96mbuobwwdTfNwx1I8PSslyNvvMrx244GQrgs\n",
              "ONEqPusx5CKBy4vxyopHWFF2EHtfHPeeXsrfTyIJhJnCImbutCJTCHjEzbB7HYtNb/XZYlpnwmLg\n",
              "I0NgnZ+SYS6WerwVLRurvdx3GxeHEqrr6XMzRCgwyEESL2l6fSw9leW5mOGvDB+av+j8ksXKTjzl\n",
              "cH7QTLhtPpqGgGCp0Z1nUvjf1+UiMbtguLzoRQXfPVcTJF1HSJK4wUlpv6cJeATUK5YoTo4VftVp\n",
              "D/O8Je7RW+9a8f0gir19H379TfrRMvAgFCKldoNjh8HgNDBHhZgu8hpRrBa8ZaTwc6yBOLU3jmmi\n",
              "Ysmgb9G8O04jeVH1t1cwcrCi0mQ4FZRKVTxYkCigBxpG06mO6SvAF6QGWdeFVk3ILAI4tqHsqvVB\n",
              "UNgBLAPUNEOIqbpB/FgWBnBYHtB1k/UTCJOeNRbPYbE59qXIEXzwjoWzJjBBStZ8FAg9Rcy15f54\n",
              "2uFmprbpwa2t1/aB2uzVrSeMcK6O4/90dSg0VPE38SAmvt6Y4jY+gMQJibcz4QOfDASMhdBJo748\n",
              "OvPV5jDpKr48Ns2f7l+UDQQbY5kQxLLIKLYOddI1MrcEfLha6z+C7JI89otiziK+UG+dUDSmgOoB\n",
              "UxApk6KDCXXy/snEjT35sQJW04Lp7SsXhB2jmW53adC2kfI/XB8rQLyotO/EzABln4CkpEW00KvV\n",
              "5TLR4dLLzRH2KqVtRF+PYPPJVLoDDcKh4EIKckeoWk5W5doKIpMUvkDkQBBpoXdHS+76yzalfJIK\n",
              "6nAcf5fOFCP3EO4hR2fU7JsSth8DQFB+LB7SenuZbC4B0Oetv2m9pcwXxnZy2LsE5IEyebZSIgSu\n",
              "LW696hKPShVuRs2cpOG/G8OrWZVOz5/PCQpYWC8W7+0x9A0HYHCgYdbcMk9UaLUPVn3qzjrEMIOH\n",
              "Y4lUYLebSgdxBmJEmUGIYAYlAk7gdcmULpNQRJjpbLqsW2z9Kfx2AMWsi2yP3jYTaUzSFCCLfwgK\n",
              "TWxrua6oGsvVokCB6pCUMF2imtEpm1smNhyz+yQFiCTBSKh49DDEp7OI3kb/UY680g1kC5WGsQbY\n",
              "9Bd1AAAAU0GeOEUVLBD/ABFdeABBkO/QOGCi3NYzZTISJVIFZ1qOGtdcDPjdjYUT8yXfTznq26R8\n",
              "6N8lfWUfNVNCLVcHFsbJmn9sqKLKyyqqrbhud8jO8SOPAAAAGAGeV3RD/wAFDtZwgKTWdeZcll4w\n",
              "eiGBwAAAADgBnllqQ/8ADX5o6He4fQvVBDk1JubaJeuGEeWCFLnf/4IAFAtFCfVzsC3KelpTEk9P\n",
              "Lz5Oxh9JmQAAAzNBml5JqEFsmUwIKf/+1oywA46KQUkS3AAn36TdGKYCp0XmSnmxB2TBNEmP+mFo\n",
              "EiNpSsqfoTAJCBgH392wMuP0q5GeNvegHkcS7EGMT/cWSKNWtmQnKw8LjhuasDdQWmcdJtxk28xv\n",
              "0nG+v1O+5TB+OSyq74epHK/sgmnEkwyV60QmQrQu0c4e+kNhIOAFhm0vIGqzvjq7PEEXoEDAijNC\n",
              "rLy/ToySUtOf8ul95RWKU7npB2vTQnIX5urRV6r1lV1Cay5f72j13bds9DiMa3UiGIka5XdcxZ1d\n",
              "8MhmzxKCInuNc3h0UQsLl7vAlbg1EDG1k+PNFo8LeZSJ5aPVhPCuJ6ew2PvTJ0tP15NosKurRB0v\n",
              "0iUQFO791gF+gqZflAuDmEVQ0FrVChg8fY5cXufKkSki9d+PrfNRYO7T2RWLZz95R5tyYv7bAa/8\n",
              "G6be7o0vMt/qm6LAm6Ky+Qn4d830mRQEb91jBVnWXbFdB/qqP+Wn/iR5GTCCw1TgEhur86yDURrx\n",
              "vsTK2kz+WmAasK/OCfb6lLYvb9n5z80lq4kR6L7Mg8aH/T95oclvkM7WgCfSrI21oEgS9lGbvSNk\n",
              "fBIA2Xf8Q3oSdsw8MV7+If7xZK75eoiTNXuI+GfeOpFJ44NsYMl3iTPn7uA3vhry8bgw7/YeVecu\n",
              "/nXetFOflBD0TJneJ3PL1cRG6JEIq+eBUNeWqPpcNRpOVbFf/glPRxm+uTdminpebSQnwUxWdFoy\n",
              "ZEt7UlbAPQOeml9f/SdRXh7zpobZ/cJNWLXltzfR/zrOwShQ8lrv1BsPKlk8EkGwzdC57eYIiZbA\n",
              "6uVODCdEA8JPrnomrORzEtclDPDRt6OU5XbzOKl7nWrDBk7zaSgTxztWhfFhmqd1CUaZgVNYClhe\n",
              "kXiKFci1Mq6eXtC+uUXjfpq4Y0gH/XdMp1ox+ui4bhdqKyB2LUU+UCsk99j8ff8NHwJCDAVzHYpJ\n",
              "pAspuKpOB/cBsv/10MgDqxYjUXn35SI0V7FdAQxWVRRvkRPtLyxu9g3SlUZXijRkvBlX2nKpvQjm\n",
              "rFTnK+WZ9XWHlnHrZqeo+FJWe1ipO+21lkqz+cNBNBgAAABbQZ58RRUsEP8AEUG2TCkMAK8LDpOQ\n",
              "eZ+TStzHXq3kQU0VjhCGA+fgMeHXJzXIPlR0mP6HhKhqufHTgu3EyNgr0Mu1Qp/fPNbk8pSLONPa\n",
              "1TUm6a6uNJz04ciJCwAAACMBnpt0Q/8AJa6+mJXeutcG2ILd3iqpFmBnfmtQHRGMAfdrUwAAACsB\n",
              "np1qQ/8ACjk7kKQsYai8edzf0EbspLImUG7pu/8gyymwpj2Md4D9ZKmAAAADWEGagkmoQWyZTAgp\n",
              "//7WjLADjodRDCzgA3GQEFzrLOZp2WOlDI3R/77EhtsFcJfRRgAo+tLntn9yiSa70eA9/n2+wV7d\n",
              "Omx2kviSgTHlG8J09QTcbsoBJuSZTJ71O3A6nZGxGxd68pkcWvitBNpKVWs4Db4+ZXe5+mDC3EUM\n",
              "+RyRw2sBOg569g7Vyb5g7HpAjAiDb+nDpg7jrvYqaAUo6WX1duKZiQS1yL6UPR0VzhioV2OVptdK\n",
              "X6vg7acBl8omLOniy7QpgRSwWuZ3ZN+YiZ5i3ZNwRTxQupsFt7hQ+EFL4phgoihkczkJa+2g0dzx\n",
              "ZykyL1lCQSU+a5amRbMlwxqCohbSFq6szcBzK1GROJI29iiJSiAq+ahYJM/tkkDHCD8STXgRoyeq\n",
              "LnWtayzT28iPiTHJNlFHHnpmjUCidyn34Wxf5YsrWfrTUYooUXjh2GheG4KD+6j5x2EIznboYmww\n",
              "AeQ8sIPoHypDNei739bwFSec1A4y45kounryPQ7Cs8FDngXuenKc0PbaFbeB5lgXeXb0alvy6EP/\n",
              "RGOMkkOFbuSJsiJr6ZnbfyEDjkq0+7g8mbyLgIzdtPEv8vP41L/qjLEqboKRmXTq2pFV1Nn4kD4E\n",
              "C475zg2ECjmZN1DR8rQJI0E3CH3NYMUcikYDu97zqjN1gfUlPexCZ/Dbed2/a8LIjtM0fCC/KKr8\n",
              "xd6g8qaMotkEjzWjMztcUoy5LXayQJEY5W7f1updhDlcehgX1MMTu+cke1OqA98j8GB0OT0+m1Ko\n",
              "1yZyApMV0yWYhGNF9j2T7nfzEQO5wmT5TD0fn3klNwyNO2GhaA3QBVGY89SgxHZD5uNGWSXfVwd/\n",
              "Wb/76qMjC2ZAHpMclLuTyZn2rrz/+x0DeC/fEp8kpPagXxmCRcNeyYxHofItzQ03TP4vHdz5iM4l\n",
              "8bQwtx6+Umc6BKrIpn4JGzjWKbmOGILPW3xFipBjWSFzytoslbQdB3+EYL2HUjN+lQgb7B+HgEM4\n",
              "mDUyRFjxEwLF0gslBS0nCkWCWKbE7xfe74TDwOCOZV9y+Lm6GIOj0g748vNasebZH7tmn4GSkKq0\n",
              "Wv60mgzBcRkzx51J8LpIxJ538TUEg6Vgqhk+OrMjjXtjSWiZryZOWwLhnz02ErAAAABLQZ6gRRUs\n",
              "EP8AEU+ojWAAIuN36exMlQaon4dO/JgG/6oYTS1oZvPM/WIz4m9q8bCqDj7SziYD82V1JdcWTNQ6\n",
              "0h0MFH/VIIuEvu8tAAAALAGe33RD/wAmwS4AQtVS6KbYFfz4a0AHLqCDtovYbnLCHXe/G6uYxc+C\n",
              "owNmAAAAMwGewWpD/wAKOTxCwmWaS3MMNYHWBe5Ub4gaQHJAWRUtUqUF0DOQNIYE1H8oFW9fQwCt\n",
              "gQAAAylBmsZJqEFsmUwIJ//+tSqAIo0W4BRMOWMFlDcieabsiRTkn1HHmEoJUy8sRhdh0UlGl+kK\n",
              "+V2Ycs95fwgncK0mVuCP2N1jvgEnhTf3T47cNqvOBgErj7vntMkFCqRUx4wnvDsNzJLlID/wsAaq\n",
              "NSX6xVmM8qvXxmTdD3HDBTqzZPV9dma+u1MLylwA+vBCX/E/wbXOlNRBWuQmovqgE2GBx+j+P2y+\n",
              "rfSSYNoCRNghqwuEbCVN+cgcvvL78tMxWug1cY3jVWohkTXfccGWDmpPUkggx+nxreA+7wWY06TG\n",
              "tXBjdiyF/Fy5dbt2ittjl+KZUf1SuLh/4Zn+bcQJKS/BIykhTMbh15n1WWoVbkSUE/YtEcvsmHpH\n",
              "4lbqN45RgppRxfoj/kGEK7DxmGF2plJ4kKOBV3Sa8OG2jIPoQmJlQfaS7DGpCs6Ao+s4QjLC6Hp8\n",
              "xwP2/ExP4ipKqAdMO8eSimq904y2ydX0pNvaMPfRoIwn7YEhcpYMjjk7e+57vdY2jhyWrwXaPOF6\n",
              "lJjwHIIqvYupN14QMIMlJ183ZMIL9CQbb97gmu7L2rP2b2933ICvrd23aduoTYT9H1Y3szcJz7+V\n",
              "0PgFT+Bg9yAA1O0RdXtKs/e0sVmd/k0TeeMDI47QZydBuOX/9Gq3fmSmrSMANo67Lz+NnIkDt8U5\n",
              "+XKXWcehQhnkfWLfFwpyMsDtxdjR2Yy+VhVepNsLquP2zpsRApojMUoYDuiblGXhPVInCAmwXDWj\n",
              "Ml+FMOCeQMIJh1jmbDc7SEO/0CpKZLU6hlytsQGzVpM/4bnAuL8GFN1l3Buldlpp4B+ozzCk39TM\n",
              "+F2yKx1CzhF27l4jdk3IWNVBVs58MaLX4lUI5c7nXDGEBZkZ9L0nmCd0fyPhvuNhQ25nu3uIny93\n",
              "SAIa76TVtJo2ViPjpwUlMmV5446Gq4NUzTrXGFFjMkWyhKmrYiq4QzrI7zDnF7dEzzBzV0Fq7IsS\n",
              "URumsb4kjJrTYsuLtn0J5TBplE4YLcsz0soQICBXW0aCkW5XqahtuSHjMRL4Odnbp9jQw23fyKnU\n",
              "i+tE5CTP+xs377fVqqFZbQAAAHpBnuRFFSwQ/wARHBc9/VDABw40+m/18j9v7/OEz/B7xoO018i/\n",
              "UQ8K0ihuMuFVwwO/0LtJ7YmfJ3yqnXYKTL3zhyc01J9w/QDftwy2rX41+TWqFDiciI1uZTo6fW/I\n",
              "FRpZpKV7YZ8vtxF88DDUubmXIP+nrpFkGIO4uQAAACsBnwN0Q/8ACjqWQAMzEuq9kDjIHf65ADhu\n",
              "deEuo3KZ4MVwf3kEyKlIZIeBAAAAPwGfBWpD/wAmoPRocAA3jQWSZPUnTFGwwfYUxhffLAxilHiH\n",
              "9ynkpkEbARCmKgrtIoRkZYIz2HzvZiYq4qga0QAAAjNBmwlJqEFsmUwIKf/+1oywA46KTbVO42wA\n",
              "RG2ce08Rhr7MGscrFIQhzpHRLc2Wa2SEIGgZNYKgnn1sk1pHrjGhrfBOn/X3YZoTd/sATsWk5XB+\n",
              "H/gwk1vf82f9NxRJqpI+timZvdjCWF1sCKCl8/L987M0kpPCHnZy3O2edQ0Ul4x2wvBsJSC9fAwo\n",
              "Rnbcl5lFnXRb5/HcH9wSZ7XrEW1R7QDM217jXelxtp127Y7ideiRabskffH8o3iQZyvZV07luKHs\n",
              "owYNCrSs1uj8FVSAoanzwtXtlZCCgveR13m7KjlkL1mdjDuc9mCM9+COrbONBVISFA3j2Sr0UZ0E\n",
              "Kuv0UKszbTJ0MBAHzcd4+MP5FhzhQN38fqv8ASNGoIbIMSkqfum3YkMpbVG4jlJ+giEq1FwIFL4t\n",
              "COszoFyBapPxaOCI8gfHSB4cvnOVOWnZQxqnfO7eodJszTLX8X59qLi+vSwLV20bpXfc8xT0FpVk\n",
              "nEr0yjairAKEABZoO2UYxhVy6Tm8+hj+dM7cLNIDPaG928GNXUD9KNjN9OsrwDwB6uKzbpHX1xLe\n",
              "2QhzbQ6HwzDVhELtznh9kuEVsH27X1PdUm9Nh4fn6g3T/lQGjwN7/QOR5aChatJcVwuIcf7yNzkb\n",
              "lg5z/DdmvJ4JF3RGUwxaC1tQwlXlSzkauMVFFuoGzq+l5/eK4BMz+ZUSrZ2F7F/0gf5bXz9oKSRW\n",
              "jIxDlNwC+ZZZ87bs0dgmFhkMs5pJlxxiQQAAAHFBnydFFSwQ/wARHCv4FQwAcHAs1ycFMYazNQmu\n",
              "o98qkAwqn/NS5fPhjv5/+NUzcknOfYvrN9iqjjfzApMu3FeedCzxTg1hgGUYQ+YK5RQALH2o4T6H\n",
              "Se1jyx8oMuiSAyw51fFckxgL23OVzhQ1WIC7gAAAAHYBn0hqQ/8AJrBs6rYOUzgzzMh5D1oOnItQ\n",
              "EbQCflldTTbVPTINKb86JxBYjDYAF0a9w9I78hS2AGeEOdnEvACBluAo6nBaLdae17x8iE2sURxw\n",
              "6X8CSy3czG/ru5Rq2Pmc9JznhJiNLFjzxKFyhO5OFWSk8gJbAAADDkGbTUmoQWyZTAgp//7WjLAD\n",
              "kRLh2rABYtLR3fX4DNxjTARqBmTZCqlzo9wz/VJSZiajuV1llv7aRmJEVUmmuag6pzMdlkhkamcT\n",
              "EYT2476HdRXjXoXzGtvhMjvjnBLIPXEDidtV73BS14oURqisq4F2JjDdxZfSsw5Z6xhhqmrMAhWU\n",
              "Cp0huKdFLOC2hA44KzR0jsj/rVEGVwrEbWBjXgXgiIWqfg1cJNIelWxVt/lBCArEkZZZO+Xl/7pH\n",
              "WWaXx9ySQSWlBdE7Ny9ZlyhuOaFNj9PwJmbyxEI6k3g3PdAnC1oGpfXF20QBherM95MHTpvfd7Ht\n",
              "y/KdHpyZYy/ssw7txBJzmUDCbhtRY3WIh8skO83GWH4tnEeQKUjdbSNkX5z3VdeAbE2QvfebAj7n\n",
              "RDLOgXKEobq9jegCFF3oYX4155QF8sjViUWZ05uJHv/pLqvjiS0HhuSnp2Y2p4KHbg0O+LifKTdB\n",
              "ntnBxGcIDuIJrbCiJ5IIxSnlxARoRdKSCFAEq6Mbs9W0iFvmuT9DN2TzdTR3dTQpE5JMomUha0Jb\n",
              "EoOwsnxnHLNfNcHKf40cudmqPgvjLlwLF0GbUvx8NgPEJY9ip/hluQEOJicGp4dWy1QCMCggNs91\n",
              "IeiDmj0JoJv3b5RGBlTmCpWkNG8MAy+AmJ7UBRy15z2B12z4jtdKc4e5m7a2xQg1ttH1+JrQuijr\n",
              "64Fgo19tBFzZT6EXDmMuz6tTbPavJLrh1JnTnOaIRADFFulBSdjcxV8D5R8LnreVhBsdrxo2a8+b\n",
              "owG5tkY088FAW2m3OTWpc9stxlo9xlau102HDcpXUPtK2g/ReDAEknfdTKTY6v5p4C3gQw5w3Axp\n",
              "0ak4r6HEGDV3Uz2nLvqSJ4PMkRpsfutfg4cAx9Stsx6lQdvVaN0NfV+v282BIXZgHLJsdcdI7v2e\n",
              "Rgjpm+3pQjKhx8JIhPYrhelyvuEWgEp0s5Jqd9tcV3WspzY1en5IK9WmXcUGQb6dz6HCHABToovh\n",
              "oOjgE+r+zOMLCqRom9Z3NJqfMWnTY0S/AAAAdkGfa0UVLBD/ABEcK/gHu5sMAw7UszmmQ9yqfEAR\n",
              "OjcyeeyD+/6PXSRUzVzfx19e115GIDSgSZj3QEKRA3H9f/Z+zpxXGh/VrjUfVF3BDRUOXIxuJIJu\n",
              "qK5rzBSB8/4KDVMLL/VCfvInIp934NMCZgWH9MTu/MAAAABXAZ+KdEP/ACag7pyVFRD5S7Xe5/qu\n",
              "6w2g5gNOLe2gK+YVD3SYFYKUQBUWL3QN+fC+DCF58c7c/tTQJQwIPpPEIfFZ5qasowAFzT+22fTX\n",
              "CsPrXQf9eEO6AAAAXQGfjGpD/wAmnvpV2JPjNT77jg7YelRsMNIAktT89QOP57ACVd6RSwgpY5O0\n",
              "WcJ+bEWTRhWyLfxSf5MJYsK5rfMCMw/mRW0Gt1TSE9Wjj65/RrFCYs0DIsduVJmWbwAAAqJBm5FJ\n",
              "qEFsmUwIJ//+tSqAIRmJv8cIdQC1OO8E3BdxR/DqmEyySwqXuZ4fJSxLLRzo5meAuigtYvhaxHLp\n",
              "Ui+dIvOjPQk2J1gRf7lePNaQ5yprAQiiNvkcDWdM5bR47pOiDa/nPutJPfuRtGVohDMJ1vA1S11G\n",
              "ZRwX79cwfT3kuT9kopP9pE119xLfk/8EmbR8Yn1zmnG10PZ/F0cGf1xQr6qBZHnCTtRzhctvB9Tg\n",
              "dZbavpllEWpWt/OBECb6sgJJ1N6iO99v50mOOgpnSJdntP6qkbVXueTvzNTCbs9zZYzuSbdXnmuH\n",
              "UDRjQ3INRaX/s7oMCUhD+xAoBDvr3nCgBjEid7m7SJ3oWpMEzFrlJ5zdvzHSbJBe4kQm4PzHTS0e\n",
              "SYt+8UjJN5h4dKgkwozZPX3JEPnMG0RSQeG5r9SFvDgzmX63V4pKq8NJfy8C8zEyFCViuxuVj2cl\n",
              "WYq3vpuomEht99MaAlQWxmVubkLCKM2l2m+RMYI/sbleRHJ+ZpzlxsTB50nlILvPK3bCYIQ2tRzi\n",
              "RXBj9XrHLQeNJ2WW+9er8RmGSksDmnnlyEYBr39EcDSRzX5OJHAN20rrH2zM5jX4LssGMRPdxey9\n",
              "PGZ0WgVvvEjVlKFTQnAHLVRK9PysWO/PltoyAi5L7eX0aZEhSWSFVlkyN32ZHPkb//EefwwJ/9wK\n",
              "atf4+B2iLenj5jDP3VSVn/8oimUELbLygML/97d/x3IUYEHnmSsZqNJk36hnG6xDrKxz4w9eVEGy\n",
              "LrBZC6/Kw8MD+JvcLAiVjaXPTG3lyf1l5HyGPIqSCBSRlU85OLvrBGAt2ovKdrWTvhXqB6Y21Gqp\n",
              "R3kzdDqFq4q5B7GJ4RBE81NWGw4xwvHrkuofO37/FfrZ96uNDBzRDXiKVQAAAE9Bn69FFSwQ/wAi\n",
              "i2zE2ifUeZdpx2MmA/Jn2q+Waa/URKIQJCh0q/loI+l7WQ+CtqBgOcPGAHzGxKR9c8qZSE9vGz5A\n",
              "f/wkAOY5jdKUB0HZAAAANAGfznRD/wAmNjRIMwdvq+u3ijZzmOTcEAkeyzySuBACJ4fh/fat7hy6\n",
              "utk5ExIeuf6RPuAAAABKAZ/QakP/ACajSo/L3B9AIK8RZbMq3XNzLatj/CA8CGUeyZGKQPhbrd7e\n",
              "m5VpBKO1hoE3/KUu1PTbpjThlohNo8O8ei8ZDX8gSXgAAAKoQZvVSahBbJlMCCf//rUqgCESbUku\n",
              "ADluiW2hIrn6RvyqSqejoHgwtt4G6Mcnw5FP3/64PfSLLtQJoHBDKfwFhFkWkHQa0wSrq14rhgZd\n",
              "fX35BkEPJSB8N2DFGl/8XIu97bDLC5gzzaAwjOS9/9FJeikCuMPwzLRSqmGBhUwNP8NAwe6Kc6u/\n",
              "Uu5ikd+KSvSz6RxozrqMIiyjfT93akTzwAmwjIDUd8jNdtkq4rx5IHFt6EaouoMuylh3bSyY2UQv\n",
              "qUnQMb6yncX+q04jM9V8f6D5nNKehMYdB7KInUCCxuMRYPVhRdUGdc5L2yw8lgM9i3iCEzucnYVp\n",
              "X911EV17iaiLqskjjXS7+Lpng+jUat5n1RZgLhd//9pbWXe92ZAATXODeKz4ERzQ3svYr7dIutgr\n",
              "3tranTxSX5vlzq0aXaJmkO1u9AzVyZkIX9UokIm8gZCI5MkAgmbCOY7LGVrnPWpnjYZKJhWNBHz8\n",
              "De88LDErjreHlrqFYw6wxbfZ/2BenujU65XcYQJuYqecLoJPcQ7UC7u8+jC10uWXBAPYHjeK7krb\n",
              "rmR4G+REJASsJkyc60zCDO+9SgpjqL+Gse7+yJUWo4SJ6W0seJQPfn7NrdeYTl+JPWHkUdXjl6Z7\n",
              "U/BSihwhD0ix02Op9RZLKoJZm+yLEcsGN5YjBIv7/btf3zFYflIWmvVjFVY3M7OCyeBEuRnBdJPp\n",
              "oMCEfaUUSnJ/CFojpKtNmGpDr93lK6qCXHPAL8fAZcrmak41okdWJtToJ7RVR+RRvfLrarVf+7wk\n",
              "WJChpoTaofsx2UkAmkMuvWlyN+yh7959xbcleTuaRn9tpS5lIH+TMcskCwcUugMEaCtC8SOnIDUJ\n",
              "CwNCADvCJSLOl7nNgT2zCT4iMTtGR+zKBDSYOun+DQEAAABPQZ/zRRUsEP8AInjQDuCYdYnAAKAS\n",
              "4JpW5BPN+E0pP/B6Wxk437EWkTDbPMDuOSdoo8yMGojZ+YDoSBPfSljeaHS8ng43S2pn+i1jiHB1\n",
              "wAAAAF4BnhJ0Q/8ATNDU+/ePq/aLqD8evzLKI6n9mv9tnkEoQxdznpqEyarTMrTtjixLzEPqos6K\n",
              "S6V3H8GbTB2fiJiSewumGCQAJW48uY6AHAur5elV3j+umU85l4Sk81gQAAAAOgGeFGpD/wBMuRuP\n",
              "Jl8vmmPLErCUcFFY52ZD80TF0kybkVTOhLf9etpBNSnekH/bol74iTemyd+bGfEAAAHKQZoZSahB\n",
              "bJlMCCf//rUqgCESc84s6cwtQAi9iJ5/dcEEk9ZM+MfnVYRDmcOY+VNrBj7DbTdJcqaq/x8mjjZE\n",
              "yKKeu1JYM3rsuSoszBqJq2OWcAHqNcbsu0zpHk8IlyWaFNBA77PpyUvrswUifzBWhVPD3YTtOybk\n",
              "jvzGZTe+6Vd2s3bSxqcT6SZOUh/ldkTc4ji/jUPUylN32hSPyXA7/qTKurhYx2KPRZ+/fTPXr+5b\n",
              "dy3vcqjWOkRluu27f9T3lRFeZTJZz4jBPQYCl0G8PX/0S/zJuUki46Jc+4uo/KZBcNFrIzQMWe7F\n",
              "Fin0vso/Vvv/uLGgR9VymYX4NoRKkUQW6rKZsURZzI7OSuUSW3lvs8gAzarBVJWb49ksJ3OYs0YR\n",
              "TU9hX1Yjz3hEhTzJkIom0kjoeQWZmKXrcZ0eWJEBMPr99GCicnmcftkmtq9g4cOCbagD2zk1SYFc\n",
              "gS64xUqv33YHDWEDjSHkEkxYOmEnVip1qCpAlSxnBRuSUltix2R0N+QdTZxRZT3xvvKr/w7I4kHP\n",
              "/q3NjkfuYDrGNqdWRm76VWDa3zCiM3H4klPikxI8tuByu5StvHhvung5Ik8sDYA8aBvBaoAAAABN\n",
              "QZ43RRUsEP8AIoFOtaPV3yQUAo1K5SSbeEVHUOxews2mDCc5oaMx9ZRMY0AHD5zGMGJI/wUxoE3I\n",
              "YKolsCn79Sr3lgXvwtIGFbUDLYEAAABwAZ5WdEP/ABr//CnJKCi8RlJY2gqaKd46caIaOKVA/u+x\n",
              "FNgLDEPLYqEIAWPm8YjAsdfIWpQrAV3KsKVEhrwRGC0MViWTf3sVZv8qBIfJw6lKaTE3QG4u7RzR\n",
              "UT7mA7W13kGuRuuXj65Qdgh2WbDUwQAAACQBnlhqQ/8ABR0f1QQ2AaLjU6ScxqP1x3JyKvcEVl4j\n",
              "h0ueB8wAAAHvQZpdSahBbJlMCCX//rUqgCEKdOJSqmBjgBxGm+/j7L7eVi18eVWD/HMs2AMsucMe\n",
              "o3CaV/+iqHTQG8kxsu57q04eeVGVZNE9F2S182uX1tC581D8//fMM6Qe5AzBF3vVHJAC/pyNK2y2\n",
              "q6tx8gkJyq0CSENemKsyJAQj+mgfuEwfDFvVEUXe0TqtscG8r8xvp5XE7wyqGVG8nNH9Cw2LVdKa\n",
              "DmTL2MWdRPDt+i3360KTVBykyAH8+vT6cfX1ycivd1mBA2n0FNk0n17Q1ZmR0XRQinpalam0aD3v\n",
              "bcwGZKB6DTzo7SjM86uLH1FiA0+OqA8HJZN+CgqbPuZFi12fpKKuAddr5XgVGfwd1kp+QtGmCaX+\n",
              "DlJLCnFVclE6NLVWsH41WK8iFfat+Yxzf6BQPEYdmzC1AMQlcUgOT19+LJmw2+ezB5K1mGSh1/Ac\n",
              "wONeBmwuiMoniRzhHioAXODD1km5riAkj+AYkNiPAwt9qVoLCgGLbw6YO0MRs2UNTb8RZ9ahh4B6\n",
              "hn6uXlSWOg+vzzycDSSLgn/50DZhHtCfT1f2QvglylIR6LGsb8C7ng91tq4UVUPeBeorckRGeI2H\n",
              "lXcCG29TYDZ89x/50tx87MTp6ZCJBcDgMZUCASnCvxrVefmcJJ4XcGNuwW0LUB6RAAAAckGee0UV\n",
              "LBD/ACJ40OzlWOzClmqTE77gLtmz7jzogABqf533+hs4e8XeYf2kwSFP9r9JB8ukonGxMHNSX/YT\n",
              "4L3rO5HtBZL1iezsPa0o7yLiUE8bQLnXyioIRUwxg1DlAkZB2i7n5yfuP5GScOY6R+K2uAAAAEEB\n",
              "npp0Q/8AE1jLkKtBlBiRhz+Oac5epn3v6ttvGfXu9aAC0oFNXKcl2pmuNW+pFELBbwl3P6UMmgK2\n",
              "d2JNcAjGgQAAAB8BnpxqQ/8ABQ7Wb6AYaZ0M4ZYwTRwwnoIEQI0WD08JAAABEUGagEmoQWyZTAgl\n",
              "//61KoAgsan8r6gBXFAMGZCWG0RKYcaDB0r2ZMWh8R4t6yXwBitBKGB9I+O1gIDcVorPO6LgCeGV\n",
              "CoRFy1Uhbpep9YQVjvlnfHjzzbc+IBAz4eSWK51ddMrwV4vo67gv5rQfK/nl63liPaiR5MuiVMNB\n",
              "X6d4FmhUbS4icreJ8uqdg0mejk4sn8s1t8K+Poqz8yO5TpUEOxJw+Azj0/eJ+qRBAmquWyqUrWHb\n",
              "bP00gl5Cx+3EujeOxrgkfAod6b/0s6BK/K8Dy9zdqBFOygBmtn/l+n/QT744wTQwQFC/Er9g10iQ\n",
              "hb/U06/KM8qwVatg/P+oSBsSl3Ymcekz8ud0Tu4fNPugJgAAAC1Bnr5FFSwQ/wAiUJ/mFykwND4e\n",
              "8hmXLUIwqyDezPNQBzu31+FpC+yQ2BNiJ/gAAAAzAZ7fakP/AEzdSW4JXkoOl/FwGybqHZp63VQH\n",
              "hOBtzukDupOKtdbYISSv+1ZH4HDU2Z4RAAAAyUGaw0moQWyZTAh///6plgD5wWXd0AFpPTuhKkaV\n",
              "rheeic/V/rY0A62baaeISuE9UcPCQoOwgGHSVEioXbpiHTYcsLenuMsNzlwdkmjsUSXtfYJeb/Js\n",
              "jR4pbfwbtb2pTr8wZaBfdz7sNzLXFB3rFComlxPZTmhKOYAGUHIvluonpx60UHdkrqYiEYmp5PRY\n",
              "cXxModxkA4GfgYCeczMx4j5Emmi5j+9M0uTqP80l3tyPGiChKlXoUmMqumin9G//P/0dnltE4E6p\n",
              "6QAAADNBnuFFFSwQ/wAiFbhp58q1vVuZc9S+jopO9pPrKo44f0NbN61DuYpEzIaG6BLeEI/lRmUA\n",
              "AAAsAZ8CakP/AOYPue3o1h0VAj/wACzlAttiujkowms+tMMG2weDrPIn2LLYLjgAAAeWbW9vdgAA\n",
              "AGxtdmhkAAAAAAAAAAAAAAAAAAAD6AAATiAAAQAAAQAAAAAAAAAAAAAAAAEAAAAAAAAAAAAAAAAA\n",
              "AAABAAAAAAAAAAAAAAAAAABAAAAAAAAAAAAAAAAAAAAAAAAAAAAAAAAAAAAAAAAAAgAABsB0cmFr\n",
              "AAAAXHRraGQAAAADAAAAAAAAAAAAAAABAAAAAAAATiAAAAAAAAAAAAAAAAAAAAAAAAEAAAAAAAAA\n",
              "AAAAAAAAAAABAAAAAAAAAAAAAAAAAABAAAAAAbAAAAEgAAAAAAAkZWR0cwAAABxlbHN0AAAAAAAA\n",
              "AAEAAE4gAAAQAAABAAAAAAY4bWRpYQAAACBtZGhkAAAAAAAAAAAAAAAAAAAoAAADIABVxAAAAAAA\n",
              "LWhkbHIAAAAAAAAAAHZpZGUAAAAAAAAAAAAAAABWaWRlb0hhbmRsZXIAAAAF421pbmYAAAAUdm1o\n",
              "ZAAAAAEAAAAAAAAAAAAAACRkaW5mAAAAHGRyZWYAAAAAAAAAAQAAAAx1cmwgAAAAAQAABaNzdGJs\n",
              "AAAAs3N0c2QAAAAAAAAAAQAAAKNhdmMxAAAAAAAAAAEAAAAAAAAAAAAAAAAAAAAAAbABIABIAAAA\n",
              "SAAAAAAAAAABAAAAAAAAAAAAAAAAAAAAAAAAAAAAAAAAAAAAAAAAAAAAGP//AAAAMWF2Y0MBZAAV\n",
              "/+EAGGdkABWs2UGwloQAAAMABAAAAwAoPFi2WAEABmjr48siwAAAABx1dWlka2hA8l8kT8W6OaUb\n",
              "zwMj8wAAAAAAAAAYc3R0cwAAAAAAAAABAAAAZAAACAAAAAAUc3RzcwAAAAAAAAABAAAAAQAAAuhj\n",
              "dHRzAAAAAAAAAFsAAAAEAAAQAAAAAAEAABgAAAAAAQAACAAAAAACAAAQAAAAAAEAABgAAAAAAQAA\n",
              "CAAAAAACAAAQAAAAAAEAACgAAAAAAQAAEAAAAAABAAAAAAAAAAEAAAgAAAAAAQAAIAAAAAACAAAI\n",
              "AAAAAAEAACgAAAAAAQAAEAAAAAABAAAAAAAAAAEAAAgAAAAAAQAAKAAAAAABAAAQAAAAAAEAAAAA\n",
              "AAAAAQAACAAAAAABAAAoAAAAAAEAABAAAAAAAQAAAAAAAAABAAAIAAAAAAEAACgAAAAAAQAAEAAA\n",
              "AAABAAAAAAAAAAEAAAgAAAAAAQAAKAAAAAABAAAQAAAAAAEAAAAAAAAAAQAACAAAAAABAAAoAAAA\n",
              "AAEAABAAAAAAAQAAAAAAAAABAAAIAAAAAAEAACgAAAAAAQAAEAAAAAABAAAAAAAAAAEAAAgAAAAA\n",
              "AQAAKAAAAAABAAAQAAAAAAEAAAAAAAAAAQAACAAAAAABAAAoAAAAAAEAABAAAAAAAQAAAAAAAAAB\n",
              "AAAIAAAAAAEAACgAAAAAAQAAEAAAAAABAAAAAAAAAAEAAAgAAAAAAQAAKAAAAAABAAAQAAAAAAEA\n",
              "AAAAAAAAAQAACAAAAAABAAAoAAAAAAEAABAAAAAAAQAAAAAAAAABAAAIAAAAAAEAACgAAAAAAQAA\n",
              "EAAAAAABAAAAAAAAAAEAAAgAAAAAAQAAIAAAAAACAAAIAAAAAAEAACgAAAAAAQAAEAAAAAABAAAA\n",
              "AAAAAAEAAAgAAAAAAQAAKAAAAAABAAAQAAAAAAEAAAAAAAAAAQAACAAAAAABAAAoAAAAAAEAABAA\n",
              "AAAAAQAAAAAAAAABAAAIAAAAAAEAACgAAAAAAQAAEAAAAAABAAAAAAAAAAEAAAgAAAAAAQAAKAAA\n",
              "AAABAAAQAAAAAAEAAAAAAAAAAQAACAAAAAABAAAgAAAAAAIAAAgAAAAAAQAAIAAAAAACAAAIAAAA\n",
              "ABxzdHNjAAAAAAAAAAEAAAABAAAAZAAAAAEAAAGkc3RzegAAAAAAAAAAAAAAZAAAGBEAAAOlAAAD\n",
              "dgAAAyUAAAP8AAAAjQAAAjYAAAJCAAAC1QAAAGgAAAI6AAACYAAABDcAAAC7AAAAbgAAAEMAAANC\n",
              "AAAAeQAAAEUAAAQbAAAAkQAAADQAAAA9AAADdwAAAJkAAABCAAAATQAAA1UAAACBAAAAfgAAAEAA\n",
              "AAOhAAAAiwAAAEIAAABsAAAD1QAAAFEAAAA0AAAAJQAAA50AAABlAAAANgAAAFsAAAMtAAAASwAA\n",
              "ADcAAAArAAADNAAAAEgAAAAzAAAANAAAAw4AAABcAAAAPQAAADQAAANrAAAAVwAAABwAAAA8AAAD\n",
              "NwAAAF8AAAAnAAAALwAAA1wAAABPAAAAMAAAADcAAAMtAAAAfgAAAC8AAABDAAACNwAAAHUAAAB6\n",
              "AAADEgAAAHoAAABbAAAAYQAAAqYAAABTAAAAOAAAAE4AAAKsAAAAUwAAAGIAAAA+AAABzgAAAFEA\n",
              "AAB0AAAAKAAAAfMAAAB2AAAARQAAACMAAAEVAAAAMQAAADcAAADNAAAANwAAADAAAAAUc3RjbwAA\n",
              "AAAAAAABAAAALAAAAGJ1ZHRhAAAAWm1ldGEAAAAAAAAAIWhkbHIAAAAAAAAAAG1kaXJhcHBsAAAA\n",
              "AAAAAAAAAAAALWlsc3QAAAAlqXRvbwAAAB1kYXRhAAAAAQAAAABMYXZmNTcuODMuMTAw\n",
              "\">\n",
              "  Your browser does not support the video tag.\n",
              "</video>"
            ],
            "text/plain": [
              "<IPython.core.display.HTML object>"
            ]
          },
          "metadata": {
            "tags": []
          },
          "execution_count": 129
        }
      ]
    },
    {
      "cell_type": "code",
      "metadata": {
        "id": "Y2_FeSi1Ch_C",
        "colab_type": "code",
        "colab": {}
      },
      "source": [
        ""
      ],
      "execution_count": 0,
      "outputs": []
    }
  ]
}