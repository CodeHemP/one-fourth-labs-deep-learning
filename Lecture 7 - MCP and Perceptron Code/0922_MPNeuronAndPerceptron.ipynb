{
  "nbformat": 4,
  "nbformat_minor": 0,
  "metadata": {
    "colab": {
      "name": "0922_MPNeuronAndPerceptron.ipynb",
      "provenance": [],
      "toc_visible": true
    },
    "kernelspec": {
      "name": "python3",
      "display_name": "Python 3"
    },
    "accelerator": "GPU"
  },
  "cells": [
    {
      "cell_type": "markdown",
      "metadata": {
        "id": "6Yo4uLb4-_Au",
        "colab_type": "text"
      },
      "source": [
        "# Loading Dataset"
      ]
    },
    {
      "cell_type": "code",
      "metadata": {
        "id": "utT2dIMV5qmg",
        "colab_type": "code",
        "colab": {}
      },
      "source": [
        "import sklearn.datasets\n",
        "import numpy as np"
      ],
      "execution_count": 0,
      "outputs": []
    },
    {
      "cell_type": "code",
      "metadata": {
        "id": "OqOJkuy47FLx",
        "colab_type": "code",
        "colab": {}
      },
      "source": [
        "breast_cancer = sklearn.datasets.load_breast_cancer()"
      ],
      "execution_count": 0,
      "outputs": []
    },
    {
      "cell_type": "code",
      "metadata": {
        "id": "aqos5aOo7WSb",
        "colab_type": "code",
        "outputId": "e20c390d-2466-4f56-f843-19b63b190534",
        "colab": {
          "base_uri": "https://localhost:8080/",
          "height": 0
        }
      },
      "source": [
        "type(breast_cancer)"
      ],
      "execution_count": 88,
      "outputs": [
        {
          "output_type": "execute_result",
          "data": {
            "text/plain": [
              "sklearn.utils.Bunch"
            ]
          },
          "metadata": {
            "tags": []
          },
          "execution_count": 88
        }
      ]
    },
    {
      "cell_type": "code",
      "metadata": {
        "id": "Gd-75xsK7YnC",
        "colab_type": "code",
        "colab": {}
      },
      "source": [
        "x = breast_cancer.data\n",
        "y = breast_cancer.target"
      ],
      "execution_count": 0,
      "outputs": []
    },
    {
      "cell_type": "code",
      "metadata": {
        "id": "kawmBWRV7p-U",
        "colab_type": "code",
        "outputId": "749d8466-2962-4564-a015-47b4cc278878",
        "colab": {
          "base_uri": "https://localhost:8080/",
          "height": 0
        }
      },
      "source": [
        "type(x)"
      ],
      "execution_count": 90,
      "outputs": [
        {
          "output_type": "execute_result",
          "data": {
            "text/plain": [
              "numpy.ndarray"
            ]
          },
          "metadata": {
            "tags": []
          },
          "execution_count": 90
        }
      ]
    },
    {
      "cell_type": "code",
      "metadata": {
        "id": "qu8TN6jW7q8s",
        "colab_type": "code",
        "outputId": "43afe66e-fd3e-4b34-f3cb-00b315abd77c",
        "colab": {
          "base_uri": "https://localhost:8080/",
          "height": 0
        }
      },
      "source": [
        "x.shape, y.shape"
      ],
      "execution_count": 91,
      "outputs": [
        {
          "output_type": "execute_result",
          "data": {
            "text/plain": [
              "((569, 30), (569,))"
            ]
          },
          "metadata": {
            "tags": []
          },
          "execution_count": 91
        }
      ]
    },
    {
      "cell_type": "code",
      "metadata": {
        "id": "xAgDl6Me8NMM",
        "colab_type": "code",
        "outputId": "f71f0ced-299c-468d-f0f0-eb92b5b1dbf3",
        "colab": {
          "base_uri": "https://localhost:8080/",
          "height": 0
        }
      },
      "source": [
        "print(breast_cancer.feature_names)"
      ],
      "execution_count": 92,
      "outputs": [
        {
          "output_type": "stream",
          "text": [
            "['mean radius' 'mean texture' 'mean perimeter' 'mean area'\n",
            " 'mean smoothness' 'mean compactness' 'mean concavity'\n",
            " 'mean concave points' 'mean symmetry' 'mean fractal dimension'\n",
            " 'radius error' 'texture error' 'perimeter error' 'area error'\n",
            " 'smoothness error' 'compactness error' 'concavity error'\n",
            " 'concave points error' 'symmetry error' 'fractal dimension error'\n",
            " 'worst radius' 'worst texture' 'worst perimeter' 'worst area'\n",
            " 'worst smoothness' 'worst compactness' 'worst concavity'\n",
            " 'worst concave points' 'worst symmetry' 'worst fractal dimension']\n"
          ],
          "name": "stdout"
        }
      ]
    },
    {
      "cell_type": "code",
      "metadata": {
        "id": "OJb0wr4l72B0",
        "colab_type": "code",
        "colab": {}
      },
      "source": [
        "import pandas as pd"
      ],
      "execution_count": 0,
      "outputs": []
    },
    {
      "cell_type": "code",
      "metadata": {
        "id": "1bvj_KnQ7_SA",
        "colab_type": "code",
        "colab": {}
      },
      "source": [
        "df = pd.DataFrame(breast_cancer.data,columns = breast_cancer.feature_names)"
      ],
      "execution_count": 0,
      "outputs": []
    },
    {
      "cell_type": "code",
      "metadata": {
        "id": "h77lLeKW8Kd2",
        "colab_type": "code",
        "outputId": "fedee4bc-b093-4722-9592-60bc795b9f47",
        "colab": {
          "base_uri": "https://localhost:8080/",
          "height": 0
        }
      },
      "source": [
        "df.head()"
      ],
      "execution_count": 95,
      "outputs": [
        {
          "output_type": "execute_result",
          "data": {
            "text/html": [
              "<div>\n",
              "<style scoped>\n",
              "    .dataframe tbody tr th:only-of-type {\n",
              "        vertical-align: middle;\n",
              "    }\n",
              "\n",
              "    .dataframe tbody tr th {\n",
              "        vertical-align: top;\n",
              "    }\n",
              "\n",
              "    .dataframe thead th {\n",
              "        text-align: right;\n",
              "    }\n",
              "</style>\n",
              "<table border=\"1\" class=\"dataframe\">\n",
              "  <thead>\n",
              "    <tr style=\"text-align: right;\">\n",
              "      <th></th>\n",
              "      <th>mean radius</th>\n",
              "      <th>mean texture</th>\n",
              "      <th>mean perimeter</th>\n",
              "      <th>mean area</th>\n",
              "      <th>mean smoothness</th>\n",
              "      <th>mean compactness</th>\n",
              "      <th>mean concavity</th>\n",
              "      <th>mean concave points</th>\n",
              "      <th>mean symmetry</th>\n",
              "      <th>mean fractal dimension</th>\n",
              "      <th>radius error</th>\n",
              "      <th>texture error</th>\n",
              "      <th>perimeter error</th>\n",
              "      <th>area error</th>\n",
              "      <th>smoothness error</th>\n",
              "      <th>compactness error</th>\n",
              "      <th>concavity error</th>\n",
              "      <th>concave points error</th>\n",
              "      <th>symmetry error</th>\n",
              "      <th>fractal dimension error</th>\n",
              "      <th>worst radius</th>\n",
              "      <th>worst texture</th>\n",
              "      <th>worst perimeter</th>\n",
              "      <th>worst area</th>\n",
              "      <th>worst smoothness</th>\n",
              "      <th>worst compactness</th>\n",
              "      <th>worst concavity</th>\n",
              "      <th>worst concave points</th>\n",
              "      <th>worst symmetry</th>\n",
              "      <th>worst fractal dimension</th>\n",
              "    </tr>\n",
              "  </thead>\n",
              "  <tbody>\n",
              "    <tr>\n",
              "      <th>0</th>\n",
              "      <td>17.99</td>\n",
              "      <td>10.38</td>\n",
              "      <td>122.80</td>\n",
              "      <td>1001.0</td>\n",
              "      <td>0.11840</td>\n",
              "      <td>0.27760</td>\n",
              "      <td>0.3001</td>\n",
              "      <td>0.14710</td>\n",
              "      <td>0.2419</td>\n",
              "      <td>0.07871</td>\n",
              "      <td>1.0950</td>\n",
              "      <td>0.9053</td>\n",
              "      <td>8.589</td>\n",
              "      <td>153.40</td>\n",
              "      <td>0.006399</td>\n",
              "      <td>0.04904</td>\n",
              "      <td>0.05373</td>\n",
              "      <td>0.01587</td>\n",
              "      <td>0.03003</td>\n",
              "      <td>0.006193</td>\n",
              "      <td>25.38</td>\n",
              "      <td>17.33</td>\n",
              "      <td>184.60</td>\n",
              "      <td>2019.0</td>\n",
              "      <td>0.1622</td>\n",
              "      <td>0.6656</td>\n",
              "      <td>0.7119</td>\n",
              "      <td>0.2654</td>\n",
              "      <td>0.4601</td>\n",
              "      <td>0.11890</td>\n",
              "    </tr>\n",
              "    <tr>\n",
              "      <th>1</th>\n",
              "      <td>20.57</td>\n",
              "      <td>17.77</td>\n",
              "      <td>132.90</td>\n",
              "      <td>1326.0</td>\n",
              "      <td>0.08474</td>\n",
              "      <td>0.07864</td>\n",
              "      <td>0.0869</td>\n",
              "      <td>0.07017</td>\n",
              "      <td>0.1812</td>\n",
              "      <td>0.05667</td>\n",
              "      <td>0.5435</td>\n",
              "      <td>0.7339</td>\n",
              "      <td>3.398</td>\n",
              "      <td>74.08</td>\n",
              "      <td>0.005225</td>\n",
              "      <td>0.01308</td>\n",
              "      <td>0.01860</td>\n",
              "      <td>0.01340</td>\n",
              "      <td>0.01389</td>\n",
              "      <td>0.003532</td>\n",
              "      <td>24.99</td>\n",
              "      <td>23.41</td>\n",
              "      <td>158.80</td>\n",
              "      <td>1956.0</td>\n",
              "      <td>0.1238</td>\n",
              "      <td>0.1866</td>\n",
              "      <td>0.2416</td>\n",
              "      <td>0.1860</td>\n",
              "      <td>0.2750</td>\n",
              "      <td>0.08902</td>\n",
              "    </tr>\n",
              "    <tr>\n",
              "      <th>2</th>\n",
              "      <td>19.69</td>\n",
              "      <td>21.25</td>\n",
              "      <td>130.00</td>\n",
              "      <td>1203.0</td>\n",
              "      <td>0.10960</td>\n",
              "      <td>0.15990</td>\n",
              "      <td>0.1974</td>\n",
              "      <td>0.12790</td>\n",
              "      <td>0.2069</td>\n",
              "      <td>0.05999</td>\n",
              "      <td>0.7456</td>\n",
              "      <td>0.7869</td>\n",
              "      <td>4.585</td>\n",
              "      <td>94.03</td>\n",
              "      <td>0.006150</td>\n",
              "      <td>0.04006</td>\n",
              "      <td>0.03832</td>\n",
              "      <td>0.02058</td>\n",
              "      <td>0.02250</td>\n",
              "      <td>0.004571</td>\n",
              "      <td>23.57</td>\n",
              "      <td>25.53</td>\n",
              "      <td>152.50</td>\n",
              "      <td>1709.0</td>\n",
              "      <td>0.1444</td>\n",
              "      <td>0.4245</td>\n",
              "      <td>0.4504</td>\n",
              "      <td>0.2430</td>\n",
              "      <td>0.3613</td>\n",
              "      <td>0.08758</td>\n",
              "    </tr>\n",
              "    <tr>\n",
              "      <th>3</th>\n",
              "      <td>11.42</td>\n",
              "      <td>20.38</td>\n",
              "      <td>77.58</td>\n",
              "      <td>386.1</td>\n",
              "      <td>0.14250</td>\n",
              "      <td>0.28390</td>\n",
              "      <td>0.2414</td>\n",
              "      <td>0.10520</td>\n",
              "      <td>0.2597</td>\n",
              "      <td>0.09744</td>\n",
              "      <td>0.4956</td>\n",
              "      <td>1.1560</td>\n",
              "      <td>3.445</td>\n",
              "      <td>27.23</td>\n",
              "      <td>0.009110</td>\n",
              "      <td>0.07458</td>\n",
              "      <td>0.05661</td>\n",
              "      <td>0.01867</td>\n",
              "      <td>0.05963</td>\n",
              "      <td>0.009208</td>\n",
              "      <td>14.91</td>\n",
              "      <td>26.50</td>\n",
              "      <td>98.87</td>\n",
              "      <td>567.7</td>\n",
              "      <td>0.2098</td>\n",
              "      <td>0.8663</td>\n",
              "      <td>0.6869</td>\n",
              "      <td>0.2575</td>\n",
              "      <td>0.6638</td>\n",
              "      <td>0.17300</td>\n",
              "    </tr>\n",
              "    <tr>\n",
              "      <th>4</th>\n",
              "      <td>20.29</td>\n",
              "      <td>14.34</td>\n",
              "      <td>135.10</td>\n",
              "      <td>1297.0</td>\n",
              "      <td>0.10030</td>\n",
              "      <td>0.13280</td>\n",
              "      <td>0.1980</td>\n",
              "      <td>0.10430</td>\n",
              "      <td>0.1809</td>\n",
              "      <td>0.05883</td>\n",
              "      <td>0.7572</td>\n",
              "      <td>0.7813</td>\n",
              "      <td>5.438</td>\n",
              "      <td>94.44</td>\n",
              "      <td>0.011490</td>\n",
              "      <td>0.02461</td>\n",
              "      <td>0.05688</td>\n",
              "      <td>0.01885</td>\n",
              "      <td>0.01756</td>\n",
              "      <td>0.005115</td>\n",
              "      <td>22.54</td>\n",
              "      <td>16.67</td>\n",
              "      <td>152.20</td>\n",
              "      <td>1575.0</td>\n",
              "      <td>0.1374</td>\n",
              "      <td>0.2050</td>\n",
              "      <td>0.4000</td>\n",
              "      <td>0.1625</td>\n",
              "      <td>0.2364</td>\n",
              "      <td>0.07678</td>\n",
              "    </tr>\n",
              "  </tbody>\n",
              "</table>\n",
              "</div>"
            ],
            "text/plain": [
              "   mean radius  mean texture  ...  worst symmetry  worst fractal dimension\n",
              "0        17.99         10.38  ...          0.4601                  0.11890\n",
              "1        20.57         17.77  ...          0.2750                  0.08902\n",
              "2        19.69         21.25  ...          0.3613                  0.08758\n",
              "3        11.42         20.38  ...          0.6638                  0.17300\n",
              "4        20.29         14.34  ...          0.2364                  0.07678\n",
              "\n",
              "[5 rows x 30 columns]"
            ]
          },
          "metadata": {
            "tags": []
          },
          "execution_count": 95
        }
      ]
    },
    {
      "cell_type": "code",
      "metadata": {
        "id": "mqEvl24o8Se8",
        "colab_type": "code",
        "colab": {}
      },
      "source": [
        "df['class'] = breast_cancer.target"
      ],
      "execution_count": 0,
      "outputs": []
    },
    {
      "cell_type": "code",
      "metadata": {
        "id": "reybcY8x8bgd",
        "colab_type": "code",
        "outputId": "d81daf4f-56a3-4908-f8f9-718e532716a1",
        "colab": {
          "base_uri": "https://localhost:8080/",
          "height": 0
        }
      },
      "source": [
        "df.head()"
      ],
      "execution_count": 97,
      "outputs": [
        {
          "output_type": "execute_result",
          "data": {
            "text/html": [
              "<div>\n",
              "<style scoped>\n",
              "    .dataframe tbody tr th:only-of-type {\n",
              "        vertical-align: middle;\n",
              "    }\n",
              "\n",
              "    .dataframe tbody tr th {\n",
              "        vertical-align: top;\n",
              "    }\n",
              "\n",
              "    .dataframe thead th {\n",
              "        text-align: right;\n",
              "    }\n",
              "</style>\n",
              "<table border=\"1\" class=\"dataframe\">\n",
              "  <thead>\n",
              "    <tr style=\"text-align: right;\">\n",
              "      <th></th>\n",
              "      <th>mean radius</th>\n",
              "      <th>mean texture</th>\n",
              "      <th>mean perimeter</th>\n",
              "      <th>mean area</th>\n",
              "      <th>mean smoothness</th>\n",
              "      <th>mean compactness</th>\n",
              "      <th>mean concavity</th>\n",
              "      <th>mean concave points</th>\n",
              "      <th>mean symmetry</th>\n",
              "      <th>mean fractal dimension</th>\n",
              "      <th>radius error</th>\n",
              "      <th>texture error</th>\n",
              "      <th>perimeter error</th>\n",
              "      <th>area error</th>\n",
              "      <th>smoothness error</th>\n",
              "      <th>compactness error</th>\n",
              "      <th>concavity error</th>\n",
              "      <th>concave points error</th>\n",
              "      <th>symmetry error</th>\n",
              "      <th>fractal dimension error</th>\n",
              "      <th>worst radius</th>\n",
              "      <th>worst texture</th>\n",
              "      <th>worst perimeter</th>\n",
              "      <th>worst area</th>\n",
              "      <th>worst smoothness</th>\n",
              "      <th>worst compactness</th>\n",
              "      <th>worst concavity</th>\n",
              "      <th>worst concave points</th>\n",
              "      <th>worst symmetry</th>\n",
              "      <th>worst fractal dimension</th>\n",
              "      <th>class</th>\n",
              "    </tr>\n",
              "  </thead>\n",
              "  <tbody>\n",
              "    <tr>\n",
              "      <th>0</th>\n",
              "      <td>17.99</td>\n",
              "      <td>10.38</td>\n",
              "      <td>122.80</td>\n",
              "      <td>1001.0</td>\n",
              "      <td>0.11840</td>\n",
              "      <td>0.27760</td>\n",
              "      <td>0.3001</td>\n",
              "      <td>0.14710</td>\n",
              "      <td>0.2419</td>\n",
              "      <td>0.07871</td>\n",
              "      <td>1.0950</td>\n",
              "      <td>0.9053</td>\n",
              "      <td>8.589</td>\n",
              "      <td>153.40</td>\n",
              "      <td>0.006399</td>\n",
              "      <td>0.04904</td>\n",
              "      <td>0.05373</td>\n",
              "      <td>0.01587</td>\n",
              "      <td>0.03003</td>\n",
              "      <td>0.006193</td>\n",
              "      <td>25.38</td>\n",
              "      <td>17.33</td>\n",
              "      <td>184.60</td>\n",
              "      <td>2019.0</td>\n",
              "      <td>0.1622</td>\n",
              "      <td>0.6656</td>\n",
              "      <td>0.7119</td>\n",
              "      <td>0.2654</td>\n",
              "      <td>0.4601</td>\n",
              "      <td>0.11890</td>\n",
              "      <td>0</td>\n",
              "    </tr>\n",
              "    <tr>\n",
              "      <th>1</th>\n",
              "      <td>20.57</td>\n",
              "      <td>17.77</td>\n",
              "      <td>132.90</td>\n",
              "      <td>1326.0</td>\n",
              "      <td>0.08474</td>\n",
              "      <td>0.07864</td>\n",
              "      <td>0.0869</td>\n",
              "      <td>0.07017</td>\n",
              "      <td>0.1812</td>\n",
              "      <td>0.05667</td>\n",
              "      <td>0.5435</td>\n",
              "      <td>0.7339</td>\n",
              "      <td>3.398</td>\n",
              "      <td>74.08</td>\n",
              "      <td>0.005225</td>\n",
              "      <td>0.01308</td>\n",
              "      <td>0.01860</td>\n",
              "      <td>0.01340</td>\n",
              "      <td>0.01389</td>\n",
              "      <td>0.003532</td>\n",
              "      <td>24.99</td>\n",
              "      <td>23.41</td>\n",
              "      <td>158.80</td>\n",
              "      <td>1956.0</td>\n",
              "      <td>0.1238</td>\n",
              "      <td>0.1866</td>\n",
              "      <td>0.2416</td>\n",
              "      <td>0.1860</td>\n",
              "      <td>0.2750</td>\n",
              "      <td>0.08902</td>\n",
              "      <td>0</td>\n",
              "    </tr>\n",
              "    <tr>\n",
              "      <th>2</th>\n",
              "      <td>19.69</td>\n",
              "      <td>21.25</td>\n",
              "      <td>130.00</td>\n",
              "      <td>1203.0</td>\n",
              "      <td>0.10960</td>\n",
              "      <td>0.15990</td>\n",
              "      <td>0.1974</td>\n",
              "      <td>0.12790</td>\n",
              "      <td>0.2069</td>\n",
              "      <td>0.05999</td>\n",
              "      <td>0.7456</td>\n",
              "      <td>0.7869</td>\n",
              "      <td>4.585</td>\n",
              "      <td>94.03</td>\n",
              "      <td>0.006150</td>\n",
              "      <td>0.04006</td>\n",
              "      <td>0.03832</td>\n",
              "      <td>0.02058</td>\n",
              "      <td>0.02250</td>\n",
              "      <td>0.004571</td>\n",
              "      <td>23.57</td>\n",
              "      <td>25.53</td>\n",
              "      <td>152.50</td>\n",
              "      <td>1709.0</td>\n",
              "      <td>0.1444</td>\n",
              "      <td>0.4245</td>\n",
              "      <td>0.4504</td>\n",
              "      <td>0.2430</td>\n",
              "      <td>0.3613</td>\n",
              "      <td>0.08758</td>\n",
              "      <td>0</td>\n",
              "    </tr>\n",
              "    <tr>\n",
              "      <th>3</th>\n",
              "      <td>11.42</td>\n",
              "      <td>20.38</td>\n",
              "      <td>77.58</td>\n",
              "      <td>386.1</td>\n",
              "      <td>0.14250</td>\n",
              "      <td>0.28390</td>\n",
              "      <td>0.2414</td>\n",
              "      <td>0.10520</td>\n",
              "      <td>0.2597</td>\n",
              "      <td>0.09744</td>\n",
              "      <td>0.4956</td>\n",
              "      <td>1.1560</td>\n",
              "      <td>3.445</td>\n",
              "      <td>27.23</td>\n",
              "      <td>0.009110</td>\n",
              "      <td>0.07458</td>\n",
              "      <td>0.05661</td>\n",
              "      <td>0.01867</td>\n",
              "      <td>0.05963</td>\n",
              "      <td>0.009208</td>\n",
              "      <td>14.91</td>\n",
              "      <td>26.50</td>\n",
              "      <td>98.87</td>\n",
              "      <td>567.7</td>\n",
              "      <td>0.2098</td>\n",
              "      <td>0.8663</td>\n",
              "      <td>0.6869</td>\n",
              "      <td>0.2575</td>\n",
              "      <td>0.6638</td>\n",
              "      <td>0.17300</td>\n",
              "      <td>0</td>\n",
              "    </tr>\n",
              "    <tr>\n",
              "      <th>4</th>\n",
              "      <td>20.29</td>\n",
              "      <td>14.34</td>\n",
              "      <td>135.10</td>\n",
              "      <td>1297.0</td>\n",
              "      <td>0.10030</td>\n",
              "      <td>0.13280</td>\n",
              "      <td>0.1980</td>\n",
              "      <td>0.10430</td>\n",
              "      <td>0.1809</td>\n",
              "      <td>0.05883</td>\n",
              "      <td>0.7572</td>\n",
              "      <td>0.7813</td>\n",
              "      <td>5.438</td>\n",
              "      <td>94.44</td>\n",
              "      <td>0.011490</td>\n",
              "      <td>0.02461</td>\n",
              "      <td>0.05688</td>\n",
              "      <td>0.01885</td>\n",
              "      <td>0.01756</td>\n",
              "      <td>0.005115</td>\n",
              "      <td>22.54</td>\n",
              "      <td>16.67</td>\n",
              "      <td>152.20</td>\n",
              "      <td>1575.0</td>\n",
              "      <td>0.1374</td>\n",
              "      <td>0.2050</td>\n",
              "      <td>0.4000</td>\n",
              "      <td>0.1625</td>\n",
              "      <td>0.2364</td>\n",
              "      <td>0.07678</td>\n",
              "      <td>0</td>\n",
              "    </tr>\n",
              "  </tbody>\n",
              "</table>\n",
              "</div>"
            ],
            "text/plain": [
              "   mean radius  mean texture  ...  worst fractal dimension  class\n",
              "0        17.99         10.38  ...                  0.11890      0\n",
              "1        20.57         17.77  ...                  0.08902      0\n",
              "2        19.69         21.25  ...                  0.08758      0\n",
              "3        11.42         20.38  ...                  0.17300      0\n",
              "4        20.29         14.34  ...                  0.07678      0\n",
              "\n",
              "[5 rows x 31 columns]"
            ]
          },
          "metadata": {
            "tags": []
          },
          "execution_count": 97
        }
      ]
    },
    {
      "cell_type": "code",
      "metadata": {
        "id": "8HBw6DVy8chJ",
        "colab_type": "code",
        "outputId": "933e6792-8d81-4231-a244-3955cc0339a0",
        "colab": {
          "base_uri": "https://localhost:8080/",
          "height": 0
        }
      },
      "source": [
        "df.shape"
      ],
      "execution_count": 98,
      "outputs": [
        {
          "output_type": "execute_result",
          "data": {
            "text/plain": [
              "(569, 31)"
            ]
          },
          "metadata": {
            "tags": []
          },
          "execution_count": 98
        }
      ]
    },
    {
      "cell_type": "code",
      "metadata": {
        "id": "waeKl5iX8fmE",
        "colab_type": "code",
        "outputId": "b662bd21-dad0-4062-ccda-8a05956dd86f",
        "colab": {
          "base_uri": "https://localhost:8080/",
          "height": 0
        }
      },
      "source": [
        "df.describe()"
      ],
      "execution_count": 99,
      "outputs": [
        {
          "output_type": "execute_result",
          "data": {
            "text/html": [
              "<div>\n",
              "<style scoped>\n",
              "    .dataframe tbody tr th:only-of-type {\n",
              "        vertical-align: middle;\n",
              "    }\n",
              "\n",
              "    .dataframe tbody tr th {\n",
              "        vertical-align: top;\n",
              "    }\n",
              "\n",
              "    .dataframe thead th {\n",
              "        text-align: right;\n",
              "    }\n",
              "</style>\n",
              "<table border=\"1\" class=\"dataframe\">\n",
              "  <thead>\n",
              "    <tr style=\"text-align: right;\">\n",
              "      <th></th>\n",
              "      <th>mean radius</th>\n",
              "      <th>mean texture</th>\n",
              "      <th>mean perimeter</th>\n",
              "      <th>mean area</th>\n",
              "      <th>mean smoothness</th>\n",
              "      <th>mean compactness</th>\n",
              "      <th>mean concavity</th>\n",
              "      <th>mean concave points</th>\n",
              "      <th>mean symmetry</th>\n",
              "      <th>mean fractal dimension</th>\n",
              "      <th>radius error</th>\n",
              "      <th>texture error</th>\n",
              "      <th>perimeter error</th>\n",
              "      <th>area error</th>\n",
              "      <th>smoothness error</th>\n",
              "      <th>compactness error</th>\n",
              "      <th>concavity error</th>\n",
              "      <th>concave points error</th>\n",
              "      <th>symmetry error</th>\n",
              "      <th>fractal dimension error</th>\n",
              "      <th>worst radius</th>\n",
              "      <th>worst texture</th>\n",
              "      <th>worst perimeter</th>\n",
              "      <th>worst area</th>\n",
              "      <th>worst smoothness</th>\n",
              "      <th>worst compactness</th>\n",
              "      <th>worst concavity</th>\n",
              "      <th>worst concave points</th>\n",
              "      <th>worst symmetry</th>\n",
              "      <th>worst fractal dimension</th>\n",
              "      <th>class</th>\n",
              "    </tr>\n",
              "  </thead>\n",
              "  <tbody>\n",
              "    <tr>\n",
              "      <th>count</th>\n",
              "      <td>569.000000</td>\n",
              "      <td>569.000000</td>\n",
              "      <td>569.000000</td>\n",
              "      <td>569.000000</td>\n",
              "      <td>569.000000</td>\n",
              "      <td>569.000000</td>\n",
              "      <td>569.000000</td>\n",
              "      <td>569.000000</td>\n",
              "      <td>569.000000</td>\n",
              "      <td>569.000000</td>\n",
              "      <td>569.000000</td>\n",
              "      <td>569.000000</td>\n",
              "      <td>569.000000</td>\n",
              "      <td>569.000000</td>\n",
              "      <td>569.000000</td>\n",
              "      <td>569.000000</td>\n",
              "      <td>569.000000</td>\n",
              "      <td>569.000000</td>\n",
              "      <td>569.000000</td>\n",
              "      <td>569.000000</td>\n",
              "      <td>569.000000</td>\n",
              "      <td>569.000000</td>\n",
              "      <td>569.000000</td>\n",
              "      <td>569.000000</td>\n",
              "      <td>569.000000</td>\n",
              "      <td>569.000000</td>\n",
              "      <td>569.000000</td>\n",
              "      <td>569.000000</td>\n",
              "      <td>569.000000</td>\n",
              "      <td>569.000000</td>\n",
              "      <td>569.000000</td>\n",
              "    </tr>\n",
              "    <tr>\n",
              "      <th>mean</th>\n",
              "      <td>14.127292</td>\n",
              "      <td>19.289649</td>\n",
              "      <td>91.969033</td>\n",
              "      <td>654.889104</td>\n",
              "      <td>0.096360</td>\n",
              "      <td>0.104341</td>\n",
              "      <td>0.088799</td>\n",
              "      <td>0.048919</td>\n",
              "      <td>0.181162</td>\n",
              "      <td>0.062798</td>\n",
              "      <td>0.405172</td>\n",
              "      <td>1.216853</td>\n",
              "      <td>2.866059</td>\n",
              "      <td>40.337079</td>\n",
              "      <td>0.007041</td>\n",
              "      <td>0.025478</td>\n",
              "      <td>0.031894</td>\n",
              "      <td>0.011796</td>\n",
              "      <td>0.020542</td>\n",
              "      <td>0.003795</td>\n",
              "      <td>16.269190</td>\n",
              "      <td>25.677223</td>\n",
              "      <td>107.261213</td>\n",
              "      <td>880.583128</td>\n",
              "      <td>0.132369</td>\n",
              "      <td>0.254265</td>\n",
              "      <td>0.272188</td>\n",
              "      <td>0.114606</td>\n",
              "      <td>0.290076</td>\n",
              "      <td>0.083946</td>\n",
              "      <td>0.627417</td>\n",
              "    </tr>\n",
              "    <tr>\n",
              "      <th>std</th>\n",
              "      <td>3.524049</td>\n",
              "      <td>4.301036</td>\n",
              "      <td>24.298981</td>\n",
              "      <td>351.914129</td>\n",
              "      <td>0.014064</td>\n",
              "      <td>0.052813</td>\n",
              "      <td>0.079720</td>\n",
              "      <td>0.038803</td>\n",
              "      <td>0.027414</td>\n",
              "      <td>0.007060</td>\n",
              "      <td>0.277313</td>\n",
              "      <td>0.551648</td>\n",
              "      <td>2.021855</td>\n",
              "      <td>45.491006</td>\n",
              "      <td>0.003003</td>\n",
              "      <td>0.017908</td>\n",
              "      <td>0.030186</td>\n",
              "      <td>0.006170</td>\n",
              "      <td>0.008266</td>\n",
              "      <td>0.002646</td>\n",
              "      <td>4.833242</td>\n",
              "      <td>6.146258</td>\n",
              "      <td>33.602542</td>\n",
              "      <td>569.356993</td>\n",
              "      <td>0.022832</td>\n",
              "      <td>0.157336</td>\n",
              "      <td>0.208624</td>\n",
              "      <td>0.065732</td>\n",
              "      <td>0.061867</td>\n",
              "      <td>0.018061</td>\n",
              "      <td>0.483918</td>\n",
              "    </tr>\n",
              "    <tr>\n",
              "      <th>min</th>\n",
              "      <td>6.981000</td>\n",
              "      <td>9.710000</td>\n",
              "      <td>43.790000</td>\n",
              "      <td>143.500000</td>\n",
              "      <td>0.052630</td>\n",
              "      <td>0.019380</td>\n",
              "      <td>0.000000</td>\n",
              "      <td>0.000000</td>\n",
              "      <td>0.106000</td>\n",
              "      <td>0.049960</td>\n",
              "      <td>0.111500</td>\n",
              "      <td>0.360200</td>\n",
              "      <td>0.757000</td>\n",
              "      <td>6.802000</td>\n",
              "      <td>0.001713</td>\n",
              "      <td>0.002252</td>\n",
              "      <td>0.000000</td>\n",
              "      <td>0.000000</td>\n",
              "      <td>0.007882</td>\n",
              "      <td>0.000895</td>\n",
              "      <td>7.930000</td>\n",
              "      <td>12.020000</td>\n",
              "      <td>50.410000</td>\n",
              "      <td>185.200000</td>\n",
              "      <td>0.071170</td>\n",
              "      <td>0.027290</td>\n",
              "      <td>0.000000</td>\n",
              "      <td>0.000000</td>\n",
              "      <td>0.156500</td>\n",
              "      <td>0.055040</td>\n",
              "      <td>0.000000</td>\n",
              "    </tr>\n",
              "    <tr>\n",
              "      <th>25%</th>\n",
              "      <td>11.700000</td>\n",
              "      <td>16.170000</td>\n",
              "      <td>75.170000</td>\n",
              "      <td>420.300000</td>\n",
              "      <td>0.086370</td>\n",
              "      <td>0.064920</td>\n",
              "      <td>0.029560</td>\n",
              "      <td>0.020310</td>\n",
              "      <td>0.161900</td>\n",
              "      <td>0.057700</td>\n",
              "      <td>0.232400</td>\n",
              "      <td>0.833900</td>\n",
              "      <td>1.606000</td>\n",
              "      <td>17.850000</td>\n",
              "      <td>0.005169</td>\n",
              "      <td>0.013080</td>\n",
              "      <td>0.015090</td>\n",
              "      <td>0.007638</td>\n",
              "      <td>0.015160</td>\n",
              "      <td>0.002248</td>\n",
              "      <td>13.010000</td>\n",
              "      <td>21.080000</td>\n",
              "      <td>84.110000</td>\n",
              "      <td>515.300000</td>\n",
              "      <td>0.116600</td>\n",
              "      <td>0.147200</td>\n",
              "      <td>0.114500</td>\n",
              "      <td>0.064930</td>\n",
              "      <td>0.250400</td>\n",
              "      <td>0.071460</td>\n",
              "      <td>0.000000</td>\n",
              "    </tr>\n",
              "    <tr>\n",
              "      <th>50%</th>\n",
              "      <td>13.370000</td>\n",
              "      <td>18.840000</td>\n",
              "      <td>86.240000</td>\n",
              "      <td>551.100000</td>\n",
              "      <td>0.095870</td>\n",
              "      <td>0.092630</td>\n",
              "      <td>0.061540</td>\n",
              "      <td>0.033500</td>\n",
              "      <td>0.179200</td>\n",
              "      <td>0.061540</td>\n",
              "      <td>0.324200</td>\n",
              "      <td>1.108000</td>\n",
              "      <td>2.287000</td>\n",
              "      <td>24.530000</td>\n",
              "      <td>0.006380</td>\n",
              "      <td>0.020450</td>\n",
              "      <td>0.025890</td>\n",
              "      <td>0.010930</td>\n",
              "      <td>0.018730</td>\n",
              "      <td>0.003187</td>\n",
              "      <td>14.970000</td>\n",
              "      <td>25.410000</td>\n",
              "      <td>97.660000</td>\n",
              "      <td>686.500000</td>\n",
              "      <td>0.131300</td>\n",
              "      <td>0.211900</td>\n",
              "      <td>0.226700</td>\n",
              "      <td>0.099930</td>\n",
              "      <td>0.282200</td>\n",
              "      <td>0.080040</td>\n",
              "      <td>1.000000</td>\n",
              "    </tr>\n",
              "    <tr>\n",
              "      <th>75%</th>\n",
              "      <td>15.780000</td>\n",
              "      <td>21.800000</td>\n",
              "      <td>104.100000</td>\n",
              "      <td>782.700000</td>\n",
              "      <td>0.105300</td>\n",
              "      <td>0.130400</td>\n",
              "      <td>0.130700</td>\n",
              "      <td>0.074000</td>\n",
              "      <td>0.195700</td>\n",
              "      <td>0.066120</td>\n",
              "      <td>0.478900</td>\n",
              "      <td>1.474000</td>\n",
              "      <td>3.357000</td>\n",
              "      <td>45.190000</td>\n",
              "      <td>0.008146</td>\n",
              "      <td>0.032450</td>\n",
              "      <td>0.042050</td>\n",
              "      <td>0.014710</td>\n",
              "      <td>0.023480</td>\n",
              "      <td>0.004558</td>\n",
              "      <td>18.790000</td>\n",
              "      <td>29.720000</td>\n",
              "      <td>125.400000</td>\n",
              "      <td>1084.000000</td>\n",
              "      <td>0.146000</td>\n",
              "      <td>0.339100</td>\n",
              "      <td>0.382900</td>\n",
              "      <td>0.161400</td>\n",
              "      <td>0.317900</td>\n",
              "      <td>0.092080</td>\n",
              "      <td>1.000000</td>\n",
              "    </tr>\n",
              "    <tr>\n",
              "      <th>max</th>\n",
              "      <td>28.110000</td>\n",
              "      <td>39.280000</td>\n",
              "      <td>188.500000</td>\n",
              "      <td>2501.000000</td>\n",
              "      <td>0.163400</td>\n",
              "      <td>0.345400</td>\n",
              "      <td>0.426800</td>\n",
              "      <td>0.201200</td>\n",
              "      <td>0.304000</td>\n",
              "      <td>0.097440</td>\n",
              "      <td>2.873000</td>\n",
              "      <td>4.885000</td>\n",
              "      <td>21.980000</td>\n",
              "      <td>542.200000</td>\n",
              "      <td>0.031130</td>\n",
              "      <td>0.135400</td>\n",
              "      <td>0.396000</td>\n",
              "      <td>0.052790</td>\n",
              "      <td>0.078950</td>\n",
              "      <td>0.029840</td>\n",
              "      <td>36.040000</td>\n",
              "      <td>49.540000</td>\n",
              "      <td>251.200000</td>\n",
              "      <td>4254.000000</td>\n",
              "      <td>0.222600</td>\n",
              "      <td>1.058000</td>\n",
              "      <td>1.252000</td>\n",
              "      <td>0.291000</td>\n",
              "      <td>0.663800</td>\n",
              "      <td>0.207500</td>\n",
              "      <td>1.000000</td>\n",
              "    </tr>\n",
              "  </tbody>\n",
              "</table>\n",
              "</div>"
            ],
            "text/plain": [
              "       mean radius  mean texture  ...  worst fractal dimension       class\n",
              "count   569.000000    569.000000  ...               569.000000  569.000000\n",
              "mean     14.127292     19.289649  ...                 0.083946    0.627417\n",
              "std       3.524049      4.301036  ...                 0.018061    0.483918\n",
              "min       6.981000      9.710000  ...                 0.055040    0.000000\n",
              "25%      11.700000     16.170000  ...                 0.071460    0.000000\n",
              "50%      13.370000     18.840000  ...                 0.080040    1.000000\n",
              "75%      15.780000     21.800000  ...                 0.092080    1.000000\n",
              "max      28.110000     39.280000  ...                 0.207500    1.000000\n",
              "\n",
              "[8 rows x 31 columns]"
            ]
          },
          "metadata": {
            "tags": []
          },
          "execution_count": 99
        }
      ]
    },
    {
      "cell_type": "code",
      "metadata": {
        "id": "mc5R53Lx8nCr",
        "colab_type": "code",
        "outputId": "59129573-aefa-46ee-a681-b66a99873ef6",
        "colab": {
          "base_uri": "https://localhost:8080/",
          "height": 0
        }
      },
      "source": [
        "df['class'].value_counts()"
      ],
      "execution_count": 100,
      "outputs": [
        {
          "output_type": "execute_result",
          "data": {
            "text/plain": [
              "1    357\n",
              "0    212\n",
              "Name: class, dtype: int64"
            ]
          },
          "metadata": {
            "tags": []
          },
          "execution_count": 100
        }
      ]
    },
    {
      "cell_type": "code",
      "metadata": {
        "id": "jem3N0-987mt",
        "colab_type": "code",
        "outputId": "628f4f34-80f4-4730-a2b5-b40309e34a5d",
        "colab": {
          "base_uri": "https://localhost:8080/",
          "height": 0
        }
      },
      "source": [
        "print(breast_cancer.target_names)"
      ],
      "execution_count": 101,
      "outputs": [
        {
          "output_type": "stream",
          "text": [
            "['malignant' 'benign']\n"
          ],
          "name": "stdout"
        }
      ]
    },
    {
      "cell_type": "code",
      "metadata": {
        "id": "PvvA6XDaT7as",
        "colab_type": "code",
        "colab": {
          "base_uri": "https://localhost:8080/",
          "height": 0
        },
        "outputId": "b1817fa0-f029-4f83-8c07-9282e8f990d7"
      },
      "source": [
        "df.groupby('class').mean()"
      ],
      "execution_count": 102,
      "outputs": [
        {
          "output_type": "execute_result",
          "data": {
            "text/html": [
              "<div>\n",
              "<style scoped>\n",
              "    .dataframe tbody tr th:only-of-type {\n",
              "        vertical-align: middle;\n",
              "    }\n",
              "\n",
              "    .dataframe tbody tr th {\n",
              "        vertical-align: top;\n",
              "    }\n",
              "\n",
              "    .dataframe thead th {\n",
              "        text-align: right;\n",
              "    }\n",
              "</style>\n",
              "<table border=\"1\" class=\"dataframe\">\n",
              "  <thead>\n",
              "    <tr style=\"text-align: right;\">\n",
              "      <th></th>\n",
              "      <th>mean radius</th>\n",
              "      <th>mean texture</th>\n",
              "      <th>mean perimeter</th>\n",
              "      <th>mean area</th>\n",
              "      <th>mean smoothness</th>\n",
              "      <th>mean compactness</th>\n",
              "      <th>mean concavity</th>\n",
              "      <th>mean concave points</th>\n",
              "      <th>mean symmetry</th>\n",
              "      <th>mean fractal dimension</th>\n",
              "      <th>radius error</th>\n",
              "      <th>texture error</th>\n",
              "      <th>perimeter error</th>\n",
              "      <th>area error</th>\n",
              "      <th>smoothness error</th>\n",
              "      <th>compactness error</th>\n",
              "      <th>concavity error</th>\n",
              "      <th>concave points error</th>\n",
              "      <th>symmetry error</th>\n",
              "      <th>fractal dimension error</th>\n",
              "      <th>worst radius</th>\n",
              "      <th>worst texture</th>\n",
              "      <th>worst perimeter</th>\n",
              "      <th>worst area</th>\n",
              "      <th>worst smoothness</th>\n",
              "      <th>worst compactness</th>\n",
              "      <th>worst concavity</th>\n",
              "      <th>worst concave points</th>\n",
              "      <th>worst symmetry</th>\n",
              "      <th>worst fractal dimension</th>\n",
              "    </tr>\n",
              "    <tr>\n",
              "      <th>class</th>\n",
              "      <th></th>\n",
              "      <th></th>\n",
              "      <th></th>\n",
              "      <th></th>\n",
              "      <th></th>\n",
              "      <th></th>\n",
              "      <th></th>\n",
              "      <th></th>\n",
              "      <th></th>\n",
              "      <th></th>\n",
              "      <th></th>\n",
              "      <th></th>\n",
              "      <th></th>\n",
              "      <th></th>\n",
              "      <th></th>\n",
              "      <th></th>\n",
              "      <th></th>\n",
              "      <th></th>\n",
              "      <th></th>\n",
              "      <th></th>\n",
              "      <th></th>\n",
              "      <th></th>\n",
              "      <th></th>\n",
              "      <th></th>\n",
              "      <th></th>\n",
              "      <th></th>\n",
              "      <th></th>\n",
              "      <th></th>\n",
              "      <th></th>\n",
              "      <th></th>\n",
              "    </tr>\n",
              "  </thead>\n",
              "  <tbody>\n",
              "    <tr>\n",
              "      <th>0</th>\n",
              "      <td>17.462830</td>\n",
              "      <td>21.604906</td>\n",
              "      <td>115.365377</td>\n",
              "      <td>978.376415</td>\n",
              "      <td>0.102898</td>\n",
              "      <td>0.145188</td>\n",
              "      <td>0.160775</td>\n",
              "      <td>0.087990</td>\n",
              "      <td>0.192909</td>\n",
              "      <td>0.062680</td>\n",
              "      <td>0.609083</td>\n",
              "      <td>1.210915</td>\n",
              "      <td>4.323929</td>\n",
              "      <td>72.672406</td>\n",
              "      <td>0.006780</td>\n",
              "      <td>0.032281</td>\n",
              "      <td>0.041824</td>\n",
              "      <td>0.015060</td>\n",
              "      <td>0.020472</td>\n",
              "      <td>0.004062</td>\n",
              "      <td>21.134811</td>\n",
              "      <td>29.318208</td>\n",
              "      <td>141.370330</td>\n",
              "      <td>1422.286321</td>\n",
              "      <td>0.144845</td>\n",
              "      <td>0.374824</td>\n",
              "      <td>0.450606</td>\n",
              "      <td>0.182237</td>\n",
              "      <td>0.323468</td>\n",
              "      <td>0.091530</td>\n",
              "    </tr>\n",
              "    <tr>\n",
              "      <th>1</th>\n",
              "      <td>12.146524</td>\n",
              "      <td>17.914762</td>\n",
              "      <td>78.075406</td>\n",
              "      <td>462.790196</td>\n",
              "      <td>0.092478</td>\n",
              "      <td>0.080085</td>\n",
              "      <td>0.046058</td>\n",
              "      <td>0.025717</td>\n",
              "      <td>0.174186</td>\n",
              "      <td>0.062867</td>\n",
              "      <td>0.284082</td>\n",
              "      <td>1.220380</td>\n",
              "      <td>2.000321</td>\n",
              "      <td>21.135148</td>\n",
              "      <td>0.007196</td>\n",
              "      <td>0.021438</td>\n",
              "      <td>0.025997</td>\n",
              "      <td>0.009858</td>\n",
              "      <td>0.020584</td>\n",
              "      <td>0.003636</td>\n",
              "      <td>13.379801</td>\n",
              "      <td>23.515070</td>\n",
              "      <td>87.005938</td>\n",
              "      <td>558.899440</td>\n",
              "      <td>0.124959</td>\n",
              "      <td>0.182673</td>\n",
              "      <td>0.166238</td>\n",
              "      <td>0.074444</td>\n",
              "      <td>0.270246</td>\n",
              "      <td>0.079442</td>\n",
              "    </tr>\n",
              "  </tbody>\n",
              "</table>\n",
              "</div>"
            ],
            "text/plain": [
              "       mean radius  mean texture  ...  worst symmetry  worst fractal dimension\n",
              "class                             ...                                         \n",
              "0        17.462830     21.604906  ...        0.323468                 0.091530\n",
              "1        12.146524     17.914762  ...        0.270246                 0.079442\n",
              "\n",
              "[2 rows x 30 columns]"
            ]
          },
          "metadata": {
            "tags": []
          },
          "execution_count": 102
        }
      ]
    },
    {
      "cell_type": "markdown",
      "metadata": {
        "id": "o2nAwqwl_CfQ",
        "colab_type": "text"
      },
      "source": [
        "# Split Data"
      ]
    },
    {
      "cell_type": "code",
      "metadata": {
        "id": "K_p951AE_JUe",
        "colab_type": "code",
        "colab": {}
      },
      "source": [
        "from sklearn.model_selection import train_test_split"
      ],
      "execution_count": 0,
      "outputs": []
    },
    {
      "cell_type": "code",
      "metadata": {
        "id": "HSCNZ0TtBUCV",
        "colab_type": "code",
        "colab": {}
      },
      "source": [
        "x = df.drop('class',axis = 1)\n",
        "y = df['class']"
      ],
      "execution_count": 0,
      "outputs": []
    },
    {
      "cell_type": "code",
      "metadata": {
        "id": "_3DRG8sa_nzS",
        "colab_type": "code",
        "colab": {}
      },
      "source": [
        "x_train,x_test, y_train,y_test = train_test_split(x,y)"
      ],
      "execution_count": 0,
      "outputs": []
    },
    {
      "cell_type": "code",
      "metadata": {
        "id": "O__Lr9oxBQ-y",
        "colab_type": "code",
        "outputId": "76252180-3051-48b3-9245-a3c03027f2a4",
        "colab": {
          "base_uri": "https://localhost:8080/",
          "height": 34
        }
      },
      "source": [
        "x_train.shape"
      ],
      "execution_count": 106,
      "outputs": [
        {
          "output_type": "execute_result",
          "data": {
            "text/plain": [
              "(426, 30)"
            ]
          },
          "metadata": {
            "tags": []
          },
          "execution_count": 106
        }
      ]
    },
    {
      "cell_type": "code",
      "metadata": {
        "id": "-kvPG1P5BcVl",
        "colab_type": "code",
        "outputId": "52e2106d-0d35-4f20-942c-befd47f1c125",
        "colab": {
          "base_uri": "https://localhost:8080/",
          "height": 258
        }
      },
      "source": [
        "x_train.head()"
      ],
      "execution_count": 107,
      "outputs": [
        {
          "output_type": "execute_result",
          "data": {
            "text/html": [
              "<div>\n",
              "<style scoped>\n",
              "    .dataframe tbody tr th:only-of-type {\n",
              "        vertical-align: middle;\n",
              "    }\n",
              "\n",
              "    .dataframe tbody tr th {\n",
              "        vertical-align: top;\n",
              "    }\n",
              "\n",
              "    .dataframe thead th {\n",
              "        text-align: right;\n",
              "    }\n",
              "</style>\n",
              "<table border=\"1\" class=\"dataframe\">\n",
              "  <thead>\n",
              "    <tr style=\"text-align: right;\">\n",
              "      <th></th>\n",
              "      <th>mean radius</th>\n",
              "      <th>mean texture</th>\n",
              "      <th>mean perimeter</th>\n",
              "      <th>mean area</th>\n",
              "      <th>mean smoothness</th>\n",
              "      <th>mean compactness</th>\n",
              "      <th>mean concavity</th>\n",
              "      <th>mean concave points</th>\n",
              "      <th>mean symmetry</th>\n",
              "      <th>mean fractal dimension</th>\n",
              "      <th>radius error</th>\n",
              "      <th>texture error</th>\n",
              "      <th>perimeter error</th>\n",
              "      <th>area error</th>\n",
              "      <th>smoothness error</th>\n",
              "      <th>compactness error</th>\n",
              "      <th>concavity error</th>\n",
              "      <th>concave points error</th>\n",
              "      <th>symmetry error</th>\n",
              "      <th>fractal dimension error</th>\n",
              "      <th>worst radius</th>\n",
              "      <th>worst texture</th>\n",
              "      <th>worst perimeter</th>\n",
              "      <th>worst area</th>\n",
              "      <th>worst smoothness</th>\n",
              "      <th>worst compactness</th>\n",
              "      <th>worst concavity</th>\n",
              "      <th>worst concave points</th>\n",
              "      <th>worst symmetry</th>\n",
              "      <th>worst fractal dimension</th>\n",
              "    </tr>\n",
              "  </thead>\n",
              "  <tbody>\n",
              "    <tr>\n",
              "      <th>149</th>\n",
              "      <td>13.74</td>\n",
              "      <td>17.91</td>\n",
              "      <td>88.12</td>\n",
              "      <td>585.0</td>\n",
              "      <td>0.07944</td>\n",
              "      <td>0.06376</td>\n",
              "      <td>0.02881</td>\n",
              "      <td>0.01329</td>\n",
              "      <td>0.1473</td>\n",
              "      <td>0.05580</td>\n",
              "      <td>0.2500</td>\n",
              "      <td>0.7574</td>\n",
              "      <td>1.573</td>\n",
              "      <td>21.47</td>\n",
              "      <td>0.002838</td>\n",
              "      <td>0.015920</td>\n",
              "      <td>0.017800</td>\n",
              "      <td>0.005828</td>\n",
              "      <td>0.01329</td>\n",
              "      <td>0.001976</td>\n",
              "      <td>15.34</td>\n",
              "      <td>22.46</td>\n",
              "      <td>97.19</td>\n",
              "      <td>725.9</td>\n",
              "      <td>0.09711</td>\n",
              "      <td>0.1824</td>\n",
              "      <td>0.15640</td>\n",
              "      <td>0.06019</td>\n",
              "      <td>0.2350</td>\n",
              "      <td>0.07014</td>\n",
              "    </tr>\n",
              "    <tr>\n",
              "      <th>295</th>\n",
              "      <td>13.77</td>\n",
              "      <td>13.27</td>\n",
              "      <td>88.06</td>\n",
              "      <td>582.7</td>\n",
              "      <td>0.09198</td>\n",
              "      <td>0.06221</td>\n",
              "      <td>0.01063</td>\n",
              "      <td>0.01917</td>\n",
              "      <td>0.1592</td>\n",
              "      <td>0.05912</td>\n",
              "      <td>0.2191</td>\n",
              "      <td>0.6946</td>\n",
              "      <td>1.479</td>\n",
              "      <td>17.74</td>\n",
              "      <td>0.004348</td>\n",
              "      <td>0.008153</td>\n",
              "      <td>0.004272</td>\n",
              "      <td>0.006829</td>\n",
              "      <td>0.02154</td>\n",
              "      <td>0.001802</td>\n",
              "      <td>14.67</td>\n",
              "      <td>16.93</td>\n",
              "      <td>94.17</td>\n",
              "      <td>661.1</td>\n",
              "      <td>0.11700</td>\n",
              "      <td>0.1072</td>\n",
              "      <td>0.03732</td>\n",
              "      <td>0.05802</td>\n",
              "      <td>0.2823</td>\n",
              "      <td>0.06794</td>\n",
              "    </tr>\n",
              "    <tr>\n",
              "      <th>173</th>\n",
              "      <td>11.08</td>\n",
              "      <td>14.71</td>\n",
              "      <td>70.21</td>\n",
              "      <td>372.7</td>\n",
              "      <td>0.10060</td>\n",
              "      <td>0.05743</td>\n",
              "      <td>0.02363</td>\n",
              "      <td>0.02583</td>\n",
              "      <td>0.1566</td>\n",
              "      <td>0.06669</td>\n",
              "      <td>0.2073</td>\n",
              "      <td>1.8050</td>\n",
              "      <td>1.377</td>\n",
              "      <td>19.08</td>\n",
              "      <td>0.014960</td>\n",
              "      <td>0.021210</td>\n",
              "      <td>0.014530</td>\n",
              "      <td>0.015830</td>\n",
              "      <td>0.03082</td>\n",
              "      <td>0.004785</td>\n",
              "      <td>11.35</td>\n",
              "      <td>16.82</td>\n",
              "      <td>72.01</td>\n",
              "      <td>396.5</td>\n",
              "      <td>0.12160</td>\n",
              "      <td>0.0824</td>\n",
              "      <td>0.03938</td>\n",
              "      <td>0.04306</td>\n",
              "      <td>0.1902</td>\n",
              "      <td>0.07313</td>\n",
              "    </tr>\n",
              "    <tr>\n",
              "      <th>150</th>\n",
              "      <td>13.00</td>\n",
              "      <td>20.78</td>\n",
              "      <td>83.51</td>\n",
              "      <td>519.4</td>\n",
              "      <td>0.11350</td>\n",
              "      <td>0.07589</td>\n",
              "      <td>0.03136</td>\n",
              "      <td>0.02645</td>\n",
              "      <td>0.2540</td>\n",
              "      <td>0.06087</td>\n",
              "      <td>0.4202</td>\n",
              "      <td>1.3220</td>\n",
              "      <td>2.873</td>\n",
              "      <td>34.78</td>\n",
              "      <td>0.007017</td>\n",
              "      <td>0.011420</td>\n",
              "      <td>0.019490</td>\n",
              "      <td>0.011530</td>\n",
              "      <td>0.02951</td>\n",
              "      <td>0.001533</td>\n",
              "      <td>14.16</td>\n",
              "      <td>24.11</td>\n",
              "      <td>90.82</td>\n",
              "      <td>616.7</td>\n",
              "      <td>0.12970</td>\n",
              "      <td>0.1105</td>\n",
              "      <td>0.08112</td>\n",
              "      <td>0.06296</td>\n",
              "      <td>0.3196</td>\n",
              "      <td>0.06435</td>\n",
              "    </tr>\n",
              "    <tr>\n",
              "      <th>84</th>\n",
              "      <td>12.00</td>\n",
              "      <td>15.65</td>\n",
              "      <td>76.95</td>\n",
              "      <td>443.3</td>\n",
              "      <td>0.09723</td>\n",
              "      <td>0.07165</td>\n",
              "      <td>0.04151</td>\n",
              "      <td>0.01863</td>\n",
              "      <td>0.2079</td>\n",
              "      <td>0.05968</td>\n",
              "      <td>0.2271</td>\n",
              "      <td>1.2550</td>\n",
              "      <td>1.441</td>\n",
              "      <td>16.16</td>\n",
              "      <td>0.005969</td>\n",
              "      <td>0.018120</td>\n",
              "      <td>0.020070</td>\n",
              "      <td>0.007027</td>\n",
              "      <td>0.01972</td>\n",
              "      <td>0.002607</td>\n",
              "      <td>13.67</td>\n",
              "      <td>24.90</td>\n",
              "      <td>87.78</td>\n",
              "      <td>567.9</td>\n",
              "      <td>0.13770</td>\n",
              "      <td>0.2003</td>\n",
              "      <td>0.22670</td>\n",
              "      <td>0.07632</td>\n",
              "      <td>0.3379</td>\n",
              "      <td>0.07924</td>\n",
              "    </tr>\n",
              "  </tbody>\n",
              "</table>\n",
              "</div>"
            ],
            "text/plain": [
              "     mean radius  mean texture  ...  worst symmetry  worst fractal dimension\n",
              "149        13.74         17.91  ...          0.2350                  0.07014\n",
              "295        13.77         13.27  ...          0.2823                  0.06794\n",
              "173        11.08         14.71  ...          0.1902                  0.07313\n",
              "150        13.00         20.78  ...          0.3196                  0.06435\n",
              "84         12.00         15.65  ...          0.3379                  0.07924\n",
              "\n",
              "[5 rows x 30 columns]"
            ]
          },
          "metadata": {
            "tags": []
          },
          "execution_count": 107
        }
      ]
    },
    {
      "cell_type": "code",
      "metadata": {
        "id": "vloBctdYBerI",
        "colab_type": "code",
        "outputId": "69e1aea4-c6c3-4d0e-eb2a-9c9752b2a71d",
        "colab": {
          "base_uri": "https://localhost:8080/",
          "height": 351
        }
      },
      "source": [
        "x_train.describe()"
      ],
      "execution_count": 108,
      "outputs": [
        {
          "output_type": "execute_result",
          "data": {
            "text/html": [
              "<div>\n",
              "<style scoped>\n",
              "    .dataframe tbody tr th:only-of-type {\n",
              "        vertical-align: middle;\n",
              "    }\n",
              "\n",
              "    .dataframe tbody tr th {\n",
              "        vertical-align: top;\n",
              "    }\n",
              "\n",
              "    .dataframe thead th {\n",
              "        text-align: right;\n",
              "    }\n",
              "</style>\n",
              "<table border=\"1\" class=\"dataframe\">\n",
              "  <thead>\n",
              "    <tr style=\"text-align: right;\">\n",
              "      <th></th>\n",
              "      <th>mean radius</th>\n",
              "      <th>mean texture</th>\n",
              "      <th>mean perimeter</th>\n",
              "      <th>mean area</th>\n",
              "      <th>mean smoothness</th>\n",
              "      <th>mean compactness</th>\n",
              "      <th>mean concavity</th>\n",
              "      <th>mean concave points</th>\n",
              "      <th>mean symmetry</th>\n",
              "      <th>mean fractal dimension</th>\n",
              "      <th>radius error</th>\n",
              "      <th>texture error</th>\n",
              "      <th>perimeter error</th>\n",
              "      <th>area error</th>\n",
              "      <th>smoothness error</th>\n",
              "      <th>compactness error</th>\n",
              "      <th>concavity error</th>\n",
              "      <th>concave points error</th>\n",
              "      <th>symmetry error</th>\n",
              "      <th>fractal dimension error</th>\n",
              "      <th>worst radius</th>\n",
              "      <th>worst texture</th>\n",
              "      <th>worst perimeter</th>\n",
              "      <th>worst area</th>\n",
              "      <th>worst smoothness</th>\n",
              "      <th>worst compactness</th>\n",
              "      <th>worst concavity</th>\n",
              "      <th>worst concave points</th>\n",
              "      <th>worst symmetry</th>\n",
              "      <th>worst fractal dimension</th>\n",
              "    </tr>\n",
              "  </thead>\n",
              "  <tbody>\n",
              "    <tr>\n",
              "      <th>count</th>\n",
              "      <td>426.000000</td>\n",
              "      <td>426.000000</td>\n",
              "      <td>426.000000</td>\n",
              "      <td>426.000000</td>\n",
              "      <td>426.000000</td>\n",
              "      <td>426.000000</td>\n",
              "      <td>426.000000</td>\n",
              "      <td>426.000000</td>\n",
              "      <td>426.000000</td>\n",
              "      <td>426.000000</td>\n",
              "      <td>426.000000</td>\n",
              "      <td>426.000000</td>\n",
              "      <td>426.000000</td>\n",
              "      <td>426.000000</td>\n",
              "      <td>426.000000</td>\n",
              "      <td>426.000000</td>\n",
              "      <td>426.000000</td>\n",
              "      <td>426.000000</td>\n",
              "      <td>426.000000</td>\n",
              "      <td>426.000000</td>\n",
              "      <td>426.000000</td>\n",
              "      <td>426.000000</td>\n",
              "      <td>426.000000</td>\n",
              "      <td>426.00000</td>\n",
              "      <td>426.000000</td>\n",
              "      <td>426.000000</td>\n",
              "      <td>426.000000</td>\n",
              "      <td>426.000000</td>\n",
              "      <td>426.000000</td>\n",
              "      <td>426.000000</td>\n",
              "    </tr>\n",
              "    <tr>\n",
              "      <th>mean</th>\n",
              "      <td>14.075991</td>\n",
              "      <td>19.104202</td>\n",
              "      <td>91.619437</td>\n",
              "      <td>647.868779</td>\n",
              "      <td>0.096401</td>\n",
              "      <td>0.104011</td>\n",
              "      <td>0.088287</td>\n",
              "      <td>0.048358</td>\n",
              "      <td>0.181105</td>\n",
              "      <td>0.062784</td>\n",
              "      <td>0.397801</td>\n",
              "      <td>1.204253</td>\n",
              "      <td>2.807477</td>\n",
              "      <td>39.324249</td>\n",
              "      <td>0.006988</td>\n",
              "      <td>0.025298</td>\n",
              "      <td>0.032303</td>\n",
              "      <td>0.011802</td>\n",
              "      <td>0.020685</td>\n",
              "      <td>0.003798</td>\n",
              "      <td>16.201094</td>\n",
              "      <td>25.446432</td>\n",
              "      <td>106.705188</td>\n",
              "      <td>871.30000</td>\n",
              "      <td>0.132267</td>\n",
              "      <td>0.251620</td>\n",
              "      <td>0.270364</td>\n",
              "      <td>0.113645</td>\n",
              "      <td>0.291592</td>\n",
              "      <td>0.083883</td>\n",
              "    </tr>\n",
              "    <tr>\n",
              "      <th>std</th>\n",
              "      <td>3.404635</td>\n",
              "      <td>4.266936</td>\n",
              "      <td>23.531595</td>\n",
              "      <td>337.121691</td>\n",
              "      <td>0.013880</td>\n",
              "      <td>0.053621</td>\n",
              "      <td>0.081189</td>\n",
              "      <td>0.038419</td>\n",
              "      <td>0.028685</td>\n",
              "      <td>0.006971</td>\n",
              "      <td>0.263954</td>\n",
              "      <td>0.557828</td>\n",
              "      <td>1.907238</td>\n",
              "      <td>42.681541</td>\n",
              "      <td>0.003083</td>\n",
              "      <td>0.018186</td>\n",
              "      <td>0.032666</td>\n",
              "      <td>0.006424</td>\n",
              "      <td>0.008485</td>\n",
              "      <td>0.002665</td>\n",
              "      <td>4.736970</td>\n",
              "      <td>6.119349</td>\n",
              "      <td>32.880247</td>\n",
              "      <td>559.51829</td>\n",
              "      <td>0.023062</td>\n",
              "      <td>0.157565</td>\n",
              "      <td>0.210337</td>\n",
              "      <td>0.065841</td>\n",
              "      <td>0.063631</td>\n",
              "      <td>0.018042</td>\n",
              "    </tr>\n",
              "    <tr>\n",
              "      <th>min</th>\n",
              "      <td>6.981000</td>\n",
              "      <td>9.710000</td>\n",
              "      <td>43.790000</td>\n",
              "      <td>143.500000</td>\n",
              "      <td>0.062510</td>\n",
              "      <td>0.019380</td>\n",
              "      <td>0.000000</td>\n",
              "      <td>0.000000</td>\n",
              "      <td>0.106000</td>\n",
              "      <td>0.049960</td>\n",
              "      <td>0.111500</td>\n",
              "      <td>0.360200</td>\n",
              "      <td>0.757000</td>\n",
              "      <td>6.802000</td>\n",
              "      <td>0.001713</td>\n",
              "      <td>0.002252</td>\n",
              "      <td>0.000000</td>\n",
              "      <td>0.000000</td>\n",
              "      <td>0.007882</td>\n",
              "      <td>0.000895</td>\n",
              "      <td>7.930000</td>\n",
              "      <td>12.020000</td>\n",
              "      <td>50.410000</td>\n",
              "      <td>185.20000</td>\n",
              "      <td>0.071170</td>\n",
              "      <td>0.027290</td>\n",
              "      <td>0.000000</td>\n",
              "      <td>0.000000</td>\n",
              "      <td>0.156500</td>\n",
              "      <td>0.055040</td>\n",
              "    </tr>\n",
              "    <tr>\n",
              "      <th>25%</th>\n",
              "      <td>11.720000</td>\n",
              "      <td>16.070000</td>\n",
              "      <td>75.330000</td>\n",
              "      <td>421.475000</td>\n",
              "      <td>0.086688</td>\n",
              "      <td>0.065525</td>\n",
              "      <td>0.029240</td>\n",
              "      <td>0.020448</td>\n",
              "      <td>0.161525</td>\n",
              "      <td>0.057725</td>\n",
              "      <td>0.225750</td>\n",
              "      <td>0.828050</td>\n",
              "      <td>1.593000</td>\n",
              "      <td>17.682500</td>\n",
              "      <td>0.005105</td>\n",
              "      <td>0.012715</td>\n",
              "      <td>0.014693</td>\n",
              "      <td>0.007499</td>\n",
              "      <td>0.015205</td>\n",
              "      <td>0.002267</td>\n",
              "      <td>13.050000</td>\n",
              "      <td>20.800000</td>\n",
              "      <td>84.235000</td>\n",
              "      <td>516.02500</td>\n",
              "      <td>0.116300</td>\n",
              "      <td>0.144050</td>\n",
              "      <td>0.107200</td>\n",
              "      <td>0.062735</td>\n",
              "      <td>0.251000</td>\n",
              "      <td>0.071857</td>\n",
              "    </tr>\n",
              "    <tr>\n",
              "      <th>50%</th>\n",
              "      <td>13.435000</td>\n",
              "      <td>18.750000</td>\n",
              "      <td>86.625000</td>\n",
              "      <td>555.350000</td>\n",
              "      <td>0.095720</td>\n",
              "      <td>0.089860</td>\n",
              "      <td>0.059285</td>\n",
              "      <td>0.033600</td>\n",
              "      <td>0.179000</td>\n",
              "      <td>0.061545</td>\n",
              "      <td>0.321700</td>\n",
              "      <td>1.074000</td>\n",
              "      <td>2.278500</td>\n",
              "      <td>24.300000</td>\n",
              "      <td>0.006293</td>\n",
              "      <td>0.020095</td>\n",
              "      <td>0.025735</td>\n",
              "      <td>0.010790</td>\n",
              "      <td>0.018725</td>\n",
              "      <td>0.003207</td>\n",
              "      <td>14.965000</td>\n",
              "      <td>25.445000</td>\n",
              "      <td>97.745000</td>\n",
              "      <td>685.55000</td>\n",
              "      <td>0.131000</td>\n",
              "      <td>0.209650</td>\n",
              "      <td>0.221800</td>\n",
              "      <td>0.097330</td>\n",
              "      <td>0.283550</td>\n",
              "      <td>0.079590</td>\n",
              "    </tr>\n",
              "    <tr>\n",
              "      <th>75%</th>\n",
              "      <td>15.690000</td>\n",
              "      <td>21.590000</td>\n",
              "      <td>102.875000</td>\n",
              "      <td>760.625000</td>\n",
              "      <td>0.105400</td>\n",
              "      <td>0.129550</td>\n",
              "      <td>0.125825</td>\n",
              "      <td>0.068700</td>\n",
              "      <td>0.195850</td>\n",
              "      <td>0.066120</td>\n",
              "      <td>0.472250</td>\n",
              "      <td>1.466750</td>\n",
              "      <td>3.277750</td>\n",
              "      <td>44.867500</td>\n",
              "      <td>0.008021</td>\n",
              "      <td>0.032067</td>\n",
              "      <td>0.041403</td>\n",
              "      <td>0.014417</td>\n",
              "      <td>0.023520</td>\n",
              "      <td>0.004560</td>\n",
              "      <td>18.305000</td>\n",
              "      <td>29.237500</td>\n",
              "      <td>123.475000</td>\n",
              "      <td>1031.50000</td>\n",
              "      <td>0.146250</td>\n",
              "      <td>0.332550</td>\n",
              "      <td>0.379550</td>\n",
              "      <td>0.161300</td>\n",
              "      <td>0.320500</td>\n",
              "      <td>0.092083</td>\n",
              "    </tr>\n",
              "    <tr>\n",
              "      <th>max</th>\n",
              "      <td>27.420000</td>\n",
              "      <td>39.280000</td>\n",
              "      <td>186.900000</td>\n",
              "      <td>2501.000000</td>\n",
              "      <td>0.144700</td>\n",
              "      <td>0.345400</td>\n",
              "      <td>0.426800</td>\n",
              "      <td>0.201200</td>\n",
              "      <td>0.304000</td>\n",
              "      <td>0.097440</td>\n",
              "      <td>2.547000</td>\n",
              "      <td>4.885000</td>\n",
              "      <td>18.650000</td>\n",
              "      <td>542.200000</td>\n",
              "      <td>0.031130</td>\n",
              "      <td>0.135400</td>\n",
              "      <td>0.396000</td>\n",
              "      <td>0.052790</td>\n",
              "      <td>0.078950</td>\n",
              "      <td>0.029840</td>\n",
              "      <td>36.040000</td>\n",
              "      <td>49.540000</td>\n",
              "      <td>251.200000</td>\n",
              "      <td>4254.00000</td>\n",
              "      <td>0.218400</td>\n",
              "      <td>1.058000</td>\n",
              "      <td>1.252000</td>\n",
              "      <td>0.291000</td>\n",
              "      <td>0.663800</td>\n",
              "      <td>0.207500</td>\n",
              "    </tr>\n",
              "  </tbody>\n",
              "</table>\n",
              "</div>"
            ],
            "text/plain": [
              "       mean radius  mean texture  ...  worst symmetry  worst fractal dimension\n",
              "count   426.000000    426.000000  ...      426.000000               426.000000\n",
              "mean     14.075991     19.104202  ...        0.291592                 0.083883\n",
              "std       3.404635      4.266936  ...        0.063631                 0.018042\n",
              "min       6.981000      9.710000  ...        0.156500                 0.055040\n",
              "25%      11.720000     16.070000  ...        0.251000                 0.071857\n",
              "50%      13.435000     18.750000  ...        0.283550                 0.079590\n",
              "75%      15.690000     21.590000  ...        0.320500                 0.092083\n",
              "max      27.420000     39.280000  ...        0.663800                 0.207500\n",
              "\n",
              "[8 rows x 30 columns]"
            ]
          },
          "metadata": {
            "tags": []
          },
          "execution_count": 108
        }
      ]
    },
    {
      "cell_type": "code",
      "metadata": {
        "id": "KI_nuPLPBhvA",
        "colab_type": "code",
        "outputId": "7bfaab88-dd79-4ae0-aa3b-f0a33ce96137",
        "colab": {
          "base_uri": "https://localhost:8080/",
          "height": 34
        }
      },
      "source": [
        "print(x.shape,x_train.shape,x_test.shape)"
      ],
      "execution_count": 109,
      "outputs": [
        {
          "output_type": "stream",
          "text": [
            "(569, 30) (426, 30) (143, 30)\n"
          ],
          "name": "stdout"
        }
      ]
    },
    {
      "cell_type": "code",
      "metadata": {
        "id": "nhmAK6mSB7Po",
        "colab_type": "code",
        "colab": {}
      },
      "source": [
        "x_train,x_test,y_train,y_test = train_test_split(x,y,test_size=0.1)"
      ],
      "execution_count": 0,
      "outputs": []
    },
    {
      "cell_type": "code",
      "metadata": {
        "id": "FK87TIiBCEAx",
        "colab_type": "code",
        "outputId": "2a00ab99-703e-4e73-e600-aa4edf757d0a",
        "colab": {
          "base_uri": "https://localhost:8080/",
          "height": 34
        }
      },
      "source": [
        "print(x.shape,x_train.shape,x_test.shape)"
      ],
      "execution_count": 111,
      "outputs": [
        {
          "output_type": "stream",
          "text": [
            "(569, 30) (512, 30) (57, 30)\n"
          ],
          "name": "stdout"
        }
      ]
    },
    {
      "cell_type": "code",
      "metadata": {
        "id": "kQpO0fkVCFgq",
        "colab_type": "code",
        "outputId": "49cece9a-498d-4d25-898d-1a04c8007ee3",
        "colab": {
          "base_uri": "https://localhost:8080/",
          "height": 34
        }
      },
      "source": [
        "print(y.mean(),y_train.mean(),y_test.mean())"
      ],
      "execution_count": 112,
      "outputs": [
        {
          "output_type": "stream",
          "text": [
            "0.6274165202108963 0.615234375 0.7368421052631579\n"
          ],
          "name": "stdout"
        }
      ]
    },
    {
      "cell_type": "markdown",
      "metadata": {
        "id": "MymAIFfDCj6L",
        "colab_type": "text"
      },
      "source": [
        "Maintaining class ratios in train and test split as in the main dataset as much as possible."
      ]
    },
    {
      "cell_type": "code",
      "metadata": {
        "id": "YswJLI8GCYQN",
        "colab_type": "code",
        "colab": {}
      },
      "source": [
        "x_train,x_test,y_train,y_test = train_test_split(x,y,test_size=0.1,stratify=y)"
      ],
      "execution_count": 0,
      "outputs": []
    },
    {
      "cell_type": "code",
      "metadata": {
        "id": "H9ZcDaFuCggI",
        "colab_type": "code",
        "outputId": "bb331e08-40fb-4d69-9523-4f74111754a5",
        "colab": {
          "base_uri": "https://localhost:8080/",
          "height": 34
        }
      },
      "source": [
        "print(y.mean(),y_train.mean(),y_test.mean())"
      ],
      "execution_count": 114,
      "outputs": [
        {
          "output_type": "stream",
          "text": [
            "0.6274165202108963 0.626953125 0.631578947368421\n"
          ],
          "name": "stdout"
        }
      ]
    },
    {
      "cell_type": "markdown",
      "metadata": {
        "id": "htzWQsK4DQHk",
        "colab_type": "text"
      },
      "source": [
        "To have same split always (so that results are reproducible in future runs of the algorithm), we need to send random state argument, which is also referred to as seed of the splitter. The state doesn't matter. "
      ]
    },
    {
      "cell_type": "code",
      "metadata": {
        "id": "FvhA56OQCh6t",
        "colab_type": "code",
        "colab": {}
      },
      "source": [
        "x_train,x_test,y_train,y_test = train_test_split(x,y,test_size=0.3,stratify=y,random_state=1)"
      ],
      "execution_count": 0,
      "outputs": []
    },
    {
      "cell_type": "markdown",
      "metadata": {
        "id": "oVm9kyRPHXp8",
        "colab_type": "text"
      },
      "source": [
        "# Binarisation of input"
      ]
    },
    {
      "cell_type": "code",
      "metadata": {
        "id": "FMa1dEanHb_-",
        "colab_type": "code",
        "colab": {}
      },
      "source": [
        "import matplotlib.pyplot as plt\n",
        "import seaborn as sns\n",
        "sns.set()"
      ],
      "execution_count": 0,
      "outputs": []
    },
    {
      "cell_type": "markdown",
      "metadata": {
        "id": "y8_uZI69FIsP",
        "colab_type": "text"
      },
      "source": [
        "Each feature represented by a different color, with the samples over the x-axis."
      ]
    },
    {
      "cell_type": "code",
      "metadata": {
        "id": "roOXdidiEGsL",
        "colab_type": "code",
        "colab": {
          "base_uri": "https://localhost:8080/",
          "height": 274
        },
        "outputId": "b1981dad-a9ce-4928-d5aa-a8bb671185af"
      },
      "source": [
        "plt.plot(x_train,'*')\n",
        "plt.show()"
      ],
      "execution_count": 117,
      "outputs": [
        {
          "output_type": "display_data",
          "data": {
            "image/png": "[encoded data removed]",
            "text/plain": [
              "<Figure size 432x288 with 1 Axes>"
            ]
          },
          "metadata": {
            "tags": []
          }
        }
      ]
    },
    {
      "cell_type": "markdown",
      "metadata": {
        "id": "E3UocWe0Fj0O",
        "colab_type": "text"
      },
      "source": [
        "Plotting the transpose of training set. Will showcase the different values for each feature i.e. the spread for each feature of the training set."
      ]
    },
    {
      "cell_type": "code",
      "metadata": {
        "id": "nmwrUZGFENkX",
        "colab_type": "code",
        "colab": {
          "base_uri": "https://localhost:8080/",
          "height": 395
        },
        "outputId": "87edb7d7-48bb-4f2b-cb42-94b828f6e54c"
      },
      "source": [
        "plt.plot(x_train.T, 'x')\n",
        "plt.xticks(rotation='vertical')\n",
        "plt.show()"
      ],
      "execution_count": 118,
      "outputs": [
        {
          "output_type": "display_data",
          "data": {
            "image/png": "[encoded data removed]",
            "text/plain": [
              "<Figure size 432x288 with 1 Axes>"
            ]
          },
          "metadata": {
            "tags": []
          }
        }
      ]
    },
    {
      "cell_type": "markdown",
      "metadata": {
        "id": "4k3GJAPXGn5e",
        "colab_type": "text"
      },
      "source": [
        "To binarise we can select a threshold value, above which the feature can take the value of 1, and below which it can take 0. The value can be the mean or median. "
      ]
    },
    {
      "cell_type": "code",
      "metadata": {
        "id": "oP2jItsDFiLO",
        "colab_type": "code",
        "colab": {}
      },
      "source": [
        "sample_col = x_train['mean area'].map(lambda x: 1 if x<1000 else 0)"
      ],
      "execution_count": 0,
      "outputs": []
    },
    {
      "cell_type": "code",
      "metadata": {
        "id": "dhRL63mcKYGS",
        "colab_type": "code",
        "colab": {
          "base_uri": "https://localhost:8080/",
          "height": 274
        },
        "outputId": "5405e99a-fea5-4789-e5a5-fb745ce67e44"
      },
      "source": [
        "plt.plot(sample_col,'*')\n",
        "plt.show()"
      ],
      "execution_count": 120,
      "outputs": [
        {
          "output_type": "display_data",
          "data": {
            "image/png": "[encoded data removed]",
            "text/plain": [
              "<Figure size 432x288 with 1 Axes>"
            ]
          },
          "metadata": {
            "tags": []
          }
        }
      ]
    },
    {
      "cell_type": "markdown",
      "metadata": {
        "id": "br56H0DWKkJa",
        "colab_type": "text"
      },
      "source": [
        "Not required to do it manually for each column of the dataframe, can be done using the cut function of the pandas module, which splits the column values into given number of bins with given set of labels."
      ]
    },
    {
      "cell_type": "code",
      "metadata": {
        "id": "z2LLHAZXKhBH",
        "colab_type": "code",
        "colab": {}
      },
      "source": [
        "x_btrain = x_train.apply(pd.cut,bins=2,labels=[1,0])"
      ],
      "execution_count": 0,
      "outputs": []
    },
    {
      "cell_type": "code",
      "metadata": {
        "id": "hTY5cEM2XTV9",
        "colab_type": "code",
        "colab": {}
      },
      "source": [
        "x_btest = x_test.apply(pd.cut,bins=2,labels=[1,0])"
      ],
      "execution_count": 0,
      "outputs": []
    },
    {
      "cell_type": "code",
      "metadata": {
        "id": "0WkzAlFFK1DZ",
        "colab_type": "code",
        "colab": {
          "base_uri": "https://localhost:8080/",
          "height": 395
        },
        "outputId": "f06fb25e-51d7-496d-b401-2b0ac533bdb6"
      },
      "source": [
        "plt.plot(x_btrain.T,'*')\n",
        "plt.xticks(rotation='vertical')\n",
        "plt.savefig('Binarised Input.png')\n",
        "plt.show()\n"
      ],
      "execution_count": 123,
      "outputs": [
        {
          "output_type": "display_data",
          "data": {
            "image/png": "[encoded data removed]",
            "text/plain": [
              "<Figure size 432x288 with 1 Axes>"
            ]
          },
          "metadata": {
            "tags": []
          }
        }
      ]
    },
    {
      "cell_type": "code",
      "metadata": {
        "id": "wLWtxF4_WRQR",
        "colab_type": "code",
        "colab": {}
      },
      "source": [
        "x_btrain = x_btrain.values"
      ],
      "execution_count": 0,
      "outputs": []
    },
    {
      "cell_type": "code",
      "metadata": {
        "id": "Pd2B8fzbYIG2",
        "colab_type": "code",
        "colab": {}
      },
      "source": [
        "x_btest = x_btest.values"
      ],
      "execution_count": 0,
      "outputs": []
    },
    {
      "cell_type": "markdown",
      "metadata": {
        "id": "O2RGK9i5VpA-",
        "colab_type": "text"
      },
      "source": [
        "# MPNeuron"
      ]
    },
    {
      "cell_type": "code",
      "metadata": {
        "id": "kCsj4Xc8Vm6F",
        "colab_type": "code",
        "colab": {}
      },
      "source": [
        "from random import randint"
      ],
      "execution_count": 0,
      "outputs": []
    },
    {
      "cell_type": "code",
      "metadata": {
        "id": "VQPI_oB8V6zf",
        "colab_type": "code",
        "colab": {
          "base_uri": "https://localhost:8080/",
          "height": 274
        },
        "outputId": "77dbd777-1715-4bb3-eb4a-bf898ec7022e"
      },
      "source": [
        "y_preds = []\n",
        "optimal_b = 0\n",
        "max_accuracy = 0\n",
        "\n",
        "train_accuracies = []\n",
        "for b in range(x_btrain.shape[1]):\n",
        "  correct = 0\n",
        "  for x,y in zip(x_btrain,y_train):\n",
        "    y_pred = (np.sum(x)>=b)\n",
        "    y_preds.append(y_pred)\n",
        "    if y_pred==y:\n",
        "      correct+=1\n",
        "  accuracy = correct/x_btrain.shape[0]\n",
        "  train_accuracies.append(accuracy)\n",
        "  if accuracy>max_accuracy:\n",
        "    max_accuracy = accuracy\n",
        "    optimal_b = b\n",
        "  # print(b,accuracy)\n",
        "\n",
        "test_accuracies = []\n",
        "for b in range(x_btest.shape[1]):\n",
        "  correct = 0\n",
        "  for x,y in zip(x_btest,y_test):\n",
        "    y_pred = (np.sum(x)>=b)\n",
        "    y_preds.append(y_pred)\n",
        "    if y_pred==y:\n",
        "      correct+=1\n",
        "  accuracy = correct/x_btest.shape[0]\n",
        "  test_accuracies.append(accuracy)\n",
        "  if accuracy>max_accuracy:\n",
        "    max_accuracy = accuracy\n",
        "    optimal_b = b\n",
        "  # print(b,accuracy)\n",
        "\n",
        "\n",
        "# fig, axs = plt.subplots(2)\n",
        "# fig.suptitle('Training and Testing Accuracies compared')\n",
        "# axs[0].plot(list(range(b+1)),train_accuracies)\n",
        "# axs[1].plot(list(range(b+1)),test_accuracies)\n",
        "\n",
        "plt.plot(train_accuracies)\n",
        "plt.plot(test_accuracies)\n",
        "plt.ylim([0,1])\n",
        "plt.show()"
      ],
      "execution_count": 161,
      "outputs": [
        {
          "output_type": "display_data",
          "data": {
            "image/png": "[encoded data removed]",
            "text/plain": [
              "<Figure size 432x288 with 1 Axes>"
            ]
          },
          "metadata": {
            "tags": []
          }
        }
      ]
    },
    {
      "cell_type": "code",
      "metadata": {
        "id": "kxOjFejfWlKR",
        "colab_type": "code",
        "colab": {
          "base_uri": "https://localhost:8080/",
          "height": 34
        },
        "outputId": "ef4b0ca3-833f-4e26-8177-d4094c1e6bf1"
      },
      "source": [
        "print(optimal_b, max_accuracy)"
      ],
      "execution_count": 128,
      "outputs": [
        {
          "output_type": "stream",
          "text": [
            "27 0.8517587939698492\n"
          ],
          "name": "stdout"
        }
      ]
    },
    {
      "cell_type": "code",
      "metadata": {
        "id": "7XX-F4-fXI0N",
        "colab_type": "code",
        "colab": {
          "base_uri": "https://localhost:8080/",
          "height": 34
        },
        "outputId": "0439f4f1-58d2-4965-e938-91f2ed0c0755"
      },
      "source": [
        "correct = 0\n",
        "y_pred_test = []\n",
        "for x,y in zip(x_btest,y_test):\n",
        "  y_pred = (np.sum(x)>=optimal_b)\n",
        "  y_pred_test.append(y_pred)\n",
        "  if y_pred==y:\n",
        "    correct+=1\n",
        "  \n",
        "print(\"test accuracy = \", correct/x_btest.shape[0])"
      ],
      "execution_count": 129,
      "outputs": [
        {
          "output_type": "stream",
          "text": [
            "test accuracy =  0.8947368421052632\n"
          ],
          "name": "stdout"
        }
      ]
    },
    {
      "cell_type": "code",
      "metadata": {
        "id": "K0T2Y9EqX0t5",
        "colab_type": "code",
        "colab": {}
      },
      "source": [
        "from sklearn.metrics import accuracy_score"
      ],
      "execution_count": 0,
      "outputs": []
    },
    {
      "cell_type": "code",
      "metadata": {
        "id": "VkHYNiuMgFG6",
        "colab_type": "code",
        "colab": {}
      },
      "source": [
        "accuracy = accuracy_score(y_pred_test,y_test)"
      ],
      "execution_count": 0,
      "outputs": []
    },
    {
      "cell_type": "code",
      "metadata": {
        "id": "Wn31vhV0gJ4m",
        "colab_type": "code",
        "colab": {
          "base_uri": "https://localhost:8080/",
          "height": 34
        },
        "outputId": "afb40e3b-4226-46fe-df3f-452b23def299"
      },
      "source": [
        "accuracy"
      ],
      "execution_count": 132,
      "outputs": [
        {
          "output_type": "execute_result",
          "data": {
            "text/plain": [
              "0.8947368421052632"
            ]
          },
          "metadata": {
            "tags": []
          },
          "execution_count": 132
        }
      ]
    },
    {
      "cell_type": "markdown",
      "metadata": {
        "id": "Jm-Yfg88gjep",
        "colab_type": "text"
      },
      "source": [
        "#MP Neuron Class"
      ]
    },
    {
      "cell_type": "code",
      "metadata": {
        "id": "dzwCdw0SglOr",
        "colab_type": "code",
        "colab": {}
      },
      "source": [
        "class MPNeuron:\n",
        "\n",
        "  def __init__(self):\n",
        "    self.b = None\n",
        "\n",
        "  def model(self,x):\n",
        "    return np.sum(x)>=self.b\n",
        "  \n",
        "  def predict(self,X):\n",
        "    y_pred = []\n",
        "    for x in X:\n",
        "      result = self.model(x)\n",
        "      y_pred.append(result)\n",
        "    return np.array(y_pred)\n",
        "\n",
        "  def fit(self,X,Y):\n",
        "    accuracy = {}\n",
        "\n",
        "    for b in range(X.shape[1]):\n",
        "      self.b = b\n",
        "      accuracy[b] = accuracy_score(self.predict(X),Y)\n",
        "    best_b = max(accuracy, key = accuracy.get)\n",
        "    self.b = best_b\n",
        "\n",
        "    print(\"Optimal b\", best_b)\n",
        "    print(\"Max accuracy\", accuracy[best_b])"
      ],
      "execution_count": 0,
      "outputs": []
    },
    {
      "cell_type": "code",
      "metadata": {
        "id": "Ud7PjUQvj4UF",
        "colab_type": "code",
        "colab": {}
      },
      "source": [
        "mp_neuron = MPNeuron()"
      ],
      "execution_count": 0,
      "outputs": []
    },
    {
      "cell_type": "code",
      "metadata": {
        "id": "Zz4ifHQ-j6H4",
        "colab_type": "code",
        "colab": {
          "base_uri": "https://localhost:8080/",
          "height": 51
        },
        "outputId": "16f6f196-2321-413f-c0f6-1543d7d00c44"
      },
      "source": [
        "mp_neuron.fit(x_btrain,y_train)"
      ],
      "execution_count": 135,
      "outputs": [
        {
          "output_type": "stream",
          "text": [
            "Optimal b 27\n",
            "Max accuracy 0.8517587939698492\n"
          ],
          "name": "stdout"
        }
      ]
    },
    {
      "cell_type": "code",
      "metadata": {
        "id": "-CEW4fhij-OA",
        "colab_type": "code",
        "colab": {
          "base_uri": "https://localhost:8080/",
          "height": 51
        },
        "outputId": "49e43bab-4d5f-4031-f94e-4a0e36caa130"
      },
      "source": [
        "print(accuracy_score(mp_neuron.predict(x_btest),y_test))\n",
        "print(mp_neuron.b)"
      ],
      "execution_count": 136,
      "outputs": [
        {
          "output_type": "stream",
          "text": [
            "0.8947368421052632\n",
            "27\n"
          ],
          "name": "stdout"
        }
      ]
    },
    {
      "cell_type": "markdown",
      "metadata": {
        "id": "Hm7qg36NpN6V",
        "colab_type": "text"
      },
      "source": [
        "# Perceptron Class"
      ]
    },
    {
      "cell_type": "markdown",
      "metadata": {
        "id": "6i9bwyTS2Wcw",
        "colab_type": "text"
      },
      "source": [
        "The class contains two hyperparameters, i.e. epochs, and learning rate. The class also contains the use of the concept of checkpoint s to extract the best possible weights correspoding to the highest training accuracy rather than relying on the last epoch for sub-optimal parameters for the model.\n",
        "\n",
        "Observation : initialisation with 0 gave unstable learning with learning rate,  whereas 1 led to stable learning with learning rate."
      ]
    },
    {
      "cell_type": "code",
      "metadata": {
        "id": "eV3Rz_m7kKdu",
        "colab_type": "code",
        "colab": {}
      },
      "source": [
        "class Perceptron:\n",
        "\n",
        "  def __init__(self):\n",
        "    self.b = None\n",
        "    self.w = None\n",
        "\n",
        "  def model(self,x):\n",
        "    return np.dot(self.w,x)>=self.b\n",
        "  \n",
        "  def predict(self,X):\n",
        "    y_pred = []\n",
        "\n",
        "    for x in X:\n",
        "      result = self.model(x)\n",
        "      y_pred.append(result)\n",
        "\n",
        "    return np.array(y_pred)\n",
        "\n",
        "  def fit(self,X,Y,epochs,lr):\n",
        "\n",
        "    accuracy = []\n",
        "    self.b = 0\n",
        "    self.w = np.ones(X.shape[1])\n",
        "    max_accuracy = 0\n",
        "\n",
        "    wt_matrix = []\n",
        "    for i in range(epochs):\n",
        "      for x,y in zip(X,Y):\n",
        "        y_pred = self.model(x)\n",
        "        if y==1 and y_pred==0:\n",
        "          self.w= self.w + lr*x\n",
        "          self.b= self.b + (lr)*1\n",
        "        elif y==0 and y_pred==1:\n",
        "          self.w= self.w - lr*x\n",
        "          self.b= self.b - (lr)*1     \n",
        "      plt.plot(self.w)\n",
        "      latest_accuracy = accuracy_score(self.predict(X),Y)\n",
        "      accuracy.append(latest_accuracy)\n",
        "      wt_matrix.append(self.w)\n",
        "      if latest_accuracy > max_accuracy:\n",
        "        max_accuracy = latest_accuracy\n",
        "        checkptw = self.w\n",
        "        checkptb = self.b\n",
        "\n",
        "      print(\"Completed epoch\", i+1, \", Training Accuracy:\",accuracy_score(self.predict(X),Y))\n",
        "      print()\n",
        "    plt.savefig(\"Weight Transition.png\")\n",
        "    plt.show()\n",
        "\n",
        "    plt.plot(accuracy)\n",
        "    plt.ylim([0,1])\n",
        "    plt.savefig(\"Accuracy Transition\")\n",
        "    plt.show()\n",
        "\n",
        "    self.w = checkptw\n",
        "    self.b = checkptb\n",
        "\n",
        "    return np.array(wt_matrix)"
      ],
      "execution_count": 0,
      "outputs": []
    },
    {
      "cell_type": "code",
      "metadata": {
        "id": "vSihEZINqmJW",
        "colab_type": "code",
        "colab": {}
      },
      "source": [
        "perceptron = Perceptron()"
      ],
      "execution_count": 0,
      "outputs": []
    },
    {
      "cell_type": "code",
      "metadata": {
        "id": "Fhbn1MRaqpIp",
        "colab_type": "code",
        "colab": {}
      },
      "source": [
        "x_train = x_train.values\n",
        "x_test = x_test.values"
      ],
      "execution_count": 0,
      "outputs": []
    },
    {
      "cell_type": "code",
      "metadata": {
        "id": "Vn8QMZCFqs1v",
        "colab_type": "code",
        "colab": {
          "base_uri": "https://localhost:8080/",
          "height": 1000
        },
        "outputId": "e0fe487a-4c1c-4b85-8c9b-8dc43a2cffcd"
      },
      "source": [
        "wt_matrix = perceptron.fit(x_train,y_train,100,1)"
      ],
      "execution_count": 140,
      "outputs": [
        {
          "output_type": "stream",
          "text": [
            "Completed epoch 1 , Training Accuracy: 0.7839195979899497\n",
            "\n",
            "Completed epoch 2 , Training Accuracy: 0.7713567839195979\n",
            "\n",
            "Completed epoch 3 , Training Accuracy: 0.37185929648241206\n",
            "\n",
            "Completed epoch 4 , Training Accuracy: 0.8743718592964824\n",
            "\n",
            "Completed epoch 5 , Training Accuracy: 0.907035175879397\n",
            "\n",
            "Completed epoch 6 , Training Accuracy: 0.8844221105527639\n",
            "\n",
            "Completed epoch 7 , Training Accuracy: 0.8693467336683417\n",
            "\n",
            "Completed epoch 8 , Training Accuracy: 0.8819095477386935\n",
            "\n",
            "Completed epoch 9 , Training Accuracy: 0.9045226130653267\n",
            "\n",
            "Completed epoch 10 , Training Accuracy: 0.9095477386934674\n",
            "\n",
            "Completed epoch 11 , Training Accuracy: 0.8919597989949749\n",
            "\n",
            "Completed epoch 12 , Training Accuracy: 0.8869346733668342\n",
            "\n",
            "Completed epoch 13 , Training Accuracy: 0.9045226130653267\n",
            "\n",
            "Completed epoch 14 , Training Accuracy: 0.8969849246231156\n",
            "\n",
            "Completed epoch 15 , Training Accuracy: 0.9020100502512562\n",
            "\n",
            "Completed epoch 16 , Training Accuracy: 0.8567839195979899\n",
            "\n",
            "Completed epoch 17 , Training Accuracy: 0.8567839195979899\n",
            "\n",
            "Completed epoch 18 , Training Accuracy: 0.864321608040201\n",
            "\n",
            "Completed epoch 19 , Training Accuracy: 0.8768844221105527\n",
            "\n",
            "Completed epoch 20 , Training Accuracy: 0.8618090452261307\n",
            "\n",
            "Completed epoch 21 , Training Accuracy: 0.864321608040201\n",
            "\n",
            "Completed epoch 22 , Training Accuracy: 0.9045226130653267\n",
            "\n",
            "Completed epoch 23 , Training Accuracy: 0.864321608040201\n",
            "\n",
            "Completed epoch 24 , Training Accuracy: 0.9020100502512562\n",
            "\n",
            "Completed epoch 25 , Training Accuracy: 0.8442211055276382\n",
            "\n",
            "Completed epoch 26 , Training Accuracy: 0.8467336683417085\n",
            "\n",
            "Completed epoch 27 , Training Accuracy: 0.864321608040201\n",
            "\n",
            "Completed epoch 28 , Training Accuracy: 0.8743718592964824\n",
            "\n",
            "Completed epoch 29 , Training Accuracy: 0.8693467336683417\n",
            "\n",
            "Completed epoch 30 , Training Accuracy: 0.8567839195979899\n",
            "\n",
            "Completed epoch 31 , Training Accuracy: 0.8768844221105527\n",
            "\n",
            "Completed epoch 32 , Training Accuracy: 0.8743718592964824\n",
            "\n",
            "Completed epoch 33 , Training Accuracy: 0.8618090452261307\n",
            "\n",
            "Completed epoch 34 , Training Accuracy: 0.871859296482412\n",
            "\n",
            "Completed epoch 35 , Training Accuracy: 0.8592964824120602\n",
            "\n",
            "Completed epoch 36 , Training Accuracy: 0.8668341708542714\n",
            "\n",
            "Completed epoch 37 , Training Accuracy: 0.871859296482412\n",
            "\n",
            "Completed epoch 38 , Training Accuracy: 0.8668341708542714\n",
            "\n",
            "Completed epoch 39 , Training Accuracy: 0.8768844221105527\n",
            "\n",
            "Completed epoch 40 , Training Accuracy: 0.8693467336683417\n",
            "\n",
            "Completed epoch 41 , Training Accuracy: 0.8618090452261307\n",
            "\n",
            "Completed epoch 42 , Training Accuracy: 0.8668341708542714\n",
            "\n",
            "Completed epoch 43 , Training Accuracy: 0.8592964824120602\n",
            "\n",
            "Completed epoch 44 , Training Accuracy: 0.8668341708542714\n",
            "\n",
            "Completed epoch 45 , Training Accuracy: 0.9095477386934674\n",
            "\n",
            "Completed epoch 46 , Training Accuracy: 0.8668341708542714\n",
            "\n",
            "Completed epoch 47 , Training Accuracy: 0.8768844221105527\n",
            "\n",
            "Completed epoch 48 , Training Accuracy: 0.8668341708542714\n",
            "\n",
            "Completed epoch 49 , Training Accuracy: 0.9095477386934674\n",
            "\n",
            "Completed epoch 50 , Training Accuracy: 0.8391959798994975\n",
            "\n",
            "Completed epoch 51 , Training Accuracy: 0.9095477386934674\n",
            "\n",
            "Completed epoch 52 , Training Accuracy: 0.907035175879397\n",
            "\n",
            "Completed epoch 53 , Training Accuracy: 0.9195979899497487\n",
            "\n",
            "Completed epoch 54 , Training Accuracy: 0.8417085427135679\n",
            "\n",
            "Completed epoch 55 , Training Accuracy: 0.9095477386934674\n",
            "\n",
            "Completed epoch 56 , Training Accuracy: 0.8467336683417085\n",
            "\n",
            "Completed epoch 57 , Training Accuracy: 0.9095477386934674\n",
            "\n",
            "Completed epoch 58 , Training Accuracy: 0.8467336683417085\n",
            "\n",
            "Completed epoch 59 , Training Accuracy: 0.9195979899497487\n",
            "\n",
            "Completed epoch 60 , Training Accuracy: 0.9095477386934674\n",
            "\n",
            "Completed epoch 61 , Training Accuracy: 0.9170854271356784\n",
            "\n",
            "Completed epoch 62 , Training Accuracy: 0.8442211055276382\n",
            "\n",
            "Completed epoch 63 , Training Accuracy: 0.9120603015075377\n",
            "\n",
            "Completed epoch 64 , Training Accuracy: 0.8517587939698492\n",
            "\n",
            "Completed epoch 65 , Training Accuracy: 0.914572864321608\n",
            "\n",
            "Completed epoch 66 , Training Accuracy: 0.9120603015075377\n",
            "\n",
            "Completed epoch 67 , Training Accuracy: 0.9120603015075377\n",
            "\n",
            "Completed epoch 68 , Training Accuracy: 0.9195979899497487\n",
            "\n",
            "Completed epoch 69 , Training Accuracy: 0.8517587939698492\n",
            "\n",
            "Completed epoch 70 , Training Accuracy: 0.914572864321608\n",
            "\n",
            "Completed epoch 71 , Training Accuracy: 0.914572864321608\n",
            "\n",
            "Completed epoch 72 , Training Accuracy: 0.9120603015075377\n",
            "\n",
            "Completed epoch 73 , Training Accuracy: 0.9170854271356784\n",
            "\n",
            "Completed epoch 74 , Training Accuracy: 0.914572864321608\n",
            "\n",
            "Completed epoch 75 , Training Accuracy: 0.914572864321608\n",
            "\n",
            "Completed epoch 76 , Training Accuracy: 0.9195979899497487\n",
            "\n",
            "Completed epoch 77 , Training Accuracy: 0.9170854271356784\n",
            "\n",
            "Completed epoch 78 , Training Accuracy: 0.914572864321608\n",
            "\n",
            "Completed epoch 79 , Training Accuracy: 0.9195979899497487\n",
            "\n",
            "Completed epoch 80 , Training Accuracy: 0.914572864321608\n",
            "\n",
            "Completed epoch 81 , Training Accuracy: 0.9195979899497487\n",
            "\n",
            "Completed epoch 82 , Training Accuracy: 0.914572864321608\n",
            "\n",
            "Completed epoch 83 , Training Accuracy: 0.914572864321608\n",
            "\n",
            "Completed epoch 84 , Training Accuracy: 0.9195979899497487\n",
            "\n",
            "Completed epoch 85 , Training Accuracy: 0.9195979899497487\n",
            "\n",
            "Completed epoch 86 , Training Accuracy: 0.914572864321608\n",
            "\n",
            "Completed epoch 87 , Training Accuracy: 0.9221105527638191\n",
            "\n",
            "Completed epoch 88 , Training Accuracy: 0.9195979899497487\n",
            "\n",
            "Completed epoch 89 , Training Accuracy: 0.9195979899497487\n",
            "\n",
            "Completed epoch 90 , Training Accuracy: 0.914572864321608\n",
            "\n",
            "Completed epoch 91 , Training Accuracy: 0.9045226130653267\n",
            "\n",
            "Completed epoch 92 , Training Accuracy: 0.9195979899497487\n",
            "\n",
            "Completed epoch 93 , Training Accuracy: 0.9020100502512562\n",
            "\n",
            "Completed epoch 94 , Training Accuracy: 0.9170854271356784\n",
            "\n",
            "Completed epoch 95 , Training Accuracy: 0.914572864321608\n",
            "\n",
            "Completed epoch 96 , Training Accuracy: 0.914572864321608\n",
            "\n",
            "Completed epoch 97 , Training Accuracy: 0.9020100502512562\n",
            "\n",
            "Completed epoch 98 , Training Accuracy: 0.9170854271356784\n",
            "\n",
            "Completed epoch 99 , Training Accuracy: 0.9195979899497487\n",
            "\n",
            "Completed epoch 100 , Training Accuracy: 0.9045226130653267\n",
            "\n"
          ],
          "name": "stdout"
        },
        {
          "output_type": "display_data",
          "data": {
            "image/png": "[encoded data removed]",
            "text/plain": [
              "<Figure size 432x288 with 1 Axes>"
            ]
          },
          "metadata": {
            "tags": []
          }
        },
        {
          "output_type": "display_data",
          "data": {
            "image/png": "[encoded data removed]",
            "text/plain": [
              "<Figure size 432x288 with 1 Axes>"
            ]
          },
          "metadata": {
            "tags": []
          }
        }
      ]
    },
    {
      "cell_type": "code",
      "metadata": {
        "id": "4STpoUxzr9_E",
        "colab_type": "code",
        "colab": {
          "base_uri": "https://localhost:8080/",
          "height": 34
        },
        "outputId": "965cd3e7-c191-4121-bfea-5ef6463cdff0"
      },
      "source": [
        "accuracy_score(perceptron.predict(x_train),y_train)"
      ],
      "execution_count": 141,
      "outputs": [
        {
          "output_type": "execute_result",
          "data": {
            "text/plain": [
              "0.9221105527638191"
            ]
          },
          "metadata": {
            "tags": []
          },
          "execution_count": 141
        }
      ]
    },
    {
      "cell_type": "code",
      "metadata": {
        "id": "up0LAR36qyxE",
        "colab_type": "code",
        "colab": {
          "base_uri": "https://localhost:8080/",
          "height": 34
        },
        "outputId": "d2f46a8a-4960-40d3-af64-09439bb46cd3"
      },
      "source": [
        "accuracy_score(perceptron.predict(x_test),y_test)"
      ],
      "execution_count": 142,
      "outputs": [
        {
          "output_type": "execute_result",
          "data": {
            "text/plain": [
              "0.9298245614035088"
            ]
          },
          "metadata": {
            "tags": []
          },
          "execution_count": 142
        }
      ]
    },
    {
      "cell_type": "code",
      "metadata": {
        "id": "HIjCWU6qrIUq",
        "colab_type": "code",
        "colab": {
          "base_uri": "https://localhost:8080/",
          "height": 274
        },
        "outputId": "53352f13-4001-4418-aa14-c5b2d88e3eda"
      },
      "source": [
        "plt.plot(perceptron.w)\n",
        "plt.savefig(\"Final Weight Graph for Perceptron\")\n",
        "plt.show()"
      ],
      "execution_count": 143,
      "outputs": [
        {
          "output_type": "display_data",
          "data": {
            "image/png": "[encoded data removed]",
            "text/plain": [
              "<Figure size 432x288 with 1 Axes>"
            ]
          },
          "metadata": {
            "tags": []
          }
        }
      ]
    },
    {
      "cell_type": "code",
      "metadata": {
        "id": "hAeKI7HQBs0J",
        "colab_type": "code",
        "colab": {
          "base_uri": "https://localhost:8080/",
          "height": 274
        },
        "outputId": "4f4a695e-1756-4ff8-a00e-a65fe13d0ee1"
      },
      "source": [
        "plt.plot(wt_matrix[-1,:])\n",
        "plt.show()"
      ],
      "execution_count": 144,
      "outputs": [
        {
          "output_type": "display_data",
          "data": {
            "image/png": "[encoded data removed]",
            "text/plain": [
              "<Figure size 432x288 with 1 Axes>"
            ]
          },
          "metadata": {
            "tags": []
          }
        }
      ]
    },
    {
      "cell_type": "markdown",
      "metadata": {
        "id": "fjjUQ97t9ksC",
        "colab_type": "text"
      },
      "source": [
        "https://matplotlib.org/3.1.1/gallery/subplots_axes_and_figures/subplots_demo.html : Refer for subplots and multiple plots with good handle for each\n",
        "\n",
        "http://louistiao.me/posts/notebooks/embedding-matplotlib-animations-in-jupyter-notebooks/: Refer for animations in jupyter notebook"
      ]
    },
    {
      "cell_type": "code",
      "metadata": {
        "id": "j1xUhR2lrik7",
        "colab_type": "code",
        "colab": {}
      },
      "source": [
        "%matplotlib inline"
      ],
      "execution_count": 0,
      "outputs": []
    },
    {
      "cell_type": "code",
      "metadata": {
        "id": "mvhNVRTcA7G3",
        "colab_type": "code",
        "colab": {}
      },
      "source": [
        "from matplotlib import animation, rc\n",
        "from IPython.display import HTML"
      ],
      "execution_count": 0,
      "outputs": []
    },
    {
      "cell_type": "code",
      "metadata": {
        "id": "xGJzaBrQA9CN",
        "colab_type": "code",
        "colab": {
          "base_uri": "https://localhost:8080/",
          "height": 274
        },
        "outputId": "ea32ee70-1f5b-42ba-83df-c513d4cd8176"
      },
      "source": [
        "# First set up the figure, the axis, and the plot element we want to animate\n",
        "fig, ax = plt.subplots()\n",
        "\n",
        "ax.set_xlim(( 0, wt_matrix.shape[1]))\n",
        "ax.set_ylim((-15000, 25000))\n",
        "\n",
        "line, = ax.plot([], [], lw=2)"
      ],
      "execution_count": 147,
      "outputs": [
        {
          "output_type": "display_data",
          "data": {
            "image/png": "[encoded data removed]",
            "text/plain": [
              "<Figure size 432x288 with 1 Axes>"
            ]
          },
          "metadata": {
            "tags": []
          }
        }
      ]
    },
    {
      "cell_type": "code",
      "metadata": {
        "id": "xhXOnEYrBA8r",
        "colab_type": "code",
        "colab": {}
      },
      "source": [
        "# animation function. This is called sequentially\n",
        "def animate(i):\n",
        "    x = list(range(wt_matrix.shape[1]))\n",
        "    y = wt_matrix[i,:]\n",
        "    line.set_data(x, y)\n",
        "    return (line,)"
      ],
      "execution_count": 0,
      "outputs": []
    },
    {
      "cell_type": "code",
      "metadata": {
        "id": "_qFzaR0PBMs9",
        "colab_type": "code",
        "colab": {}
      },
      "source": [
        "# call the animator. blit=True means only re-draw the parts that have changed.\n",
        "anim = animation.FuncAnimation(fig, animate,frames=100, interval=200, blit=True)"
      ],
      "execution_count": 0,
      "outputs": []
    },
    {
      "cell_type": "code",
      "metadata": {
        "id": "PZKR_A1eBPYx",
        "colab_type": "code",
        "colab": {
          "base_uri": "https://localhost:8080/",
          "height": 309
        },
        "outputId": "5d1a69ec-c2ce-47dc-d4f3-ba00fa4216c6"
      },
      "source": [
        "HTML(anim.to_html5_video())"
      ],
      "execution_count": 150,
      "outputs": [
        {
          "output_type": "execute_result",
          "data": {
            "text/html": [
              "<video width=\"432\" height=\"288\" controls autoplay loop>\n",
              "  <source type=\"video/mp4\" src=\"data:video/mp4;base64,AAAAHGZ0eXBNNFYgAAACAGlzb21pc28yYXZjMQAAAAhmcmVlAACCvW1kYXQAAAKtBgX//6ncRem9\n",
              "5tlIt5Ys2CDZI+7veDI2NCAtIGNvcmUgMTUyIHIyODU0IGU5YTU5MDMgLSBILjI2NC9NUEVHLTQg\n",
              "QVZDIGNvZGVjIC0gQ29weWxlZnQgMjAwMy0yMDE3IC0gaHR0cDovL3d3dy52aWRlb2xhbi5vcmcv\n",
              "eDI2NC5odG1sIC0gb3B0aW9uczogY2FiYWM9MSByZWY9MyBkZWJsb2NrPTE6MDowIGFuYWx5c2U9\n",
              "MHgzOjB4MTEzIG1lPWhleCBzdWJtZT03IHBzeT0xIHBzeV9yZD0xLjAwOjAuMDAgbWl4ZWRfcmVm\n",
              "PTEgbWVfcmFuZ2U9MTYgY2hyb21hX21lPTEgdHJlbGxpcz0xIDh4OGRjdD0xIGNxbT0wIGRlYWR6\n",
              "b25lPTIxLDExIGZhc3RfcHNraXA9MSBjaHJvbWFfcXBfb2Zmc2V0PS0yIHRocmVhZHM9MyBsb29r\n",
              "YWhlYWRfdGhyZWFkcz0xIHNsaWNlZF90aHJlYWRzPTAgbnI9MCBkZWNpbWF0ZT0xIGludGVybGFj\n",
              "ZWQ9MCBibHVyYXlfY29tcGF0PTAgY29uc3RyYWluZWRfaW50cmE9MCBiZnJhbWVzPTMgYl9weXJh\n",
              "bWlkPTIgYl9hZGFwdD0xIGJfYmlhcz0wIGRpcmVjdD0xIHdlaWdodGI9MSBvcGVuX2dvcD0wIHdl\n",
              "aWdodHA9MiBrZXlpbnQ9MjUwIGtleWludF9taW49NSBzY2VuZWN1dD00MCBpbnRyYV9yZWZyZXNo\n",
              "PTAgcmNfbG9va2FoZWFkPTQwIHJjPWNyZiBtYnRyZWU9MSBjcmY9MjMuMCBxY29tcD0wLjYwIHFw\n",
              "bWluPTAgcXBtYXg9NjkgcXBzdGVwPTQgaXBfcmF0aW89MS40MCBhcT0xOjEuMDAAgAAAFZhliIQA\n",
              "Ev/+963fgU3AQO1rulc4tMurlDQ9UfaUpni2SAAAAwAH+v4QTPGoI5ASI4LdT3r7p1K8pBfs1voF\n",
              "5rTmoUAS+cVr015jkMVfg3niKHskFhOkbd8RoKca/IjU9lmRQsoibOluQ81DkQ2srInF+fDhmDiF\n",
              "0OyxpLKSiZMmak5SCqAbMfGiCkBWQdApu7y7fBFPUqmmN+sivVQbiG7EXsaTAPUfz4AAAzf/2k1X\n",
              "PTfb8b9y8wCi/2odfLAy/L435IO1yRpk2meELqqAiIa2YNyBaE/RYC1OXHzrhEBp099zemQmFRSW\n",
              "nV1RlZ/u6c6ngAh5KQM4klt558zV+NeRF0UTKCRwjQUk/2Dz49SssOESvZoIqHiAwf9AtGJgnyNy\n",
              "fnzDN/Dpo1lXvLJefNAcgRPL9pdxbA6mdmDfq50WW72C8xNbDjSpP2w/PqsRyZ/GUU7Lbqb/qzQ2\n",
              "8sWYa/6iyF00IqMDlw6Gxk/oeEayQKyLrme6or6tJunA8k/rzZUNjuKRkvyudmJ6fcbuN+FjExOd\n",
              "TIfcXhYU/C+HnC/7SLOJP9KqECEp/eOQ5PohYtVsWX1X0MWhEg5QhAK6+s9l3C4mGqMhkBW1PTKu\n",
              "si/R12B7bx4s48qShSMPHJHmjOXpobFlXPYFJtx6fMm5k+Blm9RGSJKsKVgfEpXKYZ60gjOXcLdU\n",
              "m/rqnt9WUP/ultAm3xLS/DHid5+0wcx/7ahIFzfiPzm90Wn1S9Z5DbXXb1ssKXFleCRR+ujFbzq9\n",
              "HzrlExY0W6vuxQGmJMPGu46YVimiRhMXLQy6ikl/48QYISvhSiBm1ymMb3EU4ozFPFAvWMTMZmwQ\n",
              "LGjPMmdXsDqqjigNBlhDE6CKnnxrsC7YO+5nWnPsnVw6vgZOpW/x+cIFQAS0z+M9vylcgfKpuZ/8\n",
              "3FADejdjRwGH1lHtP/pW6cKe0SGcTz8w/kpbs9p2+fzPc78E4Yjv3daDK5ITuYVdWD/LqIVxL2ee\n",
              "Qr5tOMioh3GDXLkBN8rNoMojsl2GtISoZKSfiQmUdvkAsYSu4uQU6JKA1SNu8pbwO18sg9+zLM+j\n",
              "M3TikP9071fdn5yXw21OhD7rnoe8XlIuQyBEvHXpQR0kfeWX9LfKr/E/HT477M7gAZjQSN5sUWWt\n",
              "/wAtJv4BNW4eTVho25qyztrfAhxMmhHb9fnWR9sV0NS/KccCyQLaaoqI7yzgtBiHPrW6wrOWh0Hg\n",
              "VXR9IqkzotivrFSQLHAg603VNo6DMYRKbz/Sn9RPrJukZ9uxQeH76DblpE64QGwurb244l77oF91\n",
              "E23WJ9r4rp01f1qa46XMMmIeuFhhH+Qmyky+eFztvgCM6eN9qH6eJLRced7jsOt0JY34jNb0jSJs\n",
              "kZOy+LmHsHAB18zDicP2jN5lZgbFF1D/MstE+AyUmhfWX8vJn/gCjGoWO0LtLh2zoXyHqOsJAVxk\n",
              "exSfU+uY96UctbtlJLizC2DuvMyiwqTVdNllzVMXELMD0VfBprgFECWNnTMZ2Bk3k2slm55Cty8C\n",
              "7AFHStDxdeMFjc5wnJ1gc2XkF6ri7Qd3JtBR6CY/+QRL6LMSbk0cutAbLfOSa/aqQtfenNjQIvWx\n",
              "6HZjHg9aaWhNR4MYZqTx0lce1CBWoj6+NaHn/wV3Gp8efkkZG8KW0H0cgsB0MIqfoNtit+7H0tDs\n",
              "iPnIRhRd3mBrGTksfSE9FeYU89hTQOU5W4w7snRxaP2olW5V5efLqu52neSjZvarsjfqErDqPjkf\n",
              "TRsuIoaIctIUWmn+3XmaEgftUnGPckJUeevdx7dyRH4OcZQWZFJtruNdld7NBujACzI9JD9GIYx0\n",
              "vIiLihgwjdMCcEgOSfNG/PAV8K5werVX+kmQRX+Smhc3BE15UTWQdI3PwRaf5lgS9+5GYkv+7t8Q\n",
              "lYe25E7ZcTIvKOZWy72BE6Fhd1MtvN1XnwNaRFTlw9UfM6NkPsxgAbcUaKCWQPQaMqH/p4I2HkzQ\n",
              "fPfMc9G7LPF20YpMJaw0nKFzoHtd9nBhRNSaBmWDkWfi/J/Plb1UUEc33S17eDxc/EryD28ecEgA\n",
              "/TzUAFD+hrrD5Yt7Hhnj6IJ0WPiEo1TCPNWHRjxI1RtN8gQ7oAnzVi3n/5kTNqVhQ5EILFjRgAAB\n",
              "KVsLf3CuAcy7BH7p8rTwUuyTrgFoJTdKtHeghRSeqNbkhOyfNH6afLagPntvoUn4hFIZZ/fRA+1o\n",
              "uQgjuoCyPMTpWeuWTfIKJBkwAAF38YU9LhsB4n2as5dA40FSqk5u3bWZov/tiwhUFvuMt8wD4Vuv\n",
              "g6WSftP/4X285jsaOan1FNK4h/2aq4VsdjroqpqU+RD/U13JN9fdMfPcRGeeNuRKe7AsuB79UNg7\n",
              "o5UeZ/UBDfgmWyDCMf/Wzf5jy16AzwSQJPXMGJ84UAQa34ricwyIJushjkpX5bQp10fBEyAyG6ae\n",
              "sfcFW/XyFGj1dBdGE0ifD/9FI91zN9p4rRxUDlfXp6mY3thqFp5l1KjFDxek6tfN3zA5BTTkg3xE\n",
              "Ef2x2Z26JME+yYwvOy1A4jRy10YmT7nDq2qQeglJY+V3yjS2yRtbKNZ4zPifqTfDnHu3IJ0um1VI\n",
              "k1BWatRozWG/+PUTF+YXEGE9d4Vcle8z0saEE5fEb3f3xlrIOmhDdCpCUVhJKVJ6vejpfYhcI7pm\n",
              "XElICFQJfVVt92pdYIc23cuPbhwQdV0DWHw2tligxO82AaPI56xoIokQw5/vfnq4xdEEdTJKBFqn\n",
              "k4W6oEPXjr+c1nbfVGUNf+RlOYe++b2oy3JttRH01+A3zOFf2y6pV6TyF4KvSEhDE7w7RjaLERfA\n",
              "bhIOPcZwkodS+Tlj7/0SIjoa/SEdBzuKMc/6Gse7nnWGn0YJ1BnqJ4280jOCDTVLZIM40wp875s6\n",
              "GTiFiHeXyWAsbgk6SEjElLEbFULUWIMW7d4cunGTwhRMj0uzAZJaAwvea7DUN4FtPH/e5Cjn/pdh\n",
              "T/pHusSF88ic55DcyNJIPGx6p9Mg4oEuH2XPF+qSsH0DwSIlOfE5NhY37kK/h8JtErdryZS36UwM\n",
              "jaie1SJ+tpGv7aXdGsJZF+n/nqFPLYrF8N3fDF9/IDVV9gQeuKPTuc7m/3+dX+w9EYonraiLgpFo\n",
              "Rg2jzINvQr74GlQGKtjqhsfU5jcxtzMwwE53twVpwc4uBgb7pgnkZzigh52DDrkev67sJbVUFPXN\n",
              "9IRc+Zlv4elOE9sarqlr9z4dRx2hMxfIzgvVvD0O/PoJjSSwsIvQeKS5uRUdnfuuZzw/RvKHeJjF\n",
              "j62QgMrK6ex9LMclX9Atl3yxsp0rKM7cdW1gaLzvgl/ETNdVi//6X3OC+n+ZTqTgueSub+9UHNq8\n",
              "IqpSoN6kx9psnSCrbOe9RyZEPtrgHbCoAIPihulKbxT6oBmMINqCgjdVAxA7BOaHxIIOLLZMQjTi\n",
              "7ZYlX84VaNfmpDIvq/IEKgf/2tolldjEEbHjK2+LDUt4YBidKFl8mWHRqom9L20ixp8SrKZPnzNb\n",
              "oaJ/7A9VNW16ZzhrxmGzGzhQvrVE98/DmULalv+IhtHglJ8Zv89m9ZCKun40IaB7wKmnjkiTPUGN\n",
              "vbHOZ97yXI0TZcS5e0V59rDjcXB/HwlA7oK/D/kF9Ku68eG/fZcqR55JfQXytHuEI48mvZbiNbrY\n",
              "SN74HmP6DGANEltJyiesyFYqpntpUmpaxcz66gdGK8GpnqSfXBWCjZ6tfpJi34H94UoZ9SABg+lM\n",
              "f2AV2IGtkTyJKz+nr9p0MYE2y9i28Alt/VzLWg+kgTyV6lAvCxidIebLLN9XuAgcEnYdYIkP6y/1\n",
              "1pkI4PUh53IMnGYh+d1YXHpyZLwzUaBq+2QP/SYoOj51O9mquKRVEFiel7ZTCQ9C0FuH5x2tiHWS\n",
              "2QOOrydJFNzuQShsI1z/+FK7zufrfPs9mabtSMqjdjsdsu+UA4zBmq22kN6YAS9Y33LwlVnCcnBc\n",
              "IvtruEmmZmWsTtYjpz5VIMFbCg3laCFCzcPUyBYBBAhBQz9RsnWZxhHjWOYfr8Y7bvWE3PIzVkHg\n",
              "KTf7LjE+sVGwr2qiL7NyatJ9MBADvgviDfJTePxuH09xlAQLAV7l2nqxwu/gB4ze2Qc/zZ6Ogr+G\n",
              "LS5AfwgSeDnByWho3Z2wcaH/yExV6LnTYUeBwtN9tDbxWkgumfWGE094/g6+kWczH8E4AOr82/Do\n",
              "PlaxpizqJaTb59TNsbfUYI7FLxbcXkWIF8l3nQ5D64cwuqZla0pL2v71ZVagheUtYe7dm0Wn5s2J\n",
              "UT3UqcwARlsTqx6cNYwzwXeF5+YK/lFYbnbhXk/9yRztB8jFfCiD1DxJ7ml/cXfF0knwQXF1K17n\n",
              "e1Ro+ac2KmMBw0DcGbGs6fJKxwCeGNlp5lvX9n1mMjMEINBiMDyMFs0DGu0NgY5aOpX5KdVKHzJH\n",
              "SojJ64yu7mZ6/uUUrZ6hiRCoUO88XbPNW0YshxK5YTxtUaJfBSFk4g8fr1wmBF2aOU/UW93JxEsg\n",
              "we+xhZ/ptMCUd66YlpFXtFd11NqoMlUSJzlTJvlRJGdbspxJmQgR1zh7H0eHMK72fIEIq/z8uktl\n",
              "w6u2ZDTcZxMkHbVTBIo+3sYX17EmWrT1SMN0gLcRnGYzuH7FWEa5J/oOnFEET8Sy5GQJrMIIeajn\n",
              "fkrdSvo+quSKuJCagyxYnAgsHIoNpDGewAbz9KO+JiJqj+LHoGiZMTyN6SlXlp61AH0PSxOZ0ZfP\n",
              "Z3L8qiAO1iXPpB3C+iZQRmBtm26al9oxk/QcEDnoIMfz010cEVKXzez1iSAutu7OAQwacs/FLkRe\n",
              "0VzcCFaYHmmU7XPrKOS1u4gmEGc7A7YirearAzzdWyAlqHMu0BRyUEUzqrc3M4SvBAG4rgBXIxtR\n",
              "I7Hag0ZsmX9O3IvQapkhlzq07bVQDF+ehnNg7gyx+QYL9b4JKiTf9Nz3VuflQai0hSJfuCuZWiqr\n",
              "X2PyuIuHLCZLMWFTWoj9ju+ZPHbwDhUri42G50ar/oPtK11Odwht15xbed2EFbUbaVqZP7q4lz1l\n",
              "RbghVcMSjldFzU9uFdDdccSWQO8yRI2MTrbCaI4cx2VagCil1eIlYVMzDqCrD5yNeKd3/HNAx6Rc\n",
              "C+o8QaTp+35PeQ9rUN0Xj2W2jZPOndy9rigde1SjMulRMBhubvNQ03b4auPnp+uDbP7oTi97ciwA\n",
              "lK1fK3/OANOeRIfo3ys1u/08pRYo6NnPblo9seWXSqz8MDygsGvJ+pBWOhp+QAABNb481kJN5cCB\n",
              "qjo3hwaAcpulYKZamnyYqiC+cNFielpSXulVjd5/+Z9dcYg90c/0NCs5z1flObhgDihRj9cc3jEc\n",
              "YGYsd7rUzVTJD2FHgvof9FiV0XcZx/JnPoYwmwj+9dw1DQ0mG/rQEQREnHjshcymo9m8im0NiG/t\n",
              "M1BLTVZ/b6ROcOzfCj52LYGchescRBiz/u1+mOPlhbcgNK8Aq8JvND0ccuyNt9sqbZV8Q2kSHcOD\n",
              "dz4h6qIHdKXwudTxkvBWN5phoVF84kXdLKC6mbQTJovs4q6PpdiC6W3Cg0VTPu4sCp26mU6Qag1z\n",
              "7cfFGBEvHa9lbvuEXiNBHbWYdkopZQua8z07EggC8wWpn0mS+6ehFg6qOlJR+71RrLEp6CMsSXTi\n",
              "GBXBxgffoVWHMvBOlxthkDhg81Q3Xr6H+MqQpPclNRcRYc4QbnQeJkS4Qs/IBH1Y8wTgx+FiYLos\n",
              "VOcX9i7D2fI9JONyzWIN8WlhoXChJF0Ma9O73msEO/6ET0BUx7iWUn/qG3xvNpZDgwLQFnKugtCg\n",
              "5LR1EPJYlQqRxAMduzl/wrXNSA1zeKu9KObfYFdHmipR5qnRfP0CrsEtffvvS8Stat0EdGQfSQW6\n",
              "+E3eLIw+eAuBirx2B1tE7L28XRYAp6CfuNQbEZ6P+Hz1ISEGLTlkoWi4p4y/EbUYalHMa6GYkcOJ\n",
              "/IvKcUn71Un/FgD9/PfYgFmSpC+eFwpR/u3qDHc5q73ltA5fJOOcwkqhK6X6zwfdRlNLwZpOJkFS\n",
              "sYsy92WtGpaJoxO8pMYdgAqEDsEF3holfF1m1ACt1CL4aVE1xWnsoZSvQoKrg2SOqU+fcs3iJZA4\n",
              "93TQVnug4fQx9rgdnZySeRFVDHmC2Xa58rPllOh8MokNcDCX8R9XxsVdUiTpUkkmjBkY+KMlGUqi\n",
              "5tr0vNfO94eh8lBcRcBUfFDZBBMIei8v0XWUuk2aZlL2n3HChxrL+88KLL9rWmW1mhwhGP5WzyTi\n",
              "cUGgfrlXR8HMvRqJFEn7GxVI6C7T/zIOkf0PYut39NsUg8zM4o455M4I0tj9CsRw57t14iqw2s/f\n",
              "tRKXP7eyyLrHFqdB42CPTZEFZKr9A5N5tnAub4MUOacZckYmc3tMMBs/V35bNAYR78EESPsqYmiR\n",
              "tgxeKybdia3/kgQTo4s2s79yGD/lfc+eSgbSCaTM8aaIpNhnt2/Jg7OAYED/zjX6BHiGMtlfIdPu\n",
              "XBa/tFO9BQaV9dQqJif2LWqWXB/SOFywp3xjVHd4P9H0Gr8n2YYBtylbVcsGSurDWk1K58+3wic6\n",
              "/5IguYaTDeNRYrroQ+28ChVX2bp6DpCfSC511j+z2oCi8rKA0TACSvCwIqplFfLzaGg/hd/wQjm6\n",
              "QiFpoCU3YKsOpH2+KpvDFgK4NeEaUcF45fNiJgylQK2jkkwFrayczQObEIEXpay0PB9y3vzRx0Pc\n",
              "Y8Yc0SpBUki8ljmfF0eGfre2RbX/wdb+jL+Ue16qkt4PEINSshBXaDk8Avq81Fj7vxCOWaKNkRQ4\n",
              "yooeQl8bvDKolfgVhqa2FL6O0BxpRC0x/KyVlVSags3MlyIXrRHwTglrnPapljWDhHx27rGWm2Oj\n",
              "qs6Tp3eTa9UlrSoq39z0y0udkpULB0TzwaHkfSeAFHeOEj0NJT+HpAboljXj2eBZPXotQtUY7EqL\n",
              "cU7dDF1sH2xPRqC0lAZPADGsUlDVbGSNl3ziN/EiuhPXxu2M5cWQM4E/0xPlOnXqkIZb5L7bg1TZ\n",
              "2BT7zJ1NXyUhIhlij+68cREEcM80/0637lLYKcdT+vcRKweXI3SGW2LmNJaYe1chxojbQkPn6Y3p\n",
              "86eoXKK5/GKfRfwCScEIYd17Pq0fl5c39SGW6WsGPYAucBref26T+uGQby8+syT70QEIIiWT7mH/\n",
              "Rd0dB73NZ/xgDSrnQ0EQWfGeFNwSmtsqza3YQDiue3L36ljI+rek79Vbv6WpcRHha9oMYEQBkf2e\n",
              "Mpaw+IFFVVVobXISZsHkT5w8/eDWvFOYzH/2fjImx/WlCkxD318AGKWaANhJ0rj7ATyVGHx7Dhw3\n",
              "AVCfpzHo3lC/aJL30YG3WRSp7/13DFfz/wNF9OXImRqIXOwj9hBYqEjW3kcjMRSfUYr6gQAAA6JB\n",
              "miFsQS/+tSqAIokzESm/GhJ36BzgUfxn2C/nJxrC9CYOlbbMlz1aGQ8+u70y0Kv/xvt++dlW/9m1\n",
              "k2vSPdi5xdfKARkew/+N+2oVn/DgvbAdVzg//1Uy1pScgyYFFj911v9KbhC/bQbATyxSnJVE1LQ+\n",
              "sQ/1Yy5AoN2gsRL1pJRCQAiKe/lM9ZVB+POzr41CNOv9peyZl1fhH/dGk3F/AcymHeLAMyF92hJk\n",
              "r2vLCJNxMZ6hywCVSulYzdSbGsN6QNRXER8FfuI+sJj751v7yf/YQyKkMDx9wRlDN2eBbss9C8Hz\n",
              "V6kHhF6jXc99WT0N/dUCsIkWSrNfooBgQdys7u/+h4+v6o4ynTmMcDs9UePCiIiV5x+O/9xazdbS\n",
              "l+JdGOheQ0g46my4sSUMigySuRBNxCPBv75xXKNpOWCHuU7w3+UBu8PGgBap/KDG8B6F63V1ERCU\n",
              "+XgXvOTI7BTEmZVBSJ11Kt5ZHVDrVeRnPiKGVEw7IltkaarlLWjWOlcJoMtTwISVBSHYm/3Le0wx\n",
              "WMbwkcGmEkIvCUrAwyBzrSVEfmgOkwGKCe0QWXERS9QhQp7cEP24rtSN3ic1ftCNy+jjooiL/EuQ\n",
              "fNeaibzzjg5VCK1A6v5qLZaV6Rykttmk2fCAcD4ulNdk484Ii0FWPDGulbPXMjo8XrtYrA0b3Q7H\n",
              "ZagC5VPffHuVbddN30m8LPk+aNqogLkYgh/xUhZLn2aCYurCSIv1XRf9l0quVZRa//TyACb/vc5h\n",
              "Wl9qtVMupHT8tynP/UU3l7AkJTtUdXZKx31ywRRJ9R9ri3eNohgemp08EjEbPoGoUj1gpKAoZ/6W\n",
              "9+vR7y8FmuDpKMLgAUWonTjKV0eoZ69ofO63BRD4J4LikPXyFnMZOuIfw7Bp7bVKAVx+DfG7KdgC\n",
              "yy67hMEqugLjp6YeXI/kfS9WcBwzdESxMNrvHACHmffdMZvXSoT1ZKknUVdDnBWSzkwCdNhxPaca\n",
              "EI1rnp6CN+iBkHXklOEMeQHa2yjSKdV9CDW4vfTWq5+qE7MGnPC97A2DY0aZGCV4Lq63CquGPszg\n",
              "omWekwJwBTbeHqOG7rNmZSmheJD6GnNR/Dwmk0jT3yxqruwPcSAC3JWJ4a5TmJnGyUXYfSRznR9H\n",
              "ibyKvL9CshDLRSJf+dSlEU0doXyktRo1Iwzr5HUgu39uhrP+yGCbUuc9Ub96xtSS+elj15jBqKWi\n",
              "gFxG0bubprudzNWpyFNH/78AAARsQZpDPCGTKYQS//61KoAigcCgJLfjEYQvAspHSM9i1ILxzvH/\n",
              "yy65r+lmhZm9a+mOWoWDGXn46+XD9xHQlbF3eNXjw9YxpMpF3plDI6296rgvQ2KyYl/+JGvdUhov\n",
              "lMri5/8ASuNVYoFSM34/F95SoCoRG89M7+HvUvv2Uh4Te2rqhTb688tzHAc4vuswfCZzQ3aFV+Pc\n",
              "VfRtS0ioaEU/8kkvobkk59dd72KhXMNkVj5ntiX0eg8U5Wf7c2CXQ6XfSjo3U5FIbYMSfPzc24UR\n",
              "QLi7967E0XNrfaAaCG/P7K8zerPBIn6hdJmEEddywdFLFTaFXQqXG/7GTMKw5rjArV6P8fMQvaYe\n",
              "3r0dd3Q0X+4BB2xD7PC5yMYaVBPwzNAEmM8ADQkIk6gvAdXdGQe1GdyuSZA2wmPBFdiLriMAMbqz\n",
              "mjMUu+LQd2DAVZOcUWH4t7NRi76H8qXZJMVLR8AcutCs0SmVk0s9cobKEfopL0ZHWfgwIX0c7DEw\n",
              "zGuDUVuM2uWxWAzS5P8KRJlXpZTRt7lvBEUiatrybf2qctJ+D4x3k/Vukcad7Tc/Ag5/8Td5+Odk\n",
              "hKW0aHiRGIU78BWCkm6OCojJ6oDIgHKT69NJoY8rQMUYUAf16WD8UhUY/4s0qFweDQ7M4ajdn/Y/\n",
              "ssHAn4x2wV3I8Bsoqxuvo68dZA5w+08TvUJtZhsLOqWjmWM+VSlYC4akfNUfgb4byGWuPlcYGlQE\n",
              "Cy+wJX43SKuhRpHTiQxzGitMfP+vH9jyWOqKM6eV1CEJQZ+IPIawbYgy7E/4br8img3/H1ro0uQi\n",
              "IAJY9R5WFZGIZFqewxbvAPYmx0AdBvqjjjgtJnIvxP6470VcuA5cYm2r0Dufx5fkE1hkz5IB8lb2\n",
              "jY5m3spsNGEUjuw+WUe1Fhf8HSIFZX3GOk5Qih2XW5bnEYSPBdtVyVUc6aTSANi/CN8IJmf/F4zH\n",
              "LR2oSRVg7k+5zn8Lpn7DDtMBREYDbJXxApRnrBIOsJaCXAtXK9vjvk03yI6urWgixQDrkPKm77DI\n",
              "e91nhIgVxhYTltU/TLjYlL9W8jr59DyRWg1TjVoHobMjLpcHp+jdOi+ZzuZtmlB158dOaXQt267l\n",
              "LtQ/AYCA7lW52WTrK7KUzLTWRZ97qy3p7kNn0gMch3KWcVoREO9V08UwXtpQuUbF3GQbBy3Qv18Q\n",
              "NekZ/ZeVIURE49N0YLi5JEte5+UievGHi31Hrdcy6y6WewZKB8YA/VWG9EkUDGvuMPpFjxSegd3z\n",
              "D8lbjs8mAyDx0B9cjKcpAZSOTPf8j7kVUcFQW4iATXbZrDhff38MaqIjQqupcP+aOa+a33T06smd\n",
              "vskcJ9vrhhksFPM4Bq+gnosjKabfFzS+C4eJ0oawjvh+IhbtWnbxufMkRz1ueEJwkg4alh4dIlJ6\n",
              "jlTxO1DVCxcXfabxx2reFmDfEzKfFFr5V+WA4Z8u7VSPb8gS72NK5L8P/tIX5rFW6SY41LjkXHKt\n",
              "dubnK3+io+DVzjsBowAAAR4BnmJqQ/8ABQ7WcIgxZVoHgBxkDiY0rDTTiFURSxQCdxLQtcomP5Wx\n",
              "eyG3pt4M3JExfwO3KUd2vTM92X2AO5S9pXkLZs+6NHvn/YU4Mum3VQyIuRwabDSDssZUmZcqJKLd\n",
              "mHapVeDsTW3XicVgGxVhqCRhuxBgCh5iP0nCbc0q3pzvzKZz5e2S0SX/Z03WhE2juYZuWJP4TEeG\n",
              "lJVDX3JsV+ArjSEf02ijMKyEvY26zZpoT6UUfZxNMYsjZ7Tp46QOtwde+ptJYnxIDQvvzWoC9h4s\n",
              "JxM60YfcaxaSfHDv15sgclbtGvyNhaaiF+q0iqVbLiSwn5OGQblX/jagfCGXruOUtZhaH6tl82HS\n",
              "0BiHeY5dm12OOPRZWv2hBEW0AAAC60GaZEnhDyZTAgl//rUqgCKDcjESm/GK09XTrOWmTmxt0EFm\n",
              "gN82ht+/TMxjD8jcy3bXKTA7hua1NFSZtYY9/fUkNxhKCqV3lbGOS2UsJS7reK0l/mb9M/l+kcJZ\n",
              "isVNgzqprZ/d990bmFzxaMhOhcmuKv797yFZAuIcbPes4GU74NqpweeCTJz09Pvr3mJTO57mD8r2\n",
              "EDOVPvuV82zvmqlLWDS6W1ZvMbCaponimQEZuLNr/fzw7rv/GVpjQxKs9QpdxF6EgBGcLVKm90qM\n",
              "UFwOmvxR/WLOYrkVjPzHzFq1aeGyQE8ehv7PtYirhBtucs2q6wkpNIGFcBQ8VXrtZRTRO5HDxgk+\n",
              "EAs4VH6GckWZLzgoHAdM2FvpKGt0j2CoXl19djYLXJZahI9wyiA64uO9NzWOP+/R5idz0YEFXqjb\n",
              "yY9diCCmpSpFuLKUjo/ja3mkdVxiq96a8AdYaCS9IABjM2RptGYpx921eUbn8zGXf2dN0rm8nJxz\n",
              "a0QOByxqK1lnyxzWban5Axxwg0w16ewXkhbzusHmnDWemNVeNT4vnS6T5o7Gezz2BdJRmxhaNqE0\n",
              "ESIszLwpp6hWT+GV90q00iVMCn7b5F+YF+D1cMmzyXFbArYqjdyHK7q1gck3lMsaSTWXK5v+4P5Z\n",
              "P/oco3GEH4lU/hUJJWEHxK9HTXvHY7BHqtZ90groJM5P+EInBxl9sJw3jCJ8+agrIgH1+0wV3WLc\n",
              "TEccS6R3pbrHTpjw4JfsUY9WvNMO4UQ0JidO5a+dy1qPsFZbmjTlrK27vhdNHwtsWeOJ/6eer6CT\n",
              "/bRW1yq4XWJzFO+FDGfMBFFRF9TtTmkaH+kF7Ztuar3Fd3PgfJ9q3qq6qhq88/KcBT1YMcPy496/\n",
              "Xe3kBsheyWgeuwOuYjzKrCGJWe8GI8qwZB0MDOpuPU6JWPZNrTnepE68jH33RdXaSknLWiYq/4Du\n",
              "nzpL8N9aX7HCKBFZVtF8NteND3laW+/nk3f6dwAAAnVBmoVJ4Q8mUwIJ//61KoAA2n0FIkzSm1Yu\n",
              "vXsSAAh8A/hreWHyDiGxHh1PFSD1GRmeWBycsTgfVxWb1nxbKxWToxQB0R2cnR93Rtr0BTNaSYch\n",
              "uTwWbRkxJQmCF0KF2cmBCGkeBLDfAtdcnDrtMEbX5w4zkbI8Gbwl0+tzvTISVY9DGBV1XGv/367T\n",
              "hEXQmstK34XazHXrMEBHQvuFu/8tjuh3HQjNbC1C2FySW9D8QLpBnUjAg6M4wq52fXnpM4nJ1Kw1\n",
              "YEtIiQ48tajybJrBtYpH/w/Mcpczs9rqU8gNn6pbZ4mKmh+AyIeKvmPMvWnNRns7/vSQotrlr6LS\n",
              "W9fMPvqJ2xEeK56oLITdqxL+8jlmsZDyEjBYT5cPHSHO5Q5EejvsEHFYW1qZQHQ3t8cWnU1qE/OJ\n",
              "jfTnSfu0pABCbXrTgDl8DS8AQWPF9ahimcVSjB1LPL9ILqjNOYgytKWvuuFjhSvp68TW7in8+gmA\n",
              "YEET+DXRIwKm3fvNdNZdk6+buFzqPukrAlN1LGO7l5VrpWKQX6khExU+sGg64Z2/6+Beg+tks9SI\n",
              "Cgmdz0EyxllqH4lL80E+2xGL1Zt4CZpzpXZqFoU224r2dFj87z0pXAmDh3PfZSS1GyhONhAdkGKs\n",
              "uI+7OQR07XlgLpzJwO5XcQhFkrZgQYrwQ07n12z3Y5YpCVNbk1WHiWNUHjsOdm6vU3m2WRLcX7/r\n",
              "bhIfGaTzPodKXyjNTRYbJOD8Nhkx5Mt45U2x7/dz8cl//RMBTKicNMPrMB5OH7JqqyNOv9P/+jTU\n",
              "iS7x/tt+RflF/wzZ/23dMFIyVxXTlY955L7BvGv7SvGh8wAAA55BmqdJ4Q8mUwURPBP//rUqgADf\n",
              "WE1ElwAcd+35idHxq6cyL3SVEnbsnVRcr3uXaxF7NLNCFNfNfyelKPaMCXXmd1U29bviKxto7X0a\n",
              "GUI/8i33lVDGdwAy9bamcUl1gIjDMLE02ccMd8eumiw13QKplsZiOfcE1hUvc1s3ZqKX81LgizdI\n",
              "G5rLw6n2l1nur5HkZC61VeIM2m75ooVDHLREja0nymAgBZNQHrk7JYaaEzSWYXewpWzbZzW8knF5\n",
              "ncG1Y2jVziOZ8BDPMu5oAX9ZG6HXfiyOjFxPR7kxmC8L7kz+zsnp4o3yrvXGBjLgmjSZHbLuDmuF\n",
              "4WmQ/SjrRpdVViChpYa0v9U0arIUhAlcy+Pt6P1HNZbT/Z2HE2CaUryRExezBRNO2PGixtS5/8YZ\n",
              "9ZPyZ4ZdiYAYDgYshhNyxt4viUBAs1/beVfeNsmkysiRJaBxGBeqZOdEWKd7xeShhjCtOcXuHSeq\n",
              "kABnFuvtH2D16bCtvGB+ohY/UrEJZ70TZjM6FWMZ4yOYX8Eer6JkFzyWYyQ3PFQ9ALMYlgb7+oQ3\n",
              "W6lgMit7kksDIZwEJN3ac2Kam5KhZkmQ1dWFwGV110oY/J/4tCmN3iFbflBTiS72kE6f4QDeV7Jr\n",
              "aRUS6bP9bYLL252Zet2x0lsde1jw1YAfBf1I0zNww9ylWgP/J0h4nxXtx8ELd3vkfDwuJ7rIWy9j\n",
              "Ps8TVyDvYdUtIHpdQAzbvQDabvrmhE51TXvSFfHEVDsDIuQyJU+CQetHvLgVvk8tRphanNBT/ODA\n",
              "olM59FGuNNsdOhAhyRRdh9CyNp544mVvFRg0XjU38xGx1fb2/1YaNd3Y/woCt2POJ8l+2dx19+db\n",
              "zY50RWr8Mt0v0AFHN3tEondwKNJrjvQZEnEuqIr1EOiZCzyZyrA/naAt41xrlQaHgDr/jxJ7+SBH\n",
              "u3oVQGEHQ5M+pSCjQmv3ADm7erySJA31+067datHjFmu32c1DGrI9h8+8mfL7/8JFUB73EZrImME\n",
              "P9P5Asc9yWm3AkbCqvbI/9enLO3///uVMXGw45KtMAgW/VEiIaMN9CmBalopFc1rMwzTPA+abUEN\n",
              "qXeni7lZCeyRDEJGICHFAk975Mg0mQGkdsaEK59jL7OnjLQjaIebdbKFysIMLGpdXWW0lc1OPKzQ\n",
              "IAeyr/iNBeh/9uUhBbmcA/i8itqe2rYObdUv+LOgrgj9wVYmZXWI76kULCM5flJa52efcQAAAHoB\n",
              "nsZqQ/8ABQ7WcZnmRdhW3tFUwEOTKPNgYAW5r0rr0W2fCFZNV4X4uSlYIYWsYilb0T2H5XVP5ssS\n",
              "lNjsKvi0iOZVHtA64Q0ELgBie3uJYd8JLe59nhhU+6ySn5wBaFh1wbiKP3cLa2IJSlDcJnu19PN4\n",
              "wVOwZFS1vwAAAzdBmslJ4Q8mUwU8E//+tSqAAN5N0RaTtAC/OO8E3BdxSA/SRMLiS1HIDXN+oH7Z\n",
              "XxYj9vHf4ZPVRyOMuosRWxxQEtTn26dHWtWIE1V7mELqqAikNbo73ZA77NkTNa+erjsyiMvJ+oGe\n",
              "Ni3C3wjjxNJpxfm/Pt59fcBVKd1OKEKX/E2YwK2oTYWfHJ18/JhqAJwOoulsjNXfOaTIkvT7KfyX\n",
              "QDfERuP5wOrCMbCUW/ev+BGax9mr4gidiI8smhm/Gn1j5WmRkysc3q7otggKkmV2DJZXtiWZLrrw\n",
              "lkrAYYtRiilbLf8VShnXDmAANx9KSd8T6ihtRBzOm36zuDR0X8ouQHKvTGvAZHRzmFXtQMJlst7m\n",
              "9nZ+vUrvAXdgXgfKJXG8ugxzlBf+SVCi9TA4YgEHVBlDx1Q6QXsydDWkKdIqiqFStoy33wF4yR67\n",
              "DsODW9lnJDnoeNoERCS95d5UBW6vrMPTy1W9dVXc5wgVFA7AWJ1he/nyb7lMqDV/7CGSlxJkJ/4c\n",
              "fBMxOuEniSzQZKgr7XpjmkM2dAoS1iICGraaz9GwMEzbLSmPJbrbTcC7sSyQLxkJGey/VANufdDB\n",
              "A9734gU9MgzDFhFRMx7LaqhU8MX3HvrpKzEZFJwBsVpSWdP5XSjralIEnHzRufOZqX66TTTSvOe3\n",
              "lz6GJrSc2D4lnBObUoNa9/3oJUvPVxWucGIB2HejOEudfqYQx3T6rPJ+oW4DY3qD/AzxVWgLXPPQ\n",
              "xRRtcFiIHPLvGB71XPq/o12w7h7hzPmddy10xspmnYF7GD+wwvzhh8bXNZye2C60J/OjC1xiESHP\n",
              "HNWJRBLiydvvtkQRT4LllcKWUChvL6zGqtDJB2Xn4pwp2yY/DCPCt5gbIdqFCkqxoOXYc3WUdW8K\n",
              "MgpIhJpcnD8Lvkc9v9QcSyW3sAllNMVhrL1aEdcv+uUaFHX+83tSeiFvdFyoSJp1V2ygFgbYLGBs\n",
              "OzsiPEqJv2DIooN7KVAg5ToWkuxH/6m8sXeRu7nhMdvEH7P1k0+12GnYo+hmI71xHZra+4LBkJyH\n",
              "GFpf26C9/BZea7YTYzoUdMRg8cZQbBKKBNGJyfo1yn44vMipAAAAbAGe6GpD/wAFDtZxn5t5/3D0\n",
              "Hu5r3ylnvU3EmRSOCtosz3fZjHyn3pAC5i9aF+WyeFcxzA4b35TzY1UxPBTUTw7A/3dIigHf8Tuu\n",
              "rbUnSUyw4ZqopeHcIUlUDyh/s1r5echjuGShAxosAwR6gAAAAuNBmutJ4Q8mUwU8E//+tSqAAN5N\n",
              "22L4pjC4AbfGy6wYgmhdBOmnkixYBaJQIMvUqLkBw0axANJoMfxJSN6S+i8yeKkRh5Tjmw/YW7ZJ\n",
              "h7KqRirKp4ZQ2CZk+Z+ZtXLuGjT4qr7BAVMB9TJELEIP/2Sw1Evs7PmgSwptQDDmlFPgNSDPrjG9\n",
              "5VSNqE4NIJa2wHhpDHODBwr/aPU//Zrq57sKiOduTFWpGguUUy8x4FXDVZCWgA40PbcYn9KH/txa\n",
              "r5sZtmc3r3QO+Jq4dIJs7AHFccmbhYslYqSP9HqITzdCKvsk6p5QzwOfHbRq1EKap4GwvEXO0Mw2\n",
              "L7hP/9ihv5BL0f75NPAjP5yaGqJ6R7KfnJdDOwcJKJ1uD9JYNaAPDZnixymAYihQuWrMyHH7NyrR\n",
              "+VAWmP0SA7U4CATNHOsxI+n19XNtbhZz+4+YlXQpU3kmeZqg38DLQnTWV0JKECaQ7JLIaU8bCzzB\n",
              "LFJbAHGUO08OD3JcP8sehPqv1B4SYnptstzmjo0Y/EcNXncuxx00HUT/9lKCbWTO2KF2SToRMdiE\n",
              "Su65iJwo23VIEgn6rB5CicsppKk78TOkAPJ2r98JV5NcW6mOIF8N4hrmdszVeChBh0QgQmLlHNtD\n",
              "jnOHsyeuP/7MWrmEktJE78+BL28BQQ8kNcOQjdhawLedMAhEZXfKNExjRjrpIFGADCfCO12cQx4T\n",
              "Y9PvvgOeFqqFdFfCrQoSjBeSibsBUD7LSo6i5F9jEWfMT1ynbC2X1I4dPB7w6JDCdw2LV1y+bm9u\n",
              "jyMaOGko9zIstR93vvbrFvpaQ4aOKwg1LB5X6MeUkga5LvKKy5neCyi2qXpNfHc+QabrJbM2yfPs\n",
              "0vto69BQx9LjQEB9Pc3WlmLmW4TxokLJvUd1F7oZB7a+1FB7657p2oe/qf+5Qblj1pFWD/Cb9fw+\n",
              "xYgfwUPytSj/44lOf2OUO4VP0VEmzf2s6Nt5mnZ8nqjDfT3RAAAAdgGfCmpD/wAFDtZxmdL7afdE\n",
              "hnLQAlcZ18ULqG1ZsJ/6gYSwWRoHX+r3wkHw/uOqiweIPa0HGzGQ25d6uSglzDtmWZFN9HPLrx5x\n",
              "wJ7t4svJcP7C4vKCZL8YX57dL0iUqimK+YBlxs9i0BaYVDb55Yim/2s4gtoAAALwQZsNSeEPJlMF\n",
              "PBT//taMsADfe0cCg/ME7v+DbBYxYQJ5O2a7UgbEvDG2z2tniaFLbohgSvcOtwIVcHOKaIR83bxf\n",
              "loO98BGTRvLpIn4gzMgvh2Qpdcg7r+R3ajihOJKqYsNoHc5jROU6osd8QySPg5ABybBAeVxgW8DC\n",
              "qX7X+/rHLqxA+fjTdWVAUweOn2uDtoMS21AAkSAJ8nC6NfNR/9zhgIi4jRj5drLLyQEIlSkqXD7O\n",
              "wAAcI7DCR1PJBEMO2KO8h/eF6pr31AXznVHoLgYUHhveISyq7KLqFzoo+03nr4r//a2ZQaEHq32x\n",
              "VnKdpTluCC7sGQUlRmYWqyWqC3wJ42/+WTQobYqbhU7M+vT8z5Xw/PBzOu1Z2z3vI982MrnpiFzf\n",
              "WSkLS00ifXUK490Q40/68kEXjqN8nNcsLvUD5ku/UlQs3tBXg6YyjWR1Z45+ERJmSHD4Ul301DBu\n",
              "oeJzH6zxJFd6H78uWVpsy5EFrcX33MylyaHNGJb0B/T+NfyL76BOJK/NmttkMuKmk5gI9MGH49Jr\n",
              "MD8YaJUJi10O8rJlZ28LRs40CxMBL5YRFPHtUhGbpatsUYCW0Epqq+15fbHrNnpJ3910ZiUl2cDu\n",
              "wys8VSRic2qzAUzcSIC0I4Ccm+HGp4nqujVcnjNBUAhrkpnCZ5UNpKiAMp1ka1OM87+O/Fi4bFec\n",
              "scHwJti0YDyMPQdutCSOAAk5P4jdG1gXJhv43krArHeEr5y3irjWDE5rBOsTD/hQAfmZ0BYf3I65\n",
              "8hg2AzNL0bwrdmlayckqCWth0LK0MBcpPbqN++Y5WR8nJK0WnyCrU6w8/P18Rd0OjVljVYzzGvvZ\n",
              "+m0OPm5XvyivPrWtY/pqN0pvrubvmJXbQcIu9tu3xRF94kzYSPM7kM1i3oEEHX1ePq3a9m3nU4a1\n",
              "QrCvp6I2DiVvaCYTUw/jX/SoXMIQFdPwvGUxopMo8RFRFVbEcgWJ23AaosJLtchDgC8Cy81e3SDp\n",
              "W8AAAABdAZ8sakP/AAUO1oZeflMB7TzHTt2bK7sV4ABc4TAZK7OZYDuIY0WM89Nfw1DcrpAX0gUA\n",
              "z1wNo5kY6BzdIucMdB9EgAMnUsJd/YA7/+PE6ZYibSn11DrVVikYsrKBAAADYkGbMUnhDyZTAgp/\n",
              "/taMsADk+0cBKT2KkofQ8QrEJEw1U2tm7SRB2yg6N3Ko3Ep25z3Is8X+maoZbSO6x4gBWWHwR1qw\n",
              "A+MzBPp3phBQUJ719UhbrwTAJLr2U0A77qYmd+/tspcDoqHP5z42iVvAij+jSZEp7C+WlF5YPsPu\n",
              "ZxtM0F5BPI/MQZiYSOkb/uDkGxmmiNyI5RpJTPn2/EXGHR4rqRd9OlG7vZEjeplWNONPtWka01bq\n",
              "v7+Huz2VFkRjNO53Kp7O4RH29duP6E9iFzf1cVP+w/nAII6Q6FuN44boQKQEOrQDrq1/3i+Kwd4H\n",
              "Lc8GsK+AIeqLpqiOvnBCf2siSTgZMWxpQSh7m8ZSOs4YDRD+gvf3bk95tAj5CVl4QO34uN0oKrCI\n",
              "3zBYgb8+E/GYieV/EObYPPNpvMFdhLBahMv9mnr4/XKewodLq2M/qcf/xI8gEbmD82TEMINs0Ho7\n",
              "gyia3AVuN8xKrngX5gdDra0r0jFJPKWBbl3hlMGiK36z4aBaXGoFFmhYhjNwr2dVqZyXnAuA0i5K\n",
              "Xk+/x4pJ/QOZPAf850UOQXZg0Xk0L0AVoqRFPO3cEDyUTEVVosY+VTv6APyl+ONdko6MCb2ZM1Ns\n",
              "0mprTThdzsd/hKtLoPkxVG5Bv+yutxcPxElkKU/UWGJXbiNTjfw1iPmwAJEM+U+qfmB4JJGG4580\n",
              "54pGq+oVwkJnLjUWCdBf7yI65bg67vVQuq0OWse84SJmiG/VRGf81axzeH8jdfmU3hZV8igDDxqP\n",
              "vifTkHfJdMXZ8MViVcBa+24bQNB4ePZBZTf/9PIcK7JWHz+i7vReGHdmOGwhyV7mSExbSwiD2/Es\n",
              "eoSHn7R6xabdfVdV503LcI6hMcGAUxKLMi+UPYqYAocK+7/uxQHSuhRhDNvNOIPN79tlCIIqqQje\n",
              "aAMRi5qH07axsJ0nzxmE4QntQemfS3CWxsNDenBVEhVtseHe+vv8GcazdAT0TJj7PxtDGVZ4MPqU\n",
              "/qFzVNwAVFFRecABVFCagy23f/XMqi4vRsNT3iShNSd/Y4ejNFZSsiMHTltELHSrvvhJD1YvEH4T\n",
              "i4SKFn2p7YcbCA+ffP2qk/6ad46LsoZkAWwbrWnt1GZyGi7Vjf4j0Uh0gSIESD91TFyTg6VOSX5P\n",
              "AAAAgEGfT0URPBD/AARVD3eQzcXHPjJSO+OTTpE1biSIX7HKNZMAAOH89sMDI5pvDuv+X1c17AFD\n",
              "UblN8QBPMvINdcZXDD9AcXaGbDqS5xJxu8zJ/lUN2Z++fZmshTIG6NeksVm4kQGz1C1fv1Fm64a8\n",
              "dHV/J+HZ+n7xMARv0mswezVBAAAAawGfbnRD/wAFHFyIScOj2wnsAHk6AC2/m4inl2OVSFTdOlEm\n",
              "20LJWbvD3Ww7DXgVbuFdAkELBkO0x4gWj+O9MFc1r7+8gwP+JwkfckyswXW34e0VYeZME8JOHcC6\n",
              "mptKs4/CzTGAXq7er3oQAAAAKAGfcGpD/wAFHR/b6IoJbW4c/DAT27ZnP2NO/tbxJMB17Isu6zWy\n",
              "V8AAAAMCQZt1SahBaJlMCCn//taMsABx0O28Ulu5YARwQbhqyv2NiRF6f6BIkxzG5PaKVkRYWo0x\n",
              "DcwEVRXlQXtFiTwGoLyDEp+mgmlORCjnMAjcyAqdQZrq+S4IeslbCtDcJPmJm905luuCZbTodww9\n",
              "eErRDvmeLJr2PgxU+kJkQKaj/6VHdTh9LEcfRi8XQNO5EYlh2ztcCy45rawy37f43L29GGQldU/b\n",
              "AE4v4gPYUjPCP4bltlACzPJ83PGz9KOzAOmzLjP8KophdJefIibbrvt+A6zJHys0ZDQZ5m7jhzso\n",
              "eA7Nd240u/mZoBSPfZMFOGyPgq/QIN+PHJnNxa5kZtpxVsWQ6DN6480L550aeBjhjNq2EGY9GIt7\n",
              "x4YDTb9HFM9VHhFv0dD3+wHbTE2HebjwSmp2MVEg/b1rssoxfiAJbpMu1lmJ88q+rKI/R0V8U3Rb\n",
              "gW4IDc6/X+cfYG2g6+YymPsx09uzBMyysrc6cgnBOUe+5/s0O1Z5v28fPEJ1EhQKprN8vSVtWW+B\n",
              "de2rpKx/REabW3qCYJrif52y4I7LmCSfKG4yZht2EMeyqRQcB8e1bWJQ8+KMlHOVJHCmMjQXXmBw\n",
              "Bj5aIovAAO3BK55Wwsnxiq6Tehm1cXOVkvUVwRp1E6q5qd+T2y2R6zi4UgKu20e0R4Er4O/32q9/\n",
              "Vq3fYohze7SRlubql4KOiwGC/HtJqQZEhbq2SoZL+glnoH570AVYt7HSpsm3ZNVu6Qjw+h3ACBGY\n",
              "40AuTnHB/0iQF3c+rCK58plusRHEFxpbD603CXKNDmvE1sJFJQxULAg/fcsow+OS7ButqqrJPvfK\n",
              "aCKUjlrgUPWj0Olxy/TaeIYatQJFsu6dT9kGBPk980w/HszbWY6ZjUnXYOVNiwhQZOzP9NPbU8Yx\n",
              "d/pZwobb3XVP47S0l51fFQC9uE5aClrYsKCQDLUHy1BK5VzV8pLTo7B5WWLE7SB0z7cB+4Fa6+uB\n",
              "TLGiY/VMQyafPvgdW4P9iMXgNic9W26xeL1jlQvsn2a4u4EAAACBQZ+TRREsEP8AAkrbLhhuaMTw\n",
              "snHq8x2EWDWe/K2IABxDnc1hC00iEP8zZcZEhiSQGiofKgJ15b7G0/A5GU7sUFqtdw/TzTkUeRay\n",
              "1/bmXhEaNkplJYNF1RD879OQitSJ0z8Z28Cmq35+W1eRBdFH9O8XxEdT37uPSSBDdAkQk+JgAAAA\n",
              "QwGfsnRD/wAFHFyHmbIwHLCIIF8HxHIaOPTSxKgVrky2W/CeSmuVO0f44jFxQTIvlA3WnLfsWNF0\n",
              "y9FbXc569vMWbMAAAABJAZ+0akP/AAUdH91U2SMfpfHw1ItjGCZEAK2D87nwSkNj5Gt843SG2v+Y\n",
              "w80Y7zzTs3Ta3GRWk+77iG+89rBhyjL9fziub944KQAAA1dBm7lJqEFsmUwIKf/+1oywAOPBWwAa\n",
              "sMhLtUF4TD2lBDIM46EPGH5dIGLjWQx5hj797ZFDKBvAnekCtNKpQVkdv2xBOJnhR4km8PGtWtbd\n",
              "gfMOhFchYc0akCEc7XPXqr9FSgypxGQMIvL/0EhzJY1rhl/AF5QZ2U8oBQEPnl830Z9Lx1NyCSZO\n",
              "Fok+6YuoqIyWU5WL7Hc3HTJRLI3+Nt+8tQm1ZA0MMIzj5XCEd2ofIYtoUfooxik0E1nDLwIJx+r3\n",
              "HBTXVka0Vi3yXTysMevGqIetpWDyY9BRXzR/qKYxyJDqWFvutJ2/PV1JPV7ci9WMDr54BW4+rOej\n",
              "LVJkQ5wXVPvBLOOu2KhuhCg1cJPfNuX2OkrmwC59ni53q3O5VDjoR5vxeiFy2ggBkfzRLgnuQi9b\n",
              "QGDTa6JGTrpYDokqglNB54KMy43U6nGdnKOp743iwcwuot+WEQ1o9DWFLlf/lAA1u2v0p7wa5Gx1\n",
              "sAyHtFc6/3pEKh1WbyNSjNTPpEcbOKboerMxhLk3g01kfhD29+v9n2F3nczCMj3sU+1EsiXHmJm5\n",
              "AQFCpAxV2osc/R4kvTuGuHRoDIhP2zyvdGyAdLRKICdbyic8r0oJsYQSenMRw/6yGf/Gc1E7vk0S\n",
              "gM7tfyuZFZvc46sI69ZmHSOQt5YuBk4I4n5MLhDS7KdtdDOOwGPYHsYHyfOO68tpYPJWSyiK4g2V\n",
              "fBEL1SuLpwbZM8FU5BMsycdmpmnEWMVB8KcrjXVWbdCvS+I6FLsL+FgZzf63ABvmfAjHOYITv3K2\n",
              "XZQDOXHL0L7vZEesePVY9YiQuVpIRYsbpb+2IdrBSrRXupfCvc1qwM9kPJe3/p/orbZEu9bXZ7eJ\n",
              "RtkB9Ws3unmlOhbpWbEiRnYF1xdLpluH+KfwIkRgxUJzPdwlVqM2An8bIc6CVkOPWzmO0NIMIhex\n",
              "+k+NhmvzilKTOD1kh+/fDeQnntLvbXi987Q/sFggmNBsHt28GWtbNolFw+AOoA4ag3PZbcmi0kd5\n",
              "xUyKdCP2IxHg/hWLVMFmB3lwBUWIF2bRt9lGNZeExKeWb1613baGRcd8PJp1TLku9tIDvUPB9jgq\n",
              "aRX37s0y6JfDHQizxJFxypVM5FpvtJI29b2oyzOmB/T2ptgAAABoQZ/XRRUsEP8ABFVts2i3DIcQ\n",
              "CPS+db22llSJZ1vxxKXfY8rikjW/gHfrFQlpSQAvo0Ep1WhVd8wDl6SFXmFAB4ibw/Wc5WU+HMCF\n",
              "TWIFaOw2vtYh4xn1s7PGFZclH2J/ZB7obQTO/PEAAABUAZ/2dEP/AAa//03ENrLWyEK5r/nCn8JE\n",
              "EuF15iQi6MI0L1ueUVI5vPFcx9P756tDx1p0b+F9mQ9bPGGtlkmcvIxj5OvBG5U1q19knOjsSwpN\n",
              "gpZRAAAAUQGf+GpD/wAJsEuAJpVTA3W2DXgtp8PhHNLO/huOqg5OiZ71F/slgCIIc0LO/IhoND06\n",
              "Q4BY+vB66LPOl3AGJy9f//xg/M5x3eBM5xxBsTZNSAAAA0JBm/1JqEFsmUwIKf/+1oywAOOh1Ee3\n",
              "3UAWQ61zisp3+nLX/f0ZFe3I3qDwfBmuITG0cbUoPjVKstTmhNXthGdL2ZESgAuhpFp+qwC3IP17\n",
              "eWjxh7z9mEUHTNXTI/sXJ+GK+6D0yuVLmQDFAS61GV3h+7Eh4F+VdTl4sJrVCOMXjmbyO+i7r0Cx\n",
              "0JBX8gSijxx86K+NyOyTOsPBkmDtnZtWsF9UEt977XFelfPgYLZEytV0q9cdgNhbuY/Hcu8bsrvF\n",
              "Xj+EmJ214ZLqNp+9EM/B9WFpVCnE7aFcuj37xPpOJ5YrEntmtJ17pmsixAEa7F0WG1kafqMaaFBJ\n",
              "IekSgZ6ah2n9j47kMrqhh9nGtG0TVT278W9jPMSeX9827hnoYkmYMBvASC72AxMGJ/vQu2djFaFy\n",
              "5dGxMPLhqRymUo8vDf0G2phpK18xu37eXK8q3QcwgI74NdQHwE68ivjRV8R95KbS8EWdi8LWmBr9\n",
              "n69wYh0Y9UEqW7Xmj9xjEGgrv3VNn8j9BMg4k1IHCAdVGEsmkmtNf35ZKg0R/7AJ8KeXe49kJIli\n",
              "kpZzj/BYkGWMOLb5fWBnwzonu7HZZdQPDEmlx7FIp/7N1ONapnvlq6DPaxCvrrCm50jmEhFRobKx\n",
              "vXdk6OkSFd2yB40AXRXeho/z+KQyOq5NWRfUh8Pgv/GyXuoKdOOq67/GFkHxDp75aYSqNRyFAJ6S\n",
              "AmxKck0d4k0ehVNLMSgeIKySLeorTGTCm9f2kKxlNLuhyZGZjQh/jPtLggvKno0D8jnNloRIjbdp\n",
              "uq4hAyk5Q/DOqxWR4F0sWFZwYfsXEauKv/dABSVPzSJZmfeb0Hbz0RRx2qax17sbGl6OKG/+NiBr\n",
              "s0DdzxSjYfyvU2rX8kVnMo813GrElc3mhhAShqyHrv9GiKVLtmprLMvnPOW/XzA1MCNfuGVnEXH3\n",
              "WB/4FeBAQ1NICPLz54ZsLgYq6b82KV+HS/XXnuPNVzxkYcBHpubGl17Mt9u1r93cnJvj4aVUWOo4\n",
              "QLHvs5jhrVNuFmo0niJHhZNgS1Q3/2xV0Mrhy0EQymvcaeUEsXJD4IRQugQFaRZekBk8c46d1m00\n",
              "eaRSwgYnNt8fJ7e3eC0AAABYQZ4bRRUsEP8ABFPp+u8AA0XgsMAuI9h7MrDvh32gU7kWfq6+fzOE\n",
              "TS44USVCREsyyS5O85bJJ2KsOtCJpaziAj9DS81+1E3TIyGEeAyQg2tsQXvqU9FT4AAAADwBnjp0\n",
              "Q/8ACjqXu6Mm2UAKD0/vmbuqYrQ6lhY+xMZFGPP86Y1LFWmhwr2WLDq4D4koPeTD/aebnRCP8IEA\n",
              "AAA6AZ48akP/AAo5PhR4PXRQAVCXAOdSoh0NTqTTEpx6mU/Om9j2KZ48K4Xxh4Y9N9GuMkRG1huD\n",
              "rQZkHQAAA0hBmiFJqEFsmUwIKf/+1oywAOOhOb/MHksAI8N4drRWIBZ0mh4V+i0d11cLVmA98HCp\n",
              "YqqD84vDKIhMoi0FlIb2hV39F9NKgD95Up8LtC/y+dQwQpn3Yzg7PSg71gAahYQ3K8RtgWb4vS0g\n",
              "brC+V0HrDRw3BvGk/BupFL1AqP/mRCWGAPfaXrFLGUsKXW4OrzlzEbViGOQQVw1RoLjciAyj9/pl\n",
              "RyEzVV24joEsqBB1Dm0EGhiXkP3EAnrOHKXBS1ciiWU+FJA6fwbm8uvAql1OAgjT4GJe/6jCxKXR\n",
              "K/yuzMYKuG6vZMDjUVduIfF78Tis7Z26/T7zCcef9s8VUambtgZyw2qKw11QzljTX8rJYR5AZO1P\n",
              "3xHUCum45PrDDxzonCR5IDHwdRx7oQksdDSxn2i7mzO+0o6L4c8fiwdgYhYvy4UoDiZWFFrO4Hi/\n",
              "tsGND6morgow5t7FQnIcND4MNmHFpkzaf6/gW6iTJvLRi3DLWlm++mcCUdysxOQU/CPOignY0CXH\n",
              "XD3poxfmRCef9pxlWz60baje+qL/MPzbyiQ2vVcD2dHlMUUl0bfx5VJFY/bOHcjzYOl4lKnEQIUS\n",
              "2RdoU871oWXTucY9OhqObIUkeZSnxvnBrxHLIqvR+eXweNL6kednKfCcnXgvZtNXJOccjufxA8n2\n",
              "CkMIhbA7H6L4tXayWR3qxGARPPYICjx9AUkQdRuMbCGqSDMvJRQzRsrjkJ5HZSy91sxjtDN0UhZt\n",
              "W5tnXKXEPebYm2E3DEBjtiZ13JMsNwfFAAhJ3X1cPCMkzuJcUBA229ebVgXT9pJmSH6aQkhL9n7Y\n",
              "pHjwpTpNggS2RTvO9amR/nY0R1sUt5OQfmKxnddMv/iJeC2hs2wE9OYHeQoyx+4V9u55LL8mj9ul\n",
              "unbz+mrgFr98r1uOVKm/+0O8fIoRJ+gpZeJcXcQgwzoti/IneRPGAPj22Gy8B4gky3twG/j0qzYv\n",
              "ZsdoZP+KS6yTe5QEiZ+tIpl0rpbqFo+0C1r499Xl2mTO1tWKuJPlC0x9nzcqb9nZrAz+TAAXUbl9\n",
              "LWBZtFQknqFePzBFqkmoah/SPWRgmOaL5DW4hwHJWzRrCBi8UcvudJvX9TADdT3RuQ8AAABdQZ5f\n",
              "RRUsEP8ABEcENaZMaeoAavjmuHZaZjnQzC7Z29eKEVqznPDlO+wXo/5pcFSXgXJb5rtfcMZGiMy8\n",
              "+B5DELcJbEYbiUkXSgjd6ynj3LOKWQeFdic7RpBRt+wsAAAAPQGefnRD/wAKOpe7oybZQAaTUYO1\n",
              "958oY6okcKuR+W9zUobuYhENECc6feBoun1YXS1eRzw0GUOiKGbaZUEAAAApAZ5gakP/AAo5Pe24\n",
              "em5FK+yIsnHeXkQOgI+QnL06DR7I9UgZHXJq+DwAAALXQZplSahBbJlMCCf//rUqgAN5NObW0DNl\n",
              "ACwUDzQcZzRTWlsnOefQisQFg8cbMtUNvBAFr30qaoSiMXWSmwNyijXKJmADsnXXpXMW4d4BLnZE\n",
              "r6J1Bi3E/sofUGsXQAUaCEmMzgBcZh0LminGiZUPDcliluwXfxPWzx0ElxAEhX2G8644UXtzogDN\n",
              "0MGjaoe7Z9XuqXZPYnobj/pjaCedBTmo1FeG2zDqo6zwjmmtQ1ZH6OahXorCINFnJ4a/D0nu6Xwt\n",
              "SNuPIfhyqfMAjj8/NJZP0/fEbQK6arZ9YG+f++ubhXLRxpfTpV0yy5EOyz5nv5+6DtKjnXG0M1ar\n",
              "cF8E0Q9W18Qx+9xm4SHNdui71Bs6bFG38haTOaIoWwOl0c6sGRoccQI1igFJPu9euR0kh9xwbvTW\n",
              "b67GnHXJbtpGw12Dj2u4heAT0r1rbq0DtVABAVFNlNKGYw9GiQb+8muCqevIC5LTYvZbxJCHiyB0\n",
              "lg26bd/WR8LQE7rpx31+MJ/rafXp0uTWajFTqHCizBSwFIAe+3vmnVlK/Onc+J22/HoFBXeONIOA\n",
              "RJz8HPUOE6f96XT3Gk7F7CO6z2KHhMYKD5Jdu+A84Ss72wpUlDUPQ/Q7ftOniKZSUTXKCmUFsSL1\n",
              "PU4pj+isK4j8cBhHDTg5jzQzNTcmDargpIYulfvC+dUfWCixgdMpnwISTublFZD0cLu3hI5cwDH8\n",
              "tHNbODLibxjc4fhC8UWXNJcqsBK3ZCLRvxnXrZZt5llLE84ioL2I8Ie1iGb2acaTt/DtIfVgdB/0\n",
              "GXVcHOtNMqVZ+ytsGYCKnkL5TiXdSNG5AaCQX74xYfXlvqCP8cN2PfPTF8VIVWArDnL6241hz5dl\n",
              "eH9ptvKtWXaa7aSCqB9GGjJq0px8cp3/qPR2wrvS1y5I6uFXJWkfsZuHPrC1HGzokVKzR8htmb53\n",
              "j922q8GpkTFTRxpTy+ldsIlG4QAAAEpBnoNFFSwQ/wAEUc1gvMWACJaNOpAxtNnzlX3tHwM7AqMK\n",
              "dR+1i1EDQJ2St/IindQM4U0g76Oo0FYdPPTUcNc8swoFmV7PpY7a4AAAABoBnqJ0Q/8ACjqWQAMz\n",
              "EzSZStkM2ydZHdpbkQAAACcBnqRqQ/8ACjk+AhSIxRey/tU4lQO8BlOgpFjD+4M18APpS7+5k2cA\n",
              "AANDQZqpSahBbJlMCCf//rUqgATmfdGElwDGhbAyszzN3TOju5V9yRUZoQBexmEKfcyeEMVFVFpB\n",
              "lQ28m9LoWdbC1gGCqazyd4QtFo9AGWvs4BE3S+V+O0LEPN8R0j4TsH+kGOIIaAFRN6GyI4DegLLC\n",
              "KYLGmFQ84/hzCKeULjoTtEdzLeFenuKu1ugh35vXFcODuujeDAY0HJ8JhMu6q7zrdgtkd+ZrfIJb\n",
              "EdQtqcrFu2UCN3aHUp7jxA6ll/J770LVXq3VDPzvev+nV3yYhAe1v/wQnGFZG1igkcOysLjVxrog\n",
              "LKDwzVVeCIXJsotFySh6BkXP3e5/x/O089KTfudwc8aIAN1GhjEdmAkbwdzRPeO0VYFjfS8YoaNG\n",
              "//TsS5RPbgS0stpJ22yejnlHWM1CvqxHJhSgjU6fMGsm48WoQB/44/U2/0LbL26UNgcysIztL0Xv\n",
              "bb50f3ZDdBF4ECvuUDR7yog2TKkigvDdDhfkkcZsIEPqc84O4hrMJtna5+XsKe9NqTtkyMl42KJs\n",
              "3BenAvKUWkaRqvnCMGrk0Yi9uWtulwukRbW84dlPJtR7KcU1bKDd/SO/cCcoOZyhhv5ohW06oaGF\n",
              "CYBItIVc/PyVS/vY+U4TswP+YMgCnJvIjX4U7XYtOtf0sUdcg5V4KISMs8KQGckBgI+mxdFjbCtV\n",
              "tzrto2WYfSiX7c9b2sUKj47EAy5aLzyRl1HfAu/YSnG4UHynbDkOQRJXsk5et4Df659yjLR843ni\n",
              "jAivqsYN44dEAvd3FHCUEyvnDW2/FxVnzv6NBu/SDBjuzFC+tcreNnEY26AUg5J98tvVMzV+fmQF\n",
              "xkpC/85QUh/AZgS1ZtPyGrjZ6aOegNjmApoSbiFwAMc/fgwMV2xua+WZo7Gvg8jXDBmzj/chf7Ry\n",
              "LiSAHRgHvCNGsPQcfzvW6Cyg9xY4yumcGrbPXEN2I5Pfr3w6kSyQDTZmphFfU8SrrJt7fiUp0phH\n",
              "2gFOfybi36VBEDHy0efz69Oi4f96IDZPMZWJ7Ik4/vuyhwBopkakl+q5jg9L6Y+kDDhQfSSIV9EB\n",
              "ReMgQ2wnM60d7m74SBnR0WL6goqSnwuxyCST1Gg+s1q4IrWdvZCheQAAAFNBnsdFFSwQ/wAGHCm9\n",
              "8CeR13evb5EsPigSxcEOwS5YEla540OiVZL/efy/zRRE9esE2UBT6ZCdqYywcpMXzaUFZhK4jgp2\n",
              "qz7pHhlJ/LZTPzA6YQAAADMBnuZ0Q/8ADX/+ohueZqoPdmlKt+n9kaThp89B92r1lKhAKNGtYJFc\n",
              "7yoWJA2DYgA2CTgAAAAqAZ7oakP/AA1/C8q4W8BB7kxIqdfE9PJYSL1D6MeuRmhLF5YpidZjsUKm\n",
              "AAACMUGa60moQWyZTBRMFP/+1oywA5PlHAB7KzBg5fjs/D8ejgzqpLtxKKPMGWJKE5ahNBIOxQKL\n",
              "6L1EmSoRGVErKRrIszQsMcOK08TwXCkWXck+pOmF9+58cuYtDcc+dR9185sSkl83/l3bH3ryJ02i\n",
              "ihYNtnmfW/Op318bRkAOU+uSSRrLGs1E9iC/C5D43Jrashk6TbR0p0+CmDOndztpyagcxatxjRjC\n",
              "Qe1qLh71NlHC4cNdrRyNkWGdLyKHNH+iVYgBo9bXExW7BAToTzSGfCf/e8/jkiMK/YJXExu8Ye76\n",
              "70NX/QKjC7jlxNDbeiMK15h1YMBzu16+de7K6Is0YnuTU/piKBiM+aadsAib4ZkhvFWZmmYrab0z\n",
              "fa4YoFykUkG6d33h966jGoKDFIef/04LZ5QYvWkCSe+Ope1oPdxbX7gyL/W8GtWGXUp20G7B6TtF\n",
              "vuJYstUr/oqQwgdPtDFUjKpkAoylZOHukEaWXWpLveJdtl7N6Ur9Yy3myTETHz/pXt3w//yRqUQ7\n",
              "BGphVTMj5HSqmjVHJ3qU8B8UyvM5LwMxGuZ/fenvknutcmXjP99w96XMWgyOGqVZl1o0JDdLsSQu\n",
              "mZ8k6z3469uKd7ApjtY+UXb7vEgw77K7+p7MfcZ81qCE6z2LL/NTvM92L2kyqDJFh1RiFLoqLJjW\n",
              "Czl7vDVbjjsXLQ1x6IzmJjFtWXMefX1GAkOSgWWIinRnkgvKHGo+HU9Y2yFgwXNa1vTD3wAAACMB\n",
              "nwpqQ/8AJq0f4GVSV80Rh5q83NqhgebSb5T7MnpqmqKBswAAAsZBmw9J4QpSZTAgp//+1oywA48E\n",
              "RABaR98x48K9cntsywIUgXVhcZ1zrmlPQ23z+SI0V16zX4sKvrgFeKOj+AdqLQNwZ9CRb2L51sHx\n",
              "PDKTLO0L33DaX38MaskdbZ5mAKr82/jvT7OxYqukUHMPdtRyNgyytfiW/v7F7NsDZjBx5D57y7t+\n",
              "WxFJdzq6GvN203GvdQHpwbfDYirqWa+NKQPvwoDK6gW4hVNff0XPdgagnR4ETetjaon1fFnLFukK\n",
              "oCu9eYOXd7tsLB1mloKeuuq+pu3UJcxcT6jhOZX6IpnsvO3Y1troCJdLCfOOQYK3DWd9YHal25hK\n",
              "38E0riBLCpxCWtIqQPA3ToJjvEFTPwllquLj7nm9FiPdOLS2A8yo4dv0n0TgxeOnQQDBepm/lE6H\n",
              "gEU2aq1E/wTCqvDOobxHBjsvR3MC4haK8IwWTpGKjmNFn2ak5rDVbE8oE52iKmc6A+XBdQ4L9vaM\n",
              "VWaS2+KCXIBsq1b6LjCbkq7T5b4ee8WESQvzq+mxnLD/r1XJDGsMAav0qbcq+O+hquBZwFCIl67O\n",
              "U9/3Pe3llctWQIYUMQrd8J6KXsDCeGz7RNptR2RB9IcOn8bBYceXz9Q4AYtTnTJr5hjO3pOlJngD\n",
              "l5c6As0gCsAQxMMmyjhTGOtPTTGD2kXJfCnTCwEi+7GFYnMTwy/rNi1ixEkNVQ0U3wWFf/scVxdW\n",
              "vqYYLcIcwCdFQpANeqEiVTb7Zyb6nA0mfM9yKa1bAZIruzoIx1D7B419At+9sqXh49uMWiMUHDxr\n",
              "zMtAsBXivOEVcd9tssV1uu8eu1/p/JM8fnb7UxqtEKopTanNm3fvXh+Q53QFVHWnUzZ2PZTV/DOQ\n",
              "iYdqrz7LUz6F5jrLLiDT6fh9ai01E8DBhNxwhsoSeyoG9e3iDuHyYFFWLn6o7n8bhDqZelyDA/Bg\n",
              "6ddE9N/GBAAAAE1Bny1FNEwQ/wAIq3z41bi3YbW/dh3NZTLWWB+xaUdoyEmnSRgypQCrTuwA4avl\n",
              "co8FZGrYW0i9ZrZPfq9bXL5QOJdD32x7SDrWq5QXvQAAAGYBn0x0Q/8ADXqEKmZfYN2mqgGM8WgK\n",
              "fr8q6X04RNRyQX1LyZmAAXLO+coVcxCfixTjJx8Yf3MHJ8ijzsEYTRJYi8uzB8YH+OSyBcDAKqgr\n",
              "HYYdFwJCkdSCudaLeB6gr3xVYN+09IEAAAApAZ9OakP/ABNZe0Qe4aQPqnDFEx6puDcKVpmIg7Bh\n",
              "iXl3OxryfoYAakEAAAMNQZtTSahBaJlMCCf//rUqgAb6wp0lQCzSWUuXhE2rygzAHhbDQfs6TYSQ\n",
              "djYInO5ksp/U4Z0TPOgckaAc+sOTsH4NJEkqbnydBmswoDrNdNCo/iz+PxFDmlh+sOZCqQu4iV39\n",
              "QUzwLfNZ6b1JJ+lgS30Gx3GRMwQwAxOSX2jo0DmJMIOSIWr2wiD/J6yVf2XvcPG35DpAJqwoq2Tl\n",
              "7jIKRrU/JinG48wEjdv8DLx54BckCaJFG4djLbRbf4yb7KEX4pg7c1F0ryg6KTAxiEG0PvCbZInK\n",
              "+3CkStQ/7nW12LmfGoVNf+/jOLGIgmc88FOBxmdF2PF7exMpOMcUQzV8ZUvPZHRgu1XTelE7HZF/\n",
              "wK5YZgS7r1GctveNw+ymzvwEuqTk+yqSjH6/eRG54GAlnGYPn24IO7h64KsdluknaKsMKGMBYPYH\n",
              "mciLycOjOLps8R3dCYzl20TTgwduAdkzVCDO2DoveBCFs9KVjdR6W3yjRl2ZFvELKkdcazjE4VVp\n",
              "iX8GWak8LpRgj6048pFf2dXSBFyXzgMDo71x5LDcEQeJXGRWZJkYyU9NltV4Ax4/0S81HCRRgTrd\n",
              "rc67LZu01lfFZJ6ECz13Kn2pXsKoQDinONQ4VnxnRvLCsg1DW2TapnZU52bchG/jRS/HnV8RHCwD\n",
              "SRor1k96ouMBPt6FiKocHNpNSs/WyfanR650nrIo7ZMiky+lKI/MCbfIDasV/DbHHoVkMMJBWhHZ\n",
              "XvEsCyMziMgUhg2sx9unCCjue1/LdDoHkv846EgZxrSrRawBAkSPH320mFmg4yhS1Ci1eh1deYNp\n",
              "df7ifVL8WGrjIhcgSnjlyjifOimpy3kjYjClX/TBIG46DmdFvOlDzsqTL/D0xKUp2kSK2KSRBpJG\n",
              "eaogcnt/cNdXyLNyMbhKZgd5ySI2QJVMmERDMdkbmf/6LQiJl7/nq/0M4CFpFYPnuudzvl4Mphei\n",
              "km0sm0CdKIagpBzxEA4ID6F1x9Ko7tD66HrwSq1Ik+x4CqUfxx/qSUcpvF2IX6epocl1ssJQOwAA\n",
              "AGZBn3FFESwQ/wAIqVMud4UqgnZIGhZSjtdMpC0r3ichxlX5vvXT+FQ+AZ4lDNlTdkAOQDKAA2je\n",
              "I1l0WBBqEcIxB5bZTnbNn4xEzpup72ajz8bheLkHBGNuAmIexNAjuEvj0dp/kzQAAABIAZ+QdEP/\n",
              "ABNZcR+Jmhit8G86rQCD1VcBRe5fKJ6qJj6SyA55XLz/r6sxjiW111maHmQpfKAS166jSB9aYSYr\n",
              "IkRA3WjEyxLZAAAAMgGfkmpD/wATUOtzNwvGF8M3L9QHpq5AT1TGBAqejGgzhP+7E77dhuOa3z/S\n",
              "9petQKdMAAACTEGblkmoQWyZTAgp//7WjLABybU0OzxueDGT/ADotOYLXpPjTX2djVxWoxx2IOTM\n",
              "I0W9mJaFP/yLWIlJ6skYOhCNb1QNnnQBtIwOY5e57R76fJj1h/7Udd1TiEKiC/UyO2BmTnGt4yZy\n",
              "DTxHGG5zblN9AOwyZ7NrpqyfBsJkrScZxNvWWKOr6Lqvbm1sdFItClYZJ9TaDOzJFERDTZLBPbKa\n",
              "kvbMd3S8GkKVhS+Yt33M2Xat0jLqATwD1ZA3cbuDStqG4eJjiZtf6EeoXk97eq4aQBJkBeDcRa9D\n",
              "pxfv6e4W+yNhk9GJmr31oxOsrdbcAlLZL4Uo3S7zAKLeg6Op6adsBsfiRVgvS8bq1X4O3E6lifQi\n",
              "bKrRW/AlG74aEKTBzkNfprQeBNQVdpOr/cEqiikuwzI7Bkn9ZfzQyp5/mXrfpzLuYZ8wguU7R3jO\n",
              "qjw3aFJc0ctp2QhgvepRGAZcoXrj8+mJWy/IVajrrVtnrg8CLf1yb59ZqFgH+V22KmGA0rDYKtsk\n",
              "h2k9/f0AHkNbn+Vs7Hw5I3O4nh+9rES2/FLwW6x4LbgquhiOSNPMZBZOdu+/hGniCFhJQ0EzNxQ/\n",
              "UGlN4n62UhD4r/MMngNANmPNhYy6SLi9RhH8FU5EVdR+LccL7Wo7zgF9lrGB4GQ3VRNZ+1KYURQj\n",
              "6SrA0Oe3SAJ761xPulCZd9r8CAxW+3v7pOeSsN+sjxtD/THnwKSkEiB9b9mtByun8BPKGbmuuxHi\n",
              "l0zUfBgxCTULGDP9lrI4Llt2gtLY0EP6QtwJgAAAADZBn7RFFSwQ/wAIqwRVHFnXaaoAvO4DLAHQ\n",
              "fIjra342tdh0gZQdw0KgBXAGmTywa+vFux8vpuEAAACCAZ/VakP/ABNUSLA3xcLDQ6tcdK/JQQEo\n",
              "AWyY6YvRGe+/us7X3J+CJMu1ijbCb2/ZfUQ8ZFH7e9sPjoqgzE3QBV+RJ1qNJ0GbQvYzr7rHhD8z\n",
              "Es/BiZuhxH4STAWzWFwtfzWdtHCvQKiZgc0vcPlyJDATaiQ3yr8Ufs+wQEaPjQV9vQAAAndBm9pJ\n",
              "qEFsmUwIKf/+1oywAcm1NDwPdAC/k2Wlpzi65B2VBTH9u/+G/TVcYIRUDpq6wCQ/RBm1LDkwTJ/v\n",
              "VhE7wxUzeNbnEWN9IruVw11btb/ZVej4F/YDg2rVdis42B7Xj34fv2BCWhbWKXZoc7SgX+vvRWL4\n",
              "NCZbtH0/oaOPc9pSnrzRDJ8rJHXYnST7cgQVI52iQzVswTMwNLVqBFsaNoP8YYZGpP+y0mPNed1M\n",
              "tqrqTFdQZrBIiEXNQKVrMEGCurgKM+d53XZFtctOMmoaWWfuqAeuZzqIYSlH+mShXVP7dyREvThE\n",
              "dS4gZ1ghZNCYwtdXXo1I/MS+FWnwC9BPdNGlZcJXdtlWHTLLL8C8C8OupQHKmBErF/ZwEx5kJ1pG\n",
              "U1RoDjjWrco1xNYf+hxQhsf7sIOHSQUnFsSMZpzJunIlZxHByRoh+3HyXAMR03W8GPx4Vx0/qpNl\n",
              "nQ9fY8bbPvV72oY7lEaZ+lOyovFiknjZm6FC0+2O5a1IHAG5XytLJZOOURRO09CAFjAVWYueLksN\n",
              "JSpqCMbP0+WIZBLSr6Z/aGkDTRKmxfGACe50UknDTBaz8DUfKibHXhrGTNyjV20/3WAKIqc/a0VO\n",
              "LFKDkN5XAxiA+b2aIxaBonxUHXWS3jfdDczc3T+BAko9jivyV0JEV0d6TNS3/NZEatSDE7LCGemA\n",
              "yxTGq0X7aogW9mwqjconcZpCrJTkmh2OJIrR32LU/kG1nPBulh6L9/tSg1c+o7qtBdjn8iv1Yakv\n",
              "x8LBxlQ/j9pIjhgTBIwbld1lwCdIBa0/jyfeUljD6vcm/d++CWeCPnLd0hdZFO2mKf7Pp0nEJ1nB\n",
              "AAAAUUGf+EUVLBD/AAinUq+YdRFSsaVrTO+h83PQKWn9NiA9PTfFZDCi+g0kJSkrQAGjEGz5uTJp\n",
              "/rKRTKsq1g/hrLLRPZNyEkE+qMZ9qZ1IvHMYsQAAAIwBnhd0Q/8AE1k072Hxgs1Q1EjA4RSzKUAF\n",
              "ymPJdPcly17n/YUyr/MwD2LC4ArvlqKwTIW9Mn9ObXm3hBtbDeZ2+T6FA9S6Ju19LZaKcF8EFQ8g\n",
              "CBTXYK126+1+duo4Oan4Y9pwvvCp/uZmM4sMOYqqLNOUJux/B/FmHDeWJztOeZMlfty1ZLJhUA5l\n",
              "JwAAAJMBnhlqQ/8AEyDNY4RTdnBJWSzl7sWpDIAVxN0TOqnZL10A7pTg0mAlDAqTzT+oqFmOXToA\n",
              "u0+i0peXHBtu+mcREd6USB8cghRd5M8FymR24XvxBKLXCrMqknHalF5GnvHWIUlh3ax6/biUU7mG\n",
              "FOET1ujT4piIBZNSdrRxL9Wcf5GZvoqDNc79JdrxaBfyU0UcqmEAAAKtQZoeSahBbJlMCCn//taM\n",
              "sAHJtT60pWEAIGrBgMPx45kwJiFbwtwESDql/mQgOwqaoLap3v7BmCUsWxeJI6BHLHawJL/VTwR0\n",
              "UoxJauFYlwD8AzRN2hCmpwgM9t4BcRfv4XlRzpRAA78oQGoUPhhgF8wJkvnUkrFm71Fa5knGodlh\n",
              "L+NvTrPL1XK4nMyp9Q0V2+YtF5DCS7oBk3IWB1A90qhpzOcaP+RPkBOA69r4S9XZfXKuacyvIZBs\n",
              "dlWBBJ4XsWaPryGLge5gYlQbla8Tu+EfFjiJsr5yuQIo3v2KMNvZB1KMBPI+30Kidxzk0PPk40Oe\n",
              "r34F9U3KeQPFoKzQSUT04kwLsf0/6VMjuniimbefR3MPROnBeK/46ifCJXI2nQNMzISKXW491B9z\n",
              "Sdu69J54dj0PMV7i3VUCXHdaAr0mDb9WlVWbt0OeB3nH0k8+CyU5YJfxcTH9NSE9p7DE6fMHcMAR\n",
              "xtOHASLjDVSQD4RicHp8SOxuOM2m+i4LO7IcbvmqyROv4G93e4IBGCBQd6PKyunt7eiVH8dptMdQ\n",
              "LFKH7q3iz7zWmrI0thzbTkTuefYDC8emG9KvC5FjNBItEUoF1f0PyES/qkACdjIu88UV/CTt+Vkb\n",
              "XTbnJxXaT7xBJToN7j/EQrubl7drFs3+CziRuQPuis7UL6tvZ2+hmiOO0VpZ6vdYAvEWnN2VvUrI\n",
              "aZr85/M194hYSt+V0h6l8Ac/wQF7Dv4XrfmXcqh7LFsYu5u9fskuJMJE6TI3RLh8Gt1Bj6UYLicI\n",
              "69Ufuli2sUinL7TTuPZU4NOzRz0dIzP1Y1tx0K8E8oavqA6QirxUZLna9cVmvV5wW9K060R8+I0v\n",
              "iDlWlUCbvH+/r7ty9r6YngfYPNxojV18QOp55rDJc1IXys9cSZ8slJRbSQAAAC5BnjxFFSwQ/wAI\n",
              "qwNMrd3PdIhFNdXoz/j9AS6VF51BpXGBzaECY/ukH3dd4M3BAAAAKgGeW3RD/wATVi3Pwb+Q2p89\n",
              "lXduJyEInXWgY1sB3p6RUbHxk36S1cIMoQAAAIwBnl1qQ/8AE1g2yDKFZ+KELNACUgtwrK1hmmS3\n",
              "XSeejhsaMYBC1/FD9NNmpZGeK1FS2KYjZ3AMChrR8tcTQ7hi2IbitK8T3e+hItkhSbFTxtwg3rcX\n",
              "2G+HBSm7RkO/c33xYj3/ON79/Y2q51NAswW4YCCWbtiKVL8Xh20XGdu03XFxYIqd+KqGnnYhQAAA\n",
              "Aq5BmkJJqEFsmUwIJ//+tSqADfexcvm8HmlvzXgGxvcuQrJ+HROujmxosCANN8heu+c+yYTxOjEL\n",
              "X58iMezD8zsQli0GqK1u6lBHWpkmaqfB+9UJu7jS43vk7YlLAF0H6hSsVaicZ6RZo1L330LbM62o\n",
              "3qo0Gwb9V3BxZ3q324ZcLF97VMjn5Zhc6nWqPjGXrrGfhh44VXGbi2WPnel49BX2cIfgob0dR7xE\n",
              "z2RwCXPPTMnqvf93SKL+J1tTgNAMjhXkKAdCgIfMYL9e3Uys+CXeOmqorWI4GmJ7ynMA4oQP2Qb2\n",
              "MoJOHn7Jij/O/0AGpg9+BnQxSVZ/iguUY3KXCk5NsV5JVFcQTNjcMp5sB9hyyTvEzDcCD8j/7Rjv\n",
              "guXjOd9Wf57wLPwZ6H3gHYzZXDzc1KtRQHs0JCB618LDAiQSgWC/PJMJQ90lYwM5GUpcTOq46/8g\n",
              "OZS4idYiSAGjmekcvz8BAhtceCSDchOp68DtHllEvkOw7r821Fc0ia3zipV0daqH3SdDBhqvOalH\n",
              "AiJdj3mkH2rgSx2bwcxm4kyZqxuCtT08VdnnVHvouGRxlcGN7Wtp53Lb8VSvRM5UFvsahRAk9oeP\n",
              "I6lr6wULjz0QayJLnUaleEJNKi5I+AvOuQ09PUngxGp0bhosqyspVPEcpUXLGzWX+Pq2EGimT4CP\n",
              "BsqZQfZyqCI4ir5eEmoVKAIAvr+uSK6RIYFU+pjGOlJ/7iq+UkH8gNb0cxoebcJu1Ans36uVkCpL\n",
              "l6XMleTESJ3rMHKfJQ8mQZI5kofEA82uwNwzKkcSxOQFfC0ujRsMaTd2k7+xarUg9sBTOdHm0CMq\n",
              "1EQxK8BaEazFydezlLJXF/4uejU2PA7uqaiilRA6rbBmW1TExSI//ctghksABupa8k7bDi1yDTlD\n",
              "woAmmAAAADNBnmBFFSwQ/wARVD13HG7DUwEU/tGZrb+WdBid/9oRiOdAHaVfokesr78wMCh8Iu8Q\n",
              "AysAAACeAZ6fdEP/ACarlNu45zYx3A4tUeAAWRXen7RwLhHUJ1Vy2uVwzdzxB5P+TWPRqL9cQ+0U\n",
              "TbyUd2HoM7KSvmi6ywD4+ZXFE/esnQR3XChy3+KXPUcoECrMfqhu9GQ7GiLxgK9hEGRu6/JK1I59\n",
              "VNrk1lnzNoF3MGJAiJIvDpvue4LRCUsHqMkMZLUKohUJgJWA2luih8qPQj9UJDJtjzAAAAAZAZ6B\n",
              "akP/ABNYi2dGNK6h2SjKNzwgl4gJLQAAAlRBmoVJqEFsmUwIKf/+1oywCSLFMQMRi58pXy+R5foW\n",
              "QmLb9WXElXA4wRBavz6K2urtjAir0sdFx3eATdIS/ypc5iuYnGQWt++OhhlG7OpStwuIPAAVfEz+\n",
              "3gqi6ina/rnQUZcRcqVHdLYh73rF9gdEZQLcR+qW1HqrKCFrGRqLw1V055O1YlI1DdHIGp1GlEwD\n",
              "J/cbDWfNoyIFXnc3LIFE8zFRTB/+a622YfzPW5rvZRr7GhhpdY1LW4uhFLhmQea5vintK5ttpnfK\n",
              "sJjqkrfJSyf1D9JOvSJkVIBKZPsdmhZugL0rVlG4TWwimjrrP3qwI3/eQeg6UxsuDBNvpSPAAL90\n",
              "2XkOnJVNJdKFwFHmfHnDqA05SpeD2TbX+IGQ1LZWetbf/UTU7V4rQGPxiuNEAoCDbiK3ATylyVgd\n",
              "Z30AFhvLCKaH230AOiUrkTcq3Xwve7UfWFskPEp/FgYZmY5EV/Ep5+XEB/BB+RwPF6YfAhvVGHDC\n",
              "gL3Pq7ujxcCMUqJBxYNFG2YVgnfFrhnxsJ8gR8AxTtMb4z0jAxWSbLjR9TJ/3ScgauMW4Gqylvag\n",
              "VgudWPx/nCHlpRGqvRiPx5hQDAIgeyImqexoO9Ix70IirkQWdhc3KzT1zYR4mQDXVqKkL/t5lta3\n",
              "GFbfUGNXykA9/DYu0qhzH5Y/wtlYQRasQw9qsX+Ih8sEfyG356UDbEzmZRbEULuuF0b5gzLvUHJW\n",
              "ULlvZ+kTQ2yaO+V9vQ1pZN/UcgEzfbZt0AcwkLlYup3O2i5uxZ676pduScd+oRHeGlcR4wAAAExB\n",
              "nqNFFSwQ/wARIFDvABBwIPq38g2rAOYSnRi0iXNNbWfJq1nisDwgscWlPrcWywwP3mxZDBuzybQz\n",
              "Mvev0hMYE0swiNY5yeeppF2pAAAAoAGexGpD/wAmsG2QZW3EM6CV8NACVDqwFqo1/govt7L7qmuN\n",
              "PfLCv9+hzLcNyUO3xuuvkQdxwvcEZKet/I4Oub+u2Jc4nZHUSL83qYxpg6Tz5SQKGbrDrupKAtB0\n",
              "gw30UtDDlY0I+X/VXRjhqKagbWV34RRq085h1PHlAiwe+5HQzDZwMAS78dWIpgf9Vjr3/ueU2Krz\n",
              "3aG6G6WsTNBIxvMAAALCQZrJSahBbJlMCCn//taMsAORrq5CoBB2Lchg5nwKEDKQIYozAHQ2X8g2\n",
              "gME7ayO4nDjl6tglx2UipQy3ZBoiwk9/sMPDUc+jNncvfGi3aTfQiN7YyWc299TzltDgvOuwl337\n",
              "H9FqwDP5zKMrrZfRXUv/3O+2TERkfwce7/ZkKDTof/9IUJFv0fL/+AEPAn3ULVEokzgxs6xZRce0\n",
              "dw0ZFu4rljG5T+RJsyZ4T83pcZ1iwO37Yel6GZ4B8XUhutrGFtFAt1jBbmOULmpqpeEA+SWy5mk4\n",
              "s2ila6V3xzZHWS33Q1SJG2QChfCqrNMhptCzVkrNUA/5mM9ElJHV8HyeQfcryxZ/tvuX2YQbaiof\n",
              "oYFj1dxMxcjv7FT7eYDvUMtWRRd0O8xKhDsqRmVNpdONMRcdpJ6mL2SccZOqX49nD4vhunr9DpUz\n",
              "Muy+ucYWN+IDUANnYzJU/j4uL1Zn0wbmi1Fe+hEyyZvPCEeX1tt1REExMsZmeKMP87LdXmMcaf8C\n",
              "GyrrUs92SjqOAUzs6vOtmXTJbbzfgDRl3MB8tcmPlJXO/6a185UDz1hLKPewuklT4xzgax4mzq1R\n",
              "C279XCc/uXozrvR17eusaZKiEZnVNuAd+qi3kb4O3lhOej03Cu1JbcS2pUPWdnhDJxwHB1+/p5QX\n",
              "wELeOsPxYmz/osjkQKRv96gvCWVufvJ63jtGgFRSE4nJu6Xi0etU0UxB9fk+qon1EsNrmoCc57vK\n",
              "0NF95WZEydhFcxL+R8xFk2HotxTX6TnoXzo2Bn8+Bz6OZFdRnCyqpPvYhD2qrmUXMGrilF6e4fPf\n",
              "zTpGJhitchIkPg0G1ENx4Tgz4UP5/1S3WH1VJFABXIdy42oNOS+0lXIiGt3hPGiUWqrVg68JMr2h\n",
              "Ntpjs9px3XMWyF/TxL3nIKWKHAfvH3QSF1/wr/qMtxIbxLTKYQAAAEVBnudFFSwQ/wARTX8msAAc\n",
              "8Ev3N1wiZFF1XgVVBetlMOKkGdiBXb65q+cSMfj+fJxViHYLehzrx6ikeKsi8IeiGEMMDekAAAAl\n",
              "AZ8GdEP/ABsKjQAr1Abhl6xDgw7GwLI/6pUPVW4C87ewp9hGBAAAADoBnwhqQ/8AGvzTOM+DuA6w\n",
              "6IPCSHJe0z3h1aQJUjdgQUHVk9gCnvUK5wdFY8/D+G6zGsWDfJk5vDjgAAACzkGbDUmoQWyZTAgn\n",
              "//61KoAN5OkFVxvUAg1eFjFKdhAihdLxclDu8brbt7MHAFSNi0bkmKWkbDN5mNk8X1jy0N6ApSb4\n",
              "c6PnG83NXcOuQ/D9ylEgK+JUUMjOpYFveT9BXFXqlHLe4KDRjU1uwWKjJszV88dHfqU2+XY4sqfg\n",
              "d44x1xPErnGXATkgbTnPNN1f3KJza9jwrS9BdQ2IpGD2OooaiqP/Rr7jBh17NjUCXNQQQjqLOLtz\n",
              "da257RjY6wNHJEIUekcEi0PDpBWz2wzjYyr7twjfXn87NJziHuTGPG2XFbCAgM/ODqsdOr/vWJHC\n",
              "5YRQ0nFAT+XZssy9mNFeAesbdPEV+rgrX/7k/6RViOm321v6VwGwR1LyYQ6BMlwl+A9OQJERnJdb\n",
              "Zpxqf3K0cKFnBlikVl8pF7o4t8OiIwFOJJ3PtUH42PRFqMN9nwI6Lr0yIZ6DWYZkOCYABql8rxMu\n",
              "8W48mScGr4pYVYZSAinQDQrz8NbBBJ+AzWfO74Hl0u9vKJsEJCBe7XWoQHgQkc9lEdpQiGT69mEP\n",
              "DThAb/+qot2VQ2I01dyJi9oo9wDTMT30GnUuzchFKWGhZXPVvf+fIeUZldoqZdfBl8QpSV7dqMt+\n",
              "w3oF8Lvp17oShPvPjJ+4pJNbHootquYg+RlwazdqsudCXaxITiQvaZZHFJgn4Yi+BE/eGGqvgzFA\n",
              "vyC6Kn3bagX6wJwRmLosyLGWJ/xei6STGDh4KiFxTzHjEapxV9pXHEs1N7hv+4iQ3u1P5jwXyymZ\n",
              "rY8UNO2lb9ZYMroz/PFzZ4u7egwdAn86RHObXwJSEs7Du8p8VbzWusd3t6DuQM9h0u5vKULaYDAw\n",
              "v4N2UOvE1twyy1C8UG0Z4cJy4f/a8zu2U2/VmZzbValA36qvbUq1Gm3LkDFRyjOA15atD3DiayNn\n",
              "ZfQbN5T9MGyhG7/vg226ZPi2YEy/nKkAAABVQZ8rRRUsEP8AEU+p1AwAql3Z/cJbQfeoRd73KW3A\n",
              "vHbfPaUP5oe4fx9jGsVxoFwfGazax+PP2aTK6cw2ONV9+chSvy2ht8yF55FxqDpVGZ5GSL6jPgAA\n",
              "ACsBn0p0Q/8AJpL2SnnuZRFu+ZA5TUpDL2Ts4pInqJZWEOc7G0pbix3+2W1pAAAAKQGfTGpD/wAa\n",
              "/x59pQa4C5E0tKK0cvECC+m2SB3Ft/okJwihlN1kwtJJAAACVkGbUUmoQWyZTAgn//61KoAN5N1E\n",
              "FTiABKbs3yZTWS/BdKtTseqz5dbTZDFvSKDC1RDKeFsvxtt599z2VxRVmB1thaOB9X2vyiv5rC3R\n",
              "uTLFhrBdi+k/gK4PzNCURpjVgHIuJ541Tikzx6XUg5QQvBlVN/ouIB5iObCHcUikqywm/Zfs9ija\n",
              "8cxpgE763v1iCksAQlu7I49uuVBw+VVt6TTGUc6uH7qE3A2mZVsU29Gz6/v+GTEtFjEbB0w7QMFv\n",
              "WYVx37fCElEblAul6N+C81HR3pMu2OEdF3TlUWG0Gj3fTASV8rjhtoUuCZV7NUF06wquzg36OmwU\n",
              "GtM5gY0Fkb0FVUKL0kNuSF4VQLjkfhQib1TtMxIIP0OQR+ZOkd0YDIxlaYQ1CHdIRRVTiHVVrdoT\n",
              "LphDGZZSRK/qWDPu6Gy+Bgkiph/E4+Yb7vFNXjw9cI2pAZqFMQdh5di9FY/03zr96MIGcpssb5Es\n",
              "dUKlf4gqKrKBH48tE9Y2eCS2xK3fVq2AqKaLb89jg3QSo5UIGEwM9NEZqAUWkPdwgJ94nxlE1jsB\n",
              "2AD4xs2S5mAH/JfsdtnDDY3YAJAd13+33IWehiK4ly8LXPWwrJMi12Deebd/54g/kQf41NYalhyQ\n",
              "2n4vBB1cB+HK7qB+IRz4PuPFBmh+6tXqseg1a2Ax6jtKLf7bIfAc5fwQWWUfbF1Dpi2xEFXNH/wT\n",
              "Dc9uYblsYE04A2ekponabGHN07VmbGHAXbOMheheesex9gPg+/adDU+NwH4Jui+xUXkeNBgV//Ks\n",
              "WtoLJ0mQEfEAAABUQZ9vRRUsEP8AEU+ojWAAK8Pv1BsCl68Qyq8e/tbMeymyqvQzPfjHnmu/62RD\n",
              "crI1nSLjSc9r788Bpao6WK8NAkzpeBMbp+LwePyXbH5WyYzZxR6RAAAAKAGfjnRD/wAKOpZAA0xl\n",
              "Va3ZjwH8ZGj3wXSIJCdixDNO7KJE4Uu2CJgAAAA8AZ+QakP/ABr2ceSI9T+ndYXM0kLu13YHbMOz\n",
              "/GZxpoDIx7G31KpGltQiRgqam8QltMUDOfjFxAtp5ypgAAACREGblUmoQWyZTAgn//61KoAN75VE\n",
              "SwBHzxuAP3W+eO3eJIQOnnW1UDdJ8tr0inDw3rrDzUP499NdAM40kILt1CxgpzcLwJ2FDQj/Ls5D\n",
              "9eBDya4BlYd7L3qneIgH4t8UqUvQNM7awBo+rnK7vaXXfwWDMwmUsjJGHR7HKtA+DyGiSqIzqgKu\n",
              "wOqfNdaHMGRtGx/fDlorJR4dQ4BUYF+NmRPaY4AXgOCAYd2VcbzZovptcBK/y6jDblWAWrWsRUT4\n",
              "PivtVEIKpjXiulF+rJK0XOvVLoOQIzKdxnLF+Uz9czoxAMvsSgMZEHvVNSPHUaXF0AdSwxuSSt8s\n",
              "LzP5api0ehy6xKPAvRMuj9ZmpO1GBv4PBzT4y03P2cMOtxW6Lc8PGNW2xuZKJW35qKegVH5+WZHS\n",
              "PuNPFjGjpYfL6XKRgeT1KKcs59otJdEY5ygh9B6HcqvTb8jq2eU71NW1AzetB1xa5s+rEtELbxBI\n",
              "yDhY4w7gDv61uE4DViKCwLKZuRVWgg2sawWDBaH9d9k15iHaZ2x5LGZXk+JUIarFonidn4xgE4WN\n",
              "zsOBKIGST+aJtQHFgF/hTjXF8v30U61vxplf5cpO934N7fia3rhpZfX90gYqAYnnNPZv/hxWrfSu\n",
              "yhxeU5JRmeTb2cvBLjsHbtfJPAj12340GU4IFrP1IxQe1Q7jVa6Zk3kn6/VbMB9+5iXjzbnRwv3l\n",
              "mOVGuS/Lwl6bloySCsJqiTzLunoPBN/dAriErFUfZUK+oZKXWXhc+vE/K9x+/2cAAABJQZ+zRRUs\n",
              "EP8AEUmzdrtl0SnPKkg9EkAGx4y8f4Dt2FXBTVUPv2iX0LgzpmgmwO9177SGUZCa8Lz3gw9XXcw1\n",
              "T0kqZ2zHGdDHgAAAACUBn9J0Q/8AJpL/TBQw3YKLJf4J40WRWCpJUeW6Tn0sakAatQQcAAAAIQGf\n",
              "1GpD/wAFHR+D4CTrFYE+jA9bznffAPEAnfjRaW3KmQAAAblBm9hJqEFsmUwIJ//+tSqADeSCeaYr\n",
              "iowAVxOXTSpLHGcbQlatnk7RxT2S3bA1ODCjIjc+rKKwM8mIe4WwgDnITZChsE66PUuGIFVgviPc\n",
              "2FXXG/WZhkHnBwIuwhsFxXiEYG3fJy0lkX11y5g27Btx4epHxwfMtGkP4D44N+5rakKy2k5sh71H\n",
              "pZbLpfeuNhTZHWdvsfgRJqJ2ZwROLs4RvUnHtyL8lrE9pLKAFs5I1Oge1E/tHIMUnsdMcPeJDzjZ\n",
              "XCIBaX2bUF786+Qqdzv0uKbt1g8LvwbNHUdo94xrodnNLInXxjivM4MvD/4NR/qc+dWFjsfwKpWJ\n",
              "vDvfGpWhrfa/aZwWCGKUx6y0UlvV5Qin7D+0Vv9EMA7ZY92Khmv7q2P07X66K/qkCcSL0vvCkvd5\n",
              "HluGzeoecUbK7GbwflX6YweRZNC1QIZpADKrKCghyMCZqcau9Lf3jYtpo0JbN+evTv9r3+wTAoBa\n",
              "99CnaFKJikir1YkMy69Thc5RPzDAa2W9vxZXE2IAav2hg6kFfwQmbVgguiPYbNkSZO3uu7W03LWo\n",
              "Gcwcn3USFvULcG+FrIe9uZww2A4AAAA8QZ/2RRUsEP8AERwaFygCcen3cj8lrqLtw91N7DMhJx97\n",
              "0zBBsWwnAXtfrm7EgoTf8fxmtoY+udaSRxWxAAAAHgGeF2pD/wAFHR+ChhL6ADhpxVEUVdHbp/uF\n",
              "tiUcLwAAAVpBmhtJqEFsmUwIJ//+tSqADe3UcQMAERr86x4D6AM+dDEmiFRhWptm4xoW68RteZ+Y\n",
              "cuMlcZeWOG89GnuZ0m2/hOfptEEQTDn8IpdZDwcP/SBScNdZ7MD9ZsjjwOqBiiOZmefmDlQaefOl\n",
              "BF8kF5LSAxMacGF6uKt3WevdXAzQ7zzDe/QDXKN6n2vXf2AfrM+m7xHnn5ZObgeYq4FHnScXCKoA\n",
              "Xri3oApOs3XqVRLgnc7k2EhpZeTDsk4dbT++97ULAY7/bbFkqCwD5ZP0I8iNqNwJFYwhaLm42Yxv\n",
              "GjO90FvtvAB4WMJLFZEVTRE02Oj9pqywSjoZkKU99evN8gTFEuqD+0EXextmdBOUFw6OREaB3Hqj\n",
              "kGhCJSCSvuFvktv6G5PniUWDxbigPDFkctJl6Bzd+6l4uBwnpo173+ku72DUiU/cEL24TP0lL6F7\n",
              "yp7B/ZfI+3EFMpCzAAAATUGeOUUVLBD/AAQ1D3tu+WvnnAD8LHAW8fTY2AC1bT2N2qKs7mUnD2ty\n",
              "eNxnSl21G2kp007JO9P46fKYWXfnziz8JnzLwIksR53LuHzBAAAASQGeWmpD/wATWDR+KrTY4V4x\n",
              "29ozEZ9MZBEZZzBOQbM6nSfACWNe61qR5G/y9J6w6jXlbhR1oHGN6Oa4xT/CqXb+GMi4pah5SXgA\n",
              "AAFWQZpfSahBbJlMCCX//rUqgA3kcwVevsgANyPQRojNlUNFE4kQTdZPWFrGOMtI6MahKwJNs68Z\n",
              "RzWYUfBtrUg5B6QAMguVtQu1+hd86yY7KrBmNOCCLRtz9fM/414HzgInrvjmTA3cXoXuJUJjC2bT\n",
              "v8X9k4+O4Z707q4c2CQP2LcpgLrzYody4hQu4MFuWmMnZio7FHAkonHxgPdK7DNbyTSXxX1+AKYN\n",
              "MUeQQTumdWv9NzTaxzKudYFa89uwDVu2k9+s+RhazHbT46xkR6Dfow2hL6z/69ClJ7d+VmXtjnmf\n",
              "2y4znz3lqIJ1fmwC7T3lPkEvJMbLrjftzTKYGlWn+g+3jsYSjJsRP3w9MSJIFxiat/2qT7pnSjT7\n",
              "jz0J+8ozlnYJJY0jax1M3MRU02md5ZH6j65ue0Mn7yf06YJzD3GXDi6WNPhg4PL9Vqh89nOjbfB0\n",
              "HD45AAAASUGefUUVLBD/ABEcGhXHwh7+3o6A0NCWd/xL9oCM2cdBF3eRh5hLyiDtC77yKZbiejDu\n",
              "VXF5UuGBCBT5E50MjarIzuNg0AeWh4EAAABKAZ6cdEP/ACaoeyvZOQxDOUsugIr6Lk90LgkrVGuS\n",
              "oya7wAljXuqQGVr7KNOyfApJMIlh3KNhyqgYaRj36gPlJiYcwHic09ls+mAAAAArAZ6eakP/ABLW\n",
              "j+syB7uT5q8QebkChAhUIKGQbOw0okxlaP7Q/AmAqqCygAAAAK1BmoNJqEFsmUwIf//+qZYAbJZs\n",
              "rboaRCY7dr9tHtltyeb+rTlRutY/++mbs31dUeRACWNe6QQgUQGX30hw+M/sIYcw5GR1br/smu1T\n",
              "MsedJBSSw+yw8rDBX7DMvaq9eeTePUDpGss15kv099JOWsI6s2OfZm7bwnAM1o72OghoouLAlp9n\n",
              "oGccSwV/GYmkgyMpkPma5ULL4fSn6wG+IrW3X1Srw9d6Oc4DxyWPoQAAAEtBnqFFFSwQ/wAGHrAJ\n",
              "kP+vlb0mDOw/Npe5Zq/mVHa7DExbZiiGxgJZXnE1vLItogKYfIRJWsUZ3fAAlcB7ub4tngE7ArFe\n",
              "1vLeRcAAAABWAZ7AdEP/ACY4rZVSLNG0toNMsOQqrHADO7DpRqv5nxSHwCZnM39i4kOBTQcnhXk6\n",
              "0BAptwDcQmchkTKJy+ajzlN+g6heQS7mz04gOyhM4/1nc3rfqSEAAAA9AZ7CakP/ACatIfSexP7x\n",
              "+OAPH3SlWs1GPoZPFs+ySvJHrWqgZDyjLSPTExB+Rui84Y/m6WycnF35wg6e0AAAB65tb292AAAA\n",
              "bG12aGQAAAAAAAAAAAAAAAAAAAPoAABOIAABAAABAAAAAAAAAAAAAAAAAQAAAAAAAAAAAAAAAAAA\n",
              "AAEAAAAAAAAAAAAAAAAAAEAAAAAAAAAAAAAAAAAAAAAAAAAAAAAAAAAAAAAAAAACAAAG2HRyYWsA\n",
              "AABcdGtoZAAAAAMAAAAAAAAAAAAAAAEAAAAAAABOIAAAAAAAAAAAAAAAAAAAAAAAAQAAAAAAAAAA\n",
              "AAAAAAAAAAEAAAAAAAAAAAAAAAAAAEAAAAABsAAAASAAAAAAACRlZHRzAAAAHGVsc3QAAAAAAAAA\n",
              "AQAATiAAABAAAAEAAAAABlBtZGlhAAAAIG1kaGQAAAAAAAAAAAAAAAAAACgAAAMgAFXEAAAAAAAt\n",
              "aGRscgAAAAAAAAAAdmlkZQAAAAAAAAAAAAAAAFZpZGVvSGFuZGxlcgAAAAX7bWluZgAAABR2bWhk\n",
              "AAAAAQAAAAAAAAAAAAAAJGRpbmYAAAAcZHJlZgAAAAAAAAABAAAADHVybCAAAAABAAAFu3N0YmwA\n",
              "AACzc3RzZAAAAAAAAAABAAAAo2F2YzEAAAAAAAAAAQAAAAAAAAAAAAAAAAAAAAABsAEgAEgAAABI\n",
              "AAAAAAAAAAEAAAAAAAAAAAAAAAAAAAAAAAAAAAAAAAAAAAAAAAAAAAAY//8AAAAxYXZjQwFkABX/\n",
              "4QAYZ2QAFazZQbCWhAAAAwAEAAADACg8WLZYAQAGaOvjyyLAAAAAHHV1aWRraEDyXyRPxbo5pRvP\n",
              "AyPzAAAAAAAAABhzdHRzAAAAAAAAAAEAAABkAAAIAAAAABRzdHNzAAAAAAAAAAEAAAABAAADAGN0\n",
              "dHMAAAAAAAAAXgAAAAIAABAAAAAAAQAAGAAAAAABAAAIAAAAAAIAABAAAAAAAQAAGAAAAAABAAAI\n",
              "AAAAAAEAABgAAAAAAQAACAAAAAABAAAYAAAAAAEAAAgAAAAAAQAAGAAAAAABAAAIAAAAAAEAACgA\n",
              "AAAAAQAAEAAAAAABAAAAAAAAAAEAAAgAAAAAAQAAKAAAAAABAAAQAAAAAAEAAAAAAAAAAQAACAAA\n",
              "AAABAAAoAAAAAAEAABAAAAAAAQAAAAAAAAABAAAIAAAAAAEAACgAAAAAAQAAEAAAAAABAAAAAAAA\n",
              "AAEAAAgAAAAAAQAAKAAAAAABAAAQAAAAAAEAAAAAAAAAAQAACAAAAAABAAAoAAAAAAEAABAAAAAA\n",
              "AQAAAAAAAAABAAAIAAAAAAEAACgAAAAAAQAAEAAAAAABAAAAAAAAAAEAAAgAAAAAAQAAGAAAAAAB\n",
              "AAAIAAAAAAEAACgAAAAAAQAAEAAAAAABAAAAAAAAAAEAAAgAAAAAAQAAKAAAAAABAAAQAAAAAAEA\n",
              "AAAAAAAAAQAACAAAAAABAAAgAAAAAAIAAAgAAAAAAQAAKAAAAAABAAAQAAAAAAEAAAAAAAAAAQAA\n",
              "CAAAAAABAAAoAAAAAAEAABAAAAAAAQAAAAAAAAABAAAIAAAAAAEAACgAAAAAAQAAEAAAAAABAAAA\n",
              "AAAAAAEAAAgAAAAAAQAAIAAAAAACAAAIAAAAAAEAACgAAAAAAQAAEAAAAAABAAAAAAAAAAEAAAgA\n",
              "AAAAAQAAKAAAAAABAAAQAAAAAAEAAAAAAAAAAQAACAAAAAABAAAoAAAAAAEAABAAAAAAAQAAAAAA\n",
              "AAABAAAIAAAAAAEAACgAAAAAAQAAEAAAAAABAAAAAAAAAAEAAAgAAAAAAQAAIAAAAAACAAAIAAAA\n",
              "AAEAACAAAAAAAgAACAAAAAABAAAoAAAAAAEAABAAAAAAAQAAAAAAAAABAAAIAAAAAAEAACgAAAAA\n",
              "AQAAEAAAAAABAAAAAAAAAAEAAAgAAAAAHHN0c2MAAAAAAAAAAQAAAAEAAABkAAAAAQAAAaRzdHN6\n",
              "AAAAAAAAAAAAAABkAAAYTQAAA6YAAARwAAABIgAAAu8AAAJ5AAADogAAAH4AAAM7AAAAcAAAAucA\n",
              "AAB6AAAC9AAAAGEAAANmAAAAhAAAAG8AAAAsAAADBgAAAIUAAABHAAAATQAAA1sAAABsAAAAWAAA\n",
              "AFUAAANGAAAAXAAAAEAAAAA+AAADTAAAAGEAAABBAAAALQAAAtsAAABOAAAAHgAAACsAAANHAAAA\n",
              "VwAAADcAAAAuAAACNQAAACcAAALKAAAAUQAAAGoAAAAtAAADEQAAAGoAAABMAAAANgAAAlAAAAA6\n",
              "AAAAhgAAAnsAAABVAAAAkAAAAJcAAAKxAAAAMgAAAC4AAACQAAACsgAAADcAAACiAAAAHQAAAlgA\n",
              "AABQAAAApAAAAsYAAABJAAAAKQAAAD4AAALSAAAAWQAAAC8AAAAtAAACWgAAAFgAAAAsAAAAQAAA\n",
              "AkgAAABNAAAAKQAAACUAAAG9AAAAQAAAACIAAAFeAAAAUQAAAE0AAAFaAAAATQAAAE4AAAAvAAAA\n",
              "sQAAAE8AAABaAAAAQQAAABRzdGNvAAAAAAAAAAEAAAAsAAAAYnVkdGEAAABabWV0YQAAAAAAAAAh\n",
              "aGRscgAAAAAAAAAAbWRpcmFwcGwAAAAAAAAAAAAAAAAtaWxzdAAAACWpdG9vAAAAHWRhdGEAAAAB\n",
              "AAAAAExhdmY1Ny44My4xMDA=\n",
              "\">\n",
              "  Your browser does not support the video tag.\n",
              "</video>"
            ],
            "text/plain": [
              "<IPython.core.display.HTML object>"
            ]
          },
          "metadata": {
            "tags": []
          },
          "execution_count": 150
        }
      ]
    },
    {
      "cell_type": "code",
      "metadata": {
        "id": "Hs4x3kzGDdBs",
        "colab_type": "code",
        "colab": {}
      },
      "source": [
        ""
      ],
      "execution_count": 0,
      "outputs": []
    }
  ]
}