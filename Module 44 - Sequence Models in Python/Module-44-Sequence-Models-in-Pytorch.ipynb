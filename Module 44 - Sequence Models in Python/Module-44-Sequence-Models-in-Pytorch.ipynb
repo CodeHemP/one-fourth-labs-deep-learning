{
  "nbformat": 4,
  "nbformat_minor": 0,
  "metadata": {
    "colab": {
      "name": "Module 44 : Sequence Models in Pytorch.ipynb",
      "provenance": []
    },
    "kernelspec": {
      "name": "python3",
      "display_name": "Python 3"
    }
  },
  "cells": [
    {
      "cell_type": "markdown",
      "metadata": {
        "id": "AGKdwqblhv4x",
        "colab_type": "text"
      },
      "source": [
        "# Imports"
      ]
    },
    {
      "cell_type": "code",
      "metadata": {
        "id": "_skZ_g7ehB9o",
        "colab_type": "code",
        "colab": {
          "base_uri": "https://localhost:8080/",
          "height": 71
        },
        "outputId": "6e39a881-dcf4-4a15-80b6-a80b8356d202"
      },
      "source": [
        "from io import open\n",
        "import os, string, random, time, math\n",
        "import matplotlib.pyplot as plt\n",
        "import seaborn as sns\n",
        "import numpy as np"
      ],
      "execution_count": 1,
      "outputs": [
        {
          "output_type": "stream",
          "text": [
            "/usr/local/lib/python3.6/dist-packages/statsmodels/tools/_testing.py:19: FutureWarning: pandas.util.testing is deprecated. Use the functions in the public API at pandas.testing instead.\n",
            "  import pandas.util.testing as tm\n"
          ],
          "name": "stderr"
        }
      ]
    },
    {
      "cell_type": "code",
      "metadata": {
        "id": "hNbwxTRMhVFG",
        "colab_type": "code",
        "colab": {}
      },
      "source": [
        "from sklearn.model_selection import train_test_split"
      ],
      "execution_count": 0,
      "outputs": []
    },
    {
      "cell_type": "code",
      "metadata": {
        "id": "sXaO1SbvhZBS",
        "colab_type": "code",
        "colab": {}
      },
      "source": [
        "import torch\n",
        "import torch.nn as nn\n",
        "import torch.optim as optim"
      ],
      "execution_count": 0,
      "outputs": []
    },
    {
      "cell_type": "code",
      "metadata": {
        "id": "fWwSJRxxhfm2",
        "colab_type": "code",
        "colab": {}
      },
      "source": [
        "device = torch.device(\"cuda:0\" if torch.cuda.is_available() else \"cpu\")"
      ],
      "execution_count": 0,
      "outputs": []
    },
    {
      "cell_type": "code",
      "metadata": {
        "id": "mzOwBdEKhoGV",
        "colab_type": "code",
        "colab": {}
      },
      "source": [
        "from IPython.display import clear_output"
      ],
      "execution_count": 0,
      "outputs": []
    },
    {
      "cell_type": "markdown",
      "metadata": {
        "id": "9P4J8GPQhyK4",
        "colab_type": "text"
      },
      "source": [
        "# Dataset"
      ]
    },
    {
      "cell_type": "code",
      "metadata": {
        "id": "O9lbCrk1hrms",
        "colab_type": "code",
        "colab": {}
      },
      "source": [
        "languages = []\n",
        "data = []\n",
        "\n",
        "X = []\n",
        "Y = []\n",
        "\n",
        "with open('name2lang.txt','r') as f:\n",
        "  for line in f:\n",
        "    line = line.split(',')\n",
        "    name = line[0].strip()\n",
        "    lang = line[1].strip()\n",
        "    if not lang in languages:\n",
        "      languages.append(lang)\n",
        "    X.append(name)\n",
        "    Y.append(lang)\n",
        "    data.append((name,lang))"
      ],
      "execution_count": 0,
      "outputs": []
    },
    {
      "cell_type": "code",
      "metadata": {
        "id": "oABr0p__ifKH",
        "colab_type": "code",
        "colab": {}
      },
      "source": [
        "n_languages = len(languages)"
      ],
      "execution_count": 0,
      "outputs": []
    },
    {
      "cell_type": "code",
      "metadata": {
        "id": "nYpusT44ih31",
        "colab_type": "code",
        "colab": {
          "base_uri": "https://localhost:8080/",
          "height": 88
        },
        "outputId": "514dfb9f-47f1-42b8-88e7-f3d18eafb50b"
      },
      "source": [
        "print(n_languages)\n",
        "print(languages)\n",
        "print(data[0:10])"
      ],
      "execution_count": 8,
      "outputs": [
        {
          "output_type": "stream",
          "text": [
            "18\n",
            "['Portuguese', 'Irish', 'Spanish', 'Vietnamese', 'Chinese', 'Greek', 'Czech', 'Dutch', 'Japanese', 'French', 'German', 'Scottish', 'English', 'Russian', 'Polish', 'Arabic', 'Korean', 'Italian']\n",
            "[('Abreu', 'Portuguese'), ('Albuquerque', 'Portuguese'), ('Almeida', 'Portuguese'), ('Alves', 'Portuguese'), ('Araujo', 'Portuguese'), ('Araullo', 'Portuguese'), ('Barros', 'Portuguese'), ('Basurto', 'Portuguese'), ('Belo', 'Portuguese'), ('Cabral', 'Portuguese')]\n"
          ],
          "name": "stdout"
        }
      ]
    },
    {
      "cell_type": "markdown",
      "metadata": {
        "id": "1DQ2f-qziy_-",
        "colab_type": "text"
      },
      "source": [
        "# Train-test split"
      ]
    },
    {
      "cell_type": "code",
      "metadata": {
        "id": "E5duOp_5iuiA",
        "colab_type": "code",
        "colab": {}
      },
      "source": [
        "X_train, X_test, Y_train, Y_test = train_test_split(X,Y, test_size = 0.2, random_state=0, stratify=Y)"
      ],
      "execution_count": 0,
      "outputs": []
    },
    {
      "cell_type": "markdown",
      "metadata": {
        "id": "2CtwZyCljFo6",
        "colab_type": "text"
      },
      "source": [
        "# Encoding names and languages"
      ]
    },
    {
      "cell_type": "code",
      "metadata": {
        "id": "oVG-h4syi_Ru",
        "colab_type": "code",
        "colab": {
          "base_uri": "https://localhost:8080/",
          "height": 51
        },
        "outputId": "454c04e7-21e9-44a5-c6bd-c0a4f5d16118"
      },
      "source": [
        "all_letters = string.ascii_letters + \" .,;'\"\n",
        "n_letters = len(all_letters)\n",
        "\n",
        "print(n_letters)\n",
        "print(all_letters)"
      ],
      "execution_count": 10,
      "outputs": [
        {
          "output_type": "stream",
          "text": [
            "57\n",
            "abcdefghijklmnopqrstuvwxyzABCDEFGHIJKLMNOPQRSTUVWXYZ .,;'\n"
          ],
          "name": "stdout"
        }
      ]
    },
    {
      "cell_type": "code",
      "metadata": {
        "id": "k9ryV7PWlaWX",
        "colab_type": "code",
        "colab": {
          "base_uri": "https://localhost:8080/",
          "height": 34
        },
        "outputId": "a40a83dc-5ffe-4569-e26d-e56dc609e918"
      },
      "source": [
        "type(all_letters)"
      ],
      "execution_count": 11,
      "outputs": [
        {
          "output_type": "execute_result",
          "data": {
            "text/plain": [
              "str"
            ]
          },
          "metadata": {
            "tags": []
          },
          "execution_count": 11
        }
      ]
    },
    {
      "cell_type": "code",
      "metadata": {
        "id": "DyChiajUjOsQ",
        "colab_type": "code",
        "colab": {}
      },
      "source": [
        "def name_rep(name):\n",
        "\n",
        "  \"\"\"\n",
        "  Returns the stacked one-hot encoding of the input word.\n",
        "  \"\"\"\n",
        "  rep = torch.zeros(len(name),1,n_letters) # Stacking\n",
        "  for index, letter in enumerate(name):\n",
        "    pos = all_letters.index(letter)\n",
        "    rep[index][0][pos] = 1 # Marking\n",
        "  return rep"
      ],
      "execution_count": 0,
      "outputs": []
    },
    {
      "cell_type": "code",
      "metadata": {
        "id": "QvZY-tHplks-",
        "colab_type": "code",
        "colab": {
          "base_uri": "https://localhost:8080/",
          "height": 340
        },
        "outputId": "4af02e19-5511-4392-de59-14131a65b94b"
      },
      "source": [
        "name_rep(\"Shiv\")"
      ],
      "execution_count": 13,
      "outputs": [
        {
          "output_type": "execute_result",
          "data": {
            "text/plain": [
              "tensor([[[0., 0., 0., 0., 0., 0., 0., 0., 0., 0., 0., 0., 0., 0., 0., 0., 0.,\n",
              "          0., 0., 0., 0., 0., 0., 0., 0., 0., 0., 0., 0., 0., 0., 0., 0., 0.,\n",
              "          0., 0., 0., 0., 0., 0., 0., 0., 0., 0., 1., 0., 0., 0., 0., 0., 0.,\n",
              "          0., 0., 0., 0., 0., 0.]],\n",
              "\n",
              "        [[0., 0., 0., 0., 0., 0., 0., 1., 0., 0., 0., 0., 0., 0., 0., 0., 0.,\n",
              "          0., 0., 0., 0., 0., 0., 0., 0., 0., 0., 0., 0., 0., 0., 0., 0., 0.,\n",
              "          0., 0., 0., 0., 0., 0., 0., 0., 0., 0., 0., 0., 0., 0., 0., 0., 0.,\n",
              "          0., 0., 0., 0., 0., 0.]],\n",
              "\n",
              "        [[0., 0., 0., 0., 0., 0., 0., 0., 1., 0., 0., 0., 0., 0., 0., 0., 0.,\n",
              "          0., 0., 0., 0., 0., 0., 0., 0., 0., 0., 0., 0., 0., 0., 0., 0., 0.,\n",
              "          0., 0., 0., 0., 0., 0., 0., 0., 0., 0., 0., 0., 0., 0., 0., 0., 0.,\n",
              "          0., 0., 0., 0., 0., 0.]],\n",
              "\n",
              "        [[0., 0., 0., 0., 0., 0., 0., 0., 0., 0., 0., 0., 0., 0., 0., 0., 0.,\n",
              "          0., 0., 0., 0., 1., 0., 0., 0., 0., 0., 0., 0., 0., 0., 0., 0., 0.,\n",
              "          0., 0., 0., 0., 0., 0., 0., 0., 0., 0., 0., 0., 0., 0., 0., 0., 0.,\n",
              "          0., 0., 0., 0., 0., 0.]]])"
            ]
          },
          "metadata": {
            "tags": []
          },
          "execution_count": 13
        }
      ]
    },
    {
      "cell_type": "code",
      "metadata": {
        "id": "xZFt8QZflBtr",
        "colab_type": "code",
        "colab": {}
      },
      "source": [
        "def lang_rep(lang):\n",
        "  rep = torch.zeros(n_languages,dtype=torch.long)\n",
        "  pos = languages.index(lang)\n",
        "  rep[pos] = 1\n",
        "  return rep"
      ],
      "execution_count": 0,
      "outputs": []
    },
    {
      "cell_type": "code",
      "metadata": {
        "id": "QmPn2YpLlR7o",
        "colab_type": "code",
        "colab": {
          "base_uri": "https://localhost:8080/",
          "height": 34
        },
        "outputId": "4834f2f5-4747-4175-df2b-3604ce8f2c34"
      },
      "source": [
        "lang_rep(\"Spanish\")"
      ],
      "execution_count": 15,
      "outputs": [
        {
          "output_type": "execute_result",
          "data": {
            "text/plain": [
              "tensor([0, 0, 1, 0, 0, 0, 0, 0, 0, 0, 0, 0, 0, 0, 0, 0, 0, 0])"
            ]
          },
          "metadata": {
            "tags": []
          },
          "execution_count": 15
        }
      ]
    },
    {
      "cell_type": "code",
      "metadata": {
        "id": "VC13VjupwiZT",
        "colab_type": "code",
        "colab": {
          "base_uri": "https://localhost:8080/",
          "height": 34
        },
        "outputId": "74e6832a-5c4c-4a32-e6dd-5439887b8b92"
      },
      "source": [
        "lang_rep(\"Spanish\").argmax().item()"
      ],
      "execution_count": 16,
      "outputs": [
        {
          "output_type": "execute_result",
          "data": {
            "text/plain": [
              "2"
            ]
          },
          "metadata": {
            "tags": []
          },
          "execution_count": 16
        }
      ]
    },
    {
      "cell_type": "markdown",
      "metadata": {
        "id": "OPRB3geLl7JH",
        "colab_type": "text"
      },
      "source": [
        "# Basic visualisation"
      ]
    },
    {
      "cell_type": "code",
      "metadata": {
        "id": "STgQX8ZXlW_E",
        "colab_type": "code",
        "colab": {
          "base_uri": "https://localhost:8080/",
          "height": 314
        },
        "outputId": "139aeb19-3480-4cf2-cb58-ed71ca7f5f31"
      },
      "source": [
        "\"\"\"\n",
        "This can be used to figure out the baseline accuracy i.e. if we were to sample input randomly and output randomly,\n",
        "what accuracy would we achieve.\n",
        "\"\"\"\n",
        "\n",
        "count = {}\n",
        "for l in languages:\n",
        "  count[l] = 0\n",
        "\n",
        "for d in data:\n",
        "  count[d[1]]+=1\n",
        "\n",
        "plt_ = sns.barplot(list(count.keys()),list(count.values()))\n",
        "plt_.set_xticklabels(plt_.get_xticklabels(),rotation=90)\n",
        "plt.show()"
      ],
      "execution_count": 17,
      "outputs": [
        {
          "output_type": "display_data",
          "data": {
            "image/png": "[encoded data removed]",
            "text/plain": [
              "<Figure size 432x288 with 1 Axes>"
            ]
          },
          "metadata": {
            "tags": [],
            "needs_background": "light"
          }
        }
      ]
    },
    {
      "cell_type": "markdown",
      "metadata": {
        "id": "pnWI4cSeqVhG",
        "colab_type": "text"
      },
      "source": [
        "# Basic net and testing inference"
      ]
    },
    {
      "cell_type": "code",
      "metadata": {
        "id": "CF-BqPXImQBg",
        "colab_type": "code",
        "colab": {}
      },
      "source": [
        "class RNN_net(nn.Module):\n",
        "\n",
        "  def __init__(self,input_size, hidden_size, output_size):\n",
        "\n",
        "    super(RNN_net, self).__init__()\n",
        "\n",
        "    self.hidden_size = hidden_size\n",
        "    self.i2h = nn.Linear(input_size+hidden_size,hidden_size)\n",
        "    self.i2o = nn.Linear(input_size+hidden_size,output_size)\n",
        "    self.softmax = nn.LogSoftmax(dim=1)\n",
        "\n",
        "  def forward(self,input_, hidden):\n",
        "    combined = torch.cat((input_, hidden), 1)\n",
        "    hidden = self.i2h(combined)\n",
        "    output = self.i2o(combined)\n",
        "    output = self.softmax(output)\n",
        "    return output, hidden\n",
        "\n",
        "  def init_hidden(self):\n",
        "    return torch.zeros(1, self.hidden_size)\n",
        "\n",
        "  def infer(self,name):\n",
        "    self.eval()\n",
        "    name_ohe = name_rep(name)\n",
        "    hidden = self.init_hidden()\n",
        "    for i in range(name_ohe.shape[0]):\n",
        "      output, hidden = self(name_ohe[i],hidden)\n",
        "    \n",
        "    return output\n",
        "\n",
        "  def evaluate(self,n_points,k, X_, Y_):\n",
        "    data_ = dataloader(n_points, X_, Y_)\n",
        "    correct = 0\n",
        "\n",
        "    for name, lang, name_ohe, lang_rep in data_:\n",
        "      output = self.infer(name)\n",
        "\n",
        "      #tuple returned by the top method and not as a property of output\n",
        "      val, indices = output.topk(k)\n",
        "\n",
        "      if lang_rep.argmax().item() in indices:\n",
        "        correct+=1\n",
        "      \n",
        "    accuracy = correct/n_points\n",
        "    return accuracy\n",
        "\n",
        "  def train_net(self,opt, criterion, n_points):\n",
        "    opt.zero_grad()\n",
        "    total_loss = 0\n",
        "\n",
        "    data_ = dataloader(n_points, X_train, Y_train)\n",
        "\n",
        "    for name, lang, name_ohe, lang_rep in data_:\n",
        "      hidden = self.init_hidden()\n",
        "      for i in range(name_ohe.shape[0]):\n",
        "        output, hidden = self(name_ohe[i],hidden)\n",
        "\n",
        "      loss = criterion(output, lang_rep.argmax().reshape(-1))\n",
        "    \n",
        "      loss.backward(retain_graph = True)\n",
        "      total_loss += loss\n",
        "\n",
        "    opt.step()\n",
        "\n",
        "    return total_loss/n_points"
      ],
      "execution_count": 0,
      "outputs": []
    },
    {
      "cell_type": "code",
      "metadata": {
        "id": "qATjVrOF5ECK",
        "colab_type": "code",
        "colab": {}
      },
      "source": [
        "class RNN_net_2(nn.Module):\n",
        "\n",
        "  def __init__(self,input_size, hidden_size_1,hidden_size_2, hidden_output_size,output_size):\n",
        "\n",
        "    super(RNN_net_2, self).__init__()\n",
        "\n",
        "    self.hidden_size_1 = hidden_size_1\n",
        "    self.hidden_size_2 = hidden_size_2\n",
        "    self.i2h = nn.Linear(input_size+hidden_size_1,hidden_size_1)\n",
        "    self.i2a = nn.Linear(input_size+hidden_size_1,hidden_output_size)\n",
        "    self.a2h = nn.Linear(hidden_output_size+hidden_size_2, hidden_size_2)\n",
        "    self.a2o = nn.Linear(hidden_output_size+hidden_size_2, output_size)\n",
        "    self.softmax = nn.LogSoftmax(dim=1)\n",
        "\n",
        "  def forward(self,input_, hidden1,hidden2):\n",
        "    combined1 = torch.cat((input_, hidden1), 1)\n",
        "    hidden1 = self.i2h(combined1)\n",
        "    intermediate_output = self.i2a(combined1)\n",
        "\n",
        "    combined2 = torch.cat((intermediate_output, hidden2),1)\n",
        "    hidden2 = self.a2h(combined2)\n",
        "    output = self.a2o(combined2)\n",
        "    output = self.softmax(output)\n",
        "    return output, hidden1, hidden2\n",
        "\n",
        "  def init_hidden(self, hidden_number):\n",
        "    if hidden_number == 1:\n",
        "      return torch.zeros(1,self.hidden_size_1)\n",
        "    else:\n",
        "      return torch.zeros(1,self.hidden_size_2)\n",
        "  \n",
        "  def infer(self, name):\n",
        "    self.eval()\n",
        "    name_ohe = name_rep(name)\n",
        "    hidden1 = self.init_hidden(1)\n",
        "    hidden2 = self.init_hidden(2)\n",
        "\n",
        "    for i in range(name_ohe.shape[0]):\n",
        "      output, hidden1, hidden2 = self(name_ohe[i],hidden1, hidden2)\n",
        "\n",
        "    return output\n",
        "\n",
        "  def evaluate(self, n_points, k, X_, Y_):\n",
        "    data_ = dataloader(n_points, X_, Y_)\n",
        "    correct = 0\n",
        "\n",
        "    for name, lang, name_ohe, lang_rep in data_:\n",
        "      output = self.infer(name)\n",
        "\n",
        "      #tuple returned by the top method and not as a property of output\n",
        "      val, indices = output.topk(k)\n",
        "\n",
        "      if lang_rep.argmax().item() in indices:\n",
        "        correct+=1\n",
        "      \n",
        "    accuracy = correct/n_points\n",
        "    return accuracy\n",
        "\n",
        "  def train_net(self, opt, criterion, n_points):\n",
        "    opt.zero_grad()\n",
        "    total_loss = 0\n",
        "\n",
        "    data_ = dataloader(n_points, X_train, Y_train)\n",
        "\n",
        "    for name, lang, name_ohe, lang_rep in data_:\n",
        "      hidden1 = self.init_hidden(1)\n",
        "      hidden2 = self.init_hidden(2)\n",
        "      for i in range(name_ohe.shape[0]):\n",
        "        output, hidden1, hidden2 = self(name_ohe[i],hidden1, hidden2)\n",
        "\n",
        "      loss = criterion(output, lang_rep.argmax().reshape(-1))\n",
        "    \n",
        "      loss.backward(retain_graph = True)\n",
        "      total_loss += loss\n",
        "\n",
        "    opt.step()\n",
        "\n",
        "    return total_loss/n_points"
      ],
      "execution_count": 0,
      "outputs": []
    },
    {
      "cell_type": "code",
      "metadata": {
        "id": "tajUAgFCrZQI",
        "colab_type": "code",
        "colab": {}
      },
      "source": [
        "n_hidden = 128\n",
        "net = RNN_net(n_letters, n_hidden, n_languages)"
      ],
      "execution_count": 0,
      "outputs": []
    },
    {
      "cell_type": "code",
      "metadata": {
        "id": "wKq8ts4K-xa4",
        "colab_type": "code",
        "colab": {
          "base_uri": "https://localhost:8080/",
          "height": 68
        },
        "outputId": "6227e2d0-41ae-4504-fcf0-5456258bdda4"
      },
      "source": [
        "net.infer(\"Shiv\")"
      ],
      "execution_count": 202,
      "outputs": [
        {
          "output_type": "execute_result",
          "data": {
            "text/plain": [
              "tensor([[-2.9409, -2.8870, -2.8333, -2.8005, -2.9231, -2.9669, -2.8091, -2.8630,\n",
              "         -2.8716, -2.8757, -2.7664, -2.8844, -2.9115, -2.9399, -2.9458, -2.9553,\n",
              "         -2.9828, -2.9013]], grad_fn=<LogSoftmaxBackward>)"
            ]
          },
          "metadata": {
            "tags": []
          },
          "execution_count": 202
        }
      ]
    },
    {
      "cell_type": "code",
      "metadata": {
        "id": "Rs4i7VmP6U0i",
        "colab_type": "code",
        "colab": {}
      },
      "source": [
        "n_hidden1 = 256\n",
        "n_hidden2 = 128\n",
        "intermediate_output_size = 128\n",
        "\n",
        "net2 = RNN_net_2(n_letters,n_hidden1, n_hidden2, intermediate_output_size, n_languages)"
      ],
      "execution_count": 0,
      "outputs": []
    },
    {
      "cell_type": "code",
      "metadata": {
        "id": "G9EWGFu2ryGP",
        "colab_type": "code",
        "colab": {
          "base_uri": "https://localhost:8080/",
          "height": 34
        },
        "outputId": "d7f8350c-4315-41de-d64c-1db08e5c1622"
      },
      "source": [
        "name_ohe = name_rep(\"Shiv\")\n",
        "name_ohe.shape[0]"
      ],
      "execution_count": 49,
      "outputs": [
        {
          "output_type": "execute_result",
          "data": {
            "text/plain": [
              "4"
            ]
          },
          "metadata": {
            "tags": []
          },
          "execution_count": 49
        }
      ]
    },
    {
      "cell_type": "code",
      "metadata": {
        "id": "HpkYFN3wr9Vx",
        "colab_type": "code",
        "colab": {
          "base_uri": "https://localhost:8080/",
          "height": 85
        },
        "outputId": "52fe3c5a-faac-433f-f613-5a8daacc6af5"
      },
      "source": [
        "output = net.infer(\"Shiv\")\n",
        "index = torch.argmax(output)\n",
        "print(index,output)\n",
        "print(languages[index])"
      ],
      "execution_count": 54,
      "outputs": [
        {
          "output_type": "stream",
          "text": [
            "tensor(7) tensor([[-2.9906, -2.8811, -2.8338, -2.9741, -2.9198, -2.9601, -2.8817, -2.7732,\n",
            "         -2.8633, -2.9193, -2.8828, -2.9054, -2.8129, -2.8683, -2.8464, -2.8596,\n",
            "         -2.8704, -3.0174]], grad_fn=<LogSoftmaxBackward>)\n",
            "Dutch\n"
          ],
          "name": "stdout"
        }
      ]
    },
    {
      "cell_type": "code",
      "metadata": {
        "id": "k1WgH7Md7jFP",
        "colab_type": "code",
        "colab": {
          "base_uri": "https://localhost:8080/",
          "height": 85
        },
        "outputId": "88c84117-46c4-445e-e835-1616f6d26f4e"
      },
      "source": [
        "output2 = infer2(net2, \"Shiv\")\n",
        "index2 = torch.argmax(output2)\n",
        "print(index2,output2)\n",
        "print(languages[index2])"
      ],
      "execution_count": 159,
      "outputs": [
        {
          "output_type": "stream",
          "text": [
            "tensor(14) tensor([[-2.9642, -2.8547, -2.8590, -2.9540, -2.8544, -2.8982, -2.9047, -2.8694,\n",
            "         -2.8751, -2.9128, -2.8699, -2.8696, -2.9465, -2.8977, -2.8013, -2.8290,\n",
            "         -2.9240, -2.9605]], grad_fn=<LogSoftmaxBackward>)\n",
            "Polish\n"
          ],
          "name": "stdout"
        }
      ]
    },
    {
      "cell_type": "markdown",
      "metadata": {
        "id": "oqJKAgsps5F4",
        "colab_type": "text"
      },
      "source": [
        "# Evaluate model"
      ]
    },
    {
      "cell_type": "code",
      "metadata": {
        "id": "AOg__SUCsBpb",
        "colab_type": "code",
        "colab": {}
      },
      "source": [
        "def dataloader(n_points, X_, Y_):\n",
        "  to_ret = []\n",
        "  for i in range(n_points):\n",
        "    index_ = np.random.randint(len(X_))\n",
        "    name,lang = X_[index_],Y_[index_]\n",
        "    to_ret.append((name,lang, name_rep(name),lang_rep(lang)))\n",
        "  return to_ret"
      ],
      "execution_count": 0,
      "outputs": []
    },
    {
      "cell_type": "code",
      "metadata": {
        "id": "3gX6e1GCtZBu",
        "colab_type": "code",
        "colab": {
          "base_uri": "https://localhost:8080/",
          "height": 1000
        },
        "outputId": "d77ac691-1e93-4a34-df5a-6be3d3176166"
      },
      "source": [
        "dataloader(2, X_train, Y_train)"
      ],
      "execution_count": 19,
      "outputs": [
        {
          "output_type": "execute_result",
          "data": {
            "text/plain": [
              "[('Boutros',\n",
              "  'Arabic',\n",
              "  tensor([[[0., 0., 0., 0., 0., 0., 0., 0., 0., 0., 0., 0., 0., 0., 0., 0., 0.,\n",
              "            0., 0., 0., 0., 0., 0., 0., 0., 0., 0., 1., 0., 0., 0., 0., 0., 0.,\n",
              "            0., 0., 0., 0., 0., 0., 0., 0., 0., 0., 0., 0., 0., 0., 0., 0., 0.,\n",
              "            0., 0., 0., 0., 0., 0.]],\n",
              "  \n",
              "          [[0., 0., 0., 0., 0., 0., 0., 0., 0., 0., 0., 0., 0., 0., 1., 0., 0.,\n",
              "            0., 0., 0., 0., 0., 0., 0., 0., 0., 0., 0., 0., 0., 0., 0., 0., 0.,\n",
              "            0., 0., 0., 0., 0., 0., 0., 0., 0., 0., 0., 0., 0., 0., 0., 0., 0.,\n",
              "            0., 0., 0., 0., 0., 0.]],\n",
              "  \n",
              "          [[0., 0., 0., 0., 0., 0., 0., 0., 0., 0., 0., 0., 0., 0., 0., 0., 0.,\n",
              "            0., 0., 0., 1., 0., 0., 0., 0., 0., 0., 0., 0., 0., 0., 0., 0., 0.,\n",
              "            0., 0., 0., 0., 0., 0., 0., 0., 0., 0., 0., 0., 0., 0., 0., 0., 0.,\n",
              "            0., 0., 0., 0., 0., 0.]],\n",
              "  \n",
              "          [[0., 0., 0., 0., 0., 0., 0., 0., 0., 0., 0., 0., 0., 0., 0., 0., 0.,\n",
              "            0., 0., 1., 0., 0., 0., 0., 0., 0., 0., 0., 0., 0., 0., 0., 0., 0.,\n",
              "            0., 0., 0., 0., 0., 0., 0., 0., 0., 0., 0., 0., 0., 0., 0., 0., 0.,\n",
              "            0., 0., 0., 0., 0., 0.]],\n",
              "  \n",
              "          [[0., 0., 0., 0., 0., 0., 0., 0., 0., 0., 0., 0., 0., 0., 0., 0., 0.,\n",
              "            1., 0., 0., 0., 0., 0., 0., 0., 0., 0., 0., 0., 0., 0., 0., 0., 0.,\n",
              "            0., 0., 0., 0., 0., 0., 0., 0., 0., 0., 0., 0., 0., 0., 0., 0., 0.,\n",
              "            0., 0., 0., 0., 0., 0.]],\n",
              "  \n",
              "          [[0., 0., 0., 0., 0., 0., 0., 0., 0., 0., 0., 0., 0., 0., 1., 0., 0.,\n",
              "            0., 0., 0., 0., 0., 0., 0., 0., 0., 0., 0., 0., 0., 0., 0., 0., 0.,\n",
              "            0., 0., 0., 0., 0., 0., 0., 0., 0., 0., 0., 0., 0., 0., 0., 0., 0.,\n",
              "            0., 0., 0., 0., 0., 0.]],\n",
              "  \n",
              "          [[0., 0., 0., 0., 0., 0., 0., 0., 0., 0., 0., 0., 0., 0., 0., 0., 0.,\n",
              "            0., 1., 0., 0., 0., 0., 0., 0., 0., 0., 0., 0., 0., 0., 0., 0., 0.,\n",
              "            0., 0., 0., 0., 0., 0., 0., 0., 0., 0., 0., 0., 0., 0., 0., 0., 0.,\n",
              "            0., 0., 0., 0., 0., 0.]]]),\n",
              "  tensor([0, 0, 0, 0, 0, 0, 0, 0, 0, 0, 0, 0, 0, 0, 0, 1, 0, 0])),\n",
              " ('Beauchene',\n",
              "  'French',\n",
              "  tensor([[[0., 0., 0., 0., 0., 0., 0., 0., 0., 0., 0., 0., 0., 0., 0., 0., 0.,\n",
              "            0., 0., 0., 0., 0., 0., 0., 0., 0., 0., 1., 0., 0., 0., 0., 0., 0.,\n",
              "            0., 0., 0., 0., 0., 0., 0., 0., 0., 0., 0., 0., 0., 0., 0., 0., 0.,\n",
              "            0., 0., 0., 0., 0., 0.]],\n",
              "  \n",
              "          [[0., 0., 0., 0., 1., 0., 0., 0., 0., 0., 0., 0., 0., 0., 0., 0., 0.,\n",
              "            0., 0., 0., 0., 0., 0., 0., 0., 0., 0., 0., 0., 0., 0., 0., 0., 0.,\n",
              "            0., 0., 0., 0., 0., 0., 0., 0., 0., 0., 0., 0., 0., 0., 0., 0., 0.,\n",
              "            0., 0., 0., 0., 0., 0.]],\n",
              "  \n",
              "          [[1., 0., 0., 0., 0., 0., 0., 0., 0., 0., 0., 0., 0., 0., 0., 0., 0.,\n",
              "            0., 0., 0., 0., 0., 0., 0., 0., 0., 0., 0., 0., 0., 0., 0., 0., 0.,\n",
              "            0., 0., 0., 0., 0., 0., 0., 0., 0., 0., 0., 0., 0., 0., 0., 0., 0.,\n",
              "            0., 0., 0., 0., 0., 0.]],\n",
              "  \n",
              "          [[0., 0., 0., 0., 0., 0., 0., 0., 0., 0., 0., 0., 0., 0., 0., 0., 0.,\n",
              "            0., 0., 0., 1., 0., 0., 0., 0., 0., 0., 0., 0., 0., 0., 0., 0., 0.,\n",
              "            0., 0., 0., 0., 0., 0., 0., 0., 0., 0., 0., 0., 0., 0., 0., 0., 0.,\n",
              "            0., 0., 0., 0., 0., 0.]],\n",
              "  \n",
              "          [[0., 0., 1., 0., 0., 0., 0., 0., 0., 0., 0., 0., 0., 0., 0., 0., 0.,\n",
              "            0., 0., 0., 0., 0., 0., 0., 0., 0., 0., 0., 0., 0., 0., 0., 0., 0.,\n",
              "            0., 0., 0., 0., 0., 0., 0., 0., 0., 0., 0., 0., 0., 0., 0., 0., 0.,\n",
              "            0., 0., 0., 0., 0., 0.]],\n",
              "  \n",
              "          [[0., 0., 0., 0., 0., 0., 0., 1., 0., 0., 0., 0., 0., 0., 0., 0., 0.,\n",
              "            0., 0., 0., 0., 0., 0., 0., 0., 0., 0., 0., 0., 0., 0., 0., 0., 0.,\n",
              "            0., 0., 0., 0., 0., 0., 0., 0., 0., 0., 0., 0., 0., 0., 0., 0., 0.,\n",
              "            0., 0., 0., 0., 0., 0.]],\n",
              "  \n",
              "          [[0., 0., 0., 0., 1., 0., 0., 0., 0., 0., 0., 0., 0., 0., 0., 0., 0.,\n",
              "            0., 0., 0., 0., 0., 0., 0., 0., 0., 0., 0., 0., 0., 0., 0., 0., 0.,\n",
              "            0., 0., 0., 0., 0., 0., 0., 0., 0., 0., 0., 0., 0., 0., 0., 0., 0.,\n",
              "            0., 0., 0., 0., 0., 0.]],\n",
              "  \n",
              "          [[0., 0., 0., 0., 0., 0., 0., 0., 0., 0., 0., 0., 0., 1., 0., 0., 0.,\n",
              "            0., 0., 0., 0., 0., 0., 0., 0., 0., 0., 0., 0., 0., 0., 0., 0., 0.,\n",
              "            0., 0., 0., 0., 0., 0., 0., 0., 0., 0., 0., 0., 0., 0., 0., 0., 0.,\n",
              "            0., 0., 0., 0., 0., 0.]],\n",
              "  \n",
              "          [[0., 0., 0., 0., 1., 0., 0., 0., 0., 0., 0., 0., 0., 0., 0., 0., 0.,\n",
              "            0., 0., 0., 0., 0., 0., 0., 0., 0., 0., 0., 0., 0., 0., 0., 0., 0.,\n",
              "            0., 0., 0., 0., 0., 0., 0., 0., 0., 0., 0., 0., 0., 0., 0., 0., 0.,\n",
              "            0., 0., 0., 0., 0., 0.]]]),\n",
              "  tensor([0, 0, 0, 0, 0, 0, 0, 0, 0, 1, 0, 0, 0, 0, 0, 0, 0, 0]))]"
            ]
          },
          "metadata": {
            "tags": []
          },
          "execution_count": 19
        }
      ]
    },
    {
      "cell_type": "code",
      "metadata": {
        "id": "sEdDOZ0bvsfd",
        "colab_type": "code",
        "colab": {
          "base_uri": "https://localhost:8080/",
          "height": 34
        },
        "outputId": "0ce73939-2380-4ddf-aa1a-28e23d5aab71"
      },
      "source": [
        "n_languages"
      ],
      "execution_count": 20,
      "outputs": [
        {
          "output_type": "execute_result",
          "data": {
            "text/plain": [
              "18"
            ]
          },
          "metadata": {
            "tags": []
          },
          "execution_count": 20
        }
      ]
    },
    {
      "cell_type": "code",
      "metadata": {
        "id": "5iqRZlZ5_QPY",
        "colab_type": "code",
        "colab": {
          "base_uri": "https://localhost:8080/",
          "height": 34
        },
        "outputId": "7362aed9-42aa-4f71-bf36-3de6191ec4b7"
      },
      "source": [
        "net.evaluate(1000,3,X_test, Y_test)"
      ],
      "execution_count": 194,
      "outputs": [
        {
          "output_type": "execute_result",
          "data": {
            "text/plain": [
              "0.184"
            ]
          },
          "metadata": {
            "tags": []
          },
          "execution_count": 194
        }
      ]
    },
    {
      "cell_type": "code",
      "metadata": {
        "id": "G1brw1p18FS8",
        "colab_type": "code",
        "colab": {
          "base_uri": "https://localhost:8080/",
          "height": 34
        },
        "outputId": "a558c245-8830-4799-ca45-6fb2509e5fc5"
      },
      "source": [
        "net2.evaluate(1000, 3, X_test, Y_test)"
      ],
      "execution_count": 163,
      "outputs": [
        {
          "output_type": "execute_result",
          "data": {
            "text/plain": [
              "0.066"
            ]
          },
          "metadata": {
            "tags": []
          },
          "execution_count": 163
        }
      ]
    },
    {
      "cell_type": "markdown",
      "metadata": {
        "id": "HPfBAIEjw1uL",
        "colab_type": "text"
      },
      "source": [
        "# Training"
      ]
    },
    {
      "cell_type": "code",
      "metadata": {
        "id": "lWDOpXnIxh9A",
        "colab_type": "code",
        "colab": {
          "base_uri": "https://localhost:8080/",
          "height": 34
        },
        "outputId": "a80e3ca3-7d9a-4678-8d4e-0b9d753870e8"
      },
      "source": [
        "criterion = nn.NLLLoss()\n",
        "opt = optim.SGD(net.parameters(),lr = 0.01, momentum = 0.9)\n",
        "net.train_net(opt, criterion, 200)\n",
        "net.evaluate(1000, 1, X_test, Y_test)"
      ],
      "execution_count": 203,
      "outputs": [
        {
          "output_type": "execute_result",
          "data": {
            "text/plain": [
              "0.443"
            ]
          },
          "metadata": {
            "tags": []
          },
          "execution_count": 203
        }
      ]
    },
    {
      "cell_type": "code",
      "metadata": {
        "id": "t3IIwwBP8TcV",
        "colab_type": "code",
        "colab": {
          "base_uri": "https://localhost:8080/",
          "height": 34
        },
        "outputId": "88ba46e1-31b2-41cc-ef79-cf569fe2c154"
      },
      "source": [
        "criterion = nn.NLLLoss()\n",
        "opt = optim.SGD(net.parameters(),lr = 0.01, momentum = 0.9)\n",
        "net2.train_net(opt, criterion, 200)\n",
        "net2.evaluate(1000, 1, X_test, Y_test)"
      ],
      "execution_count": 209,
      "outputs": [
        {
          "output_type": "execute_result",
          "data": {
            "text/plain": [
              "0.019"
            ]
          },
          "metadata": {
            "tags": []
          },
          "execution_count": 209
        }
      ]
    },
    {
      "cell_type": "markdown",
      "metadata": {
        "id": "FPguQfb_1WYG",
        "colab_type": "text"
      },
      "source": [
        "# Full training setup"
      ]
    },
    {
      "cell_type": "code",
      "metadata": {
        "id": "HXjWVRhDxvDB",
        "colab_type": "code",
        "colab": {}
      },
      "source": [
        "def train_setup(net, lr=0.01, n_batches=100, batch_size=10, momentum=0.9, display_freq=5):\n",
        "\n",
        "  criterion = nn.NLLLoss()\n",
        "  opt = optim.SGD(net.parameters(),lr=lr,momentum=momentum)\n",
        "\n",
        "  loss_arr = np.zeros(n_batches+1)\n",
        "\n",
        "  for i in range(n_batches):\n",
        "    loss_arr[i+1] = (loss_arr[i]*i + net.train_net(opt, criterion, batch_size))/(i+1)\n",
        "\n",
        "    if i%display_freq==0:\n",
        "      clear_output(wait=True)\n",
        "      print(\"Iteration:\",i,\"Top-1\",net.evaluate(len(X_test),1,X_test, Y_test),\"Top-2\",net.evaluate(len(X_test),2,X_test, Y_test))\n",
        "      plt.figure()\n",
        "      plt.plot(loss_arr[1:i],'-*')\n",
        "      plt.xlabel(\"Iteration\")\n",
        "      plt.ylabel(\"Loss\")\n",
        "      plt.show()\n",
        "      print(\"\\n\\n\")"
      ],
      "execution_count": 0,
      "outputs": []
    },
    {
      "cell_type": "code",
      "metadata": {
        "id": "jysmP9LA2mfZ",
        "colab_type": "code",
        "colab": {
          "base_uri": "https://localhost:8080/",
          "height": 351
        },
        "outputId": "aace8045-f2c2-4347-b487-a987627127a3"
      },
      "source": [
        "n_hidden = 128\n",
        "net = RNN_net(n_letters, n_hidden, n_languages)\n",
        "train_setup(net, lr=0.0005, n_batches=100, batch_size=256)"
      ],
      "execution_count": 205,
      "outputs": [
        {
          "output_type": "stream",
          "text": [
            "Iteration: 95 Top-1 0.6526184538653367 Top-2 0.7688279301745636\n"
          ],
          "name": "stdout"
        },
        {
          "output_type": "display_data",
          "data": {
            "image/png": "[encoded data removed]",
            "text/plain": [
              "<Figure size 432x288 with 1 Axes>"
            ]
          },
          "metadata": {
            "tags": [],
            "needs_background": "light"
          }
        },
        {
          "output_type": "stream",
          "text": [
            "\n",
            "\n",
            "\n"
          ],
          "name": "stdout"
        }
      ]
    },
    {
      "cell_type": "code",
      "metadata": {
        "id": "7QtYh0mo2wo1",
        "colab_type": "code",
        "colab": {
          "base_uri": "https://localhost:8080/",
          "height": 347
        },
        "outputId": "4b9b49f1-bf88-499e-cecb-4d696c8c510d"
      },
      "source": [
        "train_setup(net2, lr=0.0005, n_batches=100, batch_size=256)"
      ],
      "execution_count": 212,
      "outputs": [
        {
          "output_type": "stream",
          "text": [
            "Iteration: 95 Top-1 0.6837905236907731 Top-2 0.7837905236907731\n"
          ],
          "name": "stdout"
        },
        {
          "output_type": "display_data",
          "data": {
            "image/png": "[encoded data removed]",
            "text/plain": [
              "<Figure size 432x288 with 1 Axes>"
            ]
          },
          "metadata": {
            "tags": [],
            "needs_background": "light"
          }
        },
        {
          "output_type": "stream",
          "text": [
            "\n",
            "\n",
            "\n"
          ],
          "name": "stdout"
        }
      ]
    },
    {
      "cell_type": "code",
      "metadata": {
        "id": "Hv2z5bYA8hjM",
        "colab_type": "code",
        "colab": {
          "base_uri": "https://localhost:8080/",
          "height": 34
        },
        "outputId": "bc0b07af-997c-453a-ff65-6b5815920f6b"
      },
      "source": [
        "languages[net2.infer(\"\").argmax().item()]"
      ],
      "execution_count": 223,
      "outputs": [
        {
          "output_type": "execute_result",
          "data": {
            "text/plain": [
              "'English'"
            ]
          },
          "metadata": {
            "tags": []
          },
          "execution_count": 223
        }
      ]
    },
    {
      "cell_type": "markdown",
      "metadata": {
        "id": "quHB6BDKFV-4",
        "colab_type": "text"
      },
      "source": [
        "# LSTM"
      ]
    },
    {
      "cell_type": "code",
      "metadata": {
        "id": "CYT1H4rxFaor",
        "colab_type": "code",
        "colab": {}
      },
      "source": [
        "class LSTM_net(nn.Module):\n",
        "\n",
        "  def __init__(self,input_size, hidden_size, output_size):\n",
        "\n",
        "    super(LSTM_net, self).__init__()\n",
        "\n",
        "    self.hidden_size = hidden_size\n",
        "\n",
        "    \"\"\"\n",
        "    The size marked by hidden_size marks the size for both the hidden and cell state,\n",
        "    both of which are initially sent by us.\n",
        "    \"\"\"\n",
        "\n",
        "    self.lstm_cell = nn.LSTM(input_size, hidden_size,num_layers=2)\n",
        "    self.h2o = nn.Linear(hidden_size, output_size)\n",
        "    self.softmax = nn.LogSoftmax(dim=2)\n",
        "\n",
        "  def forward(self,input, hidden, verbose=False):\n",
        "    \"\"\"\n",
        "    1) hidden here is a tuple of the hidden and cell state\n",
        "    2) the three dimensions employed while changing input are for batching. The first dimension refers to the no. of levels, \n",
        "       the second refers to the no. of batches, and then the last corresponds to the size of the vector.\n",
        "    \"\"\"\n",
        "\n",
        "    out, hidden = self.lstm_cell(input.view(1,1,-1), hidden)\n",
        "    \n",
        "    if verbose:\n",
        "      print(out.shape)\n",
        "      print(hidden[0].shape)\n",
        "      print(hidden[1].shape)\n",
        "\n",
        "    output = self.h2o(out)\n",
        "    output = self.softmax(output)\n",
        "\n",
        "    return output.view(1,-1), hidden\n",
        "\n",
        "  def init_hidden(self):\n",
        "    return (torch.zeros(2,1,self.hidden_size),torch.zeros(2,1,self.hidden_size))\n",
        "\n",
        "  def infer(self,name,verbose=False):\n",
        "    self.eval()\n",
        "    name_ohe = name_rep(name)\n",
        "    hidden = self.init_hidden()\n",
        "    for i in range(name_ohe.shape[0]):\n",
        "      output, hidden = self(name_ohe[i],hidden,verbose)\n",
        "      if verbose:\n",
        "        verbose=False\n",
        "    \n",
        "    return output\n",
        "\n",
        "  def evaluate(self,n_points,k, X_, Y_):\n",
        "    data_ = dataloader(n_points, X_, Y_)\n",
        "    correct = 0\n",
        "\n",
        "    for name, lang, name_ohe, lang_rep in data_:\n",
        "      output = self.infer(name)\n",
        "\n",
        "      #tuple returned by the top method and not as a property of output\n",
        "      val, indices = output.topk(k)\n",
        "\n",
        "      if lang_rep.argmax().item() in indices:\n",
        "        correct+=1\n",
        "      \n",
        "    accuracy = correct/n_points\n",
        "    return accuracy\n",
        "\n",
        "  def train_net(self,opt, criterion, n_points):\n",
        "    opt.zero_grad()\n",
        "    total_loss = 0\n",
        "\n",
        "    data_ = dataloader(n_points, X_train, Y_train)\n",
        "\n",
        "    for name, lang, name_ohe, lang_rep in data_:\n",
        "      hidden = self.init_hidden()\n",
        "      for i in range(name_ohe.shape[0]):\n",
        "        output, hidden = self(name_ohe[i],hidden)\n",
        "\n",
        "      loss = criterion(output, lang_rep.argmax().reshape(-1))\n",
        "    \n",
        "      loss.backward(retain_graph = True)\n",
        "      total_loss += loss\n",
        "\n",
        "    opt.step()\n",
        "\n",
        "    return total_loss/n_points"
      ],
      "execution_count": 0,
      "outputs": []
    },
    {
      "cell_type": "code",
      "metadata": {
        "id": "xb1rGwW8nUmZ",
        "colab_type": "code",
        "colab": {}
      },
      "source": [
        "n_hidden_lstm = 128\n",
        "net_lstm = LSTM_net(n_letters, n_hidden_lstm, n_languages)"
      ],
      "execution_count": 0,
      "outputs": []
    },
    {
      "cell_type": "code",
      "metadata": {
        "id": "7yuS8bdJsIfg",
        "colab_type": "code",
        "colab": {
          "base_uri": "https://localhost:8080/",
          "height": 119
        },
        "outputId": "e7093141-10c1-4d0d-cc0c-0f0b4c45d7d1"
      },
      "source": [
        "net_lstm.infer(\"Shiv\",True)"
      ],
      "execution_count": 60,
      "outputs": [
        {
          "output_type": "stream",
          "text": [
            "torch.Size([1, 1, 128])\n",
            "torch.Size([2, 1, 128])\n",
            "torch.Size([2, 1, 128])\n"
          ],
          "name": "stdout"
        },
        {
          "output_type": "execute_result",
          "data": {
            "text/plain": [
              "tensor([[-2.9182, -2.8578, -2.9052, -2.8175, -2.8842, -2.8714, -2.9443, -2.9616,\n",
              "         -2.8175, -2.8402, -2.9365, -2.8157, -2.9390, -2.9527, -2.9625, -2.9365,\n",
              "         -2.7915, -2.9021]], grad_fn=<ViewBackward>)"
            ]
          },
          "metadata": {
            "tags": []
          },
          "execution_count": 60
        }
      ]
    },
    {
      "cell_type": "code",
      "metadata": {
        "id": "4Lt-g4e-nXAf",
        "colab_type": "code",
        "colab": {
          "base_uri": "https://localhost:8080/",
          "height": 34
        },
        "outputId": "28eb9d5a-a370-4275-c98a-4eeb3e8b1c79"
      },
      "source": [
        "languages[net_lstm.infer(\"Shiv\",False).argmax().item()]"
      ],
      "execution_count": 48,
      "outputs": [
        {
          "output_type": "execute_result",
          "data": {
            "text/plain": [
              "'Russian'"
            ]
          },
          "metadata": {
            "tags": []
          },
          "execution_count": 48
        }
      ]
    },
    {
      "cell_type": "code",
      "metadata": {
        "id": "yZCOlBcekIHK",
        "colab_type": "code",
        "colab": {
          "base_uri": "https://localhost:8080/",
          "height": 347
        },
        "outputId": "08ec60a0-c25a-4786-9f53-b2dfd9ff1f98"
      },
      "source": [
        "n_hidden_lstm = 128\n",
        "net_lstm = LSTM_net(n_letters, n_hidden_lstm, n_languages)\n",
        "train_setup(net_lstm, lr=0.001, n_batches=100, batch_size=256)"
      ],
      "execution_count": 61,
      "outputs": [
        {
          "output_type": "stream",
          "text": [
            "Iteration: 95 Top-1 0.4571072319201995 Top-2 0.65785536159601\n"
          ],
          "name": "stdout"
        },
        {
          "output_type": "display_data",
          "data": {
            "image/png": "[encoded data removed]",
            "text/plain": [
              "<Figure size 432x288 with 1 Axes>"
            ]
          },
          "metadata": {
            "tags": [],
            "needs_background": "light"
          }
        },
        {
          "output_type": "stream",
          "text": [
            "\n",
            "\n",
            "\n"
          ],
          "name": "stdout"
        }
      ]
    },
    {
      "cell_type": "markdown",
      "metadata": {
        "id": "uUoNNE3Dziht",
        "colab_type": "text"
      },
      "source": [
        "# GRU"
      ]
    },
    {
      "cell_type": "code",
      "metadata": {
        "id": "3-iyaQY-lFWH",
        "colab_type": "code",
        "colab": {}
      },
      "source": [
        "class GRU_net(nn.Module):\n",
        "\n",
        "  def __init__(self, input_size, hidden_size, output_size):\n",
        "\n",
        "    super(GRU_net, self).__init__()\n",
        "\n",
        "    self.hidden_size = hidden_size\n",
        "    \n",
        "    self.gru_cell = nn.GRU(input_size, hidden_size,num_layers=2)\n",
        "    self.h2o = nn.Linear(hidden_size, output_size)\n",
        "    self.softmax = nn.LogSoftmax(dim=2)\n",
        "\n",
        "  def forward(self, input, hidden, verbose=False):\n",
        "    out, hidden = self.gru_cell(input.view(1,1,-1), hidden)\n",
        "\n",
        "    if verbose:\n",
        "      print(out.shape)\n",
        "      print(hidden.shape)\n",
        "      print(out)\n",
        "      print(hidden[1])\n",
        "    \n",
        "    output = self.h2o(out)\n",
        "    output = self.softmax(output)\n",
        "\n",
        "    return output.view(1,-1), hidden\n",
        "\n",
        "  def init_hidden(self):\n",
        "    return torch.zeros(2,1,self.hidden_size)\n",
        "\n",
        "  def infer(self,name,verbose=False):\n",
        "    self.eval()\n",
        "    name_ohe = name_rep(name)\n",
        "    hidden = self.init_hidden()\n",
        "    for i in range(name_ohe.shape[0]):\n",
        "      output, hidden = self(name_ohe[i],hidden,verbose)\n",
        "      if verbose:\n",
        "        verbose=False\n",
        "    \n",
        "    return output\n",
        "\n",
        "  def evaluate(self,n_points,k, X_, Y_):\n",
        "    data_ = dataloader(n_points, X_, Y_)\n",
        "    correct = 0\n",
        "\n",
        "    for name, lang, name_ohe, lang_rep in data_:\n",
        "      output = self.infer(name)\n",
        "\n",
        "      #tuple returned by the top method and not as a property of output\n",
        "      val, indices = output.topk(k)\n",
        "\n",
        "      if lang_rep.argmax().item() in indices:\n",
        "        correct+=1\n",
        "      \n",
        "    accuracy = correct/n_points\n",
        "    return accuracy\n",
        "\n",
        "  def train_net(self,opt, criterion, n_points):\n",
        "    opt.zero_grad()\n",
        "    total_loss = 0\n",
        "\n",
        "    data_ = dataloader(n_points, X_train, Y_train)\n",
        "\n",
        "    for name, lang, name_ohe, lang_rep in data_:\n",
        "      hidden = self.init_hidden()\n",
        "      for i in range(name_ohe.shape[0]):\n",
        "        output, hidden = self(name_ohe[i],hidden)\n",
        "\n",
        "      loss = criterion(output, lang_rep.argmax().reshape(-1))\n",
        "    \n",
        "      loss.backward(retain_graph = True)\n",
        "      total_loss += loss\n",
        "\n",
        "    opt.step()\n",
        "\n",
        "    return total_loss/n_points"
      ],
      "execution_count": 0,
      "outputs": []
    },
    {
      "cell_type": "code",
      "metadata": {
        "id": "wqAOAm6P0R69",
        "colab_type": "code",
        "colab": {}
      },
      "source": [
        "n_hidden_gru = 128\n",
        "net_gru = GRU_net(n_letters,n_hidden_gru,n_languages)"
      ],
      "execution_count": 0,
      "outputs": []
    },
    {
      "cell_type": "code",
      "metadata": {
        "id": "pMteFDGY0dWZ",
        "colab_type": "code",
        "colab": {
          "base_uri": "https://localhost:8080/",
          "height": 680
        },
        "outputId": "82868782-b084-4215-8a92-a3be0d290904"
      },
      "source": [
        "net_gru.infer(\"Shiv\",True).shape"
      ],
      "execution_count": 95,
      "outputs": [
        {
          "output_type": "stream",
          "text": [
            "torch.Size([1, 1, 128])\n",
            "torch.Size([2, 1, 128])\n",
            "tensor([[[ 0.0176, -0.0149,  0.0100,  0.0637,  0.0427, -0.0133, -0.0163,\n",
            "           0.0338,  0.0374,  0.0113, -0.0170,  0.0078, -0.0031,  0.0331,\n",
            "           0.0039,  0.0581,  0.0154, -0.0421, -0.0505, -0.0058,  0.0535,\n",
            "           0.0414,  0.0644, -0.0238,  0.0504, -0.0140, -0.0094,  0.0029,\n",
            "           0.0434, -0.0423, -0.0042, -0.0458,  0.0323,  0.0213,  0.0425,\n",
            "           0.0042, -0.0281,  0.0284, -0.0308, -0.0226,  0.0214,  0.0039,\n",
            "           0.0031, -0.0549,  0.0228,  0.0246,  0.0384,  0.0500, -0.0400,\n",
            "           0.0317,  0.0151, -0.0243, -0.0188, -0.0536, -0.0031,  0.0060,\n",
            "          -0.0061,  0.0207, -0.0186,  0.0188,  0.0219, -0.0685, -0.0289,\n",
            "           0.0151, -0.0642,  0.0215, -0.0241,  0.0202,  0.0294,  0.0034,\n",
            "          -0.0265,  0.0464,  0.0025, -0.0253, -0.0119, -0.0423,  0.0158,\n",
            "          -0.0391, -0.0304, -0.0296, -0.0275, -0.0329,  0.0512,  0.0517,\n",
            "           0.0439, -0.0342,  0.0297,  0.0147, -0.0462, -0.0378, -0.0158,\n",
            "          -0.0241,  0.0308,  0.0302,  0.0346,  0.0027,  0.0469,  0.0074,\n",
            "          -0.0316,  0.0631,  0.0149, -0.0300, -0.0098, -0.0470, -0.0458,\n",
            "           0.0127,  0.0073,  0.0354,  0.0032, -0.0408,  0.0632,  0.0363,\n",
            "          -0.0485, -0.0506, -0.0090,  0.0521, -0.0483, -0.0234, -0.0577,\n",
            "          -0.0230,  0.0133,  0.0116, -0.0209, -0.0416, -0.0067, -0.0323,\n",
            "          -0.0130, -0.0105]]], grad_fn=<StackBackward>)\n",
            "tensor([[ 0.0176, -0.0149,  0.0100,  0.0637,  0.0427, -0.0133, -0.0163,  0.0338,\n",
            "          0.0374,  0.0113, -0.0170,  0.0078, -0.0031,  0.0331,  0.0039,  0.0581,\n",
            "          0.0154, -0.0421, -0.0505, -0.0058,  0.0535,  0.0414,  0.0644, -0.0238,\n",
            "          0.0504, -0.0140, -0.0094,  0.0029,  0.0434, -0.0423, -0.0042, -0.0458,\n",
            "          0.0323,  0.0213,  0.0425,  0.0042, -0.0281,  0.0284, -0.0308, -0.0226,\n",
            "          0.0214,  0.0039,  0.0031, -0.0549,  0.0228,  0.0246,  0.0384,  0.0500,\n",
            "         -0.0400,  0.0317,  0.0151, -0.0243, -0.0188, -0.0536, -0.0031,  0.0060,\n",
            "         -0.0061,  0.0207, -0.0186,  0.0188,  0.0219, -0.0685, -0.0289,  0.0151,\n",
            "         -0.0642,  0.0215, -0.0241,  0.0202,  0.0294,  0.0034, -0.0265,  0.0464,\n",
            "          0.0025, -0.0253, -0.0119, -0.0423,  0.0158, -0.0391, -0.0304, -0.0296,\n",
            "         -0.0275, -0.0329,  0.0512,  0.0517,  0.0439, -0.0342,  0.0297,  0.0147,\n",
            "         -0.0462, -0.0378, -0.0158, -0.0241,  0.0308,  0.0302,  0.0346,  0.0027,\n",
            "          0.0469,  0.0074, -0.0316,  0.0631,  0.0149, -0.0300, -0.0098, -0.0470,\n",
            "         -0.0458,  0.0127,  0.0073,  0.0354,  0.0032, -0.0408,  0.0632,  0.0363,\n",
            "         -0.0485, -0.0506, -0.0090,  0.0521, -0.0483, -0.0234, -0.0577, -0.0230,\n",
            "          0.0133,  0.0116, -0.0209, -0.0416, -0.0067, -0.0323, -0.0130, -0.0105]],\n",
            "       grad_fn=<SelectBackward>)\n"
          ],
          "name": "stdout"
        },
        {
          "output_type": "execute_result",
          "data": {
            "text/plain": [
              "torch.Size([1, 18])"
            ]
          },
          "metadata": {
            "tags": []
          },
          "execution_count": 95
        }
      ]
    },
    {
      "cell_type": "code",
      "metadata": {
        "id": "WcSyb-xX0fwR",
        "colab_type": "code",
        "colab": {
          "base_uri": "https://localhost:8080/",
          "height": 347
        },
        "outputId": "fa284290-a6d8-49a8-f7ae-76fae8f2f9f1"
      },
      "source": [
        "train_setup(net_gru, lr=0.001, n_batches=100, batch_size=256)"
      ],
      "execution_count": 92,
      "outputs": [
        {
          "output_type": "stream",
          "text": [
            "Iteration: 95 Top-1 0.6192019950124689 Top-2 0.7448877805486285\n"
          ],
          "name": "stdout"
        },
        {
          "output_type": "display_data",
          "data": {
            "image/png": "[encoded data removed]",
            "text/plain": [
              "<Figure size 432x288 with 1 Axes>"
            ]
          },
          "metadata": {
            "tags": [],
            "needs_background": "light"
          }
        },
        {
          "output_type": "stream",
          "text": [
            "\n",
            "\n",
            "\n"
          ],
          "name": "stdout"
        }
      ]
    },
    {
      "cell_type": "code",
      "metadata": {
        "id": "NPXrCKA22E0I",
        "colab_type": "code",
        "colab": {}
      },
      "source": [
        ""
      ],
      "execution_count": 0,
      "outputs": []
    }
  ]
}