{
  "nbformat": 4,
  "nbformat_minor": 0,
  "metadata": {
    "colab": {
      "name": "Label generation for sequence using batching.ipynb",
      "provenance": [],
      "toc_visible": true
    },
    "kernelspec": {
      "name": "python3",
      "display_name": "Python 3"
    }
  },
  "cells": [
    {
      "cell_type": "markdown",
      "metadata": {
        "id": "AGKdwqblhv4x",
        "colab_type": "text"
      },
      "source": [
        "# Imports"
      ]
    },
    {
      "cell_type": "code",
      "metadata": {
        "id": "_skZ_g7ehB9o",
        "colab_type": "code",
        "outputId": "eb0e91e4-a3ba-414e-878e-c5daa4c3ba13",
        "colab": {
          "base_uri": "https://localhost:8080/",
          "height": 71
        }
      },
      "source": [
        "from io import open\n",
        "import os, string, random, time, math\n",
        "import matplotlib.pyplot as plt\n",
        "import seaborn as sns\n",
        "import numpy as np"
      ],
      "execution_count": 1,
      "outputs": [
        {
          "output_type": "stream",
          "text": [
            "/usr/local/lib/python3.6/dist-packages/statsmodels/tools/_testing.py:19: FutureWarning: pandas.util.testing is deprecated. Use the functions in the public API at pandas.testing instead.\n",
            "  import pandas.util.testing as tm\n"
          ],
          "name": "stderr"
        }
      ]
    },
    {
      "cell_type": "code",
      "metadata": {
        "id": "hNbwxTRMhVFG",
        "colab_type": "code",
        "colab": {}
      },
      "source": [
        "from sklearn.model_selection import train_test_split"
      ],
      "execution_count": 0,
      "outputs": []
    },
    {
      "cell_type": "code",
      "metadata": {
        "id": "sXaO1SbvhZBS",
        "colab_type": "code",
        "colab": {}
      },
      "source": [
        "import torch\n",
        "import torch.nn as nn\n",
        "import torch.optim as optim"
      ],
      "execution_count": 0,
      "outputs": []
    },
    {
      "cell_type": "code",
      "metadata": {
        "id": "fWwSJRxxhfm2",
        "colab_type": "code",
        "colab": {}
      },
      "source": [
        "device = torch.device(\"cuda:0\" if torch.cuda.is_available() else \"cpu\")"
      ],
      "execution_count": 0,
      "outputs": []
    },
    {
      "cell_type": "code",
      "metadata": {
        "id": "mzOwBdEKhoGV",
        "colab_type": "code",
        "colab": {}
      },
      "source": [
        "from IPython.display import clear_output"
      ],
      "execution_count": 0,
      "outputs": []
    },
    {
      "cell_type": "markdown",
      "metadata": {
        "id": "9P4J8GPQhyK4",
        "colab_type": "text"
      },
      "source": [
        "# Dataset"
      ]
    },
    {
      "cell_type": "code",
      "metadata": {
        "id": "O9lbCrk1hrms",
        "colab_type": "code",
        "colab": {}
      },
      "source": [
        "languages = []\n",
        "data = []\n",
        "\n",
        "X = []\n",
        "Y = []\n",
        "\n",
        "with open('name2lang.txt','r') as f:\n",
        "  for line in f:\n",
        "    line = line.split(',')\n",
        "    name = line[0].strip()\n",
        "    lang = line[1].strip()\n",
        "    if not lang in languages:\n",
        "      languages.append(lang)\n",
        "    X.append(name)\n",
        "    Y.append(lang)\n",
        "    data.append((name,lang))"
      ],
      "execution_count": 0,
      "outputs": []
    },
    {
      "cell_type": "code",
      "metadata": {
        "id": "oABr0p__ifKH",
        "colab_type": "code",
        "colab": {}
      },
      "source": [
        "n_languages = len(languages)"
      ],
      "execution_count": 0,
      "outputs": []
    },
    {
      "cell_type": "code",
      "metadata": {
        "id": "nYpusT44ih31",
        "colab_type": "code",
        "outputId": "ef5ca4e5-693a-4f26-b7e9-cfe33140faf2",
        "colab": {
          "base_uri": "https://localhost:8080/",
          "height": 88
        }
      },
      "source": [
        "print(n_languages)\n",
        "print(languages)\n",
        "print(data[0:10])"
      ],
      "execution_count": 8,
      "outputs": [
        {
          "output_type": "stream",
          "text": [
            "18\n",
            "['Portuguese', 'Irish', 'Spanish', 'Vietnamese', 'Chinese', 'Greek', 'Czech', 'Dutch', 'Japanese', 'French', 'German', 'Scottish', 'English', 'Russian', 'Polish', 'Arabic', 'Korean', 'Italian']\n",
            "[('Abreu', 'Portuguese'), ('Albuquerque', 'Portuguese'), ('Almeida', 'Portuguese'), ('Alves', 'Portuguese'), ('Araujo', 'Portuguese'), ('Araullo', 'Portuguese'), ('Barros', 'Portuguese'), ('Basurto', 'Portuguese'), ('Belo', 'Portuguese'), ('Cabral', 'Portuguese')]\n"
          ],
          "name": "stdout"
        }
      ]
    },
    {
      "cell_type": "markdown",
      "metadata": {
        "id": "1DQ2f-qziy_-",
        "colab_type": "text"
      },
      "source": [
        "# Train-test split"
      ]
    },
    {
      "cell_type": "code",
      "metadata": {
        "id": "E5duOp_5iuiA",
        "colab_type": "code",
        "colab": {}
      },
      "source": [
        "X_train, X_test, Y_train, Y_test = train_test_split(X,Y, test_size = 0.2, random_state=0, stratify=Y)"
      ],
      "execution_count": 0,
      "outputs": []
    },
    {
      "cell_type": "markdown",
      "metadata": {
        "id": "2CtwZyCljFo6",
        "colab_type": "text"
      },
      "source": [
        "# Encoding names and languages"
      ]
    },
    {
      "cell_type": "code",
      "metadata": {
        "id": "oVG-h4syi_Ru",
        "colab_type": "code",
        "outputId": "d58bf9d9-32fc-4f16-e2ec-019034cd68fb",
        "colab": {
          "base_uri": "https://localhost:8080/",
          "height": 51
        }
      },
      "source": [
        "all_letters = string.ascii_letters + \" .,;'\"\n",
        "n_letters = len(all_letters)\n",
        "\n",
        "print(n_letters)\n",
        "print(all_letters)"
      ],
      "execution_count": 16,
      "outputs": [
        {
          "output_type": "stream",
          "text": [
            "57\n",
            "abcdefghijklmnopqrstuvwxyzABCDEFGHIJKLMNOPQRSTUVWXYZ .,;'\n"
          ],
          "name": "stdout"
        }
      ]
    },
    {
      "cell_type": "code",
      "metadata": {
        "id": "DyChiajUjOsQ",
        "colab_type": "code",
        "colab": {}
      },
      "source": [
        "def name_rep(name):\n",
        "\n",
        "  \"\"\"\n",
        "  Returns the stacked one-hot encoding of the input word.\n",
        "  \"\"\"\n",
        "  rep = torch.zeros(len(name),1,n_letters) # Stacking\n",
        "  for index, letter in enumerate(name):\n",
        "    pos = all_letters.index(letter)\n",
        "    rep[index][0][pos] = 1 # Marking\n",
        "  return rep"
      ],
      "execution_count": 0,
      "outputs": []
    },
    {
      "cell_type": "code",
      "metadata": {
        "id": "QvZY-tHplks-",
        "colab_type": "code",
        "outputId": "3c4e61be-b742-4d54-8098-f2e5a639b62c",
        "colab": {
          "base_uri": "https://localhost:8080/",
          "height": 34
        }
      },
      "source": [
        "name_rep(\"Shiv\").shape"
      ],
      "execution_count": 18,
      "outputs": [
        {
          "output_type": "execute_result",
          "data": {
            "text/plain": [
              "torch.Size([4, 1, 57])"
            ]
          },
          "metadata": {
            "tags": []
          },
          "execution_count": 18
        }
      ]
    },
    {
      "cell_type": "code",
      "metadata": {
        "id": "5D1CHEQlKW36",
        "colab_type": "code",
        "outputId": "fbe1d3ce-62e5-4f60-ce47-257c2a700e29",
        "colab": {
          "base_uri": "https://localhost:8080/",
          "height": 51
        }
      },
      "source": [
        "names = [\"Shiv\",\"Agrima\",\"Akhil\"]\n",
        "lengths = [len(name) for name in names]\n",
        "max_len = max(lengths)\n",
        "print(lengths)\n",
        "print(max_len)"
      ],
      "execution_count": 19,
      "outputs": [
        {
          "output_type": "stream",
          "text": [
            "[4, 6, 5]\n",
            "6\n"
          ],
          "name": "stdout"
        }
      ]
    },
    {
      "cell_type": "code",
      "metadata": {
        "id": "xZFt8QZflBtr",
        "colab_type": "code",
        "colab": {}
      },
      "source": [
        "def lang_rep(lang):\n",
        "  \"\"\"\n",
        "  Returns the one-hot encoding of the language\n",
        "  \"\"\"\n",
        "  rep = torch.zeros(1,dtype=torch.long)\n",
        "  pos = languages.index(lang)\n",
        "  rep[0] = pos\n",
        "  return rep"
      ],
      "execution_count": 0,
      "outputs": []
    },
    {
      "cell_type": "code",
      "metadata": {
        "id": "QmPn2YpLlR7o",
        "colab_type": "code",
        "outputId": "a3430b85-7716-4016-b9a5-0d8fec8f1369",
        "colab": {
          "base_uri": "https://localhost:8080/",
          "height": 34
        }
      },
      "source": [
        "lang_rep(\"Spanish\")"
      ],
      "execution_count": 25,
      "outputs": [
        {
          "output_type": "execute_result",
          "data": {
            "text/plain": [
              "tensor([2])"
            ]
          },
          "metadata": {
            "tags": []
          },
          "execution_count": 25
        }
      ]
    },
    {
      "cell_type": "markdown",
      "metadata": {
        "id": "V6XVvT1bOih_",
        "colab_type": "text"
      },
      "source": [
        "# Batched encoding"
      ]
    },
    {
      "cell_type": "code",
      "metadata": {
        "id": "yTHKtbIqJ-vN",
        "colab_type": "code",
        "colab": {}
      },
      "source": [
        "def name_rep_batch(names, max_len):\n",
        "\n",
        "  \"\"\"\n",
        "  Returns the padded ohe representation for the list of names sent as input\n",
        "  \"\"\"\n",
        "\n",
        "  rep = torch.zeros(max_len, len(names),n_letters)\n",
        "  for name_index,name in enumerate(names):\n",
        "    for letter_index, letter in enumerate(name):\n",
        "      pos = all_letters.index(letter)\n",
        "      rep[letter_index][name_index][pos] = 1\n",
        "\n",
        "  return rep"
      ],
      "execution_count": 0,
      "outputs": []
    },
    {
      "cell_type": "code",
      "metadata": {
        "id": "921xZZTKLWVZ",
        "colab_type": "code",
        "colab": {
          "base_uri": "https://localhost:8080/",
          "height": 34
        },
        "outputId": "be8a280d-ff1e-4b9f-d5f6-408aa6852cc9"
      },
      "source": [
        "name_rep_batch([\"Shiv\",\"Agrima\",\"Akhil\"],6).shape"
      ],
      "execution_count": 29,
      "outputs": [
        {
          "output_type": "execute_result",
          "data": {
            "text/plain": [
              "torch.Size([6, 3, 57])"
            ]
          },
          "metadata": {
            "tags": []
          },
          "execution_count": 29
        }
      ]
    },
    {
      "cell_type": "code",
      "metadata": {
        "id": "QLmCNEbbLkqY",
        "colab_type": "code",
        "colab": {}
      },
      "source": [
        "def lang_rep_batch(langs):\n",
        "  \"\"\"\n",
        "  Returns the one-hot encoding for the languages as single tensor\n",
        "  \"\"\"\n",
        "\n",
        "  rep = torch.zeros(len(langs),dtype=torch.long)\n",
        "  for lang_index, lang in enumerate(langs):\n",
        "    pos = languages.index(lang)\n",
        "    rep[lang_index] = pos\n",
        "\n",
        "  return rep"
      ],
      "execution_count": 0,
      "outputs": []
    },
    {
      "cell_type": "code",
      "metadata": {
        "id": "ca0HO0zdMBhA",
        "colab_type": "code",
        "colab": {
          "base_uri": "https://localhost:8080/",
          "height": 34
        },
        "outputId": "b3d207c2-8bc7-4528-a03f-0d0d1b39e9e1"
      },
      "source": [
        "lang_rep_batch([\"Spanish\",\"Russian\",\"English\"])"
      ],
      "execution_count": 33,
      "outputs": [
        {
          "output_type": "execute_result",
          "data": {
            "text/plain": [
              "tensor([ 2, 13, 12])"
            ]
          },
          "metadata": {
            "tags": []
          },
          "execution_count": 33
        }
      ]
    },
    {
      "cell_type": "markdown",
      "metadata": {
        "id": "gjYaA0QeRiaV",
        "colab_type": "text"
      },
      "source": [
        "# Dataloader"
      ]
    },
    {
      "cell_type": "code",
      "metadata": {
        "id": "RtqfIZc-Rj0x",
        "colab_type": "code",
        "colab": {}
      },
      "source": [
        "def dataloader(n_points, X_, Y_):\n",
        "  \"\"\"\n",
        "  Returns a list of (n_points) tuples containing (x,y,stacked ohe for x, along with ohe for y)\n",
        "  \"\"\"\n",
        "  to_ret = []\n",
        "  for i in range(n_points):\n",
        "    index_ = np.random.randint(len(X_))\n",
        "    name,lang = X_[index_],Y_[index_]\n",
        "    to_ret.append((name,lang, name_rep(name),lang_rep(lang)))\n",
        "  return to_ret"
      ],
      "execution_count": 0,
      "outputs": []
    },
    {
      "cell_type": "markdown",
      "metadata": {
        "id": "gDPOtR9ynepe",
        "colab_type": "text"
      },
      "source": [
        "# Batched Dataloader"
      ]
    },
    {
      "cell_type": "code",
      "metadata": {
        "id": "DWfq-ROwndwg",
        "colab_type": "code",
        "colab": {}
      },
      "source": [
        "def batched_dataloader(n_points, X_, Y_,verbose=False, device=\"cpu\"):\n",
        "  \"\"\"\n",
        "  Returns a list of (n_points) tuples containing packed representation of names \n",
        "  and stacked version for langs, along with lengths of used words\n",
        "  \"\"\"\n",
        "  names = []\n",
        "  langs = []\n",
        "  X_lengths = []\n",
        "\n",
        "  for i in range(n_points):\n",
        "    index_ = np.random.randint(len(X_))\n",
        "    name,lang = X_[index_], Y_[index_]\n",
        "    X_lengths.append(len(name))\n",
        "    names.append(name)\n",
        "    langs.append(lang)\n",
        "  max_length = max(X_lengths)\n",
        "\n",
        "  names_rep = name_rep_batch(names, max_length).to(device)\n",
        "  langs_rep = lang_rep_batch(langs).to(device)\n",
        "\n",
        "  packed_names_rep = torch.nn.utils.rnn.pack_padded_sequence(names_rep, X_lengths, enforce_sorted=False)\n",
        "\n",
        "  if verbose:\n",
        "    print(\"Padded names rep:\", names_rep.shape)\n",
        "    print(\"Packed names rep:\", packed_names_rep.data.shape)\n",
        "    print(\"Langes rep:\", langs_rep.shape)\n",
        "\n",
        "  return packed_names_rep, langs_rep, X_lengths"
      ],
      "execution_count": 0,
      "outputs": []
    },
    {
      "cell_type": "code",
      "metadata": {
        "id": "qo_0cAJlNn8J",
        "colab_type": "code",
        "colab": {
          "base_uri": "https://localhost:8080/",
          "height": 68
        },
        "outputId": "18c4b3c1-ecc7-4f93-d9c1-37745bb755da"
      },
      "source": [
        "p,l,x = dataloader(3, X_train, Y_train, verbose=True)"
      ],
      "execution_count": 37,
      "outputs": [
        {
          "output_type": "stream",
          "text": [
            "Padded names rep: torch.Size([8, 3, 57])\n",
            "Packed names rep: torch.Size([21, 57])\n",
            "Langes rep: torch.Size([3])\n"
          ],
          "name": "stdout"
        }
      ]
    },
    {
      "cell_type": "markdown",
      "metadata": {
        "id": "eTb7Ijr5oDIz",
        "colab_type": "text"
      },
      "source": [
        "# LSTM"
      ]
    },
    {
      "cell_type": "code",
      "metadata": {
        "id": "htjxFpbJni2r",
        "colab_type": "code",
        "colab": {}
      },
      "source": [
        "class LSTM_net(nn.Module):\n",
        "\n",
        "  def __init__(self, input_size, hidden_size, output_size):\n",
        "\n",
        "    super(LSTM_net, self).__init__()\n",
        "\n",
        "    self.hidden_size = hidden_size\n",
        "    self.output_size = output_size\n",
        "\n",
        "    self.lstm_cell = nn.LSTM(input_size, hidden_size)\n",
        "    self.h2o = nn.Linear(hidden_size, output_size)\n",
        "    self.softmax = nn.LogSoftmax(dim=2)\n",
        "\n",
        "  def forward(self,input_, hidden=None,verbose=False, infer=False):\n",
        "\n",
        "    out, hidden = self.lstm_cell(input_, hidden)\n",
        "    if infer:\n",
        "      output = self.softmax(self.h2o(out))\n",
        "      return output[-1]\n",
        "    else:\n",
        "      out_padded, lengths = torch.nn.utils.rnn.pad_packed_sequence(out)\n",
        "      output = self.softmax(self.h2o(out_padded))\n",
        "      act_output = torch.zeros(output.shape[1], output.shape[2])\n",
        "      for i in range(output.shape[1]):\n",
        "        act_output[i] = output[lengths[i]-1,i]\n",
        "\n",
        "\n",
        "    if verbose:\n",
        "      print(\"LSTM output:\",out.data.shape)\n",
        "      print(\"Padded output:\", out_padded.shape)\n",
        "      print(\"LSTM hidden state:\",hidden[0].shape)\n",
        "      print(\"Unpacked output shape:\",output.shape)\n",
        "      print(\"Final output shape\",act_output.shape)\n",
        "\n",
        "    return act_output\n",
        "    \n",
        "  def init_hidden(self):\n",
        "    return (torch.zeros(1,1,self.hidden_size),torch.zeros(1,1,self.hidden_size))"
      ],
      "execution_count": 0,
      "outputs": []
    },
    {
      "cell_type": "markdown",
      "metadata": {
        "id": "VLDiMjDtqVWu",
        "colab_type": "text"
      },
      "source": [
        "# Inference"
      ]
    },
    {
      "cell_type": "code",
      "metadata": {
        "id": "RpCtQiOrpBJW",
        "colab_type": "code",
        "colab": {}
      },
      "source": [
        "n_hidden = 128\n",
        "net_lstm = LSTM_net(n_letters, n_hidden, n_languages)"
      ],
      "execution_count": 0,
      "outputs": []
    },
    {
      "cell_type": "code",
      "metadata": {
        "id": "H-m6KJOgpULr",
        "colab_type": "code",
        "colab": {}
      },
      "source": [
        "def infer(net, name):\n",
        "  name_ohe = name_rep(name)\n",
        "  hidden = net.init_hidden()\n",
        "\n",
        "  output = net(name_ohe, hidden,infer=True)\n",
        "  return output"
      ],
      "execution_count": 0,
      "outputs": []
    },
    {
      "cell_type": "code",
      "metadata": {
        "id": "nFk7PkdGssnm",
        "colab_type": "code",
        "outputId": "d7f38110-0cc2-4717-a5d7-1396bc2cc6bd",
        "colab": {
          "base_uri": "https://localhost:8080/",
          "height": 34
        }
      },
      "source": [
        "infer(net_lstm,\"Agrima\").shape"
      ],
      "execution_count": 52,
      "outputs": [
        {
          "output_type": "execute_result",
          "data": {
            "text/plain": [
              "torch.Size([1, 18])"
            ]
          },
          "metadata": {
            "tags": []
          },
          "execution_count": 52
        }
      ]
    },
    {
      "cell_type": "markdown",
      "metadata": {
        "id": "xM_NladetHnh",
        "colab_type": "text"
      },
      "source": [
        "# Evaluate"
      ]
    },
    {
      "cell_type": "code",
      "metadata": {
        "id": "D_qrrKYLszbj",
        "colab_type": "code",
        "colab": {}
      },
      "source": [
        "def evaluate(net, n_points, X_, Y_):\n",
        "\n",
        "  data = dataloader(n_points, X_, Y_)\n",
        "  correct = 0\n",
        "  \n",
        "  for sample in data:\n",
        "    hidden = net.init_hidden()\n",
        "    output = net(sample[2], hidden, infer=True)\n",
        "    if output.argmax()==sample[3]:\n",
        "      correct+=1\n",
        "  \n",
        "  return (correct/n_points)*100"
      ],
      "execution_count": 0,
      "outputs": []
    },
    {
      "cell_type": "code",
      "metadata": {
        "id": "T1CdS3wuudpv",
        "colab_type": "code",
        "outputId": "ecd9672a-e358-4478-ddf0-0ff2ba629e49",
        "colab": {
          "base_uri": "https://localhost:8080/",
          "height": 34
        }
      },
      "source": [
        "evaluate(net_lstm,1000,X_train, Y_train)"
      ],
      "execution_count": 56,
      "outputs": [
        {
          "output_type": "execute_result",
          "data": {
            "text/plain": [
              "0.2"
            ]
          },
          "metadata": {
            "tags": []
          },
          "execution_count": 56
        }
      ]
    },
    {
      "cell_type": "markdown",
      "metadata": {
        "id": "lyxWLJTDutPm",
        "colab_type": "text"
      },
      "source": [
        "# Train"
      ]
    },
    {
      "cell_type": "code",
      "metadata": {
        "id": "_gafe-2DuuJm",
        "colab_type": "code",
        "colab": {}
      },
      "source": [
        "def train(net, opt, criterion, n_points):\n",
        "  opt.zero_grad()\n",
        "  total_loss = 0\n",
        "\n",
        "  input_, lang_rep, x_lengths= batched_dataloader(n_points, X_train, Y_train)\n",
        "  output = net(input_)\n",
        "  \n",
        "  loss = criterion(output, lang_rep)\n",
        "  loss.backward(retain_graph=True)\n",
        "  total_loss = loss\n",
        "  opt.step()\n",
        "\n",
        "  return total_loss"
      ],
      "execution_count": 0,
      "outputs": []
    },
    {
      "cell_type": "code",
      "metadata": {
        "id": "emLpNSwdw2ni",
        "colab_type": "code",
        "outputId": "3c0d71f4-f4b5-4a4b-9f20-7d92d12a72b4",
        "colab": {
          "base_uri": "https://localhost:8080/",
          "height": 34
        }
      },
      "source": [
        "opt = optim.SGD(net_lstm.parameters(),lr=0.005, momentum=0.9)\n",
        "criterion = nn.NLLLoss()\n",
        "n_hidden = 128\n",
        "net_lstm = LSTM_net(n_letters, n_hidden , n_languages)\n",
        "train(net_lstm,opt,criterion, 256)"
      ],
      "execution_count": 115,
      "outputs": [
        {
          "output_type": "execute_result",
          "data": {
            "text/plain": [
              "tensor(2.8918, grad_fn=<NllLossBackward>)"
            ]
          },
          "metadata": {
            "tags": []
          },
          "execution_count": 115
        }
      ]
    },
    {
      "cell_type": "code",
      "metadata": {
        "id": "HdB3jlS8xYXT",
        "colab_type": "code",
        "outputId": "a56f14df-07ca-4168-b951-f0e4cd89f3a4",
        "colab": {
          "base_uri": "https://localhost:8080/",
          "height": 34
        }
      },
      "source": [
        "evaluate(net_lstm,1000, X_train, Y_train)"
      ],
      "execution_count": 79,
      "outputs": [
        {
          "output_type": "execute_result",
          "data": {
            "text/plain": [
              "32.2"
            ]
          },
          "metadata": {
            "tags": []
          },
          "execution_count": 79
        }
      ]
    },
    {
      "cell_type": "code",
      "metadata": {
        "id": "agQo-qUKxyn7",
        "colab_type": "code",
        "outputId": "549535b1-9649-4e55-b6eb-96142de085f6",
        "colab": {
          "base_uri": "https://localhost:8080/",
          "height": 34
        }
      },
      "source": [
        "evaluate(net_lstm,1000, X_test, Y_test)"
      ],
      "execution_count": 80,
      "outputs": [
        {
          "output_type": "execute_result",
          "data": {
            "text/plain": [
              "31.900000000000002"
            ]
          },
          "metadata": {
            "tags": []
          },
          "execution_count": 80
        }
      ]
    },
    {
      "cell_type": "markdown",
      "metadata": {
        "id": "dezYhCWJyLCL",
        "colab_type": "text"
      },
      "source": [
        "# Training Setup"
      ]
    },
    {
      "cell_type": "code",
      "metadata": {
        "id": "yQydHQ83yJiK",
        "colab_type": "code",
        "colab": {}
      },
      "source": [
        "def training_setup(net, batch_size=2, n_batches=100, lr=0.001, momentum=0.9,display_freq=5):\n",
        "\n",
        "  opt = optim.SGD(net.parameters(),lr=lr,momentum=momentum)\n",
        "  criterion = nn.NLLLoss()\n",
        "\n",
        "  loss_arr_avg = np.zeros(n_batches+1)\n",
        "\n",
        "  for i in range(n_batches):\n",
        "    loss = train(net, opt, criterion, batch_size) \n",
        "    loss_arr_avg[i+1] = (loss_arr_avg[i]*i + loss)/(i+1)\n",
        "\n",
        "    if i%display_freq==0:\n",
        "      clear_output(wait=True)\n",
        "      plt.figure()\n",
        "      plt.plot(loss_arr_avg[1:i],\"r-\")\n",
        "      plt.xlabel(\"Iteration\")\n",
        "      plt.ylabel(\"Loss\")\n",
        "      plt.show()\n",
        "      print(\"\\n\\n\")  \n",
        "  \n",
        "  training_acc = 0\n",
        "  testing_acc = 0\n",
        "  for i in range(10):\n",
        "    training_acc+= evaluate(net_lstm,1000, X_train, Y_train)\n",
        "    testing_acc+=evaluate(net_lstm, 1000, X_test, Y_test)\n",
        "\n",
        "  print(\"Training acc:\", training_acc/10)\n",
        "  print(\"Testing acc:\", testing_acc/10)\n"
      ],
      "execution_count": 0,
      "outputs": []
    },
    {
      "cell_type": "markdown",
      "metadata": {
        "id": "ixcGiKIO6Zrh",
        "colab_type": "text"
      },
      "source": [
        "# Results"
      ]
    },
    {
      "cell_type": "code",
      "metadata": {
        "id": "7GA4mSk4VL3Z",
        "colab_type": "code",
        "colab": {
          "base_uri": "https://localhost:8080/",
          "height": 364
        },
        "outputId": "494423ea-19e6-411e-d4f2-052a38960027"
      },
      "source": [
        "n_hidden = 128\n",
        "net_lstm = LSTM_net(n_letters, n_hidden, n_languages)\n",
        "training_setup(net_lstm, 256, 1000, lr=0.005)"
      ],
      "execution_count": 97,
      "outputs": [
        {
          "output_type": "display_data",
          "data": {
            "image/png": "[encoded data removed]",
            "text/plain": [
              "<Figure size 432x288 with 1 Axes>"
            ]
          },
          "metadata": {
            "tags": [],
            "needs_background": "light"
          }
        },
        {
          "output_type": "stream",
          "text": [
            "\n",
            "\n",
            "\n",
            "Training acc: 46.5\n",
            "Testing acc: 48.1\n"
          ],
          "name": "stdout"
        }
      ]
    },
    {
      "cell_type": "code",
      "metadata": {
        "id": "pTeh-aFKVVrt",
        "colab_type": "code",
        "colab": {
          "base_uri": "https://localhost:8080/",
          "height": 364
        },
        "outputId": "b2978535-d7c6-471e-a833-da5abbee7866"
      },
      "source": [
        "n_hidden = 128\n",
        "net_lstm = LSTM_net(n_letters, n_hidden, n_languages)\n",
        "training_setup(net_lstm, 256, 1000, lr=0.01)"
      ],
      "execution_count": 98,
      "outputs": [
        {
          "output_type": "display_data",
          "data": {
            "image/png": "[encoded data removed]",
            "text/plain": [
              "<Figure size 432x288 with 1 Axes>"
            ]
          },
          "metadata": {
            "tags": [],
            "needs_background": "light"
          }
        },
        {
          "output_type": "stream",
          "text": [
            "\n",
            "\n",
            "\n",
            "Training acc: 56.00000000000001\n",
            "Testing acc: 58.3\n"
          ],
          "name": "stdout"
        }
      ]
    },
    {
      "cell_type": "code",
      "metadata": {
        "id": "tQXDIvgfdqrB",
        "colab_type": "code",
        "colab": {
          "base_uri": "https://localhost:8080/",
          "height": 364
        },
        "outputId": "5269e74f-785e-4067-e3bb-9ed9c561b9f5"
      },
      "source": [
        "n_hidden = 128\n",
        "net_lstm = LSTM_net(n_letters, n_hidden, n_languages)\n",
        "training_setup(net_lstm, 256, 5000, lr=0.01)"
      ],
      "execution_count": 99,
      "outputs": [
        {
          "output_type": "display_data",
          "data": {
            "image/png": "[encoded data removed]",
            "text/plain": [
              "<Figure size 432x288 with 1 Axes>"
            ]
          },
          "metadata": {
            "tags": [],
            "needs_background": "light"
          }
        },
        {
          "output_type": "stream",
          "text": [
            "\n",
            "\n",
            "\n",
            "Training acc: 75.8\n",
            "Testing acc: 74.5\n"
          ],
          "name": "stdout"
        }
      ]
    },
    {
      "cell_type": "code",
      "metadata": {
        "id": "_tMgUnH5gE4H",
        "colab_type": "code",
        "colab": {
          "base_uri": "https://localhost:8080/",
          "height": 364
        },
        "outputId": "e433206c-4bb4-4f3a-a316-e91a733a7bab"
      },
      "source": [
        "n_hidden = 128\n",
        "net_lstm = LSTM_net(n_letters, n_hidden, n_languages)\n",
        "training_setup(net_lstm, 256, 1000, lr=0.1)"
      ],
      "execution_count": 100,
      "outputs": [
        {
          "output_type": "display_data",
          "data": {
            "image/png": "[encoded data removed]",
            "text/plain": [
              "<Figure size 432x288 with 1 Axes>"
            ]
          },
          "metadata": {
            "tags": [],
            "needs_background": "light"
          }
        },
        {
          "output_type": "stream",
          "text": [
            "\n",
            "\n",
            "\n",
            "Training acc: 76.9\n",
            "Testing acc: 76.6\n"
          ],
          "name": "stdout"
        }
      ]
    },
    {
      "cell_type": "code",
      "metadata": {
        "id": "67LCgHWPjQM6",
        "colab_type": "code",
        "colab": {
          "base_uri": "https://localhost:8080/",
          "height": 367
        },
        "outputId": "c1e7cd77-ec7d-40a5-8746-7eaae6d6493c"
      },
      "source": [
        "n_hidden = 128\n",
        "net_lstm = LSTM_net(n_letters, n_hidden, n_languages)\n",
        "training_setup(net_lstm, 256, 5000, lr=0.1)"
      ],
      "execution_count": 101,
      "outputs": [
        {
          "output_type": "display_data",
          "data": {
            "image/png": "[encoded data removed]",
            "text/plain": [
              "<Figure size 432x288 with 1 Axes>"
            ]
          },
          "metadata": {
            "tags": [],
            "needs_background": "light"
          }
        },
        {
          "output_type": "stream",
          "text": [
            "\n",
            "\n",
            "\n",
            "Training acc: 96.3\n",
            "Testing acc: 79.9\n"
          ],
          "name": "stdout"
        }
      ]
    },
    {
      "cell_type": "code",
      "metadata": {
        "id": "Ak_W34ejn3x3",
        "colab_type": "code",
        "colab": {
          "base_uri": "https://localhost:8080/",
          "height": 364
        },
        "outputId": "a087e6eb-eaed-441e-a84f-e6ac4dd70adb"
      },
      "source": [
        "n_hidden = 128\n",
        "net_lstm = LSTM_net(n_letters, n_hidden, n_languages)\n",
        "training_setup(net_lstm, 256, 2500, lr=0.1)"
      ],
      "execution_count": 102,
      "outputs": [
        {
          "output_type": "display_data",
          "data": {
            "image/png": "[encoded data removed]",
            "text/plain": [
              "<Figure size 432x288 with 1 Axes>"
            ]
          },
          "metadata": {
            "tags": [],
            "needs_background": "light"
          }
        },
        {
          "output_type": "stream",
          "text": [
            "\n",
            "\n",
            "\n",
            "Training acc: 87.0\n",
            "Testing acc: 80.10000000000001\n"
          ],
          "name": "stdout"
        }
      ]
    },
    {
      "cell_type": "code",
      "metadata": {
        "id": "wkiLquSfr1sM",
        "colab_type": "code",
        "colab": {
          "base_uri": "https://localhost:8080/",
          "height": 34
        },
        "outputId": "8d7b89a7-aede-4de1-f674-c43fb1de3e90"
      },
      "source": [
        "evaluate(net_lstm, 1000, X_test, Y_test)"
      ],
      "execution_count": 106,
      "outputs": [
        {
          "output_type": "execute_result",
          "data": {
            "text/plain": [
              "81.69999999999999"
            ]
          },
          "metadata": {
            "tags": []
          },
          "execution_count": 106
        }
      ]
    },
    {
      "cell_type": "code",
      "metadata": {
        "id": "0zL5k91juAeu",
        "colab_type": "code",
        "colab": {
          "base_uri": "https://localhost:8080/",
          "height": 34
        },
        "outputId": "04fc774c-3768-4f6d-90e8-fddde2f586ef"
      },
      "source": [
        "evaluate(net_lstm, 1000, X_train, Y_train)"
      ],
      "execution_count": 107,
      "outputs": [
        {
          "output_type": "execute_result",
          "data": {
            "text/plain": [
              "87.1"
            ]
          },
          "metadata": {
            "tags": []
          },
          "execution_count": 107
        }
      ]
    },
    {
      "cell_type": "code",
      "metadata": {
        "id": "eJiIP-4auHxA",
        "colab_type": "code",
        "colab": {
          "base_uri": "https://localhost:8080/",
          "height": 364
        },
        "outputId": "2e196d6a-367f-4801-ada5-b1a701c2571c"
      },
      "source": [
        "n_hidden = 128\n",
        "net_lstm = LSTM_net(n_letters, n_hidden, n_languages)\n",
        "training_setup(net_lstm, 256, 2000, lr=0.1)"
      ],
      "execution_count": 120,
      "outputs": [
        {
          "output_type": "display_data",
          "data": {
            "image/png": "[encoded data removed]",
            "text/plain": [
              "<Figure size 432x288 with 1 Axes>"
            ]
          },
          "metadata": {
            "tags": [],
            "needs_background": "light"
          }
        },
        {
          "output_type": "stream",
          "text": [
            "\n",
            "\n",
            "\n",
            "Training acc: 84.12\n",
            "Testing acc: 79.43\n"
          ],
          "name": "stdout"
        }
      ]
    }
  ]
}