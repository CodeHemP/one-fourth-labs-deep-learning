{
  "nbformat": 4,
  "nbformat_minor": 0,
  "metadata": {
    "colab": {
      "name": "2408_PythonBasics.ipynb",
      "version": "0.3.2",
      "provenance": [],
      "collapsed_sections": [
        "JcUg29a-yBoS",
        "HuV8q602ycUL",
        "qaUa91iqyjo7"
      ],
      "machine_shape": "hm"
    },
    "kernelspec": {
      "name": "python3",
      "display_name": "Python 3"
    },
    "accelerator": "GPU"
  },
  "cells": [
    {
      "cell_type": "markdown",
      "metadata": {
        "id": "JcUg29a-yBoS",
        "colab_type": "text"
      },
      "source": [
        "# Simple Data Types and Basic Operators"
      ]
    },
    {
      "cell_type": "code",
      "metadata": {
        "id": "mdgekZkyrDIb",
        "colab_type": "code",
        "colab": {}
      },
      "source": [
        "name = 'iPhone 5S'"
      ],
      "execution_count": 0,
      "outputs": []
    },
    {
      "cell_type": "code",
      "metadata": {
        "id": "ZckRAteJsFYq",
        "colab_type": "code",
        "colab": {
          "base_uri": "https://localhost:8080/",
          "height": 34
        },
        "outputId": "18c45f5d-2545-45ad-b211-337080d68e1d"
      },
      "source": [
        "name"
      ],
      "execution_count": 2,
      "outputs": [
        {
          "output_type": "execute_result",
          "data": {
            "text/plain": [
              "'iPhone 5S'"
            ]
          },
          "metadata": {
            "tags": []
          },
          "execution_count": 2
        }
      ]
    },
    {
      "cell_type": "code",
      "metadata": {
        "id": "qsGwSF1PsMB6",
        "colab_type": "code",
        "colab": {
          "base_uri": "https://localhost:8080/",
          "height": 34
        },
        "outputId": "08f19b30-e439-4e1f-bf33-8d334dcd3407"
      },
      "source": [
        "type(name)"
      ],
      "execution_count": 3,
      "outputs": [
        {
          "output_type": "execute_result",
          "data": {
            "text/plain": [
              "str"
            ]
          },
          "metadata": {
            "tags": []
          },
          "execution_count": 3
        }
      ]
    },
    {
      "cell_type": "code",
      "metadata": {
        "id": "5FYZm77tuIIM",
        "colab_type": "code",
        "colab": {
          "base_uri": "https://localhost:8080/",
          "height": 34
        },
        "outputId": "f02b7c04-20e5-4621-f372-94605f15734e"
      },
      "source": [
        "screen_size = 4.3\n",
        "type(screen_size)"
      ],
      "execution_count": 4,
      "outputs": [
        {
          "output_type": "execute_result",
          "data": {
            "text/plain": [
              "float"
            ]
          },
          "metadata": {
            "tags": []
          },
          "execution_count": 4
        }
      ]
    },
    {
      "cell_type": "code",
      "metadata": {
        "id": "eHkEKKqruQsz",
        "colab_type": "code",
        "colab": {
          "base_uri": "https://localhost:8080/",
          "height": 34
        },
        "outputId": "63920665-5c07-41bb-ddb9-6e62b0b031a9"
      },
      "source": [
        "num_of_speakers = 1\n",
        "type(num_of_speakers)"
      ],
      "execution_count": 5,
      "outputs": [
        {
          "output_type": "execute_result",
          "data": {
            "text/plain": [
              "int"
            ]
          },
          "metadata": {
            "tags": []
          },
          "execution_count": 5
        }
      ]
    },
    {
      "cell_type": "code",
      "metadata": {
        "id": "lZiuX_cyuddP",
        "colab_type": "code",
        "colab": {
          "base_uri": "https://localhost:8080/",
          "height": 34
        },
        "outputId": "41a49862-a4cd-4325-c6b7-518fe01b9b32"
      },
      "source": [
        "print(\"I just bought an\",name)"
      ],
      "execution_count": 6,
      "outputs": [
        {
          "output_type": "stream",
          "text": [
            "I just bought an iPhone 5S\n"
          ],
          "name": "stdout"
        }
      ]
    },
    {
      "cell_type": "code",
      "metadata": {
        "id": "T7g-9YeMu0Uk",
        "colab_type": "code",
        "colab": {
          "base_uri": "https://localhost:8080/",
          "height": 34
        },
        "outputId": "97298b07-549e-4fd4-f67b-6cc49de641e1"
      },
      "source": [
        "print(\"I just bought an \"+name)"
      ],
      "execution_count": 7,
      "outputs": [
        {
          "output_type": "stream",
          "text": [
            "I just bought an iPhone 5S\n"
          ],
          "name": "stdout"
        }
      ]
    },
    {
      "cell_type": "code",
      "metadata": {
        "id": "Qcl8NFzku45Q",
        "colab_type": "code",
        "colab": {
          "base_uri": "https://localhost:8080/",
          "height": 34
        },
        "outputId": "275133d8-8062-4080-d70b-cf18db681b89"
      },
      "source": [
        "is_android = False\n",
        "type(is_android)"
      ],
      "execution_count": 8,
      "outputs": [
        {
          "output_type": "execute_result",
          "data": {
            "text/plain": [
              "bool"
            ]
          },
          "metadata": {
            "tags": []
          },
          "execution_count": 8
        }
      ]
    },
    {
      "cell_type": "code",
      "metadata": {
        "id": "VTwRkav2vAO0",
        "colab_type": "code",
        "colab": {
          "base_uri": "https://localhost:8080/",
          "height": 34
        },
        "outputId": "1f29d6b8-d51c-4a37-a192-92e6181184bc"
      },
      "source": [
        "is_android==True"
      ],
      "execution_count": 9,
      "outputs": [
        {
          "output_type": "execute_result",
          "data": {
            "text/plain": [
              "False"
            ]
          },
          "metadata": {
            "tags": []
          },
          "execution_count": 9
        }
      ]
    },
    {
      "cell_type": "code",
      "metadata": {
        "id": "Ee-dRcvEvGXU",
        "colab_type": "code",
        "colab": {
          "base_uri": "https://localhost:8080/",
          "height": 34
        },
        "outputId": "eb3f2587-9327-4943-a654-4d6fe1dcd377"
      },
      "source": [
        "print(is_android==False and num_of_speakers>1)"
      ],
      "execution_count": 10,
      "outputs": [
        {
          "output_type": "stream",
          "text": [
            "False\n"
          ],
          "name": "stdout"
        }
      ]
    },
    {
      "cell_type": "markdown",
      "metadata": {
        "id": "HuV8q602ycUL",
        "colab_type": "text"
      },
      "source": [
        "# Code Blocks - If, for, while"
      ]
    },
    {
      "cell_type": "code",
      "metadata": {
        "id": "kgxaXkShyP8y",
        "colab_type": "code",
        "colab": {
          "base_uri": "https://localhost:8080/",
          "height": 34
        },
        "outputId": "1beb0dff-4279-4dee-d194-6804a0b0c285"
      },
      "source": [
        "if is_android==True:\n",
        "  print(\"inside the if condition\")\n",
        "print(\"outside if\")"
      ],
      "execution_count": 11,
      "outputs": [
        {
          "output_type": "stream",
          "text": [
            "outside if\n"
          ],
          "name": "stdout"
        }
      ]
    },
    {
      "cell_type": "code",
      "metadata": {
        "id": "GNqiRl6dyYC6",
        "colab_type": "code",
        "colab": {
          "base_uri": "https://localhost:8080/",
          "height": 102
        },
        "outputId": "414fb752-ab8b-4a6d-b262-a36690e87c61"
      },
      "source": [
        "for i in range(5):\n",
        "  print(i)"
      ],
      "execution_count": 12,
      "outputs": [
        {
          "output_type": "stream",
          "text": [
            "0\n",
            "1\n",
            "2\n",
            "3\n",
            "4\n"
          ],
          "name": "stdout"
        }
      ]
    },
    {
      "cell_type": "code",
      "metadata": {
        "id": "5L2UDggsvTYy",
        "colab_type": "code",
        "colab": {}
      },
      "source": [
        "range?"
      ],
      "execution_count": 0,
      "outputs": []
    },
    {
      "cell_type": "markdown",
      "metadata": {
        "id": "qaUa91iqyjo7",
        "colab_type": "text"
      },
      "source": [
        "# Functions"
      ]
    },
    {
      "cell_type": "code",
      "metadata": {
        "id": "WpFPqKimv97l",
        "colab_type": "code",
        "colab": {}
      },
      "source": [
        "def print_squares_with_startval(stopval,startval=0):\n",
        "  \"\"\"Prints the squares of the numbers in the given range, with stopval(exclusive) and startval(inclusive)\"\"\"\n",
        "  \n",
        "  for i in range(startval,stopval):\n",
        "    print(i,i**2)"
      ],
      "execution_count": 0,
      "outputs": []
    },
    {
      "cell_type": "code",
      "metadata": {
        "id": "8EFaq4H4xdpN",
        "colab_type": "code",
        "colab": {
          "base_uri": "https://localhost:8080/",
          "height": 68
        },
        "outputId": "f96401e0-8cae-4fc8-9d25-52c98a3f53fb"
      },
      "source": [
        "print_squares_with_startval(5,2)"
      ],
      "execution_count": 15,
      "outputs": [
        {
          "output_type": "stream",
          "text": [
            "2 4\n",
            "3 9\n",
            "4 16\n"
          ],
          "name": "stdout"
        }
      ]
    },
    {
      "cell_type": "code",
      "metadata": {
        "id": "TeY07echxfv-",
        "colab_type": "code",
        "colab": {
          "base_uri": "https://localhost:8080/",
          "height": 102
        },
        "outputId": "eb6baef0-855e-4949-9982-875cdd168e73"
      },
      "source": [
        "help(print_squares_with_startval)"
      ],
      "execution_count": 16,
      "outputs": [
        {
          "output_type": "stream",
          "text": [
            "Help on function print_squares_with_startval in module __main__:\n",
            "\n",
            "print_squares_with_startval(stopval, startval=0)\n",
            "    Prints the squares of the numbers in the given range, with stopval(exclusive) and startval(inclusive)\n",
            "\n"
          ],
          "name": "stdout"
        }
      ]
    },
    {
      "cell_type": "code",
      "metadata": {
        "id": "gbzVFQj2xjk_",
        "colab_type": "code",
        "colab": {}
      },
      "source": [
        "print_squares_with_startval?"
      ],
      "execution_count": 0,
      "outputs": []
    },
    {
      "cell_type": "code",
      "metadata": {
        "id": "PQKZViiCxvWS",
        "colab_type": "code",
        "colab": {}
      },
      "source": [
        ""
      ],
      "execution_count": 0,
      "outputs": []
    },
    {
      "cell_type": "markdown",
      "metadata": {
        "id": "qVs2_1FZyquP",
        "colab_type": "text"
      },
      "source": [
        "# Lists"
      ]
    },
    {
      "cell_type": "code",
      "metadata": {
        "id": "EBES335uyrp7",
        "colab_type": "code",
        "colab": {}
      },
      "source": [
        "my_phone = [name, is_android, screen_size]"
      ],
      "execution_count": 0,
      "outputs": []
    },
    {
      "cell_type": "code",
      "metadata": {
        "id": "w7xieyAOzCaj",
        "colab_type": "code",
        "colab": {
          "base_uri": "https://localhost:8080/",
          "height": 34
        },
        "outputId": "22cc449e-4245-40b3-c3c6-2c822df970ad"
      },
      "source": [
        "my_phone"
      ],
      "execution_count": 19,
      "outputs": [
        {
          "output_type": "execute_result",
          "data": {
            "text/plain": [
              "['iPhone 5S', False, 4.3]"
            ]
          },
          "metadata": {
            "tags": []
          },
          "execution_count": 19
        }
      ]
    },
    {
      "cell_type": "code",
      "metadata": {
        "id": "aXEvrsTTzDSP",
        "colab_type": "code",
        "colab": {
          "base_uri": "https://localhost:8080/",
          "height": 34
        },
        "outputId": "ae7004cb-1888-4e88-dd07-c01fb28c64de"
      },
      "source": [
        "type(my_phone)"
      ],
      "execution_count": 20,
      "outputs": [
        {
          "output_type": "execute_result",
          "data": {
            "text/plain": [
              "list"
            ]
          },
          "metadata": {
            "tags": []
          },
          "execution_count": 20
        }
      ]
    },
    {
      "cell_type": "code",
      "metadata": {
        "id": "sh-DYz3KzFtW",
        "colab_type": "code",
        "colab": {
          "base_uri": "https://localhost:8080/",
          "height": 34
        },
        "outputId": "b5947b8d-8086-4ba8-d020-8346375afed2"
      },
      "source": [
        "type(my_phone[0])"
      ],
      "execution_count": 21,
      "outputs": [
        {
          "output_type": "execute_result",
          "data": {
            "text/plain": [
              "str"
            ]
          },
          "metadata": {
            "tags": []
          },
          "execution_count": 21
        }
      ]
    },
    {
      "cell_type": "code",
      "metadata": {
        "id": "y6P3CSA-zS15",
        "colab_type": "code",
        "colab": {
          "base_uri": "https://localhost:8080/",
          "height": 34
        },
        "outputId": "4f7dad3d-4ea4-4ec8-814d-8046b7f4bdc8"
      },
      "source": [
        "my_phone[:2]"
      ],
      "execution_count": 22,
      "outputs": [
        {
          "output_type": "execute_result",
          "data": {
            "text/plain": [
              "['iPhone 5S', False]"
            ]
          },
          "metadata": {
            "tags": []
          },
          "execution_count": 22
        }
      ]
    },
    {
      "cell_type": "code",
      "metadata": {
        "id": "RGrYay51zVS6",
        "colab_type": "code",
        "colab": {
          "base_uri": "https://localhost:8080/",
          "height": 34
        },
        "outputId": "eb18d84c-9ca1-4e54-e30f-012b97125bba"
      },
      "source": [
        "my_phone[1:3]"
      ],
      "execution_count": 23,
      "outputs": [
        {
          "output_type": "execute_result",
          "data": {
            "text/plain": [
              "[False, 4.3]"
            ]
          },
          "metadata": {
            "tags": []
          },
          "execution_count": 23
        }
      ]
    },
    {
      "cell_type": "code",
      "metadata": {
        "id": "Cu1MYueMzYbx",
        "colab_type": "code",
        "colab": {
          "base_uri": "https://localhost:8080/",
          "height": 34
        },
        "outputId": "1a10d125-64c7-4c0e-c736-d34d1a6fb909"
      },
      "source": [
        "my_phone[1:]"
      ],
      "execution_count": 24,
      "outputs": [
        {
          "output_type": "execute_result",
          "data": {
            "text/plain": [
              "[False, 4.3]"
            ]
          },
          "metadata": {
            "tags": []
          },
          "execution_count": 24
        }
      ]
    },
    {
      "cell_type": "code",
      "metadata": {
        "id": "c2PHBa9qzZ_k",
        "colab_type": "code",
        "colab": {}
      },
      "source": [
        "my_dad_phone = my_phone"
      ],
      "execution_count": 0,
      "outputs": []
    },
    {
      "cell_type": "code",
      "metadata": {
        "id": "duLrn-Suzd-c",
        "colab_type": "code",
        "colab": {
          "base_uri": "https://localhost:8080/",
          "height": 34
        },
        "outputId": "8788dea2-946f-45cd-cd96-412fa51646fc"
      },
      "source": [
        "print(my_dad_phone)"
      ],
      "execution_count": 26,
      "outputs": [
        {
          "output_type": "stream",
          "text": [
            "['iPhone 5S', False, 4.3]\n"
          ],
          "name": "stdout"
        }
      ]
    },
    {
      "cell_type": "code",
      "metadata": {
        "id": "PI1nCkWMzfqS",
        "colab_type": "code",
        "colab": {}
      },
      "source": [
        "my_phone[2] = 4"
      ],
      "execution_count": 0,
      "outputs": []
    },
    {
      "cell_type": "code",
      "metadata": {
        "id": "sbHlnwo7zo3t",
        "colab_type": "code",
        "colab": {
          "base_uri": "https://localhost:8080/",
          "height": 34
        },
        "outputId": "9f894728-94b9-49e9-a392-ef58183d5f7c"
      },
      "source": [
        "my_phone"
      ],
      "execution_count": 28,
      "outputs": [
        {
          "output_type": "execute_result",
          "data": {
            "text/plain": [
              "['iPhone 5S', False, 4]"
            ]
          },
          "metadata": {
            "tags": []
          },
          "execution_count": 28
        }
      ]
    },
    {
      "cell_type": "code",
      "metadata": {
        "id": "D71dZnCMzp8X",
        "colab_type": "code",
        "colab": {
          "base_uri": "https://localhost:8080/",
          "height": 34
        },
        "outputId": "e6b7757f-7f5f-43f5-f4e6-1dcd6fce1276"
      },
      "source": [
        "##Changes in my_phone get reflected here, i.e. the copy is shallow, or the reference is being shared between the two objects\n",
        "print(my_dad_phone)"
      ],
      "execution_count": 29,
      "outputs": [
        {
          "output_type": "stream",
          "text": [
            "['iPhone 5S', False, 4]\n"
          ],
          "name": "stdout"
        }
      ]
    },
    {
      "cell_type": "code",
      "metadata": {
        "id": "ubpHZUTRzuWS",
        "colab_type": "code",
        "colab": {}
      },
      "source": [
        "my_dad_phone2 = list(my_phone)"
      ],
      "execution_count": 0,
      "outputs": []
    },
    {
      "cell_type": "code",
      "metadata": {
        "id": "w-A7XzOt0KL8",
        "colab_type": "code",
        "colab": {
          "base_uri": "https://localhost:8080/",
          "height": 34
        },
        "outputId": "34a23502-7992-4315-edff-c868f44a800e"
      },
      "source": [
        "my_dad_phone2"
      ],
      "execution_count": 31,
      "outputs": [
        {
          "output_type": "execute_result",
          "data": {
            "text/plain": [
              "['iPhone 5S', False, 4]"
            ]
          },
          "metadata": {
            "tags": []
          },
          "execution_count": 31
        }
      ]
    },
    {
      "cell_type": "code",
      "metadata": {
        "id": "dB4Qga1F0MbK",
        "colab_type": "code",
        "colab": {}
      },
      "source": [
        "my_phone[2] = 4.2"
      ],
      "execution_count": 0,
      "outputs": []
    },
    {
      "cell_type": "code",
      "metadata": {
        "id": "BTSN1oJl0OH2",
        "colab_type": "code",
        "colab": {
          "base_uri": "https://localhost:8080/",
          "height": 34
        },
        "outputId": "96a9a803-25df-4fe8-8413-6da8e3fe513a"
      },
      "source": [
        "my_dad_phone2"
      ],
      "execution_count": 33,
      "outputs": [
        {
          "output_type": "execute_result",
          "data": {
            "text/plain": [
              "['iPhone 5S', False, 4]"
            ]
          },
          "metadata": {
            "tags": []
          },
          "execution_count": 33
        }
      ]
    },
    {
      "cell_type": "code",
      "metadata": {
        "id": "eCG82vW00QEv",
        "colab_type": "code",
        "colab": {}
      },
      "source": [
        "my_dad_phone3 = my_phone.copy()"
      ],
      "execution_count": 0,
      "outputs": []
    },
    {
      "cell_type": "code",
      "metadata": {
        "id": "vAzJVm5h0TG3",
        "colab_type": "code",
        "colab": {
          "base_uri": "https://localhost:8080/",
          "height": 34
        },
        "outputId": "0713f50c-9ce5-4d43-c3df-3200cae2bbdb"
      },
      "source": [
        "my_dad_phone3"
      ],
      "execution_count": 35,
      "outputs": [
        {
          "output_type": "execute_result",
          "data": {
            "text/plain": [
              "['iPhone 5S', False, 4.2]"
            ]
          },
          "metadata": {
            "tags": []
          },
          "execution_count": 35
        }
      ]
    },
    {
      "cell_type": "code",
      "metadata": {
        "id": "BIrzJZyd0UpZ",
        "colab_type": "code",
        "colab": {}
      },
      "source": [
        "my_phone[2] = 5"
      ],
      "execution_count": 0,
      "outputs": []
    },
    {
      "cell_type": "code",
      "metadata": {
        "id": "DiK0qNBu0WVx",
        "colab_type": "code",
        "colab": {
          "base_uri": "https://localhost:8080/",
          "height": 34
        },
        "outputId": "86d826a3-b570-422c-f457-35c51577bc68"
      },
      "source": [
        "my_dad_phone3"
      ],
      "execution_count": 37,
      "outputs": [
        {
          "output_type": "execute_result",
          "data": {
            "text/plain": [
              "['iPhone 5S', False, 4.2]"
            ]
          },
          "metadata": {
            "tags": []
          },
          "execution_count": 37
        }
      ]
    },
    {
      "cell_type": "code",
      "metadata": {
        "id": "Q8sK16dj0XvD",
        "colab_type": "code",
        "colab": {
          "base_uri": "https://localhost:8080/",
          "height": 34
        },
        "outputId": "2909a5d6-94cf-4a3b-c153-b82ce1a193fc"
      },
      "source": [
        "##Returns the no. of elements in the list\n",
        "len(my_phone)"
      ],
      "execution_count": 38,
      "outputs": [
        {
          "output_type": "execute_result",
          "data": {
            "text/plain": [
              "3"
            ]
          },
          "metadata": {
            "tags": []
          },
          "execution_count": 38
        }
      ]
    },
    {
      "cell_type": "code",
      "metadata": {
        "id": "IfZWuA_i0hiO",
        "colab_type": "code",
        "colab": {}
      },
      "source": [
        "my_phone.append('3g')"
      ],
      "execution_count": 0,
      "outputs": []
    },
    {
      "cell_type": "code",
      "metadata": {
        "id": "x8Ylwg0g1HCc",
        "colab_type": "code",
        "colab": {
          "base_uri": "https://localhost:8080/",
          "height": 34
        },
        "outputId": "d5ca4020-bf58-48f0-f792-cc14906089c6"
      },
      "source": [
        "len(my_phone)"
      ],
      "execution_count": 40,
      "outputs": [
        {
          "output_type": "execute_result",
          "data": {
            "text/plain": [
              "4"
            ]
          },
          "metadata": {
            "tags": []
          },
          "execution_count": 40
        }
      ]
    },
    {
      "cell_type": "code",
      "metadata": {
        "id": "ipMrG1nt1IBg",
        "colab_type": "code",
        "colab": {
          "base_uri": "https://localhost:8080/",
          "height": 34
        },
        "outputId": "80b3d4a0-dca6-4c09-95c1-1366d9e733d0"
      },
      "source": [
        "my_phone"
      ],
      "execution_count": 41,
      "outputs": [
        {
          "output_type": "execute_result",
          "data": {
            "text/plain": [
              "['iPhone 5S', False, 5, '3g']"
            ]
          },
          "metadata": {
            "tags": []
          },
          "execution_count": 41
        }
      ]
    },
    {
      "cell_type": "code",
      "metadata": {
        "id": "R_KFiplh1I_-",
        "colab_type": "code",
        "colab": {}
      },
      "source": [
        "iphone_some_prefs = ['single_sim',35000]"
      ],
      "execution_count": 0,
      "outputs": []
    },
    {
      "cell_type": "code",
      "metadata": {
        "id": "XTWsa6971YeR",
        "colab_type": "code",
        "colab": {}
      },
      "source": [
        "my_phone+=iphone_some_prefs"
      ],
      "execution_count": 0,
      "outputs": []
    },
    {
      "cell_type": "code",
      "metadata": {
        "id": "QToqERJ71adi",
        "colab_type": "code",
        "colab": {
          "base_uri": "https://localhost:8080/",
          "height": 34
        },
        "outputId": "eeda90a5-4970-4fb1-9f53-9d5f9f320f7d"
      },
      "source": [
        "##Concatenates the two lists into the first\n",
        "my_phone"
      ],
      "execution_count": 44,
      "outputs": [
        {
          "output_type": "execute_result",
          "data": {
            "text/plain": [
              "['iPhone 5S', False, 5, '3g', 'single_sim', 35000]"
            ]
          },
          "metadata": {
            "tags": []
          },
          "execution_count": 44
        }
      ]
    },
    {
      "cell_type": "code",
      "metadata": {
        "id": "iqvWzamPK9cR",
        "colab_type": "code",
        "colab": {}
      },
      "source": [
        "## Doesn't work\n",
        "# my_phone+=5"
      ],
      "execution_count": 0,
      "outputs": []
    },
    {
      "cell_type": "code",
      "metadata": {
        "id": "iZPymZdoLK6l",
        "colab_type": "code",
        "colab": {}
      },
      "source": [
        "## Doesn't work even if all member elements are integers\n",
        "\n",
        "# my_list = [10,15]\n",
        "# my_list+=5"
      ],
      "execution_count": 0,
      "outputs": []
    },
    {
      "cell_type": "code",
      "metadata": {
        "id": "6CgwPqA_1bSh",
        "colab_type": "code",
        "colab": {
          "base_uri": "https://localhost:8080/",
          "height": 119
        },
        "outputId": "7a6f48b4-fb73-4661-c02e-94e6a046a79d"
      },
      "source": [
        "for data in my_phone:\n",
        "  print(data)"
      ],
      "execution_count": 45,
      "outputs": [
        {
          "output_type": "stream",
          "text": [
            "iPhone 5S\n",
            "False\n",
            "5\n",
            "3g\n",
            "single_sim\n",
            "35000\n"
          ],
          "name": "stdout"
        }
      ]
    },
    {
      "cell_type": "code",
      "metadata": {
        "id": "Q6iVPEaX1rBB",
        "colab_type": "code",
        "colab": {
          "base_uri": "https://localhost:8080/",
          "height": 34
        },
        "outputId": "8e0fb96c-647b-4bba-b207-76f8483825e8"
      },
      "source": [
        "list(range(5))"
      ],
      "execution_count": 46,
      "outputs": [
        {
          "output_type": "execute_result",
          "data": {
            "text/plain": [
              "[0, 1, 2, 3, 4]"
            ]
          },
          "metadata": {
            "tags": []
          },
          "execution_count": 46
        }
      ]
    },
    {
      "cell_type": "code",
      "metadata": {
        "id": "DDf456SO1yK-",
        "colab_type": "code",
        "colab": {}
      },
      "source": [
        "'''map() function returns a list of the results after applying the given function to each item of a given iterable (list, tuple etc.)'''\n",
        "\n",
        "a = list(range(5))\n",
        "b = list(map(lambda x:x**2, a))"
      ],
      "execution_count": 0,
      "outputs": []
    },
    {
      "cell_type": "code",
      "metadata": {
        "id": "zvMV7ubG5DCO",
        "colab_type": "code",
        "colab": {
          "base_uri": "https://localhost:8080/",
          "height": 34
        },
        "outputId": "13d8b208-0870-4151-927d-d573acbd3d6a"
      },
      "source": [
        "b"
      ],
      "execution_count": 48,
      "outputs": [
        {
          "output_type": "execute_result",
          "data": {
            "text/plain": [
              "[0, 1, 4, 9, 16]"
            ]
          },
          "metadata": {
            "tags": []
          },
          "execution_count": 48
        }
      ]
    },
    {
      "cell_type": "code",
      "metadata": {
        "id": "Z1SpukP95E4n",
        "colab_type": "code",
        "colab": {}
      },
      "source": [
        "#applies the function sent in as parameter on each element of the list and includes the one which returns true \n",
        "c = list(filter(lambda x : x%2==0,b))"
      ],
      "execution_count": 0,
      "outputs": []
    },
    {
      "cell_type": "code",
      "metadata": {
        "id": "pCGXxf1i6FAE",
        "colab_type": "code",
        "colab": {
          "base_uri": "https://localhost:8080/",
          "height": 34
        },
        "outputId": "376bfd3e-c1fc-4491-c550-57f98e811308"
      },
      "source": [
        "c"
      ],
      "execution_count": 50,
      "outputs": [
        {
          "output_type": "execute_result",
          "data": {
            "text/plain": [
              "[0, 4, 16]"
            ]
          },
          "metadata": {
            "tags": []
          },
          "execution_count": 50
        }
      ]
    },
    {
      "cell_type": "code",
      "metadata": {
        "id": "98tOsjTk6F-D",
        "colab_type": "code",
        "colab": {}
      },
      "source": [
        ""
      ],
      "execution_count": 0,
      "outputs": []
    },
    {
      "cell_type": "markdown",
      "metadata": {
        "id": "gyq8GgymDcnr",
        "colab_type": "text"
      },
      "source": [
        "# Tuples"
      ]
    },
    {
      "cell_type": "code",
      "metadata": {
        "id": "iuZ4C3urDeyW",
        "colab_type": "code",
        "colab": {}
      },
      "source": [
        "##Tuples are immutable\n",
        "my_phone_tuple = (name,is_android,screen_size)"
      ],
      "execution_count": 0,
      "outputs": []
    },
    {
      "cell_type": "code",
      "metadata": {
        "id": "ipaIIxELDr-c",
        "colab_type": "code",
        "colab": {
          "base_uri": "https://localhost:8080/",
          "height": 34
        },
        "outputId": "0fcaac5b-4907-4a9f-d43d-45f1dfbf3dfb"
      },
      "source": [
        "type(my_phone_tuple)"
      ],
      "execution_count": 52,
      "outputs": [
        {
          "output_type": "execute_result",
          "data": {
            "text/plain": [
              "tuple"
            ]
          },
          "metadata": {
            "tags": []
          },
          "execution_count": 52
        }
      ]
    },
    {
      "cell_type": "code",
      "metadata": {
        "id": "fmjF8pFyDvGz",
        "colab_type": "code",
        "colab": {
          "base_uri": "https://localhost:8080/",
          "height": 34
        },
        "outputId": "897fa894-4e89-48e8-fd1c-13d99f7eb8ca"
      },
      "source": [
        "import time\n",
        "\n",
        "tic = time.time()\n",
        "print(tic)"
      ],
      "execution_count": 53,
      "outputs": [
        {
          "output_type": "stream",
          "text": [
            "1566827057.1345465\n"
          ],
          "name": "stdout"
        }
      ]
    },
    {
      "cell_type": "code",
      "metadata": {
        "id": "AbF3ahb5D9A_",
        "colab_type": "code",
        "colab": {}
      },
      "source": [
        "\"\"\"Return the current time in seconds since the Epoch.\n",
        "Fractions of a second may be present if the system clock provides them.\"\"\"\n",
        "\n",
        "time.time?"
      ],
      "execution_count": 0,
      "outputs": []
    },
    {
      "cell_type": "code",
      "metadata": {
        "id": "vaO5XRioD-lU",
        "colab_type": "code",
        "colab": {
          "base_uri": "https://localhost:8080/",
          "height": 34
        },
        "outputId": "00fa2ce7-096a-4c95-c15d-15068c65c63b"
      },
      "source": [
        "tic = time.time()\n",
        "toc = time.time()\n",
        "\n",
        "print(\"elapsed time:\", toc-tic)"
      ],
      "execution_count": 55,
      "outputs": [
        {
          "output_type": "stream",
          "text": [
            "elapsed time: 1.4781951904296875e-05\n"
          ],
          "name": "stdout"
        }
      ]
    },
    {
      "cell_type": "code",
      "metadata": {
        "id": "Ok34Ih2cEQPD",
        "colab_type": "code",
        "colab": {
          "base_uri": "https://localhost:8080/",
          "height": 34
        },
        "outputId": "e52e778d-7640-4c8f-d1b7-000d2350cf9c"
      },
      "source": [
        "my_list = list(range(10000000))\n",
        "tic = time.time()\n",
        "my_list_squared = list(map(lambda x:x**2,my_list))\n",
        "toc = time.time()\n",
        "print(toc-tic)"
      ],
      "execution_count": 56,
      "outputs": [
        {
          "output_type": "stream",
          "text": [
            "2.861056089401245\n"
          ],
          "name": "stdout"
        }
      ]
    },
    {
      "cell_type": "code",
      "metadata": {
        "id": "_TO64R8fEYC6",
        "colab_type": "code",
        "colab": {
          "base_uri": "https://localhost:8080/",
          "height": 34
        },
        "outputId": "5e69d87b-0522-40a0-bdef-2e663e2f8659"
      },
      "source": [
        "my_tuple = tuple(range(10000000))\n",
        "tic = time.time()\n",
        "my_tuple_squared = tuple(map(lambda x:x**2,my_tuple))\n",
        "toc = time.time()\n",
        "print(toc-tic)"
      ],
      "execution_count": 57,
      "outputs": [
        {
          "output_type": "stream",
          "text": [
            "2.8290517330169678\n"
          ],
          "name": "stdout"
        }
      ]
    },
    {
      "cell_type": "markdown",
      "metadata": {
        "id": "6IKfJst4GqI5",
        "colab_type": "text"
      },
      "source": [
        "# Sets"
      ]
    },
    {
      "cell_type": "code",
      "metadata": {
        "id": "FvCereLYEwUc",
        "colab_type": "code",
        "colab": {}
      },
      "source": [
        "my_set = set(my_phone)"
      ],
      "execution_count": 0,
      "outputs": []
    },
    {
      "cell_type": "code",
      "metadata": {
        "id": "6Ou5i_F6GsOi",
        "colab_type": "code",
        "colab": {
          "base_uri": "https://localhost:8080/",
          "height": 34
        },
        "outputId": "7ac9308e-78a3-4eae-b454-b2f0634c1d42"
      },
      "source": [
        "my_set"
      ],
      "execution_count": 59,
      "outputs": [
        {
          "output_type": "execute_result",
          "data": {
            "text/plain": [
              "{35000, '3g', 5, False, 'iPhone 5S', 'single_sim'}"
            ]
          },
          "metadata": {
            "tags": []
          },
          "execution_count": 59
        }
      ]
    },
    {
      "cell_type": "code",
      "metadata": {
        "id": "34PbIG7oGxeU",
        "colab_type": "code",
        "colab": {}
      },
      "source": [
        "my_set2 = {1,2,3,4,1,2,2,3}"
      ],
      "execution_count": 0,
      "outputs": []
    },
    {
      "cell_type": "code",
      "metadata": {
        "id": "1_gvToesG1yV",
        "colab_type": "code",
        "colab": {
          "base_uri": "https://localhost:8080/",
          "height": 34
        },
        "outputId": "28f2c145-9d26-48ad-cf0f-5d81699eeb43"
      },
      "source": [
        "my_set2"
      ],
      "execution_count": 61,
      "outputs": [
        {
          "output_type": "execute_result",
          "data": {
            "text/plain": [
              "{1, 2, 3, 4}"
            ]
          },
          "metadata": {
            "tags": []
          },
          "execution_count": 61
        }
      ]
    },
    {
      "cell_type": "code",
      "metadata": {
        "id": "SBxOjyC9G2n-",
        "colab_type": "code",
        "colab": {
          "base_uri": "https://localhost:8080/",
          "height": 85
        },
        "outputId": "443e6d9e-149a-4e3c-9268-ab1c91a8736b"
      },
      "source": [
        "my_list = list(range(10000000))\n",
        "tic = time.time()\n",
        "print(10098 in my_list)\n",
        "print(1000000000 in my_list)\n",
        "print(988821 in my_list)\n",
        "\n",
        "toc = time.time()\n",
        "print(toc-tic)"
      ],
      "execution_count": 62,
      "outputs": [
        {
          "output_type": "stream",
          "text": [
            "True\n",
            "False\n",
            "True\n",
            "0.11829090118408203\n"
          ],
          "name": "stdout"
        }
      ]
    },
    {
      "cell_type": "code",
      "metadata": {
        "id": "tT6WSABiIktL",
        "colab_type": "code",
        "colab": {
          "base_uri": "https://localhost:8080/",
          "height": 85
        },
        "outputId": "bb621f32-d556-48d7-bf21-b6b1f586c49d"
      },
      "source": [
        "##Queries to sets are much faster than in lists, where also sets store unique values only\n",
        "\n",
        "my_set = set(range(10000000))\n",
        "tic = time.time()\n",
        "print(10098 in my_set)\n",
        "print(1000000000 in my_set)\n",
        "print(988821 in my_set)\n",
        "\n",
        "toc = time.time()\n",
        "print(toc-tic)"
      ],
      "execution_count": 63,
      "outputs": [
        {
          "output_type": "stream",
          "text": [
            "True\n",
            "False\n",
            "True\n",
            "0.000469207763671875\n"
          ],
          "name": "stdout"
        }
      ]
    },
    {
      "cell_type": "code",
      "metadata": {
        "id": "ERPia8quJp8g",
        "colab_type": "code",
        "colab": {}
      },
      "source": [
        "my_set = set()\n",
        "my_set.add(10)"
      ],
      "execution_count": 0,
      "outputs": []
    },
    {
      "cell_type": "code",
      "metadata": {
        "id": "iJn9QyVkN54l",
        "colab_type": "code",
        "colab": {
          "base_uri": "https://localhost:8080/",
          "height": 34
        },
        "outputId": "609a2698-d5c3-4a93-be62-a51cbf7098bf"
      },
      "source": [
        "##Set stores object in sorted order\n",
        "\n",
        "aux = {10,8,9,6,5,6,4}\n",
        "aux"
      ],
      "execution_count": 100,
      "outputs": [
        {
          "output_type": "execute_result",
          "data": {
            "text/plain": [
              "{4, 5, 6, 8, 9, 10}"
            ]
          },
          "metadata": {
            "tags": []
          },
          "execution_count": 100
        }
      ]
    },
    {
      "cell_type": "markdown",
      "metadata": {
        "id": "scJmHI5sJKMq",
        "colab_type": "text"
      },
      "source": [
        "# Dicts"
      ]
    },
    {
      "cell_type": "code",
      "metadata": {
        "id": "AUU23DUrIt9i",
        "colab_type": "code",
        "colab": {}
      },
      "source": [
        "my_dict = {}"
      ],
      "execution_count": 0,
      "outputs": []
    },
    {
      "cell_type": "code",
      "metadata": {
        "id": "96BqSOnDJL7q",
        "colab_type": "code",
        "colab": {
          "base_uri": "https://localhost:8080/",
          "height": 34
        },
        "outputId": "2595a945-c6cc-4870-f9ca-23a3e0952202"
      },
      "source": [
        "type(my_dict)"
      ],
      "execution_count": 66,
      "outputs": [
        {
          "output_type": "execute_result",
          "data": {
            "text/plain": [
              "dict"
            ]
          },
          "metadata": {
            "tags": []
          },
          "execution_count": 66
        }
      ]
    },
    {
      "cell_type": "code",
      "metadata": {
        "id": "PSLdB5c0JZQa",
        "colab_type": "code",
        "colab": {}
      },
      "source": [
        "my_dict[\"name\"] = \"iPhone 5s\"\n",
        "my_dict[\"isAndroid\"] = False\n",
        "my_dict[\"screen_size\"] = 4.3"
      ],
      "execution_count": 0,
      "outputs": []
    },
    {
      "cell_type": "code",
      "metadata": {
        "id": "RAmx6ZhvJl6U",
        "colab_type": "code",
        "colab": {
          "base_uri": "https://localhost:8080/",
          "height": 34
        },
        "outputId": "fead4c4f-6f1c-4f7b-ec76-73ca1688bd0b"
      },
      "source": [
        "my_dict.keys()"
      ],
      "execution_count": 68,
      "outputs": [
        {
          "output_type": "execute_result",
          "data": {
            "text/plain": [
              "dict_keys(['name', 'isAndroid', 'screen_size'])"
            ]
          },
          "metadata": {
            "tags": []
          },
          "execution_count": 68
        }
      ]
    },
    {
      "cell_type": "code",
      "metadata": {
        "id": "oFNa-NeeO5-w",
        "colab_type": "code",
        "colab": {
          "base_uri": "https://localhost:8080/",
          "height": 34
        },
        "outputId": "c999eb92-694e-48df-c8ca-2c6bb4d131ea"
      },
      "source": [
        "list(my_dict.keys())"
      ],
      "execution_count": 101,
      "outputs": [
        {
          "output_type": "execute_result",
          "data": {
            "text/plain": [
              "['name', 'isAndroid', 'screen_size']"
            ]
          },
          "metadata": {
            "tags": []
          },
          "execution_count": 101
        }
      ]
    },
    {
      "cell_type": "code",
      "metadata": {
        "id": "kJncLk5xKNat",
        "colab_type": "code",
        "colab": {
          "base_uri": "https://localhost:8080/",
          "height": 34
        },
        "outputId": "4c38aab8-d806-482d-f354-470c01ca437b"
      },
      "source": [
        "my_dict.values()"
      ],
      "execution_count": 69,
      "outputs": [
        {
          "output_type": "execute_result",
          "data": {
            "text/plain": [
              "dict_values(['iPhone 5s', False, 4.3])"
            ]
          },
          "metadata": {
            "tags": []
          },
          "execution_count": 69
        }
      ]
    },
    {
      "cell_type": "code",
      "metadata": {
        "id": "nXXqJSfvKQTW",
        "colab_type": "code",
        "colab": {
          "base_uri": "https://localhost:8080/",
          "height": 34
        },
        "outputId": "e2aace8c-96fa-4a71-b253-761050a878a0"
      },
      "source": [
        "my_dict[\"name\"]"
      ],
      "execution_count": 70,
      "outputs": [
        {
          "output_type": "execute_result",
          "data": {
            "text/plain": [
              "'iPhone 5s'"
            ]
          },
          "metadata": {
            "tags": []
          },
          "execution_count": 70
        }
      ]
    },
    {
      "cell_type": "code",
      "metadata": {
        "id": "L82rJ-KYKXkb",
        "colab_type": "code",
        "colab": {
          "base_uri": "https://localhost:8080/",
          "height": 34
        },
        "outputId": "68683720-6643-4c53-c846-8642f9134dbb"
      },
      "source": [
        "my_dict.items()"
      ],
      "execution_count": 71,
      "outputs": [
        {
          "output_type": "execute_result",
          "data": {
            "text/plain": [
              "dict_items([('name', 'iPhone 5s'), ('isAndroid', False), ('screen_size', 4.3)])"
            ]
          },
          "metadata": {
            "tags": []
          },
          "execution_count": 71
        }
      ]
    },
    {
      "cell_type": "markdown",
      "metadata": {
        "id": "nuoNdJ4HLhqR",
        "colab_type": "text"
      },
      "source": [
        "# Python packages"
      ]
    },
    {
      "cell_type": "code",
      "metadata": {
        "id": "vYNh4ckSLjqJ",
        "colab_type": "code",
        "colab": {}
      },
      "source": [
        "import math"
      ],
      "execution_count": 0,
      "outputs": []
    },
    {
      "cell_type": "code",
      "metadata": {
        "id": "WMawLo1ZLoBU",
        "colab_type": "code",
        "colab": {
          "base_uri": "https://localhost:8080/",
          "height": 34
        },
        "outputId": "8dc2d8a2-9bbc-4346-c474-2ef739989f03"
      },
      "source": [
        "math.sqrt(16)"
      ],
      "execution_count": 73,
      "outputs": [
        {
          "output_type": "execute_result",
          "data": {
            "text/plain": [
              "4.0"
            ]
          },
          "metadata": {
            "tags": []
          },
          "execution_count": 73
        }
      ]
    },
    {
      "cell_type": "code",
      "metadata": {
        "id": "Gs6Tyl0uLpL1",
        "colab_type": "code",
        "colab": {
          "base_uri": "https://localhost:8080/",
          "height": 34
        },
        "outputId": "5ddf8063-fbea-4b02-d040-aeb4b0a17109"
      },
      "source": [
        "math.pow(4,2)"
      ],
      "execution_count": 74,
      "outputs": [
        {
          "output_type": "execute_result",
          "data": {
            "text/plain": [
              "16.0"
            ]
          },
          "metadata": {
            "tags": []
          },
          "execution_count": 74
        }
      ]
    },
    {
      "cell_type": "code",
      "metadata": {
        "id": "QLWtiW-bLq2h",
        "colab_type": "code",
        "colab": {}
      },
      "source": [
        "import math as m"
      ],
      "execution_count": 0,
      "outputs": []
    },
    {
      "cell_type": "code",
      "metadata": {
        "id": "biYCDzN9MHxM",
        "colab_type": "code",
        "colab": {
          "base_uri": "https://localhost:8080/",
          "height": 34
        },
        "outputId": "d3d6e664-4baa-4a75-a948-87e2b201e0ae"
      },
      "source": [
        "m.factorial(10)"
      ],
      "execution_count": 76,
      "outputs": [
        {
          "output_type": "execute_result",
          "data": {
            "text/plain": [
              "3628800"
            ]
          },
          "metadata": {
            "tags": []
          },
          "execution_count": 76
        }
      ]
    },
    {
      "cell_type": "code",
      "metadata": {
        "id": "X3zzS67YMI8l",
        "colab_type": "code",
        "colab": {}
      },
      "source": [
        "from math import factorial as fact"
      ],
      "execution_count": 0,
      "outputs": []
    },
    {
      "cell_type": "code",
      "metadata": {
        "id": "otOx9QEqMOh-",
        "colab_type": "code",
        "colab": {
          "base_uri": "https://localhost:8080/",
          "height": 34
        },
        "outputId": "db5ed64c-b044-411c-cc49-d040609bcfd2"
      },
      "source": [
        "fact(12)"
      ],
      "execution_count": 78,
      "outputs": [
        {
          "output_type": "execute_result",
          "data": {
            "text/plain": [
              "479001600"
            ]
          },
          "metadata": {
            "tags": []
          },
          "execution_count": 78
        }
      ]
    },
    {
      "cell_type": "code",
      "metadata": {
        "id": "9irlx9lbMPer",
        "colab_type": "code",
        "colab": {
          "base_uri": "https://localhost:8080/",
          "height": 34
        },
        "outputId": "00f1ca90-9911-475f-fe2e-8795a8ecb53b"
      },
      "source": [
        "m.pi"
      ],
      "execution_count": 79,
      "outputs": [
        {
          "output_type": "execute_result",
          "data": {
            "text/plain": [
              "3.141592653589793"
            ]
          },
          "metadata": {
            "tags": []
          },
          "execution_count": 79
        }
      ]
    },
    {
      "cell_type": "markdown",
      "metadata": {
        "id": "IlQxL3KkORvI",
        "colab_type": "text"
      },
      "source": [
        "Creating own package from psuedo terminal."
      ]
    },
    {
      "cell_type": "code",
      "metadata": {
        "id": "y2ER5q5eNsHX",
        "colab_type": "code",
        "colab": {}
      },
      "source": [
        "!touch my_first_package.py"
      ],
      "execution_count": 0,
      "outputs": []
    },
    {
      "cell_type": "code",
      "metadata": {
        "id": "zn-ws2UtMyQ7",
        "colab_type": "code",
        "colab": {}
      },
      "source": [
        "!echo \"def hello():\" >> my_first_package.py"
      ],
      "execution_count": 0,
      "outputs": []
    },
    {
      "cell_type": "code",
      "metadata": {
        "id": "0BeF84p8Nosu",
        "colab_type": "code",
        "colab": {
          "base_uri": "https://localhost:8080/",
          "height": 34
        },
        "outputId": "43e21131-8054-47f0-f91c-b1f970e79e98"
      },
      "source": [
        "!cat my_first_package.py"
      ],
      "execution_count": 82,
      "outputs": [
        {
          "output_type": "stream",
          "text": [
            "def hello():\n"
          ],
          "name": "stdout"
        }
      ]
    },
    {
      "cell_type": "code",
      "metadata": {
        "id": "tNGAdyuiN12E",
        "colab_type": "code",
        "colab": {}
      },
      "source": [
        "!echo \"  print('This is my city')\" >> my_first_package.py"
      ],
      "execution_count": 0,
      "outputs": []
    },
    {
      "cell_type": "code",
      "metadata": {
        "id": "O1Oe6G3vOFgi",
        "colab_type": "code",
        "colab": {
          "base_uri": "https://localhost:8080/",
          "height": 51
        },
        "outputId": "1cb6cbba-6538-40c2-90c1-f9e4cd042224"
      },
      "source": [
        "!cat my_first_package.py"
      ],
      "execution_count": 84,
      "outputs": [
        {
          "output_type": "stream",
          "text": [
            "def hello():\n",
            "  print('This is my city')\n"
          ],
          "name": "stdout"
        }
      ]
    },
    {
      "cell_type": "code",
      "metadata": {
        "id": "YdeKVdyUOHuZ",
        "colab_type": "code",
        "colab": {}
      },
      "source": [
        "import my_first_package as mi"
      ],
      "execution_count": 0,
      "outputs": []
    },
    {
      "cell_type": "code",
      "metadata": {
        "id": "oui0shcjOKQ0",
        "colab_type": "code",
        "colab": {
          "base_uri": "https://localhost:8080/",
          "height": 34
        },
        "outputId": "1387fcdf-f550-4d82-b78f-091d428cbb28"
      },
      "source": [
        "mi.hello()"
      ],
      "execution_count": 86,
      "outputs": [
        {
          "output_type": "stream",
          "text": [
            "This is my city\n"
          ],
          "name": "stdout"
        }
      ]
    },
    {
      "cell_type": "markdown",
      "metadata": {
        "id": "kpuJAxP_V9sD",
        "colab_type": "text"
      },
      "source": [
        "# File Handling"
      ]
    },
    {
      "cell_type": "code",
      "metadata": {
        "id": "DTEwVSUoOMy6",
        "colab_type": "code",
        "colab": {
          "base_uri": "https://localhost:8080/",
          "height": 34
        },
        "outputId": "65dab376-4ef1-45c9-cf56-bed1d8cb321a"
      },
      "source": [
        "!ls"
      ],
      "execution_count": 87,
      "outputs": [
        {
          "output_type": "stream",
          "text": [
            "my_first_package.py  __pycache__  sample_data\n"
          ],
          "name": "stdout"
        }
      ]
    },
    {
      "cell_type": "code",
      "metadata": {
        "id": "L0cvx33zWFn7",
        "colab_type": "code",
        "colab": {
          "base_uri": "https://localhost:8080/",
          "height": 204
        },
        "outputId": "b323e352-a565-4f6a-d03a-000432588d59"
      },
      "source": [
        "!wget https://s3.amazonaws.com/thinkific-import/153034/mobile_cleaned-1549119762886.csv"
      ],
      "execution_count": 88,
      "outputs": [
        {
          "output_type": "stream",
          "text": [
            "--2019-08-26 13:44:41--  https://s3.amazonaws.com/thinkific-import/153034/mobile_cleaned-1549119762886.csv\n",
            "Resolving s3.amazonaws.com (s3.amazonaws.com)... 52.216.99.149\n",
            "Connecting to s3.amazonaws.com (s3.amazonaws.com)|52.216.99.149|:443... connected.\n",
            "HTTP request sent, awaiting response... 200 OK\n",
            "Length: 14044 (14K) [text/csv]\n",
            "Saving to: ‘mobile_cleaned-1549119762886.csv’\n",
            "\n",
            "\r          mobile_cl   0%[                    ]       0  --.-KB/s               \rmobile_cleaned-1549 100%[===================>]  13.71K  --.-KB/s    in 0s      \n",
            "\n",
            "2019-08-26 13:44:41 (280 MB/s) - ‘mobile_cleaned-1549119762886.csv’ saved [14044/14044]\n",
            "\n"
          ],
          "name": "stdout"
        }
      ]
    },
    {
      "cell_type": "code",
      "metadata": {
        "id": "W_8TUnZnWuHW",
        "colab_type": "code",
        "colab": {
          "base_uri": "https://localhost:8080/",
          "height": 34
        },
        "outputId": "a59410c3-38d7-4d31-a676-cd1c496af77d"
      },
      "source": [
        "!ls"
      ],
      "execution_count": 89,
      "outputs": [
        {
          "output_type": "stream",
          "text": [
            "mobile_cleaned-1549119762886.csv  my_first_package.py  __pycache__  sample_data\n"
          ],
          "name": "stdout"
        }
      ]
    },
    {
      "cell_type": "code",
      "metadata": {
        "id": "g4s70xe3W3AD",
        "colab_type": "code",
        "colab": {}
      },
      "source": [
        "!mv mobile_cleaned-1549119762886.csv mobile_cleaned.csv"
      ],
      "execution_count": 0,
      "outputs": []
    },
    {
      "cell_type": "code",
      "metadata": {
        "id": "vdZnPBmFQU08",
        "colab_type": "code",
        "colab": {
          "base_uri": "https://localhost:8080/",
          "height": 34
        },
        "outputId": "2a01dec0-0ea8-4ac2-beb5-dae9b1e75c79"
      },
      "source": [
        "!ls"
      ],
      "execution_count": 103,
      "outputs": [
        {
          "output_type": "stream",
          "text": [
            "mobile_cleaned.csv  my_first_package.py  __pycache__  sample_data\n"
          ],
          "name": "stdout"
        }
      ]
    },
    {
      "cell_type": "code",
      "metadata": {
        "id": "C277hVrDQWLH",
        "colab_type": "code",
        "colab": {}
      },
      "source": [
        "file = open(\"mobile_cleaned.csv\",'r')"
      ],
      "execution_count": 0,
      "outputs": []
    },
    {
      "cell_type": "code",
      "metadata": {
        "id": "ya_BQdexS22k",
        "colab_type": "code",
        "colab": {}
      },
      "source": [
        "s = file.readline()"
      ],
      "execution_count": 0,
      "outputs": []
    },
    {
      "cell_type": "code",
      "metadata": {
        "id": "XpmacKT2S4g4",
        "colab_type": "code",
        "colab": {
          "base_uri": "https://localhost:8080/",
          "height": 54
        },
        "outputId": "f30f8761-a0bf-40d1-f0e2-0a2d5461669e"
      },
      "source": [
        "s"
      ],
      "execution_count": 106,
      "outputs": [
        {
          "output_type": "execute_result",
          "data": {
            "text/plain": [
              "'sim_type,aperture,gpu_rank,weight,stand_by_time,processor_frequency,thickness,flash_type,front_camera_resolution,auto_focus,screen_size,frames_per_second,FM,no_of_reviews_in_gsmarena_in_week,os,phone_height,screen_protection,sim_size,price,talk_time,video_resolution,display_resolution,removable_battery,display_type,primary_camera_resolution,battery_type,ram_memory,internal_memory,brand_rank,no_of_cores,micro_sd_slot,screen_pixel_density,water_proof_rate,phone_width,expandable_memory,version,usb_type,battery_capacity,processor_rank,is_liked\\n'"
            ]
          },
          "metadata": {
            "tags": []
          },
          "execution_count": 106
        }
      ]
    },
    {
      "cell_type": "code",
      "metadata": {
        "id": "02MGkGt3S5KB",
        "colab_type": "code",
        "colab": {
          "base_uri": "https://localhost:8080/",
          "height": 697
        },
        "outputId": "c2ea3484-ccbf-468a-a753-8a1a1b815f27"
      },
      "source": [
        "s.split(',')"
      ],
      "execution_count": 107,
      "outputs": [
        {
          "output_type": "execute_result",
          "data": {
            "text/plain": [
              "['sim_type',\n",
              " 'aperture',\n",
              " 'gpu_rank',\n",
              " 'weight',\n",
              " 'stand_by_time',\n",
              " 'processor_frequency',\n",
              " 'thickness',\n",
              " 'flash_type',\n",
              " 'front_camera_resolution',\n",
              " 'auto_focus',\n",
              " 'screen_size',\n",
              " 'frames_per_second',\n",
              " 'FM',\n",
              " 'no_of_reviews_in_gsmarena_in_week',\n",
              " 'os',\n",
              " 'phone_height',\n",
              " 'screen_protection',\n",
              " 'sim_size',\n",
              " 'price',\n",
              " 'talk_time',\n",
              " 'video_resolution',\n",
              " 'display_resolution',\n",
              " 'removable_battery',\n",
              " 'display_type',\n",
              " 'primary_camera_resolution',\n",
              " 'battery_type',\n",
              " 'ram_memory',\n",
              " 'internal_memory',\n",
              " 'brand_rank',\n",
              " 'no_of_cores',\n",
              " 'micro_sd_slot',\n",
              " 'screen_pixel_density',\n",
              " 'water_proof_rate',\n",
              " 'phone_width',\n",
              " 'expandable_memory',\n",
              " 'version',\n",
              " 'usb_type',\n",
              " 'battery_capacity',\n",
              " 'processor_rank',\n",
              " 'is_liked\\n']"
            ]
          },
          "metadata": {
            "tags": []
          },
          "execution_count": 107
        }
      ]
    },
    {
      "cell_type": "code",
      "metadata": {
        "id": "MlD8v-U0S6tp",
        "colab_type": "code",
        "colab": {}
      },
      "source": [
        "file.close()"
      ],
      "execution_count": 0,
      "outputs": []
    },
    {
      "cell_type": "code",
      "metadata": {
        "id": "nQuG5D1mTLwk",
        "colab_type": "code",
        "colab": {
          "base_uri": "https://localhost:8080/",
          "height": 54
        },
        "outputId": "d1f706a2-caf2-4846-8448-dd3c07ed4a4c"
      },
      "source": [
        "with open('mobile_cleaned.csv','r') as file:\n",
        "  line = file.readline().split(',')\n",
        "  print(line)"
      ],
      "execution_count": 109,
      "outputs": [
        {
          "output_type": "stream",
          "text": [
            "['sim_type', 'aperture', 'gpu_rank', 'weight', 'stand_by_time', 'processor_frequency', 'thickness', 'flash_type', 'front_camera_resolution', 'auto_focus', 'screen_size', 'frames_per_second', 'FM', 'no_of_reviews_in_gsmarena_in_week', 'os', 'phone_height', 'screen_protection', 'sim_size', 'price', 'talk_time', 'video_resolution', 'display_resolution', 'removable_battery', 'display_type', 'primary_camera_resolution', 'battery_type', 'ram_memory', 'internal_memory', 'brand_rank', 'no_of_cores', 'micro_sd_slot', 'screen_pixel_density', 'water_proof_rate', 'phone_width', 'expandable_memory', 'version', 'usb_type', 'battery_capacity', 'processor_rank', 'is_liked\\n']\n"
          ],
          "name": "stdout"
        }
      ]
    },
    {
      "cell_type": "code",
      "metadata": {
        "id": "7NS2xCjLUb6L",
        "colab_type": "code",
        "colab": {}
      },
      "source": [
        "with open('mobile_cleaned.csv','r') as file:\n",
        "  print(file.read())"
      ],
      "execution_count": 0,
      "outputs": []
    },
    {
      "cell_type": "code",
      "metadata": {
        "id": "Vkge4AoSUjgH",
        "colab_type": "code",
        "colab": {}
      },
      "source": [
        "with open('mobile_cleaned.csv','r') as file:\n",
        "  for line in file:\n",
        "    for word in line.split(','):\n",
        "      print(word,end=\" \")\n",
        "    print()"
      ],
      "execution_count": 0,
      "outputs": []
    },
    {
      "cell_type": "code",
      "metadata": {
        "id": "OHY0SncWUuFW",
        "colab_type": "code",
        "colab": {}
      },
      "source": [
        "with open('my_out.txt','w') as file:\n",
        "  file.write(\"hello from python code\")"
      ],
      "execution_count": 0,
      "outputs": []
    },
    {
      "cell_type": "code",
      "metadata": {
        "id": "uxrKfrVXVC9Y",
        "colab_type": "code",
        "colab": {
          "base_uri": "https://localhost:8080/",
          "height": 34
        },
        "outputId": "427b1a82-dd6b-47d0-8df4-7d02bc962837"
      },
      "source": [
        "!cat my_out.txt"
      ],
      "execution_count": 115,
      "outputs": [
        {
          "output_type": "stream",
          "text": [
            "hello from python code"
          ],
          "name": "stdout"
        }
      ]
    },
    {
      "cell_type": "code",
      "metadata": {
        "id": "9kCvhFCwVFtb",
        "colab_type": "code",
        "colab": {}
      },
      "source": [
        ""
      ],
      "execution_count": 0,
      "outputs": []
    }
  ]
}